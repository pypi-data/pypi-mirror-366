{
 "cells": [
  {
   "cell_type": "code",
   "execution_count": 2,
   "id": "7f21eee5",
   "metadata": {},
   "outputs": [],
   "source": [
    "# %% Import necessary libraries\n",
    "import matplotlib.pyplot as plt\n",
    "import numpy as np\n",
    "\n",
    "from comms_lib.pluto import Pluto"
   ]
  },
  {
   "cell_type": "code",
   "execution_count": null,
   "id": "f9829da7",
   "metadata": {},
   "outputs": [],
   "source": [
    "# %% Initialize Pluto SDR\n",
    "sample_rate = 1e6  # baseband sampling rate (samples per second)\n",
    "\n",
    "sdr = Pluto(\"ip:192.168.2.1\")\n",
    "sdr.carrier_frequency = 815e6  # Set carrier frequency for transmission and reception\n",
    "sdr.sample_rate = int(sample_rate)  # Set baseband sampling rate of Pluto\n",
    "\n",
    "# %% Generate a signal to transmit\n",
    "N = 10000  # number of samples to transmit\n",
    "t = np.arange(N) / sample_rate  # time vector\n",
    "\n",
    "# TODO: generate a complex signal at 10kHz. Hint: use `np.exp`\n",
    "tx_signal = np.zeros(N, dtype=np.complex64)  # Change this line\n",
    "\n",
    "# %% Transmit and receive signal\n",
    "# sdr.tx_gain = 0\n",
    "sdr.tx(tx_signal)\n",
    "\n",
    "rx_signal = sdr.rx()  # Capture raw samples from Pluto\n",
    "\n",
    "# plot the received signal\n",
    "plt.figure()\n",
    "plt.plot(np.real(rx_signal), np.imag(rx_signal), \".\")\n",
    "plt.xlabel(\"In-Phase (I)\")\n",
    "plt.ylabel(\"Quadrature (Q)\")\n",
    "plt.title(\"Received Signal in IQ Plane\")\n",
    "plt.grid(True)\n",
    "plt.axis(\"equal\")\n",
    "plt.show()\n",
    "\n",
    "# TODO: plot the fft of the received signal\n",
    "rx_fft = np.zeros(len(rx_signal), dtype=np.complex64)  # Change this line!!\n",
    "\n",
    "# Get the actual frequency of the FFT: from -sample_rate/2 to sample_rate/2\n",
    "f = np.linspace(sample_rate / -2, sample_rate / 2, len(rx_fft))\n",
    "\n",
    "plt.figure()\n",
    "plt.plot(f / 1e3, rx_fft, color=\"black\")\n",
    "plt.xlabel(\"Frequency (kHz)\")\n",
    "plt.ylabel(\"Magnitude\")\n",
    "plt.title(\"Oversampled FFT of Received Signal\")\n",
    "plt.grid(True)\n",
    "plt.show()"
   ]
  },
  {
   "cell_type": "markdown",
   "id": "1b92cea4",
   "metadata": {},
   "source": [
    "### Antenna Resonance Frequency\n",
    "\n",
    "As mentioned in the lecture, the resonance frequency of an antenna is determined by its physical dimensions. In the next section, we will empirically determine the resonance frequency of a dipole antenna by checking the received signal strength at various frequencies.\n",
    "\n",
    "- At each frequency, you can transmit the same test signal you used in the previous section.\n",
    "- Measure the received signal strength at each frequency. Hint: use `np.abs()` to get the absolute value of the received signal strength.\n",
    "- Plot the received signal strength against frequency to visualize the resonance frequency. What's the resonance frequency of the dipole antenna?"
   ]
  },
  {
   "cell_type": "code",
   "execution_count": null,
   "id": "7844e1cc",
   "metadata": {},
   "outputs": [],
   "source": [
    "# %% Find the antenna resonance frequency by transmitting the same signal across dif\n",
    "# ferent frequencies\n",
    "frequencies = np.linspace(2000e6, 3000e6, 100)\n",
    "rx_powers = []\n",
    "\n",
    "for f in frequencies:\n",
    "    # TODO: complete this `for` loop to transmit and receive at each frequency\n",
    "    pass\n",
    "\n",
    "rx_powers = np.array(rx_powers) / np.max(rx_powers)  # Normalize the received powers\n",
    "rx_powers_db = 10 * np.log10(rx_powers)  # Convert to dB scale\n",
    "\n",
    "# TODO: plot the received powers against frequencies"
   ]
  }
 ],
 "metadata": {
  "kernelspec": {
   "display_name": ".venv",
   "language": "python",
   "name": "python3"
  },
  "language_info": {
   "codemirror_mode": {
    "name": "ipython",
    "version": 3
   },
   "file_extension": ".py",
   "mimetype": "text/x-python",
   "name": "python",
   "nbconvert_exporter": "python",
   "pygments_lexer": "ipython3",
   "version": "3.13.5"
  }
 },
 "nbformat": 4,
 "nbformat_minor": 5
}
