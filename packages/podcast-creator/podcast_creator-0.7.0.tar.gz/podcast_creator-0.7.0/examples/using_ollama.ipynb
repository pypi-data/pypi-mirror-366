{
 "cells": [
  {
   "cell_type": "code",
   "execution_count": 2,
   "id": "caa7abba",
   "metadata": {},
   "outputs": [],
   "source": [
    "# pip install langchain_ollama"
   ]
  },
  {
   "cell_type": "code",
   "execution_count": 3,
   "id": "caa5c01e",
   "metadata": {},
   "outputs": [
    {
     "name": "stderr",
     "output_type": "stream",
     "text": [
      "\u001b[32m2025-07-08 18:31:42.689\u001b[0m | \u001b[1mINFO    \u001b[0m | \u001b[36mpodcast_creator.nodes\u001b[0m:\u001b[36mgenerate_outline_node\u001b[0m:\u001b[36m22\u001b[0m - \u001b[1mStarting outline generation\u001b[0m\n",
      "\u001b[32m2025-07-08 18:31:42.732\u001b[0m | \u001b[34m\u001b[1mDEBUG   \u001b[0m | \u001b[36mpodcast_creator.config\u001b[0m:\u001b[36mget_template_prompter\u001b[0m:\u001b[36m262\u001b[0m - \u001b[34m\u001b[1mUsing bundled template for 'outline'\u001b[0m\n",
      "\u001b[32m2025-07-08 18:32:01.840\u001b[0m | \u001b[1mINFO    \u001b[0m | \u001b[36mpodcast_creator.nodes\u001b[0m:\u001b[36mgenerate_outline_node\u001b[0m:\u001b[36m52\u001b[0m - \u001b[1mGenerated outline with 4 segments\u001b[0m\n",
      "\u001b[32m2025-07-08 18:32:01.842\u001b[0m | \u001b[1mINFO    \u001b[0m | \u001b[36mpodcast_creator.nodes\u001b[0m:\u001b[36mgenerate_transcript_node\u001b[0m:\u001b[36m59\u001b[0m - \u001b[1mStarting transcript generation\u001b[0m\n",
      "\u001b[32m2025-07-08 18:32:01.877\u001b[0m | \u001b[1mINFO    \u001b[0m | \u001b[36mpodcast_creator.nodes\u001b[0m:\u001b[36mgenerate_transcript_node\u001b[0m:\u001b[36m87\u001b[0m - \u001b[1mGenerating transcript for segment 1/4: Introduction: The World of Large Diffusion Models\u001b[0m\n",
      "\u001b[32m2025-07-08 18:32:01.879\u001b[0m | \u001b[34m\u001b[1mDEBUG   \u001b[0m | \u001b[36mpodcast_creator.config\u001b[0m:\u001b[36mget_template_prompter\u001b[0m:\u001b[36m262\u001b[0m - \u001b[34m\u001b[1mUsing bundled template for 'transcript'\u001b[0m\n",
      "\u001b[32m2025-07-08 18:32:24.139\u001b[0m | \u001b[1mINFO    \u001b[0m | \u001b[36mpodcast_creator.nodes\u001b[0m:\u001b[36mgenerate_transcript_node\u001b[0m:\u001b[36m87\u001b[0m - \u001b[1mGenerating transcript for segment 2/4: What Are Large Diffusion Models?\u001b[0m\n",
      "\u001b[32m2025-07-08 18:32:24.140\u001b[0m | \u001b[34m\u001b[1mDEBUG   \u001b[0m | \u001b[36mpodcast_creator.config\u001b[0m:\u001b[36mget_template_prompter\u001b[0m:\u001b[36m262\u001b[0m - \u001b[34m\u001b[1mUsing bundled template for 'transcript'\u001b[0m\n",
      "\u001b[32m2025-07-08 18:32:43.534\u001b[0m | \u001b[1mINFO    \u001b[0m | \u001b[36mpodcast_creator.nodes\u001b[0m:\u001b[36mgenerate_transcript_node\u001b[0m:\u001b[36m87\u001b[0m - \u001b[1mGenerating transcript for segment 3/4: How They Work: From Noise to Art\u001b[0m\n",
      "\u001b[32m2025-07-08 18:32:43.535\u001b[0m | \u001b[34m\u001b[1mDEBUG   \u001b[0m | \u001b[36mpodcast_creator.config\u001b[0m:\u001b[36mget_template_prompter\u001b[0m:\u001b[36m262\u001b[0m - \u001b[34m\u001b[1mUsing bundled template for 'transcript'\u001b[0m\n",
      "\u001b[32m2025-07-08 18:33:02.123\u001b[0m | \u001b[1mINFO    \u001b[0m | \u001b[36mpodcast_creator.nodes\u001b[0m:\u001b[36mgenerate_transcript_node\u001b[0m:\u001b[36m87\u001b[0m - \u001b[1mGenerating transcript for segment 4/4: The Future of Diffusion Models: Challenges and Opportunities\u001b[0m\n",
      "\u001b[32m2025-07-08 18:33:02.123\u001b[0m | \u001b[34m\u001b[1mDEBUG   \u001b[0m | \u001b[36mpodcast_creator.config\u001b[0m:\u001b[36mget_template_prompter\u001b[0m:\u001b[36m262\u001b[0m - \u001b[34m\u001b[1mUsing bundled template for 'transcript'\u001b[0m\n",
      "\u001b[32m2025-07-08 18:33:13.245\u001b[0m | \u001b[1mINFO    \u001b[0m | \u001b[36mpodcast_creator.nodes\u001b[0m:\u001b[36mgenerate_transcript_node\u001b[0m:\u001b[36m112\u001b[0m - \u001b[1mGenerated transcript with 22 dialogue segments\u001b[0m\n",
      "\u001b[32m2025-07-08 18:33:13.249\u001b[0m | \u001b[1mINFO    \u001b[0m | \u001b[36mpodcast_creator.nodes\u001b[0m:\u001b[36mroute_audio_generation\u001b[0m:\u001b[36m122\u001b[0m - \u001b[1mRouting 22 dialogue segments for sequential batch processing\u001b[0m\n",
      "\u001b[32m2025-07-08 18:33:13.252\u001b[0m | \u001b[1mINFO    \u001b[0m | \u001b[36mpodcast_creator.nodes\u001b[0m:\u001b[36mgenerate_all_audio_node\u001b[0m:\u001b[36m146\u001b[0m - \u001b[1mGenerating 22 audio clips in sequential batches of 5\u001b[0m\n",
      "\u001b[32m2025-07-08 18:33:13.252\u001b[0m | \u001b[1mINFO    \u001b[0m | \u001b[36mpodcast_creator.nodes\u001b[0m:\u001b[36mgenerate_all_audio_node\u001b[0m:\u001b[36m158\u001b[0m - \u001b[1mProcessing batch 1/5 (clips 0-4)\u001b[0m\n",
      "\u001b[32m2025-07-08 18:33:13.253\u001b[0m | \u001b[1mINFO    \u001b[0m | \u001b[36mpodcast_creator.nodes\u001b[0m:\u001b[36mgenerate_single_audio_clip\u001b[0m:\u001b[36m200\u001b[0m - \u001b[1mGenerating audio clip 0000 for Professor Feynman\u001b[0m\n",
      "\u001b[32m2025-07-08 18:33:13.294\u001b[0m | \u001b[1mINFO    \u001b[0m | \u001b[36mpodcast_creator.nodes\u001b[0m:\u001b[36mgenerate_single_audio_clip\u001b[0m:\u001b[36m200\u001b[0m - \u001b[1mGenerating audio clip 0001 for Professor Feynman\u001b[0m\n",
      "\u001b[32m2025-07-08 18:33:13.295\u001b[0m | \u001b[1mINFO    \u001b[0m | \u001b[36mpodcast_creator.nodes\u001b[0m:\u001b[36mgenerate_single_audio_clip\u001b[0m:\u001b[36m200\u001b[0m - \u001b[1mGenerating audio clip 0002 for Professor Feynman\u001b[0m\n",
      "\u001b[32m2025-07-08 18:33:13.296\u001b[0m | \u001b[1mINFO    \u001b[0m | \u001b[36mpodcast_creator.nodes\u001b[0m:\u001b[36mgenerate_single_audio_clip\u001b[0m:\u001b[36m200\u001b[0m - \u001b[1mGenerating audio clip 0003 for Professor Feynman\u001b[0m\n",
      "\u001b[32m2025-07-08 18:33:13.298\u001b[0m | \u001b[1mINFO    \u001b[0m | \u001b[36mpodcast_creator.nodes\u001b[0m:\u001b[36mgenerate_single_audio_clip\u001b[0m:\u001b[36m200\u001b[0m - \u001b[1mGenerating audio clip 0004 for Professor Feynman\u001b[0m\n",
      "\u001b[32m2025-07-08 18:33:16.477\u001b[0m | \u001b[1mINFO    \u001b[0m | \u001b[36mpodcast_creator.nodes\u001b[0m:\u001b[36mgenerate_single_audio_clip\u001b[0m:\u001b[36m218\u001b[0m - \u001b[1mGenerated audio clip: output/teach_me_ollama/clips/0002.mp3\u001b[0m\n",
      "\u001b[32m2025-07-08 18:33:17.175\u001b[0m | \u001b[1mINFO    \u001b[0m | \u001b[36mpodcast_creator.nodes\u001b[0m:\u001b[36mgenerate_single_audio_clip\u001b[0m:\u001b[36m218\u001b[0m - \u001b[1mGenerated audio clip: output/teach_me_ollama/clips/0003.mp3\u001b[0m\n",
      "\u001b[32m2025-07-08 18:33:18.098\u001b[0m | \u001b[1mINFO    \u001b[0m | \u001b[36mpodcast_creator.nodes\u001b[0m:\u001b[36mgenerate_single_audio_clip\u001b[0m:\u001b[36m218\u001b[0m - \u001b[1mGenerated audio clip: output/teach_me_ollama/clips/0004.mp3\u001b[0m\n",
      "\u001b[32m2025-07-08 18:33:20.898\u001b[0m | \u001b[1mINFO    \u001b[0m | \u001b[36mpodcast_creator.nodes\u001b[0m:\u001b[36mgenerate_single_audio_clip\u001b[0m:\u001b[36m218\u001b[0m - \u001b[1mGenerated audio clip: output/teach_me_ollama/clips/0001.mp3\u001b[0m\n",
      "\u001b[32m2025-07-08 18:33:23.480\u001b[0m | \u001b[1mINFO    \u001b[0m | \u001b[36mpodcast_creator.nodes\u001b[0m:\u001b[36mgenerate_single_audio_clip\u001b[0m:\u001b[36m218\u001b[0m - \u001b[1mGenerated audio clip: output/teach_me_ollama/clips/0000.mp3\u001b[0m\n",
      "\u001b[32m2025-07-08 18:33:23.482\u001b[0m | \u001b[1mINFO    \u001b[0m | \u001b[36mpodcast_creator.nodes\u001b[0m:\u001b[36mgenerate_all_audio_node\u001b[0m:\u001b[36m180\u001b[0m - \u001b[1mCompleted batch 1/5\u001b[0m\n",
      "\u001b[32m2025-07-08 18:33:24.487\u001b[0m | \u001b[1mINFO    \u001b[0m | \u001b[36mpodcast_creator.nodes\u001b[0m:\u001b[36mgenerate_all_audio_node\u001b[0m:\u001b[36m158\u001b[0m - \u001b[1mProcessing batch 2/5 (clips 5-9)\u001b[0m\n",
      "\u001b[32m2025-07-08 18:33:24.487\u001b[0m | \u001b[1mINFO    \u001b[0m | \u001b[36mpodcast_creator.nodes\u001b[0m:\u001b[36mgenerate_single_audio_clip\u001b[0m:\u001b[36m200\u001b[0m - \u001b[1mGenerating audio clip 0005 for Professor Feynman\u001b[0m\n",
      "\u001b[32m2025-07-08 18:33:24.488\u001b[0m | \u001b[1mINFO    \u001b[0m | \u001b[36mpodcast_creator.nodes\u001b[0m:\u001b[36mgenerate_single_audio_clip\u001b[0m:\u001b[36m200\u001b[0m - \u001b[1mGenerating audio clip 0006 for Professor Feynman\u001b[0m\n",
      "\u001b[32m2025-07-08 18:33:24.489\u001b[0m | \u001b[1mINFO    \u001b[0m | \u001b[36mpodcast_creator.nodes\u001b[0m:\u001b[36mgenerate_single_audio_clip\u001b[0m:\u001b[36m200\u001b[0m - \u001b[1mGenerating audio clip 0007 for Professor Feynman\u001b[0m\n",
      "\u001b[32m2025-07-08 18:33:24.490\u001b[0m | \u001b[1mINFO    \u001b[0m | \u001b[36mpodcast_creator.nodes\u001b[0m:\u001b[36mgenerate_single_audio_clip\u001b[0m:\u001b[36m200\u001b[0m - \u001b[1mGenerating audio clip 0008 for Professor Feynman\u001b[0m\n",
      "\u001b[32m2025-07-08 18:33:24.490\u001b[0m | \u001b[1mINFO    \u001b[0m | \u001b[36mpodcast_creator.nodes\u001b[0m:\u001b[36mgenerate_single_audio_clip\u001b[0m:\u001b[36m200\u001b[0m - \u001b[1mGenerating audio clip 0009 for Professor Feynman\u001b[0m\n",
      "\u001b[32m2025-07-08 18:33:27.495\u001b[0m | \u001b[1mINFO    \u001b[0m | \u001b[36mpodcast_creator.nodes\u001b[0m:\u001b[36mgenerate_single_audio_clip\u001b[0m:\u001b[36m218\u001b[0m - \u001b[1mGenerated audio clip: output/teach_me_ollama/clips/0008.mp3\u001b[0m\n",
      "\u001b[32m2025-07-08 18:33:27.745\u001b[0m | \u001b[1mINFO    \u001b[0m | \u001b[36mpodcast_creator.nodes\u001b[0m:\u001b[36mgenerate_single_audio_clip\u001b[0m:\u001b[36m218\u001b[0m - \u001b[1mGenerated audio clip: output/teach_me_ollama/clips/0007.mp3\u001b[0m\n",
      "\u001b[32m2025-07-08 18:33:27.992\u001b[0m | \u001b[1mINFO    \u001b[0m | \u001b[36mpodcast_creator.nodes\u001b[0m:\u001b[36mgenerate_single_audio_clip\u001b[0m:\u001b[36m218\u001b[0m - \u001b[1mGenerated audio clip: output/teach_me_ollama/clips/0005.mp3\u001b[0m\n",
      "\u001b[32m2025-07-08 18:33:28.439\u001b[0m | \u001b[1mINFO    \u001b[0m | \u001b[36mpodcast_creator.nodes\u001b[0m:\u001b[36mgenerate_single_audio_clip\u001b[0m:\u001b[36m218\u001b[0m - \u001b[1mGenerated audio clip: output/teach_me_ollama/clips/0009.mp3\u001b[0m\n",
      "\u001b[32m2025-07-08 18:33:29.120\u001b[0m | \u001b[1mINFO    \u001b[0m | \u001b[36mpodcast_creator.nodes\u001b[0m:\u001b[36mgenerate_single_audio_clip\u001b[0m:\u001b[36m218\u001b[0m - \u001b[1mGenerated audio clip: output/teach_me_ollama/clips/0006.mp3\u001b[0m\n",
      "\u001b[32m2025-07-08 18:33:29.121\u001b[0m | \u001b[1mINFO    \u001b[0m | \u001b[36mpodcast_creator.nodes\u001b[0m:\u001b[36mgenerate_all_audio_node\u001b[0m:\u001b[36m180\u001b[0m - \u001b[1mCompleted batch 2/5\u001b[0m\n",
      "\u001b[32m2025-07-08 18:33:30.121\u001b[0m | \u001b[1mINFO    \u001b[0m | \u001b[36mpodcast_creator.nodes\u001b[0m:\u001b[36mgenerate_all_audio_node\u001b[0m:\u001b[36m158\u001b[0m - \u001b[1mProcessing batch 3/5 (clips 10-14)\u001b[0m\n",
      "\u001b[32m2025-07-08 18:33:30.122\u001b[0m | \u001b[1mINFO    \u001b[0m | \u001b[36mpodcast_creator.nodes\u001b[0m:\u001b[36mgenerate_single_audio_clip\u001b[0m:\u001b[36m200\u001b[0m - \u001b[1mGenerating audio clip 0010 for Professor Feynman\u001b[0m\n",
      "\u001b[32m2025-07-08 18:33:30.123\u001b[0m | \u001b[1mINFO    \u001b[0m | \u001b[36mpodcast_creator.nodes\u001b[0m:\u001b[36mgenerate_single_audio_clip\u001b[0m:\u001b[36m200\u001b[0m - \u001b[1mGenerating audio clip 0011 for Professor Feynman\u001b[0m\n",
      "\u001b[32m2025-07-08 18:33:30.124\u001b[0m | \u001b[1mINFO    \u001b[0m | \u001b[36mpodcast_creator.nodes\u001b[0m:\u001b[36mgenerate_single_audio_clip\u001b[0m:\u001b[36m200\u001b[0m - \u001b[1mGenerating audio clip 0012 for Professor Feynman\u001b[0m\n",
      "\u001b[32m2025-07-08 18:33:30.125\u001b[0m | \u001b[1mINFO    \u001b[0m | \u001b[36mpodcast_creator.nodes\u001b[0m:\u001b[36mgenerate_single_audio_clip\u001b[0m:\u001b[36m200\u001b[0m - \u001b[1mGenerating audio clip 0013 for Professor Feynman\u001b[0m\n",
      "\u001b[32m2025-07-08 18:33:30.126\u001b[0m | \u001b[1mINFO    \u001b[0m | \u001b[36mpodcast_creator.nodes\u001b[0m:\u001b[36mgenerate_single_audio_clip\u001b[0m:\u001b[36m200\u001b[0m - \u001b[1mGenerating audio clip 0014 for Professor Feynman\u001b[0m\n",
      "\u001b[32m2025-07-08 18:33:32.623\u001b[0m | \u001b[1mINFO    \u001b[0m | \u001b[36mpodcast_creator.nodes\u001b[0m:\u001b[36mgenerate_single_audio_clip\u001b[0m:\u001b[36m218\u001b[0m - \u001b[1mGenerated audio clip: output/teach_me_ollama/clips/0010.mp3\u001b[0m\n",
      "\u001b[32m2025-07-08 18:33:32.735\u001b[0m | \u001b[1mINFO    \u001b[0m | \u001b[36mpodcast_creator.nodes\u001b[0m:\u001b[36mgenerate_single_audio_clip\u001b[0m:\u001b[36m218\u001b[0m - \u001b[1mGenerated audio clip: output/teach_me_ollama/clips/0014.mp3\u001b[0m\n",
      "\u001b[32m2025-07-08 18:33:33.271\u001b[0m | \u001b[1mINFO    \u001b[0m | \u001b[36mpodcast_creator.nodes\u001b[0m:\u001b[36mgenerate_single_audio_clip\u001b[0m:\u001b[36m218\u001b[0m - \u001b[1mGenerated audio clip: output/teach_me_ollama/clips/0012.mp3\u001b[0m\n",
      "\u001b[32m2025-07-08 18:33:33.277\u001b[0m | \u001b[1mINFO    \u001b[0m | \u001b[36mpodcast_creator.nodes\u001b[0m:\u001b[36mgenerate_single_audio_clip\u001b[0m:\u001b[36m218\u001b[0m - \u001b[1mGenerated audio clip: output/teach_me_ollama/clips/0011.mp3\u001b[0m\n",
      "\u001b[32m2025-07-08 18:33:33.335\u001b[0m | \u001b[1mINFO    \u001b[0m | \u001b[36mpodcast_creator.nodes\u001b[0m:\u001b[36mgenerate_single_audio_clip\u001b[0m:\u001b[36m218\u001b[0m - \u001b[1mGenerated audio clip: output/teach_me_ollama/clips/0013.mp3\u001b[0m\n",
      "\u001b[32m2025-07-08 18:33:33.335\u001b[0m | \u001b[1mINFO    \u001b[0m | \u001b[36mpodcast_creator.nodes\u001b[0m:\u001b[36mgenerate_all_audio_node\u001b[0m:\u001b[36m180\u001b[0m - \u001b[1mCompleted batch 3/5\u001b[0m\n",
      "\u001b[32m2025-07-08 18:33:34.336\u001b[0m | \u001b[1mINFO    \u001b[0m | \u001b[36mpodcast_creator.nodes\u001b[0m:\u001b[36mgenerate_all_audio_node\u001b[0m:\u001b[36m158\u001b[0m - \u001b[1mProcessing batch 4/5 (clips 15-19)\u001b[0m\n",
      "\u001b[32m2025-07-08 18:33:34.336\u001b[0m | \u001b[1mINFO    \u001b[0m | \u001b[36mpodcast_creator.nodes\u001b[0m:\u001b[36mgenerate_single_audio_clip\u001b[0m:\u001b[36m200\u001b[0m - \u001b[1mGenerating audio clip 0015 for Professor Feynman\u001b[0m\n",
      "\u001b[32m2025-07-08 18:33:34.338\u001b[0m | \u001b[1mINFO    \u001b[0m | \u001b[36mpodcast_creator.nodes\u001b[0m:\u001b[36mgenerate_single_audio_clip\u001b[0m:\u001b[36m200\u001b[0m - \u001b[1mGenerating audio clip 0016 for Professor Feynman\u001b[0m\n",
      "\u001b[32m2025-07-08 18:33:34.339\u001b[0m | \u001b[1mINFO    \u001b[0m | \u001b[36mpodcast_creator.nodes\u001b[0m:\u001b[36mgenerate_single_audio_clip\u001b[0m:\u001b[36m200\u001b[0m - \u001b[1mGenerating audio clip 0017 for Professor Feynman\u001b[0m\n",
      "\u001b[32m2025-07-08 18:33:34.339\u001b[0m | \u001b[1mINFO    \u001b[0m | \u001b[36mpodcast_creator.nodes\u001b[0m:\u001b[36mgenerate_single_audio_clip\u001b[0m:\u001b[36m200\u001b[0m - \u001b[1mGenerating audio clip 0018 for Professor Feynman\u001b[0m\n",
      "\u001b[32m2025-07-08 18:33:34.340\u001b[0m | \u001b[1mINFO    \u001b[0m | \u001b[36mpodcast_creator.nodes\u001b[0m:\u001b[36mgenerate_single_audio_clip\u001b[0m:\u001b[36m200\u001b[0m - \u001b[1mGenerating audio clip 0019 for Professor Feynman\u001b[0m\n",
      "\u001b[32m2025-07-08 18:33:37.235\u001b[0m | \u001b[1mINFO    \u001b[0m | \u001b[36mpodcast_creator.nodes\u001b[0m:\u001b[36mgenerate_single_audio_clip\u001b[0m:\u001b[36m218\u001b[0m - \u001b[1mGenerated audio clip: output/teach_me_ollama/clips/0017.mp3\u001b[0m\n",
      "\u001b[32m2025-07-08 18:33:37.328\u001b[0m | \u001b[1mINFO    \u001b[0m | \u001b[36mpodcast_creator.nodes\u001b[0m:\u001b[36mgenerate_single_audio_clip\u001b[0m:\u001b[36m218\u001b[0m - \u001b[1mGenerated audio clip: output/teach_me_ollama/clips/0015.mp3\u001b[0m\n",
      "\u001b[32m2025-07-08 18:33:37.364\u001b[0m | \u001b[1mINFO    \u001b[0m | \u001b[36mpodcast_creator.nodes\u001b[0m:\u001b[36mgenerate_single_audio_clip\u001b[0m:\u001b[36m218\u001b[0m - \u001b[1mGenerated audio clip: output/teach_me_ollama/clips/0016.mp3\u001b[0m\n",
      "\u001b[32m2025-07-08 18:33:37.467\u001b[0m | \u001b[1mINFO    \u001b[0m | \u001b[36mpodcast_creator.nodes\u001b[0m:\u001b[36mgenerate_single_audio_clip\u001b[0m:\u001b[36m218\u001b[0m - \u001b[1mGenerated audio clip: output/teach_me_ollama/clips/0018.mp3\u001b[0m\n",
      "\u001b[32m2025-07-08 18:33:39.754\u001b[0m | \u001b[1mINFO    \u001b[0m | \u001b[36mpodcast_creator.nodes\u001b[0m:\u001b[36mgenerate_single_audio_clip\u001b[0m:\u001b[36m218\u001b[0m - \u001b[1mGenerated audio clip: output/teach_me_ollama/clips/0019.mp3\u001b[0m\n",
      "\u001b[32m2025-07-08 18:33:39.754\u001b[0m | \u001b[1mINFO    \u001b[0m | \u001b[36mpodcast_creator.nodes\u001b[0m:\u001b[36mgenerate_all_audio_node\u001b[0m:\u001b[36m180\u001b[0m - \u001b[1mCompleted batch 4/5\u001b[0m\n",
      "\u001b[32m2025-07-08 18:33:40.755\u001b[0m | \u001b[1mINFO    \u001b[0m | \u001b[36mpodcast_creator.nodes\u001b[0m:\u001b[36mgenerate_all_audio_node\u001b[0m:\u001b[36m158\u001b[0m - \u001b[1mProcessing batch 5/5 (clips 20-21)\u001b[0m\n",
      "\u001b[32m2025-07-08 18:33:40.756\u001b[0m | \u001b[1mINFO    \u001b[0m | \u001b[36mpodcast_creator.nodes\u001b[0m:\u001b[36mgenerate_single_audio_clip\u001b[0m:\u001b[36m200\u001b[0m - \u001b[1mGenerating audio clip 0020 for Professor Feynman\u001b[0m\n",
      "\u001b[32m2025-07-08 18:33:40.757\u001b[0m | \u001b[1mINFO    \u001b[0m | \u001b[36mpodcast_creator.nodes\u001b[0m:\u001b[36mgenerate_single_audio_clip\u001b[0m:\u001b[36m200\u001b[0m - \u001b[1mGenerating audio clip 0021 for Professor Feynman\u001b[0m\n",
      "\u001b[32m2025-07-08 18:33:44.685\u001b[0m | \u001b[1mINFO    \u001b[0m | \u001b[36mpodcast_creator.nodes\u001b[0m:\u001b[36mgenerate_single_audio_clip\u001b[0m:\u001b[36m218\u001b[0m - \u001b[1mGenerated audio clip: output/teach_me_ollama/clips/0021.mp3\u001b[0m\n",
      "\u001b[32m2025-07-08 18:33:46.206\u001b[0m | \u001b[1mINFO    \u001b[0m | \u001b[36mpodcast_creator.nodes\u001b[0m:\u001b[36mgenerate_single_audio_clip\u001b[0m:\u001b[36m218\u001b[0m - \u001b[1mGenerated audio clip: output/teach_me_ollama/clips/0020.mp3\u001b[0m\n",
      "\u001b[32m2025-07-08 18:33:46.207\u001b[0m | \u001b[1mINFO    \u001b[0m | \u001b[36mpodcast_creator.nodes\u001b[0m:\u001b[36mgenerate_all_audio_node\u001b[0m:\u001b[36m180\u001b[0m - \u001b[1mCompleted batch 5/5\u001b[0m\n",
      "\u001b[32m2025-07-08 18:33:46.207\u001b[0m | \u001b[1mINFO    \u001b[0m | \u001b[36mpodcast_creator.nodes\u001b[0m:\u001b[36mgenerate_all_audio_node\u001b[0m:\u001b[36m186\u001b[0m - \u001b[1mGenerated all 22 audio clips\u001b[0m\n",
      "\u001b[32m2025-07-08 18:33:46.209\u001b[0m | \u001b[1mINFO    \u001b[0m | \u001b[36mpodcast_creator.nodes\u001b[0m:\u001b[36mcombine_audio_node\u001b[0m:\u001b[36m225\u001b[0m - \u001b[1mStarting audio combination\u001b[0m\n",
      "\u001b[32m2025-07-08 18:33:46.209\u001b[0m | \u001b[1mINFO    \u001b[0m | \u001b[36mpodcast_creator.core\u001b[0m:\u001b[36mcombine_audio_files\u001b[0m:\u001b[36m170\u001b[0m - \u001b[1m[Core Function] combine_audio_files called.\u001b[0m\n",
      "\u001b[32m2025-07-08 18:33:46.210\u001b[0m | \u001b[33m\u001b[1mWARNING \u001b[0m | \u001b[36mpodcast_creator.core\u001b[0m:\u001b[36mcombine_audio_files\u001b[0m:\u001b[36m178\u001b[0m - \u001b[33m\u001b[1m[PosixPath('output/teach_me_ollama/clips/0000.mp3'), PosixPath('output/teach_me_ollama/clips/0001.mp3'), PosixPath('output/teach_me_ollama/clips/0002.mp3'), PosixPath('output/teach_me_ollama/clips/0003.mp3'), PosixPath('output/teach_me_ollama/clips/0004.mp3'), PosixPath('output/teach_me_ollama/clips/0005.mp3'), PosixPath('output/teach_me_ollama/clips/0006.mp3'), PosixPath('output/teach_me_ollama/clips/0007.mp3'), PosixPath('output/teach_me_ollama/clips/0008.mp3'), PosixPath('output/teach_me_ollama/clips/0009.mp3'), PosixPath('output/teach_me_ollama/clips/0010.mp3'), PosixPath('output/teach_me_ollama/clips/0011.mp3'), PosixPath('output/teach_me_ollama/clips/0012.mp3'), PosixPath('output/teach_me_ollama/clips/0013.mp3'), PosixPath('output/teach_me_ollama/clips/0014.mp3'), PosixPath('output/teach_me_ollama/clips/0015.mp3'), PosixPath('output/teach_me_ollama/clips/0016.mp3'), PosixPath('output/teach_me_ollama/clips/0017.mp3'), PosixPath('output/teach_me_ollama/clips/0018.mp3'), PosixPath('output/teach_me_ollama/clips/0019.mp3'), PosixPath('output/teach_me_ollama/clips/0020.mp3'), PosixPath('output/teach_me_ollama/clips/0021.mp3')]\u001b[0m\n"
     ]
    },
    {
     "name": "stdout",
     "output_type": "stream",
     "text": [
      "MoviePy - Writing audio in output/teach_me_ollama/audio/teach_me_ollama.mp3\n"
     ]
    },
    {
     "name": "stderr",
     "output_type": "stream",
     "text": [
      "\u001b[32m2025-07-08 18:33:49.805\u001b[0m | \u001b[1mINFO    \u001b[0m | \u001b[36mpodcast_creator.core\u001b[0m:\u001b[36mcombine_audio_files\u001b[0m:\u001b[36m239\u001b[0m - \u001b[1mSuccessfully combined audio to: /Users/luisnovo/dev/projetos/podcast-creator/podcast-creator/examples/output/teach_me_ollama/audio/teach_me_ollama.mp3\u001b[0m\n",
      "\u001b[32m2025-07-08 18:33:49.810\u001b[0m | \u001b[1mINFO    \u001b[0m | \u001b[36mpodcast_creator.nodes\u001b[0m:\u001b[36mcombine_audio_node\u001b[0m:\u001b[36m236\u001b[0m - \u001b[1mCombined audio saved to: /Users/luisnovo/dev/projetos/podcast-creator/podcast-creator/examples/output/teach_me_ollama/audio/teach_me_ollama.mp3\u001b[0m\n"
     ]
    },
    {
     "name": "stdout",
     "output_type": "stream",
     "text": [
      "MoviePy - Done.\n"
     ]
    }
   ],
   "source": [
    "from podcast_creator import create_podcast\n",
    "import os\n",
    "\n",
    "os.environ[\"OLLAMA_BASE_URL\"] = \"http://10.20.30.20:11434\"\n",
    "\n",
    "briefing = \"\"\"\n",
    "Create an exciting podcast on the topic of \"Large Diffusion Models\"\n",
    "\"\"\"\n",
    "\n",
    "result = await create_podcast(\n",
    "    content=None,\n",
    "    briefing=briefing,\n",
    "    episode_name=\"teach_me_ollama\",\n",
    "    output_dir=\"output/teach_me_ollama\",\n",
    "    speaker_config=\"solo_expert\",\n",
    "    outline_provider=\"ollama\",\n",
    "    outline_model=\"qwen3:14b\",\n",
    "    transcript_provider=\"ollama\", \n",
    "    transcript_model=\"qwen3:14b\",\n",
    "    num_segments=4\n",
    ")\n",
    "\n"
   ]
  }
 ],
 "metadata": {
  "kernelspec": {
   "display_name": ".venv",
   "language": "python",
   "name": "python3"
  },
  "language_info": {
   "codemirror_mode": {
    "name": "ipython",
    "version": 3
   },
   "file_extension": ".py",
   "mimetype": "text/x-python",
   "name": "python",
   "nbconvert_exporter": "python",
   "pygments_lexer": "ipython3",
   "version": "3.11.7"
  }
 },
 "nbformat": 4,
 "nbformat_minor": 5
}
