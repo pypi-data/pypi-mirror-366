{
 "cells": [
  {
   "cell_type": "code",
   "execution_count": null,
   "id": "0ba73891",
   "metadata": {},
   "outputs": [
    {
     "name": "stderr",
     "output_type": "stream",
     "text": [
      "\u001b[32m2025-07-06 17:20:28.982\u001b[0m | \u001b[34m\u001b[1mDEBUG   \u001b[0m | \u001b[36mpodcast_creator.config\u001b[0m:\u001b[36mget_template_prompter\u001b[0m:\u001b[36m231\u001b[0m - \u001b[34m\u001b[1mUsing bundled template for 'outline'\u001b[0m\n",
      "\u001b[32m2025-07-06 17:20:28.988\u001b[0m | \u001b[34m\u001b[1mDEBUG   \u001b[0m | \u001b[36mpodcast_creator.config\u001b[0m:\u001b[36mget_template_prompter\u001b[0m:\u001b[36m231\u001b[0m - \u001b[34m\u001b[1mUsing bundled template for 'transcript'\u001b[0m\n",
      "\u001b[32m2025-07-06 17:20:29.747\u001b[0m | \u001b[1mINFO    \u001b[0m | \u001b[36mpodcast_creator.graph\u001b[0m:\u001b[36m<module>\u001b[0m:\u001b[36m18\u001b[0m - \u001b[1mCreating podcast generation graph\u001b[0m\n",
      "\u001b[32m2025-07-06 17:20:29.759\u001b[0m | \u001b[1mINFO    \u001b[0m | \u001b[36mpodcast_creator.nodes\u001b[0m:\u001b[36mgenerate_outline_node\u001b[0m:\u001b[36m22\u001b[0m - \u001b[1mStarting outline generation\u001b[0m\n",
      "\u001b[32m2025-07-06 17:20:30.416\u001b[0m | \u001b[34m\u001b[1mDEBUG   \u001b[0m | \u001b[36mpodcast_creator.config\u001b[0m:\u001b[36mget_template_prompter\u001b[0m:\u001b[36m231\u001b[0m - \u001b[34m\u001b[1mUsing bundled template for 'outline'\u001b[0m\n"
     ]
    }
   ],
   "source": [
    "from podcast_creator import configure, get_config, create_podcast\n",
    "from podcast_creator import create_podcast\n",
    "\n",
    "briefing = \"\"\"\n",
    "Create an exciting podcast on the topic of \"Large Diffusion Models\"\n",
    "\"\"\"\n",
    "\n",
    "result = await create_podcast(\n",
    "    content=None,\n",
    "    briefing=briefing,\n",
    "    episode_name=\"teach_me_now\",\n",
    "    output_dir=\"output/teach_me_now\",\n",
    "    speaker_config=\"solo_expert\",\n",
    "    outline_provider=\"perplexity\",\n",
    "    outline_model=\"sonar-pro\",\n",
    "    transcript_provider=\"perplexity\", \n",
    "    transcript_model=\"sonar-pro\",\n",
    "    num_segments=4\n",
    ")\n",
    "\n",
    "# Set configuration\n",
    "configure({\"prompts_dir\": \"podcast_stuff/prompts\", \"speakers_config\": \"podcast_stuff/speakers_config.json\"})\n",
    "\n"
   ]
  }
 ],
 "metadata": {
  "kernelspec": {
   "display_name": ".venv",
   "language": "python",
   "name": "python3"
  },
  "language_info": {
   "codemirror_mode": {
    "name": "ipython",
    "version": 3
   },
   "file_extension": ".py",
   "mimetype": "text/x-python",
   "name": "python",
   "nbconvert_exporter": "python",
   "pygments_lexer": "ipython3",
   "version": "3.11.7"
  }
 },
 "nbformat": 4,
 "nbformat_minor": 5
}
