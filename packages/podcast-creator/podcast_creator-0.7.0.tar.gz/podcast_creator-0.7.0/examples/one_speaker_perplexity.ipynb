{
 "cells": [
  {
   "cell_type": "code",
   "execution_count": null,
   "id": "d53d63f4",
   "metadata": {},
   "outputs": [
    {
     "name": "stderr",
     "output_type": "stream",
     "text": [
      "\u001b[32m2025-07-06 15:51:10.292\u001b[0m | \u001b[1mINFO    \u001b[0m | \u001b[36mpodcast_creator.graph\u001b[0m:\u001b[36m<module>\u001b[0m:\u001b[36m18\u001b[0m - \u001b[1mCreating podcast generation graph\u001b[0m\n",
      "\u001b[32m2025-07-06 15:51:10.300\u001b[0m | \u001b[1mINFO    \u001b[0m | \u001b[36mpodcast_creator.nodes\u001b[0m:\u001b[36mgenerate_outline_node\u001b[0m:\u001b[36m22\u001b[0m - \u001b[1mStarting outline generation\u001b[0m\n",
      "\u001b[32m2025-07-06 15:51:20.282\u001b[0m | \u001b[1mINFO    \u001b[0m | \u001b[36mpodcast_creator.nodes\u001b[0m:\u001b[36mgenerate_outline_node\u001b[0m:\u001b[36m51\u001b[0m - \u001b[1mGenerated outline with 4 segments\u001b[0m\n",
      "\u001b[32m2025-07-06 15:51:20.283\u001b[0m | \u001b[1mINFO    \u001b[0m | \u001b[36mpodcast_creator.nodes\u001b[0m:\u001b[36mgenerate_transcript_node\u001b[0m:\u001b[36m58\u001b[0m - \u001b[1mStarting transcript generation\u001b[0m\n",
      "\u001b[32m2025-07-06 15:51:20.320\u001b[0m | \u001b[1mINFO    \u001b[0m | \u001b[36mpodcast_creator.nodes\u001b[0m:\u001b[36mgenerate_transcript_node\u001b[0m:\u001b[36m86\u001b[0m - \u001b[1mGenerating transcript for segment 1/4: Welcome to the World of Large Diffusion Models\u001b[0m\n",
      "\u001b[32m2025-07-06 15:51:26.785\u001b[0m | \u001b[1mINFO    \u001b[0m | \u001b[36mpodcast_creator.nodes\u001b[0m:\u001b[36mgenerate_transcript_node\u001b[0m:\u001b[36m86\u001b[0m - \u001b[1mGenerating transcript for segment 2/4: Breaking Down the Magic: How Diffusion Models Work\u001b[0m\n",
      "\u001b[32m2025-07-06 15:51:33.452\u001b[0m | \u001b[1mINFO    \u001b[0m | \u001b[36mpodcast_creator.nodes\u001b[0m:\u001b[36mgenerate_transcript_node\u001b[0m:\u001b[36m86\u001b[0m - \u001b[1mGenerating transcript for segment 3/4: Scaling Up: Why 'Large' Matters and Real-World Impact\u001b[0m\n",
      "\u001b[32m2025-07-06 15:51:48.175\u001b[0m | \u001b[1mINFO    \u001b[0m | \u001b[36mpodcast_creator.nodes\u001b[0m:\u001b[36mgenerate_transcript_node\u001b[0m:\u001b[36m86\u001b[0m - \u001b[1mGenerating transcript for segment 4/4: Future Horizons and Big Questions\u001b[0m\n",
      "\u001b[32m2025-07-06 15:51:55.628\u001b[0m | \u001b[1mINFO    \u001b[0m | \u001b[36mpodcast_creator.nodes\u001b[0m:\u001b[36mgenerate_transcript_node\u001b[0m:\u001b[36m110\u001b[0m - \u001b[1mGenerated transcript with 25 dialogue segments\u001b[0m\n",
      "\u001b[32m2025-07-06 15:51:55.629\u001b[0m | \u001b[1mINFO    \u001b[0m | \u001b[36mpodcast_creator.nodes\u001b[0m:\u001b[36mroute_audio_generation\u001b[0m:\u001b[36m120\u001b[0m - \u001b[1mRouting 25 dialogue segments for sequential batch processing\u001b[0m\n",
      "\u001b[32m2025-07-06 15:51:55.632\u001b[0m | \u001b[1mINFO    \u001b[0m | \u001b[36mpodcast_creator.nodes\u001b[0m:\u001b[36mgenerate_all_audio_node\u001b[0m:\u001b[36m144\u001b[0m - \u001b[1mGenerating 25 audio clips in sequential batches of 5\u001b[0m\n",
      "\u001b[32m2025-07-06 15:51:55.633\u001b[0m | \u001b[1mINFO    \u001b[0m | \u001b[36mpodcast_creator.nodes\u001b[0m:\u001b[36mgenerate_all_audio_node\u001b[0m:\u001b[36m156\u001b[0m - \u001b[1mProcessing batch 1/5 (clips 0-4)\u001b[0m\n",
      "\u001b[32m2025-07-06 15:51:55.634\u001b[0m | \u001b[1mINFO    \u001b[0m | \u001b[36mpodcast_creator.nodes\u001b[0m:\u001b[36mgenerate_single_audio_clip\u001b[0m:\u001b[36m198\u001b[0m - \u001b[1mGenerating audio clip 0000 for Professor Feynman\u001b[0m\n",
      "\u001b[32m2025-07-06 15:51:55.684\u001b[0m | \u001b[1mINFO    \u001b[0m | \u001b[36mpodcast_creator.nodes\u001b[0m:\u001b[36mgenerate_single_audio_clip\u001b[0m:\u001b[36m198\u001b[0m - \u001b[1mGenerating audio clip 0001 for Professor Feynman\u001b[0m\n",
      "\u001b[32m2025-07-06 15:51:55.685\u001b[0m | \u001b[1mINFO    \u001b[0m | \u001b[36mpodcast_creator.nodes\u001b[0m:\u001b[36mgenerate_single_audio_clip\u001b[0m:\u001b[36m198\u001b[0m - \u001b[1mGenerating audio clip 0002 for Professor Feynman\u001b[0m\n",
      "\u001b[32m2025-07-06 15:51:55.686\u001b[0m | \u001b[1mINFO    \u001b[0m | \u001b[36mpodcast_creator.nodes\u001b[0m:\u001b[36mgenerate_single_audio_clip\u001b[0m:\u001b[36m198\u001b[0m - \u001b[1mGenerating audio clip 0003 for Professor Feynman\u001b[0m\n",
      "\u001b[32m2025-07-06 15:51:55.687\u001b[0m | \u001b[1mINFO    \u001b[0m | \u001b[36mpodcast_creator.nodes\u001b[0m:\u001b[36mgenerate_single_audio_clip\u001b[0m:\u001b[36m198\u001b[0m - \u001b[1mGenerating audio clip 0004 for Professor Feynman\u001b[0m\n",
      "\u001b[32m2025-07-06 15:51:59.585\u001b[0m | \u001b[1mINFO    \u001b[0m | \u001b[36mpodcast_creator.nodes\u001b[0m:\u001b[36mgenerate_single_audio_clip\u001b[0m:\u001b[36m216\u001b[0m - \u001b[1mGenerated audio clip: output/teach_me_now/clips/0002.mp3\u001b[0m\n",
      "\u001b[32m2025-07-06 15:51:59.848\u001b[0m | \u001b[1mINFO    \u001b[0m | \u001b[36mpodcast_creator.nodes\u001b[0m:\u001b[36mgenerate_single_audio_clip\u001b[0m:\u001b[36m216\u001b[0m - \u001b[1mGenerated audio clip: output/teach_me_now/clips/0001.mp3\u001b[0m\n",
      "\u001b[32m2025-07-06 15:52:00.236\u001b[0m | \u001b[1mINFO    \u001b[0m | \u001b[36mpodcast_creator.nodes\u001b[0m:\u001b[36mgenerate_single_audio_clip\u001b[0m:\u001b[36m216\u001b[0m - \u001b[1mGenerated audio clip: output/teach_me_now/clips/0004.mp3\u001b[0m\n",
      "\u001b[32m2025-07-06 15:52:00.462\u001b[0m | \u001b[1mINFO    \u001b[0m | \u001b[36mpodcast_creator.nodes\u001b[0m:\u001b[36mgenerate_single_audio_clip\u001b[0m:\u001b[36m216\u001b[0m - \u001b[1mGenerated audio clip: output/teach_me_now/clips/0000.mp3\u001b[0m\n",
      "\u001b[32m2025-07-06 15:52:00.631\u001b[0m | \u001b[1mINFO    \u001b[0m | \u001b[36mpodcast_creator.nodes\u001b[0m:\u001b[36mgenerate_single_audio_clip\u001b[0m:\u001b[36m216\u001b[0m - \u001b[1mGenerated audio clip: output/teach_me_now/clips/0003.mp3\u001b[0m\n",
      "\u001b[32m2025-07-06 15:52:00.632\u001b[0m | \u001b[1mINFO    \u001b[0m | \u001b[36mpodcast_creator.nodes\u001b[0m:\u001b[36mgenerate_all_audio_node\u001b[0m:\u001b[36m178\u001b[0m - \u001b[1mCompleted batch 1/5\u001b[0m\n",
      "\u001b[32m2025-07-06 15:52:01.634\u001b[0m | \u001b[1mINFO    \u001b[0m | \u001b[36mpodcast_creator.nodes\u001b[0m:\u001b[36mgenerate_all_audio_node\u001b[0m:\u001b[36m156\u001b[0m - \u001b[1mProcessing batch 2/5 (clips 5-9)\u001b[0m\n",
      "\u001b[32m2025-07-06 15:52:01.634\u001b[0m | \u001b[1mINFO    \u001b[0m | \u001b[36mpodcast_creator.nodes\u001b[0m:\u001b[36mgenerate_single_audio_clip\u001b[0m:\u001b[36m198\u001b[0m - \u001b[1mGenerating audio clip 0005 for Professor Feynman\u001b[0m\n",
      "\u001b[32m2025-07-06 15:52:01.638\u001b[0m | \u001b[1mINFO    \u001b[0m | \u001b[36mpodcast_creator.nodes\u001b[0m:\u001b[36mgenerate_single_audio_clip\u001b[0m:\u001b[36m198\u001b[0m - \u001b[1mGenerating audio clip 0006 for Professor Feynman\u001b[0m\n",
      "\u001b[32m2025-07-06 15:52:01.639\u001b[0m | \u001b[1mINFO    \u001b[0m | \u001b[36mpodcast_creator.nodes\u001b[0m:\u001b[36mgenerate_single_audio_clip\u001b[0m:\u001b[36m198\u001b[0m - \u001b[1mGenerating audio clip 0007 for Professor Feynman\u001b[0m\n",
      "\u001b[32m2025-07-06 15:52:01.640\u001b[0m | \u001b[1mINFO    \u001b[0m | \u001b[36mpodcast_creator.nodes\u001b[0m:\u001b[36mgenerate_single_audio_clip\u001b[0m:\u001b[36m198\u001b[0m - \u001b[1mGenerating audio clip 0008 for Professor Feynman\u001b[0m\n",
      "\u001b[32m2025-07-06 15:52:01.643\u001b[0m | \u001b[1mINFO    \u001b[0m | \u001b[36mpodcast_creator.nodes\u001b[0m:\u001b[36mgenerate_single_audio_clip\u001b[0m:\u001b[36m198\u001b[0m - \u001b[1mGenerating audio clip 0009 for Professor Feynman\u001b[0m\n",
      "\u001b[32m2025-07-06 15:52:05.709\u001b[0m | \u001b[1mINFO    \u001b[0m | \u001b[36mpodcast_creator.nodes\u001b[0m:\u001b[36mgenerate_single_audio_clip\u001b[0m:\u001b[36m216\u001b[0m - \u001b[1mGenerated audio clip: output/teach_me_now/clips/0008.mp3\u001b[0m\n",
      "\u001b[32m2025-07-06 15:52:05.838\u001b[0m | \u001b[1mINFO    \u001b[0m | \u001b[36mpodcast_creator.nodes\u001b[0m:\u001b[36mgenerate_single_audio_clip\u001b[0m:\u001b[36m216\u001b[0m - \u001b[1mGenerated audio clip: output/teach_me_now/clips/0007.mp3\u001b[0m\n",
      "\u001b[32m2025-07-06 15:52:06.028\u001b[0m | \u001b[1mINFO    \u001b[0m | \u001b[36mpodcast_creator.nodes\u001b[0m:\u001b[36mgenerate_single_audio_clip\u001b[0m:\u001b[36m216\u001b[0m - \u001b[1mGenerated audio clip: output/teach_me_now/clips/0006.mp3\u001b[0m\n",
      "\u001b[32m2025-07-06 15:52:06.218\u001b[0m | \u001b[1mINFO    \u001b[0m | \u001b[36mpodcast_creator.nodes\u001b[0m:\u001b[36mgenerate_single_audio_clip\u001b[0m:\u001b[36m216\u001b[0m - \u001b[1mGenerated audio clip: output/teach_me_now/clips/0009.mp3\u001b[0m\n",
      "\u001b[32m2025-07-06 15:52:06.947\u001b[0m | \u001b[1mINFO    \u001b[0m | \u001b[36mpodcast_creator.nodes\u001b[0m:\u001b[36mgenerate_single_audio_clip\u001b[0m:\u001b[36m216\u001b[0m - \u001b[1mGenerated audio clip: output/teach_me_now/clips/0005.mp3\u001b[0m\n",
      "\u001b[32m2025-07-06 15:52:06.947\u001b[0m | \u001b[1mINFO    \u001b[0m | \u001b[36mpodcast_creator.nodes\u001b[0m:\u001b[36mgenerate_all_audio_node\u001b[0m:\u001b[36m178\u001b[0m - \u001b[1mCompleted batch 2/5\u001b[0m\n",
      "\u001b[32m2025-07-06 15:52:07.949\u001b[0m | \u001b[1mINFO    \u001b[0m | \u001b[36mpodcast_creator.nodes\u001b[0m:\u001b[36mgenerate_all_audio_node\u001b[0m:\u001b[36m156\u001b[0m - \u001b[1mProcessing batch 3/5 (clips 10-14)\u001b[0m\n",
      "\u001b[32m2025-07-06 15:52:07.951\u001b[0m | \u001b[1mINFO    \u001b[0m | \u001b[36mpodcast_creator.nodes\u001b[0m:\u001b[36mgenerate_single_audio_clip\u001b[0m:\u001b[36m198\u001b[0m - \u001b[1mGenerating audio clip 0010 for Professor Feynman\u001b[0m\n",
      "\u001b[32m2025-07-06 15:52:07.953\u001b[0m | \u001b[1mINFO    \u001b[0m | \u001b[36mpodcast_creator.nodes\u001b[0m:\u001b[36mgenerate_single_audio_clip\u001b[0m:\u001b[36m198\u001b[0m - \u001b[1mGenerating audio clip 0011 for Professor Feynman\u001b[0m\n",
      "\u001b[32m2025-07-06 15:52:07.955\u001b[0m | \u001b[1mINFO    \u001b[0m | \u001b[36mpodcast_creator.nodes\u001b[0m:\u001b[36mgenerate_single_audio_clip\u001b[0m:\u001b[36m198\u001b[0m - \u001b[1mGenerating audio clip 0012 for Professor Feynman\u001b[0m\n",
      "\u001b[32m2025-07-06 15:52:07.956\u001b[0m | \u001b[1mINFO    \u001b[0m | \u001b[36mpodcast_creator.nodes\u001b[0m:\u001b[36mgenerate_single_audio_clip\u001b[0m:\u001b[36m198\u001b[0m - \u001b[1mGenerating audio clip 0013 for Professor Feynman\u001b[0m\n",
      "\u001b[32m2025-07-06 15:52:07.957\u001b[0m | \u001b[1mINFO    \u001b[0m | \u001b[36mpodcast_creator.nodes\u001b[0m:\u001b[36mgenerate_single_audio_clip\u001b[0m:\u001b[36m198\u001b[0m - \u001b[1mGenerating audio clip 0014 for Professor Feynman\u001b[0m\n",
      "\u001b[32m2025-07-06 15:52:11.943\u001b[0m | \u001b[1mINFO    \u001b[0m | \u001b[36mpodcast_creator.nodes\u001b[0m:\u001b[36mgenerate_single_audio_clip\u001b[0m:\u001b[36m216\u001b[0m - \u001b[1mGenerated audio clip: output/teach_me_now/clips/0010.mp3\u001b[0m\n",
      "\u001b[32m2025-07-06 15:52:12.000\u001b[0m | \u001b[1mINFO    \u001b[0m | \u001b[36mpodcast_creator.nodes\u001b[0m:\u001b[36mgenerate_single_audio_clip\u001b[0m:\u001b[36m216\u001b[0m - \u001b[1mGenerated audio clip: output/teach_me_now/clips/0013.mp3\u001b[0m\n",
      "\u001b[32m2025-07-06 15:52:12.388\u001b[0m | \u001b[1mINFO    \u001b[0m | \u001b[36mpodcast_creator.nodes\u001b[0m:\u001b[36mgenerate_single_audio_clip\u001b[0m:\u001b[36m216\u001b[0m - \u001b[1mGenerated audio clip: output/teach_me_now/clips/0011.mp3\u001b[0m\n",
      "\u001b[32m2025-07-06 15:52:12.565\u001b[0m | \u001b[1mINFO    \u001b[0m | \u001b[36mpodcast_creator.nodes\u001b[0m:\u001b[36mgenerate_single_audio_clip\u001b[0m:\u001b[36m216\u001b[0m - \u001b[1mGenerated audio clip: output/teach_me_now/clips/0014.mp3\u001b[0m\n",
      "\u001b[32m2025-07-06 15:52:12.727\u001b[0m | \u001b[1mINFO    \u001b[0m | \u001b[36mpodcast_creator.nodes\u001b[0m:\u001b[36mgenerate_single_audio_clip\u001b[0m:\u001b[36m216\u001b[0m - \u001b[1mGenerated audio clip: output/teach_me_now/clips/0012.mp3\u001b[0m\n",
      "\u001b[32m2025-07-06 15:52:12.727\u001b[0m | \u001b[1mINFO    \u001b[0m | \u001b[36mpodcast_creator.nodes\u001b[0m:\u001b[36mgenerate_all_audio_node\u001b[0m:\u001b[36m178\u001b[0m - \u001b[1mCompleted batch 3/5\u001b[0m\n",
      "\u001b[32m2025-07-06 15:52:13.728\u001b[0m | \u001b[1mINFO    \u001b[0m | \u001b[36mpodcast_creator.nodes\u001b[0m:\u001b[36mgenerate_all_audio_node\u001b[0m:\u001b[36m156\u001b[0m - \u001b[1mProcessing batch 4/5 (clips 15-19)\u001b[0m\n",
      "\u001b[32m2025-07-06 15:52:13.728\u001b[0m | \u001b[1mINFO    \u001b[0m | \u001b[36mpodcast_creator.nodes\u001b[0m:\u001b[36mgenerate_single_audio_clip\u001b[0m:\u001b[36m198\u001b[0m - \u001b[1mGenerating audio clip 0015 for Professor Feynman\u001b[0m\n",
      "\u001b[32m2025-07-06 15:52:13.729\u001b[0m | \u001b[1mINFO    \u001b[0m | \u001b[36mpodcast_creator.nodes\u001b[0m:\u001b[36mgenerate_single_audio_clip\u001b[0m:\u001b[36m198\u001b[0m - \u001b[1mGenerating audio clip 0016 for Professor Feynman\u001b[0m\n",
      "\u001b[32m2025-07-06 15:52:13.731\u001b[0m | \u001b[1mINFO    \u001b[0m | \u001b[36mpodcast_creator.nodes\u001b[0m:\u001b[36mgenerate_single_audio_clip\u001b[0m:\u001b[36m198\u001b[0m - \u001b[1mGenerating audio clip 0017 for Professor Feynman\u001b[0m\n",
      "\u001b[32m2025-07-06 15:52:13.732\u001b[0m | \u001b[1mINFO    \u001b[0m | \u001b[36mpodcast_creator.nodes\u001b[0m:\u001b[36mgenerate_single_audio_clip\u001b[0m:\u001b[36m198\u001b[0m - \u001b[1mGenerating audio clip 0018 for Professor Feynman\u001b[0m\n",
      "\u001b[32m2025-07-06 15:52:13.735\u001b[0m | \u001b[1mINFO    \u001b[0m | \u001b[36mpodcast_creator.nodes\u001b[0m:\u001b[36mgenerate_single_audio_clip\u001b[0m:\u001b[36m198\u001b[0m - \u001b[1mGenerating audio clip 0019 for Professor Feynman\u001b[0m\n",
      "\u001b[32m2025-07-06 15:52:16.198\u001b[0m | \u001b[1mINFO    \u001b[0m | \u001b[36mpodcast_creator.nodes\u001b[0m:\u001b[36mgenerate_single_audio_clip\u001b[0m:\u001b[36m216\u001b[0m - \u001b[1mGenerated audio clip: output/teach_me_now/clips/0019.mp3\u001b[0m\n",
      "\u001b[32m2025-07-06 15:52:17.340\u001b[0m | \u001b[1mINFO    \u001b[0m | \u001b[36mpodcast_creator.nodes\u001b[0m:\u001b[36mgenerate_single_audio_clip\u001b[0m:\u001b[36m216\u001b[0m - \u001b[1mGenerated audio clip: output/teach_me_now/clips/0015.mp3\u001b[0m\n",
      "\u001b[32m2025-07-06 15:52:17.450\u001b[0m | \u001b[1mINFO    \u001b[0m | \u001b[36mpodcast_creator.nodes\u001b[0m:\u001b[36mgenerate_single_audio_clip\u001b[0m:\u001b[36m216\u001b[0m - \u001b[1mGenerated audio clip: output/teach_me_now/clips/0017.mp3\u001b[0m\n",
      "\u001b[32m2025-07-06 15:52:18.162\u001b[0m | \u001b[1mINFO    \u001b[0m | \u001b[36mpodcast_creator.nodes\u001b[0m:\u001b[36mgenerate_single_audio_clip\u001b[0m:\u001b[36m216\u001b[0m - \u001b[1mGenerated audio clip: output/teach_me_now/clips/0016.mp3\u001b[0m\n",
      "\u001b[32m2025-07-06 15:52:19.112\u001b[0m | \u001b[1mINFO    \u001b[0m | \u001b[36mpodcast_creator.nodes\u001b[0m:\u001b[36mgenerate_single_audio_clip\u001b[0m:\u001b[36m216\u001b[0m - \u001b[1mGenerated audio clip: output/teach_me_now/clips/0018.mp3\u001b[0m\n",
      "\u001b[32m2025-07-06 15:52:19.112\u001b[0m | \u001b[1mINFO    \u001b[0m | \u001b[36mpodcast_creator.nodes\u001b[0m:\u001b[36mgenerate_all_audio_node\u001b[0m:\u001b[36m178\u001b[0m - \u001b[1mCompleted batch 4/5\u001b[0m\n",
      "\u001b[32m2025-07-06 15:52:20.115\u001b[0m | \u001b[1mINFO    \u001b[0m | \u001b[36mpodcast_creator.nodes\u001b[0m:\u001b[36mgenerate_all_audio_node\u001b[0m:\u001b[36m156\u001b[0m - \u001b[1mProcessing batch 5/5 (clips 20-24)\u001b[0m\n",
      "\u001b[32m2025-07-06 15:52:20.115\u001b[0m | \u001b[1mINFO    \u001b[0m | \u001b[36mpodcast_creator.nodes\u001b[0m:\u001b[36mgenerate_single_audio_clip\u001b[0m:\u001b[36m198\u001b[0m - \u001b[1mGenerating audio clip 0020 for Professor Feynman\u001b[0m\n",
      "\u001b[32m2025-07-06 15:52:20.119\u001b[0m | \u001b[1mINFO    \u001b[0m | \u001b[36mpodcast_creator.nodes\u001b[0m:\u001b[36mgenerate_single_audio_clip\u001b[0m:\u001b[36m198\u001b[0m - \u001b[1mGenerating audio clip 0021 for Professor Feynman\u001b[0m\n",
      "\u001b[32m2025-07-06 15:52:20.121\u001b[0m | \u001b[1mINFO    \u001b[0m | \u001b[36mpodcast_creator.nodes\u001b[0m:\u001b[36mgenerate_single_audio_clip\u001b[0m:\u001b[36m198\u001b[0m - \u001b[1mGenerating audio clip 0022 for Professor Feynman\u001b[0m\n",
      "\u001b[32m2025-07-06 15:52:20.123\u001b[0m | \u001b[1mINFO    \u001b[0m | \u001b[36mpodcast_creator.nodes\u001b[0m:\u001b[36mgenerate_single_audio_clip\u001b[0m:\u001b[36m198\u001b[0m - \u001b[1mGenerating audio clip 0023 for Professor Feynman\u001b[0m\n",
      "\u001b[32m2025-07-06 15:52:20.124\u001b[0m | \u001b[1mINFO    \u001b[0m | \u001b[36mpodcast_creator.nodes\u001b[0m:\u001b[36mgenerate_single_audio_clip\u001b[0m:\u001b[36m198\u001b[0m - \u001b[1mGenerating audio clip 0024 for Professor Feynman\u001b[0m\n",
      "\u001b[32m2025-07-06 15:52:23.116\u001b[0m | \u001b[1mINFO    \u001b[0m | \u001b[36mpodcast_creator.nodes\u001b[0m:\u001b[36mgenerate_single_audio_clip\u001b[0m:\u001b[36m216\u001b[0m - \u001b[1mGenerated audio clip: output/teach_me_now/clips/0020.mp3\u001b[0m\n",
      "\u001b[32m2025-07-06 15:52:23.227\u001b[0m | \u001b[1mINFO    \u001b[0m | \u001b[36mpodcast_creator.nodes\u001b[0m:\u001b[36mgenerate_single_audio_clip\u001b[0m:\u001b[36m216\u001b[0m - \u001b[1mGenerated audio clip: output/teach_me_now/clips/0023.mp3\u001b[0m\n",
      "\u001b[32m2025-07-06 15:52:23.878\u001b[0m | \u001b[1mINFO    \u001b[0m | \u001b[36mpodcast_creator.nodes\u001b[0m:\u001b[36mgenerate_single_audio_clip\u001b[0m:\u001b[36m216\u001b[0m - \u001b[1mGenerated audio clip: output/teach_me_now/clips/0024.mp3\u001b[0m\n",
      "\u001b[32m2025-07-06 15:52:24.052\u001b[0m | \u001b[1mINFO    \u001b[0m | \u001b[36mpodcast_creator.nodes\u001b[0m:\u001b[36mgenerate_single_audio_clip\u001b[0m:\u001b[36m216\u001b[0m - \u001b[1mGenerated audio clip: output/teach_me_now/clips/0022.mp3\u001b[0m\n",
      "\u001b[32m2025-07-06 15:52:24.297\u001b[0m | \u001b[1mINFO    \u001b[0m | \u001b[36mpodcast_creator.nodes\u001b[0m:\u001b[36mgenerate_single_audio_clip\u001b[0m:\u001b[36m216\u001b[0m - \u001b[1mGenerated audio clip: output/teach_me_now/clips/0021.mp3\u001b[0m\n",
      "\u001b[32m2025-07-06 15:52:24.298\u001b[0m | \u001b[1mINFO    \u001b[0m | \u001b[36mpodcast_creator.nodes\u001b[0m:\u001b[36mgenerate_all_audio_node\u001b[0m:\u001b[36m178\u001b[0m - \u001b[1mCompleted batch 5/5\u001b[0m\n",
      "\u001b[32m2025-07-06 15:52:24.298\u001b[0m | \u001b[1mINFO    \u001b[0m | \u001b[36mpodcast_creator.nodes\u001b[0m:\u001b[36mgenerate_all_audio_node\u001b[0m:\u001b[36m184\u001b[0m - \u001b[1mGenerated all 25 audio clips\u001b[0m\n",
      "\u001b[32m2025-07-06 15:52:24.302\u001b[0m | \u001b[1mINFO    \u001b[0m | \u001b[36mpodcast_creator.nodes\u001b[0m:\u001b[36mcombine_audio_node\u001b[0m:\u001b[36m223\u001b[0m - \u001b[1mStarting audio combination\u001b[0m\n",
      "\u001b[32m2025-07-06 15:52:24.302\u001b[0m | \u001b[1mINFO    \u001b[0m | \u001b[36mpodcast_creator.core\u001b[0m:\u001b[36mcombine_audio_files\u001b[0m:\u001b[36m154\u001b[0m - \u001b[1m[Core Function] combine_audio_files called.\u001b[0m\n",
      "\u001b[32m2025-07-06 15:52:24.303\u001b[0m | \u001b[33m\u001b[1mWARNING \u001b[0m | \u001b[36mpodcast_creator.core\u001b[0m:\u001b[36mcombine_audio_files\u001b[0m:\u001b[36m162\u001b[0m - \u001b[33m\u001b[1m[PosixPath('output/teach_me_now/clips/0000.mp3'), PosixPath('output/teach_me_now/clips/0001.mp3'), PosixPath('output/teach_me_now/clips/0002.mp3'), PosixPath('output/teach_me_now/clips/0003.mp3'), PosixPath('output/teach_me_now/clips/0004.mp3'), PosixPath('output/teach_me_now/clips/0005.mp3'), PosixPath('output/teach_me_now/clips/0006.mp3'), PosixPath('output/teach_me_now/clips/0007.mp3'), PosixPath('output/teach_me_now/clips/0008.mp3'), PosixPath('output/teach_me_now/clips/0009.mp3'), PosixPath('output/teach_me_now/clips/0010.mp3'), PosixPath('output/teach_me_now/clips/0011.mp3'), PosixPath('output/teach_me_now/clips/0012.mp3'), PosixPath('output/teach_me_now/clips/0013.mp3'), PosixPath('output/teach_me_now/clips/0014.mp3'), PosixPath('output/teach_me_now/clips/0015.mp3'), PosixPath('output/teach_me_now/clips/0016.mp3'), PosixPath('output/teach_me_now/clips/0017.mp3'), PosixPath('output/teach_me_now/clips/0018.mp3'), PosixPath('output/teach_me_now/clips/0019.mp3'), PosixPath('output/teach_me_now/clips/0020.mp3'), PosixPath('output/teach_me_now/clips/0021.mp3'), PosixPath('output/teach_me_now/clips/0022.mp3'), PosixPath('output/teach_me_now/clips/0023.mp3'), PosixPath('output/teach_me_now/clips/0024.mp3')]\u001b[0m\n"
     ]
    },
    {
     "name": "stdout",
     "output_type": "stream",
     "text": [
      "MoviePy - Writing audio in output/teach_me_now/audio/teach_me_now.mp3\n"
     ]
    },
    {
     "name": "stderr",
     "output_type": "stream",
     "text": [
      "\u001b[32m2025-07-06 15:52:30.360\u001b[0m | \u001b[1mINFO    \u001b[0m | \u001b[36mpodcast_creator.core\u001b[0m:\u001b[36mcombine_audio_files\u001b[0m:\u001b[36m223\u001b[0m - \u001b[1mSuccessfully combined audio to: /Users/luisnovo/dev/experimentos/podcast-creator/output/teach_me_now/audio/teach_me_now.mp3\u001b[0m\n",
      "\u001b[32m2025-07-06 15:52:30.365\u001b[0m | \u001b[1mINFO    \u001b[0m | \u001b[36mpodcast_creator.nodes\u001b[0m:\u001b[36mcombine_audio_node\u001b[0m:\u001b[36m234\u001b[0m - \u001b[1mCombined audio saved to: /Users/luisnovo/dev/experimentos/podcast-creator/output/teach_me_now/audio/teach_me_now.mp3\u001b[0m\n"
     ]
    },
    {
     "name": "stdout",
     "output_type": "stream",
     "text": [
      "MoviePy - Done.\n"
     ]
    }
   ],
   "source": [
    "from podcast_creator import create_podcast\n",
    "\n",
    "briefing = \"\"\"\n",
    "Create an exciting podcast on the topic of \"Large Diffusion Models\"\n",
    "\"\"\"\n",
    "\n",
    "result = await create_podcast(\n",
    "    content=None,\n",
    "    briefing=briefing,\n",
    "    episode_name=\"teach_me_now\",\n",
    "    output_dir=\"output/teach_me_now\",\n",
    "    speaker_config=\"solo_expert\",\n",
    "    outline_provider=\"perplexity\",\n",
    "    outline_model=\"sonar-pro\",\n",
    "    transcript_provider=\"perplexity\", \n",
    "    transcript_model=\"sonar-pro\",\n",
    "    num_segments=4\n",
    ")\n",
    "\n"
   ]
  }
 ],
 "metadata": {
  "kernelspec": {
   "display_name": ".venv",
   "language": "python",
   "name": "python3"
  },
  "language_info": {
   "codemirror_mode": {
    "name": "ipython",
    "version": 3
   },
   "file_extension": ".py",
   "mimetype": "text/x-python",
   "name": "python",
   "nbconvert_exporter": "python",
   "pygments_lexer": "ipython3",
   "version": "3.11.7"
  }
 },
 "nbformat": 4,
 "nbformat_minor": 5
}
