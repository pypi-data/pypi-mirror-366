{
 "cells": [
  {
   "cell_type": "code",
   "execution_count": null,
   "metadata": {
    "collapsed": false,
    "jupyter": {
     "outputs_hidden": false
    },
    "pycharm": {
     "name": "#%%\n"
    }
   },
   "outputs": [],
   "source": [
    "#  Copyright (c) 2017-2025 KAPPA\n",
    "#\n",
    "#  Licensed under the Apache License, Version 2.0 (the \"License\");\n",
    "#  you may not use this file except in compliance with the License.\n",
    "#  You may obtain a copy of the License at\n",
    "#\n",
    "#      http://www.apache.org/licenses/LICENSE-2.0\n",
    "#\n",
    "#  Unless required by applicable law or agreed to in writing, software\n",
    "#  distributed under the License is distributed on an \"AS IS\" BASIS,\n",
    "#  WITHOUT WARRANTIES OR CONDITIONS OF ANY KIND, either express or implied.\n",
    "#  See the License for the specific language governing permissions and\n",
    "#  limitations under the License.\n",
    "#\n",
    "# This file is part of Orchid and related technologies.\n",
    "#"
   ]
  },
  {
   "cell_type": "markdown",
   "metadata": {},
   "source": [
    "# Tutorial DOM walk-through\n",
    "\n",
    "This notebook is a live tutorial on illustrating how to navigate through an Orchid* project.\n",
    "\n",
    "(*Orchid is a mark of KAPPA)"
   ]
  },
  {
   "cell_type": "markdown",
   "metadata": {},
   "source": [
    "## 0.5 Import packages\n",
    "\n",
    "The only import needed for the Python API is `orchid` itself."
   ]
  },
  {
   "cell_type": "code",
   "execution_count": null,
   "metadata": {
    "collapsed": false,
    "jupyter": {
     "outputs_hidden": false
    },
    "pycharm": {
     "name": "#%%\n"
    }
   },
   "outputs": [],
   "source": [
    "import orchid"
   ]
  },
  {
   "cell_type": "markdown",
   "metadata": {
    "pycharm": {
     "name": "#%% md\n"
    }
   },
   "source": [
    "Import other packages to meet specific needs"
   ]
  },
  {
   "cell_type": "code",
   "execution_count": null,
   "metadata": {
    "collapsed": false,
    "jupyter": {
     "outputs_hidden": false
    },
    "pycharm": {
     "name": "#%%\n"
    }
   },
   "outputs": [],
   "source": [
    "import uuid  # Used to construct an object ID from its string representation"
   ]
  },
  {
   "cell_type": "markdown",
   "metadata": {},
   "source": [
    "## 1.0 Load the .ifrac project\n",
    "\n",
    "The following code simply captures the configured location of the Orchid training data. It is not needed to\n",
    "use the Orchid Python API itself, but it is used in this example to load a well-known `.ifrac` file."
   ]
  },
  {
   "cell_type": "code",
   "execution_count": null,
   "metadata": {
    "pycharm": {
     "name": "#%%\n"
    }
   },
   "outputs": [],
   "source": [
    "orchid_training_data_path = orchid.training_data_path()"
   ]
  },
  {
   "cell_type": "code",
   "execution_count": null,
   "metadata": {
    "collapsed": false,
    "jupyter": {
     "outputs_hidden": false
    },
    "pycharm": {
     "is_executing": true,
     "name": "#%%\n"
    }
   },
   "outputs": [],
   "source": [
    "project = orchid.load_project(str(orchid_training_data_path.joinpath(\n",
    "    'frankNstein_Bakken_UTM13_FEET.ifrac')))"
   ]
  },
  {
   "cell_type": "markdown",
   "metadata": {},
   "source": [
    "Our project is now loaded in memory. An Orchid project has many collections of other items. For example, a\n",
    "project has a collection of wells, and a well has a collection of stages.\n",
    "\n",
    "Each of these objects, for example, each well and each stage, is identified by a unique identifier (an\n",
    "instance of `uuid.UUID`). However, these identifiers, in order to be unique, are **not** easily remembered by\n",
    "people. Further, Orchid **does not** require that alternatives, like a well name or display name, be unique.\n",
    "To allow for convenient searching, project objects like wells and stages are kept in a\n",
    "`SearchableProjectObjects` collection. This class provides methods for searching for more specific instances:\n",
    "\n",
    "- `find_by_object_id()` - Returns the matching object or `None` if no such object exists\n",
    "- `find_by_name()` - Returns an **iterator** of matching objects (since more than one may match).\n",
    "- `find_by_display_name()` - Returns an **iterator** of matching objects.\n",
    "\n",
    "It provides methods returning all valid values of these keys:\n",
    "\n",
    "- `all_object_ids()`\n",
    "- `all_names()`\n",
    "- `all_display_names()`\n",
    "\n",
    "Since `find_by_object_id()`, `find_by_name()` and `find_by_display_name()` do not exhaust the criteria you\n",
    "might want to use to find objects of interest, we have included a more generic method, `find()`, that takes a\n",
    "predicate (a callable) and returns an iterator over all objects for which the predicate returns `True`.\n",
    "\n",
    "Finally, we provide the general ability to iterate over all project objects using two mechanisms. The\n",
    "older mechanism is the `all_objects()` method that returns an iterator over all objects in the collection.\n",
    "\n",
    "Beginning with version 2021.3.318 of the Orchid Python API, we have made `SearchableProjectObjects` an\n",
    "iterator. This change allows one to use the very familiar Python idiom of:\n",
    "\n",
    "```\n",
    "for well in projects.wells():\n",
    "    // processing for a single well\n",
    "```\n",
    "\n",
    "Additionally, one can use `SearchableProjectObjects` in list, dictionary and generator expressions. For\n",
    "example, to create a dictionary of wells keyed by the well object ID (since **only** object ID is guaranteed\n",
    "to be unique) one would write:\n",
    "\n",
    "```\n",
    "wells_by_id = {well.object_id: well for well in project.wells()}\n",
    "```\n",
    "\n",
    "Using `SearchableProjectObjects` as an iterator is very general, is easily understood, and is most useful when\n",
    "exploring a project interactively at a REPL. However, we have seen that using this general technique\n",
    "easily leads to duplicated code to search through the collection of project objects for the specific object\n",
    "that you actually need for your application. Consequently, we encourage you to use the query methods of\n",
    "`SearchableProjectObjects`, including the general `find(...)` methods, first. If those do not meet your needs,\n",
    "please let us know by creating [an issue](https://github.com/Reveal-Energy-Services/orchid-python-api/issues)."
   ]
  },
  {
   "cell_type": "markdown",
   "metadata": {},
   "source": [
    "## 2.0 Query well \"keys\"\n",
    "\n",
    "Particularly during exploration of a project, you may not know the specific object in which you are\n",
    "interested, but you know something about its name or its display name. The Orchid Python API provides you\n",
    "with the `all_names()` and `all_display_names()` to iterate over those names."
   ]
  },
  {
   "cell_type": "code",
   "execution_count": null,
   "metadata": {
    "collapsed": false,
    "jupyter": {
     "outputs_hidden": false
    },
    "pycharm": {
     "name": "#%%\n"
    }
   },
   "outputs": [],
   "source": [
    "all_well_names = list(project.wells().all_names())\n",
    "print(f\"all_well_names = {all_well_names}\")"
   ]
  },
  {
   "cell_type": "code",
   "execution_count": null,
   "metadata": {
    "collapsed": false,
    "jupyter": {
     "outputs_hidden": false
    },
    "pycharm": {
     "name": "#%%\n"
    }
   },
   "outputs": [],
   "source": [
    "all_well_display_names = list(project.wells().all_display_names())\n",
    "print(f\"all_well_display_names = {all_well_display_names}\")"
   ]
  },
  {
   "cell_type": "markdown",
   "metadata": {
    "pycharm": {
     "name": "#%% md\n"
    }
   },
   "source": [
    "### 2.1 Query all object ids\n",
    "\n",
    "For completeness, we provide the `all_object_ids()` to list all the object IDs."
   ]
  },
  {
   "cell_type": "code",
   "execution_count": null,
   "metadata": {
    "collapsed": false,
    "jupyter": {
     "outputs_hidden": false
    },
    "pycharm": {
     "name": "#%%\n"
    }
   },
   "outputs": [],
   "source": [
    "all_well_object_ids = list(project.wells().all_object_ids())\n",
    "print(f\"all_well_object_ids = {all_well_object_ids}\")"
   ]
  },
  {
   "cell_type": "markdown",
   "metadata": {
    "pycharm": {
     "name": "#%% md\n"
    }
   },
   "source": [
    "## 3.0 Find well by \"key\"\n",
    "\n",
    "The method, `find_by_name()`, returns an iterable over wells."
   ]
  },
  {
   "cell_type": "code",
   "execution_count": null,
   "metadata": {
    "collapsed": false,
    "jupyter": {
     "outputs_hidden": false
    },
    "pycharm": {
     "name": "#%%\n"
    }
   },
   "outputs": [],
   "source": [
    "wells_of_interest_by_name = list(project.wells().find_by_name('Demo_1H'))\n",
    "[(well.name, well.display_name, well.object_id) for well in wells_of_interest_by_name]"
   ]
  },
  {
   "cell_type": "markdown",
   "metadata": {},
   "source": [
    "Similarly, the method, `find_by_display_name()`, returns an iterable over wells"
   ]
  },
  {
   "cell_type": "code",
   "execution_count": null,
   "metadata": {
    "collapsed": false,
    "jupyter": {
     "outputs_hidden": false
    },
    "pycharm": {
     "name": "#%%\n"
    }
   },
   "outputs": [],
   "source": [
    "wells_of_interest_by_display_name = list(project.wells().find_by_display_name('Demo_2H'))\n",
    "[(well.name, well.display_name, well.object_id) for well in wells_of_interest_by_display_name]"
   ]
  },
  {
   "cell_type": "markdown",
   "metadata": {},
   "source": [
    "Because `find_by_name()` and `find_by_display_name()` returns an **iterator**, one typically must handle this\n",
    "method returning\n",
    "\n",
    "- An empty iterator\n",
    "- An iterator with more than 1 item\n",
    "- An iterator with a single item\n",
    "\n",
    "For example,"
   ]
  },
  {
   "cell_type": "code",
   "execution_count": null,
   "metadata": {
    "collapsed": false,
    "jupyter": {
     "outputs_hidden": false
    },
    "pycharm": {
     "name": "#%%\n"
    }
   },
   "outputs": [],
   "source": [
    "well_name_of_interest = 'Demo_3H'\n",
    "wells_of_interest_by_name = list(project.wells().find_by_name(well_name_of_interest))\n",
    "if len(wells_of_interest_by_name) == 0:\n",
    "    print(f'No well in project with name, {well_name_of_interest}')\n",
    "elif len(wells_of_interest_by_name) > 1:\n",
    "    print(f'Found multiple wells ({len(wells_of_interest_by_name)}) in project with name,'\n",
    "          f' {well_name_of_interest}')\n",
    "else:\n",
    "    print(f'Found single well in project with name, {well_name_of_interest}')"
   ]
  },
  {
   "cell_type": "markdown",
   "metadata": {},
   "source": [
    "Another way to handle multiple wells found by `find_by_name()` is to use `assert` statements. This way is\n",
    "suitable if any number of matches other than one is an error."
   ]
  },
  {
   "cell_type": "code",
   "execution_count": null,
   "metadata": {
    "collapsed": false,
    "jupyter": {
     "outputs_hidden": false
    },
    "pycharm": {
     "name": "#%%\n"
    }
   },
   "outputs": [],
   "source": [
    "assert len(wells_of_interest_by_name) == 1, (f'Expected one well with name, {well_name_of_interest},'\n",
    "                                             f' but found {len(wells_of_interest_by_display_name)}')\n",
    "well_of_interest = wells_of_interest_by_name[0]\n",
    "well_of_interest.name, well_of_interest.display_name, well_of_interest.object_id"
   ]
  },
  {
   "cell_type": "markdown",
   "metadata": {
    "pycharm": {
     "name": "#%% md\n"
    }
   },
   "source": [
    "However, `find_by_object_id()` method returns either a well with the specified object ID or None.\n",
    "\n",
    "If a well with this object ID exists:"
   ]
  },
  {
   "cell_type": "code",
   "execution_count": null,
   "metadata": {
    "collapsed": false,
    "jupyter": {
     "outputs_hidden": false
    },
    "pycharm": {
     "name": "#%%\n"
    }
   },
   "outputs": [],
   "source": [
    "object_id = '9fe727b0-5fd1-4240-b475-51c1363edb0d'\n",
    "well_of_interest_by_object_id = project.wells().find_by_object_id(uuid.UUID(object_id))\n",
    "((well_of_interest_by_object_id.name,\n",
    "  well_of_interest_by_object_id.display_name,\n",
    "  well_of_interest_by_object_id.object_id) if well_of_interest_by_object_id is not None\n",
    " else \"No such object\")"
   ]
  },
  {
   "cell_type": "markdown",
   "metadata": {
    "pycharm": {
     "name": "#%% md\n"
    }
   },
   "source": [
    "But if no well with this object ID exists:"
   ]
  },
  {
   "cell_type": "code",
   "execution_count": null,
   "metadata": {
    "collapsed": false,
    "jupyter": {
     "outputs_hidden": false
    },
    "pycharm": {
     "name": "#%%\n"
    }
   },
   "outputs": [],
   "source": [
    "object_id = '9fe727b0-5fd1-4240-b475-51c1363edb0e'\n",
    "well_of_interest_by_object_id = project.wells().find_by_object_id(uuid.UUID(object_id))\n",
    "((well_of_interest_by_object_id.name,\n",
    "  well_of_interest_by_object_id.display_name,\n",
    "  well_of_interest_by_object_id.object_id) if well_of_interest_by_object_id is not None\n",
    " else \"No such object\")"
   ]
  },
  {
   "cell_type": "markdown",
   "metadata": {},
   "source": [
    "## 4.0 The `find()` method supports more generic queries\n",
    "\n",
    "The `find()` method returns an iterable over the wells for which the specified predicate is `True`"
   ]
  },
  {
   "cell_type": "code",
   "execution_count": null,
   "metadata": {
    "collapsed": false,
    "jupyter": {
     "outputs_hidden": false
    },
    "pycharm": {
     "name": "#%%\n"
    }
   },
   "outputs": [],
   "source": [
    "wells_of_interest = list(project.wells().find(lambda well: well.name == 'Demo_3H' or well.display_name == 'Demo_4H'))\n",
    "for well_of_interest in wells_of_interest:\n",
    "    print(f'well_of_interest=Well(name={well_of_interest.name},',\n",
    "          f'display_name={well_of_interest.display_name}, '\n",
    "          f'object_id={well_of_interest.object_id})')"
   ]
  },
  {
   "cell_type": "markdown",
   "metadata": {
    "pycharm": {
     "name": "#%% md\n"
    }
   },
   "source": [
    "## 5.0 Finally, we offer two ways to iterator over all the objects\n",
    "\n",
    "The method, `all_objects()`, returns an iterable over **all** wells in the project"
   ]
  },
  {
   "cell_type": "code",
   "execution_count": null,
   "metadata": {
    "collapsed": false,
    "jupyter": {
     "outputs_hidden": false
    },
    "pycharm": {
     "name": "#%%\n"
    }
   },
   "outputs": [],
   "source": [
    "wells_of_interest = list(project.wells().all_objects())\n",
    "[(well.name, well.display_name, well.object_id) for well in wells_of_interest]"
   ]
  },
  {
   "cell_type": "markdown",
   "source": [
    "The `SearchableProjectObjects` class is an iterator and supports typical Python iterator idioms like:"
   ],
   "metadata": {
    "collapsed": false,
    "pycharm": {
     "name": "#%% md\n"
    }
   }
  },
  {
   "cell_type": "code",
   "execution_count": null,
   "outputs": [],
   "source": [
    "[(well.name, well.display_name, well.object_id) for well in project.wells()]"
   ],
   "metadata": {
    "collapsed": false,
    "pycharm": {
     "name": "#%%\n"
    }
   }
  },
  {
   "cell_type": "markdown",
   "metadata": {
    "pycharm": {
     "name": "#%% md\n"
    }
   },
   "source": [
    "All the project top-level objects provide a similar interface:\n",
    "\n",
    "- `project.data_frames()`\n",
    "- `project.monitors()`\n",
    "- `project.time_series()`\n",
    "- `project.wells()`\n",
    "\n",
    "Stages have the same interface; however, stages also have two additional methods:\n",
    "\n",
    "- `stage.find_by_display_stage_number()`\n",
    "- `stage.find_by_display_name_with_well()`"
   ]
  },
  {
   "cell_type": "markdown",
   "metadata": {
    "pycharm": {
     "name": "#%% md\n"
    }
   },
   "source": [
    "## 6.0 Additional `SearchableStages` methods"
   ]
  },
  {
   "cell_type": "markdown",
   "metadata": {
    "pycharm": {
     "name": "#%% md\n"
    }
   },
   "source": [
    "### 6.1 Find stages with a specific display stage number\n",
    "\n",
    "The method, `find_by_display_stage_number()`, returns either the single stage with the display\n",
    "stage number or it returns `None`.\n",
    "\n",
    "Begin by searching for the well of interest."
   ]
  },
  {
   "cell_type": "code",
   "execution_count": null,
   "metadata": {
    "collapsed": false,
    "jupyter": {
     "outputs_hidden": false
    },
    "pycharm": {
     "name": "#%%\n"
    }
   },
   "outputs": [],
   "source": [
    "well_display_name_of_interest = 'Demo_1H'\n",
    "wells_of_interest_by_display_name = [\n",
    "    well for well in project.wells().find_by_display_name(well_display_name_of_interest)\n",
    "]\n",
    "\n",
    "assert len(wells_of_interest_by_display_name) == 1,\\\n",
    "    f'Expected one well with display_name, {well_display_name_of_interest},' \\\n",
    "    f' but found {len(wells_of_interest_by_display_name)}'\n",
    "well_of_interest = wells_of_interest_by_display_name[0]\n",
    "well_of_interest.name, well_of_interest.display_name, well_of_interest.object_id"
   ]
  },
  {
   "cell_type": "markdown",
   "metadata": {},
   "source": [
    "Now search for a stage with a specified display stage number."
   ]
  },
  {
   "cell_type": "code",
   "execution_count": null,
   "metadata": {
    "collapsed": false,
    "jupyter": {
     "outputs_hidden": false
    },
    "pycharm": {
     "name": "#%%\n"
    }
   },
   "outputs": [],
   "source": [
    "stage_display_number_of_interest = 7\n",
    "stage_of_interest = well_of_interest.stages().find_by_display_stage_number(stage_display_number_of_interest)\n",
    "if stage_of_interest is not None:\n",
    "    print((stage_of_interest.name, stage_of_interest.display_name, stage_of_interest.display_stage_number))\n",
    "else:\n",
    "    print(f'No stage with display stage number, {stage_display_number_of_interest}.')"
   ]
  },
  {
   "cell_type": "markdown",
   "metadata": {
    "pycharm": {
     "name": "#%% md\n"
    }
   },
   "source": [
    "If you search for a stage by display stage number that does **not** exist:"
   ]
  },
  {
   "cell_type": "code",
   "execution_count": null,
   "metadata": {
    "collapsed": false,
    "jupyter": {
     "outputs_hidden": false
    },
    "pycharm": {
     "name": "#%%\n"
    }
   },
   "outputs": [],
   "source": [
    "stage_display_number_of_interest = 9999\n",
    "stage_of_interest = well_of_interest.stages().find_by_display_stage_number(stage_display_number_of_interest)\n",
    "if stage_of_interest is not None:\n",
    "    print((stage_of_interest.name, stage_of_interest.display_name, stage_of_interest.display_stage_number))\n",
    "else:\n",
    "    print(f'No stage with display stage number, {stage_display_number_of_interest}.')"
   ]
  },
  {
   "cell_type": "markdown",
   "metadata": {},
   "source": [
    "### 6.2 Find stages with a specific display name with well\n",
    "\n",
    "The method, `find_by_display_name_with_well()`, returns:\n",
    "\n",
    "- An empty iterator if no stage with the specified display name with well exists\n",
    "- An iterator with a single item if exactly one stage with the specified display name with well exists\n",
    "- An iterator with multiple items if many stages with the specified display name with well exists\n",
    "\n",
    "For example, begin by searching for a well of interest."
   ]
  },
  {
   "cell_type": "code",
   "execution_count": null,
   "metadata": {
    "collapsed": false,
    "jupyter": {
     "outputs_hidden": false
    },
    "pycharm": {
     "name": "#%%\n"
    }
   },
   "outputs": [],
   "source": [
    "well_name_of_interest = 'Demo_2H'\n",
    "wells_of_interest_by_name = list(project.wells().find_by_name(well_name_of_interest))\n",
    "assert len(wells_of_interest_by_name) == 1, (f'Expected one well with name, {well_name_of_interest},'\n",
    "                                             f' but found {len(wells_of_interest_by_display_name)}')\n",
    "well_of_interest = wells_of_interest_by_name[0]\n",
    "well_of_interest.name, well_of_interest.display_name, well_of_interest.object_id"
   ]
  },
  {
   "cell_type": "code",
   "execution_count": null,
   "metadata": {
    "collapsed": false,
    "jupyter": {
     "outputs_hidden": false
    },
    "pycharm": {
     "name": "#%%\n"
    }
   },
   "outputs": [],
   "source": [
    "stage_display_name_with_well_of_interest = 'Demo_2H-Stage-14'\n",
    "stages_of_interest = [stage for stage\n",
    "                      in well_of_interest.stages().find_by_display_name_with_well\n",
    "                      (stage_display_name_with_well_of_interest)]\n",
    "if len(stages_of_interest) == 0:\n",
    "    print(f'No stage in well, {well_of_interest.display_name}, in project with name, '\n",
    "          f'{stage_display_name_with_well_of_interest}')\n",
    "elif len(stages_of_interest) > 1:\n",
    "    print(f'Found multiple stages ({len(stages_of_interest)}) in well,'\n",
    "          f' {well_of_interest.display_name}, with display name with well,'\n",
    "          f' {stage_display_name_with_well_of_interest}')\n",
    "else:\n",
    "    print(f'Found single stage in well, {well_of_interest.display_name},'\n",
    "          f' with display name withe well, {stage_display_name_with_well_of_interest}')"
   ]
  },
  {
   "cell_type": "markdown",
   "metadata": {},
   "source": [
    "Another way to handle multiple stages found by `find_by_display_name_with_well()` is to use `assert`\n",
    "statements. This way is suitable if any number of matches other than one is an error."
   ]
  },
  {
   "cell_type": "code",
   "execution_count": null,
   "metadata": {
    "collapsed": false,
    "jupyter": {
     "outputs_hidden": false
    },
    "pycharm": {
     "name": "#%%\n"
    }
   },
   "outputs": [],
   "source": [
    "assert len(stages_of_interest) == 1, \\\n",
    "    (f'Expected one well with name, ' f'{stage_display_name_with_well_of_interest},'\n",
    "     f' but found {len(stages_of_interest)}')\n",
    "stage_of_interest = stages_of_interest[0]\n",
    "stage_of_interest.name, stage_of_interest.display_name, stage_of_interest.display_name_with_well"
   ]
  },
  {
   "cell_type": "code",
   "execution_count": null,
   "metadata": {},
   "outputs": [],
   "source": []
  }
 ],
 "metadata": {
  "celltoolbar": "Raw Cell Format",
  "kernelspec": {
   "display_name": "Python 3",
   "language": "python",
   "name": "python3"
  },
  "language_info": {
   "codemirror_mode": {
    "name": "ipython",
    "version": 3
   },
   "file_extension": ".py",
   "mimetype": "text/x-python",
   "name": "python",
   "nbconvert_exporter": "python",
   "pygments_lexer": "ipython3",
   "version": "3.8.7"
  }
 },
 "nbformat": 4,
 "nbformat_minor": 4
}