{
 "cells": [
  {
   "cell_type": "code",
   "execution_count": null,
   "metadata": {
    "pycharm": {
     "name": "#%%\n"
    }
   },
   "outputs": [],
   "source": [
    "#  Copyright (c) 2017-2025 KAPPA\n",
    "#\n",
    "#  Licensed under the Apache License, Version 2.0 (the \"License\");\n",
    "#  you may not use this file except in compliance with the License.\n",
    "#  You may obtain a copy of the License at\n",
    "#\n",
    "#      http://www.apache.org/licenses/LICENSE-2.0\n",
    "#\n",
    "#  Unless required by applicable law or agreed to in writing, software\n",
    "#  distributed under the License is distributed on an \"AS IS\" BASIS,\n",
    "#  WITHOUT WARRANTIES OR CONDITIONS OF ANY KIND, either express or implied.\n",
    "#  See the License for the specific language governing permissions and\n",
    "#  limitations under the License.\n",
    "#\n",
    "# This file is part of Orchid and related technologies.\n",
    "#"
   ]
  },
  {
   "cell_type": "markdown",
   "metadata": {},
   "source": [
    "# Example: Using Pandas to Analyze Volume to First Response (VFR)"
   ]
  },
  {
   "cell_type": "markdown",
   "metadata": {},
   "source": [
    "This notebook illustrates using the Orchid* Python API and the pandas package to\n",
    "perform VFR analysis\n",
    "\n",
    "(*Orchid is a mark of KAPPA)"
   ]
  },
  {
   "cell_type": "markdown",
   "metadata": {},
   "source": [
    "## 0.5 Import packages"
   ]
  },
  {
   "cell_type": "markdown",
   "metadata": {},
   "source": [
    "The only import needed for the Python API is `orchid` itself."
   ]
  },
  {
   "cell_type": "code",
   "execution_count": null,
   "metadata": {
    "pycharm": {
     "name": "#%%\n"
    }
   },
   "outputs": [],
   "source": [
    "import orchid"
   ]
  },
  {
   "cell_type": "markdown",
   "metadata": {},
   "source": [
    "The remaining imports are standard python packages to support the analysis."
   ]
  },
  {
   "cell_type": "code",
   "execution_count": null,
   "metadata": {
    "pycharm": {
     "name": "#%%\n"
    }
   },
   "outputs": [],
   "source": [
    "import numpy as np\n",
    "import pandas as pd\n",
    "import matplotlib.pyplot as plt\n",
    "import scipy.signal as signal\n",
    "import datetime"
   ]
  },
  {
   "cell_type": "markdown",
   "metadata": {},
   "source": [
    "## 1.0 Load the .ifrac project"
   ]
  },
  {
   "cell_type": "markdown",
   "metadata": {},
   "source": [
    "The following code simply captures the configured location of the Orchid training data. It is not needed to\n",
    "use the Orchid Python API itself, but it is used in this example to load well-known data."
   ]
  },
  {
   "cell_type": "code",
   "execution_count": null,
   "metadata": {
    "pycharm": {
     "name": "#%%\n"
    }
   },
   "outputs": [],
   "source": [
    "orchid_training_data_path = orchid.training_data_path()"
   ]
  },
  {
   "cell_type": "code",
   "execution_count": null,
   "metadata": {
    "pycharm": {
     "name": "#%%\n"
    }
   },
   "outputs": [],
   "source": [
    "permian_project = orchid.load_project(str(orchid_training_data_path.joinpath(\n",
    "    'Project_frankNstein_Permian_UTM13_FEET.ifrac')))"
   ]
  },
  {
   "cell_type": "markdown",
   "metadata": {
    "pycharm": {
     "name": "#%% md\n"
    }
   },
   "source": [
    "## 2.0 Defining Support Functions"
   ]
  },
  {
   "cell_type": "markdown",
   "metadata": {
    "pycharm": {
     "name": "#%% md\n"
    }
   },
   "source": [
    "This function will support taking in a stop time and calculating the treatment aggregates"
   ]
  },
  {
   "cell_type": "code",
   "execution_count": null,
   "metadata": {
    "pycharm": {
     "name": "#%% Completion Support Function\n"
    }
   },
   "outputs": [],
   "source": [
    "def compute_stage_treatment_aggregates(treatment_stage, stop_time):\n",
    "    # These calculations IGNORE all calculation warnings.\n",
    "    pumped_fluid_volume = orchid.pumped_fluid_volume(treatment_stage,\n",
    "                                                     treatment_stage.start_time,\n",
    "                                                     stop_time)[0].magnitude\n",
    "    total_proppant_mass = orchid.total_proppant_mass(treatment_stage,\n",
    "                                                     treatment_stage.start_time,\n",
    "                                                     stop_time)[0].magnitude\n",
    "    median_treating_pressure = orchid.median_treating_pressure(treatment_stage,\n",
    "                                                               treatment_stage.start_time,\n",
    "                                                               stop_time)[0].magnitude\n",
    "    return pumped_fluid_volume, total_proppant_mass, median_treating_pressure"
   ]
  },
  {
   "cell_type": "markdown",
   "metadata": {
    "pycharm": {
     "name": "#%% md\n"
    }
   },
   "source": [
    "The first event-detection algorithm is to find when the first derivative exceeds a threshold value"
   ]
  },
  {
   "cell_type": "code",
   "execution_count": null,
   "metadata": {
    "pycharm": {
     "name": "#%%\n"
    }
   },
   "outputs": [],
   "source": [
    "def first_derivative_threshold(pressure_curve, threshold, window=51, poly=3):\n",
    "    times = pressure_curve.index.values\n",
    "    average_dt = np.mean(np.diff(pressure_curve.index)).total_seconds()/60\n",
    "    pressure = pressure_curve.values\n",
    "    first_derivative = signal.savgol_filter(pressure,\n",
    "                                            window_length=window,\n",
    "                                            polyorder=poly,\n",
    "                                            delta=average_dt,\n",
    "                                            deriv=1)\n",
    "\n",
    "    ndx = np.argwhere(first_derivative > threshold)\n",
    "\n",
    "    return times[ndx[0][0]] if len(ndx)>0 else None"
   ]
  },
  {
   "cell_type": "markdown",
   "metadata": {
    "pycharm": {
     "name": "#%% md\n"
    }
   },
   "source": [
    "The second event-detection algorithm uses the second derivative which is fed into a peak finding algorithm"
   ]
  },
  {
   "cell_type": "code",
   "execution_count": null,
   "metadata": {
    "pycharm": {
     "name": "#%%\n"
    }
   },
   "outputs": [],
   "source": [
    "def second_derivative_peak(pressure_curve, window=51, poly=3):\n",
    "    times = pressure_curve.index.values\n",
    "    average_dt = np.mean(np.diff(pressure_curve.index)).total_seconds()/60\n",
    "    pressure = pressure_curve.values\n",
    "    second_derivative = signal.savgol_filter(pressure,\n",
    "                                             window_length=window,\n",
    "                                             polyorder=poly,\n",
    "                                             delta=average_dt,\n",
    "                                             deriv=2)\n",
    "\n",
    "    peaks = signal.find_peaks(second_derivative, height=0.2, distance=30, width=5)\n",
    "    return times[peaks[0][0]] if len(peaks[0])>0 else None"
   ]
  },
  {
   "cell_type": "code",
   "execution_count": null,
   "metadata": {
    "pycharm": {
     "name": "#%%\n"
    }
   },
   "outputs": [],
   "source": [
    "def data_points_from_time_series_in_target_units(pressure_series, target_units):\n",
    "    # ts is short variable name for data_points data\n",
    "    ts_units = pressure_series.sampled_quantity_unit()\n",
    "    ts = pressure_series.data_points()\n",
    "    # Convert list of magnitudes (no units) to `numpy` array including units for faster operations\n",
    "    ts_values_w_units = orchid.unit_registry.Quantity(ts.to_numpy(), ts_units.value[0])\n",
    "    ts_in_target_units = ts_values_w_units.to(target_units.value[0])\n",
    "    return pd.Series(data=ts_in_target_units.magnitude, index=ts.index)\n"
   ]
  },
  {
   "cell_type": "markdown",
   "metadata": {
    "pycharm": {
     "name": "#%% md\n"
    }
   },
   "source": [
    "## 3.0 Extract Data and Apply Event Detectors"
   ]
  },
  {
   "cell_type": "markdown",
   "metadata": {
    "pycharm": {
     "name": "#%% md\n"
    }
   },
   "source": [
    "Takes a few minutes to run"
   ]
  },
  {
   "cell_type": "code",
   "execution_count": null,
   "metadata": {
    "pycharm": {
     "name": "#%%\n"
    }
   },
   "outputs": [],
   "source": [
    "p_time_series = list(permian_project.time_series().find_by_display_name('P1-Downhole-12550-Pressure'))\n",
    "# Simply take the first matching time series\n",
    "p_time_series = p_time_series[0]\n",
    "p_data = data_points_from_time_series_in_target_units(p_time_series, orchid.unit_system.UsOilfield.PRESSURE)"
   ]
  },
  {
   "cell_type": "code",
   "execution_count": null,
   "metadata": {
    "pycharm": {
     "name": "#%%\n"
    }
   },
   "outputs": [],
   "source": [
    "vfr_data = []\n",
    "for well in permian_project.wells().all_objects():\n",
    "    for stage in well.stages().all_objects():\n",
    "        stage_start_time = stage.start_time\n",
    "        stage_stop_time = stage.stop_time\n",
    "\n",
    "        # p_stg is the monitor pressure data with the given stage start/stop time\n",
    "        p_stg = p_data[stage_start_time:stage_stop_time]\n",
    "        derive_1_time = first_derivative_threshold(p_stg, 0.2)\n",
    "        derive_2_time = second_derivative_peak(p_stg)\n",
    "        if derive_1_time is not None:\n",
    "            derive_1_time = datetime.datetime.utcfromtimestamp(derive_1_time.tolist() * 1e-9).replace(tzinfo=orchid.UTC)\n",
    "        if derive_2_time is not None:\n",
    "            derive_2_time = datetime.datetime.utcfromtimestamp(derive_2_time.tolist() * 1e-9).replace(tzinfo=orchid.UTC)\n",
    "        vfr_d1, _, _ = compute_stage_treatment_aggregates(stage, derive_1_time) if derive_1_time is not None else (None, None, None)\n",
    "        vfr_d2, _, _ = compute_stage_treatment_aggregates(stage, derive_2_time) if derive_2_time is not None else (None, None, None)\n",
    "        vfr_data.append((well.name, stage.display_stage_number, derive_1_time, vfr_d1, derive_2_time, vfr_d2))\n"
   ]
  },
  {
   "cell_type": "code",
   "execution_count": null,
   "metadata": {
    "pycharm": {
     "name": "#%%\n"
    }
   },
   "outputs": [],
   "source": [
    "# Show the dataframe\n",
    "df = pd.DataFrame(data=vfr_data, columns=['Well', 'Stage', 'Deriv 1 Time', 'VFR D1', 'Deriv 2 Time', 'VFR D2'])\n",
    "df.head(10)"
   ]
  },
  {
   "cell_type": "markdown",
   "metadata": {
    "pycharm": {
     "name": "#%% md\n"
    }
   },
   "source": [
    "### 3.1 Visualize the Pressure Data with Event Locations\n",
    "Example with a selected well and stage number"
   ]
  },
  {
   "cell_type": "code",
   "execution_count": null,
   "metadata": {
    "pycharm": {
     "name": "#%%\n"
    }
   },
   "outputs": [],
   "source": [
    "# Find a particularly interesting well and stage of that well to visualize\n",
    "candidate_wells = list(permian_project.wells().find_by_display_name('C1'))\n",
    "well_0 = candidate_wells[0]\n",
    "selected_stage = well_0.stages().find_by_display_stage_number(8)\n",
    "\n",
    "p_stg = p_data[selected_stage.start_time:selected_stage.stop_time]\n",
    "plt.plot(p_stg, label='PData')\n",
    "ymin, ymax = plt.ylim()\n",
    "\n",
    "selected_ndx = 7  # Matches the DF index\n",
    "d1_x = df.iloc[selected_ndx]['Deriv 1 Time']\n",
    "if d1_x is not None:\n",
    "    plt.vlines(d1_x, ymin, ymax,  'r', label='Deriv 1 Event Time')\n",
    "\n",
    "d2_x = df.iloc[selected_ndx]['Deriv 2 Time']\n",
    "if d2_x is not None:\n",
    "    plt.vlines(d2_x, ymin, ymax,  'k', label='Deriv 2 Event Time')\n",
    "\n",
    "plt.legend()\n",
    "plt.xlabel('Time')\n",
    "plt.ylabel('Pressure')\n",
    "plt.title('VFR Analysis with Multiple Event Detectors')\n",
    "\n",
    "plt.show()"
   ]
  }
 ],
 "metadata": {
  "kernelspec": {
   "display_name": "Python 3",
   "language": "python",
   "name": "python3"
  },
  "language_info": {
   "codemirror_mode": {
    "name": "ipython",
    "version": 3
   },
   "file_extension": ".py",
   "mimetype": "text/x-python",
   "name": "python",
   "nbconvert_exporter": "python",
   "pygments_lexer": "ipython3",
   "version": "3.8.6"
  }
 },
 "nbformat": 4,
 "nbformat_minor": 1
}