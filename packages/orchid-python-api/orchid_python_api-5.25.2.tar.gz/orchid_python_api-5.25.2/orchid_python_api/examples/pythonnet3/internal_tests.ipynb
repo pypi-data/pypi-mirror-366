{
 "cells": [
  {
   "cell_type": "markdown",
   "id": "5cb81607",
   "metadata": {},
   "source": [
    "# Repairs of Python.NET 3 breaking changes to internal tests"
   ]
  },
  {
   "cell_type": "markdown",
   "id": "67a1d4fb",
   "metadata": {},
   "source": [
    "## 0 Load a runtime before calling `import clr`"
   ]
  },
  {
   "cell_type": "markdown",
   "source": [
    "\n",
    "In order to access .NET assemblies (`.dll` files), one must load an available runtime before executing the\n",
    "`import clr` statement. (If one calls `import clr` before specifying a runtime, Python.NET will load a default\n",
    "runtime which may **not** be compatible with the installed Orchid assemblies.\n",
    "\n",
    "To make this easier, when we `import` the `orchid` package, the Orchid Python API will load the runtime\n",
    "corresponding to the configured Orchid installation."
   ],
   "metadata": {
    "collapsed": false
   }
  },
  {
   "cell_type": "code",
   "execution_count": null,
   "id": "eb29845a-d005-49eb-8c8e-9d89498ab911",
   "metadata": {},
   "outputs": [],
   "source": [
    "import orchid\n",
    "\n",
    "from orchid import (\n",
    "    net_fracture_diagnostics_factory as net_factory,\n",
    ")"
   ]
  },
  {
   "cell_type": "code",
   "execution_count": null,
   "id": "19621d00-1157-4131-85f2-82b068d9ad77",
   "metadata": {},
   "outputs": [],
   "source": [
    "#noinspection PyPackageRequirements\n",
    "import clr"
   ]
  },
  {
   "cell_type": "code",
   "execution_count": null,
   "id": "62978d22",
   "metadata": {
    "collapsed": false,
    "jupyter": {
     "outputs_hidden": false
    }
   },
   "outputs": [],
   "source": [
    "# noinspection PyUnresolvedReferences,PyPackageRequirements\n",
    "from System import (\n",
    "    ArgumentException,\n",
    "    Convert,\n",
    "    DateTime,\n",
    "    DateTimeKind,\n",
    "    DateTimeOffset,\n",
    "    Int32,\n",
    "    InvalidCastException,\n",
    "    TimeSpan,\n",
    ")\n",
    "\n",
    "object_factory = net_factory.create()"
   ]
  },
  {
   "cell_type": "markdown",
   "id": "09125724",
   "metadata": {},
   "source": [
    "## 1 Reduce the implicit conversions between Python types and .NET Types"
   ]
  },
  {
   "cell_type": "markdown",
   "id": "fbd07c48-bcf3-461f-9c25-75dfd1a10fe3",
   "metadata": {},
   "source": [
    "### 1.1 Equality between Python `int` values and `DateTimeOffset.MaxValue` no longer supported\n",
    "\n",
    "Python.NET 2.5.2 allowed a developer to test for equality between Python `int` values and values of type `DateTimeOffset`\n",
    "by performing an implicit conversion of the `DateTimeOffset` type."
   ]
  },
  {
   "cell_type": "code",
   "execution_count": null,
   "id": "c8e82555",
   "metadata": {
    "collapsed": false,
    "jupyter": {
     "outputs_hidden": false
    }
   },
   "outputs": [],
   "source": [
    "try:\n",
    "    print('Trying `108 == DateTimeOffset.Value`')\n",
    "    108 == DateTimeOffset.MaxValue\n",
    "except TypeError as nie:\n",
    "    print(f'TypeError: {nie}')"
   ]
  },
  {
   "cell_type": "code",
   "execution_count": null,
   "id": "70c69c1a",
   "metadata": {
    "collapsed": false,
    "jupyter": {
     "outputs_hidden": false
    }
   },
   "outputs": [],
   "source": [
    "try:\n",
    "    print('Trying `108 == TimeSpan.MaxValue`')\n",
    "    108 == TimeSpan.MaxValue\n",
    "except TypeError as nie:\n",
    "    print(f'TypeError: {nie}')"
   ]
  },
  {
   "cell_type": "markdown",
   "id": "7e9c7d01",
   "metadata": {},
   "source": [
    "We filed an issue with the Python.NET team. They responded with the following:\n",
    "\n",
    "> Yes, we tried to limit the \"implicit\" conversions to a minimum. I don't even know, which change in particular is responsible for the behavioural ~change~ fix that you are observing here, but you are only able to compare things to a .NET object that are directly convertible to it. If you'd really require this for `DateTimeOffset` and `TimeSpan`, you could make them convertible via a [Codec](https://pythonnet.github.io/pythonnet/codecs.html). Otherwise, I'd suggest you just generate the respective comparison values using `.FromTicks`.\n",
    "\n",
    "Python.NET 3 requires a developer to explicitly use the `DateTimeOffset.Ticks` for in the equality test."
   ]
  },
  {
   "cell_type": "code",
   "execution_count": null,
   "id": "33b359d3",
   "metadata": {
    "collapsed": false,
    "jupyter": {
     "outputs_hidden": false
    }
   },
   "outputs": [],
   "source": [
    "108 == DateTimeOffset.MaxValue.Ticks"
   ]
  },
  {
   "cell_type": "code",
   "execution_count": null,
   "id": "3f27a7ab",
   "metadata": {
    "collapsed": false,
    "jupyter": {
     "outputs_hidden": false
    }
   },
   "outputs": [],
   "source": [
    "108 == TimeSpan.MaxValue.Ticks"
   ]
  },
  {
   "cell_type": "code",
   "execution_count": null,
   "id": "2b082dc2",
   "metadata": {
    "collapsed": false,
    "jupyter": {
     "outputs_hidden": false
    }
   },
   "outputs": [],
   "source": [
    "108 == TimeSpan.MinValue.Ticks"
   ]
  },
  {
   "cell_type": "markdown",
   "id": "0b684663",
   "metadata": {},
   "source": [
    "### 1.2 Less effort to make Python constructors \"just work\""
   ]
  },
  {
   "cell_type": "markdown",
   "id": "cd131386-c6db-4f30-879d-4bf3933c34dd",
   "metadata": {},
   "source": [
    "Python.NET 2.5.2 allowed expressions like `TimeSpan()`. (Note that the .NET `TimeSpan` class **does not** have a \n",
    "default constructor.) This expression is no longer supported. Instead, one must supply an argument \n",
    "(perhaps zero (0)) to the constructor, or one must use methods like `TimeSpan.FromTicks()`."
   ]
  },
  {
   "cell_type": "code",
   "execution_count": null,
   "id": "285a617e",
   "metadata": {
    "collapsed": false,
    "jupyter": {
     "outputs_hidden": false
    }
   },
   "outputs": [],
   "source": [
    "try:\n",
    "    print('Trying expression, `TimeSpan()`')\n",
    "    TimeSpan()\n",
    "except TypeError as te:\n",
    "    print(f'TypeError: {te}')"
   ]
  },
  {
   "cell_type": "code",
   "execution_count": null,
   "outputs": [],
   "source": [
    "TimeSpan(8801).ToString()"
   ],
   "metadata": {
    "collapsed": false
   }
  },
  {
   "cell_type": "code",
   "execution_count": null,
   "id": "5b724d19",
   "metadata": {
    "collapsed": false,
    "jupyter": {
     "outputs_hidden": false
    }
   },
   "outputs": [],
   "source": [
    "TimeSpan(0).ToString()"
   ]
  },
  {
   "cell_type": "code",
   "execution_count": null,
   "id": "e925196a",
   "metadata": {
    "collapsed": false,
    "jupyter": {
     "outputs_hidden": false
    }
   },
   "outputs": [],
   "source": [
    "TimeSpan.FromTicks(0).ToString()"
   ]
  },
  {
   "cell_type": "markdown",
   "id": "0e18d060",
   "metadata": {
    "tags": []
   },
   "source": [
    "## 2 Adding attributes with integer values requires explicit conversion"
   ]
  },
  {
   "cell_type": "markdown",
   "id": "09f6952f-b06e-4880-90c6-7038cd0928b6",
   "metadata": {
    "tags": []
   },
   "source": [
    "(This issue occurred in **both** internal testing and low-level script testing and so is duplicated.)"
   ]
  },
  {
   "cell_type": "markdown",
   "id": "214f3fe6-5376-4899-9c05-61db0d0db871",
   "metadata": {
    "tags": []
   },
   "source": [
    "During integration testing, we discovered an issue setting an attribute with type, `Int32`, using a Python `int` value of 7. The run-time reported that the types, `Int32` and `PyInt` were incompatible."
   ]
  },
  {
   "cell_type": "markdown",
   "id": "40fa5c5b-2a73-4fe1-b1d2-ae88d5d415a4",
   "metadata": {
    "tags": []
   },
   "source": [
    "This scenario requires significant set up."
   ]
  },
  {
   "cell_type": "code",
   "execution_count": null,
   "id": "4149ddd8",
   "metadata": {
    "tags": []
   },
   "outputs": [],
   "source": [
    "# Find the well named 'Demo_1H'\n",
    "bakken = orchid.load_project('c:/src/Orchid.IntegrationTestData/frankNstein_Bakken_UTM13_FEET.ifrac')\n",
    "candidate_wells = list(bakken.wells().find_by_name('Demo_1H'))\n",
    "assert len(candidate_wells) == 1\n",
    "demo_1h = candidate_wells[0]"
   ]
  },
  {
   "cell_type": "code",
   "execution_count": null,
   "id": "e26ca26e",
   "metadata": {
    "collapsed": false,
    "jupyter": {
     "outputs_hidden": false
    }
   },
   "outputs": [],
   "source": [
    "# Create an attribute with name, 'My New Attribute', and type, `System.Int32`\n",
    "attribute_to_add_type = Int32\n",
    "attribute_to_add = object_factory.CreateAttribute[attribute_to_add_type]('My New Attribute', -1)"
   ]
  },
  {
   "cell_type": "code",
   "execution_count": null,
   "id": "8e4cff25",
   "metadata": {
    "collapsed": false,
    "jupyter": {
     "outputs_hidden": false
    }
   },
   "outputs": [],
   "source": [
    "# Add newly created attribute to well, 'Demo_1H'\n",
    "with orchid.dot_net_disposable.disposable(demo_1h.dom_object.ToMutable()) as mutable_well:\n",
    "    mutable_well.AddStageAttribute(attribute_to_add)"
   ]
  },
  {
   "cell_type": "code",
   "execution_count": null,
   "id": "995a1e44",
   "metadata": {
    "collapsed": false,
    "jupyter": {
     "outputs_hidden": false
    }
   },
   "outputs": [],
   "source": [
    "# Find stage number 7 in well, 'Demo_1H'\n",
    "maybe_stage = demo_1h.stages().find_by_display_stage_number(7)\n",
    "assert maybe_stage is not None\n",
    "stage_7 = maybe_stage"
   ]
  },
  {
   "cell_type": "code",
   "execution_count": null,
   "id": "272de977",
   "metadata": {
    "collapsed": false,
    "jupyter": {
     "outputs_hidden": false
    }
   },
   "outputs": [],
   "source": [
    "# Add attribute with value, 17, to stage 7, with Python `int` type.\n",
    "with (orchid.dot_net_disposable.disposable(stage_7.dom_object.ToMutable())) as mutable_stage:\n",
    "    # This action will fail because the attribute type is `System.Int32`\n",
    "    # and `pythonnet-3.0.0.post1` **does not** implicitly equate these two types.\n",
    "    try:\n",
    "        mutable_stage.SetAttribute(attribute_to_add, int)\n",
    "    except ArgumentException as ae:\n",
    "        print(f'ArgumentException: {ae}')"
   ]
  },
  {
   "cell_type": "code",
   "execution_count": null,
   "id": "9c7bf798",
   "metadata": {
    "collapsed": false,
    "jupyter": {
     "outputs_hidden": false
    }
   },
   "outputs": [],
   "source": [
    "# Add attribute to stage 7 with a value of 17 **explicitly** converted to an `Int32`\n",
    "with (orchid.dot_net_disposable.disposable(stage_7.dom_object.ToMutable())) as mutable_stage:\n",
    "    mutable_stage.SetAttribute(attribute_to_add, attribute_to_add_type(7))"
   ]
  },
  {
   "cell_type": "code",
   "execution_count": null,
   "id": "c599a940",
   "metadata": {
    "tags": []
   },
   "outputs": [],
   "source": [
    "# Verify added attribute value\n",
    "ignored_object = object()\n",
    "is_attribute_present, actual_attribute_value = stage_7.dom_object.TryGetAttributeValue(attribute_to_add,\n",
    "                                                                                       ignored_object)\n",
    "assert is_attribute_present\n",
    "assert type(actual_attribute_value) == int\n",
    "assert actual_attribute_value == 7"
   ]
  },
  {
   "cell_type": "markdown",
   "id": "03743bac",
   "metadata": {},
   "source": [
    "## 3 Disabled implicit conversion from C# Enums to Python `int` and back"
   ]
  },
  {
   "cell_type": "markdown",
   "id": "57a671c5-e582-48f3-a5bc-9e126d0280e3",
   "metadata": {},
   "source": [
    "### 3.1 Reduced need for and changed behavior of `Overloads` (`__overloads__` in Python.NET 3)"
   ]
  },
  {
   "cell_type": "markdown",
   "id": "75542248-306f-4980-9493-05ac2ac0798a",
   "metadata": {},
   "source": [
    "The .NET `DateTime` class has many overloaded constructors. Because version Python.NET 2.5.2 converted members \n",
    "of .NET Enum types into Python `int` values, the method resolution process could not distinguish between the\n",
    "`DateTime` constructor taking 7 `System.Int32` arguments (the last specifying milliseconds) and the constructor\n",
    "accepting 6 `System.Int32` values and a `DateTimeKind` member. Consequently, a developer of the Orchid Python API\n",
    "had to specify an overload in order to invoke the appropriate constructor."
   ]
  },
  {
   "cell_type": "markdown",
   "source": [
    "Under Python 2.5.2, one used the `Overloads` attribute to select a specific overload. Additionally, the\n",
    "`Overloads` attribute could be queried to return a `list` of available overloads.\n",
    "\n",
    "Under Python 3, querying the `__overloads__` (preferred but `Overloads` is also available) produces an unexpected\n",
    "result."
   ],
   "metadata": {
    "collapsed": false
   }
  },
  {
   "cell_type": "code",
   "execution_count": null,
   "id": "84efa409",
   "metadata": {
    "collapsed": false,
    "jupyter": {
     "outputs_hidden": false
    }
   },
   "outputs": [],
   "source": [
    "DateTime.Overloads, DateTime.__overloads__"
   ]
  },
  {
   "cell_type": "markdown",
   "source": [
    "Our working hypothesis is that the Python.NET method resolution algorithm could find any overloads for the\n",
    "constructor and, therefore, produces this behavior.\n",
    "\n",
    "Additionally, we did create a issue with the Python.NET team. In the response to our issue, the Python.NET team\n",
    "indicated that `__overloads__` was not an attribute but a [property](https://realpython.com/python-property/)."
   ],
   "metadata": {
    "collapsed": false
   }
  },
  {
   "cell_type": "code",
   "execution_count": null,
   "id": "e31dbd54",
   "metadata": {
    "collapsed": false,
    "jupyter": {
     "outputs_hidden": false
    }
   },
   "outputs": [],
   "source": [
    "type(DateTime.__overloads__)"
   ]
  },
  {
   "cell_type": "markdown",
   "source": [
    "### 3.2 .NET Enum members are no longer converted to Python `int` values"
   ],
   "metadata": {
    "collapsed": false
   }
  },
  {
   "cell_type": "markdown",
   "source": [
    "Python.NET 2.5.2 implicitly converted .NET `Enum` members to Python `int` values. Python.NET 3 exposes\n",
    "the (derived) .NET `Enum` type to Python."
   ],
   "metadata": {
    "collapsed": false
   }
  },
  {
   "cell_type": "code",
   "execution_count": null,
   "id": "d3a66c2c",
   "metadata": {
    "collapsed": false,
    "jupyter": {
     "outputs_hidden": false
    }
   },
   "outputs": [],
   "source": [
    "type(DateTimeKind.Utc)"
   ]
  },
  {
   "cell_type": "code",
   "execution_count": null,
   "id": "4c637a15",
   "metadata": {
    "collapsed": false,
    "jupyter": {
     "outputs_hidden": false
    }
   },
   "outputs": [],
   "source": [
    "dir(DateTimeKind.Utc)"
   ]
  },
  {
   "cell_type": "code",
   "execution_count": null,
   "id": "6e1dadf3",
   "metadata": {
    "collapsed": false,
    "jupyter": {
     "outputs_hidden": false
    }
   },
   "outputs": [],
   "source": [
    "DateTimeKind.Utc.GetType()"
   ]
  },
  {
   "cell_type": "code",
   "execution_count": null,
   "id": "4c5698df",
   "metadata": {
    "collapsed": false,
    "jupyter": {
     "outputs_hidden": false
    }
   },
   "outputs": [],
   "source": [
    "dir(DateTimeKind.Utc.GetType())"
   ]
  },
  {
   "cell_type": "code",
   "execution_count": null,
   "id": "8a089b1e",
   "metadata": {
    "collapsed": false,
    "jupyter": {
     "outputs_hidden": false
    }
   },
   "outputs": [],
   "source": [
    "DateTimeKind.Utc.GetType().BaseType"
   ]
  },
  {
   "cell_type": "code",
   "execution_count": null,
   "id": "8422b281",
   "metadata": {
    "collapsed": false,
    "jupyter": {
     "outputs_hidden": false
    }
   },
   "outputs": [],
   "source": [
    "DateTimeKind.Utc.GetType().BaseType.FullName"
   ]
  },
  {
   "cell_type": "markdown",
   "source": [
    "Because Python.NET 3 retains the .NET `Enum` member, Python.NET can then resolve the `DateTime`\n",
    "7-argument constructor with the `DateTimeKind` last argument without \"help\"."
   ],
   "metadata": {
    "collapsed": false
   }
  },
  {
   "cell_type": "code",
   "execution_count": null,
   "id": "6fe7005f-a6b8-487c-8168-be18b3adc52a",
   "metadata": {
    "collapsed": false,
    "jupyter": {
     "outputs_hidden": false
    }
   },
   "outputs": [],
   "source": [
    "DateTime(2021, 12, 1, 12, 15, 37, DateTimeKind.Utc).ToString('o')"
   ]
  },
  {
   "cell_type": "markdown",
   "id": "b2aef865-cd29-44ab-9649-a1cca7299ad0",
   "metadata": {},
   "source": [
    "### 3.3 Eliminated need to inherit from Python `enum.IntEnum` for compatibility with .NET Enum types"
   ]
  },
  {
   "cell_type": "markdown",
   "id": "59b9582e-8095-4c06-b6d4-eea6015aa064",
   "metadata": {},
   "source": [
    "Version 2.5.2 of `pythonnet` converted values of type .NET Enum to Python `int` values. Consequently, to support \n",
    "easy comparisons between the .NET type, `Orchid.FractureDiagnostics.FormationConnectionType` and the Python \n",
    "enumeration, `native_stage_adapter.ConnectionType`, we defined `native_stage_adapter.ConnectionType` to inherit \n",
    "from `enum.IntEnum`.  This base class is not needed in `pythonnet-3.0.0.post1` because the enumeration member \n",
    "`native_stage_adapter.ConnectionType.PLUG_AND_PERF`, defined to have a value of\n",
    "`Orchid.FractureDiagnostics.FormationConnectionType` is no longer of type `int` but is actually of type, \n",
    "`Orchid.FractureDiagnostics.FormationConnectionType`."
   ]
  },
  {
   "cell_type": "code",
   "execution_count": null,
   "id": "21af759e",
   "metadata": {
    "collapsed": false,
    "jupyter": {
     "outputs_hidden": false
    }
   },
   "outputs": [],
   "source": [
    "# Returned `True` in `pythonnet-2.5.2`\n",
    "orchid.net_date_time.TimePointTimeZoneKind.UTC == 0"
   ]
  },
  {
   "cell_type": "code",
   "execution_count": null,
   "id": "c86fe687",
   "metadata": {
    "collapsed": false,
    "jupyter": {
     "outputs_hidden": false
    }
   },
   "outputs": [],
   "source": [
    "orchid.net_date_time.DateTimeKind"
   ]
  },
  {
   "cell_type": "code",
   "execution_count": null,
   "id": "17e1ed8a",
   "metadata": {
    "collapsed": false,
    "jupyter": {
     "outputs_hidden": false
    }
   },
   "outputs": [],
   "source": [
    "orchid.net_date_time.TimePointTimeZoneKind"
   ]
  },
  {
   "cell_type": "code",
   "execution_count": null,
   "id": "fe7f194c",
   "metadata": {
    "collapsed": false,
    "jupyter": {
     "outputs_hidden": false
    }
   },
   "outputs": [],
   "source": [
    "orchid.net_date_time.TimePointTimeZoneKind.UTC"
   ]
  },
  {
   "cell_type": "code",
   "execution_count": null,
   "id": "dc550cbe",
   "metadata": {
    "collapsed": false,
    "jupyter": {
     "outputs_hidden": false
    }
   },
   "outputs": [],
   "source": [
    "orchid.net_date_time.TimePointTimeZoneKind.UTC.value"
   ]
  },
  {
   "cell_type": "code",
   "execution_count": null,
   "id": "296394b2",
   "metadata": {
    "collapsed": false,
    "jupyter": {
     "outputs_hidden": false
    }
   },
   "outputs": [],
   "source": [
    "# Similarly, this expression returned `True` in `pythonnet-2.5.2`\n",
    "orchid.native_stage_adapter.ConnectionType == 0"
   ]
  },
  {
   "cell_type": "code",
   "execution_count": null,
   "id": "63906824",
   "metadata": {
    "collapsed": false,
    "jupyter": {
     "outputs_hidden": false
    }
   },
   "outputs": [],
   "source": [
    "orchid.native_stage_adapter.FormationConnectionType"
   ]
  },
  {
   "cell_type": "code",
   "execution_count": null,
   "id": "f7fedaf3",
   "metadata": {
    "collapsed": false,
    "jupyter": {
     "outputs_hidden": false
    }
   },
   "outputs": [],
   "source": [
    "orchid.native_stage_adapter.ConnectionType"
   ]
  },
  {
   "cell_type": "code",
   "execution_count": null,
   "id": "16ffb9b6",
   "metadata": {
    "collapsed": false,
    "jupyter": {
     "outputs_hidden": false
    }
   },
   "outputs": [],
   "source": [
    "orchid.native_stage_adapter.ConnectionType.PLUG_AND_PERF"
   ]
  },
  {
   "cell_type": "code",
   "execution_count": null,
   "id": "f95f8d76",
   "metadata": {
    "collapsed": false,
    "jupyter": {
     "outputs_hidden": false
    }
   },
   "outputs": [],
   "source": [
    "orchid.native_stage_adapter.ConnectionType.OPEN_HOLE"
   ]
  },
  {
   "cell_type": "code",
   "execution_count": null,
   "id": "43cdb7cc",
   "metadata": {
    "collapsed": false,
    "jupyter": {
     "outputs_hidden": false
    }
   },
   "outputs": [],
   "source": [
    "orchid.native_stage_adapter.ConnectionType.PLUG_AND_PERF.value.ToString()"
   ]
  },
  {
   "cell_type": "markdown",
   "id": "b3487252",
   "metadata": {},
   "source": [
    "## 4 Return values from .NET methods that return an interface are now automatically wrapped in that interface"
   ]
  },
  {
   "cell_type": "markdown",
   "id": "4903ade3",
   "metadata": {},
   "source": [
    "Under `pythonnet-2.5.2`, running the following `doctest` passes:\n",
    "\n",
    "```\n",
    "    >>> start = pendulum.parse('2022-02-23T15:53:23Z')\n",
    "    >>> stop = pendulum.parse('2022-02-24T05:54:11Z')\n",
    "    >>> net_start = ndt.as_net_date_time(start)\n",
    "    >>> net_stop = ndt.as_net_date_time(stop)\n",
    "    >>> factory = create()\n",
    "    >>> date_time_offset_range = factory.CreateDateTimeOffsetRange(net_start, net_stop)\n",
    "    >>> (date_time_offset_range.Start.ToString('o'), date_time_offset_range.Stop.ToString('o'))\n",
    "    ('2022-02-23T15:53:23.0000000+00:00', '2022-02-24T05:54:11.0000000+00:00')\n",
    "```"
   ]
  },
  {
   "cell_type": "markdown",
   "id": "ae980d4e",
   "metadata": {},
   "source": [
    "When running the same `doctest` using `pythonnet-3.0.0.post1`, this code\n",
    "encounters an unhandled exception:\n",
    "\n",
    "```\n",
    "Error\n",
    "**********************************************************************\n",
    "File \"C:\\src\\orchid-python-api\\orchid\\net_fracture_diagnostics_factory.py\", line ?, in net_fracture_diagnostics_factory.create\n",
    "Failed example:\n",
    "    (date_time_offset_range.Start.ToString('o'), date_time_offset_range.Stop.ToString('o'))\n",
    "Exception raised:\n",
    "    Traceback (most recent call last):\n",
    "      File \"C:/Users/larry.jones/AppData/Local/JetBrains/Toolbox/apps/PyCharm-P/ch-0/222.4459.20/plugins/python/helpers/pycharm/docrunner.py\", line 138, in __run\n",
    "        exec(compile(example.source, filename, \"single\",\n",
    "      File \"<doctest net_fracture_diagnostics_factory.create[6]>\", line 1, in <module>\n",
    "        (date_time_offset_range.Start.ToString('o'), date_time_offset_range.Stop.ToString('o'))\n",
    "    TypeError: No method matches given arguments for Object.ToString: (<class 'str'>)\n",
    "```"
   ]
  },
  {
   "cell_type": "code",
   "execution_count": null,
   "id": "5e20a223",
   "metadata": {
    "collapsed": false,
    "jupyter": {
     "outputs_hidden": false
    }
   },
   "outputs": [],
   "source": [
    "import pendulum"
   ]
  },
  {
   "cell_type": "code",
   "execution_count": null,
   "id": "7e2bdec9",
   "metadata": {
    "collapsed": false,
    "jupyter": {
     "outputs_hidden": false
    }
   },
   "outputs": [],
   "source": [
    "start = pendulum.parse('2022-02-23T15:53:23Z')\n",
    "stop = pendulum.parse('2022-02-24T05:54:11Z')\n",
    "net_start = orchid.net_date_time.as_net_date_time(start)\n",
    "net_stop = orchid.net_date_time.as_net_date_time(stop)\n",
    "factory = orchid.net_fracture_diagnostics_factory.create()"
   ]
  },
  {
   "cell_type": "code",
   "execution_count": null,
   "id": "b5a7e9a7",
   "metadata": {
    "collapsed": false,
    "jupyter": {
     "outputs_hidden": false
    }
   },
   "outputs": [],
   "source": [
    "date_time_offset_range = factory.CreateDateTimeOffsetRange(net_start, net_stop)\n",
    "type(date_time_offset_range)"
   ]
  },
  {
   "cell_type": "code",
   "execution_count": null,
   "id": "817ea281",
   "metadata": {
    "collapsed": false,
    "jupyter": {
     "outputs_hidden": false
    }
   },
   "outputs": [],
   "source": [
    "dir(date_time_offset_range)"
   ]
  },
  {
   "cell_type": "code",
   "execution_count": null,
   "id": "1c5d762f",
   "metadata": {
    "collapsed": false,
    "jupyter": {
     "outputs_hidden": false
    }
   },
   "outputs": [],
   "source": [
    "str(date_time_offset_range)"
   ]
  },
  {
   "cell_type": "code",
   "execution_count": null,
   "id": "c33fc1c6",
   "metadata": {
    "collapsed": false,
    "jupyter": {
     "outputs_hidden": false
    }
   },
   "outputs": [],
   "source": [
    "date_time_offset_range.Start.GetType().FullName"
   ]
  },
  {
   "cell_type": "code",
   "execution_count": null,
   "id": "0838bc72",
   "metadata": {
    "collapsed": false,
    "jupyter": {
     "outputs_hidden": false
    }
   },
   "outputs": [],
   "source": [
    "net_range_start = date_time_offset_range.Start\n",
    "type(net_range_start)"
   ]
  },
  {
   "cell_type": "code",
   "execution_count": null,
   "id": "2da482a8",
   "metadata": {
    "collapsed": false,
    "jupyter": {
     "outputs_hidden": false
    }
   },
   "outputs": [],
   "source": [
    "try:\n",
    "    net_range_start.ToString('o')\n",
    "except TypeError as te:\n",
    "    print(f'TypeError: {te}')"
   ]
  },
  {
   "cell_type": "code",
   "execution_count": null,
   "id": "db3da74d",
   "metadata": {
    "collapsed": false,
    "jupyter": {
     "outputs_hidden": false
    }
   },
   "outputs": [],
   "source": [
    "net_range_start.ToString()"
   ]
  },
  {
   "cell_type": "code",
   "execution_count": null,
   "id": "5a759870",
   "metadata": {
    "collapsed": false,
    "jupyter": {
     "outputs_hidden": false
    }
   },
   "outputs": [],
   "source": [
    "type(net_range_start)"
   ]
  },
  {
   "cell_type": "code",
   "execution_count": null,
   "id": "b4dd8158",
   "metadata": {
    "collapsed": false,
    "jupyter": {
     "outputs_hidden": false
    }
   },
   "outputs": [],
   "source": [
    "net_range_start.GetType().FullName"
   ]
  },
  {
   "cell_type": "code",
   "execution_count": null,
   "id": "01b12059",
   "metadata": {
    "collapsed": false,
    "jupyter": {
     "outputs_hidden": false
    }
   },
   "outputs": [],
   "source": [
    "dir(net_range_start.GetType())"
   ]
  },
  {
   "cell_type": "code",
   "execution_count": null,
   "id": "04527074",
   "metadata": {
    "collapsed": false,
    "jupyter": {
     "outputs_hidden": false
    }
   },
   "outputs": [],
   "source": [
    "[iface.FullName for iface in net_range_start.GetType().GetInterfaces()]"
   ]
  },
  {
   "cell_type": "markdown",
   "source": [
    "Unfortunately, .NET does not support conversion from the interface to the actual class."
   ],
   "metadata": {
    "collapsed": false
   }
  },
  {
   "cell_type": "code",
   "execution_count": null,
   "id": "e4676c51",
   "metadata": {
    "collapsed": false,
    "jupyter": {
     "outputs_hidden": false
    }
   },
   "outputs": [],
   "source": [
    "try:\n",
    "    error_net_range_start = Convert.ChangeType(date_time_offset_range, DateTimeOffset)\n",
    "    type(error_net_range_start)\n",
    "except InvalidCastException as ice:\n",
    "    print(f'InvalidCastException {ice}')"
   ]
  },
  {
   "cell_type": "markdown",
   "id": "13fe6452",
   "metadata": {},
   "source": [
    "Although I could work around the issue by calling `ToString()`, I was not very satisfied. After posting [an issue](https://github.com/pythonnet/pythonnet/issues/2034), I received a [response](https://github.com/pythonnet/pythonnet/issues/2034#issuecomment-1332728831) that stated:\n",
    "\n",
    "> You can access `__implementation__` (codecs applied) or `__raw_implementation__` (codecs not applied)."
   ]
  },
  {
   "cell_type": "code",
   "execution_count": null,
   "id": "166808e3",
   "metadata": {
    "collapsed": false,
    "jupyter": {
     "outputs_hidden": false
    }
   },
   "outputs": [],
   "source": [
    "net_range_start.__implementation__"
   ]
  },
  {
   "cell_type": "code",
   "execution_count": null,
   "id": "3d457a8f",
   "metadata": {
    "collapsed": false,
    "jupyter": {
     "outputs_hidden": false
    }
   },
   "outputs": [],
   "source": [
    "net_range_start.__raw_implementation__"
   ]
  },
  {
   "cell_type": "code",
   "execution_count": null,
   "id": "79a6dc9a",
   "metadata": {
    "collapsed": false,
    "jupyter": {
     "outputs_hidden": false
    }
   },
   "outputs": [],
   "source": [
    "[o.__implementation__.ToString('o') for o in (date_time_offset_range.Start, date_time_offset_range.Stop)]"
   ]
  },
  {
   "cell_type": "code",
   "execution_count": null,
   "id": "ca97fb91-ee25-4759-8023-8a62458f536c",
   "metadata": {
    "collapsed": false,
    "jupyter": {
     "outputs_hidden": false
    }
   },
   "outputs": [],
   "source": []
  }
 ],
 "metadata": {
  "kernelspec": {
   "display_name": "Python 3 (ipykernel)",
   "language": "python",
   "name": "python3"
  },
  "language_info": {
   "codemirror_mode": {
    "name": "ipython",
    "version": 3
   },
   "file_extension": ".py",
   "mimetype": "text/x-python",
   "name": "python",
   "nbconvert_exporter": "python",
   "pygments_lexer": "ipython3",
   "version": "3.8.10"
  }
 },
 "nbformat": 4,
 "nbformat_minor": 5
}
