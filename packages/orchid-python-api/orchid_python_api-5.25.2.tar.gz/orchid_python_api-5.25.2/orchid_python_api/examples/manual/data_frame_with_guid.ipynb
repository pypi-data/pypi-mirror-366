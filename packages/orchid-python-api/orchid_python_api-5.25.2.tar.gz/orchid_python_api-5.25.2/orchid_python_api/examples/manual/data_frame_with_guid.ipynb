{
 "cells": [
  {
   "cell_type": "code",
   "execution_count": null,
   "outputs": [],
   "source": [
    "#  Copyright (c) 2017-2025 KAPPA\n",
    "#\n",
    "#  Licensed under the Apache License, Version 2.0 (the \"License\");\n",
    "#  you may not use this file except in compliance with the License.\n",
    "#  You may obtain a copy of the License at\n",
    "#\n",
    "#      https://www.apache.org/licenses/LICENSE-2.0\n",
    "#\n",
    "#  Unless required by applicable law or agreed to in writing, software\n",
    "#  distributed under the License is distributed on an \"AS IS\" BASIS,\n",
    "#  WITHOUT WARRANTIES OR CONDITIONS OF ANY KIND, either express or implied.\n",
    "#  See the License for the specific language governing permissions and\n",
    "#  limitations under the License.\n",
    "#\n",
    "# This file is part of Orchid and related technologies.\n",
    "#"
   ],
   "metadata": {
    "collapsed": false
   }
  },
  {
   "cell_type": "markdown",
   "metadata": {},
   "source": [
    "# Example: Searching for project data frames"
   ]
  },
  {
   "cell_type": "markdown",
   "source": [
    "** WARNING **\n",
    "\n",
    "This example is only temporary."
   ],
   "metadata": {
    "collapsed": false
   }
  },
  {
   "cell_type": "markdown",
   "metadata": {},
   "source": [
    "This notebook illustrates using the Orchid* Python API and the `pandas` package to\n",
    "search for and display a project data frame with a column of type `System.Guid`.\n",
    "\n",
    "(*Orchid is a mark of KAPPA.)"
   ]
  },
  {
   "cell_type": "markdown",
   "metadata": {},
   "source": [
    "## 0.5 Import packages"
   ]
  },
  {
   "cell_type": "markdown",
   "metadata": {},
   "source": [
    "The only import needed for the Orchid Python API is `orchid` itself."
   ]
  },
  {
   "cell_type": "code",
   "execution_count": 1,
   "metadata": {
    "collapsed": false,
    "jupyter": {
     "outputs_hidden": false
    }
   },
   "outputs": [],
   "source": [
    "import orchid"
   ]
  },
  {
   "cell_type": "markdown",
   "metadata": {},
   "source": [
    "The remaining imports are standard python packages to support the analysis."
   ]
  },
  {
   "cell_type": "code",
   "execution_count": 2,
   "metadata": {
    "collapsed": false,
    "jupyter": {
     "outputs_hidden": false
    }
   },
   "outputs": [],
   "source": [
    "import uuid"
   ]
  },
  {
   "cell_type": "markdown",
   "metadata": {},
   "source": [
    "## 1.0 Load the .ifrac project"
   ]
  },
  {
   "cell_type": "markdown",
   "metadata": {},
   "source": [
    "The following code simply captures the configured location of the Orchid training data. It is not needed to\n",
    "use the Orchid Python API itself, but it is used in this example to load well-known data."
   ]
  },
  {
   "cell_type": "code",
   "execution_count": 3,
   "metadata": {
    "collapsed": false,
    "jupyter": {
     "outputs_hidden": false
    }
   },
   "outputs": [],
   "source": [
    "orchid_training_data_path = orchid.training_data_path()"
   ]
  },
  {
   "cell_type": "code",
   "execution_count": 4,
   "metadata": {
    "collapsed": false,
    "jupyter": {
     "outputs_hidden": false
    }
   },
   "outputs": [],
   "source": [
    "project = orchid.load_project(str(orchid_training_data_path.joinpath(\n",
    "    '05PermianProjectQ3_2022_DataFrames.ifrac')))"
   ]
  },
  {
   "cell_type": "markdown",
   "source": [
    "## 2.0 Search for a data frame using its object ID"
   ],
   "metadata": {
    "collapsed": false
   }
  },
  {
   "cell_type": "markdown",
   "metadata": {},
   "source": [
    "I have copied to the object ID from Orchid itself."
   ]
  },
  {
   "cell_type": "code",
   "execution_count": 5,
   "metadata": {
    "collapsed": false,
    "jupyter": {
     "outputs_hidden": false
    }
   },
   "outputs": [
    {
     "ename": "NotImplementedError",
     "evalue": "Unexpected type, <class 'System.Guid'>, of value, 1439206a-e389-4ff3-95a8-1abd5ba2468c",
     "output_type": "error",
     "traceback": [
      "\u001B[1;31m---------------------------------------------------------------------------\u001B[0m",
      "\u001B[1;31mNotImplementedError\u001B[0m                       Traceback (most recent call last)",
      "Cell \u001B[1;32mIn [5], line 4\u001B[0m\n\u001B[0;32m      1\u001B[0m project_data_frame \u001B[38;5;241m=\u001B[39m project\u001B[38;5;241m.\u001B[39mdata_frames()\u001B[38;5;241m.\u001B[39mfind_by_object_id(\n\u001B[0;32m      2\u001B[0m     uuid\u001B[38;5;241m.\u001B[39mUUID(\u001B[38;5;124m'\u001B[39m\u001B[38;5;124mcd97a60c-6e74-404d-90f0-d04b54968267\u001B[39m\u001B[38;5;124m'\u001B[39m))\n\u001B[0;32m      3\u001B[0m to_display \u001B[38;5;241m=\u001B[39m (\u001B[38;5;124m'\u001B[39m\u001B[38;5;124mNo such data frame\u001B[39m\u001B[38;5;124m'\u001B[39m \u001B[38;5;28;01mif\u001B[39;00m project_data_frame \u001B[38;5;129;01mis\u001B[39;00m \u001B[38;5;28;01mNone\u001B[39;00m\n\u001B[1;32m----> 4\u001B[0m               \u001B[38;5;28;01melse\u001B[39;00m \u001B[43mproject_data_frame\u001B[49m\u001B[38;5;241;43m.\u001B[39;49m\u001B[43mpandas_data_frame\u001B[49m\u001B[43m(\u001B[49m\u001B[43m)\u001B[49m)\n\u001B[0;32m      5\u001B[0m to_display\n",
      "File \u001B[1;32mC:\\src\\orchid-python-api\\orchid\\native_data_frame_adapter.py:92\u001B[0m, in \u001B[0;36mNativeDataFrameAdapterIdentified.pandas_data_frame\u001B[1;34m(self)\u001B[0m\n\u001B[0;32m     85\u001B[0m \u001B[38;5;28;01mdef\u001B[39;00m \u001B[38;5;21mpandas_data_frame\u001B[39m(\u001B[38;5;28mself\u001B[39m) \u001B[38;5;241m-\u001B[39m\u001B[38;5;241m>\u001B[39m pd\u001B[38;5;241m.\u001B[39mDataFrame:\n\u001B[0;32m     86\u001B[0m     \u001B[38;5;124;03m\"\"\"\u001B[39;00m\n\u001B[0;32m     87\u001B[0m \u001B[38;5;124;03m    Return the `pandas` `DataFrame` built from the native `IStaticDataFrame`.\u001B[39;00m\n\u001B[0;32m     88\u001B[0m \n\u001B[0;32m     89\u001B[0m \u001B[38;5;124;03m    Returns:\u001B[39;00m\n\u001B[0;32m     90\u001B[0m \u001B[38;5;124;03m        A `pandas` `DataFrame`.\u001B[39;00m\n\u001B[0;32m     91\u001B[0m \u001B[38;5;124;03m    \"\"\"\u001B[39;00m\n\u001B[1;32m---> 92\u001B[0m     \u001B[38;5;28;01mreturn\u001B[39;00m \u001B[43m_table_to_data_frame\u001B[49m\u001B[43m(\u001B[49m\u001B[38;5;28;43mself\u001B[39;49m\u001B[38;5;241;43m.\u001B[39;49m\u001B[43mdom_object\u001B[49m\u001B[38;5;241;43m.\u001B[39;49m\u001B[43mDataTable\u001B[49m\u001B[43m)\u001B[49m\n",
      "File \u001B[1;32mC:\\src\\orchid-python-api\\orchid\\native_data_frame_adapter.py:166\u001B[0m, in \u001B[0;36m_table_to_data_frame\u001B[1;34m(data_table)\u001B[0m\n\u001B[0;32m    156\u001B[0m \u001B[38;5;28;01mdef\u001B[39;00m \u001B[38;5;21m_table_to_data_frame\u001B[39m(data_table: DataTable):\n\u001B[0;32m    157\u001B[0m     \u001B[38;5;124;03m\"\"\"\u001B[39;00m\n\u001B[0;32m    158\u001B[0m \u001B[38;5;124;03m    Converts a .NET `DataTable` to a `pandas` `DataFrame`.\u001B[39;00m\n\u001B[0;32m    159\u001B[0m \n\u001B[1;32m   (...)\u001B[0m\n\u001B[0;32m    164\u001B[0m \u001B[38;5;124;03m        The `pandas` `DataFrame` converted from the .NET `DataTable`.\u001B[39;00m\n\u001B[0;32m    165\u001B[0m \u001B[38;5;124;03m    \"\"\"\u001B[39;00m\n\u001B[1;32m--> 166\u001B[0m     result \u001B[38;5;241m=\u001B[39m \u001B[43mtoolz\u001B[49m\u001B[38;5;241;43m.\u001B[39;49m\u001B[43mpipe\u001B[49m\u001B[43m(\u001B[49m\u001B[43mdata_table\u001B[49m\u001B[43m,\u001B[49m\n\u001B[0;32m    167\u001B[0m \u001B[43m                        \u001B[49m\u001B[43m_read_data_table\u001B[49m\u001B[43m,\u001B[49m\n\u001B[0;32m    168\u001B[0m \u001B[43m                        \u001B[49m\u001B[43mtoolz\u001B[49m\u001B[38;5;241;43m.\u001B[39;49m\u001B[43mmap\u001B[49m\u001B[43m(\u001B[49m\u001B[43mtoolz\u001B[49m\u001B[38;5;241;43m.\u001B[39;49m\u001B[43mkeymap\u001B[49m\u001B[43m(\u001B[49m\u001B[38;5;28;43;01mlambda\u001B[39;49;00m\u001B[43m \u001B[49m\u001B[43me\u001B[49m\u001B[43m:\u001B[49m\u001B[43m \u001B[49m\u001B[43me\u001B[49m\u001B[43m[\u001B[49m\u001B[38;5;241;43m1\u001B[39;49m\u001B[43m]\u001B[49m\u001B[43m)\u001B[49m\u001B[43m)\u001B[49m\u001B[43m,\u001B[49m\n\u001B[0;32m    169\u001B[0m \u001B[43m                        \u001B[49m\u001B[38;5;28;43mlist\u001B[39;49m\u001B[43m,\u001B[49m\n\u001B[0;32m    170\u001B[0m \u001B[43m                        \u001B[49m\u001B[38;5;28;43;01mlambda\u001B[39;49;00m\u001B[43m \u001B[49m\u001B[43mrs\u001B[49m\u001B[43m:\u001B[49m\u001B[43m \u001B[49m\u001B[43mpd\u001B[49m\u001B[38;5;241;43m.\u001B[39;49m\u001B[43mDataFrame\u001B[49m\u001B[43m(\u001B[49m\u001B[43mdata\u001B[49m\u001B[38;5;241;43m=\u001B[39;49m\u001B[43mrs\u001B[49m\u001B[43m)\u001B[49m\u001B[43m,\u001B[49m\n\u001B[0;32m    171\u001B[0m \u001B[43m                        \u001B[49m\u001B[43m)\u001B[49m\n\u001B[0;32m    172\u001B[0m     \u001B[38;5;28;01mreturn\u001B[39;00m result\n",
      "File \u001B[1;32m~\\AppData\\Local\\pypoetry\\Cache\\virtualenvs\\orchid-python-api-WYNzmHwi-py3.8\\lib\\site-packages\\toolz\\functoolz.py:630\u001B[0m, in \u001B[0;36mpipe\u001B[1;34m(data, *funcs)\u001B[0m\n\u001B[0;32m    610\u001B[0m \u001B[38;5;124;03m\"\"\" Pipe a value through a sequence of functions\u001B[39;00m\n\u001B[0;32m    611\u001B[0m \n\u001B[0;32m    612\u001B[0m \u001B[38;5;124;03mI.e. ``pipe(data, f, g, h)`` is equivalent to ``h(g(f(data)))``\u001B[39;00m\n\u001B[1;32m   (...)\u001B[0m\n\u001B[0;32m    627\u001B[0m \u001B[38;5;124;03m    thread_last\u001B[39;00m\n\u001B[0;32m    628\u001B[0m \u001B[38;5;124;03m\"\"\"\u001B[39;00m\n\u001B[0;32m    629\u001B[0m \u001B[38;5;28;01mfor\u001B[39;00m func \u001B[38;5;129;01min\u001B[39;00m funcs:\n\u001B[1;32m--> 630\u001B[0m     data \u001B[38;5;241m=\u001B[39m \u001B[43mfunc\u001B[49m\u001B[43m(\u001B[49m\u001B[43mdata\u001B[49m\u001B[43m)\u001B[49m\n\u001B[0;32m    631\u001B[0m \u001B[38;5;28;01mreturn\u001B[39;00m data\n",
      "File \u001B[1;32mC:\\src\\orchid-python-api\\orchid\\native_data_frame_adapter.py:193\u001B[0m, in \u001B[0;36m_read_data_table\u001B[1;34m(data_table)\u001B[0m\n\u001B[0;32m    191\u001B[0m     has_row \u001B[38;5;241m=\u001B[39m reader\u001B[38;5;241m.\u001B[39mRead()\n\u001B[0;32m    192\u001B[0m     \u001B[38;5;28;01mwhile\u001B[39;00m has_row:\n\u001B[1;32m--> 193\u001B[0m         \u001B[38;5;28;01myield\u001B[39;00m \u001B[43m_table_row_to_dict\u001B[49m\u001B[43m(\u001B[49m\u001B[43mreader\u001B[49m\u001B[43m)\u001B[49m\n\u001B[0;32m    194\u001B[0m         has_row \u001B[38;5;241m=\u001B[39m reader\u001B[38;5;241m.\u001B[39mRead()\n\u001B[0;32m    195\u001B[0m \u001B[38;5;28;01melse\u001B[39;00m:\n",
      "File \u001B[1;32mC:\\src\\orchid-python-api\\orchid\\native_data_frame_adapter.py:228\u001B[0m, in \u001B[0;36m_table_row_to_dict\u001B[1;34m(reader)\u001B[0m\n\u001B[0;32m    225\u001B[0m         \u001B[38;5;28;01mif\u001B[39;00m \u001B[38;5;124m'\u001B[39m\u001B[38;5;124mSystem.DateTime\u001B[39m\u001B[38;5;124m'\u001B[39m \u001B[38;5;129;01min\u001B[39;00m \u001B[38;5;28mstr\u001B[39m(te):\n\u001B[0;32m    226\u001B[0m             \u001B[38;5;28;01mraise\u001B[39;00m DataFrameAdapterDateTimeError(value\u001B[38;5;241m.\u001B[39mGetType())\n\u001B[1;32m--> 228\u001B[0m result \u001B[38;5;241m=\u001B[39m \u001B[43mtoolz\u001B[49m\u001B[38;5;241;43m.\u001B[39;49m\u001B[43mpipe\u001B[49m\u001B[43m(\u001B[49m\n\u001B[0;32m    229\u001B[0m \u001B[43m    \u001B[49m\u001B[43mreader\u001B[49m\u001B[38;5;241;43m.\u001B[39;49m\u001B[43mFieldCount\u001B[49m\u001B[43m,\u001B[49m\n\u001B[0;32m    230\u001B[0m \u001B[43m    \u001B[49m\u001B[38;5;28;43mrange\u001B[39;49m\u001B[43m,\u001B[49m\n\u001B[0;32m    231\u001B[0m \u001B[43m    \u001B[49m\u001B[43mtoolz\u001B[49m\u001B[38;5;241;43m.\u001B[39;49m\u001B[43mmap\u001B[49m\u001B[43m(\u001B[49m\u001B[38;5;28;43;01mlambda\u001B[39;49;00m\u001B[43m \u001B[49m\u001B[43mcolumn_no\u001B[49m\u001B[43m:\u001B[49m\u001B[43m \u001B[49m\u001B[43m(\u001B[49m\u001B[43mcolumn_no\u001B[49m\u001B[43m,\u001B[49m\u001B[43m \u001B[49m\u001B[43mreader\u001B[49m\u001B[38;5;241;43m.\u001B[39;49m\u001B[43mGetName\u001B[49m\u001B[43m(\u001B[49m\u001B[43mcolumn_no\u001B[49m\u001B[43m)\u001B[49m\u001B[43m)\u001B[49m\u001B[43m)\u001B[49m\u001B[43m,\u001B[49m\n\u001B[0;32m    232\u001B[0m \u001B[43m    \u001B[49m\u001B[43mtoolz\u001B[49m\u001B[38;5;241;43m.\u001B[39;49m\u001B[43mmap\u001B[49m\u001B[43m(\u001B[49m\u001B[43mget_value\u001B[49m\u001B[43m(\u001B[49m\u001B[43mreader\u001B[49m\u001B[43m)\u001B[49m\u001B[43m)\u001B[49m\u001B[43m,\u001B[49m\n\u001B[0;32m    233\u001B[0m \u001B[43m    \u001B[49m\u001B[43mto_dict\u001B[49m\u001B[43m,\u001B[49m\n\u001B[0;32m    234\u001B[0m \u001B[43m    \u001B[49m\u001B[43mtoolz\u001B[49m\u001B[38;5;241;43m.\u001B[39;49m\u001B[43mitemmap\u001B[49m\u001B[43m(\u001B[49m\u001B[43mnet_value_to_python_value\u001B[49m\u001B[43m)\u001B[49m\u001B[43m,\u001B[49m\n\u001B[0;32m    235\u001B[0m \u001B[43m\u001B[49m\u001B[43m)\u001B[49m\n\u001B[0;32m    236\u001B[0m \u001B[38;5;28;01mreturn\u001B[39;00m result\n",
      "File \u001B[1;32m~\\AppData\\Local\\pypoetry\\Cache\\virtualenvs\\orchid-python-api-WYNzmHwi-py3.8\\lib\\site-packages\\toolz\\functoolz.py:630\u001B[0m, in \u001B[0;36mpipe\u001B[1;34m(data, *funcs)\u001B[0m\n\u001B[0;32m    610\u001B[0m \u001B[38;5;124;03m\"\"\" Pipe a value through a sequence of functions\u001B[39;00m\n\u001B[0;32m    611\u001B[0m \n\u001B[0;32m    612\u001B[0m \u001B[38;5;124;03mI.e. ``pipe(data, f, g, h)`` is equivalent to ``h(g(f(data)))``\u001B[39;00m\n\u001B[1;32m   (...)\u001B[0m\n\u001B[0;32m    627\u001B[0m \u001B[38;5;124;03m    thread_last\u001B[39;00m\n\u001B[0;32m    628\u001B[0m \u001B[38;5;124;03m\"\"\"\u001B[39;00m\n\u001B[0;32m    629\u001B[0m \u001B[38;5;28;01mfor\u001B[39;00m func \u001B[38;5;129;01min\u001B[39;00m funcs:\n\u001B[1;32m--> 630\u001B[0m     data \u001B[38;5;241m=\u001B[39m \u001B[43mfunc\u001B[49m\u001B[43m(\u001B[49m\u001B[43mdata\u001B[49m\u001B[43m)\u001B[49m\n\u001B[0;32m    631\u001B[0m \u001B[38;5;28;01mreturn\u001B[39;00m data\n",
      "File \u001B[1;32m~\\AppData\\Local\\pypoetry\\Cache\\virtualenvs\\orchid-python-api-WYNzmHwi-py3.8\\lib\\site-packages\\toolz\\functoolz.py:306\u001B[0m, in \u001B[0;36mcurry.__call__\u001B[1;34m(self, *args, **kwargs)\u001B[0m\n\u001B[0;32m    304\u001B[0m \u001B[38;5;28;01mdef\u001B[39;00m \u001B[38;5;21m__call__\u001B[39m(\u001B[38;5;28mself\u001B[39m, \u001B[38;5;241m*\u001B[39margs, \u001B[38;5;241m*\u001B[39m\u001B[38;5;241m*\u001B[39mkwargs):\n\u001B[0;32m    305\u001B[0m     \u001B[38;5;28;01mtry\u001B[39;00m:\n\u001B[1;32m--> 306\u001B[0m         \u001B[38;5;28;01mreturn\u001B[39;00m \u001B[38;5;28;43mself\u001B[39;49m\u001B[38;5;241;43m.\u001B[39;49m\u001B[43m_partial\u001B[49m\u001B[43m(\u001B[49m\u001B[38;5;241;43m*\u001B[39;49m\u001B[43margs\u001B[49m\u001B[43m,\u001B[49m\u001B[43m \u001B[49m\u001B[38;5;241;43m*\u001B[39;49m\u001B[38;5;241;43m*\u001B[39;49m\u001B[43mkwargs\u001B[49m\u001B[43m)\u001B[49m\n\u001B[0;32m    307\u001B[0m     \u001B[38;5;28;01mexcept\u001B[39;00m \u001B[38;5;167;01mTypeError\u001B[39;00m \u001B[38;5;28;01mas\u001B[39;00m exc:\n\u001B[0;32m    308\u001B[0m         \u001B[38;5;28;01mif\u001B[39;00m \u001B[38;5;28mself\u001B[39m\u001B[38;5;241m.\u001B[39m_should_curry(args, kwargs, exc):\n",
      "File \u001B[1;32m~\\AppData\\Local\\pypoetry\\Cache\\virtualenvs\\orchid-python-api-WYNzmHwi-py3.8\\lib\\site-packages\\toolz\\dicttoolz.py:115\u001B[0m, in \u001B[0;36mitemmap\u001B[1;34m(func, d, factory)\u001B[0m\n\u001B[0;32m    104\u001B[0m \u001B[38;5;124;03m\"\"\" Apply function to items of dictionary\u001B[39;00m\n\u001B[0;32m    105\u001B[0m \n\u001B[0;32m    106\u001B[0m \u001B[38;5;124;03m>>> accountids = {\"Alice\": 10, \"Bob\": 20}\u001B[39;00m\n\u001B[1;32m   (...)\u001B[0m\n\u001B[0;32m    112\u001B[0m \u001B[38;5;124;03m    valmap\u001B[39;00m\n\u001B[0;32m    113\u001B[0m \u001B[38;5;124;03m\"\"\"\u001B[39;00m\n\u001B[0;32m    114\u001B[0m rv \u001B[38;5;241m=\u001B[39m factory()\n\u001B[1;32m--> 115\u001B[0m \u001B[43mrv\u001B[49m\u001B[38;5;241;43m.\u001B[39;49m\u001B[43mupdate\u001B[49m\u001B[43m(\u001B[49m\u001B[38;5;28;43mmap\u001B[39;49m\u001B[43m(\u001B[49m\u001B[43mfunc\u001B[49m\u001B[43m,\u001B[49m\u001B[43m \u001B[49m\u001B[43md\u001B[49m\u001B[38;5;241;43m.\u001B[39;49m\u001B[43mitems\u001B[49m\u001B[43m(\u001B[49m\u001B[43m)\u001B[49m\u001B[43m)\u001B[49m\u001B[43m)\u001B[49m\n\u001B[0;32m    116\u001B[0m \u001B[38;5;28;01mreturn\u001B[39;00m rv\n",
      "File \u001B[1;32mC:\\src\\orchid-python-api\\orchid\\native_data_frame_adapter.py:219\u001B[0m, in \u001B[0;36m_table_row_to_dict.<locals>.net_value_to_python_value\u001B[1;34m(cell_location_value_pair)\u001B[0m\n\u001B[0;32m    216\u001B[0m (column_no, column_name), value \u001B[38;5;241m=\u001B[39m cell_location_value_pair\n\u001B[0;32m    217\u001B[0m \u001B[38;5;28;01mtry\u001B[39;00m:\n\u001B[0;32m    218\u001B[0m     converted \u001B[38;5;241m=\u001B[39m dataclasses\u001B[38;5;241m.\u001B[39mreplace(CellDto(column_no, column_name, value),\n\u001B[1;32m--> 219\u001B[0m                                     value\u001B[38;5;241m=\u001B[39m\u001B[43mnet_cell_value_to_pandas_cell_value\u001B[49m\u001B[43m(\u001B[49m\u001B[43mvalue\u001B[49m\u001B[43m)\u001B[49m)\n\u001B[0;32m    220\u001B[0m     \u001B[38;5;28;01mreturn\u001B[39;00m (converted\u001B[38;5;241m.\u001B[39mrow, converted\u001B[38;5;241m.\u001B[39mcolumn), converted\u001B[38;5;241m.\u001B[39mvalue\n\u001B[0;32m    221\u001B[0m \u001B[38;5;28;01mexcept\u001B[39;00m \u001B[38;5;167;01mValueError\u001B[39;00m \u001B[38;5;28;01mas\u001B[39;00m ve:\n",
      "File \u001B[1;32m~\\AppData\\Local\\Programs\\Python\\Python38\\lib\\functools.py:875\u001B[0m, in \u001B[0;36msingledispatch.<locals>.wrapper\u001B[1;34m(*args, **kw)\u001B[0m\n\u001B[0;32m    871\u001B[0m \u001B[38;5;28;01mif\u001B[39;00m \u001B[38;5;129;01mnot\u001B[39;00m args:\n\u001B[0;32m    872\u001B[0m     \u001B[38;5;28;01mraise\u001B[39;00m \u001B[38;5;167;01mTypeError\u001B[39;00m(\u001B[38;5;124mf\u001B[39m\u001B[38;5;124m'\u001B[39m\u001B[38;5;132;01m{\u001B[39;00mfuncname\u001B[38;5;132;01m}\u001B[39;00m\u001B[38;5;124m requires at least \u001B[39m\u001B[38;5;124m'\u001B[39m\n\u001B[0;32m    873\u001B[0m                     \u001B[38;5;124m'\u001B[39m\u001B[38;5;124m1 positional argument\u001B[39m\u001B[38;5;124m'\u001B[39m)\n\u001B[1;32m--> 875\u001B[0m \u001B[38;5;28;01mreturn\u001B[39;00m \u001B[43mdispatch\u001B[49m\u001B[43m(\u001B[49m\u001B[43margs\u001B[49m\u001B[43m[\u001B[49m\u001B[38;5;241;43m0\u001B[39;49m\u001B[43m]\u001B[49m\u001B[38;5;241;43m.\u001B[39;49m\u001B[38;5;18;43m__class__\u001B[39;49m\u001B[43m)\u001B[49m\u001B[43m(\u001B[49m\u001B[38;5;241;43m*\u001B[39;49m\u001B[43margs\u001B[49m\u001B[43m,\u001B[49m\u001B[43m \u001B[49m\u001B[38;5;241;43m*\u001B[39;49m\u001B[38;5;241;43m*\u001B[39;49m\u001B[43mkw\u001B[49m\u001B[43m)\u001B[49m\n",
      "File \u001B[1;32mC:\\src\\orchid-python-api\\orchid\\native_data_frame_adapter.py:102\u001B[0m, in \u001B[0;36mnet_cell_value_to_pandas_cell_value\u001B[1;34m(cell_value)\u001B[0m\n\u001B[0;32m     95\u001B[0m \u001B[38;5;129m@functools\u001B[39m\u001B[38;5;241m.\u001B[39msingledispatch\n\u001B[0;32m     96\u001B[0m \u001B[38;5;28;01mdef\u001B[39;00m \u001B[38;5;21mnet_cell_value_to_pandas_cell_value\u001B[39m(cell_value):\n\u001B[0;32m     97\u001B[0m     \u001B[38;5;124;03m\"\"\"\u001B[39;00m\n\u001B[0;32m     98\u001B[0m \u001B[38;5;124;03m    Convert a .NET `DataFrame` cell value to a `pandas.DataFrame` cell value.\u001B[39;00m\n\u001B[0;32m     99\u001B[0m \u001B[38;5;124;03m    Args:\u001B[39;00m\n\u001B[0;32m    100\u001B[0m \u001B[38;5;124;03m        cell_value: The cell value to convert.\u001B[39;00m\n\u001B[0;32m    101\u001B[0m \u001B[38;5;124;03m    \"\"\"\u001B[39;00m\n\u001B[1;32m--> 102\u001B[0m     \u001B[38;5;28;01mraise\u001B[39;00m \u001B[38;5;167;01mNotImplementedError\u001B[39;00m(\u001B[38;5;124mf\u001B[39m\u001B[38;5;124m'\u001B[39m\u001B[38;5;124mUnexpected type, \u001B[39m\u001B[38;5;132;01m{\u001B[39;00m\u001B[38;5;28mtype\u001B[39m(cell_value)\u001B[38;5;132;01m}\u001B[39;00m\u001B[38;5;124m, of value, \u001B[39m\u001B[38;5;132;01m{\u001B[39;00mcell_value\u001B[38;5;132;01m}\u001B[39;00m\u001B[38;5;124m'\u001B[39m)\n",
      "\u001B[1;31mNotImplementedError\u001B[0m: Unexpected type, <class 'System.Guid'>, of value, 1439206a-e389-4ff3-95a8-1abd5ba2468c"
     ]
    }
   ],
   "source": [
    "project_data_frame = project.data_frames().find_by_object_id(\n",
    "    uuid.UUID('cd97a60c-6e74-404d-90f0-d04b54968267'))\n",
    "to_display = ('No such data frame' if project_data_frame is None\n",
    "              else project_data_frame.pandas_data_frame())\n",
    "to_display"
   ]
  },
  {
   "cell_type": "code",
   "execution_count": null,
   "outputs": [],
   "source": [],
   "metadata": {
    "collapsed": false
   }
  }
 ],
 "metadata": {
  "kernelspec": {
   "display_name": "Python 3",
   "language": "python",
   "name": "python3"
  },
  "language_info": {
   "codemirror_mode": {
    "name": "ipython",
    "version": 3
   },
   "file_extension": ".py",
   "mimetype": "text/x-python",
   "name": "python",
   "nbconvert_exporter": "python",
   "pygments_lexer": "ipython3",
   "version": "3.8.7"
  }
 },
 "nbformat": 4,
 "nbformat_minor": 4
}
