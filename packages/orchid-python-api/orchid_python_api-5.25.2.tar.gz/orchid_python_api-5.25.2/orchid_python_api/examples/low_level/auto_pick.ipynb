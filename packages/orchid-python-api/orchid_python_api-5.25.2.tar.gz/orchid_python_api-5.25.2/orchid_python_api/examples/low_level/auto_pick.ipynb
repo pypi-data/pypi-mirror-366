{
 "cells": [
  {
   "cell_type": "code",
   "execution_count": 1,
   "metadata": {},
   "outputs": [],
   "source": [
    "#\n",
    "# This file is part of Orchid and related technologies.\n",
    "#\n",
    "# Copyright (c) 2017-2025 KAPPA.  All Rights Reserved.\n",
    "#\n",
    "# LEGAL NOTICE:\n",
    "# Orchid contains trade secrets and otherwise confidential information\n",
    "# owned by KAPPA. Access to and use of this information is\n",
    "# strictly limited and controlled by the Company. This file may not be copied,\n",
    "# distributed, or otherwise disclosed outside of the Company's facilities\n",
    "# except under appropriate precautions to maintain the confidentiality hereof,\n",
    "# and may not be used in any way not expressly authorized by the Company.\n",
    "#"
   ]
  },
  {
   "cell_type": "markdown",
   "metadata": {},
   "source": [
    "# Prototype:  Create observations"
   ]
  },
  {
   "cell_type": "markdown",
   "metadata": {},
   "source": [
    "This notebook illustrates using the Orchid* .NET API from Python to:\n",
    "- Create leak off observations\n",
    "- Add these observations to an observation set\n",
    "- Add this observation set to a project\n",
    "- Save that project to disk\n",
    "\n",
    "(*Orchid is a mark of KAPPA)"
   ]
  },
  {
   "cell_type": "markdown",
   "metadata": {},
   "source": [
    "## 0.5 Import packages"
   ]
  },
  {
   "cell_type": "code",
   "execution_count": 2,
   "metadata": {
    "collapsed": false,
    "jupyter": {
     "outputs_hidden": false
    },
    "tags": []
   },
   "outputs": [],
   "source": [
    "import argparse\n",
    "import functools\n",
    "import logging\n",
    "import pathlib"
   ]
  },
  {
   "cell_type": "markdown",
   "metadata": {},
   "source": [
    "We use the `orchid` package to load the project."
   ]
  },
  {
   "cell_type": "code",
   "execution_count": 3,
   "metadata": {
    "collapsed": false,
    "jupyter": {
     "outputs_hidden": false
    },
    "tags": []
   },
   "outputs": [],
   "source": [
    "import orchid"
   ]
  },
  {
   "cell_type": "markdown",
   "metadata": {},
   "source": [
    "Convenience aliases so that I need not type the module name."
   ]
  },
  {
   "cell_type": "code",
   "execution_count": 4,
   "metadata": {
    "collapsed": false,
    "jupyter": {
     "outputs_hidden": false
    },
    "tags": []
   },
   "outputs": [],
   "source": [
    "from orchid import (\n",
    "    dot_net_disposable as dnd,\n",
    "    net_enumerable as dne,\n",
    "    net_fracture_diagnostics_factory as net_factory,\n",
    ")"
   ]
  },
  {
   "cell_type": "markdown",
   "metadata": {},
   "source": [
    "Use Python.NET to access the .NET API like Python modules."
   ]
  },
  {
   "cell_type": "code",
   "execution_count": 5,
   "metadata": {
    "collapsed": false,
    "jupyter": {
     "outputs_hidden": false
    },
    "tags": []
   },
   "outputs": [],
   "source": [
    "# noinspection PyUnresolvedReferences,PyPackageRequirements\n",
    "import clr\n",
    "\n",
    "# noinspection PyUnresolvedReferences,PyPackageRequirements\n",
    "from Orchid.FractureDiagnostics import (MonitorExtensions, Leakoff, Observation)\n",
    "# noinspection PyUnresolvedReferences,PyPackageRequirements\n",
    "from Orchid.FractureDiagnostics.Factories.Implementations import LeakoffCurves\n",
    "# noinspection PyUnresolvedReferences,PyPackageRequirements\n",
    "from Orchid.FractureDiagnostics.SDKFacade import (\n",
    "    ScriptAdapter,\n",
    ")\n",
    "# noinspection PyUnresolvedReferences,PyPackageRequirements\n",
    "from System import (Array, Double, DateTime, String)\n",
    "# noinspection PyUnresolvedReferences,PyPackageRequirements\n",
    "from System.IO import (FileStream, FileMode, FileAccess, FileShare)\n",
    "# noinspection PyUnresolvedReferences\n",
    "import UnitsNet\n",
    "\n",
    "clr.AddReference('Orchid.Math')\n",
    "clr.AddReference('System.Collections')\n",
    "# noinspection PyUnresolvedReferences,PyPackageRequirements\n",
    "from Orchid.Math import Interpolation\n",
    "# noinspection PyUnresolvedReferences,PyPackageRequirements\n",
    "from System.Collections.Generic import List\n"
   ]
  },
  {
   "cell_type": "markdown",
   "metadata": {},
   "source": [
    "Create a single instance of the fracture diagnostics factory."
   ]
  },
  {
   "cell_type": "code",
   "execution_count": 6,
   "metadata": {
    "tags": []
   },
   "outputs": [],
   "source": [
    "object_factory = net_factory.create()"
   ]
  },
  {
   "cell_type": "markdown",
   "metadata": {},
   "source": [
    "Create utility functions with names that clarify the intent of the code details."
   ]
  },
  {
   "cell_type": "code",
   "execution_count": 7,
   "metadata": {
    "tags": []
   },
   "outputs": [],
   "source": [
    "def calculate_delta_pressure(leak_off_pressure, maximum_pressure_sample):\n",
    "    \"\"\"\n",
    "    Calculate the delta pressure value.\n",
    "\n",
    "    Args:\n",
    "        leak_off_pressure: Pressure from the treatment leak off curve.\n",
    "        maximum_pressure_sample: The maximum treatment pressure.\n",
    "\n",
    "    Returns:\n",
    "        The pressure difference.\n",
    "\n",
    "    \"\"\"\n",
    "    return UnitsNet.Pressure.op_Subtraction(\n",
    "        UnitsNet.Pressure(maximum_pressure_sample.Value,\n",
    "                          UnitsNet.Units.PressureUnit.PoundForcePerSquareInch),\n",
    "        leak_off_pressure)"
   ]
  },
  {
   "cell_type": "code",
   "execution_count": 8,
   "metadata": {
    "tags": []
   },
   "outputs": [],
   "source": [
    "def calculate_leak_off_control_point_times(interpolation_point_1, interpolation_point_2, ticks):\n",
    "    \"\"\"\n",
    "    Return the calculated control points for a leak off curve.\n",
    "\n",
    "    Args:\n",
    "        interpolation_point_1: The first point at which to interpolate pressure values.\n",
    "        interpolation_point_2: The second point at which to interpolate pressure values.\n",
    "        ticks: A sequence of .NET `Tick` values.\n",
    "\n",
    "    Returns:\n",
    "        The times at which to set the control points for a leak off curve.\n",
    "    \"\"\"\n",
    "    time_series_interpolation_points = Array.CreateInstance(Double, 2)\n",
    "    time_series_interpolation_points[0] = interpolation_point_1.Ticks\n",
    "    time_series_interpolation_points[1] = interpolation_point_2.Ticks\n",
    "    time_stamp_ticks = Array.CreateInstance(Double, ticks.Length)\n",
    "    magnitudes = Array.CreateInstance(Double, ticks.Length)\n",
    "    for i in range(0, ticks.Length):\n",
    "        tick = ticks[i]\n",
    "        time_stamp_ticks[i] = tick.Timestamp.Ticks\n",
    "        magnitudes[i] = tick.Value\n",
    "    time_series_interpolant = Interpolation.Interpolant1DFactory.CreatePchipInterpolant(time_stamp_ticks,\n",
    "                                                                                        magnitudes)\n",
    "    pressure_values = time_series_interpolant.Interpolate(time_series_interpolation_points,\n",
    "                                                          False)  # or `bool(0)`\n",
    "\n",
    "    control_points = List[Leakoff.ControlPoint]()\n",
    "    for time, pressure_magnitude in zip([interpolation_point_1, interpolation_point_2], pressure_values):\n",
    "        control_point_to_add = Leakoff.ControlPoint()\n",
    "        control_point_to_add.DateTime = time\n",
    "        control_point_to_add.Value = UnitsNet.Pressure(\n",
    "            pressure_magnitude, UnitsNet.Units.PressureUnit.PoundForcePerSquareInch)\n",
    "        control_points.Add(control_point_to_add)\n",
    "    return control_points"
   ]
  },
  {
   "cell_type": "code",
   "execution_count": 9,
   "metadata": {
    "tags": []
   },
   "outputs": [],
   "source": [
    "def calculate_leak_off_pressure(leak_off_curve, maximum_pressure_sample, unit):\n",
    "    \"\"\"\n",
    "    Calculate the leak off pressure at the time of maximum pressure.\n",
    "\n",
    "    Args:\n",
    "        leak_off_curve: The leak off curve to query.\n",
    "        maximum_pressure_sample: The sample (magnitude and time) of maximum pressure.\n",
    "        unit: The unit for the sample.\n",
    "\n",
    "    Returns:\n",
    "\n",
    "    \"\"\"\n",
    "    query_times = List[DateTime]()\n",
    "    query_times.Add(maximum_pressure_sample.Timestamp)\n",
    "    leak_off_pressure_value = leak_off_curve.GetValues(query_times, unit)[0]\n",
    "    leak_off_pressure = UnitsNet.Pressure(leak_off_pressure_value, unit)\n",
    "    return leak_off_pressure"
   ]
  },
  {
   "cell_type": "code",
   "execution_count": 10,
   "metadata": {
    "tags": []
   },
   "outputs": [],
   "source": [
    "def calculate_maximum_pressure_sample(stage_part, ticks):\n",
    "    \"\"\"\n",
    "    Calculate the sample (time stamp and magnitude) at which the maximum pressure occurs.\n",
    "\n",
    "    Args:\n",
    "        stage_part: The stage part used to limit the queried samples.\n",
    "        ticks: A iterator of samples for the stage part.\n",
    "\n",
    "    Returns:\n",
    "        The sample (time stamp and magnitude) at which the maximum pressure occurs.\n",
    "    \"\"\"\n",
    "    def maximum_pressure_reducer(so_far, candidate):\n",
    "        if (stage_part.StartTime <= candidate.Timestamp <= stage_part.StopTime and\n",
    "                candidate.Value > so_far.Value):\n",
    "            return candidate\n",
    "        else:\n",
    "            return so_far\n",
    "\n",
    "    sentinel_maximum = object_factory.CreateTick[float](DateTime.MinValue, -1000)\n",
    "    maximum_pressure_sample = functools.reduce(maximum_pressure_reducer, ticks, sentinel_maximum)\n",
    "    return maximum_pressure_sample"
   ]
  },
  {
   "cell_type": "code",
   "execution_count": 11,
   "metadata": {
    "tags": []
   },
   "outputs": [],
   "source": [
    "def calculate_stage_part_pressure_samples(native_monitor, stage_part):\n",
    "    \"\"\"\n",
    "    Calculate the pressure samples from the monitor for the `stage_part`.\n",
    "\n",
    "    Args:\n",
    "        native_monitor: The .NET `ITimeSeriesMonitor` object recording pressures.\n",
    "        stage_part: The .NET `IStagePart` limiting the monitor times to the stage treatment times.\n",
    "\n",
    "    Returns:\n",
    "        The pressure samples from `native_monitor` for the `stage_part`.\n",
    "    \"\"\"\n",
    "    time_range = object_factory.CreateDateTimeOffsetRange(stage_part.StartTime.AddDays(-1),\n",
    "                                                          stage_part.StopTime.AddDays(1))\n",
    "    stage_part_pressure_samples = native_monitor.TimeSeries.GetOrderedTimeSeriesHistory(time_range)\n",
    "    return stage_part_pressure_samples"
   ]
  },
  {
   "cell_type": "code",
   "execution_count": 12,
   "metadata": {
    "tags": []
   },
   "outputs": [],
   "source": [
    "def calculate_stage_part_visible_time_range(stage_part):\n",
    "    \"\"\"\n",
    "    Calculate the visible time range of the stage treatment.\n",
    "\n",
    "    Args:\n",
    "        stage_part: The stage part identifying the stage treatment of interest.\n",
    "\n",
    "    Returns:\n",
    "        A `tuple` identifying the start and stop of the stage treatment.\n",
    "    \"\"\"\n",
    "    return stage_part.StartTime.AddHours(-1), stage_part.StopTime.AddHours(1)"
   ]
  },
  {
   "cell_type": "code",
   "execution_count": 13,
   "metadata": {
    "tags": []
   },
   "outputs": [],
   "source": [
    "def create_leak_off_curve_control_points(leak_off_curve_times):\n",
    "    \"\"\"\n",
    "    Create the control points for an observation.\n",
    "\n",
    "    Args:\n",
    "        leak_off_curve_times: The `dict` containing time stamps for specific leak off curve control points.\n",
    "\n",
    "    Returns:\n",
    "        The .NET `IList` containing the leak off curve control points.\n",
    "    \"\"\"\n",
    "    observation_control_points = List[DateTime]()\n",
    "    observation_control_points.Add(leak_off_curve_times['L1'])\n",
    "    observation_control_points.Add(leak_off_curve_times['L2'])\n",
    "    return observation_control_points"
   ]
  },
  {
   "cell_type": "code",
   "execution_count": 14,
   "metadata": {
    "tags": []
   },
   "outputs": [],
   "source": [
    "def auto_pick_observation_details(unpicked_observation, native_monitor, stage_part):\n",
    "    \"\"\"\n",
    "    Change `unpicked_observation` by adding details to make it a picked observation.\n",
    "\n",
    "    Args:\n",
    "        unpicked_observation: The unpicked observation.\n",
    "        native_monitor: The .NET `ITimeSeriesMonitor` for this observation.\n",
    "        stage_part: The .NET `IStagePart` observed by `native_monitor`.\n",
    "\n",
    "    Returns:\n",
    "        The \"picked\" observation with the appropriate details filled in.\n",
    "    \"\"\"\n",
    "    # Auto pick observation details to be set\n",
    "    # - Leak off curve type\n",
    "    # - Control point times\n",
    "    # - Visible range x-min time\n",
    "    # - Visible range x-max time\n",
    "    # - Position\n",
    "    # - Delta pressure\n",
    "    # - Notes\n",
    "    # - Signal quality\n",
    "\n",
    "    stage_part_pressure_samples = calculate_stage_part_pressure_samples(native_monitor, stage_part)\n",
    "\n",
    "    leak_off_curve_times = {\n",
    "        'L1': stage_part.StartTime.AddMinutes(-20),\n",
    "        'L2': stage_part.StartTime,\n",
    "    }\n",
    "    control_point_times = calculate_leak_off_control_point_times(leak_off_curve_times['L1'],\n",
    "                                                                 leak_off_curve_times['L2'],\n",
    "                                                                 stage_part_pressure_samples)\n",
    "\n",
    "    leak_off_curve = object_factory.CreateLeakoffCurve(Leakoff.LeakoffCurveType.Linear,\n",
    "                                                       control_point_times)\n",
    "\n",
    "    maximum_pressure_sample = calculate_maximum_pressure_sample(stage_part, stage_part_pressure_samples)\n",
    "    leak_off_pressure = calculate_leak_off_pressure(leak_off_curve, maximum_pressure_sample, native_monitor.Project.ProjectUnits.PressureUnit)\n",
    "\n",
    "    picked_observation = unpicked_observation  # An alias to better communicate intent\n",
    "    with dnd.disposable(picked_observation.ToMutable()) as mutable_observation :\n",
    "        mutable_observation.LeakoffCurveType = Leakoff.LeakoffCurveType.Linear\n",
    "        mutable_observation.ControlPointTimes = create_leak_off_curve_control_points(leak_off_curve_times)\n",
    "        (mutable_observation.VisibleRangeXminTime,\n",
    "         mutable_observation.VisibleRangeXmaxTime) = calculate_stage_part_visible_time_range(stage_part)\n",
    "        mutable_observation.Position = maximum_pressure_sample.Timestamp\n",
    "        mutable_observation.DeltaPressure = calculate_delta_pressure(leak_off_pressure, maximum_pressure_sample)\n",
    "        mutable_observation.Notes = \"Auto-picked\"\n",
    "        mutable_observation.SignalQuality = Observation.SignalQualityValue.UndrainedCompressive\n",
    "\n",
    "    return picked_observation"
   ]
  },
  {
   "cell_type": "code",
   "execution_count": 15,
   "metadata": {
    "tags": []
   },
   "outputs": [],
   "source": [
    "def auto_pick_observations(native_project, native_monitor):\n",
    "    \"\"\"\n",
    "        Automatically pick observations for each treatment stage of `native_project` observed by `native_monitor`.\n",
    "    Args:\n",
    "        native_project: The `IProject` whose observations are sought.\n",
    "        native_monitor: The `ITimeSeriesMonitor` whose observations we automatically pick.\n",
    "\n",
    "    Returns:\n",
    "\n",
    "    \"\"\"\n",
    "    stage_parts = MonitorExtensions.FindPossiblyVisibleStageParts(native_monitor,\n",
    "                                                                  native_project.Wells.Items)\n",
    "\n",
    "    observation_set = object_factory.CreateObservationSet(native_project, 'Auto-picked Observation Set3')\n",
    "    for part in stage_parts:\n",
    "        # Create unpicked observation\n",
    "        unpicked_observation = object_factory.CreateObservation(native_monitor, part)\n",
    "\n",
    "        # Auto-pick observation details\n",
    "        picked_observation = auto_pick_observation_details(unpicked_observation, native_monitor, part)\n",
    "\n",
    "        # Add picked observation to observation set\n",
    "        with dnd.disposable(observation_set.ToMutable()) as mutable_observation_set:\n",
    "            mutable_observation_set.AddEvent(picked_observation)\n",
    "\n",
    "    # Add observation set to project\n",
    "    project_with_observation_set = native_project  # An alias to better communicate intent\n",
    "    with dnd.disposable(native_project.ToMutable()) as mutable_project:\n",
    "        mutable_project.AddObservationSet(observation_set)\n",
    "\n",
    "    return project_with_observation_set"
   ]
  },
  {
   "cell_type": "code",
   "execution_count": 16,
   "metadata": {},
   "outputs": [],
   "source": [
    "def make_project_path_name(project_dir_name, project_file_name):\n",
    "    \"\"\"\n",
    "    Make a path name to a project.\n",
    "\n",
    "    Args:\n",
    "        project_dir_name: The directory name of the project.\n",
    "        project_file_name: The file name of the project.\n",
    "\n",
    "    Returns:\n",
    "        The path name to the .ifrac file for this project.\n",
    "    \"\"\"\n",
    "    return str(project_dir_name.joinpath(project_file_name))"
   ]
  },
  {
   "cell_type": "code",
   "execution_count": 17,
   "metadata": {},
   "outputs": [],
   "source": [
    "def make_target_file_name_from_source(source_file_name):\n",
    "    \"\"\"\n",
    "    Make a file name for the changed project file name from the original project file name.\n",
    "\n",
    "    Args:\n",
    "        source_file_name: The file name of the project originally read.\n",
    "\n",
    "    Returns:\n",
    "        The project file name with a `.999` suffix inserted before the `.ifrac` suffix.\n",
    "    \"\"\"\n",
    "    return ''.join([source_file_name.stem, '.999', source_file_name.suffix])"
   ]
  },
  {
   "cell_type": "code",
   "execution_count": 18,
   "metadata": {},
   "outputs": [],
   "source": [
    "def main(cli_args):\n",
    "    \"\"\"\n",
    "    Save project with automatically picked observations from original project read from disk.\n",
    "\n",
    "    Args:\n",
    "        cli_args: The command line arguments from `argparse.ArgumentParser`.\n",
    "    \"\"\"\n",
    "    logging.basicConfig(level=logging.INFO)\n",
    "\n",
    "    # Read Orchid project\n",
    "    project = orchid.load_project(cli_args.input_project)\n",
    "    native_project = project.dom_object\n",
    "    monitor_name = 'Demo_3H - MonitorWell'\n",
    "    candidate_monitors = list(project.monitors().find_by_display_name(monitor_name))\n",
    "    # I actually expect one or more monitors, but I only need one (arbitrarily the first one)\n",
    "    assert len(candidate_monitors) > 0, (f'One or monitors with display name, \"{monitor_name}\", expected.'\n",
    "                                         f' Found {len(candidate_monitors)}.')\n",
    "    native_monitor = candidate_monitors[0].dom_object\n",
    "    auto_pick_observations(native_project, native_monitor)\n",
    "\n",
    "    # Log changed project data\n",
    "    if cli_args.verbosity >= 2:\n",
    "        logging.info(f'{native_project.Name=}')\n",
    "        observation_sets_items = dne.as_list(native_project.ObservationSets.Items)\n",
    "        logging.info(f'{len(observation_sets_items)=}')\n",
    "        for observation_set in observation_sets_items:\n",
    "            logging.info(f'{observation_set.Name=}')\n",
    "            logging.info(f'{len(dne.as_list(observation_set.GetLeakOffObservations()))=}')\n",
    "\n",
    "    # Save project changes to specified .ifrac file\n",
    "    orchid.optimized_but_possibly_unsafe_save(project, cli_args.input_project, cli_args.output_project)\n",
    "    if cli_args.verbosity >= 1:\n",
    "        logging.info(f'Wrote changes to \"{cli_args.output_project}\"')"
   ]
  },
  {
   "cell_type": "code",
   "execution_count": 19,
   "metadata": {
    "tags": []
   },
   "outputs": [
    {
     "ename": "NullReferenceException",
     "evalue": "Object reference not set to an instance of an object.\r\n   at Orchid.FractureDiagnostics.Factories.Implementations.LeakoffCurves.LinearLeakoffCurve..ctor(IList`1 controlPoints) in D:\\source\\Orchid\\Orchid\\Orchid.FractureDiagnostics.Factories\\Implementations\\LeakoffCurves\\LinearLeakoffCurve.cs:line 52\r\n   at Orchid.FractureDiagnostics.Factories.FractureDiagnosticsFactory.CreateLeakoffCurve(LeakoffCurveType type, IList`1 controlPoints) in D:\\source\\Orchid\\Orchid\\Orchid.FractureDiagnostics.Factories\\FractureDiagnosticsFactory.cs:line 758",
     "output_type": "error",
     "traceback": [
      "\u001B[1;31m---------------------------------------------------------------------------\u001B[0m",
      "\u001B[1;31mNullReferenceException\u001B[0m                    Traceback (most recent call last)",
      "Cell \u001B[1;32mIn[19], line 27\u001B[0m\n\u001B[0;32m     22\u001B[0m default_file_name_to_read \u001B[38;5;241m=\u001B[39m pathlib\u001B[38;5;241m.\u001B[39mPath(\u001B[38;5;124m'\u001B[39m\u001B[38;5;124mfrankNstein_Bakken_UTM13_FEET.ifrac\u001B[39m\u001B[38;5;124m'\u001B[39m)\n\u001B[0;32m     23\u001B[0m args \u001B[38;5;241m=\u001B[39m parser\u001B[38;5;241m.\u001B[39mparse_args([\u001B[38;5;124m\"\u001B[39m\u001B[38;5;124m--verbosity\u001B[39m\u001B[38;5;124m\"\u001B[39m, \u001B[38;5;124m\"\u001B[39m\u001B[38;5;124m2\u001B[39m\u001B[38;5;124m\"\u001B[39m,\n\u001B[0;32m     24\u001B[0m                           \u001B[38;5;28mstr\u001B[39m(make_project_path_name(orchid\u001B[38;5;241m.\u001B[39mtraining_data_path(),\n\u001B[0;32m     25\u001B[0m                                                      default_file_name_to_read))])\n\u001B[1;32m---> 27\u001B[0m \u001B[43mmain\u001B[49m\u001B[43m(\u001B[49m\u001B[43margs\u001B[49m\u001B[43m)\u001B[49m\n",
      "Cell \u001B[1;32mIn[18], line 19\u001B[0m, in \u001B[0;36mmain\u001B[1;34m(cli_args)\u001B[0m\n\u001B[0;32m     16\u001B[0m \u001B[38;5;28;01massert\u001B[39;00m \u001B[38;5;28mlen\u001B[39m(candidate_monitors) \u001B[38;5;241m>\u001B[39m \u001B[38;5;241m0\u001B[39m, (\u001B[38;5;124mf\u001B[39m\u001B[38;5;124m'\u001B[39m\u001B[38;5;124mOne or monitors with display name, \u001B[39m\u001B[38;5;124m\"\u001B[39m\u001B[38;5;132;01m{\u001B[39;00mmonitor_name\u001B[38;5;132;01m}\u001B[39;00m\u001B[38;5;124m\"\u001B[39m\u001B[38;5;124m, expected.\u001B[39m\u001B[38;5;124m'\u001B[39m\n\u001B[0;32m     17\u001B[0m                                      \u001B[38;5;124mf\u001B[39m\u001B[38;5;124m'\u001B[39m\u001B[38;5;124m Found \u001B[39m\u001B[38;5;132;01m{\u001B[39;00m\u001B[38;5;28mlen\u001B[39m(candidate_monitors)\u001B[38;5;132;01m}\u001B[39;00m\u001B[38;5;124m.\u001B[39m\u001B[38;5;124m'\u001B[39m)\n\u001B[0;32m     18\u001B[0m native_monitor \u001B[38;5;241m=\u001B[39m candidate_monitors[\u001B[38;5;241m0\u001B[39m]\u001B[38;5;241m.\u001B[39mdom_object\n\u001B[1;32m---> 19\u001B[0m \u001B[43mauto_pick_observations\u001B[49m\u001B[43m(\u001B[49m\u001B[43mnative_project\u001B[49m\u001B[43m,\u001B[49m\u001B[43m \u001B[49m\u001B[43mnative_monitor\u001B[49m\u001B[43m)\u001B[49m\n\u001B[0;32m     21\u001B[0m \u001B[38;5;66;03m# Log changed project data\u001B[39;00m\n\u001B[0;32m     22\u001B[0m \u001B[38;5;28;01mif\u001B[39;00m cli_args\u001B[38;5;241m.\u001B[39mverbosity \u001B[38;5;241m>\u001B[39m\u001B[38;5;241m=\u001B[39m \u001B[38;5;241m2\u001B[39m:\n",
      "Cell \u001B[1;32mIn[15], line 20\u001B[0m, in \u001B[0;36mauto_pick_observations\u001B[1;34m(native_project, native_monitor)\u001B[0m\n\u001B[0;32m     17\u001B[0m unpicked_observation \u001B[38;5;241m=\u001B[39m object_factory\u001B[38;5;241m.\u001B[39mCreateObservation(native_monitor, part)\n\u001B[0;32m     19\u001B[0m \u001B[38;5;66;03m# Auto-pick observation details\u001B[39;00m\n\u001B[1;32m---> 20\u001B[0m picked_observation \u001B[38;5;241m=\u001B[39m \u001B[43mauto_pick_observation_details\u001B[49m\u001B[43m(\u001B[49m\u001B[43munpicked_observation\u001B[49m\u001B[43m,\u001B[49m\u001B[43m \u001B[49m\u001B[43mnative_monitor\u001B[49m\u001B[43m,\u001B[49m\u001B[43m \u001B[49m\u001B[43mpart\u001B[49m\u001B[43m)\u001B[49m\n\u001B[0;32m     22\u001B[0m \u001B[38;5;66;03m# Add picked observation to observation set\u001B[39;00m\n\u001B[0;32m     23\u001B[0m \u001B[38;5;28;01mwith\u001B[39;00m dnd\u001B[38;5;241m.\u001B[39mdisposable(observation_set\u001B[38;5;241m.\u001B[39mToMutable()) \u001B[38;5;28;01mas\u001B[39;00m mutable_observation_set:\n",
      "Cell \u001B[1;32mIn[14], line 33\u001B[0m, in \u001B[0;36mauto_pick_observation_details\u001B[1;34m(unpicked_observation, native_monitor, stage_part)\u001B[0m\n\u001B[0;32m     25\u001B[0m leak_off_curve_times \u001B[38;5;241m=\u001B[39m {\n\u001B[0;32m     26\u001B[0m     \u001B[38;5;124m'\u001B[39m\u001B[38;5;124mL1\u001B[39m\u001B[38;5;124m'\u001B[39m: stage_part\u001B[38;5;241m.\u001B[39mStartTime\u001B[38;5;241m.\u001B[39mAddMinutes(\u001B[38;5;241m-\u001B[39m\u001B[38;5;241m20\u001B[39m),\n\u001B[0;32m     27\u001B[0m     \u001B[38;5;124m'\u001B[39m\u001B[38;5;124mL2\u001B[39m\u001B[38;5;124m'\u001B[39m: stage_part\u001B[38;5;241m.\u001B[39mStartTime,\n\u001B[0;32m     28\u001B[0m }\n\u001B[0;32m     29\u001B[0m control_point_times \u001B[38;5;241m=\u001B[39m calculate_leak_off_control_point_times(leak_off_curve_times[\u001B[38;5;124m'\u001B[39m\u001B[38;5;124mL1\u001B[39m\u001B[38;5;124m'\u001B[39m],\n\u001B[0;32m     30\u001B[0m                                                              leak_off_curve_times[\u001B[38;5;124m'\u001B[39m\u001B[38;5;124mL2\u001B[39m\u001B[38;5;124m'\u001B[39m],\n\u001B[0;32m     31\u001B[0m                                                              stage_part_pressure_samples)\n\u001B[1;32m---> 33\u001B[0m leak_off_curve \u001B[38;5;241m=\u001B[39m \u001B[43mobject_factory\u001B[49m\u001B[38;5;241;43m.\u001B[39;49m\u001B[43mCreateLeakoffCurve\u001B[49m\u001B[43m(\u001B[49m\u001B[43mLeakoff\u001B[49m\u001B[38;5;241;43m.\u001B[39;49m\u001B[43mLeakoffCurveType\u001B[49m\u001B[38;5;241;43m.\u001B[39;49m\u001B[43mLinear\u001B[49m\u001B[43m,\u001B[49m\n\u001B[0;32m     34\u001B[0m \u001B[43m                                                   \u001B[49m\u001B[43mcontrol_point_times\u001B[49m\u001B[43m)\u001B[49m\n\u001B[0;32m     36\u001B[0m maximum_pressure_sample \u001B[38;5;241m=\u001B[39m calculate_maximum_pressure_sample(stage_part, stage_part_pressure_samples)\n\u001B[0;32m     37\u001B[0m leak_off_pressure \u001B[38;5;241m=\u001B[39m calculate_leak_off_pressure(leak_off_curve, maximum_pressure_sample)\n",
      "\u001B[1;31mNullReferenceException\u001B[0m: Object reference not set to an instance of an object.\r\n   at Orchid.FractureDiagnostics.Factories.Implementations.LeakoffCurves.LinearLeakoffCurve..ctor(IList`1 controlPoints) in D:\\source\\Orchid\\Orchid\\Orchid.FractureDiagnostics.Factories\\Implementations\\LeakoffCurves\\LinearLeakoffCurve.cs:line 52\r\n   at Orchid.FractureDiagnostics.Factories.FractureDiagnosticsFactory.CreateLeakoffCurve(LeakoffCurveType type, IList`1 controlPoints) in D:\\source\\Orchid\\Orchid\\Orchid.FractureDiagnostics.Factories\\FractureDiagnosticsFactory.cs:line 758"
     ]
    }
   ],
   "source": [
    "# Simulate parsing command line arguments\n",
    "default_file_name_to_read = pathlib.Path('frankNstein_Bakken_UTM13_FEET.ifrac')\n",
    "default_project_path_name_to_read = make_project_path_name(orchid.training_data_path(),\n",
    "                                                          default_file_name_to_read)\n",
    "default_file_name_to_write = make_target_file_name_from_source(default_file_name_to_read)\n",
    "default_project_path_name_to_write = make_project_path_name(orchid.training_data_path(),\n",
    "                                                            default_file_name_to_write)\n",
    "        \n",
    "parser = argparse.ArgumentParser(description=\"Automatically pick leak off observations.\")\n",
    "parser.add_argument('-v', '--verbosity', type=int, choices=[0, 1, 2], default=0,\n",
    "                    help='Increase output verbosity. (Default: 0; that is, least output.)')\n",
    "\n",
    "parser.add_argument('input_project', help=f'Path name of project to read.')\n",
    "\n",
    "default_file_name_to_read = pathlib.Path('frankNstein_Bakken_UTM13_FEET.ifrac')\n",
    "default_file_name_to_write = make_target_file_name_from_source(default_file_name_to_read)\n",
    "default_project_path_name_to_write = make_project_path_name(orchid.training_data_path(),\n",
    "                                                            default_file_name_to_write)\n",
    "parser.add_argument('-o', '--output_project', default=default_project_path_name_to_write,\n",
    "                    help=f'Filename of project to write. (Default: {default_project_path_name_to_write}')\n",
    "\n",
    "default_file_name_to_read = pathlib.Path('frankNstein_Bakken_UTM13_FEET.ifrac')\n",
    "args = parser.parse_args([\"--verbosity\", \"2\",\n",
    "                          str(make_project_path_name(orchid.training_data_path(),\n",
    "                                                     default_file_name_to_read))])\n",
    "\n",
    "main(args)"
   ]
  },
  {
   "cell_type": "code",
   "execution_count": 20,
   "metadata": {
    "tags": []
   },
   "outputs": [
    {
     "ename": "NameError",
     "evalue": "name 'control_point_times' is not defined",
     "output_type": "error",
     "traceback": [
      "\u001B[1;31m---------------------------------------------------------------------------\u001B[0m",
      "\u001B[1;31mNameError\u001B[0m                                 Traceback (most recent call last)",
      "Cell \u001B[1;32mIn[20], line 1\u001B[0m\n\u001B[1;32m----> 1\u001B[0m \u001B[43mcontrol_point_times\u001B[49m\n",
      "\u001B[1;31mNameError\u001B[0m: name 'control_point_times' is not defined"
     ]
    }
   ],
   "source": [
    "control_point_times"
   ]
  },
  {
   "cell_type": "code",
   "execution_count": null,
   "metadata": {},
   "outputs": [],
   "source": []
  }
 ],
 "metadata": {
  "kernelspec": {
   "display_name": "Python 3 (ipykernel)",
   "language": "python",
   "name": "python3"
  },
  "language_info": {
   "codemirror_mode": {
    "name": "ipython",
    "version": 3
   },
   "file_extension": ".py",
   "mimetype": "text/x-python",
   "name": "python",
   "nbconvert_exporter": "python",
   "pygments_lexer": "ipython3",
   "version": "3.10.9"
  }
 },
 "nbformat": 4,
 "nbformat_minor": 4
}
