{
 "cells": [
  {
   "cell_type": "markdown",
   "id": "af49967f-0706-4647-96a2-2101d041c3f1",
   "metadata": {},
   "source": [
    "# Repairs of Python.NET 3 breaking changes to low-level examples"
   ]
  },
  {
   "cell_type": "markdown",
   "id": "1b527e5e-b6b3-47d0-a2bd-8635d447a384",
   "metadata": {},
   "source": [
    "## 0 Load a runtime before calling `import clr`\n",
    "\n",
    "In order to access .NET assemblies (`.dll` files), one must load an available runtime before executing the\n",
    "`import clr` statement. (If one calls `import clr` before specifying a runtime, Python.NET will load a default\n",
    "runtime which may **not** be compatible with the installed Orchid assemblies.\n",
    "\n",
    "To make this easier, when we `import` the `orchid` package, the Orchid Python API will load the runtime\n",
    "corresponding to the configured Orchid installation."
   ]
  },
  {
   "cell_type": "code",
   "execution_count": null,
   "id": "d0ae1cdb",
   "metadata": {
    "collapsed": false,
    "jupyter": {
     "outputs_hidden": false
    }
   },
   "outputs": [],
   "source": [
    "import orchid\n",
    "\n",
    "from orchid import (\n",
    "    net_fracture_diagnostics_factory as net_factory,\n",
    ")"
   ]
  },
  {
   "cell_type": "code",
   "execution_count": null,
   "id": "1df3ff3a",
   "metadata": {
    "collapsed": false,
    "jupyter": {
     "outputs_hidden": false
    }
   },
   "outputs": [],
   "source": [
    "#noinspection PyPackageRequirements\n",
    "import clr"
   ]
  },
  {
   "cell_type": "code",
   "execution_count": null,
   "id": "e2c16d5d",
   "metadata": {
    "collapsed": false,
    "jupyter": {
     "outputs_hidden": false
    }
   },
   "outputs": [],
   "source": [
    "# noinspection PyUnresolvedReferences,PyPackageRequirements\n",
    "from System import (\n",
    "    ArgumentException,\n",
    "    Array,\n",
    "    DateTime,\n",
    "    TimeSpan,\n",
    "    Int32,\n",
    "    ValueType,\n",
    ")\n",
    "\n",
    "object_factory = net_factory.create()"
   ]
  },
  {
   "cell_type": "markdown",
   "id": "83ee8fcc-9413-4cb4-9a2c-a9e7a8cc937b",
   "metadata": {},
   "source": [
    "## 1 Fewer implicit conversions between Python values and .NET values"
   ]
  },
  {
   "cell_type": "markdown",
   "id": "6fa64b01-dbbf-46f2-b4e2-a36645478e7d",
   "metadata": {
    "tags": []
   },
   "source": [
    "### 1.1 Adding attributes with integer values requires explicit conversion"
   ]
  },
  {
   "cell_type": "markdown",
   "id": "ea2b88d3-0be1-41cb-9238-48e4ed74ae1a",
   "metadata": {
    "tags": []
   },
   "source": [
    "(This issue occured in **both** internal testing and low-level script testing and so is duplicated.)"
   ]
  },
  {
   "cell_type": "markdown",
   "id": "54644a65-4ef4-4ac9-80d6-150946d45e6f",
   "metadata": {
    "tags": []
   },
   "source": [
    "During integration testing, we discovered an issue setting an attribute with type, `Int32`, using a Python `int` value of 7. The run-time reported that the types, `Int32` and `PyInt` were incompatible."
   ]
  },
  {
   "cell_type": "markdown",
   "id": "b3a456ad-e168-490b-98b9-f4a13c647b84",
   "metadata": {
    "tags": []
   },
   "source": [
    "This scenario requires significant set up."
   ]
  },
  {
   "cell_type": "code",
   "execution_count": null,
   "id": "adb1e205-7319-4064-a30a-ab5670e05e36",
   "metadata": {
    "tags": []
   },
   "outputs": [],
   "source": [
    "# Find the well named 'Demo_1H'\n",
    "bakken = orchid.load_project('c:/src/Orchid.IntegrationTestData/frankNstein_Bakken_UTM13_FEET.ifrac')\n",
    "candidate_wells = list(bakken.wells().find_by_name('Demo_1H'))\n",
    "assert len(candidate_wells) == 1\n",
    "demo_1h = candidate_wells[0]"
   ]
  },
  {
   "cell_type": "code",
   "execution_count": null,
   "id": "cf955953-6fba-49c0-a635-ee8e38a55180",
   "metadata": {
    "collapsed": false,
    "jupyter": {
     "outputs_hidden": false
    }
   },
   "outputs": [],
   "source": [
    "# Create an attribute with name, 'My New Attribute', and type, `System.Int32`\n",
    "attribute_to_add_type = Int32\n",
    "attribute_to_add = object_factory.CreateAttribute[attribute_to_add_type]('My New Attribute', -1)"
   ]
  },
  {
   "cell_type": "code",
   "execution_count": null,
   "id": "9e46f653-d4ab-4155-891f-7987cbc76a17",
   "metadata": {
    "collapsed": false,
    "jupyter": {
     "outputs_hidden": false
    }
   },
   "outputs": [],
   "source": [
    "# Add newly created attribute to well, 'Demo_1H'\n",
    "with orchid.dot_net_disposable.disposable(demo_1h.dom_object.ToMutable()) as mutable_well:\n",
    "    mutable_well.AddStageAttribute(attribute_to_add)"
   ]
  },
  {
   "cell_type": "code",
   "execution_count": null,
   "id": "25e98525-c997-4c90-b02b-f4c836b4e0cd",
   "metadata": {
    "collapsed": false,
    "jupyter": {
     "outputs_hidden": false
    }
   },
   "outputs": [],
   "source": [
    "# Find stage number 7 in well, 'Demo_1H'\n",
    "maybe_stage = demo_1h.stages().find_by_display_stage_number(7)\n",
    "assert maybe_stage is not None\n",
    "stage_7 = maybe_stage"
   ]
  },
  {
   "cell_type": "code",
   "execution_count": null,
   "id": "005bfdfb-9fe3-46c9-8a13-8f83e85fdb5b",
   "metadata": {
    "collapsed": false,
    "jupyter": {
     "outputs_hidden": false
    }
   },
   "outputs": [],
   "source": [
    "# Add attribute with value, 17, to stage 7, with Python `int` type.\n",
    "with (orchid.dot_net_disposable.disposable(stage_7.dom_object.ToMutable())) as mutable_stage:\n",
    "    # This action will fail because the attribute type is `System.Int32`\n",
    "    # and `pythonnet-3.0.0.post1` **does not** implicitly equate these two types.\n",
    "    try:\n",
    "        mutable_stage.SetAttribute(attribute_to_add, int)\n",
    "    except ArgumentException as ae:\n",
    "        print(f'ArgumentException: {ae}')\n"
   ]
  },
  {
   "cell_type": "code",
   "execution_count": null,
   "id": "ea556aec-c5fe-44a4-a6fa-afeaf54a80bd",
   "metadata": {
    "collapsed": false,
    "jupyter": {
     "outputs_hidden": false
    }
   },
   "outputs": [],
   "source": [
    "# Add attribute to stage 7 with a value of 17 **explicitly** converted to an `Int32`\n",
    "with (orchid.dot_net_disposable.disposable(stage_7.dom_object.ToMutable())) as mutable_stage:\n",
    "    mutable_stage.SetAttribute(attribute_to_add, attribute_to_add_type(7))"
   ]
  },
  {
   "cell_type": "code",
   "execution_count": null,
   "id": "aede78d2-fec3-45ba-bb4e-1421544a330a",
   "metadata": {
    "tags": []
   },
   "outputs": [],
   "source": [
    "# Verify added attribute value\n",
    "ignored_object = object()\n",
    "is_attribute_present, actual_attribute_value = stage_7.dom_object.TryGetAttributeValue(attribute_to_add,\n",
    "                                                                                       ignored_object)\n",
    "assert is_attribute_present\n",
    "assert type(actual_attribute_value) == int\n",
    "assert actual_attribute_value == 7"
   ]
  },
  {
   "cell_type": "markdown",
   "source": [
    "### 1.2 `Leakoff.ControlPoints` and no ValueType() ctor error"
   ],
   "metadata": {
    "collapsed": false
   }
  },
  {
   "cell_type": "markdown",
   "source": [
    "This issue seems similar to the internal test issue in which the .NET `TimeSpan` class did not have a default\n",
    "constructor, but Python.NET 2.5.2 accepted the expression, `TimeSpan()`, and appeared to \"do the right thing.\"\n",
    "\n",
    "In this situation, our low-level example code contained the expression:\n",
    "\n",
    "```\n",
    "Leakoff.ControlPoint(DateTime=some_time, Pressure=some_pressure)\n",
    "```"
   ],
   "metadata": {
    "collapsed": false
   }
  },
  {
   "cell_type": "code",
   "execution_count": null,
   "id": "729131d6",
   "metadata": {
    "collapsed": false,
    "jupyter": {
     "outputs_hidden": false
    }
   },
   "outputs": [],
   "source": [
    "# noinspection PyUnresolvedReferences\n",
    "from Orchid.FractureDiagnostics import Leakoff\n",
    "\n",
    "clr.AddReference('System.Collections')\n",
    "# noinspection PyUnresolvedReferences\n",
    "from System.Collections.Generic import List\n",
    "# noinspection PyUnresolvedReferences\n",
    "import UnitsNet"
   ]
  },
  {
   "cell_type": "code",
   "execution_count": null,
   "id": "51fe098b",
   "metadata": {
    "collapsed": false,
    "jupyter": {
     "outputs_hidden": false
    }
   },
   "outputs": [],
   "source": [
    "# Initialize the start and end control points details\n",
    "end_time = DateTime.UtcNow\n",
    "end_pressure = UnitsNet.Pressure(104.8, UnitsNet.Units.PressureUnit.PoundForcePerSquareInch)\n",
    "\n",
    "start_time = end_time.Subtract(TimeSpan.FromMinutes(10))\n",
    "start_pressure = UnitsNet.Pressure(95.64, UnitsNet.Units.PressureUnit.PoundForcePerSquareInch)"
   ]
  },
  {
   "cell_type": "code",
   "execution_count": null,
   "outputs": [],
   "source": [
    "# Initialize a .NET `List` of `Leakoff.ControlPoints` to add points to\n",
    "error_control_points = List[Leakoff.ControlPoint]()"
   ],
   "metadata": {
    "collapsed": false
   }
  },
  {
   "cell_type": "markdown",
   "source": [
    "Although Python.NET 2.5.2 \"just worked\" with this expression, executing this same expression using Python.NET 3 encounters an exception with an obscure error message."
   ],
   "metadata": {
    "collapsed": false
   }
  },
  {
   "cell_type": "code",
   "execution_count": null,
   "id": "16d22ba3-ebe0-4f32-8a5c-7fb48909217a",
   "metadata": {
    "collapsed": false,
    "jupyter": {
     "outputs_hidden": false
    }
   },
   "outputs": [],
   "source": [
    "try:\n",
    "    error_control_points.Add(\n",
    "        Leakoff.ControlPoint(Date=start_time, Pressure=start_pressure),\n",
    "        Leakoff.ControlPoint(Date=end_time, Pressure=end_pressure)\n",
    "    )\n",
    "except TypeError as te:\n",
    "    print(f'TypeError: {te}')"
   ]
  },
  {
   "cell_type": "markdown",
   "source": [
    "The Orchid team ran some experiments in C#. We observed:\n",
    "\n",
    "  - Code that created a `List<Leakoff.ControlPoint>()` and then called `List.Add()` ran without\n",
    "    any errors.\n",
    "  - Code that tried to invoke the \"constructor\",\n",
    "   `Leakoff.ControlPoint(DateTime, Pressure)` failed to compile.\n",
    "\n",
    "These observations led us to the hypothesis that `pythonnet-2.5.2` performed additional work to convert the Python expression `Leakoff.ControlPoint(DateTime.UtcNow, Pressure.FromPoundsForcePerSquareInt(100))` into the equivalent C# code:\n",
    "\n",
    "```\n",
    "var controlPoint = new Leakoff.ControlPoint();\n",
    "controlPoint.Date = DateTime.UtcNow;\n",
    "controlPoint.Pressure = Pressure.FromPoundsForcePerSquareInch(100);\n",
    "```"
   ],
   "metadata": {
    "collapsed": false
   }
  },
  {
   "cell_type": "markdown",
   "source": [
    "Creating a Python `list` of .NET `Leakoff.ControlPoint` instances and setting the `DateTIme` and\n",
    "`Pressure` properties succeeds."
   ],
   "metadata": {
    "collapsed": false
   }
  },
  {
   "cell_type": "code",
   "execution_count": null,
   "id": "65c06a85",
   "metadata": {
    "collapsed": false,
    "jupyter": {
     "outputs_hidden": false
    }
   },
   "outputs": [],
   "source": [
    "python_control_points = [Leakoff.ControlPoint(), Leakoff.ControlPoint()]\n",
    "python_control_points[0].DateTime = start_time\n",
    "python_control_points[0].Pressure = start_pressure\n",
    "python_control_points[1].DateTime = end_time\n",
    "python_control_points[1].Pressure = end_pressure"
   ]
  },
  {
   "cell_type": "markdown",
   "id": "bb5c4870-4654-4704-883b-1956e0f42149",
   "metadata": {
    "jupyter": {
     "outputs_hidden": false
    }
   },
   "source": [
    "Similarly, creating an empty .NET `List` of .NET `Leakoff.ControlPoint` instances and adding `Leakoff.ControlPoint` instances succeeds."
   ]
  },
  {
   "cell_type": "code",
   "execution_count": null,
   "id": "d51bff54-02a2-4b92-a515-81095603475b",
   "metadata": {
    "collapsed": false,
    "jupyter": {
     "outputs_hidden": false
    }
   },
   "outputs": [],
   "source": [
    "working_control_points = List[Leakoff.ControlPoint]()\n",
    "working_control_points.Add(python_control_points[0])\n",
    "working_control_points.Add(python_control_points[1])"
   ]
  },
  {
   "cell_type": "markdown",
   "id": "ca05e522",
   "metadata": {},
   "source": [
    "## 2 .NET Collections and arrays implement `collections.abc` \"interfaces\""
   ]
  },
  {
   "cell_type": "markdown",
   "source": [
    "## 2.1 .NET Collections and arrays no longer automatically converted to Python collections (like `list`)"
   ],
   "metadata": {
    "collapsed": false
   }
  },
  {
   "cell_type": "markdown",
   "source": [
    "Python.NET 2.5.2 implicitly converted .NET Collections into Python collections. These implicit conversions occurred\n",
    "both for types like `List[Int32]` and for other similar third-party types like `DynamicData.Items`. Consequently,\n",
    "using `len` on some .NET Collection value acts as expected but unexpectedly for other value."
   ],
   "metadata": {
    "collapsed": false
   }
  },
  {
   "cell_type": "markdown",
   "source": [
    "Python.NET 3 seems to convert .NET Collection types, like, `List`, to `collections.abc.Container` so that\n",
    "`len` acts as expected."
   ],
   "metadata": {
    "collapsed": false
   }
  },
  {
   "cell_type": "code",
   "execution_count": null,
   "id": "12695ed2-22b3-4c8b-9d9a-3999b1af821d",
   "metadata": {},
   "outputs": [],
   "source": [
    "a_net_list = List[Int32]()\n",
    "a_net_list.Add(1)\n",
    "a_net_list.Add(2)\n",
    "a_net_list.Add(3)\n",
    "len(a_net_list) == 3"
   ]
  },
  {
   "cell_type": "code",
   "execution_count": null,
   "id": "890273f3-6fb2-4f70-8897-ba2e30bf5063",
   "metadata": {},
   "outputs": [],
   "source": [
    "type(a_net_list)"
   ]
  },
  {
   "cell_type": "code",
   "execution_count": null,
   "id": "49fd750b-5e33-41ff-a34a-7b87d6122b80",
   "metadata": {},
   "outputs": [],
   "source": [
    "import collections.abc\n",
    "\n",
    "isinstance(a_net_list, collections.abc.Collection)"
   ]
  },
  {
   "cell_type": "markdown",
   "id": "45d5998a-ddba-4e61-8c9d-af49a5a6c3eb",
   "metadata": {},
   "source": [
    "[This comment](https://github.com/pythonnet/pythonnet/issues/1153#issuecomment-926143701) indicates that the \n",
    "`pythonnet-2.5.2` implicit conversions from .NET `List` to a Python `list` is no longer supported. "
   ]
  },
  {
   "cell_type": "code",
   "execution_count": null,
   "id": "8246027d-6df1-4399-8030-11396277c55a",
   "metadata": {},
   "outputs": [],
   "source": [
    "isinstance(a_net_list, list)"
   ]
  },
  {
   "cell_type": "markdown",
   "id": "b8199653",
   "metadata": {},
   "source": [
    "## 2.2 Error raised when calling `len` with instance of .NET DynamicData"
   ]
  },
  {
   "cell_type": "code",
   "execution_count": null,
   "id": "ac7cf211",
   "metadata": {
    "collapsed": false,
    "jupyter": {
     "outputs_hidden": false
    }
   },
   "outputs": [],
   "source": [
    "net_observation_sets_items = bakken.dom_object.ObservationSets.Items\n",
    "type(net_observation_sets_items)"
   ]
  },
  {
   "cell_type": "code",
   "execution_count": null,
   "id": "ee28afc1-08c4-424c-899a-b04a2fc8cf4b",
   "metadata": {
    "collapsed": false,
    "jupyter": {
     "outputs_hidden": false
    }
   },
   "outputs": [],
   "source": [
    "isinstance(net_observation_sets_items, collections.abc.Collection)"
   ]
  },
  {
   "cell_type": "code",
   "execution_count": null,
   "id": "3ac9d7db-c2af-4da7-bef4-1e93bc4e3956",
   "metadata": {
    "collapsed": false,
    "jupyter": {
     "outputs_hidden": false
    }
   },
   "outputs": [],
   "source": [
    "isinstance(net_observation_sets_items, collections.abc.Container)"
   ]
  },
  {
   "cell_type": "code",
   "execution_count": null,
   "id": "21645058-d9b2-46e7-af8c-4be07c744883",
   "metadata": {
    "collapsed": false,
    "jupyter": {
     "outputs_hidden": false
    }
   },
   "outputs": [],
   "source": [
    "isinstance(net_observation_sets_items, collections.abc.Iterator)"
   ]
  },
  {
   "cell_type": "code",
   "execution_count": null,
   "id": "e0158560-f9aa-452c-9cbf-de9bae931315",
   "metadata": {
    "collapsed": false,
    "jupyter": {
     "outputs_hidden": false
    }
   },
   "outputs": [],
   "source": [
    "isinstance(net_observation_sets_items, collections.abc.Sequence)"
   ]
  },
  {
   "cell_type": "code",
   "execution_count": null,
   "id": "3e533ce4-88ed-47c8-a1f4-05535336521c",
   "metadata": {
    "collapsed": false,
    "jupyter": {
     "outputs_hidden": false
    }
   },
   "outputs": [],
   "source": [
    "isinstance(net_observation_sets_items, collections.abc.Iterable)"
   ]
  },
  {
   "cell_type": "code",
   "execution_count": null,
   "id": "1ea715aa",
   "metadata": {
    "collapsed": false,
    "jupyter": {
     "outputs_hidden": false
    }
   },
   "outputs": [],
   "source": [
    "observation_sets = []\n",
    "for observation_set_item in bakken.dom_object.ObservationSets.Items:\n",
    "    observation_sets.append(observation_set_item)\n",
    "observation_sets"
   ]
  },
  {
   "cell_type": "code",
   "execution_count": null,
   "id": "61034a5f",
   "metadata": {
    "collapsed": false,
    "jupyter": {
     "outputs_hidden": false
    }
   },
   "outputs": [],
   "source": [
    "len(observation_sets)"
   ]
  },
  {
   "cell_type": "code",
   "execution_count": null,
   "id": "b0d2d972",
   "metadata": {
    "collapsed": false,
    "jupyter": {
     "outputs_hidden": false
    }
   },
   "outputs": [],
   "source": [
    "alt_observation_sets = [i for i in bakken.dom_object.ObservationSets.Items]\n",
    "alt_observation_sets"
   ]
  },
  {
   "cell_type": "code",
   "execution_count": null,
   "id": "61c8e9da-533e-49a8-9924-d6d6884d5725",
   "metadata": {},
   "outputs": [],
   "source": [
    "len(alt_observation_sets)"
   ]
  },
  {
   "cell_type": "code",
   "execution_count": null,
   "outputs": [],
   "source": [],
   "metadata": {
    "collapsed": false
   }
  }
 ],
 "metadata": {
  "kernelspec": {
   "display_name": "Python 3 (ipykernel)",
   "language": "python",
   "name": "python3"
  },
  "language_info": {
   "codemirror_mode": {
    "name": "ipython",
    "version": 3
   },
   "file_extension": ".py",
   "mimetype": "text/x-python",
   "name": "python",
   "nbconvert_exporter": "python",
   "pygments_lexer": "ipython3",
   "version": "3.8.10"
  }
 },
 "nbformat": 4,
 "nbformat_minor": 5
}
