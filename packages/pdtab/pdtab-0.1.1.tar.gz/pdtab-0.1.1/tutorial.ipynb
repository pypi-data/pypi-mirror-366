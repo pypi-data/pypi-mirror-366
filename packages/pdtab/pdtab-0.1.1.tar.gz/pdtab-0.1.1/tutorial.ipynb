{
 "cells": [
  {
   "cell_type": "markdown",
   "id": "e819a07d",
   "metadata": {},
   "source": [
    "# pdtab: Comprehensive Tabulation Tutorial\n",
    "\n",
    "This notebook demonstrates the full functionality of the pdtab library, showing how to replicate Stata's tabulate command functionality in Python.\n",
    "\n",
    "## Table of Contents\n",
    "1. [Installation and Setup](#installation)\n",
    "2. [Basic One-way Tabulation](#oneway)\n",
    "3. [Two-way Cross-tabulation](#twoway)\n",
    "4. [Statistical Tests](#tests)\n",
    "5. [Summary Tabulation](#summary)\n",
    "6. [Multiple Tables](#multiple)\n",
    "7. [Immediate Tabulation](#immediate)\n",
    "8. [Weighted Analysis](#weights)\n",
    "9. [Visualization](#viz)\n",
    "10. [Advanced Examples](#advanced)"
   ]
  },
  {
   "cell_type": "markdown",
   "id": "6750c02e",
   "metadata": {},
   "source": [
    "## 1. Installation and Setup {#installation}\n",
    "\n",
    "First, let's import the necessary libraries and create some sample data."
   ]
  },
  {
   "cell_type": "code",
   "execution_count": null,
   "id": "83fd5872",
   "metadata": {},
   "outputs": [],
   "source": [
    "# Install pdtab (uncomment if needed)\n",
    "# !pip install pdtab\n",
    "\n",
    "import pandas as pd\n",
    "import numpy as np\n",
    "import pdtab\n",
    "\n",
    "# Set random seed for reproducibility\n",
    "np.random.seed(42)\n",
    "\n",
    "print(f\"pdtab version: {pdtab.__version__}\")"
   ]
  },
  {
   "cell_type": "code",
   "execution_count": null,
   "id": "e50ad361",
   "metadata": {},
   "outputs": [],
   "source": [
    "# Create sample dataset\n",
    "n = 200\n",
    "\n",
    "data = {\n",
    "    'gender': np.random.choice(['Male', 'Female'], n, p=[0.55, 0.45]),\n",
    "    'education': np.random.choice(['High School', 'College', 'Graduate'], n, p=[0.4, 0.45, 0.15]),\n",
    "    'region': np.random.choice(['North', 'South', 'East', 'West'], n),\n",
    "    'age_group': np.random.choice(['18-29', '30-44', '45-59', '60+'], n, p=[0.25, 0.35, 0.25, 0.15]),\n",
    "    'income': np.random.lognormal(10.8, 0.5, n),  # Log-normal distribution for income\n",
    "    'satisfaction': np.random.choice([1, 2, 3, 4, 5], n, p=[0.1, 0.15, 0.3, 0.35, 0.1]),\n",
    "    'treatment': np.random.choice(['Control', 'Treatment'], n),\n",
    "    'outcome': np.random.choice(['Success', 'Failure'], n, p=[0.6, 0.4])\n",
    "}\n",
    "\n",
    "# Add some correlation between treatment and outcome\n",
    "for i in range(n):\n",
    "    if data['treatment'][i] == 'Treatment':\n",
    "        data['outcome'][i] = np.random.choice(['Success', 'Failure'], p=[0.75, 0.25])\n",
    "\n",
    "# Add some missing values\n",
    "missing_indices = np.random.choice(n, 10, replace=False)\n",
    "for idx in missing_indices:\n",
    "    data['education'][idx] = None\n",
    "\n",
    "df = pd.DataFrame(data)\n",
    "print(f\"Dataset shape: {df.shape}\")\n",
    "df.head()"
   ]
  },
  {
   "cell_type": "markdown",
   "id": "4911a24b",
   "metadata": {},
   "source": [
    "## 2. Basic One-way Tabulation {#oneway}\n",
    "\n",
    "Let's start with basic frequency tables for single variables."
   ]
  },
  {
   "cell_type": "code",
   "execution_count": null,
   "id": "02938b24",
   "metadata": {},
   "outputs": [],
   "source": [
    "# Basic one-way tabulation\n",
    "result = pdtab.tabulate('gender', data=df)\n",
    "print(\"Basic Gender Distribution:\")\n",
    "print(result)"
   ]
  },
  {
   "cell_type": "code",
   "execution_count": null,
   "id": "049b982e",
   "metadata": {},
   "outputs": [],
   "source": [
    "# Sorted by frequency\n",
    "result = pdtab.tabulate('education', data=df, sort=True)\n",
    "print(\"Education Distribution (sorted by frequency):\")\n",
    "print(result)"
   ]
  },
  {
   "cell_type": "code",
   "execution_count": null,
   "id": "8348103c",
   "metadata": {},
   "outputs": [],
   "source": [
    "# Include missing values\n",
    "result = pdtab.tabulate('education', data=df, missing=True)\n",
    "print(\"Education Distribution (including missing):\")\n",
    "print(result)"
   ]
  },
  {
   "cell_type": "code",
   "execution_count": null,
   "id": "963763b5",
   "metadata": {},
   "outputs": [],
   "source": [
    "# Suppress frequencies, show only percentages\n",
    "result = pdtab.tabulate('region', data=df, nofreq=True)\n",
    "print(\"Region Distribution (percentages only):\")\n",
    "print(result)"
   ]
  },
  {
   "cell_type": "markdown",
   "id": "4729c94c",
   "metadata": {},
   "source": [
    "## 3. Two-way Cross-tabulation {#twoway}\n",
    "\n",
    "Now let's explore relationships between two categorical variables."
   ]
  },
  {
   "cell_type": "code",
   "execution_count": null,
   "id": "1382c62e",
   "metadata": {},
   "outputs": [],
   "source": [
    "# Basic two-way table\n",
    "result = pdtab.tabulate('gender', 'education', data=df)\n",
    "print(\"Gender by Education Cross-tabulation:\")\n",
    "print(result)"
   ]
  },
  {
   "cell_type": "code",
   "execution_count": null,
   "id": "84fab963",
   "metadata": {},
   "outputs": [],
   "source": [
    "# With row percentages\n",
    "result = pdtab.tabulate('treatment', 'outcome', data=df, row=True)\n",
    "print(\"Treatment by Outcome (with row percentages):\")\n",
    "print(result)"
   ]
  },
  {
   "cell_type": "code",
   "execution_count": null,
   "id": "7040a3b9",
   "metadata": {},
   "outputs": [],
   "source": [
    "# With column percentages\n",
    "result = pdtab.tabulate('gender', 'age_group', data=df, column=True)\n",
    "print(\"Gender by Age Group (with column percentages):\")\n",
    "print(result)"
   ]
  },
  {
   "cell_type": "markdown",
   "id": "60a8b5cb",
   "metadata": {},
   "source": [
    "## 4. Statistical Tests {#tests}\n",
    "\n",
    "pdtab provides comprehensive statistical testing for independence and association."
   ]
  },
  {
   "cell_type": "code",
   "execution_count": null,
   "id": "0f8cd25f",
   "metadata": {},
   "outputs": [],
   "source": [
    "# Chi-square test for independence\n",
    "result = pdtab.tabulate('treatment', 'outcome', data=df, chi2=True)\n",
    "print(\"Treatment by Outcome with Chi-square Test:\")\n",
    "print(result)\n",
    "\n",
    "if 'chi2' in result.statistics:\n",
    "    chi2_stat = result.statistics['chi2']['statistic']\n",
    "    p_value = result.statistics['chi2']['p_value']\n",
    "    print(f\"\\nChi-square statistic: {chi2_stat:.4f}\")\n",
    "    print(f\"P-value: {p_value:.4f}\")\n",
    "    print(f\"Significant at α=0.05: {'Yes' if p_value < 0.05 else 'No'}\")"
   ]
  },
  {
   "cell_type": "code",
   "execution_count": null,
   "id": "444bbf32",
   "metadata": {},
   "outputs": [],
   "source": [
    "# Fisher's exact test\n",
    "result = pdtab.tabulate('treatment', 'outcome', data=df, exact=True)\n",
    "print(\"Treatment by Outcome with Fisher's Exact Test:\")\n",
    "print(result)\n",
    "\n",
    "if 'exact' in result.statistics:\n",
    "    p_exact = result.statistics['exact']['p_value']\n",
    "    print(f\"\\nFisher's exact p-value: {p_exact:.4f}\")"
   ]
  },
  {
   "cell_type": "code",
   "execution_count": null,
   "id": "1c29a898",
   "metadata": {},
   "outputs": [],
   "source": [
    "# Multiple association measures\n",
    "result = pdtab.tabulate('gender', 'education', data=df, \n",
    "                       chi2=True, V=True, gamma=True, taub=True)\n",
    "print(\"Gender by Education with Association Measures:\")\n",
    "print(result)\n",
    "\n",
    "print(\"\\nAssociation Measures:\")\n",
    "if 'cramers_v' in result.statistics:\n",
    "    print(f\"Cramér's V: {result.statistics['cramers_v']:.4f}\")\n",
    "if 'gamma' in result.statistics:\n",
    "    gamma_val = result.statistics['gamma']['statistic']\n",
    "    gamma_ase = result.statistics['gamma']['ase']\n",
    "    print(f\"Goodman-Kruskal Gamma: {gamma_val:.4f} (ASE: {gamma_ase:.4f})\")\n",
    "if 'taub' in result.statistics:\n",
    "    taub_val = result.statistics['taub']['statistic']\n",
    "    taub_ase = result.statistics['taub']['ase']\n",
    "    print(f\"Kendall's τb: {taub_val:.4f} (ASE: {taub_ase:.4f})\")"
   ]
  },
  {
   "cell_type": "markdown",
   "id": "080ffb17",
   "metadata": {},
   "source": [
    "## 5. Summary Tabulation {#summary}\n",
    "\n",
    "Analyze continuous variables broken down by categorical variables."
   ]
  },
  {
   "cell_type": "code",
   "execution_count": null,
   "id": "d2051aab",
   "metadata": {},
   "outputs": [],
   "source": [
    "# One-way summary tabulation\n",
    "result = pdtab.tabulate('gender', data=df, summarize='income')\n",
    "print(\"Income Summary by Gender:\")\n",
    "print(result)"
   ]
  },
  {
   "cell_type": "code",
   "execution_count": null,
   "id": "ad2a767c",
   "metadata": {},
   "outputs": [],
   "source": [
    "# Two-way summary tabulation\n",
    "result = pdtab.tabulate('gender', 'education', data=df, summarize='income')\n",
    "print(\"Income Summary by Gender and Education:\")\n",
    "print(result)"
   ]
  },
  {
   "cell_type": "code",
   "execution_count": null,
   "id": "f4aa4cb8",
   "metadata": {},
   "outputs": [],
   "source": [
    "# Custom statistics selection\n",
    "result = pdtab.tabulate('age_group', data=df, summarize='satisfaction', \n",
    "                       means=True, standard=False, freq=True)\n",
    "print(\"Satisfaction by Age Group (means and frequencies only):\")\n",
    "print(result)"
   ]
  },
  {
   "cell_type": "markdown",
   "id": "74892b7c",
   "metadata": {},
   "source": [
    "## 6. Multiple Tables {#multiple}\n",
    "\n",
    "Generate multiple tables efficiently using tab1 and tab2 functions."
   ]
  },
  {
   "cell_type": "code",
   "execution_count": null,
   "id": "85f0bcf1",
   "metadata": {},
   "outputs": [],
   "source": [
    "# Multiple one-way tables\n",
    "results = pdtab.tab1(['gender', 'education', 'region'], data=df)\n",
    "\n",
    "print(\"Multiple One-way Tables:\")\n",
    "for variable, result in results.items():\n",
    "    print(f\"\\n{variable.upper()}:\")\n",
    "    print(result)"
   ]
  },
  {
   "cell_type": "code",
   "execution_count": null,
   "id": "3429a09d",
   "metadata": {},
   "outputs": [],
   "source": [
    "# All possible two-way tables\n",
    "results = pdtab.tab2(['gender', 'treatment', 'outcome'], data=df, chi2=True)\n",
    "\n",
    "print(\"All Two-way Combinations:\")\n",
    "for (var1, var2), result in results.items():\n",
    "    print(f\"\\n{var1.upper()} × {var2.upper()}:\")\n",
    "    print(result)\n",
    "    \n",
    "    # Show chi-square results if available\n",
    "    if result.statistics and 'chi2' in result.statistics:\n",
    "        chi2_p = result.statistics['chi2']['p_value']\n",
    "        print(f\"Chi-square p-value: {chi2_p:.4f}\")"
   ]
  },
  {
   "cell_type": "markdown",
   "id": "e2e6893a",
   "metadata": {},
   "source": [
    "## 7. Immediate Tabulation {#immediate}\n",
    "\n",
    "Analyze data directly without creating a DataFrame first."
   ]
  },
  {
   "cell_type": "code",
   "execution_count": null,
   "id": "6c09684a",
   "metadata": {},
   "outputs": [],
   "source": [
    "# 2×2 table from string (Stata format)\n",
    "result = pdtab.tabi(\"45 25 \\\\ 35 55\", exact=True, chi2=True)\n",
    "print(\"2×2 Table Analysis:\")\n",
    "print(result)\n",
    "\n",
    "print(\"\\nStatistical Results:\")\n",
    "if 'exact' in result.statistics:\n",
    "    print(f\"Fisher's exact p-value: {result.statistics['exact']['p_value']:.4f}\")\n",
    "if 'chi2' in result.statistics:\n",
    "    print(f\"Chi-square p-value: {result.statistics['chi2']['p_value']:.4f}\")"
   ]
  },
  {
   "cell_type": "code",
   "execution_count": null,
   "id": "c9ab2f92",
   "metadata": {},
   "outputs": [],
   "source": [
    "# Larger table from list\n",
    "table_data = [\n",
    "    [30, 25, 20],\n",
    "    [40, 35, 30],\n",
    "    [20, 15, 25]\n",
    "]\n",
    "\n",
    "result = pdtab.tabi(table_data, chi2=True, V=True)\n",
    "print(\"3×3 Table Analysis:\")\n",
    "print(result)\n",
    "\n",
    "if 'cramers_v' in result.statistics:\n",
    "    print(f\"\\nCramér's V: {result.statistics['cramers_v']:.4f}\")"
   ]
  },
  {
   "cell_type": "markdown",
   "id": "262f2576",
   "metadata": {},
   "source": [
    "## 8. Weighted Analysis {#weights}\n",
    "\n",
    "Perform weighted tabulation to account for sampling weights or importance weights."
   ]
  },
  {
   "cell_type": "code",
   "execution_count": null,
   "id": "a0143f98",
   "metadata": {},
   "outputs": [],
   "source": [
    "# Add sampling weights to our data\n",
    "df['sample_weight'] = np.random.uniform(0.5, 2.0, len(df))\n",
    "\n",
    "# Weighted one-way tabulation\n",
    "result_unweighted = pdtab.tabulate('region', data=df)\n",
    "result_weighted = pdtab.tabulate('region', data=df, weights='sample_weight')\n",
    "\n",
    "print(\"Region Distribution - Unweighted:\")\n",
    "print(result_unweighted)\n",
    "\n",
    "print(\"\\nRegion Distribution - Weighted:\")\n",
    "print(result_weighted)"
   ]
  },
  {
   "cell_type": "code",
   "execution_count": null,
   "id": "2e38988c",
   "metadata": {},
   "outputs": [],
   "source": [
    "# Weighted summary tabulation\n",
    "result = pdtab.tabulate('gender', data=df, summarize='income', weights='sample_weight')\n",
    "print(\"Weighted Income Summary by Gender:\")\n",
    "print(result)"
   ]
  },
  {
   "cell_type": "markdown",
   "id": "ed46f45b",
   "metadata": {},
   "source": [
    "## 9. Visualization {#viz}\n",
    "\n",
    "Create plots directly from tabulation results."
   ]
  },
  {
   "cell_type": "code",
   "execution_count": null,
   "id": "db429ff8",
   "metadata": {},
   "outputs": [],
   "source": [
    "# Bar chart for one-way table\n",
    "result = pdtab.tabulate('education', data=df)\n",
    "\n",
    "try:\n",
    "    fig = pdtab.viz.create_tabulation_plots(result, plot_type='bar', \n",
    "                                           title='Education Distribution')\n",
    "    fig.show()\n",
    "except ImportError:\n",
    "    print(\"Matplotlib not available for plotting\")"
   ]
  },
  {
   "cell_type": "code",
   "execution_count": null,
   "id": "2bb047c6",
   "metadata": {},
   "outputs": [],
   "source": [
    "# Heatmap for two-way table\n",
    "result = pdtab.tabulate('gender', 'education', data=df)\n",
    "\n",
    "try:\n",
    "    fig = pdtab.viz.create_tabulation_plots(result, plot_type='heatmap',\n",
    "                                           title='Gender by Education')\n",
    "    fig.show()\n",
    "except ImportError:\n",
    "    print(\"Matplotlib/Seaborn not available for plotting\")"
   ]
  },
  {
   "cell_type": "code",
   "execution_count": null,
   "id": "51db7bf8",
   "metadata": {},
   "outputs": [],
   "source": [
    "# Association measures visualization\n",
    "result = pdtab.tabulate('treatment', 'outcome', data=df, \n",
    "                       V=True, gamma=True, taub=True)\n",
    "\n",
    "try:\n",
    "    fig = pdtab.viz.create_tabulation_plots(result, plot_type='association')\n",
    "    fig.show()\n",
    "except ImportError:\n",
    "    print(\"Matplotlib not available for plotting\")"
   ]
  },
  {
   "cell_type": "markdown",
   "id": "adeee318",
   "metadata": {},
   "source": [
    "## 10. Advanced Examples {#advanced}\n",
    "\n",
    "Complex real-world scenarios demonstrating the full power of pdtab."
   ]
  },
  {
   "cell_type": "code",
   "execution_count": null,
   "id": "b575ee39",
   "metadata": {},
   "outputs": [],
   "source": [
    "# Clinical trial analysis\n",
    "print(\"=== CLINICAL TRIAL ANALYSIS ===\")\n",
    "print()\n",
    "\n",
    "# Comprehensive analysis with all tests\n",
    "result = pdtab.tabulate('treatment', 'outcome', data=df,\n",
    "                       chi2=True, exact=True, lrchi2=True, V=True,\n",
    "                       row=True, expected=True)\n",
    "\n",
    "print(\"Treatment Efficacy Analysis:\")\n",
    "print(result)\n",
    "\n",
    "# Extract key statistics\n",
    "stats = result.statistics\n",
    "print(\"\\n=== STATISTICAL SUMMARY ===\")\n",
    "if 'chi2' in stats:\n",
    "    print(f\"Pearson χ²: {stats['chi2']['statistic']:.4f} (p = {stats['chi2']['p_value']:.4f})\")\n",
    "if 'exact' in stats:\n",
    "    print(f\"Fisher's exact: p = {stats['exact']['p_value']:.4f}\")\n",
    "if 'lrchi2' in stats:\n",
    "    print(f\"LR χ²: {stats['lrchi2']['statistic']:.4f} (p = {stats['lrchi2']['p_value']:.4f})\")\n",
    "if 'cramers_v' in stats:\n",
    "    print(f\"Cramér's V: {stats['cramers_v']:.4f}\")\n",
    "\n",
    "# Calculate effect size (risk ratio)\n",
    "cross_table = pd.crosstab(df['treatment'], df['outcome'])\n",
    "if 'Success' in cross_table.columns and 'Treatment' in cross_table.index:\n",
    "    treat_success = cross_table.loc['Treatment', 'Success']\n",
    "    treat_total = cross_table.loc['Treatment'].sum()\n",
    "    control_success = cross_table.loc['Control', 'Success']\n",
    "    control_total = cross_table.loc['Control'].sum()\n",
    "    \n",
    "    risk_treat = treat_success / treat_total\n",
    "    risk_control = control_success / control_total\n",
    "    risk_ratio = risk_treat / risk_control\n",
    "    \n",
    "    print(f\"\\nRisk in treatment group: {risk_treat:.3f}\")\n",
    "    print(f\"Risk in control group: {risk_control:.3f}\")\n",
    "    print(f\"Risk ratio: {risk_ratio:.3f}\")"
   ]
  },
  {
   "cell_type": "code",
   "execution_count": null,
   "id": "080d15e1",
   "metadata": {},
   "outputs": [],
   "source": [
    "# Market research analysis\n",
    "print(\"=== MARKET RESEARCH ANALYSIS ===\")\n",
    "print()\n",
    "\n",
    "# Multi-way analysis of satisfaction\n",
    "print(\"1. Overall satisfaction distribution:\")\n",
    "result = pdtab.tabulate('satisfaction', data=df, sort=True)\n",
    "print(result)\n",
    "\n",
    "print(\"\\n2. Satisfaction by demographics:\")\n",
    "result = pdtab.tabulate('gender', 'satisfaction', data=df, \n",
    "                       column=True, chi2=True)\n",
    "print(result)\n",
    "\n",
    "print(\"\\n3. Income analysis by satisfaction level:\")\n",
    "result = pdtab.tabulate('satisfaction', data=df, summarize='income')\n",
    "print(result)\n",
    "\n",
    "print(\"\\n4. Regional differences in satisfaction:\")\n",
    "results = pdtab.tab2(['region', 'satisfaction'], data=df, chi2=True)\n",
    "for (var1, var2), result in results.items():\n",
    "    print(f\"\\n{var1} × {var2}:\")\n",
    "    print(result)\n",
    "    if 'chi2' in result.statistics:\n",
    "        p_val = result.statistics['chi2']['p_value']\n",
    "        significance = \"significant\" if p_val < 0.05 else \"not significant\"\n",
    "        print(f\"Association is {significance} (p = {p_val:.4f})\")"
   ]
  },
  {
   "cell_type": "code",
   "execution_count": null,
   "id": "3e631a43",
   "metadata": {},
   "outputs": [],
   "source": [
    "# Publication-ready analysis with export\n",
    "print(\"=== PUBLICATION-READY OUTPUT ===\")\n",
    "print()\n",
    "\n",
    "result = pdtab.tabulate('gender', 'education', data=df,\n",
    "                       chi2=True, exact=True, V=True)\n",
    "\n",
    "print(\"Table 1: Educational Attainment by Gender\")\n",
    "print(result)\n",
    "\n",
    "# Export options\n",
    "print(\"\\nExport formats available:\")\n",
    "print(\"1. Dictionary format:\")\n",
    "data_dict = result.to_dict()\n",
    "print(f\"   Keys: {list(data_dict.keys())}\")\n",
    "\n",
    "print(\"\\n2. HTML format:\")\n",
    "html_output = result.to_html()\n",
    "print(f\"   HTML length: {len(html_output)} characters\")\n",
    "\n",
    "# Statistical reporting\n",
    "stats = result.statistics\n",
    "if stats:\n",
    "    print(\"\\n3. Statistical summary for manuscript:\")\n",
    "    if 'chi2' in stats:\n",
    "        chi2_stat = stats['chi2']['statistic']\n",
    "        chi2_p = stats['chi2']['p_value']\n",
    "        df_val = stats['chi2']['df']\n",
    "        print(f\"   χ²({df_val}) = {chi2_stat:.3f}, p = {chi2_p:.3f}\")\n",
    "    \n",
    "    if 'cramers_v' in stats:\n",
    "        v_stat = stats['cramers_v']\n",
    "        print(f\"   Cramér's V = {v_stat:.3f}\")\n",
    "        \n",
    "        # Effect size interpretation\n",
    "        if v_stat < 0.1:\n",
    "            effect_size = \"negligible\"\n",
    "        elif v_stat < 0.3:\n",
    "            effect_size = \"small\"\n",
    "        elif v_stat < 0.5:\n",
    "            effect_size = \"medium\"\n",
    "        else:\n",
    "            effect_size = \"large\"\n",
    "        print(f\"   Effect size: {effect_size}\")"
   ]
  },
  {
   "cell_type": "markdown",
   "id": "8d4243b1",
   "metadata": {},
   "source": [
    "## Summary\n",
    "\n",
    "This tutorial has demonstrated the comprehensive functionality of the pdtab library:\n",
    "\n",
    "- ✅ **One-way tabulation** with frequencies, percentages, and sorting\n",
    "- ✅ **Two-way cross-tabulation** with various percentage options\n",
    "- ✅ **Statistical testing** including chi-square, Fisher's exact, and likelihood-ratio tests\n",
    "- ✅ **Association measures** like Cramér's V, Gamma, and Kendall's τb\n",
    "- ✅ **Summary tabulation** for continuous variables by categories\n",
    "- ✅ **Multiple table generation** with tab1 and tab2 functions\n",
    "- ✅ **Immediate tabulation** from direct data input\n",
    "- ✅ **Weighted analysis** for complex sampling designs\n",
    "- ✅ **Visualization** capabilities for publication-quality plots\n",
    "- ✅ **Export options** for integration with other tools\n",
    "\n",
    "The pdtab library provides a seamless transition from Stata to Python for tabulation analysis, maintaining full compatibility while leveraging the power of the pandas ecosystem.\n",
    "\n",
    "### Next Steps\n",
    "\n",
    "- Explore the [full documentation](https://pdtab.readthedocs.io)\n",
    "- Try pdtab with your own datasets\n",
    "- Contribute to the project on [GitHub](https://github.com/pdtab/pdtab)\n",
    "- Report issues or request features"
   ]
  }
 ],
 "metadata": {
  "language_info": {
   "name": "python"
  }
 },
 "nbformat": 4,
 "nbformat_minor": 5
}
