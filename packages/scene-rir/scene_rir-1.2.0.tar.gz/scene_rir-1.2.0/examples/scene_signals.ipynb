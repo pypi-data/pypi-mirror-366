{
 "cells": [
  {
   "cell_type": "markdown",
   "id": "74d5616b-526a-446f-8896-cac97d5c4da6",
   "metadata": {},
   "source": [
    "# SCENE-RIR\n",
    "## Jupyter notebook for the creation of three typical excitation signal files.\n",
    "\n",
    "Creates the needed excitation signal `.wav` files for the Audio Simulation\n",
    "Module, of the Horizon project SCENE. The produced signals have durations\n",
    "of 743 ms, 2972 ms, and 11889 ms, corresponding to typical small, medium\n",
    "and large rooms. All the files are stored in the `output` subdirectory, in\n",
    "the execution path.\n",
    "\n",
    "Copyright (C) 2025 Christos Sevastiadis\n",
    "\n",
    "## License: GNU GPL v3.0\n",
    "\n",
    "This program is free software: you can redistribute it and/or modify\n",
    "it under the terms of the GNU General Public License as published by\n",
    "the Free Software Foundation, either version 3 of the License, or\n",
    "(at your option) any later version.\n",
    "\n",
    "This program is distributed in the hope that it will be useful,\n",
    "but WITHOUT ANY WARRANTY; without even the implied warranty of\n",
    "MERCHANTABILITY or FITNESS FOR A PARTICULAR PURPOSE.  See the\n",
    "GNU General Public License for more details.\n"
   ]
  },
  {
   "cell_type": "code",
   "execution_count": null,
   "id": "20c12e5b-cef6-4f4e-8dae-d63d44bf6281",
   "metadata": {},
   "outputs": [],
   "source": [
    "from scene_rir import rir\n",
    "\n",
    "# Swept-sine excitation signals creation\n",
    "\n",
    "# Short duration time signal, for small rooms\n",
    "ss_params_1 = {\n",
    "    \"sglszeidx\": 1,\n",
    "}\n",
    "ss_signal_1 = rir.SweptSineSignal(ss_params_1)\n",
    "ss_signal_1.save(\"output/ss-signal-44100_kHz-743_ms.wav\")\n",
    "\n",
    "# Medium duration time signal, for medium rooms\n",
    "ss_params_2 = {\n",
    "    \"sglszeidx\": 3,\n",
    "}\n",
    "ss_signal_2 = rir.SweptSineSignal(ss_params_2)\n",
    "ss_signal_2.save(\"output/ss-signal-44100_kHz-2972_ms.wav\")\n",
    "\n",
    "# Long duration time signal, for large rooms\n",
    "ss_params_3 = {\n",
    "    \"sglszeidx\": 5,\n",
    "}\n",
    "ss_signal_3 = rir.SweptSineSignal(ss_params_3)\n",
    "ss_signal_3.save(\"output/ss-signal-44100_kHz-11889_ms.wav\")"
   ]
  }
 ],
 "metadata": {
  "kernelspec": {
   "display_name": "Python 3 (ipykernel)",
   "language": "python",
   "name": "python3"
  },
  "language_info": {
   "codemirror_mode": {
    "name": "ipython",
    "version": 3
   },
   "file_extension": ".py",
   "mimetype": "text/x-python",
   "name": "python",
   "nbconvert_exporter": "python",
   "pygments_lexer": "ipython3",
   "version": "3.10.14"
  }
 },
 "nbformat": 4,
 "nbformat_minor": 5
}
