{
 "cells": [
  {
   "cell_type": "markdown",
   "id": "74d5616b-526a-446f-8896-cac97d5c4da6",
   "metadata": {},
   "source": [
    "# SCENE-RIR\n",
    "##  Jupyter notebook for the testing of the `scene_rir` package, over other signals.\n",
    "\n",
    "This module tests the `scene_rir.rir` module. It uses an excitation signal\n",
    "generated from another source, and extracts the room impulse responses from\n",
    "three recorded responses in real rooms. The output results are plotted in\n",
    "diagrams.\n",
    "\n",
    "Copyright (C) 2025 Christos Sevastiadis\n",
    "\n",
    "## License: GNU GPL v3.0\n",
    "\n",
    "This program is free software: you can redistribute it and/or modify\n",
    "it under the terms of the GNU General Public License as published by\n",
    "the Free Software Foundation, either version 3 of the License, or\n",
    "(at your option) any later version.\n",
    "\n",
    "This program is distributed in the hope that it will be useful,\n",
    "but WITHOUT ANY WARRANTY; without even the implied warranty of\n",
    "MERCHANTABILITY or FITNESS FOR A PARTICULAR PURPOSE.  See the\n",
    "GNU General Public License for more details.\n"
   ]
  },
  {
   "cell_type": "code",
   "execution_count": null,
   "id": "20c12e5b-cef6-4f4e-8dae-d63d44bf6281",
   "metadata": {},
   "outputs": [],
   "source": [
    "import rir_plot\n",
    "from scene_rir import rir"
   ]
  },
  {
   "cell_type": "code",
   "execution_count": null,
   "id": "0f1ad674-24d8-451c-b9d3-8a638bd69909",
   "metadata": {},
   "outputs": [],
   "source": [
    "params = {\n",
    "    \"frqstp\": 22000,\n",
    "    \"frqstt\": 10,\n",
    "    \"rec_path\": \"input/GrCLab1SSRPos2.wav\",\n",
    "    \"ref_path\": \"input/Sweep(10-22000Hz,10s-0.2s).wav\",\n",
    "}\n",
    "irs_signal = rir.ImpulseResponseSignal(params)\n",
    "irs_signal.save(\"output/irs-signal-GrCLab1SSRPos2.wav\")\n",
    "\n",
    "rir_plot.plot_irs(irs_signal)\n",
    "rir_plot.plot_irs_deconvolution(irs_signal)"
   ]
  },
  {
   "cell_type": "code",
   "execution_count": null,
   "id": "39b258c4-ff8f-46ba-abb9-03e0a4840091",
   "metadata": {},
   "outputs": [],
   "source": [
    "params = {\n",
    "    \"frqstp\": 22000,\n",
    "    \"frqstt\": 10,\n",
    "    \"rec_path\": r\"input\\GrCLab2SSRPos1Src1.wav\",\n",
    "    \"ref_path\": r\"input\\Sweep(10-22000Hz,10s-0.2s).wav\",\n",
    "}\n",
    "irs_signal = rir.ImpulseResponseSignal(params)\n",
    "irs_signal.save(\"output/irs-signal-GrCLab2SSRPos1Src1.wav\")\n",
    "\n",
    "rir_plot.plot_irs(irs_signal)\n",
    "rir_plot.plot_irs_deconvolution(irs_signal)"
   ]
  },
  {
   "cell_type": "code",
   "execution_count": null,
   "id": "8fedb7a0-fd08-4697-a189-5fe30429b3dc",
   "metadata": {},
   "outputs": [],
   "source": [
    "params = {\n",
    "    \"frqstp\": 22000,\n",
    "    \"frqstt\": 10,\n",
    "    \"rec_path\": r\"input\\GrCLab2SSRPos1Src2.wav\",\n",
    "    \"ref_path\": r\"input\\Sweep(10-22000Hz,10s-0.2s).wav\",\n",
    "}\n",
    "irs_signal = rir.ImpulseResponseSignal(params)\n",
    "irs_signal.save(\"output/irs-signal-GrCLab2SSRPos1Src2.wav\")\n",
    "\n",
    "rir_plot.plot_irs(irs_signal)\n",
    "rir_plot.plot_irs_deconvolution(irs_signal)"
   ]
  }
 ],
 "metadata": {
  "kernelspec": {
   "display_name": "Python 3 (ipykernel)",
   "language": "python",
   "name": "python3"
  },
  "language_info": {
   "codemirror_mode": {
    "name": "ipython",
    "version": 3
   },
   "file_extension": ".py",
   "mimetype": "text/x-python",
   "name": "python",
   "nbconvert_exporter": "python",
   "pygments_lexer": "ipython3",
   "version": "3.10.14"
  }
 },
 "nbformat": 4,
 "nbformat_minor": 5
}
