{
 "cells": [
  {
   "cell_type": "markdown",
   "id": "74d5616b-526a-446f-8896-cac97d5c4da6",
   "metadata": {},
   "source": [
    "# SCENE-RIR\n",
    "## Jupyter Notebook for the testing of the `scene_rir` package.\n",
    "\n",
    "This module tests the `scene_rir.rir` module. It uses  the generated\n",
    "excitation signals as both reference and recorder response signals,\n",
    "producing Kronecker Delta responses, with or without delay.\n",
    "The output results are plotted in diagrams.\n",
    "\n",
    "Copyright (C) 2025 Christos Sevastiadis\n",
    "\n",
    "## Usage:\n",
    "```>python tests.py```\n",
    "\n",
    "## License: GNU GPL v3.0\n",
    "\n",
    "This program is free software: you can redistribute it and/or modify\n",
    "it under the terms of the GNU General Public License as published by\n",
    "the Free Software Foundation, either version 3 of the License, or\n",
    "(at your option) any later version.\n",
    "\n",
    "This program is distributed in the hope that it will be useful,\n",
    "but WITHOUT ANY WARRANTY; without even the implied warranty of\n",
    "MERCHANTABILITY or FITNESS FOR A PARTICULAR PURPOSE.  See the\n",
    "GNU General Public License for more details.\n"
   ]
  },
  {
   "cell_type": "code",
   "execution_count": null,
   "id": "20c12e5b-cef6-4f4e-8dae-d63d44bf6281",
   "metadata": {},
   "outputs": [],
   "source": [
    "import numpy as np\n",
    "import rir_plot\n",
    "import scene_rir\n",
    "import scipy as sp\n",
    "import shutil\n",
    "from scene_rir import rir"
   ]
  },
  {
   "cell_type": "code",
   "execution_count": null,
   "id": "a978efd9-eddb-493b-a91e-32b5d6492ff7",
   "metadata": {},
   "outputs": [],
   "source": [
    "help(scene_rir)"
   ]
  },
  {
   "cell_type": "code",
   "execution_count": null,
   "id": "65d920a0-3ca4-4c0a-8fb3-9beb98a960b6",
   "metadata": {},
   "outputs": [],
   "source": [
    "help(rir)"
   ]
  },
  {
   "cell_type": "code",
   "execution_count": null,
   "id": "fe6d5867-0f76-4321-ae2f-291947886962",
   "metadata": {},
   "outputs": [],
   "source": [
    "DELAY_DURATION = 0\n",
    "SIGNAL_LEVEL = -3\n",
    "\n",
    "signal = rir.SweptSineSignal()\n",
    "signal.save(\"output/ss-signal-00.wav\")\n",
    "\n",
    "shutil.copy(\"output/ss-signal-00.wav\", \"input/rec-signal-00.wav\")\n",
    "shutil.copy(\"output/ss-signal-00.wav\", \"input/ref-signal-00.wav\")\n",
    "\n",
    "params = {\n",
    "    \"rec_path\": \"input/rec-signal-00.wav\",\n",
    "    \"ref_path\": \"input/ref-signal-00.wav\",\n",
    "    \"sgllvl\": SIGNAL_LEVEL,\n",
    "}\n",
    "irs_signal = rir.ImpulseResponseSignal(params)\n",
    "irs_signal.save(\"output/irs-signal-00.wav\")\n",
    "\n",
    "rir_plot.plot_irs(irs_signal)\n",
    "rir_plot.plot_irs_deconvolution(irs_signal)\n",
    "rir_plot.plot_irs_impulse(irs_signal, DELAY_DURATION, SIGNAL_LEVEL)"
   ]
  },
  {
   "cell_type": "code",
   "execution_count": null,
   "id": "919916c9-70af-4924-92df-02ed76b05f82",
   "metadata": {},
   "outputs": [],
   "source": [
    "DELAY_DURATION = 0.5\n",
    "SIGNAL_LEVEL = -3\n",
    "\n",
    "signal = rir.SweptSineSignal()\n",
    "signal.save(\"output/ss-signal-01.wav\")\n",
    "\n",
    "(smprte, sglvec) = signal.signal_vector()\n",
    "slcvec = np.zeros(int(DELAY_DURATION * smprte))\n",
    "sglvec = np.concatenate((slcvec, sglvec))\n",
    "sp.io.wavfile.write(\"input/rec-signal-01.wav\", smprte, sglvec)\n",
    "shutil.copy(\"output/ss-signal-01.wav\", \"input/ref-signal-01.wav\")\n",
    "\n",
    "params = {\n",
    "    \"rec_path\": \"input/rec-signal-01.wav\",\n",
    "    \"ref_path\": \"input/ref-signal-01.wav\",\n",
    "    \"sgllvl\": SIGNAL_LEVEL,\n",
    "}\n",
    "irs_signal = rir.ImpulseResponseSignal(params)\n",
    "irs_signal.save(\"output/irs-signal-01.wav\")\n",
    "\n",
    "rir_plot.plot_irs(irs_signal)\n",
    "rir_plot.plot_irs_deconvolution(irs_signal)\n",
    "rir_plot.plot_irs_impulse(irs_signal, DELAY_DURATION, SIGNAL_LEVEL)"
   ]
  },
  {
   "cell_type": "code",
   "execution_count": null,
   "id": "050ca292-db15-436b-8348-a90c5c17013e",
   "metadata": {
    "scrolled": true
   },
   "outputs": [],
   "source": [
    "DELAY_DURATION = 0\n",
    "SIGNAL_LEVEL = -3\n",
    "\n",
    "params = {\n",
    "    \"antslcdur\": 0.3,\n",
    "    \"pstslcdur\": 0.3,\n",
    "}\n",
    "signal = rir.SweptSineSignal(params)\n",
    "signal.save(\"output/ss-signal-02.wav\")\n",
    "\n",
    "shutil.copy(\"output/ss-signal-02.wav\", \"input/rec-signal-02.wav\")\n",
    "shutil.copy(\"output/ss-signal-02.wav\", \"input/ref-signal-02.wav\")\n",
    "\n",
    "params = {\n",
    "    \"rec_path\": \"input/rec-signal-02.wav\",\n",
    "    \"ref_path\": \"input/ref-signal-02.wav\",\n",
    "}\n",
    "irs_signal = rir.ImpulseResponseSignal(params)\n",
    "irs_signal.save(\"output/irs-signal-02.wav\")\n",
    "\n",
    "rir_plot.plot_irs(irs_signal)\n",
    "rir_plot.plot_irs_deconvolution(irs_signal)\n",
    "rir_plot.plot_irs_impulse(irs_signal, DELAY_DURATION, SIGNAL_LEVEL)"
   ]
  },
  {
   "cell_type": "code",
   "execution_count": null,
   "id": "787db49e-499b-4eb7-9d1b-471657487224",
   "metadata": {},
   "outputs": [],
   "source": [
    "DELAY_DURATION = 0.5\n",
    "SIGNAL_LEVEL = -3\n",
    "\n",
    "params = {\n",
    "    \"antslcdur\": 0.3,\n",
    "    \"pstslcdur\": 0.3,\n",
    "}\n",
    "signal = rir.SweptSineSignal(params)\n",
    "signal.save(\"output/ss-signal-03.wav\")\n",
    "\n",
    "(smprte, sglvec) = signal.signal_vector()\n",
    "slcvec = np.zeros(int(DELAY_DURATION * smprte))\n",
    "sglvec = np.concatenate((slcvec, sglvec))\n",
    "sp.io.wavfile.write(\"input/rec-signal-03.wav\", smprte, sglvec)\n",
    "shutil.copy(\"output/ss-signal-03.wav\", \"input/ref-signal-03.wav\")\n",
    "\n",
    "params = {\n",
    "    \"rec_path\": \"input/rec-signal-03.wav\",\n",
    "    \"ref_path\": \"input/ref-signal-03.wav\",\n",
    "}\n",
    "irs_signal = rir.ImpulseResponseSignal(params)\n",
    "irs_signal.save(\"output/irs-signal-03.wav\")\n",
    "\n",
    "rir_plot.plot_irs(irs_signal)\n",
    "rir_plot.plot_irs_deconvolution(irs_signal)\n",
    "rir_plot.plot_irs_impulse(irs_signal, DELAY_DURATION, SIGNAL_LEVEL)"
   ]
  },
  {
   "cell_type": "code",
   "execution_count": null,
   "id": "990c28a9-9f2e-4781-b1d2-2f54d7f0a88f",
   "metadata": {},
   "outputs": [],
   "source": [
    "DELAY_DURATION = 0.5\n",
    "SIGNAL_LEVEL = -3\n",
    "\n",
    "params = {\n",
    "    \"antslcdur\": 0.3,\n",
    "    \"pstslcdur\": 0.3,\n",
    "    \"ss_rtetyp\": \"lin\",\n",
    "}\n",
    "signal = rir.SweptSineSignal(params)\n",
    "signal.save(\"output/ss-signal-04.wav\")\n",
    "\n",
    "(smprte, sglvec) = signal.signal_vector()\n",
    "slcvec = np.zeros(int(DELAY_DURATION * smprte))\n",
    "sglvec = np.concatenate((slcvec, sglvec))\n",
    "sp.io.wavfile.write(\"input/rec-signal-04.wav\", smprte, sglvec)\n",
    "shutil.copy(\"output/ss-signal-04.wav\", \"input/ref-signal-04.wav\")\n",
    "\n",
    "params = {\n",
    "    \"rec_path\": \"input/rec-signal-04.wav\",\n",
    "    \"ref_path\": \"input/ref-signal-04.wav\",\n",
    "    \"ss_rtetyp\": \"lin\",\n",
    "}\n",
    "irs_signal = rir.ImpulseResponseSignal(params)\n",
    "irs_signal.save(\"output/irs-signal-04.wav\")\n",
    "\n",
    "rir_plot.plot_irs(irs_signal)\n",
    "rir_plot.plot_irs_deconvolution(irs_signal)\n",
    "rir_plot.plot_irs_impulse(irs_signal, DELAY_DURATION, SIGNAL_LEVEL)"
   ]
  }
 ],
 "metadata": {
  "kernelspec": {
   "display_name": "Python 3 (ipykernel)",
   "language": "python",
   "name": "python3"
  },
  "language_info": {
   "codemirror_mode": {
    "name": "ipython",
    "version": 3
   },
   "file_extension": ".py",
   "mimetype": "text/x-python",
   "name": "python",
   "nbconvert_exporter": "python",
   "pygments_lexer": "ipython3",
   "version": "3.10.14"
  }
 },
 "nbformat": 4,
 "nbformat_minor": 5
}
