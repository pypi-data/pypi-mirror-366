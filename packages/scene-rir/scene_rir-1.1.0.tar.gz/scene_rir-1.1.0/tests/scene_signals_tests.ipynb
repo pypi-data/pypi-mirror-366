{
 "cells": [
  {
   "cell_type": "markdown",
   "id": "74d5616b-526a-446f-8896-cac97d5c4da6",
   "metadata": {},
   "source": [
    "# SCENE-RIR\n",
    "## Jupyter Notebook for the testing of the `scene_rir` package, over the SCENE signals.\n",
    "\n",
    "This notebook tests the `scene_rir.rir` module. It uses the three excitation\n",
    "signals used in the Audio Simulation Module of the Horizon Europa project\n",
    "SCENE, as both reference and recorder response signals, producing Kronecker\n",
    "Delta responses, not delayed in time. The output results are plotted in\n",
    "diagrams.\n",
    "\n",
    "Copyright (C) 2025 Christos Sevastiadis\n",
    "\n",
    "## License: GNU GPL v3.0\n",
    "\n",
    "This program is free software: you can redistribute it and/or modify\n",
    "it under the terms of the GNU General Public License as published by\n",
    "the Free Software Foundation, either version 3 of the License, or\n",
    "(at your option) any later version.\n",
    "\n",
    "This program is distributed in the hope that it will be useful,\n",
    "but WITHOUT ANY WARRANTY; without even the implied warranty of\n",
    "MERCHANTABILITY or FITNESS FOR A PARTICULAR PURPOSE.  See the\n",
    "GNU General Public License for more details.\n"
   ]
  },
  {
   "cell_type": "code",
   "execution_count": null,
   "id": "20c12e5b-cef6-4f4e-8dae-d63d44bf6281",
   "metadata": {},
   "outputs": [],
   "source": [
    "import rir_plot\n",
    "import shutil\n",
    "from pathlib import Path\n",
    "from scene_rir import rir"
   ]
  },
  {
   "cell_type": "code",
   "execution_count": null,
   "id": "94e15c5c-ac8a-49b6-90c2-6ad086859da1",
   "metadata": {},
   "outputs": [],
   "source": [
    "DELAY_DURATION = 0\n",
    "SIGNAL_LEVEL = -3\n",
    "\n",
    "ss_params_1 = {\n",
    "    \"sglszeidx\": 1,\n",
    "}\n",
    "ss_signal_1 = rir.SweptSineSignal(ss_params_1)\n",
    "ss_signal_1.save(\"output/ss-signal-44100_kHz-743_ms.wav\")\n",
    "\n",
    "p = Path(\"input\")\n",
    "if not p.exists():\n",
    "    p.mkdir(parents=True)\n",
    "shutil.copy(\"output/ss-signal-44100_kHz-743_ms.wav\", \n",
    "            \"input/ss-signal-44100_kHz-743_ms.wav\")\n",
    "\n",
    "irs_params_1 = {\n",
    "    \"rec_path\": \"input/ss-signal-44100_kHz-743_ms.wav\",\n",
    "    \"ref_path\": \"input/ss-signal-44100_kHz-743_ms.wav\",\n",
    "}\n",
    "irs_signal_1 = rir.ImpulseResponseSignal(irs_params_1)\n",
    "irs_signal_1.save(\"output/irs-signal-44100_kHz-743_ms.wav\")\n",
    "\n",
    "rir_plot.plot_irs(irs_signal_1)\n",
    "rir_plot.plot_irs_deconvolution(irs_signal_1)\n",
    "rir_plot.plot_irs_impulse(irs_signal_1, DELAY_DURATION, SIGNAL_LEVEL)"
   ]
  },
  {
   "cell_type": "code",
   "execution_count": null,
   "id": "5af90250-ae11-4555-b25c-7c0099d046d4",
   "metadata": {},
   "outputs": [],
   "source": [
    "DELAY_DURATION = 0\n",
    "SIGNAL_LEVEL = -3\n",
    "\n",
    "ss_params_2 = {\n",
    "    \"sglszeidx\": 3,\n",
    "}\n",
    "ss_signal_2 = rir.SweptSineSignal(ss_params_2)\n",
    "ss_signal_2.save(\"output/ss-signal-44100_kHz-2972_ms.wav\")\n",
    "p = Path(\"input\")\n",
    "if not p.exists():\n",
    "    p.makedirs(parents=True)\n",
    "shutil.copy(\"output/ss-signal-44100_kHz-2972_ms.wav\", \n",
    "            \"input/ss-signal-44100_kHz-2972_ms.wav\")\n",
    "\n",
    "irs_params_2 = {\n",
    "    \"rec_path\": \"input/ss-signal-44100_kHz-2972_ms.wav\",\n",
    "    \"ref_path\": \"input/ss-signal-44100_kHz-2972_ms.wav\",\n",
    "}\n",
    "irs_signal_2 = rir.ImpulseResponseSignal(irs_params_2)\n",
    "irs_signal_2.save(\"output/irs-signal-44100_kHz-2972_ms.wav\")\n",
    "\n",
    "rir_plot.plot_irs(irs_signal_2)\n",
    "rir_plot.plot_irs_deconvolution(irs_signal_2)\n",
    "rir_plot.plot_irs_impulse(irs_signal_2, DELAY_DURATION, SIGNAL_LEVEL)"
   ]
  },
  {
   "cell_type": "code",
   "execution_count": null,
   "id": "dbcec1cb-2f0e-4ec1-bfbd-81142527b18c",
   "metadata": {},
   "outputs": [],
   "source": [
    "DELAY_DURATION = 0\n",
    "SIGNAL_LEVEL = -3\n",
    "\n",
    "ss_params_3 = {\n",
    "    \"sglszeidx\": 5,\n",
    "}\n",
    "ss_signal_3 = rir.SweptSineSignal(ss_params_3)\n",
    "ss_signal_3.save(\"output/ss-signal-44100_kHz-11889_ms.wav\")\n",
    "p = Path(\"input\")\n",
    "if not p.exists():\n",
    "    p.makedirs(parents=True)\n",
    "shutil.copy(\"output/ss-signal-44100_kHz-11889_ms.wav\", \n",
    "            \"input/ss-signal-44100_kHz-11889_ms.wav\")\n",
    "\n",
    "irs_params_3 = {\n",
    "    \"rec_path\": \"input/ss-signal-44100_kHz-11889_ms.wav\",\n",
    "    \"ref_path\": \"input/ss-signal-44100_kHz-11889_ms.wav\",\n",
    "}\n",
    "irs_signal_3 = rir.ImpulseResponseSignal(irs_params_3)\n",
    "irs_signal_3.save(\"output/irs-signal-44100_kHz-11889_ms.wav\")\n",
    "\n",
    "rir_plot.plot_irs(irs_signal_3)\n",
    "rir_plot.plot_irs_deconvolution(irs_signal_3)\n",
    "rir_plot.plot_irs_impulse(irs_signal_3, DELAY_DURATION, SIGNAL_LEVEL)"
   ]
  }
 ],
 "metadata": {
  "kernelspec": {
   "display_name": "Python 3 (ipykernel)",
   "language": "python",
   "name": "python3"
  },
  "language_info": {
   "codemirror_mode": {
    "name": "ipython",
    "version": 3
   },
   "file_extension": ".py",
   "mimetype": "text/x-python",
   "name": "python",
   "nbconvert_exporter": "python",
   "pygments_lexer": "ipython3",
   "version": "3.10.14"
  }
 },
 "nbformat": 4,
 "nbformat_minor": 5
}
