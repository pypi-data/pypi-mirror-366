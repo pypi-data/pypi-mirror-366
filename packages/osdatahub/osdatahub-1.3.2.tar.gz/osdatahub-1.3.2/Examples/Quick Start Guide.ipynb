{
 "cells": [
  {
   "cell_type": "markdown",
   "id": "7f3ff307",
   "metadata": {},
   "source": [
    "# Quick Start Guide"
   ]
  },
  {
   "cell_type": "markdown",
   "id": "6a0aeab4",
   "metadata": {},
   "source": [
    "# Table of contents\n",
    "1. [Setup](#setup)\n",
    "2. [OS Features API](#features)\n",
    "    1. [Simple Bounding Box](#features-bbox)\n",
    "    2. [Circular Extent](#features-radius)\n",
    "    3. [Attribute Filters](#features-filters)\n",
    "3. [OS Places API](#places)\n",
    "    1. [Simple Bounding Box](#places-bbox)\n",
    "    2. [Nearest](#places-nearest)\n",
    "    3. [UPRN](#places-uprn)\n",
    "    4. [Find](#places-find)"
   ]
  },
  {
   "cell_type": "markdown",
   "id": "b03b5d72",
   "metadata": {},
   "source": [
    "## Setup <a name=\"setup\"></a>\n",
    "Import Package and API key"
   ]
  },
  {
   "cell_type": "code",
   "execution_count": null,
   "id": "b6e15750",
   "metadata": {},
   "outputs": [],
   "source": [
    "from osdatahub import Extent\n",
    "from osdatahub import FeaturesAPI \n",
    "from osdatahub import PlacesAPI\n",
    "from os import environ\n",
    "\n",
    "key = environ.get(\"OS_API_KEY\")\n",
    "crs = \"EPSG:27700\""
   ]
  },
  {
   "cell_type": "markdown",
   "id": "4ab7aad6",
   "metadata": {},
   "source": [
    "## OS Features API <a name=\"features\"></a>\n",
    "Query the OS Features API using `osdatahub`."
   ]
  },
  {
   "cell_type": "markdown",
   "id": "b0402849",
   "metadata": {},
   "source": [
    "### Simple Bounding Box <a name=\"features-bbox\"></a>"
   ]
  },
  {
   "cell_type": "markdown",
   "id": "0aee1db2",
   "metadata": {},
   "source": [
    "Define extent"
   ]
  },
  {
   "cell_type": "code",
   "execution_count": null,
   "id": "6c0dfd96",
   "metadata": {},
   "outputs": [],
   "source": [
    "extent = Extent.from_bbox((600000, 310200, 600900, 310900), crs)"
   ]
  },
  {
   "cell_type": "markdown",
   "id": "b9281ed3",
   "metadata": {},
   "source": [
    "Create FeaturesAPI Object"
   ]
  },
  {
   "cell_type": "code",
   "execution_count": null,
   "id": "45c6252a",
   "metadata": {},
   "outputs": [],
   "source": [
    "product = \"zoomstack_local_buildings\"\n",
    "features_api = FeaturesAPI(key, product, extent)"
   ]
  },
  {
   "cell_type": "markdown",
   "id": "b0b81ca3",
   "metadata": {},
   "source": [
    "Run Query"
   ]
  },
  {
   "cell_type": "code",
   "execution_count": null,
   "id": "961033c0",
   "metadata": {},
   "outputs": [],
   "source": [
    "results = features_api.query(limit=20)\n",
    "results"
   ]
  },
  {
   "cell_type": "markdown",
   "id": "12b77334",
   "metadata": {},
   "source": [
    "### Circular Extent <a name=\"features-radius\"></a>"
   ]
  },
  {
   "cell_type": "markdown",
   "id": "c718fc6f",
   "metadata": {},
   "source": [
    "Define extent"
   ]
  },
  {
   "cell_type": "code",
   "execution_count": null,
   "id": "991ca10e",
   "metadata": {},
   "outputs": [],
   "source": [
    "extent = Extent.from_radius((600000, 310200), 1000, crs)"
   ]
  },
  {
   "cell_type": "markdown",
   "id": "dce9a7a2",
   "metadata": {},
   "source": [
    "Create FeaturesAPI Object"
   ]
  },
  {
   "cell_type": "code",
   "execution_count": null,
   "id": "52afec61",
   "metadata": {},
   "outputs": [],
   "source": [
    "product = \"zoomstack_woodland\"\n",
    "features_api = FeaturesAPI(key, product, extent)"
   ]
  },
  {
   "cell_type": "markdown",
   "id": "31f45c12",
   "metadata": {},
   "source": [
    "Run Query"
   ]
  },
  {
   "cell_type": "code",
   "execution_count": null,
   "id": "207b96f9",
   "metadata": {},
   "outputs": [],
   "source": [
    "results = features_api.query(limit=20)\n",
    "results"
   ]
  },
  {
   "cell_type": "markdown",
   "id": "ad5890dd",
   "metadata": {},
   "source": [
    "### Attribute Filters <a name=\"features-filters\"></a>"
   ]
  },
  {
   "cell_type": "markdown",
   "id": "76fbb1d3",
   "metadata": {},
   "source": [
    "Define extent"
   ]
  },
  {
   "cell_type": "code",
   "execution_count": null,
   "id": "d9c1d2f6",
   "metadata": {},
   "outputs": [],
   "source": [
    "extent = Extent.from_bbox((600000, 310200, 600900, 310900), crs)"
   ]
  },
  {
   "cell_type": "markdown",
   "id": "07ba9574",
   "metadata": {},
   "source": [
    "Create FeaturesAPI Object"
   ]
  },
  {
   "cell_type": "code",
   "execution_count": null,
   "id": "f9a54f5c",
   "metadata": {},
   "outputs": [],
   "source": [
    "product = \"highways_road_link\"\n",
    "features_api = FeaturesAPI(key, product, extent)"
   ]
  },
  {
   "cell_type": "markdown",
   "id": "18bae9ca",
   "metadata": {},
   "source": [
    "Add Attribute Filters"
   ]
  },
  {
   "cell_type": "code",
   "execution_count": null,
   "id": "37090de1",
   "metadata": {},
   "outputs": [],
   "source": [
    "from osdatahub.filters import is_equal, is_less_than\n",
    "\n",
    "features_api.add_filters(\n",
    "    is_equal(\"FormOfWay\", \"Single Carriageway\"),\n",
    "    is_less_than(\"Length\", 200)\n",
    ")"
   ]
  },
  {
   "cell_type": "markdown",
   "id": "2e36cc82",
   "metadata": {},
   "source": [
    "Run Query"
   ]
  },
  {
   "cell_type": "code",
   "execution_count": null,
   "id": "2e20e025",
   "metadata": {},
   "outputs": [],
   "source": [
    "results = features_api.query(limit=20)\n",
    "results"
   ]
  },
  {
   "cell_type": "markdown",
   "id": "53f6d20f",
   "metadata": {},
   "source": [
    "## OS Places API <a name=\"places\"></a>\n",
    "Query the OS Places API using `osdatahub`."
   ]
  },
  {
   "cell_type": "markdown",
   "id": "323ea043",
   "metadata": {},
   "source": [
    "### Simple Bounding Box <a name=\"places-bbox\"></a>"
   ]
  },
  {
   "cell_type": "markdown",
   "id": "a103e63d",
   "metadata": {},
   "source": [
    "Define extent"
   ]
  },
  {
   "cell_type": "code",
   "execution_count": null,
   "id": "9aff7357",
   "metadata": {},
   "outputs": [],
   "source": [
    "extent = Extent.from_bbox((600000, 310200, 600900, 310900), crs)"
   ]
  },
  {
   "cell_type": "markdown",
   "id": "351af53f",
   "metadata": {},
   "source": [
    "Create PlacesAPI Object"
   ]
  },
  {
   "cell_type": "code",
   "execution_count": null,
   "id": "4f49ede2",
   "metadata": {},
   "outputs": [],
   "source": [
    "places_api = PlacesAPI(key)"
   ]
  },
  {
   "cell_type": "markdown",
   "id": "a5bf60b9",
   "metadata": {},
   "source": [
    "Run Query"
   ]
  },
  {
   "cell_type": "code",
   "execution_count": null,
   "id": "be6d6007",
   "metadata": {},
   "outputs": [],
   "source": [
    "results = places_api.query(extent, limit=20)\n",
    "results"
   ]
  },
  {
   "cell_type": "markdown",
   "id": "f9beb95d",
   "metadata": {},
   "source": [
    "### Nearest <a name=\"places-nearest\"></a>"
   ]
  },
  {
   "cell_type": "markdown",
   "id": "27715c66",
   "metadata": {},
   "source": [
    "Create PlacesAPI Object"
   ]
  },
  {
   "cell_type": "code",
   "execution_count": null,
   "id": "c8034494",
   "metadata": {},
   "outputs": [],
   "source": [
    "places_api = PlacesAPI(key)"
   ]
  },
  {
   "cell_type": "markdown",
   "id": "9bf588fa",
   "metadata": {},
   "source": [
    "Run Query"
   ]
  },
  {
   "cell_type": "code",
   "execution_count": null,
   "id": "beb21385",
   "metadata": {},
   "outputs": [],
   "source": [
    "results = places_api.nearest((600840, 310780), crs)\n",
    "results"
   ]
  },
  {
   "cell_type": "markdown",
   "id": "cffe352d",
   "metadata": {},
   "source": [
    "#### UPRN <a name=\"places-uprn\"></a>"
   ]
  },
  {
   "cell_type": "markdown",
   "id": "ad46169c",
   "metadata": {},
   "source": [
    "Create PlacesAPI Object"
   ]
  },
  {
   "cell_type": "code",
   "execution_count": null,
   "id": "9edcddba",
   "metadata": {},
   "outputs": [],
   "source": [
    "places_api = PlacesAPI(key)"
   ]
  },
  {
   "cell_type": "markdown",
   "id": "528322c5",
   "metadata": {},
   "source": [
    "Run Query"
   ]
  },
  {
   "cell_type": "code",
   "execution_count": null,
   "id": "205f9458",
   "metadata": {},
   "outputs": [],
   "source": [
    "results = places_api.uprn(100091307344)\n",
    "results"
   ]
  },
  {
   "cell_type": "markdown",
   "id": "30ac4410",
   "metadata": {},
   "source": [
    "#### Find <a name=\"places-find\"></a>"
   ]
  },
  {
   "cell_type": "markdown",
   "id": "88b839c0",
   "metadata": {},
   "source": [
    "Create PlacesAPI Object"
   ]
  },
  {
   "cell_type": "code",
   "execution_count": null,
   "id": "df98287a",
   "metadata": {},
   "outputs": [],
   "source": [
    "places_api = PlacesAPI(key)"
   ]
  },
  {
   "cell_type": "markdown",
   "id": "9b85906d",
   "metadata": {},
   "source": [
    "Run Query"
   ]
  },
  {
   "cell_type": "code",
   "execution_count": null,
   "id": "ec4fa0b3",
   "metadata": {},
   "outputs": [],
   "source": [
    "results = places_api.find(\"Ordnance Survey\")\n",
    "results"
   ]
  },
  {
   "cell_type": "code",
   "execution_count": null,
   "id": "5520a93a",
   "metadata": {},
   "outputs": [],
   "source": []
  }
 ],
 "metadata": {
  "kernelspec": {
   "display_name": "osdatahub-notebooks",
   "language": "python",
   "name": "osdatahub-notebooks"
  },
  "language_info": {
   "codemirror_mode": {
    "name": "ipython",
    "version": 3
   },
   "file_extension": ".py",
   "mimetype": "text/x-python",
   "name": "python",
   "nbconvert_exporter": "python",
   "pygments_lexer": "ipython3",
   "version": "3.8.12"
  }
 },
 "nbformat": 4,
 "nbformat_minor": 5
}
