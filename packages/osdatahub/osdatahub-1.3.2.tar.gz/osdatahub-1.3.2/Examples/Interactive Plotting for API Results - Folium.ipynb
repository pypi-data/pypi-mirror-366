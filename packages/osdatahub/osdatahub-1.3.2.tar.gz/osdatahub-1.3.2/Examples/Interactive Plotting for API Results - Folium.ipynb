{
 "cells": [
  {
   "cell_type": "markdown",
   "source": [
    "# Interactive Plotting for API Results\n",
    "Interactive maps are a great way to present geospatial data, allowing people to zoom, pan, and click on results.  [Folium](https://python-visualization.github.io/folium/index.html) is a python library for making interactive maps built on top of a JavaScript mapping library called Leaflet. The results of queries made using the `osdatahub` are returned in GeoJSON format, which is an ideal input for interactive mapping libraries with JavaScript underpinnings, and the OS Maps API can supply tiles for basemaps giving that all important context to your data."
   ],
   "metadata": {}
  },
  {
   "cell_type": "code",
   "execution_count": null,
   "source": [
    "from datetime import datetime\r\n",
    "from osdatahub import Extent\r\n",
    "from osdatahub import FeaturesAPI \r\n",
    "import os\r\n",
    "os.environ['PROJ_NETWORK'] = 'OFF'"
   ],
   "outputs": [],
   "metadata": {}
  },
  {
   "cell_type": "markdown",
   "source": [
    "## Polygons with Popups\n",
    "The example uses Zoomstack Surface Water to show how to plot the API results onto an interactive map and provide additional information about the data to users through popups."
   ],
   "metadata": {}
  },
  {
   "cell_type": "markdown",
   "source": [
    "### Get Data from the API"
   ],
   "metadata": {}
  },
  {
   "cell_type": "code",
   "execution_count": null,
   "source": [
    "# Choose data product\r\n",
    "product = 'zoomstack_surface_water'\r\n",
    "\r\n",
    "# Define query extent. Folium maps use coordinates in EPSG:4326,\r\n",
    "# the extent is specified in degrees longitude and latitude\r\n",
    "W, S = (-1.328, 50.979)\r\n",
    "E, N = (-1.322, 50.9815)\r\n",
    "crs = \"EPSG:4326\"\r\n",
    "extent = Extent.from_bbox((W, S, E, N), crs=crs)\r\n",
    "\r\n",
    "# Query API\r\n",
    "key = os.environ.get(\"OS_API_KEY\")\r\n",
    "surface_water = FeaturesAPI(key, product, extent)\r\n",
    "surface_water_results = surface_water.query(limit=100000)"
   ],
   "outputs": [],
   "metadata": {}
  },
  {
   "cell_type": "markdown",
   "source": [
    "### Define the Map\n",
    "The first step in creating a folium map is to create a map object. This defines the location in view when the map first loads. Folium maps always use coordinates in the WGS84 coordinate reference system, so the starting location must be specified in degrees latitude and longitude - note the order."
   ],
   "metadata": {}
  },
  {
   "cell_type": "code",
   "execution_count": null,
   "source": [
    "import folium\r\n",
    "\r\n",
    "# Careful specifying MAP_CENTRE - is always [latitude, longitude] when\r\n",
    "# elsewhere you might be using [longitude, latitude].\r\n",
    "MAP_CENTRE = [50.98, -1.325]\r\n",
    "\r\n",
    "# m is the folium map instance all other layers will be added to.\r\n",
    "m = folium.Map(location=MAP_CENTRE,\r\n",
    "               zoom_start=16,\r\n",
    "               tiles=None)"
   ],
   "outputs": [],
   "metadata": {}
  },
  {
   "cell_type": "markdown",
   "source": [
    "### Add a Basemap\n",
    "This defines the base map. You can access base map tiles via the OS Maps API. By adding the Maps API to the same project as the Features API, you can use the same key for both. To find out more about API keys, check out the \"Setting up an API key\" example. Folium requires you to provide attribution for the tiles, which will be displayed with the tiles."
   ],
   "metadata": {}
  },
  {
   "cell_type": "code",
   "execution_count": null,
   "source": [
    "LAYER = \"Outdoor_3857\"\r\n",
    "TILES = f\"https://api.os.uk/maps/raster/v1/zxy/{LAYER}/{{z}}/{{x}}/{{y}}.png?key={key}\"\r\n",
    "ATTR = f\"Contains OS data © Crown copyright and database right {datetime.now().year}\"\r\n",
    "\r\n",
    "tiles = folium.TileLayer(tiles=TILES,\r\n",
    "                         attr=ATTR,\r\n",
    "                         max_zoom=16,\r\n",
    "                         name='OS Maps Outdoor',\r\n",
    "                         control=False).add_to(m)"
   ],
   "outputs": [],
   "metadata": {}
  },
  {
   "cell_type": "markdown",
   "source": [
    "### Add the Data\n",
    "Add the API results to the map with a popup showing the area of each polygon."
   ],
   "metadata": {}
  },
  {
   "cell_type": "code",
   "execution_count": null,
   "source": [
    "# The popup text can be populated directly from the properties of the water polygons\r\n",
    "# by specifying the name of the field and an optional display name.\r\n",
    "popup = folium.GeoJsonPopup(fields=['SHAPE_Area'], aliases=[\"Area (m2)\"])\r\n",
    "water_layer = folium.GeoJson(surface_water_results,\r\n",
    "                             name=\"Zoomstack Surface Water\",\r\n",
    "                             popup=popup).add_to(m)"
   ],
   "outputs": [],
   "metadata": {}
  },
  {
   "cell_type": "markdown",
   "source": [
    "### Add Bounding Box"
   ],
   "metadata": {}
  },
  {
   "cell_type": "code",
   "execution_count": null,
   "source": [
    "from shapely.geometry import mapping\r\n",
    "\r\n",
    "# Convert the extent into GeoJSON using shapely's mapping() function\r\n",
    "bbox_geojson = mapping(extent.polygon)\r\n",
    "\r\n",
    "# Specify the styling for plotting the bbox.\r\n",
    "bbox_styling = {'fillColor': 'none',\r\n",
    "                'color': 'black',\r\n",
    "                'lineOpacity': 0.9,\r\n",
    "                'weight': 1.2,\r\n",
    "                'dashArray': 10}\r\n",
    "\r\n",
    "# Add the bounding box to the map.\r\n",
    "folium.GeoJson(bbox_geojson,\r\n",
    "               style_function=lambda x: bbox_styling,\r\n",
    "               name=\"Bounding Box\").add_to(m)\r\n",
    "\r\n",
    "# Add ability to toggle layers\r\n",
    "folium.LayerControl().add_to(m)\r\n",
    "\r\n",
    "# View the map\r\n",
    "m"
   ],
   "outputs": [],
   "metadata": {}
  },
  {
   "cell_type": "markdown",
   "source": [
    "# Heatmaps\n",
    "This example demonstrates how to plot the density of different address types as heatmaps. Folium heatmaps show brighter colors where there are more points in an area. This is a good way to look at what areas of a town are residential vs retail, for example. In this example, you can clearly see where the local high street is and where housing tends to be terraced vs semi-detached."
   ],
   "metadata": {}
  },
  {
   "cell_type": "markdown",
   "source": [
    "### Get Data From the API\n",
    "With the option to define the extent of a query using an ONS code, this query finds the location of all addresses within a particular Lower Super Output Area. The resulting points are split into seperate lists depending on the classification of the address."
   ],
   "metadata": {}
  },
  {
   "cell_type": "code",
   "execution_count": null,
   "source": [
    "from osdatahub import PlacesAPI\r\n",
    "from collections import defaultdict\r\n",
    "\r\n",
    "# Define the extent as Portswood LSOA\r\n",
    "portswood = \"E01017235\"\r\n",
    "extent = Extent.from_ons_code(portswood)\r\n",
    "\r\n",
    "# Query the API\r\n",
    "places = PlacesAPI(key)\r\n",
    "addresses = places.query(extent=extent, output_crs=crs, limit=10000)\r\n",
    "\r\n",
    "# Split the results by classification. This makes a dictionary with the keys being\r\n",
    "# the classifications and the values a list of all addresses with that classification.\r\n",
    "classifications = defaultdict(list)\r\n",
    "for feature in addresses[\"features\"]:\r\n",
    "    address_classification = feature[\"properties\"]['CLASSIFICATION_CODE_DESCRIPTION']\r\n",
    "    # Notice the [::-1] at the end. The reverses the coordinates because\r\n",
    "    # folium uses (lat, lon), rather than (x, y)\r\n",
    "    classifications[address_classification].append(feature[\"geometry\"][\"coordinates\"][::-1])"
   ],
   "outputs": [],
   "metadata": {}
  },
  {
   "cell_type": "markdown",
   "source": [
    "### Define the Map"
   ],
   "metadata": {}
  },
  {
   "cell_type": "code",
   "execution_count": null,
   "source": [
    "from folium.plugins import HeatMap\r\n",
    "\r\n",
    "# Define the map\r\n",
    "m = folium.Map(location=[50.924, -1.391],\r\n",
    "               zoom_start=16,\r\n",
    "               tiles=None)\r\n",
    "# Add the basemap tiles \r\n",
    "folium.TileLayer(tiles=TILES,\r\n",
    "                 attr=ATTR,\r\n",
    "                 max_zoom=16,\r\n",
    "                 name='OS Maps Light',\r\n",
    "                 control=False).add_to(m)\r\n",
    "\r\n",
    "# Add the extent\r\n",
    "extent_geojson = mapping(extent.polygon)\r\n",
    "extent_layer = folium.GeoJson(extent_geojson,\r\n",
    "                              style_function=lambda x: bbox_styling,\r\n",
    "                              name=f\"{portswood} Ward Boundary\", control=False).add_to(m)"
   ],
   "outputs": [],
   "metadata": {}
  },
  {
   "cell_type": "markdown",
   "source": [
    "### Plot Heatmaps by Address Classification\n",
    "Adding each classification seperately let the users select which classification they are interested in from the layers panel that appears in the top right of the map."
   ],
   "metadata": {}
  },
  {
   "cell_type": "code",
   "execution_count": null,
   "source": [
    "# Loop through the classifications, adding each one as a layer\r\n",
    "for classification, points in classifications.items():\r\n",
    "    HeatMap(points, radius=20, blur=25, name=classification, overlay=False).add_to(m)\r\n",
    "\r\n",
    "# Add the ability to toggle between the different classification heatmaps.\r\n",
    "folium.LayerControl().add_to(m)\r\n",
    "m"
   ],
   "outputs": [],
   "metadata": {}
  }
 ],
 "metadata": {
  "kernelspec": {
   "display_name": "Python 3",
   "language": "python",
   "name": "python3"
  },
  "language_info": {
   "codemirror_mode": {
    "name": "ipython",
    "version": 3
   },
   "file_extension": ".py",
   "mimetype": "text/x-python",
   "name": "python",
   "nbconvert_exporter": "python",
   "pygments_lexer": "ipython3",
   "version": "3.8.5"
  }
 },
 "nbformat": 4,
 "nbformat_minor": 5
}