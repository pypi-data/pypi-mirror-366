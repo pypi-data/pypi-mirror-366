{
 "cells": [
  {
   "cell_type": "markdown",
   "metadata": {},
   "source": [
    "# Sobol Sensitivity Analysis for SWAT+ Model Parameters\n",
    "\n",
    "This notebook demonstrates how to perform a Sobol sensitivity analysis on SWAT+ model parameters using the `pySWATPlus` package and the `SALib` library. The analysis focuses on two parameters, `epco` and `esco`, in the `hydrology.hyd` file.\n",
    "\n",
    "---\n",
    "\n",
    "## 1. Import Required Libraries\n",
    "\n",
    "First, we import the necessary libraries, including `pySWATPlus` for SWAT+ model interaction, `SALib` for sensitivity analysis, and `concurrent.futures` for parallel execution."
   ]
  },
  {
   "cell_type": "code",
   "execution_count": 19,
   "metadata": {},
   "outputs": [],
   "source": [
    "from pySWATPlus import TxtinoutReader\n",
    "import random\n",
    "from SALib.sample import saltelli\n",
    "from SALib.analyze import sobol\n",
    "import numpy as np\n",
    "import random\n",
    "import tempfile\n",
    "import concurrent.futures"
   ]
  },
  {
   "cell_type": "markdown",
   "metadata": {},
   "source": [
    "---\n",
    "\n",
    "## 2. Initialize the TxtinoutReader\n",
    "\n",
    "We initialize the ```TxtinoutReader``` to interact with the SWAT+ project files."
   ]
  },
  {
   "cell_type": "code",
   "execution_count": 20,
   "metadata": {},
   "outputs": [],
   "source": [
    "txtinout_reader = TxtinoutReader('/mnt/c/Users/joans/OneDrive/Escriptori/icra/muga_windows')"
   ]
  },
  {
   "cell_type": "markdown",
   "metadata": {},
   "source": [
    "---\n",
    "\n",
    "## 3. Configure the SWAT+ Simulation\n",
    "\n",
    "We configure the SWAT+ simulation by setting the simulation period, warmup period, and enabling the output of the ```channel_sd``` variable."
   ]
  },
  {
   "cell_type": "code",
   "execution_count": null,
   "metadata": {},
   "outputs": [],
   "source": [
    "txtinout_reader.set_begin_and_end_year(2010, 2012)  # Set simulation period\n",
    "txtinout_reader.set_warmup_year(1)  # Set warmup period\n",
    "txtinout_reader.enable_object_in_print_prt('channel_sd', True, False, False, False)  # Enable output for 'channel_sd'"
   ]
  },
  {
   "cell_type": "markdown",
   "metadata": {},
   "source": [
    "---\n",
    "\n",
    "## 4. Define the Model Evaluation Function\n",
    "\n",
    "We define a function to run the SWAT+ model with specific values for `epco` and `esco` and evaluate the model's output. This function will be used in the sensitivity analysis."
   ]
  },
  {
   "cell_type": "code",
   "execution_count": 22,
   "metadata": {},
   "outputs": [],
   "source": [
    "def run_and_evaluate_swat(epco: float = 0.5, esco: float = 0.5):\n",
    "    \"\"\"\n",
    "    Run the SWAT+ model with specific values for `epco` and `esco` and evaluate the output.\n",
    "\n",
    "    Parameters:\n",
    "        epco (float): Plant evaporation compensation factor.\n",
    "        esco (float): Soil evaporation compensation factor.\n",
    "\n",
    "    Returns:\n",
    "        float: A mock error metric (to be replaced with actual evaluation logic).\n",
    "    \"\"\"\n",
    "    print(f'Running SWAT with epco = {epco} and esco = {esco} \\\\n')\n",
    "    \n",
    "    params =  {\n",
    "        'hydrology.hyd': {\n",
    "            'has_units': False,\n",
    "            'epco': [\n",
    "                {'value': epco, 'change_type': 'absval'},\n",
    "            ],\n",
    "            'esco': [\n",
    "                {'value': esco, 'change_type': 'absval'},\n",
    "            ],\n",
    "        }\n",
    "    }\n",
    "\n",
    "    \n",
    "    with tempfile.TemporaryDirectory() as tmp_dir:\n",
    "        simulation = txtinout_reader.run_swat_in_other_dir(\n",
    "            target_dir=tmp_dir,\n",
    "            params=params\n",
    "        )\n",
    "\n",
    "        # Read the results\n",
    "        result_reader = TxtinoutReader(simulation)\n",
    "        channel_sdmorph = result_reader.register_file('channel_sdmorph_day.txt', has_units=True)\n",
    "        channel_sdmorph_df = channel_sdmorph.df\n",
    "\n",
    "        # Here, you should read your observations and calculate the objective function\n",
    "        # For now, we return a mock value\n",
    "        return random.random()\n",
    "\n",
    "# Wrapper function for parallel execution\n",
    "def evaluate(params):\n",
    "    \"\"\"\n",
    "    Wrapper function for parallel execution of `run_and_evaluate_swat`.\n",
    "\n",
    "    Parameters:\n",
    "        params (tuple): A tuple containing the values for `epco` and `esco`.\n",
    "\n",
    "    Returns:\n",
    "        float: The result of `run_and_evaluate_swat`.\n",
    "    \"\"\"\n",
    "    return run_and_evaluate_swat(*params)"
   ]
  },
  {
   "cell_type": "markdown",
   "metadata": {},
   "source": [
    "---\n",
    "\n",
    "## 5. Define the Sensitivity Analysis Problem\n",
    "\n",
    "We define the problem for the Sobol sensitivity analysis, specifying the parameters (`epco` and `esco`) and their bounds."
   ]
  },
  {
   "cell_type": "code",
   "execution_count": 23,
   "metadata": {},
   "outputs": [],
   "source": [
    "problem = {\n",
    "    'num_vars': 2,  # Number of parameters\n",
    "    'names': ['epco', 'esco'],  # Parameter names\n",
    "    'bounds': [[0, 1]] * 2  # Parameter bounds\n",
    "}"
   ]
  },
  {
   "cell_type": "markdown",
   "metadata": {},
   "source": [
    "---\n",
    "\n",
    "## 6. Generate Parameter Samples\n",
    "\n",
    "We generate parameter samples using the Saltelli sampling method from the `SALib` library."
   ]
  },
  {
   "cell_type": "code",
   "execution_count": 24,
   "metadata": {},
   "outputs": [
    {
     "name": "stderr",
     "output_type": "stream",
     "text": [
      "/tmp/ipykernel_145102/2689363164.py:1: DeprecationWarning: `salib.sample.saltelli` will be removed in SALib 1.5.1 Please use `salib.sample.sobol`\n",
      "  param_values = saltelli.sample(problem, 2)  # Generate parameter samples\n"
     ]
    }
   ],
   "source": [
    "param_values = saltelli.sample(problem, 2)  # Generate parameter samples"
   ]
  },
  {
   "cell_type": "markdown",
   "metadata": {},
   "source": [
    "---\n",
    "\n",
    "## 7. Perform Parallel Model Evaluations\n",
    "\n",
    "We use parallel processing to evaluate the SWAT+ model for each set of parameter values."
   ]
  },
  {
   "cell_type": "code",
   "execution_count": 25,
   "metadata": {},
   "outputs": [
    {
     "name": "stdout",
     "output_type": "stream",
     "text": [
      "Running SWAT with epco = 0.46875 and esco = 0.46875 \\nRunning SWAT with epco = 0.09375 and esco = 0.46875 \\nRunning SWAT with epco = 0.09375 and esco = 0.65625 \\nRunning SWAT with epco = 0.09375 and esco = 0.65625 \\nRunning SWAT with epco = 0.96875 and esco = 0.96875 \\nRunning SWAT with epco = 0.46875 and esco = 0.65625 \\nRunning SWAT with epco = 0.59375 and esco = 0.15625 \\nRunning SWAT with epco = 0.59375 and esco = 0.15625 \\nRunning SWAT with epco = 0.59375 and esco = 0.96875 \\nRunning SWAT with epco = 0.46875 and esco = 0.46875 \\nRunning SWAT with epco = 0.96875 and esco = 0.96875 \\n\n",
      "Running SWAT with epco = 0.96875 and esco = 0.15625 \\n\n",
      "\n",
      "\n",
      "\n",
      "\n",
      "\n",
      "\n",
      "\n",
      "\n",
      "\n",
      "\n"
     ]
    }
   ],
   "source": [
    "# Parallel execution of model evaluations\n",
    "with concurrent.futures.ProcessPoolExecutor() as executor:\n",
    "    y = np.array(list(executor.map(evaluate, param_values)))"
   ]
  },
  {
   "cell_type": "markdown",
   "metadata": {},
   "source": [
    "---\n",
    "\n",
    "## 8. Analyze the Results\n",
    "We perform the Sobol sensitivity analysis to calculate the sensitivity indices."
   ]
  },
  {
   "cell_type": "code",
   "execution_count": 26,
   "metadata": {},
   "outputs": [
    {
     "name": "stderr",
     "output_type": "stream",
     "text": [
      "/home/zephol/miniconda3/envs/pyswatplus/lib/python3.12/site-packages/SALib/util/__init__.py:274: FutureWarning: unique with argument that is not not a Series, Index, ExtensionArray, or np.ndarray is deprecated and will raise in a future version.\n",
      "  names = list(pd.unique(groups))\n"
     ]
    }
   ],
   "source": [
    "sobol_indices = sobol.analyze(problem, y)  # Perform Sobol analysis"
   ]
  },
  {
   "cell_type": "markdown",
   "metadata": {},
   "source": [
    "---\n",
    "\n",
    "## 9. Interpret the Results\n",
    "The `sobol_indices` object contains the first-order, second-order, and total-order sensitivity indices for `epco` and `esco`. These indices can be used to understand the relative importance of each parameter in influencing the model output."
   ]
  },
  {
   "cell_type": "code",
   "execution_count": 27,
   "metadata": {},
   "outputs": [
    {
     "name": "stdout",
     "output_type": "stream",
     "text": [
      "First-order Sobol indices: [-1.02532203 -0.97771465]\n",
      "Total-order Sobol indices: [0.62946208 0.43327959]\n"
     ]
    }
   ],
   "source": [
    "print(\"First-order Sobol indices:\", sobol_indices['S1'])\n",
    "print(\"Total-order Sobol indices:\", sobol_indices['ST'])"
   ]
  }
 ],
 "metadata": {
  "kernelspec": {
   "display_name": "pyswatplus",
   "language": "python",
   "name": "python3"
  },
  "language_info": {
   "codemirror_mode": {
    "name": "ipython",
    "version": 3
   },
   "file_extension": ".py",
   "mimetype": "text/x-python",
   "name": "python",
   "nbconvert_exporter": "python",
   "pygments_lexer": "ipython3",
   "version": "3.12.1"
  }
 },
 "nbformat": 4,
 "nbformat_minor": 2
}
