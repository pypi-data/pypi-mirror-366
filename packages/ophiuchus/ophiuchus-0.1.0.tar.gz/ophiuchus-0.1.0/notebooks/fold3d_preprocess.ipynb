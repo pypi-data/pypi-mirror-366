{
 "cells": [
  {
   "cell_type": "code",
   "execution_count": 2,
   "metadata": {},
   "outputs": [],
   "source": [
    "import h5py\n",
    "import numpy as np\n",
    "import os\n",
    "from moleculib.protein.datum import ProteinDatum\n",
    "from tqdm import tqdm\n",
    "import pickle\n",
    "from collections import defaultdict"
   ]
  },
  {
   "cell_type": "code",
   "execution_count": 3,
   "metadata": {},
   "outputs": [],
   "source": [
    "base_path = f'../../workspace/new_fold3d/'"
   ]
  },
  {
   "cell_type": "code",
   "execution_count": 5,
   "metadata": {},
   "outputs": [],
   "source": [
    "from biotite.structure import Atom, array\n",
    "\n",
    "def h5_to_moleculib(h5File):\n",
    "    atoms = []\n",
    "    for (chain_id, atom_name, pos, res_id, res_name) in zip(\n",
    "        h5File['atom_chain_names'],\n",
    "        h5File['atom_names'],\n",
    "        h5File['atom_pos'][0],\n",
    "        h5File['atom_residue_id'],\n",
    "        h5File['atom_residue_names'],\n",
    "    ):\n",
    "        element= atom_name.decode('UTF-8')[0]\n",
    "        atom = Atom(\n",
    "            pos, \n",
    "            chain_id=chain_id.decode('UTF-8'),\n",
    "            res_id=res_id, \n",
    "            res_name=res_name.decode('UTF-8'), \n",
    "            element=element, \n",
    "            hetero=False, \n",
    "            atom_name=atom_name.decode('UTF-8')\n",
    "        )\n",
    "        atoms.append(atom) \n",
    "    atom_array = array(atoms)  \n",
    "    header = dict(\n",
    "        idcode='aeho',\n",
    "        resolution=None\n",
    "    )\n",
    "    return ProteinDatum.from_atom_array(atom_array, header=header)\n"
   ]
  },
  {
   "cell_type": "code",
   "execution_count": 6,
   "metadata": {},
   "outputs": [],
   "source": [
    "SPLITS = [\"train\", \"valid\", \"test_fold\", \"test_family\", \"test_superfamily\"]\n",
    "label_files = [os.path.join(base_path, '%s.txt' % split) for split in SPLITS]\n"
   ]
  },
  {
   "cell_type": "code",
   "execution_count": 7,
   "metadata": {},
   "outputs": [],
   "source": [
    "classmap = os.path.join(base_path, 'class_map.txt')\n",
    "with open(classmap, \"r\") as fin:\n",
    "    lines = [line.strip() for line in fin.readlines()]\n",
    "    class_map = dict([line.split('\\t') for line in lines])\n",
    "label_list = {}\n",
    "for fname in label_files:\n",
    "    label_file = open(fname, 'r')\n",
    "    for line in label_file.readlines():\n",
    "        line = line.strip().split('\\t')\n",
    "        name, label = line[0], line[-1]\n",
    "        label_list[name] = int(class_map[label])"
   ]
  },
  {
   "cell_type": "code",
   "execution_count": 9,
   "metadata": {},
   "outputs": [],
   "source": [
    "from tqdm.contrib.concurrent import process_map \n",
    "\n",
    "def process_file(fname):\n",
    "    h5File = h5py.File(fname, 'r')\n",
    "    datum = h5_to_moleculib(h5File)\n",
    "    id = fname[fname.rfind('/') + 1:fname.rfind('.')]\n",
    "    label = label_list[id]\n",
    "    datum.idcode = id\n",
    "    datum.fold_label = label\n",
    "    return datum"
   ]
  },
  {
   "cell_type": "markdown",
   "metadata": {},
   "source": [
    "#### Prepare Dataset"
   ]
  },
  {
   "cell_type": "code",
   "execution_count": 17,
   "metadata": {},
   "outputs": [],
   "source": [
    "data = defaultdict(list)"
   ]
  },
  {
   "cell_type": "code",
   "execution_count": 18,
   "metadata": {},
   "outputs": [
    {
     "name": "stderr",
     "output_type": "stream",
     "text": [
      "/tmp/ipykernel_9524/335386475.py:5: TqdmWarning: Iterable length 12312 > 1000 but `chunksize` is not set. This may seriously degrade multiprocess performance. Set `chunksize=1` or more.\n",
      "  data[split] = process_map(process_file, files, max_workers=8)\n"
     ]
    },
    {
     "data": {
      "application/vnd.jupyter.widget-view+json": {
       "model_id": "d0f6f40ac4674cf089b4d9121aa3e874",
       "version_major": 2,
       "version_minor": 0
      },
      "text/plain": [
       "  0%|          | 0/12312 [00:00<?, ?it/s]"
      ]
     },
     "metadata": {},
     "output_type": "display_data"
    },
    {
     "data": {
      "application/vnd.jupyter.widget-view+json": {
       "model_id": "38f026043a45446dbcc36da2da1a2d26",
       "version_major": 2,
       "version_minor": 0
      },
      "text/plain": [
       "  0%|          | 0/736 [00:00<?, ?it/s]"
      ]
     },
     "metadata": {},
     "output_type": "display_data"
    },
    {
     "data": {
      "application/vnd.jupyter.widget-view+json": {
       "model_id": "5b0e843ca38741e19b87329725ee51b8",
       "version_major": 2,
       "version_minor": 0
      },
      "text/plain": [
       "  0%|          | 0/718 [00:00<?, ?it/s]"
      ]
     },
     "metadata": {},
     "output_type": "display_data"
    },
    {
     "name": "stderr",
     "output_type": "stream",
     "text": [
      "/tmp/ipykernel_9524/335386475.py:5: TqdmWarning: Iterable length 1272 > 1000 but `chunksize` is not set. This may seriously degrade multiprocess performance. Set `chunksize=1` or more.\n",
      "  data[split] = process_map(process_file, files, max_workers=8)\n"
     ]
    },
    {
     "data": {
      "application/vnd.jupyter.widget-view+json": {
       "model_id": "336e70163ab34b31b4719281973f922f",
       "version_major": 2,
       "version_minor": 0
      },
      "text/plain": [
       "  0%|          | 0/1272 [00:00<?, ?it/s]"
      ]
     },
     "metadata": {},
     "output_type": "display_data"
    },
    {
     "name": "stderr",
     "output_type": "stream",
     "text": [
      "/tmp/ipykernel_9524/335386475.py:5: TqdmWarning: Iterable length 1254 > 1000 but `chunksize` is not set. This may seriously degrade multiprocess performance. Set `chunksize=1` or more.\n",
      "  data[split] = process_map(process_file, files, max_workers=8)\n"
     ]
    },
    {
     "data": {
      "application/vnd.jupyter.widget-view+json": {
       "model_id": "51fd73c160a547af982f43e8e0477705",
       "version_major": 2,
       "version_minor": 0
      },
      "text/plain": [
       "  0%|          | 0/1254 [00:00<?, ?it/s]"
      ]
     },
     "metadata": {},
     "output_type": "display_data"
    }
   ],
   "source": [
    "for split in SPLITS:\n",
    "    split_path = os.path.join(base_path, split)\n",
    "    files = os.listdir(split_path)\n",
    "    files = [os.path.join(split_path, fname) for fname in files]    \n",
    "    data[split] = process_map(process_file, files, max_workers=8)\n"
   ]
  },
  {
   "cell_type": "code",
   "execution_count": 19,
   "metadata": {},
   "outputs": [
    {
     "name": "stdout",
     "output_type": "stream",
     "text": [
      "Saving data to fold3d.pyd\n"
     ]
    }
   ],
   "source": [
    "\n",
    "with open('fold3d.pyd', 'wb') as fout:\n",
    "    print('Saving data to fold3d.pyd')\n",
    "    pickle.dump(data, fout)"
   ]
  },
  {
   "cell_type": "markdown",
   "metadata": {},
   "source": [
    "#### Load Dataset"
   ]
  },
  {
   "cell_type": "code",
   "execution_count": null,
   "metadata": {},
   "outputs": [],
   "source": [
    "with open('fold3d.pyd', 'rb') as fin:\n",
    "    data = pickle.load(fin)"
   ]
  },
  {
   "cell_type": "code",
   "execution_count": 119,
   "metadata": {},
   "outputs": [],
   "source": [
    "for datum in data['train'][:5]:\n",
    "    viz_datum_grid([datum], window_size=(300, 300)).show()"
   ]
  },
  {
   "cell_type": "code",
   "execution_count": null,
   "metadata": {},
   "outputs": [],
   "source": []
  },
  {
   "cell_type": "code",
   "execution_count": null,
   "metadata": {},
   "outputs": [],
   "source": []
  },
  {
   "cell_type": "code",
   "execution_count": null,
   "metadata": {},
   "outputs": [],
   "source": []
  },
  {
   "cell_type": "code",
   "execution_count": null,
   "metadata": {},
   "outputs": [],
   "source": [
    "for k, v in h5File.items():\n",
    "    print(k, v.shape)"
   ]
  },
  {
   "cell_type": "code",
   "execution_count": null,
   "metadata": {},
   "outputs": [],
   "source": [
    "from biotite.structure import AtomArray, Atom, array"
   ]
  },
  {
   "cell_type": "code",
   "execution_count": null,
   "metadata": {},
   "outputs": [],
   "source": []
  },
  {
   "cell_type": "code",
   "execution_count": null,
   "metadata": {},
   "outputs": [],
   "source": [
    "from tempfile import gettempdir\n",
    "from biotite.database import rcsb\n",
    "import biotite.structure.io.mmtf as mmtf"
   ]
  },
  {
   "cell_type": "code",
   "execution_count": null,
   "metadata": {},
   "outputs": [],
   "source": [
    "filepath = rcsb.fetch('1AKE', \"mmtf\", gettempdir())\n",
    "mmtf_file = mmtf.MMTFFile.read(filepath)\n",
    "atom_array = mmtf.get_structure(mmtf_file, model=1)"
   ]
  },
  {
   "cell_type": "code",
   "execution_count": null,
   "metadata": {},
   "outputs": [],
   "source": [
    "atom_array[0]"
   ]
  },
  {
   "cell_type": "code",
   "execution_count": null,
   "metadata": {},
   "outputs": [],
   "source": []
  },
  {
   "cell_type": "code",
   "execution_count": null,
   "metadata": {},
   "outputs": [],
   "source": []
  },
  {
   "cell_type": "code",
   "execution_count": null,
   "metadata": {},
   "outputs": [],
   "source": [
    "atom_array"
   ]
  },
  {
   "cell_type": "code",
   "execution_count": null,
   "metadata": {},
   "outputs": [],
   "source": [
    "\n",
    "    "
   ]
  },
  {
   "cell_type": "code",
   "execution_count": null,
   "metadata": {},
   "outputs": [],
   "source": []
  },
  {
   "cell_type": "code",
   "execution_count": null,
   "metadata": {},
   "outputs": [],
   "source": [
    "viz_datum([datum], window_size=(300, 300))"
   ]
  },
  {
   "cell_type": "code",
   "execution_count": null,
   "metadata": {},
   "outputs": [],
   "source": [
    "datum.atom_coord"
   ]
  },
  {
   "cell_type": "code",
   "execution_count": null,
   "metadata": {},
   "outputs": [],
   "source": []
  }
 ],
 "metadata": {
  "kernelspec": {
   "display_name": "protein-u-net",
   "language": "python",
   "name": "python3"
  },
  "language_info": {
   "codemirror_mode": {
    "name": "ipython",
    "version": 3
   },
   "file_extension": ".py",
   "mimetype": "text/x-python",
   "name": "python",
   "nbconvert_exporter": "python",
   "pygments_lexer": "ipython3",
   "version": "3.9.15"
  },
  "orig_nbformat": 4
 },
 "nbformat": 4,
 "nbformat_minor": 2
}
