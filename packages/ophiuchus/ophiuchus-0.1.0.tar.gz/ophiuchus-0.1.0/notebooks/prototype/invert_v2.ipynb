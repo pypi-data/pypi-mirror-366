{
 "cells": [
  {
   "cell_type": "code",
   "execution_count": 1,
   "metadata": {},
   "outputs": [],
   "source": [
    "import jax\n",
    "import jax.numpy as jnp\n",
    "import numpy as np\n",
    "import sympy as sp\n",
    "\n",
    "import e3nn_jax as e3nn\n",
    "\n",
    "np.set_printoptions(precision=3, suppress=True)"
   ]
  },
  {
   "cell_type": "code",
   "execution_count": 3,
   "metadata": {},
   "outputs": [
    {
     "data": {
      "text/latex": [
       "$\\displaystyle \\left[\\begin{matrix}0 & 0 & - \\frac{1}{2} & 0 & - \\frac{\\sqrt{3}}{2}\\end{matrix}\\right]$"
      ],
      "text/plain": [
       "[0, 0, -1/2, 0, -sqrt(3)/2]"
      ]
     },
     "metadata": {},
     "output_type": "display_data"
    },
    {
     "data": {
      "text/latex": [
       "$\\displaystyle \\left[\\begin{matrix}0 & 0 & 0\\\\0 & 0 & 0\\\\0 & 0 & 0\\\\0 & 0 & 0\\\\0 & 0 & 0\\end{matrix}\\right]$"
      ],
      "text/plain": [
       "Matrix([\n",
       "[0, 0, 0],\n",
       "[0, 0, 0],\n",
       "[0, 0, 0],\n",
       "[0, 0, 0],\n",
       "[0, 0, 0]])"
      ]
     },
     "metadata": {},
     "output_type": "display_data"
    }
   ],
   "source": [
    "# need last commit of e3nn_jax\n",
    "from e3nn_jax._src.spherical_harmonics.recursive import recursive_spherical_harmonics\n",
    "\n",
    "x = sp.symbols(\"x:3\")\n",
    "y = recursive_spherical_harmonics(2, {}, jnp.ones(3), \"component\", \"dense\")\n",
    "y = sp.simplify(y)\n",
    "display(y)\n",
    "display(sp.Matrix(y).jacobian(x))"
   ]
  },
  {
   "cell_type": "code",
   "execution_count": null,
   "metadata": {},
   "outputs": [],
   "source": []
  },
  {
   "cell_type": "code",
   "execution_count": 8,
   "metadata": {},
   "outputs": [],
   "source": [
    "def y2(x):\n",
    "    # explicit formula for e3nn.spherical_harmonics(2, x, False, \"component\")\n",
    "    x0, x1, x2 = x\n",
    "    a = jnp.sqrt(15)\n",
    "    b = jnp.sqrt(5)\n",
    "    return jnp.array(\n",
    "        [\n",
    "            a * x0 * x2,\n",
    "            a * x0 * x1,\n",
    "            b * (-(x0**2) + 2 * x1**2 - x2**2) / 2,\n",
    "            a * x1 * x2,\n",
    "            a * (-(x0**2) + x2**2) / 2,\n",
    "        ]\n",
    "    )\n",
    "\n",
    "\n",
    "def y2_jac(x):\n",
    "    # explicit formula for jax.jacfwd(y2)(x)\n",
    "    x0, x1, x2 = x\n",
    "    a = jnp.sqrt(15)\n",
    "    b = jnp.sqrt(5)\n",
    "    return jnp.array(\n",
    "        [\n",
    "            [a * x2, 0, a * x0],\n",
    "            [a * x1, a * x0, 0],\n",
    "            [-b * x0, 2 * b * x1, -b * x2],\n",
    "            [0, a * x2, a * x1],\n",
    "            [-a * x0, 0, a * x2],\n",
    "        ]\n",
    "    )\n",
    "\n",
    "\n",
    "def _y2_inverse(y):\n",
    "    # y2_inverse(y2(x)) == x or -x\n",
    "    # y2(y2_inverse(y)) == y\n",
    "    assert y.shape == (5,)\n",
    "    A = e3nn.generators(2) @ y\n",
    "    A = jnp.conj(A) @ A.T\n",
    "    val, vec = jnp.linalg.eigh(A)\n",
    "    x = vec.T[0]  # first is the smallest eigenvalue\n",
    "    safe_sqrt = lambda x: jnp.sqrt(jnp.maximum(x, 1e-7))\n",
    "    x = x * safe_sqrt(safe_sqrt(jnp.mean(y**2)))\n",
    "    return x, val[0]\n",
    "\n",
    "\n",
    "# Custom JVP rule for x_dot\n",
    "\n",
    "# !!! Fall back to JVP rule of jnp.linalg.eigh for val_dot !!!\n",
    "\n",
    "@jax.custom_jvp\n",
    "def y2_inverse(y):\n",
    "    return _y2_inverse(y)\n",
    "\n",
    "@y2_inverse.defjvp\n",
    "def y2_inverse_jvp(primals, tangents):\n",
    "    (y,) = primals\n",
    "    (y_dot,) = tangents\n",
    "    x, val = y2_inverse(y)\n",
    "    x_dot = jnp.linalg.lstsq(y2_jac(x), y_dot)[0]\n",
    "\n",
    "    _, (_, val_dot) = jax.jvp(_y2_inverse, (y,), (y_dot,))\n",
    "    return (x, val), (x_dot, val_dot)"
   ]
  },
  {
   "cell_type": "code",
   "execution_count": 9,
   "metadata": {},
   "outputs": [
    {
     "name": "stdout",
     "output_type": "stream",
     "text": [
      "x [ 0.655 -1.735  0.998]\n",
      "y2(x) [ 2.53  -4.399  5.138 -6.704  1.098]\n",
      "e3nn.sh(2, x, False, 'component') [ 2.53  -4.399  5.138 -6.704  1.098]\n",
      "y2_jac(x)\n",
      " [[ 3.864  0.     2.535]\n",
      " [-6.719  2.535  0.   ]\n",
      " [-1.464 -7.758 -2.231]\n",
      " [ 0.     3.864 -6.719]\n",
      " [-2.535  0.     3.864]]\n",
      "jax.jacfwd(y2)(x)\n",
      " [[ 3.864  0.     2.535]\n",
      " [-6.719  2.535  0.   ]\n",
      " [-1.464 -7.758 -2.231]\n",
      " [ 0.     3.864 -6.719]\n",
      " [-2.535  0.     3.864]]\n"
     ]
    }
   ],
   "source": [
    "x = np.random.randn(3)\n",
    "print(\"x\", x)\n",
    "\n",
    "print(\"y2(x)\", y2(x))\n",
    "print(\n",
    "    \"e3nn.sh(2, x, False, 'component')\",\n",
    "    e3nn.sh(2, x, False, \"component\"),\n",
    ")\n",
    "print(\"y2_jac(x)\\n\", y2_jac(x))\n",
    "print(\"jax.jacfwd(y2)(x)\\n\", jax.jacfwd(y2)(x))"
   ]
  },
  {
   "cell_type": "code",
   "execution_count": 10,
   "metadata": {},
   "outputs": [
    {
     "name": "stdout",
     "output_type": "stream",
     "text": [
      "x [-1.564  1.291 -1.147]\n",
      "x_dot [ 0. -0. -0.]\n"
     ]
    }
   ],
   "source": [
    "x = np.random.randn(3)\n",
    "print(\"x\", x)\n",
    "\n",
    "y_dot = np.random.randn(5)\n",
    "x_dot = jnp.linalg.lstsq(y2_jac(x), y_dot)[0]\n",
    "\n",
    "y_dot = y2_jac(x) @ x_dot - y_dot\n",
    "x_dot = jnp.linalg.lstsq(y2_jac(x), y_dot)[0]\n",
    "print(\"x_dot\", x_dot)"
   ]
  },
  {
   "cell_type": "code",
   "execution_count": 15,
   "metadata": {},
   "outputs": [
    {
     "name": "stdout",
     "output_type": "stream",
     "text": [
      "x [ 1.354 -0.047  0.979]\n",
      "x2 [ 1.354 -0.047  0.979]\n",
      "val 4.6748164e-06\n",
      "x2 [ 1.353 -0.046  0.98 ]\n",
      "val 0.00015707265\n"
     ]
    },
    {
     "data": {
      "text/plain": [
       "((Array([ 1.352, -0.043,  0.982], dtype=float32), Array(0.001, dtype=float32)),\n",
       " (Array([-0.287,  0.096,  0.04 ], dtype=float32), Array(0.278, dtype=float32)))"
      ]
     },
     "execution_count": 15,
     "metadata": {},
     "output_type": "execute_result"
    }
   ],
   "source": [
    "x = np.random.randn(3)\n",
    "print(\"x\", x)\n",
    "y = y2(x)\n",
    "\n",
    "x2, val = y2_inverse(y)\n",
    "print(\"x2\", x2)\n",
    "print(\"val\", val)\n",
    "\n",
    "x2, val = y2_inverse(y + 0.005)\n",
    "print(\"x2\", x2)\n",
    "print(\"val\", val)\n",
    "\n",
    "jax.jvp(y2_inverse, (y + 0.015,), (np.random.randn(5),))"
   ]
  },
  {
   "cell_type": "code",
   "execution_count": 18,
   "metadata": {},
   "outputs": [
    {
     "ename": "NotImplementedError",
     "evalue": "Transpose rule (for reverse-mode differentiation) for 'integer_pow' not implemented",
     "output_type": "error",
     "traceback": [
      "\u001b[0;31m---------------------------------------------------------------------------\u001b[0m",
      "\u001b[0;31mKeyError\u001b[0m                                  Traceback (most recent call last)",
      "File \u001b[0;32m~/mambaforge/envs/protein-u-net/lib/python3.9/site-packages/jax/_src/interpreters/ad.py:284\u001b[0m, in \u001b[0;36mget_primitive_transpose\u001b[0;34m(p)\u001b[0m\n\u001b[1;32m    283\u001b[0m \u001b[39mtry\u001b[39;00m:\n\u001b[0;32m--> 284\u001b[0m   \u001b[39mreturn\u001b[39;00m primitive_transposes[p]\n\u001b[1;32m    285\u001b[0m \u001b[39mexcept\u001b[39;00m \u001b[39mKeyError\u001b[39;00m \u001b[39mas\u001b[39;00m err:\n",
      "\u001b[0;31mKeyError\u001b[0m: integer_pow",
      "\nThe above exception was the direct cause of the following exception:\n",
      "\u001b[0;31mJaxStackTraceBeforeTransformation\u001b[0m         Traceback (most recent call last)",
      "File \u001b[0;32m~/mambaforge/envs/protein-u-net/lib/python3.9/runpy.py:197\u001b[0m, in \u001b[0;36m_run_module_as_main\u001b[0;34m(***failed resolving arguments***)\u001b[0m\n\u001b[1;32m    196\u001b[0m     sys\u001b[39m.\u001b[39margv[\u001b[39m0\u001b[39m] \u001b[39m=\u001b[39m mod_spec\u001b[39m.\u001b[39morigin\n\u001b[0;32m--> 197\u001b[0m \u001b[39mreturn\u001b[39;00m _run_code(code, main_globals, \u001b[39mNone\u001b[39;00m,\n\u001b[1;32m    198\u001b[0m                  \u001b[39m\"\u001b[39m\u001b[39m__main__\u001b[39m\u001b[39m\"\u001b[39m, mod_spec)\n",
      "File \u001b[0;32m~/mambaforge/envs/protein-u-net/lib/python3.9/runpy.py:87\u001b[0m, in \u001b[0;36m_run_code\u001b[0;34m(***failed resolving arguments***)\u001b[0m\n\u001b[1;32m     80\u001b[0m run_globals\u001b[39m.\u001b[39mupdate(\u001b[39m__name__\u001b[39m \u001b[39m=\u001b[39m mod_name,\n\u001b[1;32m     81\u001b[0m                    \u001b[39m__file__\u001b[39m \u001b[39m=\u001b[39m fname,\n\u001b[1;32m     82\u001b[0m                    __cached__ \u001b[39m=\u001b[39m cached,\n\u001b[0;32m   (...)\u001b[0m\n\u001b[1;32m     85\u001b[0m                    __package__ \u001b[39m=\u001b[39m pkg_name,\n\u001b[1;32m     86\u001b[0m                    __spec__ \u001b[39m=\u001b[39m mod_spec)\n\u001b[0;32m---> 87\u001b[0m exec(code, run_globals)\n\u001b[1;32m     88\u001b[0m \u001b[39mreturn\u001b[39;00m run_globals\n",
      "File \u001b[0;32m~/mambaforge/envs/protein-u-net/lib/python3.9/site-packages/ipykernel_launcher.py:17\u001b[0m\n\u001b[1;32m     15\u001b[0m \u001b[39mfrom\u001b[39;00m \u001b[39mipykernel\u001b[39;00m \u001b[39mimport\u001b[39;00m kernelapp \u001b[39mas\u001b[39;00m app\n\u001b[0;32m---> 17\u001b[0m app\u001b[39m.\u001b[39mlaunch_new_instance()\n",
      "File \u001b[0;32m~/mambaforge/envs/protein-u-net/lib/python3.9/site-packages/traitlets/config/application.py:985\u001b[0m, in \u001b[0;36mApplication.launch_instance\u001b[0;34m(***failed resolving arguments***)\u001b[0m\n\u001b[1;32m    984\u001b[0m app\u001b[39m.\u001b[39minitialize(argv)\n\u001b[0;32m--> 985\u001b[0m app\u001b[39m.\u001b[39mstart()\n",
      "File \u001b[0;32m~/mambaforge/envs/protein-u-net/lib/python3.9/site-packages/ipykernel/kernelapp.py:712\u001b[0m, in \u001b[0;36mIPKernelApp.start\u001b[0;34m(***failed resolving arguments***)\u001b[0m\n\u001b[1;32m    711\u001b[0m \u001b[39mtry\u001b[39;00m:\n\u001b[0;32m--> 712\u001b[0m     \u001b[39mself\u001b[39m\u001b[39m.\u001b[39mio_loop\u001b[39m.\u001b[39mstart()\n\u001b[1;32m    713\u001b[0m \u001b[39mexcept\u001b[39;00m \u001b[39mKeyboardInterrupt\u001b[39;00m:\n",
      "File \u001b[0;32m~/mambaforge/envs/protein-u-net/lib/python3.9/site-packages/tornado/platform/asyncio.py:215\u001b[0m, in \u001b[0;36mBaseAsyncIOLoop.start\u001b[0;34m(***failed resolving arguments***)\u001b[0m\n\u001b[1;32m    214\u001b[0m     asyncio\u001b[39m.\u001b[39mset_event_loop(\u001b[39mself\u001b[39m\u001b[39m.\u001b[39masyncio_loop)\n\u001b[0;32m--> 215\u001b[0m     \u001b[39mself\u001b[39m\u001b[39m.\u001b[39masyncio_loop\u001b[39m.\u001b[39mrun_forever()\n\u001b[1;32m    216\u001b[0m \u001b[39mfinally\u001b[39;00m:\n",
      "File \u001b[0;32m~/mambaforge/envs/protein-u-net/lib/python3.9/asyncio/base_events.py:601\u001b[0m, in \u001b[0;36mBaseEventLoop.run_forever\u001b[0;34m(***failed resolving arguments***)\u001b[0m\n\u001b[1;32m    600\u001b[0m \u001b[39mwhile\u001b[39;00m \u001b[39mTrue\u001b[39;00m:\n\u001b[0;32m--> 601\u001b[0m     \u001b[39mself\u001b[39m\u001b[39m.\u001b[39m_run_once()\n\u001b[1;32m    602\u001b[0m     \u001b[39mif\u001b[39;00m \u001b[39mself\u001b[39m\u001b[39m.\u001b[39m_stopping:\n",
      "File \u001b[0;32m~/mambaforge/envs/protein-u-net/lib/python3.9/asyncio/base_events.py:1905\u001b[0m, in \u001b[0;36mBaseEventLoop._run_once\u001b[0;34m(***failed resolving arguments***)\u001b[0m\n\u001b[1;32m   1904\u001b[0m     \u001b[39melse\u001b[39;00m:\n\u001b[0;32m-> 1905\u001b[0m         handle\u001b[39m.\u001b[39m_run()\n\u001b[1;32m   1906\u001b[0m handle \u001b[39m=\u001b[39m \u001b[39mNone\u001b[39;00m\n",
      "File \u001b[0;32m~/mambaforge/envs/protein-u-net/lib/python3.9/asyncio/events.py:80\u001b[0m, in \u001b[0;36mHandle._run\u001b[0;34m(***failed resolving arguments***)\u001b[0m\n\u001b[1;32m     79\u001b[0m \u001b[39mtry\u001b[39;00m:\n\u001b[0;32m---> 80\u001b[0m     \u001b[39mself\u001b[39m\u001b[39m.\u001b[39m_context\u001b[39m.\u001b[39mrun(\u001b[39mself\u001b[39m\u001b[39m.\u001b[39m_callback, \u001b[39m*\u001b[39m\u001b[39mself\u001b[39m\u001b[39m.\u001b[39m_args)\n\u001b[1;32m     81\u001b[0m \u001b[39mexcept\u001b[39;00m (\u001b[39mSystemExit\u001b[39;00m, \u001b[39mKeyboardInterrupt\u001b[39;00m):\n",
      "File \u001b[0;32m~/mambaforge/envs/protein-u-net/lib/python3.9/site-packages/ipykernel/kernelbase.py:510\u001b[0m, in \u001b[0;36mKernel.dispatch_queue\u001b[0;34m(***failed resolving arguments***)\u001b[0m\n\u001b[1;32m    509\u001b[0m \u001b[39mtry\u001b[39;00m:\n\u001b[0;32m--> 510\u001b[0m     \u001b[39mawait\u001b[39;00m \u001b[39mself\u001b[39m\u001b[39m.\u001b[39mprocess_one()\n\u001b[1;32m    511\u001b[0m \u001b[39mexcept\u001b[39;00m \u001b[39mException\u001b[39;00m:\n",
      "File \u001b[0;32m~/mambaforge/envs/protein-u-net/lib/python3.9/site-packages/ipykernel/kernelbase.py:499\u001b[0m, in \u001b[0;36mKernel.process_one\u001b[0;34m(***failed resolving arguments***)\u001b[0m\n\u001b[1;32m    498\u001b[0m         \u001b[39mreturn\u001b[39;00m \u001b[39mNone\u001b[39;00m\n\u001b[0;32m--> 499\u001b[0m \u001b[39mawait\u001b[39;00m dispatch(\u001b[39m*\u001b[39margs)\n",
      "File \u001b[0;32m~/mambaforge/envs/protein-u-net/lib/python3.9/site-packages/ipykernel/kernelbase.py:406\u001b[0m, in \u001b[0;36mKernel.dispatch_shell\u001b[0;34m(***failed resolving arguments***)\u001b[0m\n\u001b[1;32m    405\u001b[0m     \u001b[39mif\u001b[39;00m inspect\u001b[39m.\u001b[39misawaitable(result):\n\u001b[0;32m--> 406\u001b[0m         \u001b[39mawait\u001b[39;00m result\n\u001b[1;32m    407\u001b[0m \u001b[39mexcept\u001b[39;00m \u001b[39mException\u001b[39;00m:\n",
      "File \u001b[0;32m~/mambaforge/envs/protein-u-net/lib/python3.9/site-packages/ipykernel/kernelbase.py:730\u001b[0m, in \u001b[0;36mKernel.execute_request\u001b[0;34m(***failed resolving arguments***)\u001b[0m\n\u001b[1;32m    729\u001b[0m \u001b[39mif\u001b[39;00m inspect\u001b[39m.\u001b[39misawaitable(reply_content):\n\u001b[0;32m--> 730\u001b[0m     reply_content \u001b[39m=\u001b[39m \u001b[39mawait\u001b[39;00m reply_content\n\u001b[1;32m    732\u001b[0m \u001b[39m# Flush output before sending the reply.\u001b[39;00m\n",
      "File \u001b[0;32m~/mambaforge/envs/protein-u-net/lib/python3.9/site-packages/ipykernel/ipkernel.py:383\u001b[0m, in \u001b[0;36mIPythonKernel.do_execute\u001b[0;34m(***failed resolving arguments***)\u001b[0m\n\u001b[1;32m    382\u001b[0m \u001b[39mif\u001b[39;00m with_cell_id:\n\u001b[0;32m--> 383\u001b[0m     res \u001b[39m=\u001b[39m shell\u001b[39m.\u001b[39mrun_cell(\n\u001b[1;32m    384\u001b[0m         code,\n\u001b[1;32m    385\u001b[0m         store_history\u001b[39m=\u001b[39mstore_history,\n\u001b[1;32m    386\u001b[0m         silent\u001b[39m=\u001b[39msilent,\n\u001b[1;32m    387\u001b[0m         cell_id\u001b[39m=\u001b[39mcell_id,\n\u001b[1;32m    388\u001b[0m     )\n\u001b[1;32m    389\u001b[0m \u001b[39melse\u001b[39;00m:\n",
      "File \u001b[0;32m~/mambaforge/envs/protein-u-net/lib/python3.9/site-packages/ipykernel/zmqshell.py:528\u001b[0m, in \u001b[0;36mZMQInteractiveShell.run_cell\u001b[0;34m(***failed resolving arguments***)\u001b[0m\n\u001b[1;32m    527\u001b[0m \u001b[39mself\u001b[39m\u001b[39m.\u001b[39m_last_traceback \u001b[39m=\u001b[39m \u001b[39mNone\u001b[39;00m\n\u001b[0;32m--> 528\u001b[0m \u001b[39mreturn\u001b[39;00m \u001b[39msuper\u001b[39m()\u001b[39m.\u001b[39mrun_cell(\u001b[39m*\u001b[39margs, \u001b[39m*\u001b[39m\u001b[39m*\u001b[39mkwargs)\n",
      "File \u001b[0;32m~/mambaforge/envs/protein-u-net/lib/python3.9/site-packages/IPython/core/interactiveshell.py:2940\u001b[0m, in \u001b[0;36mInteractiveShell.run_cell\u001b[0;34m(***failed resolving arguments***)\u001b[0m\n\u001b[1;32m   2939\u001b[0m \u001b[39mtry\u001b[39;00m:\n\u001b[0;32m-> 2940\u001b[0m     result \u001b[39m=\u001b[39m \u001b[39mself\u001b[39m\u001b[39m.\u001b[39m_run_cell(\n\u001b[1;32m   2941\u001b[0m         raw_cell, store_history, silent, shell_futures, cell_id\n\u001b[1;32m   2942\u001b[0m     )\n\u001b[1;32m   2943\u001b[0m \u001b[39mfinally\u001b[39;00m:\n",
      "File \u001b[0;32m~/mambaforge/envs/protein-u-net/lib/python3.9/site-packages/IPython/core/interactiveshell.py:2995\u001b[0m, in \u001b[0;36mInteractiveShell._run_cell\u001b[0;34m(***failed resolving arguments***)\u001b[0m\n\u001b[1;32m   2994\u001b[0m \u001b[39mtry\u001b[39;00m:\n\u001b[0;32m-> 2995\u001b[0m     \u001b[39mreturn\u001b[39;00m runner(coro)\n\u001b[1;32m   2996\u001b[0m \u001b[39mexcept\u001b[39;00m \u001b[39mBaseException\u001b[39;00m \u001b[39mas\u001b[39;00m e:\n",
      "File \u001b[0;32m~/mambaforge/envs/protein-u-net/lib/python3.9/site-packages/IPython/core/async_helpers.py:129\u001b[0m, in \u001b[0;36m_pseudo_sync_runner\u001b[0;34m(***failed resolving arguments***)\u001b[0m\n\u001b[1;32m    128\u001b[0m \u001b[39mtry\u001b[39;00m:\n\u001b[0;32m--> 129\u001b[0m     coro\u001b[39m.\u001b[39msend(\u001b[39mNone\u001b[39;00m)\n\u001b[1;32m    130\u001b[0m \u001b[39mexcept\u001b[39;00m \u001b[39mStopIteration\u001b[39;00m \u001b[39mas\u001b[39;00m exc:\n",
      "File \u001b[0;32m~/mambaforge/envs/protein-u-net/lib/python3.9/site-packages/IPython/core/interactiveshell.py:3194\u001b[0m, in \u001b[0;36mInteractiveShell.run_cell_async\u001b[0;34m(***failed resolving arguments***)\u001b[0m\n\u001b[1;32m   3192\u001b[0m interactivity \u001b[39m=\u001b[39m \u001b[39m\"\u001b[39m\u001b[39mnone\u001b[39m\u001b[39m\"\u001b[39m \u001b[39mif\u001b[39;00m silent \u001b[39melse\u001b[39;00m \u001b[39mself\u001b[39m\u001b[39m.\u001b[39mast_node_interactivity\n\u001b[0;32m-> 3194\u001b[0m has_raised \u001b[39m=\u001b[39m \u001b[39mawait\u001b[39;00m \u001b[39mself\u001b[39m\u001b[39m.\u001b[39mrun_ast_nodes(code_ast\u001b[39m.\u001b[39mbody, cell_name,\n\u001b[1;32m   3195\u001b[0m        interactivity\u001b[39m=\u001b[39minteractivity, compiler\u001b[39m=\u001b[39mcompiler, result\u001b[39m=\u001b[39mresult)\n\u001b[1;32m   3197\u001b[0m \u001b[39mself\u001b[39m\u001b[39m.\u001b[39mlast_execution_succeeded \u001b[39m=\u001b[39m \u001b[39mnot\u001b[39;00m has_raised\n",
      "File \u001b[0;32m~/mambaforge/envs/protein-u-net/lib/python3.9/site-packages/IPython/core/interactiveshell.py:3373\u001b[0m, in \u001b[0;36mInteractiveShell.run_ast_nodes\u001b[0;34m(***failed resolving arguments***)\u001b[0m\n\u001b[1;32m   3372\u001b[0m     asy \u001b[39m=\u001b[39m compare(code)\n\u001b[0;32m-> 3373\u001b[0m \u001b[39mif\u001b[39;00m \u001b[39mawait\u001b[39;00m \u001b[39mself\u001b[39m\u001b[39m.\u001b[39mrun_code(code, result, async_\u001b[39m=\u001b[39masy):\n\u001b[1;32m   3374\u001b[0m     \u001b[39mreturn\u001b[39;00m \u001b[39mTrue\u001b[39;00m\n",
      "File \u001b[0;32m~/mambaforge/envs/protein-u-net/lib/python3.9/site-packages/IPython/core/interactiveshell.py:3433\u001b[0m, in \u001b[0;36mInteractiveShell.run_code\u001b[0;34m(***failed resolving arguments***)\u001b[0m\n\u001b[1;32m   3432\u001b[0m     \u001b[39melse\u001b[39;00m:\n\u001b[0;32m-> 3433\u001b[0m         exec(code_obj, \u001b[39mself\u001b[39m\u001b[39m.\u001b[39muser_global_ns, \u001b[39mself\u001b[39m\u001b[39m.\u001b[39muser_ns)\n\u001b[1;32m   3434\u001b[0m \u001b[39mfinally\u001b[39;00m:\n\u001b[1;32m   3435\u001b[0m     \u001b[39m# Reset our crash handler in place\u001b[39;00m\n",
      "\u001b[1;32m/u/allanc/ophiuchus/notebooks/invert_v2.ipynb Cell 8\u001b[0m line \u001b[0;36m5\n\u001b[1;32m      <a href='vscode-notebook-cell://ssh-remote%2Bmatlaber14.media.mit.edu/u/allanc/ophiuchus/notebooks/invert_v2.ipynb#X10sdnNjb2RlLXJlbW90ZQ%3D%3D?line=3'>4</a>\u001b[0m y_dot \u001b[39m=\u001b[39m np\u001b[39m.\u001b[39mrandom\u001b[39m.\u001b[39mrandn(\u001b[39m5\u001b[39m)\n\u001b[0;32m----> <a href='vscode-notebook-cell://ssh-remote%2Bmatlaber14.media.mit.edu/u/allanc/ophiuchus/notebooks/invert_v2.ipynb#X10sdnNjb2RlLXJlbW90ZQ%3D%3D?line=4'>5</a>\u001b[0m x_dot \u001b[39m=\u001b[39m jnp\u001b[39m.\u001b[39mlinalg\u001b[39m.\u001b[39mlstsq(y2_jac(x), y_dot)[\u001b[39m0\u001b[39m]\n\u001b[1;32m      <a href='vscode-notebook-cell://ssh-remote%2Bmatlaber14.media.mit.edu/u/allanc/ophiuchus/notebooks/invert_v2.ipynb#X10sdnNjb2RlLXJlbW90ZQ%3D%3D?line=6'>7</a>\u001b[0m y_dot \u001b[39m=\u001b[39m y2_jac(x) \u001b[39m@\u001b[39m x_dot \u001b[39m-\u001b[39m y_dot\n",
      "File \u001b[0;32m~/mambaforge/envs/protein-u-net/lib/python3.9/site-packages/jax/_src/numpy/linalg.py:680\u001b[0m, in \u001b[0;36mlstsq\u001b[0;34m(***failed resolving arguments***)\u001b[0m\n\u001b[1;32m    679\u001b[0m   \u001b[39mreturn\u001b[39;00m _lstsq(a, b, rcond, numpy_resid\u001b[39m=\u001b[39m\u001b[39mTrue\u001b[39;00m)\n\u001b[0;32m--> 680\u001b[0m \u001b[39mreturn\u001b[39;00m _jit_lstsq(a, b, rcond)\n",
      "File \u001b[0;32m~/mambaforge/envs/protein-u-net/lib/python3.9/site-packages/jax/_src/numpy/linalg.py:655\u001b[0m, in \u001b[0;36m_lstsq\u001b[0;34m(***failed resolving arguments***)\u001b[0m\n\u001b[1;32m    654\u001b[0m   b_estimate \u001b[39m=\u001b[39m jnp\u001b[39m.\u001b[39mmatmul(a, x, precision\u001b[39m=\u001b[39mlax\u001b[39m.\u001b[39mPrecision\u001b[39m.\u001b[39mHIGHEST)\n\u001b[0;32m--> 655\u001b[0m   resid \u001b[39m=\u001b[39m norm(b \u001b[39m-\u001b[39m b_estimate, axis\u001b[39m=\u001b[39m\u001b[39m0\u001b[39m) \u001b[39m*\u001b[39m\u001b[39m*\u001b[39m \u001b[39m2\u001b[39m\n\u001b[1;32m    656\u001b[0m \u001b[39mif\u001b[39;00m b_orig_ndim \u001b[39m==\u001b[39m \u001b[39m1\u001b[39m:\n",
      "File \u001b[0;32m~/mambaforge/envs/protein-u-net/lib/python3.9/site-packages/jax/_src/numpy/lax_numpy.py:5112\u001b[0m, in \u001b[0;36m_defer_to_unrecognized_arg.<locals>.deferring_binary_op\u001b[0;34m(***failed resolving arguments***)\u001b[0m\n\u001b[1;32m   5111\u001b[0m \u001b[39mif\u001b[39;00m \u001b[39misinstance\u001b[39m(other, _accepted_binop_types):\n\u001b[0;32m-> 5112\u001b[0m   \u001b[39mreturn\u001b[39;00m binary_op(\u001b[39m*\u001b[39margs)\n\u001b[1;32m   5113\u001b[0m \u001b[39mif\u001b[39;00m \u001b[39misinstance\u001b[39m(other, _rejected_binop_types):\n",
      "File \u001b[0;32m~/mambaforge/envs/protein-u-net/lib/python3.9/site-packages/jax/_src/numpy/ufuncs.py:343\u001b[0m, in \u001b[0;36mpower\u001b[0;34m(***failed resolving arguments***)\u001b[0m\n\u001b[1;32m    342\u001b[0m     x1, \u001b[39m=\u001b[39m _promote_dtypes_numeric(x1)\n\u001b[0;32m--> 343\u001b[0m     \u001b[39mreturn\u001b[39;00m lax\u001b[39m.\u001b[39minteger_pow(x1, x2)\n\u001b[1;32m    344\u001b[0m \u001b[39mreturn\u001b[39;00m _power(x1, x2)\n",
      "\u001b[0;31mJaxStackTraceBeforeTransformation\u001b[0m: NotImplementedError: Transpose rule (for reverse-mode differentiation) for 'integer_pow' not implemented\n\nThe preceding stack trace is the source of the JAX operation that, once transformed by JAX, triggered the following exception.\n\n--------------------",
      "\nThe above exception was the direct cause of the following exception:\n",
      "\u001b[0;31mNotImplementedError\u001b[0m                       Traceback (most recent call last)",
      "\u001b[1;32m/u/allanc/ophiuchus/notebooks/invert_v2.ipynb Cell 8\u001b[0m line \u001b[0;36m1\n\u001b[0;32m----> <a href='vscode-notebook-cell://ssh-remote%2Bmatlaber14.media.mit.edu/u/allanc/ophiuchus/notebooks/invert_v2.ipynb#X10sdnNjb2RlLXJlbW90ZQ%3D%3D?line=0'>1</a>\u001b[0m jax\u001b[39m.\u001b[39;49mgrad(\u001b[39mlambda\u001b[39;49;00m y: y2_inverse(y)[\u001b[39m0\u001b[39;49m]\u001b[39m.\u001b[39;49msum(\u001b[39m-\u001b[39;49m\u001b[39m1\u001b[39;49m))(y \u001b[39m+\u001b[39;49m \u001b[39m0.015\u001b[39;49m)\n",
      "    \u001b[0;31m[... skipping hidden 18 frame]\u001b[0m\n",
      "File \u001b[0;32m~/mambaforge/envs/protein-u-net/lib/python3.9/site-packages/jax/_src/interpreters/ad.py:286\u001b[0m, in \u001b[0;36mget_primitive_transpose\u001b[0;34m(p)\u001b[0m\n\u001b[1;32m    284\u001b[0m   \u001b[39mreturn\u001b[39;00m primitive_transposes[p]\n\u001b[1;32m    285\u001b[0m \u001b[39mexcept\u001b[39;00m \u001b[39mKeyError\u001b[39;00m \u001b[39mas\u001b[39;00m err:\n\u001b[0;32m--> 286\u001b[0m   \u001b[39mraise\u001b[39;00m \u001b[39mNotImplementedError\u001b[39;00m(\n\u001b[1;32m    287\u001b[0m       \u001b[39m\"\u001b[39m\u001b[39mTranspose rule (for reverse-mode differentiation) for \u001b[39m\u001b[39m'\u001b[39m\u001b[39m{}\u001b[39;00m\u001b[39m'\u001b[39m\u001b[39m \u001b[39m\u001b[39m\"\u001b[39m\n\u001b[1;32m    288\u001b[0m       \u001b[39m\"\u001b[39m\u001b[39mnot implemented\u001b[39m\u001b[39m\"\u001b[39m\u001b[39m.\u001b[39mformat(p)) \u001b[39mfrom\u001b[39;00m \u001b[39merr\u001b[39;00m\n",
      "\u001b[0;31mNotImplementedError\u001b[0m: Transpose rule (for reverse-mode differentiation) for 'integer_pow' not implemented"
     ]
    }
   ],
   "source": [
    "jax.grad(lambda y: y2_inverse(y)[0].sum(-1))(y + 0.015)"
   ]
  },
  {
   "cell_type": "code",
   "execution_count": null,
   "metadata": {},
   "outputs": [],
   "source": []
  }
 ],
 "metadata": {
  "kernelspec": {
   "display_name": ".venv",
   "language": "python",
   "name": "python3"
  },
  "language_info": {
   "codemirror_mode": {
    "name": "ipython",
    "version": 3
   },
   "file_extension": ".py",
   "mimetype": "text/x-python",
   "name": "python",
   "nbconvert_exporter": "python",
   "pygments_lexer": "ipython3",
   "version": "3.9.15"
  }
 },
 "nbformat": 4,
 "nbformat_minor": 2
}
