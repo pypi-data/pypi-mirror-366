{
 "cells": [
  {
   "cell_type": "code",
   "execution_count": null,
   "metadata": {},
   "outputs": [],
   "source": [
    "%load_ext autoreload\n",
    "%autoreload 2\n",
    "import os\n",
    "os.environ[\"CUDA_DEVICE_ORDER\"] = \"PCI_BUS_ID\"  # see issue #152\n",
    "os.environ[\"CUDA_VISIBLE_DEVICES\"] = '3'\n",
    "os.environ[\"XLA_PYTHON_CLIENT_PREALLOCATE\"] = \"true\"  # add this"
   ]
  },
  {
   "cell_type": "code",
   "execution_count": null,
   "metadata": {},
   "outputs": [],
   "source": [
    "# os.environ[\"XLA_PYTHON_CLIENT_ALLOCATOR\"] = \"platform\"\n",
    "from kheiron.pipeline.registry import Registry\n",
    "from hydra_zen import instantiate\n",
    "import haiku as hk\n",
    "import jax\n",
    "import functools\n",
    "from tqdm import tqdm\n",
    "import jax.numpy as jnp\n",
    "\n",
    "import sys \n",
    "sys.path.append('../../')\n",
    "\n",
    "import py3Dmol\n",
    "\n",
    "def traj_to_pdb(traj, downsample=1, tail=20):\n",
    "    models = \"\"\n",
    "    traj = traj[::downsample] + [traj[-1]] * tail\n",
    "    for i, p in enumerate(tqdm(traj)):\n",
    "        models += f\"MODEL {i + 1}\\n\"\n",
    "        models += p.to_pdb_str()\n",
    "        models += \"\\nENDMDL\\n\"\n",
    "    return models\n",
    "\n",
    "def plot_py3dmol_traj(traj, window_size=(400, 400), duration=10000):\n",
    "    # interval = duration / len(traj)\n",
    "    v = py3Dmol.view(*window_size)\n",
    "    models = traj_to_pdb(traj)\n",
    "    v.addModelsAsFrames(models, 'pdb')\n",
    "    v.setStyle({})\n",
    "    v.addStyle({'atom': 'CA'}, {'sphere': {'radius': 0.5, 'color': 'darkgray'}})\n",
    "    v.addStyle({'chain': 'A'}, {'stick': {}})\n",
    "    v.setBackgroundColor(\"rgb(0,0,0)\", 0)\n",
    "    v.animate({'loop': 'forward'})\n",
    "    return v\n"
   ]
  },
  {
   "cell_type": "code",
   "execution_count": null,
   "metadata": {},
   "outputs": [],
   "source": [
    "registry_path = '/mas/projects/molecularmachines/experiments/generative/allanc3'\n",
    "registry = Registry('ophiuchus', registry_path)\n",
    "model_name = 'wise-darkness-1244'\n",
    "plat = registry.get_platform(model_name, read_only=True)"
   ]
  },
  {
   "cell_type": "code",
   "execution_count": null,
   "metadata": {},
   "outputs": [],
   "source": [
    "dataset = instantiate(plat.cfg['trainer']['dataset']) "
   ]
  },
  {
   "cell_type": "code",
   "execution_count": null,
   "metadata": {},
   "outputs": [],
   "source": [
    "x0 = dataset[0]\n",
    "x0.to_dict()"
   ]
  },
  {
   "cell_type": "code",
   "execution_count": null,
   "metadata": {},
   "outputs": [],
   "source": [
    "params = plat.get_params(-1)\n",
    "premodel = plat.instantiate_model()\n",
    "transform = hk.transform(lambda *a, **ka: premodel().sample(*a, **ka))\n",
    "\n",
    "from model.base.utils import inner_stack, inner_split\n",
    "\n",
    "def batch_dict(list_):\n",
    "    keys = list_[0].keys()\n",
    "    return {k: jnp.stack([d[k] for d in list_]) for k in keys if list_[0][k] is not None}\n",
    "\n",
    "\n",
    "def unbatch_dict(d):\n",
    "    keys = d.keys()\n",
    "    return [{k: d[k][i] for k in keys} for i in range(d[list(keys)[0]].shape[0])]\n",
    "\n",
    "\n",
    "@functools.partial(jax.jit, static_argnums=(2,))\n",
    "def _simulate(key, prot, interp_steps=100, eps=jnp.array([1.0,1.0])):\n",
    "    keys = jax.random.split(key, prot['atom_coord'].shape[0]) \n",
    "    return jax.vmap(lambda k, p: transform.apply(params, k, p, num_steps=1, interp_steps=interp_steps, eps=eps))(keys, prot)\n",
    "\n",
    "def rollout(prot, num_steps, interp_steps, eps):\n",
    "    traj = []\n",
    "    prot = batch_dict(prot)\n",
    "    for _ in tqdm(range(num_steps)):\n",
    "        prot, _ = _simulate(next(rng_seq), prot, interp_steps=interp_steps, eps=eps)\n",
    "        traj.append(unbatch_dict(prot))\n",
    "    prot = unbatch_dict(prot)\n",
    "    return prot, traj\n",
    "\n",
    "\n",
    "rng_seq = hk.PRNGSequence(42)\n",
    "x0 = dataset.splits['train'][0]\n",
    "# unbatch_dict(batch_dict([x0.to_dict()]))[0]\n",
    "# _ = rollout([x0.to_dict(), x0.to_dict()], num_steps=1, interp_steps=300, eps=jnp.array([1.0,1.0]))\n"
   ]
  },
  {
   "cell_type": "code",
   "execution_count": null,
   "metadata": {},
   "outputs": [],
   "source": [
    "from torch.utils.data import DataLoader\n",
    "\n",
    "BATCH_SIZE = 30\n",
    "dataloader = DataLoader(\n",
    "    dataset,\n",
    "    batch_size=BATCH_SIZE,\n",
    "    num_workers=10,\n",
    "    collate_fn=lambda x: [x.to_dict() for x in x]\n",
    ")\n",
    "x = next(iter(dataloader))"
   ]
  },
  {
   "cell_type": "code",
   "execution_count": 59,
   "metadata": {},
   "outputs": [
    {
     "name": "stderr",
     "output_type": "stream",
     "text": [
      "100%|██████████| 100/100 [01:23<00:00,  1.20it/s]\n",
      "100%|██████████| 100/100 [01:24<00:00,  1.19it/s]\n",
      "100%|██████████| 100/100 [01:23<00:00,  1.20it/s]\n",
      "100%|██████████| 100/100 [01:23<00:00,  1.20it/s]\n",
      "100%|██████████| 100/100 [01:23<00:00,  1.20it/s]\n",
      "100%|██████████| 100/100 [01:23<00:00,  1.19it/s]\n",
      "100%|██████████| 100/100 [01:23<00:00,  1.20it/s]\n",
      "100%|██████████| 100/100 [01:24<00:00,  1.19it/s]\n",
      "100%|██████████| 100/100 [01:23<00:00,  1.20it/s]\n",
      "100%|██████████| 100/100 [01:23<00:00,  1.20it/s]\n"
     ]
    }
   ],
   "source": [
    "samples = []\n",
    "for _ in range(10):\n",
    "    x = next(iter(dataloader))\n",
    "    _, ensemble = rollout(x, num_steps=100, interp_steps=400, eps=jnp.array([1.0, 1.0]))\n",
    "    traj = [s for traj in ensemble for s in traj]\n",
    "    samples.extend(traj)"
   ]
  },
  {
   "cell_type": "code",
   "execution_count": null,
   "metadata": {},
   "outputs": [],
   "source": [
    "plot_py3dmol_traj([ProteinDatum(idcode=None,sequence=None,resolution=None, **p[0]) for p in ensemble], window_size=(800, 800), duration=10000)"
   ]
  },
  {
   "cell_type": "code",
   "execution_count": null,
   "metadata": {},
   "outputs": [],
   "source": []
  },
  {
   "cell_type": "code",
   "execution_count": null,
   "metadata": {},
   "outputs": [],
   "source": [
    "import pickle\n",
    "with open('cache_traj.pkl', 'wb') as f:\n",
    "    pickle.dump(traj, f)"
   ]
  },
  {
   "cell_type": "code",
   "execution_count": null,
   "metadata": {},
   "outputs": [],
   "source": [
    "# plot_py3dmol_traj([ProteinDatum(idcode=None, resolution=None, sequence=None, **d) for d in [E[0] for E in traj]], window_size=(400, 400))\n"
   ]
  },
  {
   "cell_type": "code",
   "execution_count": null,
   "metadata": {},
   "outputs": [],
   "source": [
    "# x1, traj = rollout(x0, num_steps=100, interp_steps=500, eps=jnp.array([1.0, 3.0]))"
   ]
  },
  {
   "cell_type": "code",
   "execution_count": null,
   "metadata": {},
   "outputs": [],
   "source": [
    "plot_py3dmol_traj(traj, window_size=(400, 400))\n"
   ]
  },
  {
   "cell_type": "code",
   "execution_count": null,
   "metadata": {},
   "outputs": [],
   "source": [
    "import mdtraj\n",
    "from pathlib import Path\n",
    "# get the xtc path and get its directory\n",
    "reference = Path(dataset.files[0])\n",
    "reference_dir = reference.parent\n",
    "reference = mdtraj.load(reference_dir / 'filtered.pdb')\n",
    "reference_top = reference.top.subset(reference.top.select('protein'))\n",
    "\n",
    "\n",
    "reference_traj = mdtraj.Trajectory(\n",
    "    xyz=dataset.coords, topology=reference_top\n",
    ")\n",
    "\n",
    "# # ref_train, ref_val, ref_test = np.split(reference_ca_coords, [int(0.7 * len(reference_ca_coords)), int(0.9 * len(reference_ca_coords))])\n"
   ]
  },
  {
   "cell_type": "code",
   "execution_count": 67,
   "metadata": {},
   "outputs": [],
   "source": [
    "import mdtraj as md\n",
    "from tempfile import gettempdir\n",
    "from moleculib.protein.datum import ProteinDatum\n",
    "\n",
    "import os\n",
    "import numpy as np\n",
    "\n",
    "def protein_datum_to_md_traj(traj, downsample=1):\n",
    "    ref = traj[0]\n",
    "    with open(f'{gettempdir()}/tmp.pdb', 'w') as f:\n",
    "        f.write(ProteinDatum(idcode=None, resolution=None, sequence=None, **ref).to_pdb_str())\n",
    "    template = md.load(f'{gettempdir()}/tmp.pdb')\n",
    "    os.remove(f'{gettempdir()}/tmp.pdb')\n",
    "    all_atom_coord = [step['atom_coord'][step['atom_mask']] for step in traj]\n",
    "    md_traj = md.Trajectory(\n",
    "        xyz=np.stack(all_atom_coord),\n",
    "        topology=template.topology,\n",
    "    )\n",
    "    return md_traj\n",
    "\n",
    "sampled_traj = protein_datum_to_md_traj(samples)\n"
   ]
  },
  {
   "cell_type": "code",
   "execution_count": null,
   "metadata": {},
   "outputs": [],
   "source": []
  },
  {
   "cell_type": "code",
   "execution_count": null,
   "metadata": {},
   "outputs": [],
   "source": []
  },
  {
   "cell_type": "code",
   "execution_count": null,
   "metadata": {},
   "outputs": [],
   "source": []
  },
  {
   "cell_type": "markdown",
   "metadata": {},
   "source": [
    "### Ramachandran"
   ]
  },
  {
   "cell_type": "code",
   "execution_count": null,
   "metadata": {},
   "outputs": [],
   "source": [
    "import mdtraj as md\n",
    "import numpy as np\n",
    "import matplotlib.pyplot as plt\n",
    "\n",
    "\n",
    "def compute_phi_and_psi_angles(traj: md.Trajectory) -> float:\n",
    "    # filter_backbone \n",
    "    # traj = traj.atom_slice(traj.top.select('backbone'))\n",
    "    _, phi_angles = md.compute_phi(traj)\n",
    "    _, psi_angles = md.compute_psi(traj)\n",
    "\n",
    "    phi_angles = np.rad2deg(phi_angles).flatten() # dropping the first one?\n",
    "    psi_angles = np.rad2deg(psi_angles).flatten()\n",
    "    return phi_angles, psi_angles\n",
    "\n",
    "def compute_KL_divergence(hist1: np.ndarray, hist2: np.ndarray) -> float:\n",
    "    \"\"\"Compute the Kullback-Leibler divergence between two histograms.\"\"\"\n",
    "    hist2 = np.where(hist2 == 0, 1, hist2)\n",
    "    div = hist1 * np.nan_to_num(np.log(hist1 / hist2))\n",
    "    div = np.where(hist1 == 0, 0, div)\n",
    "    return np.sum(div)\n",
    "\n",
    "hists = []\n",
    "\n",
    "import matplotlib as mpl\n",
    "\n",
    "for label, traj_ in zip(('Reference', 'Model'), (reference_traj, sampled_traj)):\n",
    "# for label, traj_ in zip(('Model',), (reference_traj,)):    \n",
    "    phi_angles, psi_angles = compute_phi_and_psi_angles(traj_)\n",
    "    histo = np.histogram2d(\n",
    "        -psi_angles, phi_angles, bins=np.linspace(-180, 180, 60), density=True\n",
    "    )[0]\n",
    "\n",
    "    plt.imshow(histo)\n",
    "    plt.gca().set_aspect('equal', adjustable='box')\n",
    "    plt.xlabel('$\\phi$', fontsize=20)\n",
    "    plt.ylabel('$\\psi$', fontsize=20)\n",
    "\n",
    "    plt.title(label)\n",
    "    plt.show()\n",
    "    hists.append(histo)\n",
    "\n",
    "\n",
    "# js = compute_JS_divergence(*hists)\n",
    "# print(f\"JS divergence: {js:.5f}\")\n",
    "\n",
    "# kl = compute_KL_divergence(*hists)\n",
    "# print(f\"KL divergence: {kl:.5f}\")\n",
    "\n"
   ]
  },
  {
   "cell_type": "markdown",
   "metadata": {},
   "source": [
    "### PWD"
   ]
  },
  {
   "cell_type": "code",
   "execution_count": null,
   "metadata": {},
   "outputs": [],
   "source": [
    "from einops import rearrange\n",
    "\n",
    "def compute_pairwise_distances(traj):\n",
    "    ca_coord = traj.xyz[:, traj.top.select('name CA')]\n",
    "    pairwise_distances = np.linalg.norm(rearrange(ca_coord, 'b n d -> b n () d') - rearrange(ca_coord, 'b m d -> b 1 m d'), axis=-1)    \n",
    "    return pairwise_distances\n",
    "\n",
    "def compute_distogram(distance_maps, k=3, nbins=60):\n",
    "    trig = np.triu_indices(distance_maps.shape[-1], k=3)\n",
    "    distances = distance_maps[..., trig[0], trig[1]].T\n",
    "    binned = np.apply_along_axis(lambda a: np.histogram(a, bins=nbins, density=True)[0], 1, distances)\n",
    "    return binned\n",
    "\n",
    "\n",
    "pwd_hists = []\n",
    "\n",
    "for label, traj_ in zip(('Reference', 'Model'), (reference_traj, sampled_traj)):\n",
    "    distance_map = compute_pairwise_distances(traj_)\n",
    "    if label == 'Reference': distogram = compute_distogram(distance_map[::1000])\n",
    "    else: distogram = compute_distogram(distance_map)\n",
    "    # show as upper triangular matrix:\n",
    "    seq_len = distance_map.shape[1]\n",
    "    distogram_full = np.zeros((seq_len, seq_len))\n",
    "    distogram_full[np.triu_indices(seq_len, k=3)] = distogram.mean(-1)\n",
    "    distogram_full += distogram_full.T\n",
    "    plt.imshow(distogram_full)\n",
    "    plt.title(label)\n",
    "    plt.show()\n",
    "    \n",
    "    pwd_hists.append(distogram_full)\n",
    "\n",
    "from scipy.spatial.distance import jensenshannon\n",
    "\n",
    "ref_pwd, model_pwd = pwd_hists\n",
    "js = jensenshannon(ref_pwd[np.triu_indices(ref_pwd.shape[0], k=3)], model_pwd[np.triu_indices(model_pwd.shape[0], k=3)])\n",
    "print(js)"
   ]
  },
  {
   "cell_type": "code",
   "execution_count": null,
   "metadata": {},
   "outputs": [],
   "source": []
  },
  {
   "cell_type": "code",
   "execution_count": null,
   "metadata": {},
   "outputs": [],
   "source": []
  },
  {
   "cell_type": "code",
   "execution_count": null,
   "metadata": {},
   "outputs": [],
   "source": []
  },
  {
   "cell_type": "markdown",
   "metadata": {},
   "source": [
    "### TICA Coordinates"
   ]
  },
  {
   "cell_type": "code",
   "execution_count": null,
   "metadata": {},
   "outputs": [],
   "source": [
    "from einops import rearrange\n",
    "\n",
    "from pyemma.coordinates.transform import TICA\n",
    "import numpy as np\n",
    "\n",
    "\n",
    "def compute_tica_features(traj):\n",
    "    coord = traj.xyz[:, traj.top.select('name CA')]\n",
    "    pairwise_distances = np.linalg.norm(rearrange(coord, 'b n d -> b n () d') - rearrange(coord, 'b m d -> b 1 m d'), axis=-1)\n",
    "    return pairwise_distances.reshape(-1, pairwise_distances.shape[-1] ** 2)\n",
    "\n",
    "\n",
    "# tica = TICA(lag=100, dim=2).fit(compute_tica_features(reference_traj))\n",
    "reference_tics = tica.get_output()[0]\n",
    "train_tics, val_tics, test_tics = np.split(reference_tics, [int(0.7 * len(reference_tics)), int(0.9 * len(reference_tics))])"
   ]
  },
  {
   "cell_type": "code",
   "execution_count": null,
   "metadata": {},
   "outputs": [],
   "source": [
    "with open('cache_tica.pkl', 'wb') as f:\n",
    "    pickle.dump(tica, f)"
   ]
  },
  {
   "cell_type": "code",
   "execution_count": 68,
   "metadata": {},
   "outputs": [],
   "source": [
    "model_tics = tica.transform(compute_tica_features(sampled_traj))\n"
   ]
  },
  {
   "cell_type": "code",
   "execution_count": null,
   "metadata": {},
   "outputs": [
    {
     "name": "stderr",
     "output_type": "stream",
     "text": [
      "/tmp/ipykernel_27429/1490165665.py:26: RuntimeWarning:\n",
      "\n",
      "divide by zero encountered in log\n",
      "\n"
     ]
    },
    {
     "data": {
      "image/png": "[encoded data removed]",
      "text/plain": [
       "<Figure size 640x480 with 1 Axes>"
      ]
     },
     "metadata": {},
     "output_type": "display_data"
    },
    {
     "data": {
      "image/png": "[encoded data removed]",
      "text/plain": [
       "<Figure size 640x480 with 1 Axes>"
      ]
     },
     "metadata": {},
     "output_type": "display_data"
    },
    {
     "data": {
      "image/png": "[encoded data removed]",
      "text/plain": [
       "<Figure size 640x480 with 1 Axes>"
      ]
     },
     "metadata": {},
     "output_type": "display_data"
    },
    {
     "name": "stdout",
     "output_type": "stream",
     "text": [
      "JS REFERENCE [0.01077405 0.01991175 0.0171754  0.00898039 0.01617277 0.0326087\n",
      " 0.06096455 0.09305774 0.20784907 0.21941622 0.10077622 0.05761983\n",
      " 0.052482   0.04166323 0.04062402 0.03783957 0.02520933 0.03239652\n",
      " 0.02964008 0.0191905  0.0224741  0.02417145 0.0279291  0.0345567\n",
      " 0.10139071 0.2714582  0.55769925        nan 0.67413231]\n",
      "JS MODEL [0.32340197 0.29170691 0.23362396 0.13443771 0.11313027 0.10319965\n",
      " 0.06829405 0.14753929 0.24908073 0.24808686 0.18327316 0.15962265\n",
      " 0.11110376 0.09391961 0.13864296 0.24430046 0.26856587 0.1964255\n",
      " 0.10423209 0.08028602 0.06355321 0.05127987 0.0716277  0.08666854\n",
      " 0.12740854 0.33029123 0.67503283 0.72016176        nan]\n"
     ]
    },
    {
     "name": "stderr",
     "output_type": "stream",
     "text": [
      "/u/allanc/mambaforge/envs/ophiuchus/lib/python3.10/site-packages/scipy/spatial/distance.py:1250: RuntimeWarning:\n",
      "\n",
      "invalid value encountered in true_divide\n",
      "\n"
     ]
    }
   ],
   "source": [
    "import matplotlib.pyplot as plt\n",
    "import matplotlib as mpl\n",
    "\n",
    "\n",
    "# fig, ax = plt.subplots(1, 3, figsize=(10, 5))\n",
    "# plt.figure(figsize=(5, 5))\n",
    "# ax[0].hist2d(*train_tics.T, bins=60, cmap='viridis', density=True, norm=mpl.colors.LogNorm())\n",
    "# # get range of ax[0]\n",
    "# ax0_range = ax[0].get_xlim(), ax[0].get_ylim()\n",
    "\n",
    "# ax[1].hist2d(*model_tics.T, bins=60, cmap='viridis', density=True, norm=mpl.colors.LogNorm())\n",
    "# ax[1].set_xlim(*ax0_range[0])\n",
    "# ax[1].set_ylim(*ax0_range[1])\n",
    "# ax[2].hist2d(*test_tics.T, bins=60, cmap='viridis', density=True, norm=mpl.colors.LogNorm())\n",
    "# # set range of ax[1]\n",
    "# plt.show()\n",
    "x_train, y_train = train_tics.T\n",
    "tic_hists = []\n",
    "NBINS = 30\n",
    "for label, tics in zip(('Reference', 'Test', 'Model'), (train_tics, test_tics, model_tics)):\n",
    "    x, y = tics.T\n",
    "    histo = np.histogram2d(\n",
    "        y, x, density=True,\n",
    "        bins = [np.linspace(y_train.min(), y_train.max(), NBINS), np.linspace(x_train.min(), x_train.max(), NBINS)]\n",
    "    )[0]\n",
    "    plt.imshow(np.log(histo))\n",
    "    plt.title(label)\n",
    "    plt.show()\n",
    "    tic_hists.append(histo)\n",
    "\n",
    "tic_hist_ref, tic_hist_test, tic_hist_model = tic_hists\n",
    "\n",
    "js_model = jensenshannon(tic_hist_ref.flatten(), tic_hist_model.flatten())\n",
    "js_ref = jensenshannon(tic_hist_ref.flatten(), tic_hist_test.flatten())\n",
    "\n",
    "print(f'JS REFERENCE {js_ref}')\n",
    "print(f'JS MODEL {js_model}')\n",
    "\n"
   ]
  },
  {
   "cell_type": "code",
   "execution_count": 75,
   "metadata": {},
   "outputs": [
    {
     "data": {
      "text/plain": [
       "(29, 29)"
      ]
     },
     "execution_count": 75,
     "metadata": {},
     "output_type": "execute_result"
    }
   ],
   "source": [
    "tic_hist_ref.shape"
   ]
  },
  {
   "cell_type": "code",
   "execution_count": null,
   "metadata": {},
   "outputs": [],
   "source": []
  }
 ],
 "metadata": {
  "kernelspec": {
   "display_name": "ophiuchus",
   "language": "python",
   "name": "python3"
  },
  "language_info": {
   "codemirror_mode": {
    "name": "ipython",
    "version": 3
   },
   "file_extension": ".py",
   "mimetype": "text/x-python",
   "name": "python",
   "nbconvert_exporter": "python",
   "pygments_lexer": "ipython3",
   "version": "3.10.13"
  }
 },
 "nbformat": 4,
 "nbformat_minor": 2
}
