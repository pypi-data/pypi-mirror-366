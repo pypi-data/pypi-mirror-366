{
 "cells": [
  {
   "cell_type": "code",
   "execution_count": 1,
   "id": "8e97ec8e",
   "metadata": {},
   "outputs": [],
   "source": [
    "%load_ext autoreload\n",
    "%autoreload 2"
   ]
  },
  {
   "cell_type": "markdown",
   "id": "a491ec53",
   "metadata": {},
   "source": [
    "## [Setup + Utils]"
   ]
  },
  {
   "cell_type": "code",
   "execution_count": 2,
   "id": "a3971526",
   "metadata": {},
   "outputs": [],
   "source": [
    "import py3Dmol\n",
    "\n",
    "def traj_to_pdb(traj, downsample=1, tail=20):\n",
    "    models = \"\"\n",
    "    traj = traj[::downsample] + [traj[-1]] * tail\n",
    "    for i, p in enumerate(tqdm(traj)):\n",
    "        models += f\"MODEL {i + 1}\\n\"\n",
    "        models += p.to_pdb_str()\n",
    "        models += \"\\nENDMDL\\n\"\n",
    "    return models\n",
    "\n",
    "def plot_py3dmol_traj(traj, window_size=(400, 400), duration=10000):\n",
    "    # interval = duration / len(traj)\n",
    "    v = py3Dmol.view(*window_size)\n",
    "    models = traj_to_pdb(traj)\n",
    "    v.addModelsAsFrames(models, 'pdb')\n",
    "    v.setStyle({})\n",
    "    v.addStyle({'atom': 'CA'}, {'sphere': {'radius': 0.5, 'color': 'darkgray'}})\n",
    "    v.addStyle({'chain': 'A'}, {'stick': {}})\n",
    "    v.setBackgroundColor(\"rgb(0,0,0)\", 0)\n",
    "    v.animate({'loop': 'forward'})\n",
    "    return v"
   ]
  },
  {
   "cell_type": "code",
   "execution_count": 3,
   "id": "227af0d3-5c2d-40dd-a475-993ce6d6b1ef",
   "metadata": {},
   "outputs": [],
   "source": [
    "import os\n",
    "os.environ[\"CUDA_DEVICE_ORDER\"] = \"PCI_BUS_ID\"  # see issue #152\n",
    "os.environ[\"CUDA_VISIBLE_DEVICES\"] = '3'\n",
    "os.environ[\"XLA_PYTHON_CLIENT_PREALLOCATE\"] = \"true\"  # add this\n",
    "# os.environ[\"XLA_PYTHON_CLIENT_ALLOCATOR\"] = \"platform\""
   ]
  },
  {
   "cell_type": "code",
   "execution_count": 4,
   "id": "db72b541",
   "metadata": {},
   "outputs": [],
   "source": [
    "import sys \n",
    "sys.path.append('../../')\n",
    "import jax\n",
    "import jax.numpy as jnp\n",
    "import haiku as hk\n",
    "import optax\n",
    "from einops import repeat, rearrange\n",
    "import functools\n",
    "from collections import defaultdict\n",
    "import plotly as plt\n",
    "import e3nn_jax as e3nn\n",
    "from tqdm import tqdm\n",
    "from model.base.utils import inner_stack, inner_split\n",
    "import functools\n",
    "from moleculib.graphics.py3Dmol import plot_py3dmol_grid\n",
    "import numpy as np\n",
    "from kheiron.pipeline.utils import register_pytree\n",
    "from moleculib.protein.datum import ProteinDatum\n",
    "register_pytree(ProteinDatum)\n",
    "import pickle\n",
    "\n"
   ]
  },
  {
   "cell_type": "markdown",
   "id": "53e12cbf",
   "metadata": {},
   "source": [
    "## Prepare Data"
   ]
  },
  {
   "cell_type": "markdown",
   "id": "0ce6ea76",
   "metadata": {},
   "source": [
    "### -> Choose Dataset"
   ]
  },
  {
   "cell_type": "markdown",
   "id": "64b74a7d",
   "metadata": {},
   "source": [
    "#### 1. Fast Folding"
   ]
  },
  {
   "cell_type": "code",
   "execution_count": null,
   "id": "ca6b7306",
   "metadata": {},
   "outputs": [],
   "source": [
    "from torch.utils.data import DataLoader\n",
    "from tqdm import tqdm\n",
    "from moleculib.protein.dataset import FastFoldingDataset\n",
    "import mdtraj as md\n",
    "dataset = FastFoldingDataset(protein=\"chignolin\", tau=0, buffer=100)"
   ]
  },
  {
   "cell_type": "code",
   "execution_count": null,
   "id": "53e17548",
   "metadata": {},
   "outputs": [],
   "source": [
    "from torch.utils.data import DataLoader\n",
    "x0 = dataset[0]\n",
    "batch_size = 32\n",
    "pad_size = len(x0)\n",
    "dataloader = DataLoader(dataset, batch_size=batch_size, shuffle=True, num_workers=min(batch_size, 32), collate_fn=lambda x: x)"
   ]
  },
  {
   "cell_type": "markdown",
   "id": "b333b538",
   "metadata": {},
   "source": [
    "#### 2. ATLAS EIF4"
   ]
  },
  {
   "cell_type": "code",
   "execution_count": null,
   "id": "3f9bea39",
   "metadata": {},
   "outputs": [],
   "source": [
    "from moleculib.traj.dataset import AtlasEIF4EDataset\n",
    "dataset = AtlasEIF4EDataset(base_path='/mas/projects/molecularmachines/db/PREPROCESSED')"
   ]
  },
  {
   "cell_type": "markdown",
   "id": "34787c8b",
   "metadata": {},
   "source": [
    "#### 3. AdK Equilibrium"
   ]
  },
  {
   "cell_type": "code",
   "execution_count": null,
   "id": "e087a30c",
   "metadata": {},
   "outputs": [],
   "source": [
    "from moleculib.traj.dataset import AdKEquilibriumDataset\n",
    "dataset = AdKEquilibriumDataset(base_path='/mas/projects/molecularmachines/db/PREPROCESSED')"
   ]
  },
  {
   "cell_type": "markdown",
   "id": "0bf7e561",
   "metadata": {},
   "source": [
    "#### 4. Timewarp"
   ]
  },
  {
   "cell_type": "code",
   "execution_count": 5,
   "id": "4d860a05",
   "metadata": {},
   "outputs": [
    {
     "name": "stderr",
     "output_type": "stream",
     "text": [
      "100%|██████████| 1000/1000 [00:08<00:00, 115.59it/s]\n"
     ]
    }
   ],
   "source": [
    "from moleculib.traj.dataset import TimewarpDataset\n",
    "\n",
    "dataset = TimewarpDataset(\n",
    "    dataset=\"2AA-1-big\",\n",
    "    split=\"train\",\n",
    "    tau=0,\n",
    "    max_files=1,\n",
    ")\n",
    "dataset.splits = { 'train': [dataset[i] for i in tqdm(range(1000))]}"
   ]
  },
  {
   "cell_type": "markdown",
   "id": "a85c1c3d",
   "metadata": {},
   "source": [
    "### -> Preprocess"
   ]
  },
  {
   "cell_type": "code",
   "execution_count": 7,
   "id": "3d8bdc84",
   "metadata": {},
   "outputs": [],
   "source": [
    "from kheiron.pipeline.trainer import batch_dict\n",
    "\n",
    "x0 = dataset.splits['train'][1]\n",
    "batch_size = 16 \n",
    "pad_size = len(x0)\n",
    "dataloader = [ batch_dict([dataset.splits['train'][i].to_dict() for i in range(j, j+batch_size) if i < len(dataset.splits['train'])]) for j in range(0, len(dataset.splits['train']), batch_size)]"
   ]
  },
  {
   "cell_type": "code",
   "execution_count": 8,
   "id": "a9249895",
   "metadata": {},
   "outputs": [
    {
     "data": {
      "text/plain": [
       "<moleculib.protein.datum.ProteinDatum at 0x7f6983af4df0>"
      ]
     },
     "execution_count": 8,
     "metadata": {},
     "output_type": "execute_result"
    }
   ],
   "source": [
    "dataset.splits['train'][0]"
   ]
  },
  {
   "cell_type": "code",
   "execution_count": 10,
   "id": "1385dc69",
   "metadata": {},
   "outputs": [
    {
     "data": {
      "application/3dmoljs_load.v0": "<div id=\"3dmolviewer_17163512893171797\"  style=\"position: relative; width: 250px; height: 250px;\">\n        <p id=\"3dmolwarning_17163512893171797\" style=\"background-color:#ffcccc;color:black\">You appear to be running in JupyterLab (or JavaScript failed to load for some other reason).  You need to install the 3dmol extension: <br>\n        <tt>jupyter labextension install jupyterlab_3dmol</tt></p>\n        </div>\n<script>\n\nvar loadScriptAsync = function(uri){\n  return new Promise((resolve, reject) => {\n    //this is to ignore the existence of requirejs amd\n    var savedexports, savedmodule;\n    if (typeof exports !== 'undefined') savedexports = exports;\n    else exports = {}\n    if (typeof module !== 'undefined') savedmodule = module;\n    else module = {}\n\n    var tag = document.createElement('script');\n    tag.src = uri;\n    tag.async = true;\n    tag.onload = () => {\n        exports = savedexports;\n        module = savedmodule;\n        resolve();\n    };\n  var firstScriptTag = document.getElementsByTagName('script')[0];\n  firstScriptTag.parentNode.insertBefore(tag, firstScriptTag);\n});\n};\n\nif(typeof $3Dmolpromise === 'undefined') {\n$3Dmolpromise = null;\n  $3Dmolpromise = loadScriptAsync('https://cdnjs.cloudflare.com/ajax/libs/3Dmol/2.0.4/3Dmol-min.js');\n}\n\nvar viewer_17163512893171797 = null;\nvar warn = document.getElementById(\"3dmolwarning_17163512893171797\");\nif(warn) {\n    warn.parentNode.removeChild(warn);\n}\n$3Dmolpromise.then(function() {\nvar viewergrid_17163512893171797 = null;\nviewergrid_17163512893171797 = $3Dmol.createViewerGrid(document.getElementById(\"3dmolviewer_17163512893171797\"),{rows: 1, cols: 1, control_all: true},{backgroundColor:\"white\"});\nviewer_17163512893171797 = viewergrid_17163512893171797[0][0];\nviewergrid_17163512893171797[0][0].zoomTo();\tviewergrid_17163512893171797[0][0].addModel(\"ATOM  1     N    GLY A 11.0      4.385   3.953   2.640                       N  \\nATOM  2     CA   GLY A 11.0      5.819   3.653   2.329                       C  \\nATOM  3     C    GLY A 11.0      6.037   3.777   0.804                       C  \\nATOM  4     O    GLY A 11.0      5.402   4.617   0.112                       O  \\nATOM  5     N    LEU A 14.0      6.977   2.935   0.315                       N  \\nATOM  6     CA   LEU A 14.0      7.588   3.164  -0.956                       C  \\nATOM  7     C    LEU A 14.0      6.623   2.661  -2.082                       C  \\nATOM  8     O    LEU A 14.0      6.094   1.530  -1.991                       O  \\nATOM  9     CB   LEU A 14.0      9.039   2.629  -1.101                       C  \\nATOM  10    CG   LEU A 14.0      9.923   3.350  -0.085                       C  \\nATOM  11    CD1  LEU A 14.0     11.298   2.785  -0.369                       C  \\nATOM  12    CD2  LEU A 14.0      9.878   4.891  -0.293                       C  \",\"pdb\");\n\tviewergrid_17163512893171797[0][0].setStyle({\"model\": -1},{});\n\tviewergrid_17163512893171797[0][0].addStyle({\"model\": -1},{\"cartoon\": {\"color\": \"spectrum\"}});\n\tviewergrid_17163512893171797[0][0].addStyle({\"model\": -1},{\"stick\": {\"radius\": 0.2}});\n\tviewergrid_17163512893171797[0][0].zoomTo();\n\tviewergrid_17163512893171797[0][0].setBackgroundColor(\"rgb(0,0,0)\",0);\nviewergrid_17163512893171797[0][0].render();\n});\n</script>",
      "text/html": [
       "<div id=\"3dmolviewer_17163512893171797\"  style=\"position: relative; width: 250px; height: 250px;\">\n",
       "        <p id=\"3dmolwarning_17163512893171797\" style=\"background-color:#ffcccc;color:black\">You appear to be running in JupyterLab (or JavaScript failed to load for some other reason).  You need to install the 3dmol extension: <br>\n",
       "        <tt>jupyter labextension install jupyterlab_3dmol</tt></p>\n",
       "        </div>\n",
       "<script>\n",
       "\n",
       "var loadScriptAsync = function(uri){\n",
       "  return new Promise((resolve, reject) => {\n",
       "    //this is to ignore the existence of requirejs amd\n",
       "    var savedexports, savedmodule;\n",
       "    if (typeof exports !== 'undefined') savedexports = exports;\n",
       "    else exports = {}\n",
       "    if (typeof module !== 'undefined') savedmodule = module;\n",
       "    else module = {}\n",
       "\n",
       "    var tag = document.createElement('script');\n",
       "    tag.src = uri;\n",
       "    tag.async = true;\n",
       "    tag.onload = () => {\n",
       "        exports = savedexports;\n",
       "        module = savedmodule;\n",
       "        resolve();\n",
       "    };\n",
       "  var firstScriptTag = document.getElementsByTagName('script')[0];\n",
       "  firstScriptTag.parentNode.insertBefore(tag, firstScriptTag);\n",
       "});\n",
       "};\n",
       "\n",
       "if(typeof $3Dmolpromise === 'undefined') {\n",
       "$3Dmolpromise = null;\n",
       "  $3Dmolpromise = loadScriptAsync('https://cdnjs.cloudflare.com/ajax/libs/3Dmol/2.0.4/3Dmol-min.js');\n",
       "}\n",
       "\n",
       "var viewer_17163512893171797 = null;\n",
       "var warn = document.getElementById(\"3dmolwarning_17163512893171797\");\n",
       "if(warn) {\n",
       "    warn.parentNode.removeChild(warn);\n",
       "}\n",
       "$3Dmolpromise.then(function() {\n",
       "var viewergrid_17163512893171797 = null;\n",
       "viewergrid_17163512893171797 = $3Dmol.createViewerGrid(document.getElementById(\"3dmolviewer_17163512893171797\"),{rows: 1, cols: 1, control_all: true},{backgroundColor:\"white\"});\n",
       "viewer_17163512893171797 = viewergrid_17163512893171797[0][0];\n",
       "viewergrid_17163512893171797[0][0].zoomTo();\tviewergrid_17163512893171797[0][0].addModel(\"ATOM  1     N    GLY A 11.0      4.385   3.953   2.640                       N  \\nATOM  2     CA   GLY A 11.0      5.819   3.653   2.329                       C  \\nATOM  3     C    GLY A 11.0      6.037   3.777   0.804                       C  \\nATOM  4     O    GLY A 11.0      5.402   4.617   0.112                       O  \\nATOM  5     N    LEU A 14.0      6.977   2.935   0.315                       N  \\nATOM  6     CA   LEU A 14.0      7.588   3.164  -0.956                       C  \\nATOM  7     C    LEU A 14.0      6.623   2.661  -2.082                       C  \\nATOM  8     O    LEU A 14.0      6.094   1.530  -1.991                       O  \\nATOM  9     CB   LEU A 14.0      9.039   2.629  -1.101                       C  \\nATOM  10    CG   LEU A 14.0      9.923   3.350  -0.085                       C  \\nATOM  11    CD1  LEU A 14.0     11.298   2.785  -0.369                       C  \\nATOM  12    CD2  LEU A 14.0      9.878   4.891  -0.293                       C  \",\"pdb\");\n",
       "\tviewergrid_17163512893171797[0][0].setStyle({\"model\": -1},{});\n",
       "\tviewergrid_17163512893171797[0][0].addStyle({\"model\": -1},{\"cartoon\": {\"color\": \"spectrum\"}});\n",
       "\tviewergrid_17163512893171797[0][0].addStyle({\"model\": -1},{\"stick\": {\"radius\": 0.2}});\n",
       "\tviewergrid_17163512893171797[0][0].zoomTo();\n",
       "\tviewergrid_17163512893171797[0][0].setBackgroundColor(\"rgb(0,0,0)\",0);\n",
       "viewergrid_17163512893171797[0][0].render();\n",
       "});\n",
       "</script>"
      ]
     },
     "metadata": {},
     "output_type": "display_data"
    },
    {
     "data": {
      "text/plain": [
       "<py3Dmol.view at 0x7f6982508be0>"
      ]
     },
     "execution_count": 10,
     "metadata": {},
     "output_type": "execute_result"
    }
   ],
   "source": [
    "from moleculib.graphics.py3Dmol import plot_py3dmol_grid\n",
    "plot_py3dmol_grid([[dataset.splits['train'][1]]])"
   ]
  },
  {
   "cell_type": "markdown",
   "id": "01b95126",
   "metadata": {},
   "source": [
    "## Model Setup "
   ]
  },
  {
   "cell_type": "code",
   "execution_count": 26,
   "id": "270eda44",
   "metadata": {},
   "outputs": [],
   "source": [
    "\n",
    "from functools import partial\n",
    "from typing import List\n",
    "\n",
    "from model.base.protein import protein_to_tensor_cloud, tensor_cloud_to_protein\n",
    "# from model.base.denoiser import Denoiser\n",
    "from model.generative.stochastic_interpolants import TensorCloudMirrorInterpolant\n",
    "from configs.mirror_interpolant import ProteinMirrorInterpolant\n",
    "\n",
    "\n",
    "EPS = jnp.array([1.0, 3.0])\n",
    "\n",
    "import functools\n",
    "import math\n",
    "import haiku as hk\n",
    "import jax.numpy as jnp\n",
    "import e3nn_jax as e3nn\n",
    "from typing import List\n",
    "from model.base.spatial_convolution import CompleteSpatialConvolution, kNNSpatialConvolution\n",
    "from model.base.self_interaction import SelfInteraction\n",
    "from model.base.utils import TensorCloud\n",
    "from model.base.layer_norm import EquivariantLayerNorm\n",
    "import jax\n",
    "\n",
    "\n",
    "model_params = dict(\n",
    "    coord_layers=[16, 16, 16],\n",
    "    feature_layers=[16, 16],\n",
    "    k=8,\n",
    "    k_seq=16,\n",
    "    radial_cut=32.0,\n",
    "    leading_shape=(pad_size,),\n",
    "    var_features=0.5,\n",
    "    var_coords=0.5,\n",
    ")\n",
    "\n",
    "model = hk.transform(lambda *a, **ka: ProteinMirrorInterpolant(**model_params)(*a, **ka))\n",
    "sample = hk.transform(lambda *a, **ka: ProteinMirrorInterpolant(**model_params).sample(*a, **ka))\n",
    "rng_seq = hk.PRNGSequence(42)\n",
    "params = model.init(next(rng_seq), batch_dict([x0.to_dict()]))\n",
    "# num_params = sum([jnp.prod(p.shape) for p in jax.tree_leaves(params)])\n",
    "# print(f\"Number of parameters: {num_params}\")"
   ]
  },
  {
   "cell_type": "code",
   "execution_count": 39,
   "id": "7e3ca3ec",
   "metadata": {},
   "outputs": [
    {
     "name": "stdout",
     "output_type": "stream",
     "text": [
      "(1, 2, 14, 3)\n"
     ]
    },
    {
     "name": "stderr",
     "output_type": "stream",
     "text": [
      "100%|██████████| 1/1 [00:22<00:00, 22.62s/it]\n"
     ]
    }
   ],
   "source": [
    "def batch_dict(list_):\n",
    "    keys = list_[0].keys()\n",
    "    return {k: jnp.stack([d[k] for d in list_]) for k in keys if list_[0][k] is not None}\n",
    "\n",
    "\n",
    "def unbatch_dict(d):\n",
    "    keys = d.keys()\n",
    "    return [{k: d[k][i] for k in keys} for i in range(d[list(keys)[0]].shape[0])]\n",
    "\n",
    "\n",
    "@functools.partial(jax.jit, static_argnums=(2,))\n",
    "def _simulate(key, prot, interp_steps=100, eps=jnp.array([1.0,1.0])):\n",
    "    keys = jax.random.split(key, prot['atom_coord'].shape[0]) \n",
    "    return jax.vmap(lambda k, p: sample.apply(params, k, p, num_steps=1, interp_steps=interp_steps, eps=eps))(keys, prot)\n",
    "\n",
    "def rollout(prot, num_steps, interp_steps, eps):\n",
    "    traj = []\n",
    "    prot = batch_dict(prot)\n",
    "    for _ in tqdm(range(num_steps)):\n",
    "        prot, _ = _simulate(next(rng_seq), prot, interp_steps=interp_steps, eps=eps)\n",
    "        traj.append(unbatch_dict(prot))\n",
    "    prot = unbatch_dict(prot)\n",
    "    return prot, traj\n",
    "\n",
    "_ = rollout([x0.to_dict()], num_steps=1, interp_steps=300, eps=jnp.array([1.0,1.0]))"
   ]
  },
  {
   "cell_type": "code",
   "execution_count": 40,
   "id": "ff8596fb",
   "metadata": {},
   "outputs": [],
   "source": [
    "jax.config.update('jax_disable_jit', False)\n",
    "jax.config.update('jax_debug_nans', False)\n",
    "\n",
    "optimizer = optax.adam(1e-2, 0.9, 0.999)\n",
    "opt_state = optimizer.init(params)\n",
    "\n",
    "from model.losses import LossPipe\n",
    "from model.losses import MirrorInterpolantLoss\n",
    "\n",
    "loss_fn = LossPipe(\n",
    "    loss_list=[\n",
    "        MirrorInterpolantLoss(),\n",
    "    ]\n",
    ")\n",
    "\n",
    "def loss(params, rng, data):\n",
    "    def _apply_loss(key, datum):\n",
    "        output = model.apply(params, key, datum)\n",
    "        _, loss_, metrics = loss_fn(key, output, datum, 0)\n",
    "        return loss_, {'loss': loss_, ** metrics }\n",
    "    rng_keys = jax.random.split(rng, len(data.residue_token))\n",
    "    losses, metrics = jax.vmap(_apply_loss)(rng_keys, data)\n",
    "    metrics = { k: jnp.mean(v) for k, v in metrics.items() }\n",
    "    return jnp.mean(losses), [metrics]\n",
    "\n",
    "@jax.jit\n",
    "def update(rng, params, opt_state, data) -> List:\n",
    "    key, rng = jax.random.split(rng, 2)\n",
    "    grads, [metrics] = jax.grad(\n",
    "        loss,\n",
    "        has_aux=True,\n",
    "        argnums=0,\n",
    "    )(params, key, data)\n",
    "    updates, opt_state = optimizer.update(grads, opt_state, params)\n",
    "    params = optax.apply_updates(params, updates)\n",
    "    return params, opt_state, metrics\n"
   ]
  },
  {
   "cell_type": "markdown",
   "id": "432341f3",
   "metadata": {},
   "source": [
    "## Train "
   ]
  },
  {
   "cell_type": "code",
   "execution_count": 41,
   "id": "a7b26c30",
   "metadata": {},
   "outputs": [],
   "source": [
    "num_epochs = 10\n",
    "metrics = defaultdict(list)"
   ]
  },
  {
   "cell_type": "code",
   "execution_count": 42,
   "id": "c5d22bd1",
   "metadata": {},
   "outputs": [
    {
     "name": "stderr",
     "output_type": "stream",
     "text": [
      "100%|██████████| 63/63 [00:00<00:00, 355640.85it/s]\n",
      "100%|██████████| 63/63 [00:00<00:00, 650840.28it/s]\n",
      "100%|██████████| 63/63 [00:00<00:00, 636725.67it/s]\n",
      "100%|██████████| 63/63 [00:00<00:00, 665594.84it/s]\n",
      "100%|██████████| 63/63 [00:00<00:00, 431766.59it/s]\n",
      "100%|██████████| 63/63 [00:00<00:00, 451694.28it/s]\n",
      "100%|██████████| 63/63 [00:00<00:00, 526376.80it/s]\n",
      "100%|██████████| 63/63 [00:00<00:00, 400972.92it/s]\n",
      "100%|██████████| 63/63 [00:00<00:00, 416127.80it/s]\n",
      "100%|██████████| 63/63 [00:00<00:00, 542589.63it/s]\n"
     ]
    }
   ],
   "source": [
    "total_step = 0\n",
    "import pickle\n",
    "for epoch in range(num_epochs):\n",
    "    # bar = tqdm(dataloader * 50)\n",
    "    bar = tqdm(dataloader)\n",
    "    for step, data in enumerate(bar):\n",
    "        if len(data) != batch_size: continue\n",
    "        data = batch_dict([batch_dict([d.to_dict()]) for d in data])\n",
    "        params, opt_state, step_metrics = update(\n",
    "            next(rng_seq), params, opt_state, data\n",
    "        )\n",
    "        for k, v in step_metrics.items(): metrics[k].append(v)\n",
    "        bar.set_postfix({k: f'{float(v):.2e}' for k, v in step_metrics.items()})\n",
    "\n",
    "        if (total_step % 1000) == 0:\n",
    "            # out, traj = rollout(data[0], 1, interp_steps=100, eps=EPS)\n",
    "            # plot_py3dmol_traj(traj).show()\n",
    "            with open('p.pkl', 'wb') as f: pickle.dump(params, f)\n",
    "        total_step += 1"
   ]
  },
  {
   "cell_type": "code",
   "execution_count": null,
   "id": "ab3a460a",
   "metadata": {},
   "outputs": [],
   "source": [
    "import matplotlib.pyplot as plt\n",
    "downsample = 5\n",
    "window = 100\n",
    "\n",
    "fig, axs = plt.subplots(len(metrics.items()), 1, figsize=(8, 6))\n",
    "for i, (metric, array) in enumerate(metrics.items()):\n",
    "    array = np.array(array)[::downsample]\n",
    "    axs[i].plot(array - np.min(array))\n",
    "    axs[i].set_ylabel(metric)\n",
    "    axs[i].set_yscale('log')\n",
    "fig.show()"
   ]
  },
  {
   "cell_type": "markdown",
   "id": "4695f5fe",
   "metadata": {},
   "source": [
    "## Simulate"
   ]
  },
  {
   "cell_type": "code",
   "execution_count": null,
   "id": "d2cd73c8",
   "metadata": {},
   "outputs": [],
   "source": [
    "out, traj = rollout(x0, 1, internal_traj=True)\n",
    "# plot_py3dmol_traj(traj[::5], window_size=(400, 400))"
   ]
  },
  {
   "cell_type": "code",
   "execution_count": null,
   "id": "15f5d5f6",
   "metadata": {},
   "outputs": [],
   "source": [
    "out, traj = rollout(x0, 500, interp_steps=100, eps=jnp.array([1.0, 1.0]))"
   ]
  },
  {
   "cell_type": "code",
   "execution_count": null,
   "id": "5377d176",
   "metadata": {},
   "outputs": [],
   "source": [
    "trajs = []\n",
    "# for _ in range(10):\n",
    "out, traj = rollout(out, 3000, interp_steps=300, eps=jnp.array([1.0, 1.0]))\n",
    "    # trajs.append(traj)\n"
   ]
  },
  {
   "cell_type": "code",
   "execution_count": null,
   "id": "fa6c6d9a",
   "metadata": {},
   "outputs": [],
   "source": [
    "# traj = [ x for t in trajs for x in t ]"
   ]
  },
  {
   "cell_type": "code",
   "execution_count": null,
   "id": "bc459e4a",
   "metadata": {},
   "outputs": [],
   "source": [
    "# traj[0].residue_token\n",
    "plot_py3dmol_traj(traj[-100:], window_size=(400, 400))"
   ]
  },
  {
   "cell_type": "code",
   "execution_count": null,
   "id": "ff9b6c15",
   "metadata": {},
   "outputs": [],
   "source": [
    "# out.to_pdb_str()\n",
    "# \n",
    "# repeat(np.arange(len(out.residue_token)), \"r -> r a\", a=14)[out.atom_mask]\n",
    "# expand it with standard np as a new dimension\n"
   ]
  },
  {
   "cell_type": "code",
   "execution_count": null,
   "id": "dc9b8311",
   "metadata": {},
   "outputs": [],
   "source": [
    "len(out.residue_token)"
   ]
  },
  {
   "cell_type": "code",
   "execution_count": null,
   "id": "f331c36a",
   "metadata": {},
   "outputs": [],
   "source": [
    "v = plot_py3dmol_traj(traj[::4])\n",
    "v.show()\n",
    "html = v._make_html()\n",
    "\n",
    "html_path = os.path.join(f\"chignolin.html\")\n",
    "with open(html_path, \"w\") as f:\n",
    "    f.write(html)"
   ]
  },
  {
   "cell_type": "code",
   "execution_count": null,
   "id": "0de85a5a",
   "metadata": {},
   "outputs": [],
   "source": [
    "# real_traj = dataset.splits['train'][:len(traj)]\n",
    "real_traj = dataset.splits['train']"
   ]
  },
  {
   "cell_type": "markdown",
   "id": "8d3129ee",
   "metadata": {},
   "source": [
    "## Benchmarks"
   ]
  },
  {
   "cell_type": "code",
   "execution_count": null,
   "id": "5f98ae8e",
   "metadata": {},
   "outputs": [],
   "source": [
    "import mdtraj as md\n",
    "from tempfile import gettempdir\n",
    "import os \n",
    "\n",
    "def protein_datum_to_md_traj(traj, downsample=1):\n",
    "    pdbstr = traj_to_pdb(traj, tail=0)\n",
    "    with open(f'{gettempdir()}/tmp.pdb', 'w') as f:\n",
    "        f.write(pdbstr)\n",
    "    mdtraj_datum = md.load(f'{gettempdir()}/tmp.pdb')\n",
    "    os.remove(f'{gettempdir()}/tmp.pdb')\n",
    "    return mdtraj_datum\n",
    "\n",
    "\n",
    "md_traj = protein_datum_to_md_traj(traj)\n",
    "real_md_traj = protein_datum_to_md_traj(dataset.splits['train'][:1000])"
   ]
  },
  {
   "cell_type": "markdown",
   "id": "3447cbab",
   "metadata": {},
   "source": [
    "### Evaluate Chemistry"
   ]
  },
  {
   "cell_type": "code",
   "execution_count": null,
   "id": "6cf7887e",
   "metadata": {},
   "outputs": [],
   "source": [
    "from moleculib.protein.metrics import StandardChemicalDeviation\n",
    "\n",
    "def measure_chemistry(traj):\n",
    "    metrics = defaultdict(list)\n",
    "    chem = StandardChemicalDeviation()\n",
    "    for step in tqdm(range(0, len(traj), 4)):\n",
    "        metrics_ = chem(traj[step])\n",
    "        for k, v in metrics_.items():\n",
    "            metrics[k].append(v)\n",
    "    return metrics\n",
    "\n",
    "real_metrics = measure_chemistry(real_traj)\n",
    "fake_metrics = measure_chemistry(traj)"
   ]
  },
  {
   "cell_type": "code",
   "execution_count": null,
   "id": "978108db",
   "metadata": {},
   "outputs": [],
   "source": [
    "import matplotlib.pyplot as plt\n",
    "window = 100\n",
    "fig, axs = plt.subplots(len(fake_metrics.items()), 1, figsize=(8, 10))\n",
    "# for i, (metric, array) in enumerate(real_metrics.items()):\n",
    "    # axs[i].plot(array)\n",
    "for i, (metric, array) in enumerate(fake_metrics.items()):\n",
    "    axs[i].set_title(metric)\n",
    "    axs[i].plot(array)\n",
    "fig.legend(['real', 'fake'])\n",
    "fig.tight_layout()\n",
    "fig.show()"
   ]
  },
  {
   "cell_type": "code",
   "execution_count": null,
   "id": "c6d9e6d3",
   "metadata": {},
   "outputs": [],
   "source": [
    "# data_transform = plat.cfg['trainer']\n",
    "from hydra_zen import instantiate\n"
   ]
  },
  {
   "cell_type": "markdown",
   "id": "b915369b",
   "metadata": {},
   "source": [
    "### Load Pretrained Model"
   ]
  },
  {
   "cell_type": "code",
   "execution_count": null,
   "id": "0b55fc0b",
   "metadata": {},
   "outputs": [],
   "source": [
    "from kheiron.pipeline.registry import Registry\n",
    "\n",
    "registry_path = '/mas/projects/molecularmachines/experiments/generative/allanc3'\n",
    "registry = Registry('ophiuchus', registry_path)\n",
    "model_name = 'youthful-shape-1240'\n",
    "from functools import reduce\n",
    "\n",
    "plat = registry.get_platform(model_name, read_only=True)\n",
    "\n",
    "data_transforms = instantiate(plat.cfg['trainer']['dataset']['transform'])\n",
    "data_transform = lambda datum: reduce(lambda x, f: f.transform(x), data_transforms, datum)\n",
    "\n",
    "params = plat.get_params(-1)\n",
    "premodel = plat.instantiate_model()\n",
    "transform = hk.transform(lambda *a, **ka: premodel().sample(*a, **ka))\n",
    "\n",
    "@functools.partial(jax.jit, static_argnums=(1,))\n",
    "def _simulate(prot, interp_steps=100):\n",
    "    return transform.apply(params, next(rng_seq), prot, num_steps=1, interp_steps=interp_steps)\n",
    "\n",
    "def rollout(prot, num_steps, interp_steps, internal_traj=False):\n",
    "    traj = []\n",
    "    for _ in tqdm(range(num_steps)):\n",
    "        out, int_traj = _simulate(prot, interp_steps=interp_steps)\n",
    "        if internal_traj:\n",
    "            internals = [tensor_cloud_to_protein(tc, prot) for tc in inner_split(inner_split(int_traj)[0])]\n",
    "            traj.extend(internals)\n",
    "        else:\n",
    "            traj.append(out)\n",
    "        prot = out\n",
    "    return out, traj\n",
    "\n",
    "\n",
    "rng_seq = hk.PRNGSequence(42)\n",
    "x0 = data_transform(dataset.splits['train'][1])\n",
    "\n",
    "x1, traj = rollout(x0, 50, 1000)\n",
    "plot_py3dmol_traj(traj, window_size=(400, 400))\n",
    "# rename paths so that the first folder, of name \"folder\" gets a \"_1\" appended to iter"
   ]
  },
  {
   "cell_type": "code",
   "execution_count": null,
   "id": "43fde6ef",
   "metadata": {},
   "outputs": [],
   "source": [
    "from typing import Dict, Any\n",
    "def compute_rmsd(traj: md.Trajectory, ref: md.Trajectory) -> float:\n",
    "    \"\"\"Calculate the RMSD (in Angstroms)\"\"\"\n",
    "    return 10 * md.rmsd(traj, ref)\n",
    "\n",
    "\n",
    "def compute_rmsf(traj: md.Trajectory, ref: md.Trajectory, selector: str = 'name CA') -> float:\n",
    "    \"\"\"Calculate the RMSF on alpha-carbons (in Angstroms)\"\"\"\n",
    "    # Select the alpha-carbon atoms\n",
    "    indices = ref.topology.select(selector)\n",
    "    return 10 * md.rmsf(traj.atom_slice(indices), ref.atom_slice(indices))\n",
    "\n",
    "\n",
    "def compute_radius_of_gyration(traj: md.Trajectory) -> float:\n",
    "    \"\"\"Calculate the radius of gyration (in Angstroms)\"\"\"\n",
    "    return 10 * md.compute_rg(traj)\n",
    "\n",
    "\n",
    "def compute_SASA(traj: md.Trajectory) -> float:\n",
    "    \"\"\"Calculate the solvent accessible surface area (in Angstroms^2)\"\"\"\n",
    "    return 100 * md.shrake_rupley(traj, mode='residue')\n",
    "\n",
    "\n",
    "\n",
    "\n",
    "def compute_contact_maps(traj: md.Trajectory, contacts: str, scheme: str, distance_cutoff: float) -> np.ndarray:\n",
    "    distances, residue_pairs = md.compute_contacts(traj, contacts=contacts, scheme=scheme, ignore_nonprotein=True)\n",
    "    distances = distances * 10  # C,nvert to Angstroms\n",
    "    contact_maps = md.geometry.squareform(distances, residue_pairs)\n",
    "    contact_maps[contact_maps > distance_cutoff] = 0\n",
    "    return contact_maps\n",
    "\n",
    "\n",
    "def compute_KL_divergence(hist1: np.ndarray, hist2: np.ndarray) -> float:\n",
    "    \"\"\"Compute the Kullback-Leibler divergence between two histograms.\"\"\"\n",
    "    div = hist1 * np.log(hist1 / hist2)\n",
    "    div = np.where(hist1 == 0, 0, div)\n",
    "    return np.sum(div)\n",
    "\n",
    "\n",
    "def compute_JS_divergence(hist1: np.ndarray, hist2: np.ndarray) -> float:\n",
    "    \"\"\"Compute the Jensen-Shannon divergence between two histograms.\"\"\"\n",
    "    mix = (hist1 + hist2) / 2\n",
    "    return (compute_KL_divergence(hist1, mix) + compute_KL_divergence(hist2, mix)) / 2\n",
    "            \n",
    "\n",
    "def norm_of_difference_in_CA_positions(traj: md.Trajectory, diff_index: int) -> np.ndarray:\n",
    "    \"\"\"Compute the norm of the difference in alpha-carbon positions between timesteps separated by `diff_index`.\"\"\"\n",
    "    # Select the alpha-carbon (CA) atoms.\n",
    "    ca_indices = traj.topology.select('name CA')\n",
    "    num_residues = len(ca_indices)\n",
    "    num_frames = traj.n_frames\n",
    "\n",
    "    alpha_carbon_positions = traj.xyz[:, ca_indices, :]\n",
    "    assert alpha_carbon_positions.shape == (num_frames, num_residues, 3)\n",
    "\n",
    "    # Convert to Angstroms.\n",
    "    alpha_carbon_positions = alpha_carbon_positions * 10\n",
    "\n",
    "    # Take the difference in CA coordinates between timesteps separated by `diff_index`.\n",
    "    alpha_carbon_positions_diff = alpha_carbon_positions[diff_index:] - alpha_carbon_positions[:-diff_index]\n",
    "    assert alpha_carbon_positions_diff.shape == (num_frames - diff_index, num_residues, 3)\n",
    "\n",
    "    # Compute the norm of the difference vector.\n",
    "    alpha_carbon_positions_norm = np.linalg.norm(alpha_carbon_positions_diff, axis=-1)\n",
    "    assert alpha_carbon_positions_norm.shape == (num_frames - diff_index, num_residues)\n",
    "\n",
    "    alpha_carbon_positions_sq_norm = np.square(alpha_carbon_positions_norm)\n",
    "    assert alpha_carbon_positions_sq_norm.shape == (num_frames - diff_index, num_residues)\n",
    "\n",
    "    alpha_carbon_positions_rmsf = np.sqrt(np.mean(alpha_carbon_positions_sq_norm, axis=-2))\n",
    "    return alpha_carbon_positions_rmsf\n",
    "\n",
    "\n",
    "def compute_metrics(traj: md.Trajectory, \n",
    "                    contact_map_distance_cutoff: float = 8.0,\n",
    "                    superpose: bool = True,\n",
    "                    ref: md.Trajectory = None) -> Dict[str, Any]:\n",
    "    metrics = {}    \n",
    "\n",
    "\n",
    "    \"\"\"Compute the RMSD, RMSF, radius of gyration, phi and psi angles, and contact map of the trajectory.\"\"\"\n",
    "    # Align the trajectory to the reference structure\n",
    "    if ref is not None:\n",
    "        if superpose:\n",
    "            print(\"Aligning to the reference structure\")\n",
    "            traj = traj.superpose(ref)\n",
    "        else:\n",
    "            print(\"Not aligning to the reference structure\")\n",
    "\n",
    "        rmsd = compute_rmsd(traj, ref)\n",
    "        rmsf = compute_rmsf(traj, ref)\n",
    "        gyration_radius = compute_radius_of_gyration(traj)\n",
    "\n",
    "        metrics = {\n",
    "            'rmsd': rmsd,\n",
    "            'rmsf': rmsf,\n",
    "            'gyration_radius': gyration_radius,\n",
    "        }\n",
    "    \n"
   ]
  },
  {
   "cell_type": "markdown",
   "id": "c428e233",
   "metadata": {},
   "source": [
    "### Measure Ramachandran"
   ]
  },
  {
   "cell_type": "code",
   "execution_count": null,
   "id": "62c0f0f6",
   "metadata": {},
   "outputs": [],
   "source": [
    "def compute_phi_and_psi_angles(traj: md.Trajectory) -> float:\n",
    "    # filter_backbone \n",
    "    # traj = traj.atom_slice(traj.top.select('backbone'))\n",
    "    _, phi_angles = md.compute_phi(traj)\n",
    "    _, psi_angles = md.compute_psi(traj)\n",
    "\n",
    "    phi_angles = np.rad2deg(phi_angles).flatten() # dropping the first one?\n",
    "    psi_angles = np.rad2deg(psi_angles).flatten()\n",
    "    return phi_angles, psi_angles\n",
    "\n",
    "def compute_phi_psi_histogram(phi_angles: np.ndarray, psi_angles: np.ndarray) -> np.ndarray:\n",
    "    return np.histogram2d(\n",
    "        phi_angles, psi_angles, bins=np.linspace(-180, 180, 60), density=True\n",
    "    )[0]\n",
    "\n",
    "\n",
    "\n",
    "def compute_KL_divergence(hist1: np.ndarray, hist2: np.ndarray) -> float:\n",
    "    \"\"\"Compute the Kullback-Leibler divergence between two histograms.\"\"\"\n",
    "    hist2 = np.where(hist2 == 0, 1, hist2)\n",
    "    div = hist1 * np.nan_to_num(np.log(hist1 / hist2))\n",
    "    div = np.where(hist1 == 0, 0, div)\n",
    "    return np.sum(div)\n",
    "\n",
    "hists =[]\n",
    "\n",
    "\n",
    "for label, traj_ in zip(('Reference', 'Model'), (real_md_traj, md_traj)):\n",
    "    phi_angles, psi_angles = compute_phi_and_psi_angles(traj_)\n",
    "\n",
    "    plt.hist2d(\n",
    "        phi_angles, psi_angles, bins=60, density=True,\n",
    "        range=[[-180, 180], [-180, 180]],\n",
    "    ) \n",
    "    plt.gca().set_aspect('equal', adjustable='box')\n",
    "    plt.xlabel('$\\phi$', fontsize=20)\n",
    "    plt.ylabel('$\\psi$', fontsize=20)\n",
    "\n",
    "    plt.xlim(-180, 180)\n",
    "    plt.xticks(np.arange(-180, 181, 60))\n",
    "\n",
    "    plt.ylim(-180, 180)\n",
    "    plt.yticks(np.arange(-180, 181, 60))\n",
    "    \n",
    "    plt.title(label)\n",
    "\n",
    "    plt.show()\n",
    "\n",
    "    hists.append(\n",
    "        compute_phi_psi_histogram(phi_angles, psi_angles)\n",
    "    )\n",
    "\n",
    "\n",
    "js = compute_JS_divergence(*hists)\n",
    "print(f\"JS divergence: {js:.5f}\")\n",
    "\n",
    "kl = compute_KL_divergence(*hists)\n",
    "print(f\"KL divergence: {kl:.5f}\")\n",
    "\n"
   ]
  },
  {
   "cell_type": "markdown",
   "id": "7a8e0f4a",
   "metadata": {},
   "source": [
    "### Pairwise Distance Distribution"
   ]
  },
  {
   "cell_type": "code",
   "execution_count": null,
   "id": "397aed7f",
   "metadata": {},
   "outputs": [],
   "source": [
    "\n",
    "contact_map_distance_cutoff = 8.0\n",
    "for label, traj_ in zip(('Reference', 'Model'), (real_md_traj, md_traj)):\n",
    "    c_map = compute_contact_maps(\n",
    "        _traj, contacts='all', scheme='ca', distance_cutoff=contact_map_distance_cutoff\n",
    "    )\n",
    "\n",
    "    z = c_map[0]\n",
    "    plt.imshow(\n",
    "        z,\n",
    "        cmap=plt.cm.viridis,\n",
    "    )\n",
    "    plt.gca().set_aspect('equal', adjustable='box')\n",
    "\n",
    "    plt.xlabel('Residue index', fontsize=13)\n",
    "    plt.ylabel('Residue index', fontsize=13)\n",
    "    \n",
    "    plt.title(label)\n",
    "\n",
    "    plt.show()"
   ]
  },
  {
   "cell_type": "code",
   "execution_count": null,
   "id": "6f963f44",
   "metadata": {},
   "outputs": [],
   "source": [
    "def get_pwd(traj):\n",
    "    distances = md.geometry.contact.squareform(*md.compute_contacts(traj, ignore_nonprotein=True))\n",
    "    return distances.mean(0)[np.triu_indices_from(distances[0], k=3)]\n",
    "\n",
    "compute_JS_divergence(get_pwd(real_traj), get_pwd(md_traj))"
   ]
  },
  {
   "cell_type": "code",
   "execution_count": null,
   "id": "79672178",
   "metadata": {},
   "outputs": [],
   "source": []
  },
  {
   "cell_type": "code",
   "execution_count": null,
   "id": "fae6b417",
   "metadata": {},
   "outputs": [],
   "source": []
  },
  {
   "cell_type": "code",
   "execution_count": null,
   "id": "2513a77a",
   "metadata": {},
   "outputs": [],
   "source": [
    "def compute_velocity(traj):\n",
    "    ca_velocities = []\n",
    "    sc_velocities = []\n",
    "    for i in range(1, len(traj)):\n",
    "        v = traj[i].atom_coord - traj[i-1].atom_coord\n",
    "        ca_velocities.append(np.linalg.norm(v[..., 1, :], axis=-1))\n",
    "        sc_velocities.append(np.linalg.norm(v[..., 2:, :], axis=-1))\n",
    "    ca_velocities = np.stack(ca_velocities).mean(-1)\n",
    "    sc_velocities = np.stack(sc_velocities).mean(-1)\n",
    "    return ca_velocities, sc_velocities\n",
    "\n",
    "ca_velocities, sc_velocities = compute_velocity(traj)\n",
    "# import matplotlib.pyplot as plt\n",
    "plt.plot(ca_velocities)"
   ]
  },
  {
   "cell_type": "markdown",
   "id": "4b9bbe10",
   "metadata": {},
   "source": [
    "### TICA Analysis"
   ]
  },
  {
   "cell_type": "code",
   "execution_count": null,
   "id": "5ea2b833",
   "metadata": {},
   "outputs": [],
   "source": [
    "import mdtraj\n",
    "from pathlib import Path\n",
    "# get the xtc path and get its directory\n",
    "reference = Path(dataset.files[0])\n",
    "reference_dir = reference.parent\n",
    "reference = mdtraj.load(reference_dir / 'filtered.pdb')\n",
    "ca_indices = reference.top.select('name CA')"
   ]
  },
  {
   "cell_type": "code",
   "execution_count": null,
   "id": "6255ba6e",
   "metadata": {},
   "outputs": [],
   "source": [
    "from einops import rearrange\n",
    "\n",
    "real_traj_ca_coord = dataset.coords[:, ca_indices]\n",
    "pairwise_distances = np.linalg.norm(rearrange(real_traj_ca_coord, 'b n d -> b n () d') - rearrange(real_traj_ca_coord, 'b m d -> b 1 m d'), axis=-1)\n",
    "pairwise_distances = pairwise_distances.reshape(-1, pairwise_distances.shape[-1] ** 2)\n",
    "\n",
    "# real_traj_ca_coord.shape"
   ]
  },
  {
   "cell_type": "code",
   "execution_count": null,
   "id": "d156b902",
   "metadata": {},
   "outputs": [],
   "source": [
    "ca_coords = [step.atom_coord[..., 1, :] for step in traj]\n",
    "pairwise_distances_model = np.linalg.norm(rearrange(ca_coords, 'b n d -> b n () d') - rearrange(ca_coords, 'b m d -> b 1 m d'), axis=-1)\n",
    "pairwise_distances_model = pairwise_distances_model.reshape(-1, pairwise_distances_model.shape[-1] ** 2)"
   ]
  },
  {
   "cell_type": "code",
   "execution_count": null,
   "id": "b16c5637",
   "metadata": {},
   "outputs": [],
   "source": []
  },
  {
   "cell_type": "code",
   "execution_count": null,
   "id": "0013199a",
   "metadata": {},
   "outputs": [],
   "source": [
    "\n",
    "import matplotlib.pyplot as plt\n",
    "import numpy as np\n",
    "\n",
    "from pyemma.coordinates import tica\n",
    "real_traj = dataset.splits['train']\n",
    "\n",
    "# print(len(real_traj))\n",
    "\n",
    "\n",
    "tic1, tic2 = tica(pairwise_distances, lag=100, dim=2).get_output()[0].T\n",
    "\n"
   ]
  },
  {
   "cell_type": "code",
   "execution_count": null,
   "id": "00086917",
   "metadata": {},
   "outputs": [],
   "source": [
    "plt.figure(figsize=(5, 5))\n",
    "import matplotlib as mpl\n",
    "plt.hist2d(tic1, tic2, bins=60, cmap='viridis', density=True, norm=mpl.colors.LogNorm())\n",
    "# plt.gca().set_aspect('equal', adjustable='box')"
   ]
  },
  {
   "cell_type": "markdown",
   "id": "d3b7199d",
   "metadata": {},
   "source": [
    "## Random"
   ]
  },
  {
   "cell_type": "code",
   "execution_count": null,
   "id": "0f98d205",
   "metadata": {},
   "outputs": [],
   "source": [
    "# from moleculib.graphics.py3Dmol import plot_py3dmol_grid\n",
    "# from moleculib.protein.datum import ProteinDatum\n",
    "# from model.base.protein import protein_to_tensor_cloud\n",
    "# from model.generative.stochastic_interpolants import NormalDistribution\n",
    "# from model.base.utils import TensorCloud\n",
    "\n",
    "# # trp_cage1 = ProteinDatum.fetch_pdb_id('1l2y', model=3)\n",
    "# trp_cage2 = ProteinDatum.fetch_pdb_id('1l2y', model=6)\n",
    "# plot_py3dmol_grid([[trp_cage2]], (500, 500),colors=colors).show()\n",
    "\n",
    "# # trp_cage = trp_cage[-6:-3]\n",
    "# # prng = hk.PRNGSequence(42)\n",
    "# # error = NormalDistribution('14x1e', coords_scale=3, irreps_scale=0.7).sample(next(prng), (20, ))\n",
    "\n",
    "# # colors = list(Color(\"violet\").range_to(Color(\"red\"), 20))\n",
    "# # colors = [c.hex for c in colors]\n",
    "\n",
    "# # plot_py3dmol_grid([[trp_cage]], (500, 500), colors=colors).show()\n",
    "# plot_py3dmol_grid([[protein_to_tensor_cloud(trp_cage2)]], (500, 500), radius=0.1, mid=0.8, colors=colors).show()\n",
    "# # from colour import Color\n",
    "\n",
    "\n",
    "# # latent = protein_to_tensor_cloud(trp_cage)\n",
    "# # plot_py3dmol_grid([[error]], (500, 500), radius=0.1, mid=0.8, colors=colors).show()\n",
    "\n",
    "# # plot_py3dmol_grid([[1.0 * error + latent.replace(irreps_array=latent.irreps_array.filter('1e'))]], (500, 500), radius=0.1, mid=0.8, colors=colors).show()\n",
    "\n"
   ]
  }
 ],
 "metadata": {
  "kernelspec": {
   "display_name": "Python 3 (ipykernel)",
   "language": "python",
   "name": "python3"
  },
  "language_info": {
   "codemirror_mode": {
    "name": "ipython",
    "version": 3
   },
   "file_extension": ".py",
   "mimetype": "text/x-python",
   "name": "python",
   "nbconvert_exporter": "python",
   "pygments_lexer": "ipython3",
   "version": "3.10.13"
  }
 },
 "nbformat": 4,
 "nbformat_minor": 5
}
