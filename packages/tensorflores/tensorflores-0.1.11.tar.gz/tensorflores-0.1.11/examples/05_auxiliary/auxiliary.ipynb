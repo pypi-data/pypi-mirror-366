{
 "cells": [
  {
   "cell_type": "markdown",
   "metadata": {},
   "source": [
    "# 1 - Auxiliary"
   ]
  },
  {
   "cell_type": "markdown",
   "metadata": {},
   "source": [
    "## 1.1 - Generate matrix to C++ format"
   ]
  },
  {
   "cell_type": "markdown",
   "metadata": {},
   "source": [
    "### 1.1.1 - Model input"
   ]
  },
  {
   "cell_type": "code",
   "execution_count": null,
   "metadata": {},
   "outputs": [],
   "source": [
    "# Seu array de entrada\n",
    "array = X_test\n",
    "\n",
    "# Gerar a matriz no formato de array C++\n",
    "output = \"float input_data[][3] = {\\n\"\n",
    "output += \",\\n\".join(\"    {\" + \", \".join(f\"{x:.8f}\" for x in row) + \"}\" for row in array)\n",
    "output += \"\\n};\"\n",
    "\n",
    "print(output)\n"
   ]
  },
  {
   "cell_type": "markdown",
   "metadata": {},
   "source": [
    "### 1.1.2 - Model output"
   ]
  },
  {
   "cell_type": "code",
   "execution_count": null,
   "metadata": {},
   "outputs": [],
   "source": [
    "output_cpp = \"float output_data[] = {\\n\"\n",
    "output_cpp += \",\\n\".join(f\"    {row[0]:.8f}\" for row in y_test)\n",
    "output_cpp += \"\\n};\"\n",
    "\n",
    "print(output_cpp)"
   ]
  },
  {
   "cell_type": "markdown",
   "metadata": {},
   "source": [
    "## 1.2 - Connect to serial port from microcontrollers"
   ]
  },
  {
   "cell_type": "code",
   "execution_count": null,
   "metadata": {},
   "outputs": [],
   "source": [
    "import serial\n",
    "import csv\n",
    "\n",
    "# Serial port configuration (adjust the port and baud rate as needed)\n",
    "ser = serial.Serial('COM3', 9600, timeout=1)\n",
    "\n",
    "# Opens a CSV file for writing\n",
    "with open('output.csv', mode='w', newline='') as file:\n",
    "    writer = csv.writer(file, delimiter=';')\n",
    "    writer.writerow([\"Real\", \"Predicted\", \"Time (us)\"])  # Writes the header\n",
    "\n",
    "    while True:\n",
    "        line = ser.readline().decode('utf-8').strip()\n",
    "        if line == \"START\":\n",
    "            print(\"Starting data capture...\")\n",
    "        elif line == \"END\":\n",
    "            print(\"Data capture completed.\")\n",
    "            break\n",
    "        else:\n",
    "            # Writes the line to the CSV file\n",
    "            writer.writerow(line.split(';'))\n",
    "\n",
    "# Closes the serial port\n",
    "ser.close()"
   ]
  }
 ],
 "metadata": {
  "kernelspec": {
   "display_name": "Python 3",
   "language": "python",
   "name": "python3"
  },
  "language_info": {
   "codemirror_mode": {
    "name": "ipython",
    "version": 3
   },
   "file_extension": ".py",
   "mimetype": "text/x-python",
   "name": "python",
   "nbconvert_exporter": "python",
   "pygments_lexer": "ipython3",
   "version": "3.9.6"
  }
 },
 "nbformat": 4,
 "nbformat_minor": 2
}
