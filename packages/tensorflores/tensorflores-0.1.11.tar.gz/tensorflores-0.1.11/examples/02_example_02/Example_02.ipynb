{
 "cells": [
  {
   "cell_type": "markdown",
   "metadata": {},
   "source": [
    "# Example 02"
   ]
  },
  {
   "cell_type": "markdown",
   "metadata": {},
   "source": [
    "## 1. Importing libraries"
   ]
  },
  {
   "cell_type": "code",
   "execution_count": 28,
   "metadata": {},
   "outputs": [],
   "source": [
    "import sys, os\n",
    "path = os.getcwd().split('\\\\examples')[0]\n",
    "sys.path.append(path)"
   ]
  },
  {
   "cell_type": "code",
   "execution_count": 29,
   "metadata": {},
   "outputs": [],
   "source": [
    "import pandas as pd\n",
    "import numpy as np\n",
    "import matplotlib.pyplot as plt\n",
    "import seaborn as sns\n",
    "from sklearn.model_selection import train_test_split\n",
    "from sklearn.preprocessing import MinMaxScaler\n",
    "from tensorflores.models.multilayer_perceptron import MultilayerPerceptron\n",
    "from tensorflores.utils.clustering import ClusteringMethods"
   ]
  },
  {
   "cell_type": "markdown",
   "metadata": {},
   "source": [
    "## 2. Load Dataset"
   ]
  },
  {
   "cell_type": "code",
   "execution_count": 30,
   "metadata": {},
   "outputs": [
    {
     "data": {
      "text/html": [
       "<div>\n",
       "<style scoped>\n",
       "    .dataframe tbody tr th:only-of-type {\n",
       "        vertical-align: middle;\n",
       "    }\n",
       "\n",
       "    .dataframe tbody tr th {\n",
       "        vertical-align: top;\n",
       "    }\n",
       "\n",
       "    .dataframe thead th {\n",
       "        text-align: right;\n",
       "    }\n",
       "</style>\n",
       "<table border=\"1\" class=\"dataframe\">\n",
       "  <thead>\n",
       "    <tr style=\"text-align: right;\">\n",
       "      <th></th>\n",
       "      <th>CO2 (g/s) [estimated maf]</th>\n",
       "      <th>CO2 (g/s) [maf]</th>\n",
       "      <th>estimated_maf</th>\n",
       "      <th>intake_pressure</th>\n",
       "      <th>intake_temperature</th>\n",
       "      <th>latitude</th>\n",
       "      <th>longitude</th>\n",
       "      <th>maf</th>\n",
       "      <th>rpm</th>\n",
       "      <th>speed</th>\n",
       "    </tr>\n",
       "  </thead>\n",
       "  <tbody>\n",
       "    <tr>\n",
       "      <th>0</th>\n",
       "      <td>0.809921</td>\n",
       "      <td>0.639659</td>\n",
       "      <td>3.798529</td>\n",
       "      <td>26.0</td>\n",
       "      <td>54.0</td>\n",
       "      <td>-5.793477</td>\n",
       "      <td>-35.198093</td>\n",
       "      <td>3.0</td>\n",
       "      <td>1568.0</td>\n",
       "      <td>43.0</td>\n",
       "    </tr>\n",
       "    <tr>\n",
       "      <th>1</th>\n",
       "      <td>1.796942</td>\n",
       "      <td>2.132196</td>\n",
       "      <td>8.427658</td>\n",
       "      <td>57.0</td>\n",
       "      <td>53.0</td>\n",
       "      <td>-5.793538</td>\n",
       "      <td>-35.198116</td>\n",
       "      <td>10.0</td>\n",
       "      <td>1582.0</td>\n",
       "      <td>43.0</td>\n",
       "    </tr>\n",
       "    <tr>\n",
       "      <th>2</th>\n",
       "      <td>2.199995</td>\n",
       "      <td>2.132196</td>\n",
       "      <td>10.317979</td>\n",
       "      <td>69.0</td>\n",
       "      <td>53.0</td>\n",
       "      <td>-5.793600</td>\n",
       "      <td>-35.198139</td>\n",
       "      <td>10.0</td>\n",
       "      <td>1600.0</td>\n",
       "      <td>43.0</td>\n",
       "    </tr>\n",
       "    <tr>\n",
       "      <th>3</th>\n",
       "      <td>1.226761</td>\n",
       "      <td>0.639659</td>\n",
       "      <td>5.753511</td>\n",
       "      <td>38.0</td>\n",
       "      <td>54.0</td>\n",
       "      <td>-5.793665</td>\n",
       "      <td>-35.198170</td>\n",
       "      <td>3.0</td>\n",
       "      <td>1625.0</td>\n",
       "      <td>44.0</td>\n",
       "    </tr>\n",
       "    <tr>\n",
       "      <th>4</th>\n",
       "      <td>0.756202</td>\n",
       "      <td>0.426439</td>\n",
       "      <td>3.546585</td>\n",
       "      <td>24.0</td>\n",
       "      <td>54.0</td>\n",
       "      <td>-5.793739</td>\n",
       "      <td>-35.198196</td>\n",
       "      <td>2.0</td>\n",
       "      <td>1586.0</td>\n",
       "      <td>45.0</td>\n",
       "    </tr>\n",
       "  </tbody>\n",
       "</table>\n",
       "</div>"
      ],
      "text/plain": [
       "   CO2 (g/s) [estimated maf]  CO2 (g/s) [maf]  estimated_maf  intake_pressure  \\\n",
       "0                   0.809921         0.639659       3.798529             26.0   \n",
       "1                   1.796942         2.132196       8.427658             57.0   \n",
       "2                   2.199995         2.132196      10.317979             69.0   \n",
       "3                   1.226761         0.639659       5.753511             38.0   \n",
       "4                   0.756202         0.426439       3.546585             24.0   \n",
       "\n",
       "   intake_temperature  latitude  longitude   maf     rpm  speed  \n",
       "0                54.0 -5.793477 -35.198093   3.0  1568.0   43.0  \n",
       "1                53.0 -5.793538 -35.198116  10.0  1582.0   43.0  \n",
       "2                53.0 -5.793600 -35.198139  10.0  1600.0   43.0  \n",
       "3                54.0 -5.793665 -35.198170   3.0  1625.0   44.0  \n",
       "4                54.0 -5.793739 -35.198196   2.0  1586.0   45.0  "
      ]
     },
     "execution_count": 30,
     "metadata": {},
     "output_type": "execute_result"
    }
   ],
   "source": [
    "df = pd.read_csv(path + '\\\\data\\\\emission_total.csv')\n",
    "df.head(5)"
   ]
  },
  {
   "cell_type": "code",
   "execution_count": 31,
   "metadata": {},
   "outputs": [],
   "source": [
    "scaler = MinMaxScaler()"
   ]
  },
  {
   "cell_type": "code",
   "execution_count": 32,
   "metadata": {},
   "outputs": [],
   "source": [
    "values_df = scaler.fit_transform(df[['intake_pressure', 'intake_temperature', 'speed', 'CO2 (g/s) [maf]']])"
   ]
  },
  {
   "cell_type": "code",
   "execution_count": 33,
   "metadata": {},
   "outputs": [],
   "source": [
    "X = values_df[:,0:3]\n",
    "y = values_df[:,3:]"
   ]
  },
  {
   "cell_type": "markdown",
   "metadata": {},
   "source": [
    "## 3. Splitting the data"
   ]
  },
  {
   "cell_type": "code",
   "execution_count": 34,
   "metadata": {},
   "outputs": [],
   "source": [
    "X_train, X_test, y_train, y_test  = train_test_split(X, y, test_size=0.2, random_state=42)"
   ]
  },
  {
   "cell_type": "code",
   "execution_count": 35,
   "metadata": {},
   "outputs": [],
   "source": [
    "y_train = y_train.reshape(-1, 1)\n",
    "y_test = y_test.reshape(-1, 1)"
   ]
  },
  {
   "cell_type": "markdown",
   "metadata": {},
   "source": [
    "## 4. Define the model"
   ]
  },
  {
   "cell_type": "markdown",
   "metadata": {},
   "source": [
    "### 4.1 Define hidden layers and neurons"
   ]
  },
  {
   "cell_type": "code",
   "execution_count": 36,
   "metadata": {},
   "outputs": [],
   "source": [
    "hidden_layer_sizes = [16, 8]             "
   ]
  },
  {
   "cell_type": "markdown",
   "metadata": {},
   "source": [
    "### 4.2 Define activaction functions"
   ]
  },
  {
   "cell_type": "code",
   "execution_count": 37,
   "metadata": {},
   "outputs": [
    {
     "data": {
      "text/plain": [
       "['relu', 'relu', 'linear']"
      ]
     },
     "execution_count": 37,
     "metadata": {},
     "output_type": "execute_result"
    }
   ],
   "source": [
    "['relu', 'relu', 'linear']"
   ]
  },
  {
   "cell_type": "code",
   "execution_count": 38,
   "metadata": {},
   "outputs": [],
   "source": [
    "activation_functions = ['relu', # Hidden layer (16 neurons)\n",
    "                        'relu', # Hidden layer (8 neurons)\n",
    "                       'linear'] # Output layer (8 neurons)"
   ]
  },
  {
   "cell_type": "markdown",
   "metadata": {},
   "source": [
    "### 4.3 Define input and output size"
   ]
  },
  {
   "cell_type": "code",
   "execution_count": 39,
   "metadata": {},
   "outputs": [],
   "source": [
    "input_size = X.shape[1]\n",
    "output_size = y.shape[1]"
   ]
  },
  {
   "cell_type": "markdown",
   "metadata": {},
   "source": [
    "### 4.4 Activates quantization-aware training"
   ]
  },
  {
   "cell_type": "code",
   "execution_count": 40,
   "metadata": {},
   "outputs": [],
   "source": [
    "training_with_quantization = True"
   ]
  },
  {
   "cell_type": "markdown",
   "metadata": {},
   "source": [
    "### 4.5 Define the type of weight initialisation"
   ]
  },
  {
   "cell_type": "code",
   "execution_count": 41,
   "metadata": {},
   "outputs": [],
   "source": [
    "weight_bias_init = 'RandomNormal'"
   ]
  },
  {
   "cell_type": "markdown",
   "metadata": {},
   "source": [
    "### 4.6 Create the TensorFlores class"
   ]
  },
  {
   "cell_type": "code",
   "execution_count": 42,
   "metadata": {},
   "outputs": [],
   "source": [
    "nn = MultilayerPerceptron(input_size = input_size,\n",
    "                            hidden_layer_sizes = hidden_layer_sizes,\n",
    "                            output_size = output_size ,\n",
    "                            activation_functions = activation_functions,\n",
    "                            weight_bias_init = weight_bias_init,\n",
    "                            training_with_quantization = training_with_quantization)\n"
   ]
  },
  {
   "cell_type": "markdown",
   "metadata": {},
   "source": [
    "### 4.7 Choose the quantization method\n",
    "\n",
    "- Autocloud \n",
    "    - bias_clustering_method = Clustering_method.autocloud_biases(threshold_biases = 1.4148)\n",
    "    - weight_clustering_method = Clustering_method.autocloud_weight(threshold_weights = 1.4148)\n",
    "\n",
    "- Meanshift\n",
    "    - weight_clustering_method = Clustering_method.meanshift_weight(bandwidth_weights = 0.005)\n",
    "    - bias_clustering_method = Clustering_method.meanshift_biases(bandwidth_biases = 0.005)\n",
    "\n",
    "- Affinity Propagation\n",
    "    - weight_clustering_method = Clustering_method.affinity_propagation_weight(affinityprop_damping_bias = 0.65)\n",
    "    - bias_clustering_method = Clustering_method.affinity_propagation_biases(affinityprop_damping_weight = 0.7)\n",
    "\n",
    "- DBSTREAM\n",
    "    - weight_clustering_method = Clustering_method.dbstream_weight(clustering_threshold_bias = 0.8)\n",
    "    - bias_clustering_method = Clustering_method.dbstream_biases(clustering_threshold_weight = 0.1)"
   ]
  },
  {
   "cell_type": "code",
   "execution_count": 43,
   "metadata": {},
   "outputs": [],
   "source": [
    "Clustering_method = ClusteringMethods()\n",
    "\n",
    "bias_clustering_method = Clustering_method.autocloud_biases(threshold_biases = 1.4148)\n",
    "weight_clustering_method = Clustering_method.autocloud_weight(threshold_weights = 1.4148)"
   ]
  },
  {
   "cell_type": "markdown",
   "metadata": {},
   "source": [
    "### 4.8 Define training epochs"
   ]
  },
  {
   "cell_type": "code",
   "execution_count": 44,
   "metadata": {},
   "outputs": [],
   "source": [
    "epochs =  100\n",
    "epochs_quantization = epochs"
   ]
  },
  {
   "cell_type": "markdown",
   "metadata": {},
   "source": [
    "### 4.9 Define the batch size"
   ]
  },
  {
   "cell_type": "code",
   "execution_count": 45,
   "metadata": {},
   "outputs": [],
   "source": [
    "batch_size = 36"
   ]
  },
  {
   "cell_type": "markdown",
   "metadata": {},
   "source": [
    "### 4.9 Define the loss function\n",
    "\n",
    "- 'mean_squared_error'\n",
    "- 'cross_entropy'\n",
    "- 'mean_absolute_error'\n",
    "- 'binary_cross_entropy'"
   ]
  },
  {
   "cell_type": "code",
   "execution_count": 46,
   "metadata": {},
   "outputs": [],
   "source": [
    "loss_function = 'mean_squared_error'"
   ]
  },
  {
   "cell_type": "markdown",
   "metadata": {},
   "source": [
    "### 4.10 Define the metric to calculate the distance between the centroids of the clusters and the values of weights and/or biases\n",
    "\n",
    "- \"euclidean\"\n",
    "- \"manhattan\"\n",
    "- \"minkowski\"\n",
    "- \"chebyshev\"\n",
    "- \"cosine\"\n",
    "- \"hamming\"\n",
    "- \"bray_curtis\"\n",
    "- \"jaccard\"\n",
    "- \"wasserstein\"\n",
    "- \"dtw\""
   ]
  },
  {
   "cell_type": "code",
   "execution_count": 47,
   "metadata": {},
   "outputs": [],
   "source": [
    "distance_metric = \"euclidean\""
   ]
  },
  {
   "cell_type": "markdown",
   "metadata": {},
   "source": [
    "### 4.10 Define the optimizer\n",
    "\n",
    "- 'sgd'\n",
    "- 'adam'\n",
    "- 'adamax'"
   ]
  },
  {
   "cell_type": "code",
   "execution_count": 48,
   "metadata": {},
   "outputs": [],
   "source": [
    "optimizer = 'sgd'"
   ]
  },
  {
   "cell_type": "code",
   "execution_count": 49,
   "metadata": {},
   "outputs": [
    {
     "name": "stdout",
     "output_type": "stream",
     "text": [
      "Epoch 1/100, Loss: 0.06288498358441881, Val Loss: 0.05490061228506188\n",
      "Epoch 1/100, Loss: 0.31800017059947305, Val Loss: 0.5368861299682344, Bias Clusters: 5, Weight Clusters: 7\n",
      "Epoch 2/100, Loss: 1.289711272327334, Val Loss: 5.299004021177818, Bias Clusters: 3, Weight Clusters: 9\n",
      "Epoch 3/100, Loss: 3.5298443261420456, Val Loss: 0.7942113128835435, Bias Clusters: 3, Weight Clusters: 11\n",
      "Epoch 4/100, Loss: 2.082276202347237, Val Loss: 0.03852943063676232, Bias Clusters: 3, Weight Clusters: 11\n",
      "Epoch 5/100, Loss: 0.09325913919328865, Val Loss: 0.03888157579773015, Bias Clusters: 4, Weight Clusters: 11\n",
      "Epoch 6/100, Loss: 0.05602386130266567, Val Loss: 0.03828214011054782, Bias Clusters: 4, Weight Clusters: 9\n",
      "Epoch 7/100, Loss: 0.054389663404545686, Val Loss: 0.03803880492806364, Bias Clusters: 4, Weight Clusters: 9\n",
      "Epoch 8/100, Loss: 0.06506102701885502, Val Loss: 0.04429496726884342, Bias Clusters: 4, Weight Clusters: 9\n",
      "Epoch 9/100, Loss: 0.1875646430099716, Val Loss: 0.036705740833464305, Bias Clusters: 4, Weight Clusters: 9\n",
      "Epoch 10/100, Loss: 0.09651213591121424, Val Loss: 0.037761957886971426, Bias Clusters: 4, Weight Clusters: 9\n",
      "Epoch 11/100, Loss: 0.06693689774271014, Val Loss: 0.04244700576080974, Bias Clusters: 4, Weight Clusters: 9\n",
      "Epoch 12/100, Loss: 0.10187777517894314, Val Loss: 0.04207931777077461, Bias Clusters: 4, Weight Clusters: 9\n",
      "Epoch 13/100, Loss: 0.05004256615212996, Val Loss: 0.039757405524790346, Bias Clusters: 3, Weight Clusters: 9\n",
      "Epoch 14/100, Loss: 0.04518555505346376, Val Loss: 0.03851434686775111, Bias Clusters: 4, Weight Clusters: 9\n",
      "Epoch 15/100, Loss: 0.08563031482956152, Val Loss: 0.038107460340005235, Bias Clusters: 4, Weight Clusters: 9\n",
      "Epoch 16/100, Loss: 0.1079117934117613, Val Loss: 0.039031776159584156, Bias Clusters: 4, Weight Clusters: 9\n",
      "Epoch 17/100, Loss: 0.06331033723834845, Val Loss: 0.039039206293908155, Bias Clusters: 4, Weight Clusters: 9\n",
      "Epoch 18/100, Loss: 0.11505168670880064, Val Loss: 0.04073750327768975, Bias Clusters: 4, Weight Clusters: 9\n",
      "Epoch 19/100, Loss: 0.06311311992180846, Val Loss: 0.04012063725931074, Bias Clusters: 4, Weight Clusters: 9\n",
      "Epoch 20/100, Loss: 0.028045077172808883, Val Loss: 0.040795994547977416, Bias Clusters: 4, Weight Clusters: 9\n",
      "Epoch 21/100, Loss: 0.03752264749327411, Val Loss: 0.04037200775963046, Bias Clusters: 4, Weight Clusters: 9\n",
      "Epoch 22/100, Loss: 0.06102216776990346, Val Loss: 0.04100743861847995, Bias Clusters: 4, Weight Clusters: 9\n",
      "Epoch 23/100, Loss: 0.07177134851182206, Val Loss: 0.04078266617625986, Bias Clusters: 4, Weight Clusters: 9\n",
      "Epoch 24/100, Loss: 0.04081254429835867, Val Loss: 0.04137707839491112, Bias Clusters: 4, Weight Clusters: 9\n",
      "Epoch 25/100, Loss: 0.04791945851831096, Val Loss: 0.04136850114351498, Bias Clusters: 4, Weight Clusters: 9\n",
      "Epoch 26/100, Loss: 0.04484295497024879, Val Loss: 0.04191165958868348, Bias Clusters: 4, Weight Clusters: 9\n",
      "Epoch 27/100, Loss: 0.05780869098066655, Val Loss: 0.04268322544245861, Bias Clusters: 4, Weight Clusters: 8\n",
      "Epoch 28/100, Loss: 0.03828119094849198, Val Loss: 0.04231933111053778, Bias Clusters: 4, Weight Clusters: 10\n",
      "Epoch 29/100, Loss: 0.04771848659963607, Val Loss: 0.04202387251141977, Bias Clusters: 4, Weight Clusters: 10\n",
      "Epoch 30/100, Loss: 0.03105445159561097, Val Loss: 0.04179195774390078, Bias Clusters: 4, Weight Clusters: 10\n",
      "Epoch 31/100, Loss: 0.06637059319026026, Val Loss: 0.04223929425359227, Bias Clusters: 4, Weight Clusters: 9\n",
      "Epoch 32/100, Loss: 0.06540189924246434, Val Loss: 0.043440636016305996, Bias Clusters: 4, Weight Clusters: 8\n",
      "Epoch 33/100, Loss: 0.035741385861487285, Val Loss: 0.04532643995748586, Bias Clusters: 4, Weight Clusters: 8\n",
      "Epoch 34/100, Loss: 0.05275772886756304, Val Loss: 0.04710821131304613, Bias Clusters: 4, Weight Clusters: 8\n",
      "Epoch 35/100, Loss: 0.042877516959975284, Val Loss: 0.04967979882020336, Bias Clusters: 4, Weight Clusters: 8\n",
      "Epoch 36/100, Loss: 0.047114995716812366, Val Loss: 0.0532519858476256, Bias Clusters: 4, Weight Clusters: 8\n",
      "Epoch 37/100, Loss: 0.03863111453674188, Val Loss: 0.058104459909798324, Bias Clusters: 4, Weight Clusters: 8\n",
      "Epoch 38/100, Loss: 0.05465747027511711, Val Loss: 0.06444618022654229, Bias Clusters: 4, Weight Clusters: 8\n",
      "Epoch 39/100, Loss: 0.06669161411523648, Val Loss: 0.07231984783485049, Bias Clusters: 4, Weight Clusters: 8\n",
      "Epoch 40/100, Loss: 0.03670532379837915, Val Loss: 0.08226167080532534, Bias Clusters: 3, Weight Clusters: 8\n",
      "Epoch 41/100, Loss: 0.061187357869823475, Val Loss: 0.09450546519185629, Bias Clusters: 4, Weight Clusters: 8\n",
      "Epoch 42/100, Loss: 0.0521997215805773, Val Loss: 0.10935248559928955, Bias Clusters: 4, Weight Clusters: 8\n",
      "Epoch 43/100, Loss: 0.02824496652015521, Val Loss: 0.1270873799747671, Bias Clusters: 4, Weight Clusters: 8\n",
      "Epoch 44/100, Loss: 0.10460415210538446, Val Loss: 0.07880113919048899, Bias Clusters: 4, Weight Clusters: 8\n",
      "Epoch 45/100, Loss: 0.04648035827433488, Val Loss: 0.09068380246009664, Bias Clusters: 4, Weight Clusters: 8\n",
      "Epoch 46/100, Loss: 0.051396482772505706, Val Loss: 0.10520210521010002, Bias Clusters: 4, Weight Clusters: 8\n",
      "Epoch 47/100, Loss: 0.07097292574955077, Val Loss: 0.12263563681524596, Bias Clusters: 4, Weight Clusters: 8\n",
      "Epoch 48/100, Loss: 0.07410995734371106, Val Loss: 0.0758338126353371, Bias Clusters: 4, Weight Clusters: 8\n",
      "Epoch 49/100, Loss: 0.04103981619159655, Val Loss: 0.08739354830719857, Bias Clusters: 4, Weight Clusters: 8\n",
      "Epoch 50/100, Loss: 0.0391905594459936, Val Loss: 0.10161959064504023, Bias Clusters: 4, Weight Clusters: 8\n",
      "Epoch 51/100, Loss: 0.12241343457658514, Val Loss: 0.06672166877918728, Bias Clusters: 4, Weight Clusters: 8\n",
      "Epoch 52/100, Loss: 0.25926313777436627, Val Loss: 0.04240559993022835, Bias Clusters: 4, Weight Clusters: 9\n",
      "Epoch 53/100, Loss: 0.0464880802425505, Val Loss: 0.04245109428991677, Bias Clusters: 4, Weight Clusters: 9\n",
      "Epoch 54/100, Loss: 0.04506112901674443, Val Loss: 0.04291406658828758, Bias Clusters: 3, Weight Clusters: 9\n",
      "Epoch 55/100, Loss: 0.0387756021419417, Val Loss: 0.04340379239728235, Bias Clusters: 3, Weight Clusters: 9\n",
      "Epoch 56/100, Loss: 0.028133962921015665, Val Loss: 0.04391356430950948, Bias Clusters: 3, Weight Clusters: 9\n",
      "Epoch 57/100, Loss: 0.014395820790131655, Val Loss: 0.04386064172319316, Bias Clusters: 3, Weight Clusters: 9\n",
      "Epoch 58/100, Loss: 0.05023702916222854, Val Loss: 0.044308690830568306, Bias Clusters: 3, Weight Clusters: 9\n",
      "Epoch 59/100, Loss: 0.08078417803495647, Val Loss: 0.04473467258090639, Bias Clusters: 3, Weight Clusters: 9\n",
      "Epoch 60/100, Loss: 0.05514849911467465, Val Loss: 0.044623694189881075, Bias Clusters: 3, Weight Clusters: 9\n",
      "Epoch 61/100, Loss: 0.024811408652177853, Val Loss: 0.04503394861181968, Bias Clusters: 3, Weight Clusters: 9\n",
      "Epoch 62/100, Loss: 0.0401749135462381, Val Loss: 0.04489025741600262, Bias Clusters: 3, Weight Clusters: 9\n",
      "Epoch 63/100, Loss: 0.05498830051397071, Val Loss: 0.0458680538227873, Bias Clusters: 3, Weight Clusters: 9\n",
      "Epoch 64/100, Loss: 0.03888528280629471, Val Loss: 0.045668400452407935, Bias Clusters: 3, Weight Clusters: 9\n",
      "Epoch 65/100, Loss: 0.0497701054770332, Val Loss: 0.04604356245541776, Bias Clusters: 3, Weight Clusters: 9\n",
      "Epoch 66/100, Loss: 0.046911892025344556, Val Loss: 0.04633928295394444, Bias Clusters: 3, Weight Clusters: 9\n",
      "Epoch 67/100, Loss: 0.03345403263834698, Val Loss: 0.04671036231854441, Bias Clusters: 2, Weight Clusters: 9\n",
      "Epoch 68/100, Loss: 0.0845642543769198, Val Loss: 0.046769024927176134, Bias Clusters: 3, Weight Clusters: 9\n",
      "Epoch 69/100, Loss: 0.059316806410076, Val Loss: 0.0470704495852366, Bias Clusters: 3, Weight Clusters: 9\n",
      "Epoch 70/100, Loss: 0.04192302094813004, Val Loss: 0.04678324513238297, Bias Clusters: 3, Weight Clusters: 9\n",
      "Epoch 71/100, Loss: 0.05036502498355353, Val Loss: 0.04696186276127183, Bias Clusters: 3, Weight Clusters: 9\n",
      "Epoch 72/100, Loss: 0.06441366571501003, Val Loss: 0.04709273885973596, Bias Clusters: 3, Weight Clusters: 9\n",
      "Epoch 73/100, Loss: 0.0677137981765149, Val Loss: 0.046548171949878155, Bias Clusters: 3, Weight Clusters: 9\n",
      "Epoch 74/100, Loss: 0.05630546077741151, Val Loss: 0.04663023741221732, Bias Clusters: 3, Weight Clusters: 9\n",
      "Epoch 75/100, Loss: 0.05211058020997615, Val Loss: 0.045972357662527885, Bias Clusters: 3, Weight Clusters: 9\n",
      "Epoch 76/100, Loss: 0.05816261291693429, Val Loss: 0.04600052250992845, Bias Clusters: 3, Weight Clusters: 9\n",
      "Epoch 77/100, Loss: 0.0466039023471555, Val Loss: 0.04530448767242759, Bias Clusters: 3, Weight Clusters: 9\n",
      "Epoch 78/100, Loss: 0.028047914690303443, Val Loss: 0.04524285749616132, Bias Clusters: 3, Weight Clusters: 9\n",
      "Epoch 79/100, Loss: 0.04462891804559051, Val Loss: 0.045186938721984635, Bias Clusters: 3, Weight Clusters: 9\n",
      "Epoch 80/100, Loss: 0.04995341881337395, Val Loss: 0.04434378234094218, Bias Clusters: 3, Weight Clusters: 9\n",
      "Epoch 81/100, Loss: 0.021375489342962718, Val Loss: 0.0442621933273027, Bias Clusters: 3, Weight Clusters: 9\n",
      "Epoch 82/100, Loss: 0.037943296070894285, Val Loss: 0.043310173397995394, Bias Clusters: 3, Weight Clusters: 9\n",
      "Epoch 83/100, Loss: 0.01990606908764403, Val Loss: 0.0428017180193522, Bias Clusters: 3, Weight Clusters: 9\n",
      "Epoch 84/100, Loss: 0.019726976409758082, Val Loss: 0.03925714477191603, Bias Clusters: 3, Weight Clusters: 9\n",
      "Epoch 85/100, Loss: 0.05955066256524787, Val Loss: 0.04158163485676042, Bias Clusters: 3, Weight Clusters: 9\n",
      "Epoch 86/100, Loss: 0.014344132605119941, Val Loss: 0.036863628135998, Bias Clusters: 3, Weight Clusters: 9\n",
      "Epoch 87/100, Loss: 0.020959596463276983, Val Loss: 0.030834146475063943, Bias Clusters: 3, Weight Clusters: 9\n",
      "Epoch 88/100, Loss: 0.027322756228738004, Val Loss: 0.024639542369041232, Bias Clusters: 3, Weight Clusters: 9\n",
      "Epoch 89/100, Loss: 0.04279521842088843, Val Loss: 0.027496853109033156, Bias Clusters: 3, Weight Clusters: 9\n",
      "Epoch 90/100, Loss: 0.024267857978373546, Val Loss: 0.02133090133219914, Bias Clusters: 3, Weight Clusters: 9\n",
      "Epoch 91/100, Loss: 0.027271876824561867, Val Loss: 0.016213416874848764, Bias Clusters: 3, Weight Clusters: 9\n",
      "Epoch 92/100, Loss: 0.015565498259188237, Val Loss: 0.013713903033261836, Bias Clusters: 3, Weight Clusters: 9\n",
      "Epoch 93/100, Loss: 0.14419362236250605, Val Loss: 0.03984562152796881, Bias Clusters: 3, Weight Clusters: 10\n",
      "Epoch 94/100, Loss: 0.01848379394935027, Val Loss: 0.03405316263578477, Bias Clusters: 3, Weight Clusters: 10\n",
      "Epoch 95/100, Loss: 0.03193255999256565, Val Loss: 0.0279077222272142, Bias Clusters: 3, Weight Clusters: 9\n",
      "Epoch 96/100, Loss: 0.013104644240180641, Val Loss: 0.02180774304083786, Bias Clusters: 3, Weight Clusters: 9\n",
      "Epoch 97/100, Loss: 0.021654360523310448, Val Loss: 0.016389259163996774, Bias Clusters: 3, Weight Clusters: 9\n",
      "Epoch 98/100, Loss: 0.02508342951413244, Val Loss: 0.015916566022212215, Bias Clusters: 3, Weight Clusters: 9\n",
      "Epoch 99/100, Loss: 0.03577799607534217, Val Loss: 0.012489889233485962, Bias Clusters: 3, Weight Clusters: 9\n"
     ]
    }
   ],
   "source": [
    "nn.train(X = X_train, \n",
    "         y = y_train,\n",
    "         epochs = epochs, \n",
    "         learning_rate = 0.0001,\n",
    "         loss_function=loss_function, \n",
    "         optimizer=optimizer, \n",
    "         batch_size=batch_size, \n",
    "         epochs_quantization = epochs_quantization,\n",
    "         distance_metric = distance_metric, \n",
    "         bias_clustering_method = bias_clustering_method,\n",
    "         weight_clustering_method = weight_clustering_method,\n",
    "         validation_split = 0.2)"
   ]
  },
  {
   "cell_type": "code",
   "execution_count": 50,
   "metadata": {},
   "outputs": [],
   "source": [
    "error = nn.predict(X_test) - y_test"
   ]
  },
  {
   "cell_type": "code",
   "execution_count": 51,
   "metadata": {},
   "outputs": [
    {
     "data": {
      "image/png": "[encoded data removed]",
      "text/plain": [
       "<Figure size 800x600 with 1 Axes>"
      ]
     },
     "metadata": {},
     "output_type": "display_data"
    }
   ],
   "source": [
    "# Estatísticas\n",
    "error_mean = np.mean(error)\n",
    "error_std = np.std(error)\n",
    "error_max = np.max(error)\n",
    "error_min = np.min(error)\n",
    "\n",
    "# Criando a figura e os eixos\n",
    "fig, ax = plt.subplots(figsize=(8, 6))\n",
    "\n",
    "# Estilo do gráfico\n",
    "plt.style.use('ggplot')\n",
    "\n",
    "# Plotando histograma com KDE (Densidade) sem legenda\n",
    "sns.histplot(error, bins=30, color='coral', edgecolor='black', stat=\"density\", kde=True, legend=False, ax=ax)\n",
    "\n",
    "# Configuração dos eixos\n",
    "ax.set_xlabel('Error', fontsize=14)\n",
    "ax.set_ylabel('Density', fontsize=14)\n",
    "#ax.set_title('Error Distribution', fontsize=15)\n",
    "ax.tick_params(labelsize=14)\n",
    "ax.grid(True)\n",
    "\n",
    "# Definindo limites do eixo X\n",
    "#ax.set_xlim(error_min, error_max)\n",
    "\n",
    "# Exibir os valores estatísticos no gráfico\n",
    "textstr = '\\n'.join((\n",
    "    f'Max: {error_max:.4f}',\n",
    "    f'Min: {error_min:.4f}',\n",
    "    f'Mean: {error_mean:.4f}',\n",
    "    f'2x Std: {2 * error_std:.4f}'\n",
    "))\n",
    "props = dict(boxstyle='round', facecolor='gray', alpha=0.5)\n",
    "ax.text(0.95, 0.95, textstr, transform=ax.transAxes, fontsize=12,\n",
    "        verticalalignment='top', horizontalalignment='right', bbox=props)\n",
    "\n",
    "plt.savefig('./figures/example_02.pdf', bbox_inches='tight', pad_inches=0, dpi=300)\n",
    "# Exibir gráfico\n",
    "plt.show()"
   ]
  },
  {
   "cell_type": "markdown",
   "metadata": {},
   "source": [
    "### 4.11 Save model as C++"
   ]
  },
  {
   "cell_type": "code",
   "execution_count": 52,
   "metadata": {},
   "outputs": [
    {
     "name": "stdout",
     "output_type": "stream",
     "text": [
      "Model C++ saved!\n"
     ]
    }
   ],
   "source": [
    "nn.save_model_as_cpp('./tensorflores_QAT_Autocloud')"
   ]
  },
  {
   "cell_type": "markdown",
   "metadata": {},
   "source": [
    "### 4.12 Save model as json"
   ]
  },
  {
   "cell_type": "code",
   "execution_count": 53,
   "metadata": {},
   "outputs": [
    {
     "name": "stdout",
     "output_type": "stream",
     "text": [
      "Model saved successfully as './tensorflores_QAT_Autocloud.json'!\n"
     ]
    }
   ],
   "source": [
    "nn.save_model_as_json('./tensorflores_QAT_Autocloud')"
   ]
  },
  {
   "cell_type": "markdown",
   "metadata": {},
   "source": [
    "### 4.12 Load model from json"
   ]
  },
  {
   "cell_type": "code",
   "execution_count": 54,
   "metadata": {},
   "outputs": [
    {
     "name": "stdout",
     "output_type": "stream",
     "text": [
      "Successfully loaded JSON file: ./tensorflores_QAT_Autocloud.json\n"
     ]
    },
    {
     "data": {
      "text/plain": [
       "{'model_quantized': True,\n",
       " 'num_layers': 3,\n",
       " 'layers': [{'activation': 'relu',\n",
       "   'weights': [[0, 6, 6, 0, 3, 6, 1, 1, 0, 1, 0, 0, 7, 8, 8, 0],\n",
       "    [6, 2, 0, 3, 6, 0, 0, 2, 0, 1, 6, 0, 0, 0, 0, 8],\n",
       "    [0, 8, 0, 6, 1, 1, 2, 1, 1, 2, 2, 0, 0, 6, 2, 2]],\n",
       "   'biases': [2, 2, 2, 1, 0, 0, 1, 1, 2, 1, 0, 2, 0, 0, 2, 1]},\n",
       "  {'activation': 'relu',\n",
       "   'weights': [[6, 5, 2, 8, 6, 0, 8, 8],\n",
       "    [0, 7, 2, 0, 8, 6, 1, 0],\n",
       "    [8, 6, 6, 8, 6, 1, 6, 6],\n",
       "    [0, 3, 3, 4, 6, 0, 6, 7],\n",
       "    [6, 6, 0, 8, 8, 8, 0, 0],\n",
       "    [6, 6, 8, 0, 2, 6, 0, 0],\n",
       "    [1, 6, 3, 3, 6, 2, 1, 3],\n",
       "    [8, 2, 2, 4, 0, 0, 0, 5],\n",
       "    [6, 0, 6, 5, 6, 0, 4, 4],\n",
       "    [3, 1, 0, 8, 8, 6, 0, 0],\n",
       "    [0, 6, 8, 4, 8, 4, 0, 6],\n",
       "    [1, 0, 4, 4, 0, 0, 8, 6],\n",
       "    [0, 0, 8, 0, 4, 6, 7, 7],\n",
       "    [6, 8, 6, 8, 6, 5, 0, 0],\n",
       "    [2, 6, 0, 0, 1, 6, 8, 8],\n",
       "    [1, 0, 0, 2, 5, 8, 0, 0]],\n",
       "   'biases': [0, 0, 0, 1, 2, 0, 2, 0]},\n",
       "  {'activation': 'linear',\n",
       "   'weights': [[6], [8], [0], [8], [0], [0], [6], [8]],\n",
       "   'biases': [2]}],\n",
       " 'centers_bias': [-0.003076801320526642,\n",
       "  0.016718890732474484,\n",
       "  -0.012545546282279465],\n",
       " 'centers_weights': [-0.03278433166048851,\n",
       "  -0.9289895372711547,\n",
       "  -1.940861781673081,\n",
       "  -1.434814908572797,\n",
       "  1.9116050989404338,\n",
       "  1.1623880597123224,\n",
       "  -0.8888332538018183,\n",
       "  -1.2794115454669592,\n",
       "  0.7939062206044778]}"
      ]
     },
     "execution_count": 54,
     "metadata": {},
     "output_type": "execute_result"
    }
   ],
   "source": [
    "json_data = nn.load_json_model('./tensorflores_QAT_Autocloud')\n",
    "json_data"
   ]
  }
 ],
 "metadata": {
  "kernelspec": {
   "display_name": "Python 3",
   "language": "python",
   "name": "python3"
  },
  "language_info": {
   "codemirror_mode": {
    "name": "ipython",
    "version": 3
   },
   "file_extension": ".py",
   "mimetype": "text/x-python",
   "name": "python",
   "nbconvert_exporter": "python",
   "pygments_lexer": "ipython3",
   "version": "3.9.6"
  }
 },
 "nbformat": 4,
 "nbformat_minor": 2
}
