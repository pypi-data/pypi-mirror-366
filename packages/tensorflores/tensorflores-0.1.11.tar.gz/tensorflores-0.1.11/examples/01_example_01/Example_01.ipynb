{
 "cells": [
  {
   "cell_type": "markdown",
   "metadata": {},
   "source": [
    "# TensorFlores - Example 01"
   ]
  },
  {
   "cell_type": "markdown",
   "metadata": {},
   "source": [
    "## 1. Importing libraries"
   ]
  },
  {
   "cell_type": "code",
   "execution_count": 51,
   "metadata": {},
   "outputs": [],
   "source": [
    "import sys, os\n",
    "path = os.getcwd().split('\\\\examples')[0]\n",
    "sys.path.append(path)"
   ]
  },
  {
   "cell_type": "code",
   "execution_count": 52,
   "metadata": {},
   "outputs": [],
   "source": [
    "import pandas as pd\n",
    "import numpy as np\n",
    "import matplotlib.pyplot as plt\n",
    "import seaborn as sns\n",
    "from sklearn.model_selection import train_test_split\n",
    "from sklearn.preprocessing import MinMaxScaler\n",
    "from tensorflores.models.multilayer_perceptron import MultilayerPerceptron"
   ]
  },
  {
   "cell_type": "markdown",
   "metadata": {},
   "source": [
    "## 2. Load Dataset"
   ]
  },
  {
   "cell_type": "code",
   "execution_count": 53,
   "metadata": {},
   "outputs": [
    {
     "data": {
      "text/html": [
       "<div>\n",
       "<style scoped>\n",
       "    .dataframe tbody tr th:only-of-type {\n",
       "        vertical-align: middle;\n",
       "    }\n",
       "\n",
       "    .dataframe tbody tr th {\n",
       "        vertical-align: top;\n",
       "    }\n",
       "\n",
       "    .dataframe thead th {\n",
       "        text-align: right;\n",
       "    }\n",
       "</style>\n",
       "<table border=\"1\" class=\"dataframe\">\n",
       "  <thead>\n",
       "    <tr style=\"text-align: right;\">\n",
       "      <th></th>\n",
       "      <th>CO2 (g/s) [estimated maf]</th>\n",
       "      <th>CO2 (g/s) [maf]</th>\n",
       "      <th>estimated_maf</th>\n",
       "      <th>intake_pressure</th>\n",
       "      <th>intake_temperature</th>\n",
       "      <th>latitude</th>\n",
       "      <th>longitude</th>\n",
       "      <th>maf</th>\n",
       "      <th>rpm</th>\n",
       "      <th>speed</th>\n",
       "    </tr>\n",
       "  </thead>\n",
       "  <tbody>\n",
       "    <tr>\n",
       "      <th>0</th>\n",
       "      <td>0.809921</td>\n",
       "      <td>0.639659</td>\n",
       "      <td>3.798529</td>\n",
       "      <td>26.0</td>\n",
       "      <td>54.0</td>\n",
       "      <td>-5.793477</td>\n",
       "      <td>-35.198093</td>\n",
       "      <td>3.0</td>\n",
       "      <td>1568.0</td>\n",
       "      <td>43.0</td>\n",
       "    </tr>\n",
       "    <tr>\n",
       "      <th>1</th>\n",
       "      <td>1.796942</td>\n",
       "      <td>2.132196</td>\n",
       "      <td>8.427658</td>\n",
       "      <td>57.0</td>\n",
       "      <td>53.0</td>\n",
       "      <td>-5.793538</td>\n",
       "      <td>-35.198116</td>\n",
       "      <td>10.0</td>\n",
       "      <td>1582.0</td>\n",
       "      <td>43.0</td>\n",
       "    </tr>\n",
       "    <tr>\n",
       "      <th>2</th>\n",
       "      <td>2.199995</td>\n",
       "      <td>2.132196</td>\n",
       "      <td>10.317979</td>\n",
       "      <td>69.0</td>\n",
       "      <td>53.0</td>\n",
       "      <td>-5.793600</td>\n",
       "      <td>-35.198139</td>\n",
       "      <td>10.0</td>\n",
       "      <td>1600.0</td>\n",
       "      <td>43.0</td>\n",
       "    </tr>\n",
       "    <tr>\n",
       "      <th>3</th>\n",
       "      <td>1.226761</td>\n",
       "      <td>0.639659</td>\n",
       "      <td>5.753511</td>\n",
       "      <td>38.0</td>\n",
       "      <td>54.0</td>\n",
       "      <td>-5.793665</td>\n",
       "      <td>-35.198170</td>\n",
       "      <td>3.0</td>\n",
       "      <td>1625.0</td>\n",
       "      <td>44.0</td>\n",
       "    </tr>\n",
       "    <tr>\n",
       "      <th>4</th>\n",
       "      <td>0.756202</td>\n",
       "      <td>0.426439</td>\n",
       "      <td>3.546585</td>\n",
       "      <td>24.0</td>\n",
       "      <td>54.0</td>\n",
       "      <td>-5.793739</td>\n",
       "      <td>-35.198196</td>\n",
       "      <td>2.0</td>\n",
       "      <td>1586.0</td>\n",
       "      <td>45.0</td>\n",
       "    </tr>\n",
       "  </tbody>\n",
       "</table>\n",
       "</div>"
      ],
      "text/plain": [
       "   CO2 (g/s) [estimated maf]  CO2 (g/s) [maf]  estimated_maf  intake_pressure  \\\n",
       "0                   0.809921         0.639659       3.798529             26.0   \n",
       "1                   1.796942         2.132196       8.427658             57.0   \n",
       "2                   2.199995         2.132196      10.317979             69.0   \n",
       "3                   1.226761         0.639659       5.753511             38.0   \n",
       "4                   0.756202         0.426439       3.546585             24.0   \n",
       "\n",
       "   intake_temperature  latitude  longitude   maf     rpm  speed  \n",
       "0                54.0 -5.793477 -35.198093   3.0  1568.0   43.0  \n",
       "1                53.0 -5.793538 -35.198116  10.0  1582.0   43.0  \n",
       "2                53.0 -5.793600 -35.198139  10.0  1600.0   43.0  \n",
       "3                54.0 -5.793665 -35.198170   3.0  1625.0   44.0  \n",
       "4                54.0 -5.793739 -35.198196   2.0  1586.0   45.0  "
      ]
     },
     "execution_count": 53,
     "metadata": {},
     "output_type": "execute_result"
    }
   ],
   "source": [
    "df = pd.read_csv(path + '\\\\data\\\\emission_total.csv')\n",
    "df.head(5)"
   ]
  },
  {
   "cell_type": "code",
   "execution_count": 54,
   "metadata": {},
   "outputs": [],
   "source": [
    "scaler = MinMaxScaler()"
   ]
  },
  {
   "cell_type": "code",
   "execution_count": 55,
   "metadata": {},
   "outputs": [],
   "source": [
    "values_df = scaler.fit_transform(df[['intake_pressure', 'intake_temperature', 'speed', 'CO2 (g/s) [maf]']])"
   ]
  },
  {
   "cell_type": "code",
   "execution_count": 56,
   "metadata": {},
   "outputs": [],
   "source": [
    "X = values_df[:,0:3]\n",
    "y = values_df[:,3:]"
   ]
  },
  {
   "cell_type": "markdown",
   "metadata": {},
   "source": [
    "## 3. Splitting the data"
   ]
  },
  {
   "cell_type": "code",
   "execution_count": 57,
   "metadata": {},
   "outputs": [],
   "source": [
    "X_train, X_test, y_train, y_test  = train_test_split(X, y, test_size=0.2, random_state=42)"
   ]
  },
  {
   "cell_type": "code",
   "execution_count": 58,
   "metadata": {},
   "outputs": [],
   "source": [
    "y_train = y_train.reshape(-1, 1)\n",
    "y_test = y_test.reshape(-1, 1)"
   ]
  },
  {
   "cell_type": "markdown",
   "metadata": {},
   "source": [
    "## 4. Define the model"
   ]
  },
  {
   "cell_type": "markdown",
   "metadata": {},
   "source": [
    "### 4.1 Define hidden layers and neurons"
   ]
  },
  {
   "cell_type": "code",
   "execution_count": 59,
   "metadata": {},
   "outputs": [],
   "source": [
    "hidden_layer_sizes = [16, 8]             "
   ]
  },
  {
   "cell_type": "markdown",
   "metadata": {},
   "source": [
    "### 4.2 Define activaction functions"
   ]
  },
  {
   "cell_type": "code",
   "execution_count": 60,
   "metadata": {},
   "outputs": [],
   "source": [
    "activation_functions = ['relu', # Hidden layer (16 neurons)\n",
    "                        'relu', # Hidden layer (8 neurons)\n",
    "                       'linear'] # Output layer (8 neurons)"
   ]
  },
  {
   "cell_type": "markdown",
   "metadata": {},
   "source": [
    "### 4.3 Define input and output size"
   ]
  },
  {
   "cell_type": "code",
   "execution_count": 61,
   "metadata": {},
   "outputs": [],
   "source": [
    "input_size = X.shape[1]\n",
    "output_size = y.shape[1]"
   ]
  },
  {
   "cell_type": "markdown",
   "metadata": {},
   "source": [
    "### 4.4 Disable quantization-aware training"
   ]
  },
  {
   "cell_type": "code",
   "execution_count": 62,
   "metadata": {},
   "outputs": [],
   "source": [
    "training_with_quantization = False"
   ]
  },
  {
   "cell_type": "markdown",
   "metadata": {},
   "source": [
    "### 4.5 Define the type of weight and bias initialisation"
   ]
  },
  {
   "cell_type": "code",
   "execution_count": 63,
   "metadata": {},
   "outputs": [],
   "source": [
    "weight_bias_init = 'RandomNormal'"
   ]
  },
  {
   "cell_type": "markdown",
   "metadata": {},
   "source": [
    "### 4.6 Create the TensorFlores class"
   ]
  },
  {
   "cell_type": "code",
   "execution_count": 64,
   "metadata": {},
   "outputs": [],
   "source": [
    "nn = MultilayerPerceptron()"
   ]
  },
  {
   "cell_type": "code",
   "execution_count": null,
   "metadata": {},
   "outputs": [],
   "source": [
    "nn = MultilayerPerceptron(input_size = input_size,\n",
    "                            hidden_layer_sizes = hidden_layer_sizes,\n",
    "                            output_size = output_size ,\n",
    "                            activation_functions = activation_functions,\n",
    "                            weight_bias_init = weight_bias_init,\n",
    "                            training_with_quantization = training_with_quantization)\n"
   ]
  },
  {
   "cell_type": "markdown",
   "metadata": {},
   "source": [
    "### 4.7 Define training epochs"
   ]
  },
  {
   "cell_type": "code",
   "execution_count": 66,
   "metadata": {},
   "outputs": [],
   "source": [
    "epochs =  100"
   ]
  },
  {
   "cell_type": "markdown",
   "metadata": {},
   "source": [
    "### 4.8 Define the batch size"
   ]
  },
  {
   "cell_type": "code",
   "execution_count": 67,
   "metadata": {},
   "outputs": [],
   "source": [
    "batch_size = 36"
   ]
  },
  {
   "cell_type": "markdown",
   "metadata": {},
   "source": [
    "### 4.9 Define the loss function\n",
    "\n",
    "- 'mean_squared_error'\n",
    "- 'cross_entropy'\n",
    "- 'mean_absolute_error'\n",
    "- 'binary_cross_entropy'"
   ]
  },
  {
   "cell_type": "code",
   "execution_count": 68,
   "metadata": {},
   "outputs": [],
   "source": [
    "loss_function = 'mean_squared_error'"
   ]
  },
  {
   "cell_type": "markdown",
   "metadata": {},
   "source": [
    "### 4.10 Define the optimizer\n",
    "\n",
    "- 'sgd'\n",
    "- 'adam'\n",
    "- 'adamax'"
   ]
  },
  {
   "cell_type": "code",
   "execution_count": 69,
   "metadata": {},
   "outputs": [],
   "source": [
    "optimizer = 'adamax'"
   ]
  },
  {
   "cell_type": "code",
   "execution_count": 70,
   "metadata": {},
   "outputs": [
    {
     "name": "stdout",
     "output_type": "stream",
     "text": [
      "Epoch 1/100, Loss: 4.980334507028221, Val Loss: 6.068478669945784\n",
      "Epoch 2/100, Loss: 6.449942856171793, Val Loss: 5.765686621670924\n",
      "Epoch 3/100, Loss: 5.202196986127552, Val Loss: 5.471448067207313\n",
      "Epoch 4/100, Loss: 4.755974351431409, Val Loss: 5.1856358715448705\n",
      "Epoch 5/100, Loss: 4.889328812304896, Val Loss: 4.908327858315233\n",
      "Epoch 6/100, Loss: 4.444049816653745, Val Loss: 4.639351104017617\n",
      "Epoch 7/100, Loss: 3.3039428346388684, Val Loss: 4.378847661942551\n",
      "Epoch 8/100, Loss: 4.146735264920364, Val Loss: 4.1267656130942\n",
      "Epoch 9/100, Loss: 4.416974011952309, Val Loss: 3.8830652514162654\n",
      "Epoch 10/100, Loss: 2.748770914241069, Val Loss: 3.6477215033569124\n",
      "Epoch 11/100, Loss: 4.294589447450711, Val Loss: 3.420754844547108\n",
      "Epoch 12/100, Loss: 3.1497526600951353, Val Loss: 3.2022177489759858\n",
      "Epoch 13/100, Loss: 3.390535671956125, Val Loss: 2.992168491826669\n",
      "Epoch 14/100, Loss: 3.1810968476160455, Val Loss: 2.790303508037892\n",
      "Epoch 15/100, Loss: 3.3010936094745973, Val Loss: 2.596545375977066\n",
      "Epoch 16/100, Loss: 2.8954446360270008, Val Loss: 2.4109522381132114\n",
      "Epoch 17/100, Loss: 0.9293013275289261, Val Loss: 2.2335193506454716\n",
      "Epoch 18/100, Loss: 1.3318212637532878, Val Loss: 2.0642578950407997\n",
      "Epoch 19/100, Loss: 2.5475944230438214, Val Loss: 1.9031372679560437\n",
      "Epoch 20/100, Loss: 1.8391100979507844, Val Loss: 1.7501432583590564\n",
      "Epoch 21/100, Loss: 1.7134647680021589, Val Loss: 1.6051565095960099\n",
      "Epoch 22/100, Loss: 1.7776372871795858, Val Loss: 1.4683626515850914\n",
      "Epoch 23/100, Loss: 1.3593913366487262, Val Loss: 1.3396188549725183\n",
      "Epoch 24/100, Loss: 0.9921418458716965, Val Loss: 1.2189000104210683\n",
      "Epoch 25/100, Loss: 0.8544088065529658, Val Loss: 1.10604677750494\n",
      "Epoch 26/100, Loss: 0.7910130757518952, Val Loss: 1.000956157580447\n",
      "Epoch 27/100, Loss: 0.9695168701678298, Val Loss: 0.9034022065607358\n",
      "Epoch 28/100, Loss: 0.7414342298644667, Val Loss: 0.8132898338556989\n",
      "Epoch 29/100, Loss: 0.92406345436431, Val Loss: 0.7304034636948695\n",
      "Epoch 30/100, Loss: 0.6659816595028766, Val Loss: 0.654746989141765\n",
      "Epoch 31/100, Loss: 0.5024819142379382, Val Loss: 0.5860191957834842\n",
      "Epoch 32/100, Loss: 0.4204819968914967, Val Loss: 0.5241658608277868\n",
      "Epoch 33/100, Loss: 0.5002924254781079, Val Loss: 0.4688823488942376\n",
      "Epoch 34/100, Loss: 0.39977259533389553, Val Loss: 0.4197896699522655\n",
      "Epoch 35/100, Loss: 0.2806254021491731, Val Loss: 0.37655605229091327\n",
      "Epoch 36/100, Loss: 0.37672521435664297, Val Loss: 0.3382444263213495\n",
      "Epoch 37/100, Loss: 0.2932034677431552, Val Loss: 0.3048859662842388\n",
      "Epoch 38/100, Loss: 0.395541233506727, Val Loss: 0.275163013455246\n",
      "Epoch 39/100, Loss: 0.282635201715832, Val Loss: 0.24949091799308834\n",
      "Epoch 40/100, Loss: 0.20295987118831288, Val Loss: 0.2268535920808547\n",
      "Epoch 41/100, Loss: 0.2557973901628195, Val Loss: 0.20741151921197665\n",
      "Epoch 42/100, Loss: 0.19040562671235017, Val Loss: 0.1899787162318717\n",
      "Epoch 43/100, Loss: 0.17152876844318785, Val Loss: 0.17469808527548575\n",
      "Epoch 44/100, Loss: 0.05963679783784901, Val Loss: 0.1607345341917281\n",
      "Epoch 45/100, Loss: 0.17735360019282578, Val Loss: 0.1485580821386652\n",
      "Epoch 46/100, Loss: 0.17230215426968912, Val Loss: 0.1375447518444392\n",
      "Epoch 47/100, Loss: 0.13239131030772305, Val Loss: 0.12776827223233603\n",
      "Epoch 48/100, Loss: 0.14570005589505242, Val Loss: 0.11883220873224794\n",
      "Epoch 49/100, Loss: 0.08082027939953386, Val Loss: 0.1107789380915721\n",
      "Epoch 50/100, Loss: 0.09724004918014165, Val Loss: 0.10360531055946325\n",
      "Epoch 51/100, Loss: 0.10507740853313156, Val Loss: 0.09717622870413935\n",
      "Epoch 52/100, Loss: 0.0937606852986641, Val Loss: 0.09152368801175197\n",
      "Epoch 53/100, Loss: 0.12979457835749758, Val Loss: 0.08647073404682488\n",
      "Epoch 54/100, Loss: 0.11391172210407176, Val Loss: 0.08218210606168043\n",
      "Epoch 55/100, Loss: 0.07601831504449276, Val Loss: 0.0783662346687817\n",
      "Epoch 56/100, Loss: 0.0532707184238474, Val Loss: 0.07515889563058438\n",
      "Epoch 57/100, Loss: 0.0539025520891641, Val Loss: 0.07253076324590005\n",
      "Epoch 58/100, Loss: 0.08634588250958523, Val Loss: 0.07024193627525085\n",
      "Epoch 59/100, Loss: 0.06392808235339108, Val Loss: 0.06829298804310352\n",
      "Epoch 60/100, Loss: 0.07588579444723392, Val Loss: 0.06659899937399853\n",
      "Epoch 61/100, Loss: 0.08666907249822428, Val Loss: 0.06508174797450697\n",
      "Epoch 62/100, Loss: 0.06715868498239595, Val Loss: 0.06386591092429052\n",
      "Epoch 63/100, Loss: 0.06465905611674216, Val Loss: 0.06275994906078092\n",
      "Epoch 64/100, Loss: 0.038626504411558946, Val Loss: 0.061815298450742746\n",
      "Epoch 65/100, Loss: 0.07289578166179235, Val Loss: 0.06087441578577324\n",
      "Epoch 66/100, Loss: 0.04960435995971093, Val Loss: 0.060082325940715095\n",
      "Epoch 67/100, Loss: 0.07485184197981265, Val Loss: 0.0592847369787523\n",
      "Epoch 68/100, Loss: 0.07537887279585864, Val Loss: 0.05857250073804857\n",
      "Epoch 69/100, Loss: 0.060780022096882824, Val Loss: 0.057905642167245336\n",
      "Epoch 70/100, Loss: 0.03593815406424691, Val Loss: 0.05729651361403467\n",
      "Epoch 71/100, Loss: 0.04426789562098186, Val Loss: 0.05671225256999\n",
      "Epoch 72/100, Loss: 0.04257989540329285, Val Loss: 0.05617883040714408\n",
      "Epoch 73/100, Loss: 0.051409890143655684, Val Loss: 0.05562772923458518\n",
      "Epoch 74/100, Loss: 0.06166449411720977, Val Loss: 0.05513670921773071\n",
      "Epoch 75/100, Loss: 0.03975652911637852, Val Loss: 0.0546125897064478\n",
      "Epoch 76/100, Loss: 0.053326854005460556, Val Loss: 0.05410988374169859\n",
      "Epoch 77/100, Loss: 0.05121073992245253, Val Loss: 0.0536120621027523\n",
      "Epoch 78/100, Loss: 0.026460392809508116, Val Loss: 0.05312507199048228\n",
      "Epoch 79/100, Loss: 0.04553158952628947, Val Loss: 0.05267314595586873\n",
      "Epoch 80/100, Loss: 0.05240162443249068, Val Loss: 0.05219656623037792\n",
      "Epoch 81/100, Loss: 0.05300262889876608, Val Loss: 0.051772654701291346\n",
      "Epoch 82/100, Loss: 0.05444552413235397, Val Loss: 0.05133094267100536\n",
      "Epoch 83/100, Loss: 0.024562314196693077, Val Loss: 0.050866390843110496\n",
      "Epoch 84/100, Loss: 0.03893233360135859, Val Loss: 0.05042492741944828\n",
      "Epoch 85/100, Loss: 0.04873184597828847, Val Loss: 0.049983731900163184\n",
      "Epoch 86/100, Loss: 0.08358139768911996, Val Loss: 0.04958391876049658\n",
      "Epoch 87/100, Loss: 0.030731403341234746, Val Loss: 0.04918158770713601\n",
      "Epoch 88/100, Loss: 0.05642204849496284, Val Loss: 0.048784383848889945\n",
      "Epoch 89/100, Loss: 0.05879507828018944, Val Loss: 0.048427873773653665\n",
      "Epoch 90/100, Loss: 0.03829400849454337, Val Loss: 0.04802748687874771\n",
      "Epoch 91/100, Loss: 0.03615239323547965, Val Loss: 0.047630181136104004\n",
      "Epoch 92/100, Loss: 0.02790480009638275, Val Loss: 0.047274353850448245\n",
      "Epoch 93/100, Loss: 0.035910676370030606, Val Loss: 0.046893260220725964\n",
      "Epoch 94/100, Loss: 0.058928516212545065, Val Loss: 0.046542149473893325\n",
      "Epoch 95/100, Loss: 0.02992582474560417, Val Loss: 0.04616516000606454\n",
      "Epoch 96/100, Loss: 0.026485959858216068, Val Loss: 0.045798891827982205\n",
      "Epoch 97/100, Loss: 0.04100462029378537, Val Loss: 0.0454737009953667\n",
      "Epoch 98/100, Loss: 0.01798014885938899, Val Loss: 0.045136350807469396\n",
      "Epoch 99/100, Loss: 0.06382137926712754, Val Loss: 0.04482136015460874\n",
      "Epoch 100/100, Loss: 0.02954409068693529, Val Loss: 0.044432889431755156\n"
     ]
    }
   ],
   "source": [
    "nn.train(X = X_train, \n",
    "         y = y_train,\n",
    "         epochs = epochs, \n",
    "         learning_rate = 0.0001,\n",
    "         loss_function=loss_function, \n",
    "         optimizer=optimizer, \n",
    "         batch_size=batch_size, \n",
    "         validation_split = 0.2)"
   ]
  },
  {
   "cell_type": "code",
   "execution_count": 71,
   "metadata": {},
   "outputs": [],
   "source": [
    "error = nn.predict(X_test) - y_test"
   ]
  },
  {
   "cell_type": "code",
   "execution_count": 72,
   "metadata": {},
   "outputs": [
    {
     "data": {
      "image/png": "[encoded data removed]",
      "text/plain": [
       "<Figure size 800x600 with 1 Axes>"
      ]
     },
     "metadata": {},
     "output_type": "display_data"
    }
   ],
   "source": [
    "# Estatísticas\n",
    "error_mean = np.mean(error)\n",
    "error_std = np.std(error)\n",
    "error_max = np.max(error)\n",
    "error_min = np.min(error)\n",
    "\n",
    "# Criando a figura e os eixos\n",
    "fig, ax = plt.subplots(figsize=(8, 6))\n",
    "\n",
    "# Estilo do gráfico\n",
    "plt.style.use('ggplot')\n",
    "\n",
    "# Plotando histograma com KDE (Densidade) sem legenda\n",
    "sns.histplot(error, bins=30, color='coral', edgecolor='black', stat=\"density\", kde=True, legend=False, ax=ax)\n",
    "\n",
    "# Configuração dos eixos\n",
    "ax.set_xlabel('Error', fontsize=14)\n",
    "ax.set_ylabel('Density', fontsize=14)\n",
    "#ax.set_title('Error Distribution', fontsize=15)\n",
    "ax.tick_params(labelsize=14)\n",
    "ax.grid(True)\n",
    "\n",
    "# Definindo limites do eixo X\n",
    "ax.set_xlim(error_min, error_max)\n",
    "\n",
    "# Exibir os valores estatísticos no gráfico\n",
    "textstr = '\\n'.join((\n",
    "    f'Max: {error_max:.4f}',\n",
    "    f'Min: {error_min:.4f}',\n",
    "    f'Mean: {error_mean:.4f}',\n",
    "    f'2x Std: {2 * error_std:.4f}'\n",
    "))\n",
    "props = dict(boxstyle='round', facecolor='gray', alpha=0.5)\n",
    "ax.text(0.95, 0.95, textstr, transform=ax.transAxes, fontsize=12,\n",
    "        verticalalignment='top', horizontalalignment='right', bbox=props)\n",
    "\n",
    "plt.savefig('./figures/example_01.pdf', bbox_inches='tight', pad_inches=0, dpi=300)\n",
    "# Exibir gráfico\n",
    "plt.show()"
   ]
  },
  {
   "cell_type": "markdown",
   "metadata": {},
   "source": [
    "### 4.11 Save model as C++"
   ]
  },
  {
   "cell_type": "code",
   "execution_count": 73,
   "metadata": {},
   "outputs": [
    {
     "name": "stdout",
     "output_type": "stream",
     "text": [
      "Model C++ saved!\n"
     ]
    }
   ],
   "source": [
    "nn.save_model_as_cpp('./tensorflores_without_quant')"
   ]
  },
  {
   "cell_type": "markdown",
   "metadata": {},
   "source": [
    "### 4.12 Save model as json"
   ]
  },
  {
   "cell_type": "code",
   "execution_count": 74,
   "metadata": {},
   "outputs": [
    {
     "name": "stdout",
     "output_type": "stream",
     "text": [
      "Model saved successfully as './tensorflores_without_quant.json'!\n"
     ]
    }
   ],
   "source": [
    "nn.save_model_as_json('./tensorflores_without_quant')"
   ]
  },
  {
   "cell_type": "markdown",
   "metadata": {},
   "source": [
    "### 4.12 Load model from json"
   ]
  },
  {
   "cell_type": "code",
   "execution_count": 75,
   "metadata": {},
   "outputs": [
    {
     "name": "stdout",
     "output_type": "stream",
     "text": [
      "Successfully loaded JSON file: ./tensorflores_without_quant.json\n"
     ]
    },
    {
     "data": {
      "text/plain": [
       "{'model_quantized': False,\n",
       " 'num_layers': 3,\n",
       " 'layers': [{'activation': 'relu',\n",
       "   'weights': [[0.25130431662396613,\n",
       "     -1.2147914404241322,\n",
       "     -0.2884391170139249,\n",
       "     0.8606677711806703,\n",
       "     1.5018800063241295,\n",
       "     1.457068347654409,\n",
       "     2.485611518934096,\n",
       "     -0.2194694221104431,\n",
       "     1.44672478778409,\n",
       "     -0.036373508158682274,\n",
       "     -2.7866812544379806,\n",
       "     -0.5462811108638331,\n",
       "     0.5005394347543287,\n",
       "     0.046451653299363044,\n",
       "     -1.241076380766991,\n",
       "     0.24541163169106964],\n",
       "    [0.7360947147160628,\n",
       "     -0.22909043202182777,\n",
       "     -0.02888562950803397,\n",
       "     1.4740145700748322,\n",
       "     -0.972825532772787,\n",
       "     1.1031430486796638,\n",
       "     -0.8224112838985033,\n",
       "     -0.4990274814217257,\n",
       "     0.038942922605802455,\n",
       "     1.3026129213060025,\n",
       "     -0.977868792905857,\n",
       "     0.19823389720251328,\n",
       "     -1.0935966078970152,\n",
       "     1.2092028471045888,\n",
       "     -0.7700673867395008,\n",
       "     0.24021322746849333],\n",
       "    [1.1378215866161998,\n",
       "     0.008643173246605705,\n",
       "     -0.6594804193082676,\n",
       "     0.016496096434585293,\n",
       "     1.1809950202488912,\n",
       "     -1.6618199459360117,\n",
       "     1.2391240109167398,\n",
       "     0.8348225347407953,\n",
       "     -0.4982755277223971,\n",
       "     0.5887411396126568,\n",
       "     1.9910831205064137,\n",
       "     -0.410360722221189,\n",
       "     -0.5844452903962888,\n",
       "     -0.707437360100421,\n",
       "     -1.2415350115018677,\n",
       "     -1.0085503978733108]],\n",
       "   'biases': [-0.00661694117823328,\n",
       "    -0.011793890873857609,\n",
       "    0.008761852875022819,\n",
       "    -0.012785585881086903,\n",
       "    -0.0027887780188731335,\n",
       "    0.0005198726109704008,\n",
       "    -0.01640923879334639,\n",
       "    -0.0040365228696589706,\n",
       "    -0.004333346605972805,\n",
       "    -0.006451286568398461,\n",
       "    0.02048311797735747,\n",
       "    -0.014754874098237693,\n",
       "    -0.010347294840309273,\n",
       "    0.006467824805941737,\n",
       "    0.002257082829689511,\n",
       "    -0.0007130371317065206]},\n",
       "  {'activation': 'relu',\n",
       "   'weights': [[-0.1485636793511766,\n",
       "     0.3569973851800046,\n",
       "     0.17908540512565607,\n",
       "     -0.523877698898761,\n",
       "     0.2945924250968459,\n",
       "     1.116635008713201,\n",
       "     0.42687132679557116,\n",
       "     1.0102292672725561],\n",
       "    [1.2547210736366834,\n",
       "     1.4752272780003175,\n",
       "     -0.45328894351466564,\n",
       "     1.0414994898562566,\n",
       "     -0.4472473205849872,\n",
       "     2.0979128794616053,\n",
       "     0.5269527636182276,\n",
       "     0.2518133406709035],\n",
       "    [-0.9441392957123559,\n",
       "     -0.6750334563431777,\n",
       "     0.501346465811451,\n",
       "     0.7561621982059055,\n",
       "     0.6152131928814151,\n",
       "     -0.9420826372525032,\n",
       "     -1.1021618286196757,\n",
       "     0.6699094525939754],\n",
       "    [0.5352327723617429,\n",
       "     -1.7938438142587556,\n",
       "     -0.5343812365606473,\n",
       "     1.1396737616705106,\n",
       "     0.36302727001850404,\n",
       "     0.11457044902237028,\n",
       "     -0.5067370410922932,\n",
       "     -0.9955378494486228],\n",
       "    [-0.4478905378279604,\n",
       "     -0.5032414043436796,\n",
       "     0.5580158757981062,\n",
       "     0.6985938355761102,\n",
       "     -0.3293936902581421,\n",
       "     -0.5377471148046655,\n",
       "     -1.1656855330407871,\n",
       "     -0.9418728454323618],\n",
       "    [1.763680904867001,\n",
       "     -0.7304675691115415,\n",
       "     -1.5941530682113298,\n",
       "     0.32190105564576454,\n",
       "     -0.2341177492162813,\n",
       "     1.343946796665376,\n",
       "     1.5432795962406816,\n",
       "     1.3548460259580757],\n",
       "    [-0.6158331790837044,\n",
       "     -0.9075132587846512,\n",
       "     -0.18737321800424672,\n",
       "     0.16804536046932989,\n",
       "     -0.5872912647331963,\n",
       "     0.8814396473790074,\n",
       "     -0.13163806140116968,\n",
       "     0.28043119455991633],\n",
       "    [-0.418018042618772,\n",
       "     1.3550861118141613,\n",
       "     1.0077904811716305,\n",
       "     1.4557116683102709,\n",
       "     -0.08877165232197029,\n",
       "     1.532732528696962,\n",
       "     0.32151601545443453,\n",
       "     -0.4252916316223109],\n",
       "    [0.2355449822832505,\n",
       "     0.021011609020350205,\n",
       "     0.6765907336904919,\n",
       "     -0.2055125703299116,\n",
       "     -0.012019329622008641,\n",
       "     1.6773548969042094,\n",
       "     -0.05185310700886722,\n",
       "     -1.5774350462048383],\n",
       "    [0.8724162811956299,\n",
       "     -0.7925989074620606,\n",
       "     -0.07749276692811417,\n",
       "     -0.9309781561471873,\n",
       "     0.7198293085493946,\n",
       "     -1.0770913258756176,\n",
       "     0.09791018116772175,\n",
       "     -0.48234644852580866],\n",
       "    [1.4647440293416336,\n",
       "     -0.5298677585198952,\n",
       "     -0.20334955368608285,\n",
       "     -0.5125437835940555,\n",
       "     -0.7764562281027877,\n",
       "     0.004242222388113183,\n",
       "     0.08571038693364064,\n",
       "     0.7869639011680545],\n",
       "    [0.34945572469841635,\n",
       "     -1.1314617429752925,\n",
       "     1.2865080774841469,\n",
       "     0.06977886431710244,\n",
       "     0.13661799544935907,\n",
       "     1.9597726048337496,\n",
       "     -0.46538064813283053,\n",
       "     -0.8371807153209272],\n",
       "    [-0.22277421167151476,\n",
       "     -0.2862962272219545,\n",
       "     0.6810733009125609,\n",
       "     -0.2045169607471015,\n",
       "     0.5905001708630732,\n",
       "     0.312131402668764,\n",
       "     1.1670274243342988,\n",
       "     -2.047408478142414],\n",
       "    [0.3274117151897499,\n",
       "     0.16215166284921767,\n",
       "     1.63865111365463,\n",
       "     1.3079013742172985,\n",
       "     -0.4613366756451735,\n",
       "     -1.5217601730486077,\n",
       "     1.5827349351697597,\n",
       "     1.140247155803638],\n",
       "    [-0.5495862537280967,\n",
       "     -1.1010219911121708,\n",
       "     0.3912969124561298,\n",
       "     1.9191618950105565,\n",
       "     1.1948614254162662,\n",
       "     0.2330976392748248,\n",
       "     0.6599943704106348,\n",
       "     -1.6211173406238175],\n",
       "    [-0.03489815422666802,\n",
       "     0.5227145409950461,\n",
       "     -1.383323314036505,\n",
       "     2.1831090028509856,\n",
       "     -0.3359312163901842,\n",
       "     -0.7739581288762516,\n",
       "     0.8886294000043664,\n",
       "     -1.467504544906624]],\n",
       "   'biases': [0.00614338070753355,\n",
       "    -0.0013846056296751823,\n",
       "    -0.00470371281584063,\n",
       "    -0.0008368695999715229,\n",
       "    0.0002615576281515959,\n",
       "    0.010889836801382757,\n",
       "    0.003939469766272716,\n",
       "    0.00184923021499863]},\n",
       "  {'activation': 'linear',\n",
       "   'weights': [[0.4824099067055086],\n",
       "    [0.1100612727241187],\n",
       "    [0.0986326662007946],\n",
       "    [0.8838276773487592],\n",
       "    [-0.5556334860221619],\n",
       "    [-0.407548802718415],\n",
       "    [-1.0388067433395756],\n",
       "    [0.20052746747409889]],\n",
       "   'biases': [0.0034703559530694685]}]}"
      ]
     },
     "execution_count": 75,
     "metadata": {},
     "output_type": "execute_result"
    }
   ],
   "source": [
    "json_data = nn.load_json_model('./tensorflores_without_quant')\n",
    "json_data"
   ]
  }
 ],
 "metadata": {
  "kernelspec": {
   "display_name": "Python 3",
   "language": "python",
   "name": "python3"
  },
  "language_info": {
   "codemirror_mode": {
    "name": "ipython",
    "version": 3
   },
   "file_extension": ".py",
   "mimetype": "text/x-python",
   "name": "python",
   "nbconvert_exporter": "python",
   "pygments_lexer": "ipython3",
   "version": "3.9.6"
  }
 },
 "nbformat": 4,
 "nbformat_minor": 2
}
