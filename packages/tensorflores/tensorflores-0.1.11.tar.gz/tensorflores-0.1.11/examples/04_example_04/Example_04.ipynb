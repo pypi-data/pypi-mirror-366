{
 "cells": [
  {
   "cell_type": "markdown",
   "metadata": {},
   "source": [
    "# TensorFlores - Example 4"
   ]
  },
  {
   "cell_type": "markdown",
   "metadata": {},
   "source": [
    "## 1. Importing libraries"
   ]
  },
  {
   "cell_type": "code",
   "execution_count": 1,
   "metadata": {},
   "outputs": [],
   "source": [
    "import sys, os\n",
    "path = os.getcwd().split('\\\\examples')[0]\n",
    "sys.path.append(path)"
   ]
  },
  {
   "cell_type": "code",
   "execution_count": 36,
   "metadata": {},
   "outputs": [],
   "source": [
    "import pandas as pd\n",
    "from sklearn.model_selection import train_test_split\n",
    "from sklearn.preprocessing import MinMaxScaler\n",
    "import tensorflow as tf\n",
    "from tensorflow.keras.layers import Dense\n",
    "import matplotlib.pyplot as plt\n",
    "import numpy as np\n",
    "import seaborn as sns\n",
    "\n",
    "from tensorflores.utils.cpp_generation import CppGeneration\n",
    "from tensorflores.utils.clustering import ClusteringMethods\n",
    "from tensorflores.utils.json_handle import JsonHandle\n",
    "from tensorflores.utils.quantization import Quantization"
   ]
  },
  {
   "cell_type": "markdown",
   "metadata": {},
   "source": [
    "## 2. Load Dataset"
   ]
  },
  {
   "cell_type": "code",
   "execution_count": 3,
   "metadata": {},
   "outputs": [
    {
     "data": {
      "text/html": [
       "<div>\n",
       "<style scoped>\n",
       "    .dataframe tbody tr th:only-of-type {\n",
       "        vertical-align: middle;\n",
       "    }\n",
       "\n",
       "    .dataframe tbody tr th {\n",
       "        vertical-align: top;\n",
       "    }\n",
       "\n",
       "    .dataframe thead th {\n",
       "        text-align: right;\n",
       "    }\n",
       "</style>\n",
       "<table border=\"1\" class=\"dataframe\">\n",
       "  <thead>\n",
       "    <tr style=\"text-align: right;\">\n",
       "      <th></th>\n",
       "      <th>CO2 (g/s) [estimated maf]</th>\n",
       "      <th>CO2 (g/s) [maf]</th>\n",
       "      <th>estimated_maf</th>\n",
       "      <th>intake_pressure</th>\n",
       "      <th>intake_temperature</th>\n",
       "      <th>latitude</th>\n",
       "      <th>longitude</th>\n",
       "      <th>maf</th>\n",
       "      <th>rpm</th>\n",
       "      <th>speed</th>\n",
       "    </tr>\n",
       "  </thead>\n",
       "  <tbody>\n",
       "    <tr>\n",
       "      <th>0</th>\n",
       "      <td>0.809921</td>\n",
       "      <td>0.639659</td>\n",
       "      <td>3.798529</td>\n",
       "      <td>26.0</td>\n",
       "      <td>54.0</td>\n",
       "      <td>-5.793477</td>\n",
       "      <td>-35.198093</td>\n",
       "      <td>3.0</td>\n",
       "      <td>1568.0</td>\n",
       "      <td>43.0</td>\n",
       "    </tr>\n",
       "    <tr>\n",
       "      <th>1</th>\n",
       "      <td>1.796942</td>\n",
       "      <td>2.132196</td>\n",
       "      <td>8.427658</td>\n",
       "      <td>57.0</td>\n",
       "      <td>53.0</td>\n",
       "      <td>-5.793538</td>\n",
       "      <td>-35.198116</td>\n",
       "      <td>10.0</td>\n",
       "      <td>1582.0</td>\n",
       "      <td>43.0</td>\n",
       "    </tr>\n",
       "    <tr>\n",
       "      <th>2</th>\n",
       "      <td>2.199995</td>\n",
       "      <td>2.132196</td>\n",
       "      <td>10.317979</td>\n",
       "      <td>69.0</td>\n",
       "      <td>53.0</td>\n",
       "      <td>-5.793600</td>\n",
       "      <td>-35.198139</td>\n",
       "      <td>10.0</td>\n",
       "      <td>1600.0</td>\n",
       "      <td>43.0</td>\n",
       "    </tr>\n",
       "    <tr>\n",
       "      <th>3</th>\n",
       "      <td>1.226761</td>\n",
       "      <td>0.639659</td>\n",
       "      <td>5.753511</td>\n",
       "      <td>38.0</td>\n",
       "      <td>54.0</td>\n",
       "      <td>-5.793665</td>\n",
       "      <td>-35.198170</td>\n",
       "      <td>3.0</td>\n",
       "      <td>1625.0</td>\n",
       "      <td>44.0</td>\n",
       "    </tr>\n",
       "    <tr>\n",
       "      <th>4</th>\n",
       "      <td>0.756202</td>\n",
       "      <td>0.426439</td>\n",
       "      <td>3.546585</td>\n",
       "      <td>24.0</td>\n",
       "      <td>54.0</td>\n",
       "      <td>-5.793739</td>\n",
       "      <td>-35.198196</td>\n",
       "      <td>2.0</td>\n",
       "      <td>1586.0</td>\n",
       "      <td>45.0</td>\n",
       "    </tr>\n",
       "  </tbody>\n",
       "</table>\n",
       "</div>"
      ],
      "text/plain": [
       "   CO2 (g/s) [estimated maf]  CO2 (g/s) [maf]  estimated_maf  intake_pressure  \\\n",
       "0                   0.809921         0.639659       3.798529             26.0   \n",
       "1                   1.796942         2.132196       8.427658             57.0   \n",
       "2                   2.199995         2.132196      10.317979             69.0   \n",
       "3                   1.226761         0.639659       5.753511             38.0   \n",
       "4                   0.756202         0.426439       3.546585             24.0   \n",
       "\n",
       "   intake_temperature  latitude  longitude   maf     rpm  speed  \n",
       "0                54.0 -5.793477 -35.198093   3.0  1568.0   43.0  \n",
       "1                53.0 -5.793538 -35.198116  10.0  1582.0   43.0  \n",
       "2                53.0 -5.793600 -35.198139  10.0  1600.0   43.0  \n",
       "3                54.0 -5.793665 -35.198170   3.0  1625.0   44.0  \n",
       "4                54.0 -5.793739 -35.198196   2.0  1586.0   45.0  "
      ]
     },
     "execution_count": 3,
     "metadata": {},
     "output_type": "execute_result"
    }
   ],
   "source": [
    "df = pd.read_csv(path + '\\\\data\\\\emission_total.csv')\n",
    "df.head(5)"
   ]
  },
  {
   "cell_type": "code",
   "execution_count": 4,
   "metadata": {},
   "outputs": [],
   "source": [
    "scaler = MinMaxScaler()\n",
    "values_df = scaler.fit_transform(df[['intake_pressure', 'intake_temperature', 'speed', 'CO2 (g/s) [maf]']])"
   ]
  },
  {
   "cell_type": "code",
   "execution_count": 5,
   "metadata": {},
   "outputs": [],
   "source": [
    "X = values_df[:,0:3]\n",
    "y = values_df[:,3:]"
   ]
  },
  {
   "cell_type": "markdown",
   "metadata": {},
   "source": [
    "## 3. Splitting the data"
   ]
  },
  {
   "cell_type": "code",
   "execution_count": 6,
   "metadata": {},
   "outputs": [],
   "source": [
    "X_train, X_test, y_train, y_test  = train_test_split(X, y, test_size=0.2, random_state=42)"
   ]
  },
  {
   "cell_type": "code",
   "execution_count": 7,
   "metadata": {},
   "outputs": [],
   "source": [
    "y_train = y_train.reshape(-1, 1)\n",
    "y_test = y_test.reshape(-1, 1)"
   ]
  },
  {
   "cell_type": "markdown",
   "metadata": {},
   "source": [
    "## 4. Define the model"
   ]
  },
  {
   "cell_type": "code",
   "execution_count": 8,
   "metadata": {},
   "outputs": [
    {
     "name": "stdout",
     "output_type": "stream",
     "text": [
      "WARNING:tensorflow:From c:\\Users\\thomm\\AppData\\Local\\Programs\\Python\\Python39\\lib\\site-packages\\keras\\src\\backend.py:873: The name tf.get_default_graph is deprecated. Please use tf.compat.v1.get_default_graph instead.\n",
      "\n"
     ]
    }
   ],
   "source": [
    "model = tf.keras.Sequential()\n",
    "model.add(Dense(16, activation = 'relu'))\n",
    "model.add(Dense(8, activation = 'relu'))\n",
    "model.add(Dense(1))"
   ]
  },
  {
   "cell_type": "markdown",
   "metadata": {},
   "source": [
    "## 5. Compile the model"
   ]
  },
  {
   "cell_type": "code",
   "execution_count": 9,
   "metadata": {},
   "outputs": [],
   "source": [
    "# configure the optimizer, loss, and metrics to monitor.\n",
    "opt = tf.keras.optimizers.Adam(\n",
    "        learning_rate=0.001,\n",
    "        beta_1=0.9,\n",
    "        beta_2=0.999,\n",
    "        epsilon=1e-07,\n",
    "        name='Adam')\n",
    "\n",
    "# Compile the model\n",
    "model.compile(optimizer=opt, loss='mse', metrics=[\"mse\"])"
   ]
  },
  {
   "cell_type": "markdown",
   "metadata": {},
   "source": [
    "## 6. Training model"
   ]
  },
  {
   "cell_type": "code",
   "execution_count": 22,
   "metadata": {},
   "outputs": [
    {
     "name": "stdout",
     "output_type": "stream",
     "text": [
      "Epoch 1/100\n",
      "205/205 [==============================] - 1s 4ms/step - loss: 0.0028 - mse: 0.0028 - val_loss: 0.0030 - val_mse: 0.0030\n",
      "Epoch 2/100\n",
      "205/205 [==============================] - 1s 4ms/step - loss: 0.0028 - mse: 0.0028 - val_loss: 0.0029 - val_mse: 0.0029\n",
      "Epoch 3/100\n",
      "205/205 [==============================] - 1s 4ms/step - loss: 0.0028 - mse: 0.0028 - val_loss: 0.0030 - val_mse: 0.0030\n",
      "Epoch 4/100\n",
      "205/205 [==============================] - 1s 3ms/step - loss: 0.0028 - mse: 0.0028 - val_loss: 0.0028 - val_mse: 0.0028\n",
      "Epoch 5/100\n",
      "205/205 [==============================] - 1s 3ms/step - loss: 0.0028 - mse: 0.0028 - val_loss: 0.0028 - val_mse: 0.0028\n",
      "Epoch 6/100\n",
      "205/205 [==============================] - 1s 3ms/step - loss: 0.0027 - mse: 0.0027 - val_loss: 0.0028 - val_mse: 0.0028\n",
      "Epoch 7/100\n",
      "205/205 [==============================] - 1s 3ms/step - loss: 0.0027 - mse: 0.0027 - val_loss: 0.0030 - val_mse: 0.0030\n",
      "Epoch 8/100\n",
      "205/205 [==============================] - 1s 3ms/step - loss: 0.0027 - mse: 0.0027 - val_loss: 0.0030 - val_mse: 0.0030\n",
      "Epoch 9/100\n",
      "205/205 [==============================] - 1s 3ms/step - loss: 0.0027 - mse: 0.0027 - val_loss: 0.0029 - val_mse: 0.0029\n",
      "Epoch 10/100\n",
      "205/205 [==============================] - 1s 4ms/step - loss: 0.0027 - mse: 0.0027 - val_loss: 0.0027 - val_mse: 0.0027\n",
      "Epoch 11/100\n",
      "205/205 [==============================] - 1s 3ms/step - loss: 0.0027 - mse: 0.0027 - val_loss: 0.0027 - val_mse: 0.0027\n",
      "Epoch 12/100\n",
      "205/205 [==============================] - 1s 3ms/step - loss: 0.0027 - mse: 0.0027 - val_loss: 0.0027 - val_mse: 0.0027\n",
      "Epoch 13/100\n",
      "205/205 [==============================] - 1s 3ms/step - loss: 0.0027 - mse: 0.0027 - val_loss: 0.0027 - val_mse: 0.0027\n",
      "Epoch 14/100\n",
      "205/205 [==============================] - 1s 4ms/step - loss: 0.0027 - mse: 0.0027 - val_loss: 0.0026 - val_mse: 0.0026\n",
      "Epoch 15/100\n",
      "205/205 [==============================] - 1s 3ms/step - loss: 0.0027 - mse: 0.0027 - val_loss: 0.0027 - val_mse: 0.0027\n",
      "Epoch 16/100\n",
      "205/205 [==============================] - 1s 4ms/step - loss: 0.0026 - mse: 0.0026 - val_loss: 0.0026 - val_mse: 0.0026\n",
      "Epoch 17/100\n",
      "205/205 [==============================] - 1s 5ms/step - loss: 0.0026 - mse: 0.0026 - val_loss: 0.0027 - val_mse: 0.0027\n",
      "Epoch 18/100\n",
      "205/205 [==============================] - 1s 6ms/step - loss: 0.0026 - mse: 0.0026 - val_loss: 0.0027 - val_mse: 0.0027\n",
      "Epoch 19/100\n",
      "205/205 [==============================] - 1s 5ms/step - loss: 0.0026 - mse: 0.0026 - val_loss: 0.0027 - val_mse: 0.0027\n",
      "Epoch 20/100\n",
      "205/205 [==============================] - 1s 6ms/step - loss: 0.0026 - mse: 0.0026 - val_loss: 0.0028 - val_mse: 0.0028\n",
      "Epoch 21/100\n",
      "205/205 [==============================] - 1s 6ms/step - loss: 0.0026 - mse: 0.0026 - val_loss: 0.0027 - val_mse: 0.0027\n",
      "Epoch 22/100\n",
      "205/205 [==============================] - 2s 9ms/step - loss: 0.0026 - mse: 0.0026 - val_loss: 0.0026 - val_mse: 0.0026\n",
      "Epoch 23/100\n",
      "205/205 [==============================] - 2s 8ms/step - loss: 0.0026 - mse: 0.0026 - val_loss: 0.0027 - val_mse: 0.0027\n",
      "Epoch 24/100\n",
      "205/205 [==============================] - 2s 8ms/step - loss: 0.0026 - mse: 0.0026 - val_loss: 0.0026 - val_mse: 0.0026\n",
      "Epoch 25/100\n",
      "205/205 [==============================] - 1s 7ms/step - loss: 0.0026 - mse: 0.0026 - val_loss: 0.0026 - val_mse: 0.0026\n",
      "Epoch 26/100\n",
      "205/205 [==============================] - 2s 8ms/step - loss: 0.0026 - mse: 0.0026 - val_loss: 0.0025 - val_mse: 0.0025\n",
      "Epoch 27/100\n",
      "205/205 [==============================] - 2s 8ms/step - loss: 0.0026 - mse: 0.0026 - val_loss: 0.0027 - val_mse: 0.0027\n",
      "Epoch 28/100\n",
      "205/205 [==============================] - 1s 7ms/step - loss: 0.0026 - mse: 0.0026 - val_loss: 0.0025 - val_mse: 0.0025\n",
      "Epoch 29/100\n",
      "205/205 [==============================] - 2s 8ms/step - loss: 0.0026 - mse: 0.0026 - val_loss: 0.0026 - val_mse: 0.0026\n",
      "Epoch 30/100\n",
      "205/205 [==============================] - 2s 10ms/step - loss: 0.0026 - mse: 0.0026 - val_loss: 0.0027 - val_mse: 0.0027\n",
      "Epoch 31/100\n",
      "205/205 [==============================] - 1s 7ms/step - loss: 0.0026 - mse: 0.0026 - val_loss: 0.0026 - val_mse: 0.0026\n",
      "Epoch 32/100\n",
      "205/205 [==============================] - 2s 8ms/step - loss: 0.0026 - mse: 0.0026 - val_loss: 0.0026 - val_mse: 0.0026\n",
      "Epoch 33/100\n",
      "205/205 [==============================] - 2s 8ms/step - loss: 0.0026 - mse: 0.0026 - val_loss: 0.0027 - val_mse: 0.0027\n",
      "Epoch 34/100\n",
      "205/205 [==============================] - 2s 8ms/step - loss: 0.0025 - mse: 0.0025 - val_loss: 0.0025 - val_mse: 0.0025\n",
      "Epoch 35/100\n",
      "205/205 [==============================] - 1s 7ms/step - loss: 0.0025 - mse: 0.0025 - val_loss: 0.0027 - val_mse: 0.0027\n",
      "Epoch 36/100\n",
      "205/205 [==============================] - 2s 8ms/step - loss: 0.0025 - mse: 0.0025 - val_loss: 0.0026 - val_mse: 0.0026\n",
      "Epoch 37/100\n",
      "205/205 [==============================] - 2s 8ms/step - loss: 0.0025 - mse: 0.0025 - val_loss: 0.0025 - val_mse: 0.0025\n",
      "Epoch 38/100\n",
      "205/205 [==============================] - 1s 7ms/step - loss: 0.0025 - mse: 0.0025 - val_loss: 0.0025 - val_mse: 0.0025\n",
      "Epoch 39/100\n",
      "205/205 [==============================] - 2s 8ms/step - loss: 0.0025 - mse: 0.0025 - val_loss: 0.0026 - val_mse: 0.0026\n",
      "Epoch 40/100\n",
      "205/205 [==============================] - 2s 9ms/step - loss: 0.0025 - mse: 0.0025 - val_loss: 0.0025 - val_mse: 0.0025\n",
      "Epoch 41/100\n",
      "205/205 [==============================] - 1s 7ms/step - loss: 0.0025 - mse: 0.0025 - val_loss: 0.0026 - val_mse: 0.0026\n",
      "Epoch 42/100\n",
      "205/205 [==============================] - 1s 7ms/step - loss: 0.0025 - mse: 0.0025 - val_loss: 0.0026 - val_mse: 0.0026\n",
      "Epoch 43/100\n",
      "205/205 [==============================] - 2s 10ms/step - loss: 0.0025 - mse: 0.0025 - val_loss: 0.0025 - val_mse: 0.0025\n",
      "Epoch 44/100\n",
      "205/205 [==============================] - 2s 7ms/step - loss: 0.0025 - mse: 0.0025 - val_loss: 0.0026 - val_mse: 0.0026\n",
      "Epoch 45/100\n",
      "205/205 [==============================] - 2s 9ms/step - loss: 0.0025 - mse: 0.0025 - val_loss: 0.0025 - val_mse: 0.0025\n",
      "Epoch 46/100\n",
      "205/205 [==============================] - 2s 8ms/step - loss: 0.0025 - mse: 0.0025 - val_loss: 0.0026 - val_mse: 0.0026\n",
      "Epoch 47/100\n",
      "205/205 [==============================] - 1s 6ms/step - loss: 0.0025 - mse: 0.0025 - val_loss: 0.0026 - val_mse: 0.0026\n",
      "Epoch 48/100\n",
      "205/205 [==============================] - 1s 7ms/step - loss: 0.0025 - mse: 0.0025 - val_loss: 0.0026 - val_mse: 0.0026\n",
      "Epoch 49/100\n",
      "205/205 [==============================] - 2s 9ms/step - loss: 0.0025 - mse: 0.0025 - val_loss: 0.0025 - val_mse: 0.0025\n",
      "Epoch 50/100\n",
      "205/205 [==============================] - 1s 7ms/step - loss: 0.0025 - mse: 0.0025 - val_loss: 0.0028 - val_mse: 0.0028\n",
      "Epoch 51/100\n",
      "205/205 [==============================] - 2s 7ms/step - loss: 0.0025 - mse: 0.0025 - val_loss: 0.0026 - val_mse: 0.0026\n",
      "Epoch 52/100\n",
      "205/205 [==============================] - 2s 7ms/step - loss: 0.0025 - mse: 0.0025 - val_loss: 0.0025 - val_mse: 0.0025\n",
      "Epoch 53/100\n",
      "205/205 [==============================] - 1s 7ms/step - loss: 0.0025 - mse: 0.0025 - val_loss: 0.0025 - val_mse: 0.0025\n",
      "Epoch 54/100\n",
      "205/205 [==============================] - 1s 7ms/step - loss: 0.0025 - mse: 0.0025 - val_loss: 0.0026 - val_mse: 0.0026\n",
      "Epoch 55/100\n",
      "205/205 [==============================] - 2s 8ms/step - loss: 0.0025 - mse: 0.0025 - val_loss: 0.0025 - val_mse: 0.0025\n",
      "Epoch 56/100\n",
      "205/205 [==============================] - 2s 9ms/step - loss: 0.0025 - mse: 0.0025 - val_loss: 0.0025 - val_mse: 0.0025\n",
      "Epoch 57/100\n",
      "205/205 [==============================] - 1s 7ms/step - loss: 0.0025 - mse: 0.0025 - val_loss: 0.0028 - val_mse: 0.0028\n",
      "Epoch 58/100\n",
      "205/205 [==============================] - 2s 8ms/step - loss: 0.0025 - mse: 0.0025 - val_loss: 0.0026 - val_mse: 0.0026\n",
      "Epoch 59/100\n",
      "205/205 [==============================] - 2s 8ms/step - loss: 0.0025 - mse: 0.0025 - val_loss: 0.0025 - val_mse: 0.0025\n",
      "Epoch 60/100\n",
      "205/205 [==============================] - 2s 8ms/step - loss: 0.0025 - mse: 0.0025 - val_loss: 0.0025 - val_mse: 0.0025\n",
      "Epoch 61/100\n",
      "205/205 [==============================] - 2s 7ms/step - loss: 0.0025 - mse: 0.0025 - val_loss: 0.0025 - val_mse: 0.0025\n",
      "Epoch 62/100\n",
      "205/205 [==============================] - 2s 12ms/step - loss: 0.0024 - mse: 0.0024 - val_loss: 0.0025 - val_mse: 0.0025\n",
      "Epoch 63/100\n",
      "205/205 [==============================] - 2s 8ms/step - loss: 0.0025 - mse: 0.0025 - val_loss: 0.0026 - val_mse: 0.0026\n",
      "Epoch 64/100\n",
      "205/205 [==============================] - 1s 7ms/step - loss: 0.0025 - mse: 0.0025 - val_loss: 0.0025 - val_mse: 0.0025\n",
      "Epoch 65/100\n",
      "205/205 [==============================] - 2s 9ms/step - loss: 0.0024 - mse: 0.0024 - val_loss: 0.0026 - val_mse: 0.0026\n",
      "Epoch 66/100\n",
      "205/205 [==============================] - 1s 7ms/step - loss: 0.0024 - mse: 0.0024 - val_loss: 0.0026 - val_mse: 0.0026\n",
      "Epoch 67/100\n",
      "205/205 [==============================] - 2s 9ms/step - loss: 0.0024 - mse: 0.0024 - val_loss: 0.0026 - val_mse: 0.0026\n",
      "Epoch 68/100\n",
      "205/205 [==============================] - 2s 9ms/step - loss: 0.0025 - mse: 0.0025 - val_loss: 0.0025 - val_mse: 0.0025\n",
      "Epoch 69/100\n",
      "205/205 [==============================] - 2s 8ms/step - loss: 0.0025 - mse: 0.0025 - val_loss: 0.0026 - val_mse: 0.0026\n",
      "Epoch 70/100\n",
      "205/205 [==============================] - 2s 9ms/step - loss: 0.0025 - mse: 0.0025 - val_loss: 0.0026 - val_mse: 0.0026\n",
      "Epoch 71/100\n",
      "205/205 [==============================] - 2s 9ms/step - loss: 0.0024 - mse: 0.0024 - val_loss: 0.0025 - val_mse: 0.0025\n",
      "Epoch 72/100\n",
      "205/205 [==============================] - 2s 8ms/step - loss: 0.0025 - mse: 0.0025 - val_loss: 0.0025 - val_mse: 0.0025\n",
      "Epoch 73/100\n",
      "205/205 [==============================] - 2s 8ms/step - loss: 0.0025 - mse: 0.0025 - val_loss: 0.0026 - val_mse: 0.0026\n",
      "Epoch 74/100\n",
      "205/205 [==============================] - 2s 7ms/step - loss: 0.0024 - mse: 0.0024 - val_loss: 0.0025 - val_mse: 0.0025\n",
      "Epoch 75/100\n",
      "205/205 [==============================] - 1s 7ms/step - loss: 0.0025 - mse: 0.0025 - val_loss: 0.0026 - val_mse: 0.0026\n",
      "Epoch 76/100\n",
      "205/205 [==============================] - 2s 8ms/step - loss: 0.0025 - mse: 0.0025 - val_loss: 0.0025 - val_mse: 0.0025\n",
      "Epoch 77/100\n",
      "205/205 [==============================] - 2s 9ms/step - loss: 0.0024 - mse: 0.0024 - val_loss: 0.0027 - val_mse: 0.0027\n",
      "Epoch 78/100\n",
      "205/205 [==============================] - 2s 9ms/step - loss: 0.0024 - mse: 0.0024 - val_loss: 0.0025 - val_mse: 0.0025\n",
      "Epoch 79/100\n",
      "205/205 [==============================] - 2s 8ms/step - loss: 0.0024 - mse: 0.0024 - val_loss: 0.0025 - val_mse: 0.0025\n",
      "Epoch 80/100\n",
      "205/205 [==============================] - 2s 9ms/step - loss: 0.0025 - mse: 0.0025 - val_loss: 0.0026 - val_mse: 0.0026\n",
      "Epoch 81/100\n",
      "205/205 [==============================] - 1s 7ms/step - loss: 0.0024 - mse: 0.0024 - val_loss: 0.0025 - val_mse: 0.0025\n",
      "Epoch 82/100\n",
      "205/205 [==============================] - 2s 7ms/step - loss: 0.0024 - mse: 0.0024 - val_loss: 0.0025 - val_mse: 0.0025\n",
      "Epoch 83/100\n",
      "205/205 [==============================] - 2s 9ms/step - loss: 0.0024 - mse: 0.0024 - val_loss: 0.0025 - val_mse: 0.0025\n",
      "Epoch 84/100\n",
      "205/205 [==============================] - 1s 7ms/step - loss: 0.0025 - mse: 0.0025 - val_loss: 0.0025 - val_mse: 0.0025\n",
      "Epoch 85/100\n",
      "205/205 [==============================] - 1s 7ms/step - loss: 0.0024 - mse: 0.0024 - val_loss: 0.0025 - val_mse: 0.0025\n",
      "Epoch 86/100\n",
      "205/205 [==============================] - 2s 8ms/step - loss: 0.0024 - mse: 0.0024 - val_loss: 0.0025 - val_mse: 0.0025\n",
      "Epoch 87/100\n",
      "205/205 [==============================] - 2s 9ms/step - loss: 0.0025 - mse: 0.0025 - val_loss: 0.0025 - val_mse: 0.0025\n",
      "Epoch 88/100\n",
      "205/205 [==============================] - 1s 7ms/step - loss: 0.0025 - mse: 0.0025 - val_loss: 0.0025 - val_mse: 0.0025\n",
      "Epoch 89/100\n",
      "205/205 [==============================] - 2s 9ms/step - loss: 0.0024 - mse: 0.0024 - val_loss: 0.0025 - val_mse: 0.0025\n",
      "Epoch 90/100\n",
      "205/205 [==============================] - 1s 7ms/step - loss: 0.0025 - mse: 0.0025 - val_loss: 0.0025 - val_mse: 0.0025\n",
      "Epoch 91/100\n",
      "205/205 [==============================] - 2s 8ms/step - loss: 0.0025 - mse: 0.0025 - val_loss: 0.0026 - val_mse: 0.0026\n",
      "Epoch 92/100\n",
      "205/205 [==============================] - 2s 10ms/step - loss: 0.0025 - mse: 0.0025 - val_loss: 0.0025 - val_mse: 0.0025\n",
      "Epoch 93/100\n",
      "205/205 [==============================] - 2s 9ms/step - loss: 0.0024 - mse: 0.0024 - val_loss: 0.0025 - val_mse: 0.0025\n",
      "Epoch 94/100\n",
      "205/205 [==============================] - 2s 9ms/step - loss: 0.0024 - mse: 0.0024 - val_loss: 0.0027 - val_mse: 0.0027\n",
      "Epoch 95/100\n",
      "205/205 [==============================] - 2s 8ms/step - loss: 0.0025 - mse: 0.0025 - val_loss: 0.0025 - val_mse: 0.0025\n",
      "Epoch 96/100\n",
      "205/205 [==============================] - 2s 8ms/step - loss: 0.0024 - mse: 0.0024 - val_loss: 0.0026 - val_mse: 0.0026\n",
      "Epoch 97/100\n",
      "205/205 [==============================] - 2s 9ms/step - loss: 0.0024 - mse: 0.0024 - val_loss: 0.0025 - val_mse: 0.0025\n",
      "Epoch 98/100\n",
      "205/205 [==============================] - 2s 9ms/step - loss: 0.0025 - mse: 0.0025 - val_loss: 0.0025 - val_mse: 0.0025\n",
      "Epoch 99/100\n",
      "205/205 [==============================] - 2s 8ms/step - loss: 0.0025 - mse: 0.0025 - val_loss: 0.0026 - val_mse: 0.0026\n",
      "Epoch 100/100\n",
      "205/205 [==============================] - 2s 8ms/step - loss: 0.0024 - mse: 0.0024 - val_loss: 0.0025 - val_mse: 0.0025\n"
     ]
    }
   ],
   "source": [
    "history = model.fit(X_train, y_train,\n",
    "                    batch_size=36,\n",
    "                    epochs=100,\n",
    "                    validation_split = 0.1,\n",
    "                    verbose=1)"
   ]
  },
  {
   "cell_type": "code",
   "execution_count": 23,
   "metadata": {},
   "outputs": [
    {
     "data": {
      "image/png": "[encoded data removed]",
      "text/plain": [
       "<Figure size 640x480 with 1 Axes>"
      ]
     },
     "metadata": {},
     "output_type": "display_data"
    }
   ],
   "source": [
    "loss = history.history['loss']\n",
    "val_loss = history.history['val_loss']\n",
    "epochs = range(1, len(loss) + 1)\n",
    "plt.plot(epochs, loss, 'r.', label='Training loss')\n",
    "plt.plot(epochs, val_loss, 'y', label='Validation loss')\n",
    "plt.title('Training and validation loss')\n",
    "plt.xlabel('Epochs')\n",
    "plt.ylabel('Loss')\n",
    "plt.grid()\n",
    "plt.legend()\n",
    "plt.show()"
   ]
  },
  {
   "cell_type": "code",
   "execution_count": 24,
   "metadata": {},
   "outputs": [],
   "source": [
    "model.save('model.keras')"
   ]
  },
  {
   "cell_type": "code",
   "execution_count": 25,
   "metadata": {},
   "outputs": [
    {
     "name": "stdout",
     "output_type": "stream",
     "text": [
      "Input test:  [0.07407407 0.07142857 0.94936709]\n"
     ]
    }
   ],
   "source": [
    "print('Input test: ', X_test[0])"
   ]
  },
  {
   "cell_type": "code",
   "execution_count": 26,
   "metadata": {},
   "outputs": [
    {
     "name": "stdout",
     "output_type": "stream",
     "text": [
      "64/64 [==============================] - 0s 5ms/step\n",
      "Predict test:  [0.08675538]\n"
     ]
    }
   ],
   "source": [
    "print('Predict test: ', model.predict(X_test)[0])"
   ]
  },
  {
   "cell_type": "code",
   "execution_count": 34,
   "metadata": {},
   "outputs": [
    {
     "name": "stdout",
     "output_type": "stream",
     "text": [
      "64/64 [==============================] - 0s 2ms/step\n"
     ]
    }
   ],
   "source": [
    "error = model.predict(X_test) - y_test"
   ]
  },
  {
   "cell_type": "code",
   "execution_count": 44,
   "metadata": {},
   "outputs": [
    {
     "data": {
      "image/png": "[encoded data removed]",
      "text/plain": [
       "<Figure size 800x600 with 1 Axes>"
      ]
     },
     "metadata": {},
     "output_type": "display_data"
    }
   ],
   "source": [
    "# Estatísticas\n",
    "error_mean = np.mean(error)\n",
    "error_std = np.std(error)\n",
    "error_max = np.max(error)\n",
    "error_min = np.min(error)\n",
    "\n",
    "# Criando a figura e os eixos\n",
    "fig, ax = plt.subplots(figsize=(8, 6))\n",
    "\n",
    "# Estilo do gráfico\n",
    "plt.style.use('ggplot')\n",
    "\n",
    "# Plotando histograma com KDE (Densidade) sem legenda\n",
    "sns.histplot(error, bins=30, color='coral', edgecolor='black', stat=\"density\", kde=True, legend=False, ax=ax)\n",
    "\n",
    "# Configuração dos eixos\n",
    "ax.set_xlabel('Error', fontsize=14)\n",
    "ax.set_ylabel('Density', fontsize=14)\n",
    "#ax.set_title('Error Distribution', fontsize=15)\n",
    "ax.tick_params(labelsize=14)\n",
    "ax.grid(True)\n",
    "\n",
    "# Definindo limites do eixo X\n",
    "#ax.set_xlim(error_min, error_max)\n",
    "\n",
    "# Exibir os valores estatísticos no gráfico\n",
    "textstr = '\\n'.join((\n",
    "    f'Max: {error_max:.4f}',\n",
    "    f'Min: {error_min:.4f}',\n",
    "    f'Mean: {error_mean:.4f}',\n",
    "    f'2x Std: {2 * error_std:.4f}'\n",
    "))\n",
    "props = dict(boxstyle='round', facecolor='gray', alpha=0.5)\n",
    "ax.text(0.95, 0.95, textstr, transform=ax.transAxes, fontsize=12,\n",
    "        verticalalignment='top', horizontalalignment='right', bbox=props)\n",
    "\n",
    "plt.savefig('./figures/example_04_tensorflow.pdf', bbox_inches='tight', pad_inches=0, dpi=300)\n",
    "# Exibir gráfico\n",
    "plt.show()"
   ]
  },
  {
   "cell_type": "markdown",
   "metadata": {},
   "source": [
    "## 7. TensorFlores converter"
   ]
  },
  {
   "cell_type": "markdown",
   "metadata": {},
   "source": [
    "### 7.2 Convert the Tensorflow model, using post quantization int8 and total (weights eand biases)"
   ]
  },
  {
   "cell_type": "markdown",
   "metadata": {},
   "source": [
    "#### 7.2.1 Save as Json"
   ]
  },
  {
   "cell_type": "code",
   "execution_count": 39,
   "metadata": {},
   "outputs": [
    {
     "data": {
      "text/plain": [
       "{'num_layers': 3,\n",
       " 'model_quantized': False,\n",
       " 'layers': [{'activation': 'relu',\n",
       "   'weights': [[-0.055946290493011475,\n",
       "     0.25544336438179016,\n",
       "     -0.1677962690591812,\n",
       "     -0.24042336642742157,\n",
       "     -0.3851415812969208,\n",
       "     0.13297191262245178,\n",
       "     -0.2959812879562378,\n",
       "     -0.627983570098877,\n",
       "     -0.23762357234954834,\n",
       "     0.14383621513843536,\n",
       "     0.19565051794052124,\n",
       "     0.4166729748249054,\n",
       "     0.10857810080051422,\n",
       "     0.0682215467095375,\n",
       "     -0.12774406373500824,\n",
       "     -0.18944166600704193],\n",
       "    [-0.010265938937664032,\n",
       "     0.02899676002562046,\n",
       "     -0.05181903392076492,\n",
       "     -0.027036717161536217,\n",
       "     0.09078267216682434,\n",
       "     0.2171010971069336,\n",
       "     0.33169761300086975,\n",
       "     0.2999674677848816,\n",
       "     -0.28696271777153015,\n",
       "     0.010510396212339401,\n",
       "     0.3113749623298645,\n",
       "     -0.11481685936450958,\n",
       "     -0.014491205103695393,\n",
       "     0.24176064133644104,\n",
       "     0.009042521938681602,\n",
       "     0.2737092673778534],\n",
       "    [0.5430805683135986,\n",
       "     -0.0355449914932251,\n",
       "     0.7996528744697571,\n",
       "     -0.06415177881717682,\n",
       "     -0.4424959719181061,\n",
       "     0.004908693954348564,\n",
       "     0.17124532163143158,\n",
       "     -0.5495506525039673,\n",
       "     0.05071115121245384,\n",
       "     -1.1432512998580933,\n",
       "     0.3441008925437927,\n",
       "     0.6243578791618347,\n",
       "     -0.42046964168548584,\n",
       "     0.08634669333696365,\n",
       "     0.5630371570587158,\n",
       "     -0.28270694613456726]],\n",
       "   'biases': [-0.3212004005908966,\n",
       "    0.034798115491867065,\n",
       "    -0.049306079745292664,\n",
       "    0.2670401632785797,\n",
       "    -0.012725725769996643,\n",
       "    -0.06607148796319962,\n",
       "    0.18026979267597198,\n",
       "    0.09813134372234344,\n",
       "    -0.03553032502532005,\n",
       "    0.09224545955657959,\n",
       "    -0.14037330448627472,\n",
       "    -0.13850532472133636,\n",
       "    -0.07946788519620895,\n",
       "    0.07682864367961884,\n",
       "    -0.013832597993314266,\n",
       "    0.017839139327406883]},\n",
       "  {'activation': 'relu',\n",
       "   'weights': [[0.8417611122131348,\n",
       "     0.4493426978588104,\n",
       "     0.28377676010131836,\n",
       "     0.3597555160522461,\n",
       "     -1.140106201171875,\n",
       "     -0.48428627848625183,\n",
       "     -0.3080860674381256,\n",
       "     -1.2577567100524902],\n",
       "    [0.6875724792480469,\n",
       "     -0.15585291385650635,\n",
       "     0.39727312326431274,\n",
       "     0.14306038618087769,\n",
       "     0.3196006417274475,\n",
       "     0.25495991110801697,\n",
       "     -0.05243866145610809,\n",
       "     -0.07396707683801651],\n",
       "    [-0.7155982255935669,\n",
       "     -0.13485726714134216,\n",
       "     -0.38396912813186646,\n",
       "     0.4957362115383148,\n",
       "     0.5905218124389648,\n",
       "     0.5717446208000183,\n",
       "     -0.031067023053765297,\n",
       "     0.04942433536052704],\n",
       "    [-0.7136348485946655,\n",
       "     -0.5893297791481018,\n",
       "     -0.46534430980682373,\n",
       "     0.09229658544063568,\n",
       "     -0.16737639904022217,\n",
       "     0.4173824191093445,\n",
       "     -0.23681335151195526,\n",
       "     0.029278980568051338],\n",
       "    [-0.18172936141490936,\n",
       "     -0.43571236729621887,\n",
       "     -0.2866133451461792,\n",
       "     0.2061418741941452,\n",
       "     -0.49746984243392944,\n",
       "     -0.12706446647644043,\n",
       "     -0.040045857429504395,\n",
       "     0.4475451111793518],\n",
       "    [0.2077343463897705,\n",
       "     0.18851199746131897,\n",
       "     -0.509937584400177,\n",
       "     0.12705600261688232,\n",
       "     -0.2807154059410095,\n",
       "     -0.2516205608844757,\n",
       "     0.30678436160087585,\n",
       "     0.3295562267303467],\n",
       "    [-0.33925381302833557,\n",
       "     0.432159423828125,\n",
       "     -0.4023752808570862,\n",
       "     0.19595350325107574,\n",
       "     0.3671025335788727,\n",
       "     0.42110031843185425,\n",
       "     -0.06453301757574081,\n",
       "     0.3743720054626465],\n",
       "    [0.11845012754201889,\n",
       "     -0.3710026741027832,\n",
       "     -0.4561530351638794,\n",
       "     0.21200238168239594,\n",
       "     0.37080854177474976,\n",
       "     0.2777617275714874,\n",
       "     0.22258064150810242,\n",
       "     0.4559287130832672],\n",
       "    [-0.48714086413383484,\n",
       "     -0.06790173053741455,\n",
       "     -0.45252764225006104,\n",
       "     0.34985750913619995,\n",
       "     -0.14107345044612885,\n",
       "     0.2710920572280884,\n",
       "     0.28617537021636963,\n",
       "     -0.013530273921787739],\n",
       "    [-0.05505752190947533,\n",
       "     -0.4678078293800354,\n",
       "     -0.0024098290596157312,\n",
       "     0.5813484787940979,\n",
       "     0.1539410650730133,\n",
       "     0.6004324555397034,\n",
       "     0.29632627964019775,\n",
       "     -0.3302171528339386],\n",
       "    [-0.049560192972421646,\n",
       "     -0.233230859041214,\n",
       "     -0.5297637581825256,\n",
       "     -0.4901913106441498,\n",
       "     -0.2906176745891571,\n",
       "     -0.4767274558544159,\n",
       "     0.06872598081827164,\n",
       "     0.08158299326896667],\n",
       "    [0.3833775222301483,\n",
       "     0.4521147906780243,\n",
       "     -0.20638655126094818,\n",
       "     -0.7712963819503784,\n",
       "     -0.40428626537323,\n",
       "     -0.7028319239616394,\n",
       "     0.11883602291345596,\n",
       "     0.007901305332779884],\n",
       "    [0.18275940418243408,\n",
       "     -0.11060786247253418,\n",
       "     0.3008561432361603,\n",
       "     -0.5385338664054871,\n",
       "     -0.1314622014760971,\n",
       "     0.16629129648208618,\n",
       "     0.4057028293609619,\n",
       "     0.29929932951927185],\n",
       "    [0.2140502780675888,\n",
       "     0.6223053336143494,\n",
       "     0.030041523277759552,\n",
       "     -0.12094015628099442,\n",
       "     0.17888446152210236,\n",
       "     -0.17546775937080383,\n",
       "     -0.3836839497089386,\n",
       "     0.2365342080593109],\n",
       "    [0.2681475579738617,\n",
       "     0.15316835045814514,\n",
       "     0.09325658529996872,\n",
       "     -0.09437163174152374,\n",
       "     0.38701263070106506,\n",
       "     0.0336984284222126,\n",
       "     -0.19425594806671143,\n",
       "     0.2714982032775879],\n",
       "    [-0.23753277957439423,\n",
       "     0.1823681890964508,\n",
       "     0.2763634920120239,\n",
       "     -0.3425593376159668,\n",
       "     0.387326180934906,\n",
       "     -0.014426753856241703,\n",
       "     0.3049626648426056,\n",
       "     -0.14091522991657257]],\n",
       "   'biases': [0.12286891043186188,\n",
       "    0.25903749465942383,\n",
       "    -0.06923472881317139,\n",
       "    0.12782526016235352,\n",
       "    0.07557117193937302,\n",
       "    -0.08897342532873154,\n",
       "    -0.06694396585226059,\n",
       "    -0.0859079658985138]},\n",
       "  {'activation': 'linear',\n",
       "   'weights': [[0.45022499561309814],\n",
       "    [0.20802143216133118],\n",
       "    [0.4183614253997803],\n",
       "    [-0.9587167501449585],\n",
       "    [-0.40010419487953186],\n",
       "    [0.8254634737968445],\n",
       "    [-0.5266174674034119],\n",
       "    [-0.09796174615621567]],\n",
       "   'biases': [0.17288075387477875]}]}"
      ]
     },
     "execution_count": 39,
     "metadata": {},
     "output_type": "execute_result"
    }
   ],
   "source": [
    "model_as_json = JsonHandle().convert_tensorflow_model_to_json(tensorflow_model = model)\n",
    "model_as_json"
   ]
  },
  {
   "cell_type": "code",
   "execution_count": 41,
   "metadata": {},
   "outputs": [
    {
     "name": "stdout",
     "output_type": "stream",
     "text": [
      "Model C++ saved!\n"
     ]
    }
   ],
   "source": [
    "cpp_model = CppGeneration().generate_cpp_from_json(json_data = model_as_json, file_name = 'tensorflow_model')"
   ]
  },
  {
   "cell_type": "code",
   "execution_count": 29,
   "metadata": {},
   "outputs": [
    {
     "data": {
      "text/plain": [
       "{'num_layers': 3,\n",
       " 'model_quantized': 'evolving',\n",
       " 'layers': [{'activation': 'relu',\n",
       "   'weights': [[6, 5, 4, 4, 1, 0, 4, 1, 4, 0, 0, 3, 0, 6, 4, 4],\n",
       "    [6, 6, 6, 6, 0, 0, 5, 5, 4, 6, 5, 4, 6, 5, 6, 5],\n",
       "    [2, 6, 2, 6, 1, 6, 0, 1, 6, 1, 5, 2, 1, 0, 2, 4]],\n",
       "   'biases': [1, 0, 0, 2, 0, 1, 2, 0, 0, 0, 1, 1, 1, 0, 0, 0]},\n",
       "  {'activation': 'relu',\n",
       "   'weights': [[2, 3, 5, 5, 1, 1, 4, 1],\n",
       "    [2, 4, 3, 0, 5, 5, 6, 6],\n",
       "    [1, 4, 1, 2, 2, 2, 6, 6],\n",
       "    [1, 1, 1, 0, 4, 3, 4, 6],\n",
       "    [4, 1, 4, 0, 1, 4, 6, 3],\n",
       "    [0, 0, 1, 0, 4, 4, 5, 5],\n",
       "    [4, 3, 1, 0, 5, 3, 6, 5],\n",
       "    [0, 4, 1, 0, 5, 5, 5, 3],\n",
       "    [1, 6, 1, 5, 4, 5, 5, 6],\n",
       "    [6, 1, 6, 2, 0, 2, 5, 4],\n",
       "    [6, 4, 1, 1, 4, 1, 6, 0],\n",
       "    [5, 3, 4, 1, 1, 1, 0, 6],\n",
       "    [0, 4, 5, 1, 4, 0, 3, 5],\n",
       "    [0, 2, 6, 4, 0, 4, 1, 5],\n",
       "    [5, 0, 0, 6, 3, 6, 4, 5],\n",
       "    [4, 0, 5, 4, 3, 6, 5, 4]],\n",
       "   'biases': [2, 2, 1, 2, 0, 1, 1, 1]},\n",
       "  {'activation': 'linear',\n",
       "   'weights': [[3], [0], [3], [1], [1], [2], [1], [6]],\n",
       "   'biases': [2]}],\n",
       " 'centers_bias': [0.02405343120608176,\n",
       "  -0.13943931460380557,\n",
       "  0.17288075387477875],\n",
       " 'centers_weights': [0.07984112196997376,\n",
       "  -0.468370201229922,\n",
       "  0.5689283789092537,\n",
       "  0.408791889902204,\n",
       "  -0.2863646579072318,\n",
       "  0.3588692843914032,\n",
       "  0.06696142007907233]}"
      ]
     },
     "execution_count": 29,
     "metadata": {},
     "output_type": "execute_result"
    }
   ],
   "source": [
    "\n",
    "Clustering_method = ClusteringMethods()\n",
    "\n",
    "bias_clustering_method = Clustering_method.autocloud_biases(threshold_biases = 1.4148)\n",
    "weight_clustering_method = Clustering_method.autocloud_weight(threshold_weights = 1.4148)\n",
    "Quantization().post_training_quantization(json_data = model_as_json, quantization_type = 'evolving', distance_metric = \"euclidean\", \n",
    "        bias_clustering_method = bias_clustering_method,\n",
    "        weight_clustering_method = weight_clustering_method)"
   ]
  },
  {
   "cell_type": "code",
   "execution_count": 42,
   "metadata": {},
   "outputs": [
    {
     "name": "stdout",
     "output_type": "stream",
     "text": [
      "Model C++ saved!\n"
     ]
    }
   ],
   "source": [
    "cpp_model = CppGeneration().generate_cpp_from_json(json_data = model_as_json, file_name = 'tensorflow_evolving')"
   ]
  },
  {
   "cell_type": "code",
   "execution_count": 31,
   "metadata": {},
   "outputs": [],
   "source": [
    "model_as_json_int8 = Quantization().post_training_quantization(json_data = model_as_json,\n",
    "                                        quantization_type = 'int8')"
   ]
  },
  {
   "cell_type": "code",
   "execution_count": 32,
   "metadata": {},
   "outputs": [
    {
     "data": {
      "text/plain": [
       "{'num_layers': 3,\n",
       " 'model_quantized': 'int8',\n",
       " 'layers': [{'activation': 'relu',\n",
       "   'weights': [[145,\n",
       "     183,\n",
       "     132,\n",
       "     123,\n",
       "     105,\n",
       "     168,\n",
       "     116,\n",
       "     76,\n",
       "     123,\n",
       "     170,\n",
       "     176,\n",
       "     203,\n",
       "     165,\n",
       "     161,\n",
       "     137,\n",
       "     129],\n",
       "    [151,\n",
       "     156,\n",
       "     146,\n",
       "     149,\n",
       "     163,\n",
       "     179,\n",
       "     193,\n",
       "     189,\n",
       "     117,\n",
       "     154,\n",
       "     190,\n",
       "     138,\n",
       "     151,\n",
       "     182,\n",
       "     153,\n",
       "     186],\n",
       "    [218,\n",
       "     148,\n",
       "     249,\n",
       "     144,\n",
       "     99,\n",
       "     153,\n",
       "     173,\n",
       "     86,\n",
       "     158,\n",
       "     13,\n",
       "     194,\n",
       "     228,\n",
       "     101,\n",
       "     163,\n",
       "     221,\n",
       "     118]],\n",
       "   'biases': [113,\n",
       "    156,\n",
       "    146,\n",
       "    185,\n",
       "    151,\n",
       "    144,\n",
       "    174,\n",
       "    164,\n",
       "    148,\n",
       "    163,\n",
       "    135,\n",
       "    135,\n",
       "    143,\n",
       "    162,\n",
       "    151,\n",
       "    154]},\n",
       "  {'activation': 'relu',\n",
       "   'weights': [[255, 207, 187, 196, 14, 93, 115, 0],\n",
       "    [236, 133, 201, 170, 191, 183, 146, 143],\n",
       "    [65, 136, 106, 212, 224, 222, 148, 158],\n",
       "    [66, 81, 96, 163, 132, 203, 124, 156],\n",
       "    [130, 99, 117, 177, 92, 137, 147, 207],\n",
       "    [177, 175, 90, 168, 118, 122, 190, 192],\n",
       "    [111, 205, 103, 176, 197, 203, 144, 198],\n",
       "    [167, 107, 97, 178, 197, 186, 179, 208],\n",
       "    [93, 144, 97, 195, 135, 185, 187, 151],\n",
       "    [146, 95, 152, 223, 171, 225, 188, 112],\n",
       "    [146, 124, 88, 93, 117, 94, 161, 162],\n",
       "    [199, 207, 127, 59, 103, 67, 167, 153],\n",
       "    [174, 139, 189, 87, 136, 172, 202, 189],\n",
       "    [178, 228, 156, 138, 174, 131, 106, 181],\n",
       "    [185, 171, 164, 141, 199, 156, 129, 185],\n",
       "    [123, 174, 186, 111, 199, 151, 189, 135]],\n",
       "   'biases': [167, 184, 144, 168, 161, 141, 144, 142]},\n",
       "  {'activation': 'linear',\n",
       "   'weights': [[207], [178], [203], [36], [104], [253], [88], [140]],\n",
       "   'biases': [173]}],\n",
       " 'max_value': 0.8417611122131348,\n",
       " 'min_value': -1.2577567100524902}"
      ]
     },
     "execution_count": 32,
     "metadata": {},
     "output_type": "execute_result"
    }
   ],
   "source": [
    "model_as_json_int8"
   ]
  },
  {
   "cell_type": "code",
   "execution_count": 43,
   "metadata": {},
   "outputs": [
    {
     "name": "stdout",
     "output_type": "stream",
     "text": [
      "Model C++ saved!\n"
     ]
    }
   ],
   "source": [
    "cpp_model_int8 = CppGeneration().generate_cpp_from_json(json_data = model_as_json_int8, file_name = 'tensorflow_int8')"
   ]
  }
 ],
 "metadata": {
  "kernelspec": {
   "display_name": "Python 3",
   "language": "python",
   "name": "python3"
  },
  "language_info": {
   "codemirror_mode": {
    "name": "ipython",
    "version": 3
   },
   "file_extension": ".py",
   "mimetype": "text/x-python",
   "name": "python",
   "nbconvert_exporter": "python",
   "pygments_lexer": "ipython3",
   "version": "3.9.6"
  }
 },
 "nbformat": 4,
 "nbformat_minor": 2
}
