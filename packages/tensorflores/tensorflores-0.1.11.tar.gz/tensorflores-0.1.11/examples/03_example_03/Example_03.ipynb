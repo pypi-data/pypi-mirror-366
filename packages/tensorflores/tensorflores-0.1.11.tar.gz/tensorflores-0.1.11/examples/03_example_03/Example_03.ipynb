{
 "cells": [
  {
   "cell_type": "markdown",
   "metadata": {},
   "source": [
    "# TensorFlores - Example 3"
   ]
  },
  {
   "cell_type": "markdown",
   "metadata": {},
   "source": [
    "## 1. Importing libraries"
   ]
  },
  {
   "cell_type": "code",
   "execution_count": 8,
   "metadata": {},
   "outputs": [],
   "source": [
    "import sys, os\n",
    "path = os.getcwd().split('\\\\examples')[0]\n",
    "sys.path.append(path)"
   ]
  },
  {
   "cell_type": "code",
   "execution_count": 9,
   "metadata": {},
   "outputs": [],
   "source": [
    "import pandas as pd\n",
    "import numpy as np\n",
    "import matplotlib.pyplot as plt\n",
    "import seaborn as sns\n",
    "\n",
    "from tensorflores.utils.clustering import ClusteringMethods\n",
    "from tensorflores.utils.quantization import Quantization\n",
    "from tensorflores.utils.cpp_generation import CppGeneration\n",
    "from tensorflores.utils.json_handle import JsonHandle"
   ]
  },
  {
   "cell_type": "markdown",
   "metadata": {},
   "source": [
    "## 2.  Create the TensorFlores class"
   ]
  },
  {
   "cell_type": "markdown",
   "metadata": {},
   "source": [
    "## 3. Load model from json"
   ]
  },
  {
   "cell_type": "code",
   "execution_count": 10,
   "metadata": {},
   "outputs": [
    {
     "name": "stdout",
     "output_type": "stream",
     "text": [
      "Successfully loaded JSON file: ./tensorflores_without_quant.json\n"
     ]
    },
    {
     "data": {
      "text/plain": [
       "{'model_quantized': False,\n",
       " 'num_layers': 3,\n",
       " 'layers': [{'activation': 'relu',\n",
       "   'weights': [[0.25130431662396613,\n",
       "     -1.2147914404241322,\n",
       "     -0.2884391170139249,\n",
       "     0.8606677711806703,\n",
       "     1.5018800063241295,\n",
       "     1.457068347654409,\n",
       "     2.485611518934096,\n",
       "     -0.2194694221104431,\n",
       "     1.44672478778409,\n",
       "     -0.036373508158682274,\n",
       "     -2.7866812544379806,\n",
       "     -0.5462811108638331,\n",
       "     0.5005394347543287,\n",
       "     0.046451653299363044,\n",
       "     -1.241076380766991,\n",
       "     0.24541163169106964],\n",
       "    [0.7360947147160628,\n",
       "     -0.22909043202182777,\n",
       "     -0.02888562950803397,\n",
       "     1.4740145700748322,\n",
       "     -0.972825532772787,\n",
       "     1.1031430486796638,\n",
       "     -0.8224112838985033,\n",
       "     -0.4990274814217257,\n",
       "     0.038942922605802455,\n",
       "     1.3026129213060025,\n",
       "     -0.977868792905857,\n",
       "     0.19823389720251328,\n",
       "     -1.0935966078970152,\n",
       "     1.2092028471045888,\n",
       "     -0.7700673867395008,\n",
       "     0.24021322746849333],\n",
       "    [1.1378215866161998,\n",
       "     0.008643173246605705,\n",
       "     -0.6594804193082676,\n",
       "     0.016496096434585293,\n",
       "     1.1809950202488912,\n",
       "     -1.6618199459360117,\n",
       "     1.2391240109167398,\n",
       "     0.8348225347407953,\n",
       "     -0.4982755277223971,\n",
       "     0.5887411396126568,\n",
       "     1.9910831205064137,\n",
       "     -0.410360722221189,\n",
       "     -0.5844452903962888,\n",
       "     -0.707437360100421,\n",
       "     -1.2415350115018677,\n",
       "     -1.0085503978733108]],\n",
       "   'biases': [-0.00661694117823328,\n",
       "    -0.011793890873857609,\n",
       "    0.008761852875022819,\n",
       "    -0.012785585881086903,\n",
       "    -0.0027887780188731335,\n",
       "    0.0005198726109704008,\n",
       "    -0.01640923879334639,\n",
       "    -0.0040365228696589706,\n",
       "    -0.004333346605972805,\n",
       "    -0.006451286568398461,\n",
       "    0.02048311797735747,\n",
       "    -0.014754874098237693,\n",
       "    -0.010347294840309273,\n",
       "    0.006467824805941737,\n",
       "    0.002257082829689511,\n",
       "    -0.0007130371317065206]},\n",
       "  {'activation': 'relu',\n",
       "   'weights': [[-0.1485636793511766,\n",
       "     0.3569973851800046,\n",
       "     0.17908540512565607,\n",
       "     -0.523877698898761,\n",
       "     0.2945924250968459,\n",
       "     1.116635008713201,\n",
       "     0.42687132679557116,\n",
       "     1.0102292672725561],\n",
       "    [1.2547210736366834,\n",
       "     1.4752272780003175,\n",
       "     -0.45328894351466564,\n",
       "     1.0414994898562566,\n",
       "     -0.4472473205849872,\n",
       "     2.0979128794616053,\n",
       "     0.5269527636182276,\n",
       "     0.2518133406709035],\n",
       "    [-0.9441392957123559,\n",
       "     -0.6750334563431777,\n",
       "     0.501346465811451,\n",
       "     0.7561621982059055,\n",
       "     0.6152131928814151,\n",
       "     -0.9420826372525032,\n",
       "     -1.1021618286196757,\n",
       "     0.6699094525939754],\n",
       "    [0.5352327723617429,\n",
       "     -1.7938438142587556,\n",
       "     -0.5343812365606473,\n",
       "     1.1396737616705106,\n",
       "     0.36302727001850404,\n",
       "     0.11457044902237028,\n",
       "     -0.5067370410922932,\n",
       "     -0.9955378494486228],\n",
       "    [-0.4478905378279604,\n",
       "     -0.5032414043436796,\n",
       "     0.5580158757981062,\n",
       "     0.6985938355761102,\n",
       "     -0.3293936902581421,\n",
       "     -0.5377471148046655,\n",
       "     -1.1656855330407871,\n",
       "     -0.9418728454323618],\n",
       "    [1.763680904867001,\n",
       "     -0.7304675691115415,\n",
       "     -1.5941530682113298,\n",
       "     0.32190105564576454,\n",
       "     -0.2341177492162813,\n",
       "     1.343946796665376,\n",
       "     1.5432795962406816,\n",
       "     1.3548460259580757],\n",
       "    [-0.6158331790837044,\n",
       "     -0.9075132587846512,\n",
       "     -0.18737321800424672,\n",
       "     0.16804536046932989,\n",
       "     -0.5872912647331963,\n",
       "     0.8814396473790074,\n",
       "     -0.13163806140116968,\n",
       "     0.28043119455991633],\n",
       "    [-0.418018042618772,\n",
       "     1.3550861118141613,\n",
       "     1.0077904811716305,\n",
       "     1.4557116683102709,\n",
       "     -0.08877165232197029,\n",
       "     1.532732528696962,\n",
       "     0.32151601545443453,\n",
       "     -0.4252916316223109],\n",
       "    [0.2355449822832505,\n",
       "     0.021011609020350205,\n",
       "     0.6765907336904919,\n",
       "     -0.2055125703299116,\n",
       "     -0.012019329622008641,\n",
       "     1.6773548969042094,\n",
       "     -0.05185310700886722,\n",
       "     -1.5774350462048383],\n",
       "    [0.8724162811956299,\n",
       "     -0.7925989074620606,\n",
       "     -0.07749276692811417,\n",
       "     -0.9309781561471873,\n",
       "     0.7198293085493946,\n",
       "     -1.0770913258756176,\n",
       "     0.09791018116772175,\n",
       "     -0.48234644852580866],\n",
       "    [1.4647440293416336,\n",
       "     -0.5298677585198952,\n",
       "     -0.20334955368608285,\n",
       "     -0.5125437835940555,\n",
       "     -0.7764562281027877,\n",
       "     0.004242222388113183,\n",
       "     0.08571038693364064,\n",
       "     0.7869639011680545],\n",
       "    [0.34945572469841635,\n",
       "     -1.1314617429752925,\n",
       "     1.2865080774841469,\n",
       "     0.06977886431710244,\n",
       "     0.13661799544935907,\n",
       "     1.9597726048337496,\n",
       "     -0.46538064813283053,\n",
       "     -0.8371807153209272],\n",
       "    [-0.22277421167151476,\n",
       "     -0.2862962272219545,\n",
       "     0.6810733009125609,\n",
       "     -0.2045169607471015,\n",
       "     0.5905001708630732,\n",
       "     0.312131402668764,\n",
       "     1.1670274243342988,\n",
       "     -2.047408478142414],\n",
       "    [0.3274117151897499,\n",
       "     0.16215166284921767,\n",
       "     1.63865111365463,\n",
       "     1.3079013742172985,\n",
       "     -0.4613366756451735,\n",
       "     -1.5217601730486077,\n",
       "     1.5827349351697597,\n",
       "     1.140247155803638],\n",
       "    [-0.5495862537280967,\n",
       "     -1.1010219911121708,\n",
       "     0.3912969124561298,\n",
       "     1.9191618950105565,\n",
       "     1.1948614254162662,\n",
       "     0.2330976392748248,\n",
       "     0.6599943704106348,\n",
       "     -1.6211173406238175],\n",
       "    [-0.03489815422666802,\n",
       "     0.5227145409950461,\n",
       "     -1.383323314036505,\n",
       "     2.1831090028509856,\n",
       "     -0.3359312163901842,\n",
       "     -0.7739581288762516,\n",
       "     0.8886294000043664,\n",
       "     -1.467504544906624]],\n",
       "   'biases': [0.00614338070753355,\n",
       "    -0.0013846056296751823,\n",
       "    -0.00470371281584063,\n",
       "    -0.0008368695999715229,\n",
       "    0.0002615576281515959,\n",
       "    0.010889836801382757,\n",
       "    0.003939469766272716,\n",
       "    0.00184923021499863]},\n",
       "  {'activation': 'linear',\n",
       "   'weights': [[0.4824099067055086],\n",
       "    [0.1100612727241187],\n",
       "    [0.0986326662007946],\n",
       "    [0.8838276773487592],\n",
       "    [-0.5556334860221619],\n",
       "    [-0.407548802718415],\n",
       "    [-1.0388067433395756],\n",
       "    [0.20052746747409889]],\n",
       "   'biases': [0.0034703559530694685]}]}"
      ]
     },
     "execution_count": 10,
     "metadata": {},
     "output_type": "execute_result"
    }
   ],
   "source": [
    "model_as_json = JsonHandle().load_json_model('./tensorflores_without_quant')\n",
    "model_as_json"
   ]
  },
  {
   "cell_type": "markdown",
   "metadata": {},
   "source": [
    "## 4. Post-Training Quantization"
   ]
  },
  {
   "cell_type": "markdown",
   "metadata": {},
   "source": [
    "### 4.1 Evolving post-training quantization"
   ]
  },
  {
   "cell_type": "markdown",
   "metadata": {},
   "source": [
    "#### 4.1.1 Choose the quantization method\n",
    "\n",
    "- Autocloud \n",
    "    - bias_clustering_method = Clustering_method.autocloud_biases(threshold_biases = 1.4148)\n",
    "    - weight_clustering_method = Clustering_method.autocloud_weight(threshold_weights = 1.4148)\n",
    "\n",
    "- Meanshift\n",
    "    - weight_clustering_method = Clustering_method.meanshift_weight(bandwidth_weights = 0.005)\n",
    "    - bias_clustering_method = Clustering_method.meanshift_biases(bandwidth_biases = 0.005)\n",
    "\n",
    "- Affinity Propagation\n",
    "    - weight_clustering_method = Clustering_method.affinity_propagation_weight(affinityprop_damping_bias = 0.65)\n",
    "    - bias_clustering_method = Clustering_method.affinity_propagation_biases(affinityprop_damping_weight = 0.7)\n",
    "\n",
    "- DBSTREAM\n",
    "    - weight_clustering_method = Clustering_method.dbstream_weight(clustering_threshold_bias = 0.8)\n",
    "    - bias_clustering_method = Clustering_method.dbstream_biases(clustering_threshold_weight = 0.1)"
   ]
  },
  {
   "cell_type": "code",
   "execution_count": 11,
   "metadata": {},
   "outputs": [],
   "source": [
    "Clustering_method = ClusteringMethods()\n",
    "\n",
    "bias_clustering_method = Clustering_method.autocloud_biases(threshold_biases = 1.4)\n",
    "weight_clustering_method = Clustering_method.autocloud_weight(threshold_weights = 1.4)"
   ]
  },
  {
   "cell_type": "markdown",
   "metadata": {},
   "source": [
    "#### 4.1.2 Define the metric to calculate the distance between the centroids of the clusters and the values of weights and/or biases\n",
    "\n",
    "- \"euclidean\"\n",
    "- \"manhattan\"\n",
    "- \"minkowski\"\n",
    "- \"chebyshev\"\n",
    "- \"cosine\"\n",
    "- \"hamming\"\n",
    "- \"bray_curtis\"\n",
    "- \"jaccard\"\n",
    "- \"wasserstein\"\n",
    "- \"dtw\""
   ]
  },
  {
   "cell_type": "code",
   "execution_count": 12,
   "metadata": {},
   "outputs": [
    {
     "ename": "ValueError",
     "evalue": "Error in post-training quantization: Error applying clustering method AUTOCLOUD: 'ClusteringMethods' object has no attribute '_apply_autocloud'.",
     "output_type": "error",
     "traceback": [
      "\u001b[1;31m---------------------------------------------------------------------------\u001b[0m",
      "\u001b[1;31mAttributeError\u001b[0m                            Traceback (most recent call last)",
      "File \u001b[1;32m~\\TensorFlores\\tensorflores\\utils\\clustering.py:220\u001b[0m, in \u001b[0;36mClusteringMethods.applying_clusterings\u001b[1;34m(self, clustering_method, parameter_list)\u001b[0m\n\u001b[0;32m    219\u001b[0m \u001b[38;5;28;01mif\u001b[39;00m method_name \u001b[38;5;241m==\u001b[39m \u001b[38;5;124m\"\u001b[39m\u001b[38;5;124mAUTOCLOUD\u001b[39m\u001b[38;5;124m\"\u001b[39m:\n\u001b[1;32m--> 220\u001b[0m     \u001b[38;5;28;43mself\u001b[39;49m\u001b[38;5;241;43m.\u001b[39;49m\u001b[43m_apply_autocloud\u001b[49m(clusterization, parameter_list, center_list)\n\u001b[0;32m    222\u001b[0m \u001b[38;5;28;01melif\u001b[39;00m method_name \u001b[38;5;129;01min\u001b[39;00m {\u001b[38;5;124m\"\u001b[39m\u001b[38;5;124mMEANSHIFT\u001b[39m\u001b[38;5;124m\"\u001b[39m, \u001b[38;5;124m\"\u001b[39m\u001b[38;5;124mAFFINITYPROP\u001b[39m\u001b[38;5;124m\"\u001b[39m}:\n",
      "\u001b[1;31mAttributeError\u001b[0m: 'ClusteringMethods' object has no attribute '_apply_autocloud'",
      "\nDuring handling of the above exception, another exception occurred:\n",
      "\u001b[1;31mRuntimeError\u001b[0m                              Traceback (most recent call last)",
      "File \u001b[1;32m~\\TensorFlores\\tensorflores\\utils\\quantization.py:60\u001b[0m, in \u001b[0;36mQuantization.post_training_quantization\u001b[1;34m(self, json_data, quantization_type, distance_metric, bias_clustering_method, weight_clustering_method)\u001b[0m\n\u001b[0;32m     59\u001b[0m \u001b[38;5;28;01melif\u001b[39;00m quantization_type \u001b[38;5;241m==\u001b[39m \u001b[38;5;124m\"\u001b[39m\u001b[38;5;124mevolving\u001b[39m\u001b[38;5;124m\"\u001b[39m:\n\u001b[1;32m---> 60\u001b[0m     \u001b[38;5;28;01mreturn\u001b[39;00m \u001b[38;5;28;43mself\u001b[39;49m\u001b[38;5;241;43m.\u001b[39;49m\u001b[43m_apply_evolving_quantization\u001b[49m\u001b[43m(\u001b[49m\n\u001b[0;32m     61\u001b[0m \u001b[43m        \u001b[49m\u001b[43mjson_data_copy\u001b[49m\u001b[43m,\u001b[49m\u001b[43m \u001b[49m\u001b[43mweight_list\u001b[49m\u001b[43m,\u001b[49m\u001b[43m \u001b[49m\u001b[43mbias_list\u001b[49m\u001b[43m,\u001b[49m\u001b[43m \u001b[49m\u001b[43mweights_shape\u001b[49m\u001b[43m,\u001b[49m\u001b[43m \u001b[49m\u001b[43mbiases_shape\u001b[49m\u001b[43m,\u001b[49m\u001b[43m \u001b[49m\n\u001b[0;32m     62\u001b[0m \u001b[43m        \u001b[49m\u001b[43mdistance_metric\u001b[49m\u001b[43m,\u001b[49m\u001b[43m \u001b[49m\u001b[43mbias_clustering_method\u001b[49m\u001b[43m,\u001b[49m\u001b[43m \u001b[49m\u001b[43mweight_clustering_method\u001b[49m\n\u001b[0;32m     63\u001b[0m \u001b[43m    \u001b[49m\u001b[43m)\u001b[49m\n\u001b[0;32m     64\u001b[0m \u001b[38;5;28;01melse\u001b[39;00m:\n",
      "File \u001b[1;32m~\\TensorFlores\\tensorflores\\utils\\quantization.py:135\u001b[0m, in \u001b[0;36mQuantization._apply_evolving_quantization\u001b[1;34m(self, json_data, weight_list, bias_list, weights_shape, biases_shape, distance_metric, bias_clustering_method, weight_clustering_method)\u001b[0m\n\u001b[0;32m    134\u001b[0m \u001b[38;5;28;01mfor\u001b[39;00m i \u001b[38;5;129;01min\u001b[39;00m \u001b[38;5;28mrange\u001b[39m(\u001b[38;5;241m10\u001b[39m):\n\u001b[1;32m--> 135\u001b[0m     bias_center \u001b[38;5;241m=\u001b[39m \u001b[43mcluster\u001b[49m\u001b[38;5;241;43m.\u001b[39;49m\u001b[43mapplying_clusterings\u001b[49m\u001b[43m(\u001b[49m\n\u001b[0;32m    136\u001b[0m \u001b[43m        \u001b[49m\u001b[43mclustering_method\u001b[49m\u001b[38;5;241;43m=\u001b[39;49m\u001b[43mbias_clustering_method\u001b[49m\u001b[43m,\u001b[49m\u001b[43m \u001b[49m\u001b[43mparameter_list\u001b[49m\u001b[38;5;241;43m=\u001b[39;49m\u001b[43mbias_list\u001b[49m\n\u001b[0;32m    137\u001b[0m \u001b[43m    \u001b[49m\u001b[43m)\u001b[49m\n\u001b[0;32m    138\u001b[0m     weight_center \u001b[38;5;241m=\u001b[39m cluster\u001b[38;5;241m.\u001b[39mapplying_clusterings(\n\u001b[0;32m    139\u001b[0m         clustering_method\u001b[38;5;241m=\u001b[39mweight_clustering_method, parameter_list\u001b[38;5;241m=\u001b[39mweight_list\n\u001b[0;32m    140\u001b[0m     )\n",
      "File \u001b[1;32m~\\TensorFlores\\tensorflores\\utils\\clustering.py:234\u001b[0m, in \u001b[0;36mClusteringMethods.applying_clusterings\u001b[1;34m(self, clustering_method, parameter_list)\u001b[0m\n\u001b[0;32m    233\u001b[0m \u001b[38;5;28;01mexcept\u001b[39;00m \u001b[38;5;167;01mException\u001b[39;00m \u001b[38;5;28;01mas\u001b[39;00m e:\n\u001b[1;32m--> 234\u001b[0m     \u001b[38;5;28;01mraise\u001b[39;00m \u001b[38;5;167;01mRuntimeError\u001b[39;00m(\u001b[38;5;124mf\u001b[39m\u001b[38;5;124m\"\u001b[39m\u001b[38;5;124mError applying clustering method \u001b[39m\u001b[38;5;132;01m{\u001b[39;00mmethod_name\u001b[38;5;132;01m}\u001b[39;00m\u001b[38;5;124m: \u001b[39m\u001b[38;5;132;01m{\u001b[39;00me\u001b[38;5;132;01m}\u001b[39;00m\u001b[38;5;124m\"\u001b[39m)\n",
      "\u001b[1;31mRuntimeError\u001b[0m: Error applying clustering method AUTOCLOUD: 'ClusteringMethods' object has no attribute '_apply_autocloud'",
      "\nDuring handling of the above exception, another exception occurred:\n",
      "\u001b[1;31mValueError\u001b[0m                                Traceback (most recent call last)",
      "Cell \u001b[1;32mIn[12], line 1\u001b[0m\n\u001b[1;32m----> 1\u001b[0m model_as_json_quant \u001b[38;5;241m=\u001b[39m \u001b[43mQuantization\u001b[49m\u001b[43m(\u001b[49m\u001b[43m)\u001b[49m\u001b[38;5;241;43m.\u001b[39;49m\u001b[43mpost_training_quantization\u001b[49m\u001b[43m(\u001b[49m\u001b[43mjson_data\u001b[49m\u001b[43m \u001b[49m\u001b[38;5;241;43m=\u001b[39;49m\u001b[43m \u001b[49m\u001b[43mmodel_as_json\u001b[49m\u001b[43m,\u001b[49m\n\u001b[0;32m      2\u001b[0m \u001b[43m                                        \u001b[49m\u001b[43mquantization_type\u001b[49m\u001b[43m \u001b[49m\u001b[38;5;241;43m=\u001b[39;49m\u001b[43m \u001b[49m\u001b[38;5;124;43m'\u001b[39;49m\u001b[38;5;124;43mevolving\u001b[39;49m\u001b[38;5;124;43m'\u001b[39;49m\u001b[43m,\u001b[49m\u001b[43m \u001b[49m\n\u001b[0;32m      3\u001b[0m \u001b[43m                                        \u001b[49m\u001b[43mdistance_metric\u001b[49m\u001b[43m \u001b[49m\u001b[38;5;241;43m=\u001b[39;49m\u001b[43m \u001b[49m\u001b[38;5;124;43m\"\u001b[39;49m\u001b[38;5;124;43mdtw\u001b[39;49m\u001b[38;5;124;43m\"\u001b[39;49m\u001b[43m,\u001b[49m\u001b[43m \u001b[49m\n\u001b[0;32m      4\u001b[0m \u001b[43m                                        \u001b[49m\u001b[43mbias_clustering_method\u001b[49m\u001b[43m \u001b[49m\u001b[38;5;241;43m=\u001b[39;49m\u001b[43m \u001b[49m\u001b[43mbias_clustering_method\u001b[49m\u001b[43m,\u001b[49m\n\u001b[0;32m      5\u001b[0m \u001b[43m                                        \u001b[49m\u001b[43mweight_clustering_method\u001b[49m\u001b[43m \u001b[49m\u001b[38;5;241;43m=\u001b[39;49m\u001b[43m \u001b[49m\u001b[43mweight_clustering_method\u001b[49m\u001b[43m)\u001b[49m\n",
      "File \u001b[1;32m~\\TensorFlores\\tensorflores\\utils\\quantization.py:69\u001b[0m, in \u001b[0;36mQuantization.post_training_quantization\u001b[1;34m(self, json_data, quantization_type, distance_metric, bias_clustering_method, weight_clustering_method)\u001b[0m\n\u001b[0;32m     66\u001b[0m         \u001b[38;5;28;01mreturn\u001b[39;00m \u001b[38;5;28;01mNone\u001b[39;00m\n\u001b[0;32m     68\u001b[0m \u001b[38;5;28;01mexcept\u001b[39;00m \u001b[38;5;167;01mException\u001b[39;00m \u001b[38;5;28;01mas\u001b[39;00m e:\n\u001b[1;32m---> 69\u001b[0m     \u001b[38;5;28;01mraise\u001b[39;00m \u001b[38;5;167;01mValueError\u001b[39;00m(\u001b[38;5;124mf\u001b[39m\u001b[38;5;124m\"\u001b[39m\u001b[38;5;124mError in post-training quantization: \u001b[39m\u001b[38;5;132;01m{\u001b[39;00me\u001b[38;5;132;01m}\u001b[39;00m\u001b[38;5;124m.\u001b[39m\u001b[38;5;124m\"\u001b[39m)\n",
      "\u001b[1;31mValueError\u001b[0m: Error in post-training quantization: Error applying clustering method AUTOCLOUD: 'ClusteringMethods' object has no attribute '_apply_autocloud'."
     ]
    }
   ],
   "source": [
    "model_as_json_quant = Quantization().post_training_quantization(json_data = model_as_json,\n",
    "                                        quantization_type = 'evolving', \n",
    "                                        distance_metric = \"dtw\", \n",
    "                                        bias_clustering_method = bias_clustering_method,\n",
    "                                        weight_clustering_method = weight_clustering_method)"
   ]
  },
  {
   "cell_type": "code",
   "execution_count": null,
   "metadata": {},
   "outputs": [],
   "source": [
    "model_as_json_quant"
   ]
  },
  {
   "cell_type": "markdown",
   "metadata": {},
   "source": [
    "#### 4.1.3 Save model as C++"
   ]
  },
  {
   "cell_type": "code",
   "execution_count": null,
   "metadata": {},
   "outputs": [],
   "source": [
    "cpp_model = CppGeneration().generate_cpp_from_json(json_data = model_as_json_quant, file_name = 'tensorflores_evolving_PQT')\n",
    "cpp_model"
   ]
  },
  {
   "cell_type": "markdown",
   "metadata": {},
   "source": [
    "### 4.2 Int8 post-training quantization"
   ]
  },
  {
   "cell_type": "markdown",
   "metadata": {},
   "source": [
    "#### 4.2.1 Apply int8 quantizaion"
   ]
  },
  {
   "cell_type": "code",
   "execution_count": null,
   "metadata": {},
   "outputs": [],
   "source": [
    "model_as_json_int8 = Quantization().post_training_quantization(json_data = model_as_json,\n",
    "                                        quantization_type = 'int8')"
   ]
  },
  {
   "cell_type": "markdown",
   "metadata": {},
   "source": [
    "#### 4.2.2 Save model as C++"
   ]
  },
  {
   "cell_type": "code",
   "execution_count": null,
   "metadata": {},
   "outputs": [],
   "source": [
    "model_as_json_int8"
   ]
  },
  {
   "cell_type": "code",
   "execution_count": null,
   "metadata": {},
   "outputs": [],
   "source": [
    "cpp_model_int8 = CppGeneration().generate_cpp_from_json(json_data = model_as_json_int8, file_name = 'tensorflores_int8_PQT')"
   ]
  },
  {
   "cell_type": "code",
   "execution_count": null,
   "metadata": {},
   "outputs": [],
   "source": [
    "df = pd.read_csv('./result/output_PQT_int8.csv', sep=';')"
   ]
  },
  {
   "cell_type": "code",
   "execution_count": null,
   "metadata": {},
   "outputs": [],
   "source": [
    "error = df['Predicted'].values - df['Real'].values "
   ]
  },
  {
   "cell_type": "code",
   "execution_count": null,
   "metadata": {},
   "outputs": [],
   "source": [
    "df['Time (us)'].values[1:].mean()"
   ]
  },
  {
   "cell_type": "code",
   "execution_count": null,
   "metadata": {},
   "outputs": [],
   "source": [
    "# Estatísticas\n",
    "error_mean = np.mean(error)\n",
    "error_std = np.std(error)\n",
    "error_max = np.max(error)\n",
    "error_min = np.min(error)\n",
    "\n",
    "# Criando a figura e os eixos\n",
    "fig, ax = plt.subplots(figsize=(8, 6))\n",
    "\n",
    "# Estilo do gráfico\n",
    "plt.style.use('ggplot')\n",
    "\n",
    "# Plotando histograma com KDE (Densidade) sem legenda\n",
    "sns.histplot(error, bins=30, color='coral', edgecolor='black', stat=\"density\", kde=True, legend=False, ax=ax)\n",
    "\n",
    "# Configuração dos eixos\n",
    "ax.set_xlabel('Error', fontsize=14)\n",
    "ax.set_ylabel('Density', fontsize=14)\n",
    "#ax.set_title('Error Distribution', fontsize=15)\n",
    "ax.tick_params(labelsize=14)\n",
    "ax.grid(True)\n",
    "\n",
    "# Definindo limites do eixo X\n",
    "#ax.set_xlim(error_min, error_max)\n",
    "\n",
    "# Exibir os valores estatísticos no gráfico\n",
    "textstr = '\\n'.join((\n",
    "    f'Max: {error_max:.4f}',\n",
    "    f'Min: {error_min:.4f}',\n",
    "    f'Mean: {error_mean:.4f}',\n",
    "    f'2x Std: {2 * error_std:.4f}'\n",
    "))\n",
    "props = dict(boxstyle='round', facecolor='gray', alpha=0.5)\n",
    "ax.text(0.95, 0.95, textstr, transform=ax.transAxes, fontsize=12,\n",
    "        verticalalignment='top', horizontalalignment='right', bbox=props)\n",
    "\n",
    "plt.savefig('./figures/example_04_float32.pdf', bbox_inches='tight', pad_inches=0, dpi=300)\n",
    "# Exibir gráfico\n",
    "plt.show()"
   ]
  },
  {
   "cell_type": "code",
   "execution_count": null,
   "metadata": {},
   "outputs": [],
   "source": [
    "df = pd.read_csv('./result/output_PQT_evolving.csv', sep=';')"
   ]
  },
  {
   "cell_type": "code",
   "execution_count": null,
   "metadata": {},
   "outputs": [],
   "source": [
    "error = df['Predicted'].values - df['Real'].values "
   ]
  },
  {
   "cell_type": "code",
   "execution_count": null,
   "metadata": {},
   "outputs": [],
   "source": [
    "# Estatísticas\n",
    "error_mean = np.mean(error)\n",
    "error_std = np.std(error)\n",
    "error_max = np.max(error)\n",
    "error_min = np.min(error)\n",
    "\n",
    "# Criando a figura e os eixos\n",
    "fig, ax = plt.subplots(figsize=(8, 6))\n",
    "\n",
    "# Estilo do gráfico\n",
    "plt.style.use('ggplot')\n",
    "\n",
    "# Plotando histograma com KDE (Densidade) sem legenda\n",
    "sns.histplot(error, bins=30, color='coral', edgecolor='black', stat=\"density\", kde=True, legend=False, ax=ax)\n",
    "\n",
    "# Configuração dos eixos\n",
    "ax.set_xlabel('Error', fontsize=14)\n",
    "ax.set_ylabel('Density', fontsize=14)\n",
    "#ax.set_title('Error Distribution', fontsize=15)\n",
    "ax.tick_params(labelsize=14)\n",
    "ax.grid(True)\n",
    "\n",
    "# Definindo limites do eixo X\n",
    "#ax.set_xlim(error_min, error_max)\n",
    "\n",
    "# Exibir os valores estatísticos no gráfico\n",
    "textstr = '\\n'.join((\n",
    "    f'Max: {error_max:.4f}',\n",
    "    f'Min: {error_min:.4f}',\n",
    "    f'Mean: {error_mean:.4f}',\n",
    "    f'2x Std: {2 * error_std:.4f}'\n",
    "))\n",
    "props = dict(boxstyle='round', facecolor='gray', alpha=0.5)\n",
    "ax.text(0.95, 0.95, textstr, transform=ax.transAxes, fontsize=12,\n",
    "        verticalalignment='top', horizontalalignment='right', bbox=props)\n",
    "\n",
    "plt.savefig('./figures/example_03_evolving.pdf', bbox_inches='tight', pad_inches=0, dpi=300)\n",
    "# Exibir gráfico\n",
    "plt.show()"
   ]
  }
 ],
 "metadata": {
  "kernelspec": {
   "display_name": ".venv",
   "language": "python",
   "name": "python3"
  },
  "language_info": {
   "codemirror_mode": {
    "name": "ipython",
    "version": 3
   },
   "file_extension": ".py",
   "mimetype": "text/x-python",
   "name": "python",
   "nbconvert_exporter": "python",
   "pygments_lexer": "ipython3",
   "version": "3.9.6"
  }
 },
 "nbformat": 4,
 "nbformat_minor": 2
}
