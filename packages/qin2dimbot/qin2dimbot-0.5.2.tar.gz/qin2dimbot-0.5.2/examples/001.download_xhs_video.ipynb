{
 "cells": [
  {
   "cell_type": "code",
   "id": "initial_id",
   "metadata": {
    "collapsed": true,
    "ExecuteTime": {
     "end_time": "2025-08-01T16:56:20.039254Z",
     "start_time": "2025-08-01T16:56:19.289589Z"
    }
   },
   "source": [
    "# -*- coding: utf-8 -*-\n",
    "\"\"\"\n",
    "@Time    : 2025/8/2 00:29\n",
    "@Author  : QIN2DIM\n",
    "@GitHub  : https://github.com/QIN2DIM\n",
    "@Desc    :\n",
    "\"\"\"\n",
    "import os\n",
    "\n",
    "import dotenv\n",
    "import httpx\n",
    "\n",
    "dotenv.load_dotenv()\n",
    "\n",
    "BASE_URL = os.environ[\"XHS_DOWNLOADER_BASE_URL\"]\n",
    "\n",
    "client = httpx.Client(base_url=BASE_URL, timeout=300)\n"
   ],
   "outputs": [],
   "execution_count": 1
  },
  {
   "metadata": {
    "ExecuteTime": {
     "end_time": "2025-08-01T20:26:29.971749Z",
     "start_time": "2025-08-01T20:26:25.729970Z"
    }
   },
   "cell_type": "code",
   "source": [
    "import json\n",
    "\n",
    "from pathlib import Path\n",
    "\n",
    "cache_dir = Path(\".cache\")\n",
    "cache_dir.mkdir(parents=True, exist_ok=True)\n",
    "\n",
    "shared_link = \"97 【biubiubiu~迎接新的一周，把所有烦恼全部都“轰掉”🔥 - 人民网 | 小红书 - 你的生活兴趣社区】 😆 VFDKxrRPcwyHV8v 😆 https://www.xiaohongshu.com/discovery/item/6886f31a000000000b02df6c?source=webshare&xhsshare=pc_web&xsec_token=ABqfHeNO0T2fd_QgYta2w4HTjMkuJ-fbwFhqBJPxnwJyk=&xsec_source=pc_share\"\n",
    "\n",
    "payload = {\"url\": shared_link, \"download\": False}\n",
    "\n",
    "response = client.post(\"/xhs/detail\", json=payload)\n",
    "response.raise_for_status()\n",
    "result = response.json()\n",
    "\n",
    "fp = cache_dir.joinpath(\"xhs_video_result.json\")\n",
    "fp.write_text(json.dumps(result, indent=2, ensure_ascii=False), encoding=\"utf-8\")\n",
    "\n",
    "data = result[\"data\"]"
   ],
   "id": "9cc46e14859b8e17",
   "outputs": [],
   "execution_count": 9
  },
  {
   "metadata": {
    "ExecuteTime": {
     "end_time": "2025-08-01T17:01:37.961225Z",
     "start_time": "2025-08-01T17:01:30.127240Z"
    }
   },
   "cell_type": "code",
   "source": [
    "download_link = data[\"下载地址\"][0]\n",
    "note_title = data[\"作品标题\"] or data[\"作品描述\"]\n",
    "note_author = data['作者昵称']\n",
    "file_name = f\"{note_title} - {note_author}.mp4\"\n",
    "\n",
    "response = httpx.get(download_link)\n",
    "response.raise_for_status()\n",
    "Path(file_name).write_bytes(response.content)"
   ],
   "id": "b397256f1708b7c9",
   "outputs": [
    {
     "data": {
      "text/plain": [
       "26455891"
      ]
     },
     "execution_count": 6,
     "metadata": {},
     "output_type": "execute_result"
    }
   ],
   "execution_count": 6
  }
 ],
 "metadata": {
  "kernelspec": {
   "display_name": "Python 3",
   "language": "python",
   "name": "python3"
  },
  "language_info": {
   "codemirror_mode": {
    "name": "ipython",
    "version": 2
   },
   "file_extension": ".py",
   "mimetype": "text/x-python",
   "name": "python",
   "nbconvert_exporter": "python",
   "pygments_lexer": "ipython2",
   "version": "2.7.6"
  }
 },
 "nbformat": 4,
 "nbformat_minor": 5
}
