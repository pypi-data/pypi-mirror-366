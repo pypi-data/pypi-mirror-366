{
 "cells": [
  {
   "cell_type": "code",
   "id": "initial_id",
   "metadata": {
    "collapsed": true
   },
   "source": [
    "import httpx\n",
    "\n",
    "response = httpx.get(\"https://en.wikipedia.org/wiki/Z-Library\")\n",
    "response.raise_for_status()"
   ],
   "outputs": [],
   "execution_count": null
  },
  {
   "metadata": {},
   "cell_type": "code",
   "source": [
    "from bs4 import BeautifulSoup\n",
    "from IPython.display import JSON\n",
    "useful_links = []\n",
    "\n",
    "# //table[@class='infobox vcard']//a[@rel='nofollow']\n",
    "soup = BeautifulSoup(response.text, \"html.parser\")\n",
    "if infobox := soup.find(\"table\", class_=\"infobox vcard\"):\n",
    "    if rels := infobox.find_all(\"a\", attrs={\"rel\": \"nofollow\"}):\n",
    "        urls = [rel.get(\"href\", \"\").strip() for rel in rels]\n",
    "        useful_links = [url for url in filter(None, urls) if url.startswith(\"https://\")]\n",
    "\n",
    "JSON(useful_links)"
   ],
   "id": "23fcc73c9ff49da7",
   "outputs": [],
   "execution_count": null
  },
  {
   "metadata": {},
   "cell_type": "code",
   "source": [
    "from urllib.parse import quote, quote_plus\n",
    "\n",
    "k = \"星球大战\"\n",
    "\n",
    "print(quote(k))\n",
    "print(quote_plus(k))"
   ],
   "id": "7e375177a2a5b72",
   "outputs": [],
   "execution_count": null
  }
 ],
 "metadata": {
  "kernelspec": {
   "display_name": "Python 3",
   "language": "python",
   "name": "python3"
  },
  "language_info": {
   "codemirror_mode": {
    "name": "ipython",
    "version": 2
   },
   "file_extension": ".py",
   "mimetype": "text/x-python",
   "name": "python",
   "nbconvert_exporter": "python",
   "pygments_lexer": "ipython2",
   "version": "2.7.6"
  }
 },
 "nbformat": 4,
 "nbformat_minor": 5
}
