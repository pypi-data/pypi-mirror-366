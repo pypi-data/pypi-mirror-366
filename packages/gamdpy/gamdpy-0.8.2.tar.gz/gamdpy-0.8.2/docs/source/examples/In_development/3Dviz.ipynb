{
 "cells": [
  {
   "cell_type": "markdown",
   "id": "6e057dd8-0f8a-4732-bd7c-4842ae53b4c7",
   "metadata": {
    "tags": []
   },
   "source": [
    "# 3D Visualization of cooling Kob-Andersen Lennard-Jones mixture\n",
    "Requires the 'k3d' and  'ipywidgets' packages"
   ]
  },
  {
   "cell_type": "code",
   "id": "5f60a14e-8956-4db7-8472-55f32208a3ef",
   "metadata": {
    "jupyter": {
     "is_executing": true
    }
   },
   "source": [
    "import numpy as np\n",
    "import gamdpy as gp\n",
    "import numba\n",
    "\n",
    "import matplotlib.pyplot as plt\n",
    "#%matplotlib inline\n",
    "#%matplotlib notebook\n",
    "%matplotlib widget\n"
   ],
   "outputs": [],
   "execution_count": null
  },
  {
   "cell_type": "markdown",
   "id": "9b86d9f7-9a3a-49b1-bac0-d394dbe3963c",
   "metadata": {},
   "source": [
    "## Generate configuration with a FCC lattice"
   ]
  },
  {
   "cell_type": "code",
   "execution_count": null,
   "id": "ad3974d6-9c2e-436e-878c-8f8df80788e8",
   "metadata": {},
   "outputs": [],
   "source": [
    "c1 = gp.make_configuration_fcc(nx=6, ny=6, nz=6, rho=0.60) \n",
    "c1.ptype[::5] = 1 # 4:1 mixture\n",
    "c1.randomize_velocities(temperature=0.7)\n",
    "\n",
    "print(f'Number of particles: {c1.N}; Density: {c1.N/np.prod(c1.simbox.lengths):.3f}; B fraction: {np.mean(c1.ptype==1):.3f}')"
   ]
  },
  {
   "cell_type": "markdown",
   "id": "b2481f1b-97d1-49f9-9af9-0797c6a04dcb",
   "metadata": {},
   "source": [
    "## Setup Lennard-Jones pair potential"
   ]
  },
  {
   "cell_type": "code",
   "execution_count": null,
   "id": "4d60ea8a-03dd-4f50-9fc6-4d6b604fcc87",
   "metadata": {},
   "outputs": [],
   "source": [
    "pairfunc = gp.apply_shifted_force_cutoff(rp.LJ_12_6_sigma_epsilon)\n",
    "sig = [[1.00, 0.80],\n",
    "       [0.80, 0.88]]\n",
    "eps = [[1.00, 1.50],\n",
    "       [1.50, 0.50]]\n",
    "cut = np.array(sig)*2.5\n",
    "pairpot = gp.PairPotential2(pairfunc, params=[sig, eps, cut], max_num_nbs=1000)\n",
    "pairpot.plot(names=['A', 'B'], xlim=(0.6, 2.6), ylim=(-1.5, 4))"
   ]
  },
  {
   "cell_type": "markdown",
   "id": "192e5ab0-7528-404f-88e3-42fef19e6313",
   "metadata": {},
   "source": [
    "## Setup integrator"
   ]
  },
  {
   "cell_type": "code",
   "execution_count": null,
   "id": "6311fe59-bdc8-469a-9bd8-397827ad1300",
   "metadata": {
    "tags": []
   },
   "outputs": [],
   "source": [
    "dt = 0.005              # Duration of timestep \n",
    "num_blocks = 100        # Do simulation in this many 'blocks'\n",
    "steps_per_block = 1000  # ... each of this many timesteps\n",
    "running_time = dt*num_blocks*steps_per_block\n",
    "\n",
    "Ttarget_function = gp.make_function_ramp(value0=2.00, x0=running_time*(1/4), \n",
    "                                         value1=0.25, x1=running_time*(3/4))\n",
    "integrator = gp.integrators.NVT(Ttarget_function, tau=0.2, dt=dt)\n",
    "\n",
    "plt.figure(figsize=(8,4))\n",
    "t = np.linspace(0,running_time,num_blocks)\n",
    "plt.plot(t, numba.vectorize(Ttarget_function)(t), '.-')\n",
    "plt.xlabel('Time')\n",
    "plt.ylabel('Ttarget')\n",
    "plt.show()"
   ]
  },
  {
   "cell_type": "markdown",
   "id": "2c5701d6-2a59-4a47-a2a6-133e441745c4",
   "metadata": {},
   "source": [
    "## Setup simulation"
   ]
  },
  {
   "cell_type": "code",
   "execution_count": null,
   "id": "1b47bf2c-17f0-4024-a56a-abcabaafe142",
   "metadata": {},
   "outputs": [],
   "source": [
    "sim = gp.Simulation(c1, pairpot, integrator,\n",
    "                    num_timeblocks=num_blocks, steps_per_timeblock=steps_per_block,\n",
    "                    steps_between_momentum_reset=100,\n",
    "                    storage='memory')"
   ]
  },
  {
   "cell_type": "markdown",
   "id": "ee058639-5ce3-4b78-aefb-d8b41f2f831e",
   "metadata": {},
   "source": [
    "## Run simulation with 3D visualization"
   ]
  },
  {
   "cell_type": "code",
   "execution_count": null,
   "id": "8f2a4541-2d63-4e97-a76a-711fca0126f0",
   "metadata": {},
   "outputs": [],
   "source": [
    "from gamdpy.visualization import k3d_Visualization\n",
    "\n",
    "viz = k3d_Visualization(sim)\n",
    "viz.display()\n",
    "for block in sim.run_timeblocks():\n",
    "    viz.update(block, choice=0)\n",
    "viz.display_player()\n",
    "print('\\n', sim.summary())"
   ]
  }
 ],
 "metadata": {
  "kernelspec": {
   "display_name": "Python 3 (ipykernel)",
   "language": "python",
   "name": "python3"
  },
  "language_info": {
   "codemirror_mode": {
    "name": "ipython",
    "version": 3
   },
   "file_extension": ".py",
   "mimetype": "text/x-python",
   "name": "python",
   "nbconvert_exporter": "python",
   "pygments_lexer": "ipython3",
   "version": "3.9.12"
  },
  "toc-autonumbering": false,
  "toc-showcode": false,
  "toc-showmarkdowntxt": false
 },
 "nbformat": 4,
 "nbformat_minor": 5
}
