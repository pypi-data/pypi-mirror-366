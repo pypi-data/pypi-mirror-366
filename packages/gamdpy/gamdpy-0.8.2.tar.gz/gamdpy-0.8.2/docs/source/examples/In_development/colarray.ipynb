{
 "cells": [
  {
   "cell_type": "code",
   "execution_count": 1,
   "id": "0e453a41-5ae4-4661-85a3-07f0b8f955e3",
   "metadata": {},
   "outputs": [],
   "source": [
    "import numpy as np"
   ]
  },
  {
   "cell_type": "code",
   "execution_count": 2,
   "id": "ffa6b3e3-4d73-4427-8939-4a7f95f47b70",
   "metadata": {},
   "outputs": [],
   "source": [
    "import colarray as ca"
   ]
  },
  {
   "cell_type": "markdown",
   "id": "cac5f26e-7d87-4b7e-a61e-db0546118a71",
   "metadata": {},
   "source": [
    "# Colarray"
   ]
  },
  {
   "cell_type": "code",
   "execution_count": 3,
   "id": "7a14c769-0f4b-4f3b-8ea0-f7f0d9a8b957",
   "metadata": {},
   "outputs": [
    {
     "name": "stdout",
     "output_type": "stream",
     "text": [
      "Help on class colarray in module colarray:\n",
      "\n",
      "class colarray(builtins.object)\n",
      " |  colarray(column_names, size, dtype=<class 'numpy.float32'>)\n",
      " |  \n",
      " |  A container class storing several sets ('columns') of data with identical dimensions in a single numpy array. Strings are used as indicies along the zeroth dimension corresponding to different columns of data. \n",
      " |  \n",
      " |  Storage for positions, velocities, and forces, for 1000 particles in 2 dimensions:\n",
      " |  >>> ca = colarray(('r', 'v', 'f'), size=(1000,2))\n",
      " |  >>> ca.shape\n",
      " |  (3, 1000, 2)\n",
      " |  \n",
      " |  >>> ca.column_names\n",
      " |  ('r', 'v', 'f')\n",
      " |  \n",
      " |  Data is accesed via string indicies (similar to dataframes in pandas):\n",
      " |  >>> ca['r'] = np.ones((1000,2))\n",
      " |  >>> ca['v'] = 2\n",
      " |  >>> print(ca['r'] + 0.01*ca['v'])\n",
      " |  [[1.02 1.02]\n",
      " |   [1.02 1.02]\n",
      " |   [1.02 1.02]\n",
      " |   ...\n",
      " |   [1.02 1.02]\n",
      " |   [1.02 1.02]\n",
      " |   [1.02 1.02]]\n",
      " |   \n",
      " |  Assignment have to be with an existing key (as opposed to eg. pandas): \n",
      " |  >>> ca['c'] = 1\n",
      " |  Traceback (most recent call last):\n",
      " |      ...\n",
      " |  KeyError: 'c'\n",
      " |  \n",
      " |  On assignment the right hand side needs to be a numpy array compatible with size of columns originaly specified (possibly after numpy-broadcasting):\n",
      " |  >>> ca['f'] =  np.ones((100,2))\n",
      " |  Traceback (most recent call last):\n",
      " |      ...\n",
      " |  ValueError: could not broadcast input array from shape (100,2) into shape (1000,2)\n",
      " |  \n",
      " |  Methods defined here:\n",
      " |  \n",
      " |  __getitem__(self, key)\n",
      " |  \n",
      " |  __init__(self, column_names, size, dtype=<class 'numpy.float32'>)\n",
      " |      Initialize self.  See help(type(self)) for accurate signature.\n",
      " |  \n",
      " |  __repr__(self)\n",
      " |      Return repr(self).\n",
      " |  \n",
      " |  __setitem__(self, key, data)\n",
      " |  \n",
      " |  ----------------------------------------------------------------------\n",
      " |  Data descriptors defined here:\n",
      " |  \n",
      " |  __dict__\n",
      " |      dictionary for instance variables (if defined)\n",
      " |  \n",
      " |  __weakref__\n",
      " |      list of weak references to the object (if defined)\n",
      "\n"
     ]
    }
   ],
   "source": [
    "help(ca.colarray)"
   ]
  },
  {
   "cell_type": "markdown",
   "id": "1f3246f3-7a9f-4b12-95f1-442c5d763ff0",
   "metadata": {},
   "source": [
    "# Example"
   ]
  },
  {
   "cell_type": "code",
   "execution_count": 4,
   "id": "72e2b405-faff-4864-bae9-dae21f436fa0",
   "metadata": {},
   "outputs": [],
   "source": [
    "x = ca.colarray(('a', 'b'), (1000,3))"
   ]
  },
  {
   "cell_type": "code",
   "execution_count": 5,
   "id": "f6790763-9995-4282-8411-5585a05a8d56",
   "metadata": {},
   "outputs": [
    {
     "data": {
      "text/plain": [
       "(2, 1000, 3)"
      ]
     },
     "execution_count": 5,
     "metadata": {},
     "output_type": "execute_result"
    }
   ],
   "source": [
    "x.shape"
   ]
  },
  {
   "cell_type": "code",
   "execution_count": 6,
   "id": "d38fd8ba-2d9d-4cc1-bc1f-643d59dbac53",
   "metadata": {},
   "outputs": [
    {
     "name": "stdout",
     "output_type": "stream",
     "text": [
      "Help on function save in module colarray:\n",
      "\n",
      "save(file, colarray)\n",
      "    Save a colarray to disk.\n",
      "    >>> ca = colarray(('r', 'v', 'f'), size=(1000,2))\n",
      "    >>> save('test_colarray', ca)\n",
      "\n"
     ]
    }
   ],
   "source": [
    "help(ca.save)"
   ]
  },
  {
   "cell_type": "code",
   "execution_count": 7,
   "id": "dd2ca222-d5dc-438d-a33c-bedb35b5a802",
   "metadata": {},
   "outputs": [
    {
     "data": {
      "text/plain": [
       "('a', 'b')"
      ]
     },
     "execution_count": 7,
     "metadata": {},
     "output_type": "execute_result"
    }
   ],
   "source": [
    "x.column_names"
   ]
  },
  {
   "cell_type": "code",
   "execution_count": 8,
   "id": "3cd92e6b-27d1-4648-b605-851e7bed0291",
   "metadata": {},
   "outputs": [
    {
     "data": {
      "text/plain": [
       "numpy.float32"
      ]
     },
     "execution_count": 8,
     "metadata": {},
     "output_type": "execute_result"
    }
   ],
   "source": [
    "x.dtype"
   ]
  },
  {
   "cell_type": "code",
   "execution_count": 16,
   "id": "ac3c83ba-3a76-4fed-b004-c20ac66b9347",
   "metadata": {},
   "outputs": [
    {
     "data": {
      "text/plain": [
       "colarray(('a', 'b'), (1000, 3))\n",
       "array([[[1.        , 1.        , 1.        ],\n",
       "        [1.        , 1.        , 1.        ],\n",
       "        [1.        , 1.        , 1.        ],\n",
       "        ...,\n",
       "        [1.        , 1.        , 1.        ],\n",
       "        [1.        , 1.        , 1.        ],\n",
       "        [1.        , 1.        , 1.        ]],\n",
       "\n",
       "       [[0.2176669 , 0.07019886, 0.05320156],\n",
       "        [0.21662939, 0.5119017 , 0.1647396 ],\n",
       "        [0.55108464, 0.16708784, 0.00101788],\n",
       "        ...,\n",
       "        [0.8725542 , 0.2981146 , 0.35043624],\n",
       "        [0.3227727 , 0.15002614, 0.6740579 ],\n",
       "        [0.07129676, 0.05251902, 0.6670916 ]]], dtype=float32)"
      ]
     },
     "execution_count": 16,
     "metadata": {},
     "output_type": "execute_result"
    }
   ],
   "source": [
    "x['a'] = np.ones((1000,3))\n",
    "x['b'] = np.random.uniform(size=(1000,3))\n",
    "x"
   ]
  },
  {
   "cell_type": "code",
   "execution_count": 10,
   "id": "0364230d-6d42-4d9b-928b-a6019552d7a0",
   "metadata": {},
   "outputs": [
    {
     "name": "stdout",
     "output_type": "stream",
     "text": [
      "[[1.02 1.02]\n",
      " [1.02 1.02]\n",
      " [1.02 1.02]\n",
      " ...\n",
      " [1.02 1.02]\n",
      " [1.02 1.02]\n",
      " [1.02 1.02]]\n"
     ]
    }
   ],
   "source": [
    "c = ca.colarray(('x', 'v', 'f'), size=(1000,2))\n",
    "c['x'] = np.ones((1000,2))\n",
    "c['v'] = 2. \n",
    "print(c['x'] + 0.01*c['v'])"
   ]
  },
  {
   "cell_type": "code",
   "execution_count": 13,
   "id": "763c37c9-8ea5-4e0f-bcc6-b73dee61fa60",
   "metadata": {},
   "outputs": [
    {
     "data": {
      "text/plain": [
       "colarray(('r', 'v', 'f'), (1000, 2))\n",
       "array([[[0., 0.],\n",
       "        [0., 0.],\n",
       "        [0., 0.],\n",
       "        ...,\n",
       "        [0., 0.],\n",
       "        [0., 0.],\n",
       "        [0., 0.]],\n",
       "\n",
       "       [[0., 0.],\n",
       "        [0., 0.],\n",
       "        [0., 0.],\n",
       "        ...,\n",
       "        [0., 0.],\n",
       "        [0., 0.],\n",
       "        [0., 0.]],\n",
       "\n",
       "       [[0., 0.],\n",
       "        [0., 0.],\n",
       "        [0., 0.],\n",
       "        ...,\n",
       "        [0., 0.],\n",
       "        [0., 0.],\n",
       "        [0., 0.]]], dtype=float32)"
      ]
     },
     "execution_count": 13,
     "metadata": {},
     "output_type": "execute_result"
    }
   ],
   "source": [
    "c2 = ca.load('test_colarray')\n",
    "c2"
   ]
  },
  {
   "cell_type": "code",
   "execution_count": 14,
   "id": "37bcff4c-a150-4a17-af94-13d93a1da4c0",
   "metadata": {},
   "outputs": [
    {
     "data": {
      "text/plain": [
       "array([[[0., 0.],\n",
       "        [0., 0.],\n",
       "        [0., 0.],\n",
       "        ...,\n",
       "        [0., 0.],\n",
       "        [0., 0.],\n",
       "        [0., 0.]],\n",
       "\n",
       "       [[0., 0.],\n",
       "        [0., 0.],\n",
       "        [0., 0.],\n",
       "        ...,\n",
       "        [0., 0.],\n",
       "        [0., 0.],\n",
       "        [0., 0.]],\n",
       "\n",
       "       [[0., 0.],\n",
       "        [0., 0.],\n",
       "        [0., 0.],\n",
       "        ...,\n",
       "        [0., 0.],\n",
       "        [0., 0.],\n",
       "        [0., 0.]]], dtype=float32)"
      ]
     },
     "execution_count": 14,
     "metadata": {},
     "output_type": "execute_result"
    }
   ],
   "source": [
    "np.load('test_colarray.npy')"
   ]
  },
  {
   "cell_type": "code",
   "execution_count": 12,
   "id": "9a36d75f-5a11-481c-89fa-95c729a87a3f",
   "metadata": {},
   "outputs": [
    {
     "name": "stdout",
     "output_type": "stream",
     "text": [
      "/home/tbs/Python/Projects/gamdpy\n"
     ]
    }
   ],
   "source": [
    "!pwd"
   ]
  },
  {
   "cell_type": "code",
   "execution_count": 17,
   "id": "01f0343f-c618-486b-b444-162f4eabe707",
   "metadata": {},
   "outputs": [
    {
     "name": "stdout",
     "output_type": "stream",
     "text": [
      "True\n",
      "True\n",
      "True\n"
     ]
    }
   ],
   "source": [
    "for col in c.column_names:\n",
    "    print(np.all(c[col]==c2[col]))"
   ]
  },
  {
   "cell_type": "code",
   "execution_count": 13,
   "id": "59eca058-f80c-4e87-b2bb-fa5d41a15822",
   "metadata": {},
   "outputs": [
    {
     "ename": "AttributeError",
     "evalue": "'numpy.ndarray' object has no attribute 'sa'",
     "output_type": "error",
     "traceback": [
      "\u001B[0;31m---------------------------------------------------------------------------\u001B[0m",
      "\u001B[0;31mAttributeError\u001B[0m                            Traceback (most recent call last)",
      "Input \u001B[0;32mIn [13]\u001B[0m, in \u001B[0;36m<cell line: 1>\u001B[0;34m()\u001B[0m\n\u001B[0;32m----> 1\u001B[0m \u001B[43mb\u001B[49m\u001B[38;5;241;43m.\u001B[39;49m\u001B[43msa\u001B[49m\n",
      "\u001B[0;31mAttributeError\u001B[0m: 'numpy.ndarray' object has no attribute 'sa'"
     ]
    }
   ],
   "source": [
    "b.sa"
   ]
  },
  {
   "cell_type": "markdown",
   "id": "3aaef97e-87e1-4a96-9b60-fe7157f749b9",
   "metadata": {},
   "source": [
    "# Error handling (relying on np.array)\n",
    "\n",
    "colarray is a thin layer on top of numpy.array, so most error handling is left to numpy. As illustrated below, this gives usefull error messages."
   ]
  },
  {
   "cell_type": "code",
   "execution_count": 14,
   "id": "dec6140e-3b25-4c95-86ae-17b80c1b68c5",
   "metadata": {},
   "outputs": [
    {
     "ename": "ValueError",
     "evalue": "could not broadcast input array from shape (100,3) into shape (1000,3)",
     "output_type": "error",
     "traceback": [
      "\u001B[0;31m---------------------------------------------------------------------------\u001B[0m",
      "\u001B[0;31mValueError\u001B[0m                                Traceback (most recent call last)",
      "Input \u001B[0;32mIn [14]\u001B[0m, in \u001B[0;36m<cell line: 1>\u001B[0;34m()\u001B[0m\n\u001B[0;32m----> 1\u001B[0m x[\u001B[38;5;124m'\u001B[39m\u001B[38;5;124ma\u001B[39m\u001B[38;5;124m'\u001B[39m] \u001B[38;5;241m=\u001B[39m np\u001B[38;5;241m.\u001B[39mones((\u001B[38;5;241m100\u001B[39m,\u001B[38;5;241m3\u001B[39m))\n",
      "File \u001B[0;32m~/Python/Projects/Rumd4_numba_cuda/colarray.py:35\u001B[0m, in \u001B[0;36mcolarray.__setitem__\u001B[0;34m(self, key, data)\u001B[0m\n\u001B[1;32m     34\u001B[0m \u001B[38;5;28;01mdef\u001B[39;00m \u001B[38;5;21m__setitem__\u001B[39m(\u001B[38;5;28mself\u001B[39m, key, data):\n\u001B[0;32m---> 35\u001B[0m     \u001B[38;5;28mself\u001B[39m\u001B[38;5;241m.\u001B[39marray[\u001B[38;5;28mself\u001B[39m\u001B[38;5;241m.\u001B[39mindicies[key]] \u001B[38;5;241m=\u001B[39m data\n",
      "\u001B[0;31mValueError\u001B[0m: could not broadcast input array from shape (100,3) into shape (1000,3)"
     ]
    }
   ],
   "source": [
    "x['a'] = np.ones((100,3))"
   ]
  },
  {
   "cell_type": "code",
   "execution_count": 15,
   "id": "56aa3041-4de2-4b03-a073-9fbe6298d722",
   "metadata": {},
   "outputs": [
    {
     "ename": "KeyError",
     "evalue": "'c'",
     "output_type": "error",
     "traceback": [
      "\u001B[0;31m---------------------------------------------------------------------------\u001B[0m",
      "\u001B[0;31mKeyError\u001B[0m                                  Traceback (most recent call last)",
      "Input \u001B[0;32mIn [15]\u001B[0m, in \u001B[0;36m<cell line: 1>\u001B[0;34m()\u001B[0m\n\u001B[0;32m----> 1\u001B[0m x[\u001B[38;5;124m'\u001B[39m\u001B[38;5;124mc\u001B[39m\u001B[38;5;124m'\u001B[39m] \u001B[38;5;241m=\u001B[39m \u001B[38;5;241m1\u001B[39m\n",
      "File \u001B[0;32m~/Python/Projects/Rumd4_numba_cuda/colarray.py:35\u001B[0m, in \u001B[0;36mcolarray.__setitem__\u001B[0;34m(self, key, data)\u001B[0m\n\u001B[1;32m     34\u001B[0m \u001B[38;5;28;01mdef\u001B[39;00m \u001B[38;5;21m__setitem__\u001B[39m(\u001B[38;5;28mself\u001B[39m, key, data):\n\u001B[0;32m---> 35\u001B[0m     \u001B[38;5;28mself\u001B[39m\u001B[38;5;241m.\u001B[39marray[\u001B[38;5;28;43mself\u001B[39;49m\u001B[38;5;241;43m.\u001B[39;49m\u001B[43mindicies\u001B[49m\u001B[43m[\u001B[49m\u001B[43mkey\u001B[49m\u001B[43m]\u001B[49m] \u001B[38;5;241m=\u001B[39m data\n",
      "\u001B[0;31mKeyError\u001B[0m: 'c'"
     ]
    }
   ],
   "source": [
    "x['c'] = 1"
   ]
  },
  {
   "cell_type": "code",
   "execution_count": 11,
   "id": "c8fcd034-fef9-4e54-8024-1f41fb47bd85",
   "metadata": {},
   "outputs": [
    {
     "data": {
      "text/plain": [
       "('a', 'b', 'c', 'd')"
      ]
     },
     "execution_count": 11,
     "metadata": {},
     "output_type": "execute_result"
    }
   ],
   "source": [
    "columns = ('a', 'b', 'c', 'd')\n",
    "columns"
   ]
  },
  {
   "cell_type": "code",
   "execution_count": 13,
   "id": "89d0e970-bc98-49c9-8f54-04804239e3c5",
   "metadata": {},
   "outputs": [
    {
     "data": {
      "text/plain": [
       "('a', 'b')"
      ]
     },
     "execution_count": 13,
     "metadata": {},
     "output_type": "execute_result"
    }
   ],
   "source": [
    "columns[:2]"
   ]
  },
  {
   "cell_type": "code",
   "execution_count": 14,
   "id": "47b6d802-0329-4996-b99f-50b83268316d",
   "metadata": {},
   "outputs": [
    {
     "data": {
      "text/plain": [
       "('c', 'd')"
      ]
     },
     "execution_count": 14,
     "metadata": {},
     "output_type": "execute_result"
    }
   ],
   "source": [
    "columns[2:]"
   ]
  },
  {
   "cell_type": "code",
   "execution_count": 15,
   "id": "4044bbd6-5501-45ce-8369-f3a67aa8601a",
   "metadata": {},
   "outputs": [
    {
     "data": {
      "text/plain": [
       "('a', 'c', 'd')"
      ]
     },
     "execution_count": 15,
     "metadata": {},
     "output_type": "execute_result"
    }
   ],
   "source": [
    "col = 1\n",
    "columns[:col]+columns[col+1:]"
   ]
  },
  {
   "cell_type": "code",
   "execution_count": 16,
   "id": "691e30fd-c6c9-4fe3-9f80-12fe536a8615",
   "metadata": {},
   "outputs": [
    {
     "name": "stdout",
     "output_type": "stream",
     "text": [
      "('a', 'b', 'c', 'd')\n"
     ]
    }
   ],
   "source": [
    "print(columns)"
   ]
  },
  {
   "cell_type": "code",
   "execution_count": 17,
   "id": "99a92843-fa9f-4f0a-bfa1-3e5d02919bb6",
   "metadata": {},
   "outputs": [
    {
     "name": "stdout",
     "output_type": "stream",
     "text": [
      "a\n",
      "b\n",
      "c\n",
      "d\n"
     ]
    }
   ],
   "source": [
    "for key in columns:\n",
    "    print(key)"
   ]
  },
  {
   "cell_type": "code",
   "execution_count": 17,
   "id": "d06a7dcc-2ae7-4c68-a121-3025a1160b5e",
   "metadata": {},
   "outputs": [
    {
     "data": {
      "text/plain": [
       "array([1, 2, 3, 4])"
      ]
     },
     "execution_count": 17,
     "metadata": {},
     "output_type": "execute_result"
    }
   ],
   "source": [
    "x = np.array((1, 2, 3, 4))\n",
    "x"
   ]
  },
  {
   "cell_type": "code",
   "execution_count": 20,
   "id": "53824991-5af4-475f-b165-3be20331c2ea",
   "metadata": {},
   "outputs": [
    {
     "data": {
      "text/plain": [
       "True"
      ]
     },
     "execution_count": 20,
     "metadata": {},
     "output_type": "execute_result"
    }
   ],
   "source": [
    "type(x)==np.ndarray"
   ]
  },
  {
   "cell_type": "code",
   "execution_count": null,
   "id": "86205e4c-852b-4462-ab79-a8ee4a0282ee",
   "metadata": {},
   "outputs": [],
   "source": []
  }
 ],
 "metadata": {
  "kernelspec": {
   "display_name": "Python 3 (ipykernel)",
   "language": "python",
   "name": "python3"
  },
  "language_info": {
   "codemirror_mode": {
    "name": "ipython",
    "version": 3
   },
   "file_extension": ".py",
   "mimetype": "text/x-python",
   "name": "python",
   "nbconvert_exporter": "python",
   "pygments_lexer": "ipython3",
   "version": "3.9.12"
  }
 },
 "nbformat": 4,
 "nbformat_minor": 5
}
