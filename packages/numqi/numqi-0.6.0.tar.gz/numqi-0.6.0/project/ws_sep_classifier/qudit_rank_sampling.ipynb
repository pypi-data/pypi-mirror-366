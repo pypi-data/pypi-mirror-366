{
 "cells": [
  {
   "cell_type": "code",
   "execution_count": null,
   "metadata": {},
   "outputs": [],
   "source": [
    "import pickle\n",
    "import numpy as np\n",
    "import torch\n",
    "from tqdm import tqdm\n",
    "import numqi\n",
    "import matplotlib.pyplot as plt"
   ]
  },
  {
   "cell_type": "code",
   "execution_count": null,
   "metadata": {},
   "outputs": [],
   "source": [
    "train_device = torch.device(\"cuda\" if torch.cuda.is_available() else \"cpu\")"
   ]
  },
  {
   "cell_type": "code",
   "execution_count": null,
   "metadata": {},
   "outputs": [],
   "source": [
    "def save_data(xdata, ydata, filepath='data_boundary.pkl'):\n",
    "    with open(filepath, 'wb') as fid:\n",
    "        pickle.dump(dict(xdata=xdata, ydata=ydata), fid)\n",
    "\n",
    "def load_data(filepath='data_boundary.pkl'):\n",
    "    with open(filepath, 'rb') as fid:\n",
    "        tmp0 = pickle.load(fid)\n",
    "        ret = tmp0['xdata'], tmp0['ydata']\n",
    "    return ret"
   ]
  },
  {
   "cell_type": "code",
   "execution_count": null,
   "metadata": {},
   "outputs": [],
   "source": [
    "dim = 3\n",
    "n = 1000000\n",
    "num_sample = n * dim\n",
    "num_list = [n] * dim\n",
    "batch_size = 4096*4\n",
    "num_workers = 2"
   ]
  },
  {
   "cell_type": "code",
   "execution_count": null,
   "metadata": {},
   "outputs": [],
   "source": [
    "xdata = []\n",
    "ydata = []\n",
    "for i in range(len(num_list)):\n",
    "    for _ in tqdm(range(num_list[i]//2)):\n",
    "        rho = numqi.random.rand_density_matrix(dim, k=i+1)\n",
    "        vec = numqi.gellmann.dm_to_gellmann_basis(rho)\n",
    "        # normalize\n",
    "        vec = vec / np.linalg.norm(vec)\n",
    "        beta_dm_l, beta_dm_u = numqi.entangle.get_density_matrix_boundary(rho)\n",
    "        xdata.append(vec)\n",
    "        ydata.append(beta_dm_u)\n",
    "        xdata.append(-vec)\n",
    "        ydata.append(-beta_dm_l)\n",
    "\n",
    "xdata = np.array(xdata)\n",
    "ydata = np.array(ydata)\n",
    "print(f'min: {np.min(ydata)}, max: {np.max(ydata)}, mean: {np.mean(ydata)}, variance: {np.var(ydata)}')\n",
    "save_data(xdata, ydata, f'data_dm_boundary_RankSampling_{dim}_{num_sample}.pkl') "
   ]
  },
  {
   "cell_type": "code",
   "execution_count": null,
   "metadata": {},
   "outputs": [],
   "source": [
    "# check the real boundary\n",
    "print(np.sqrt(1/(2*dim*(dim-1))))\n",
    "print(np.sqrt((dim-1)/(2*dim)))"
   ]
  },
  {
   "cell_type": "code",
   "execution_count": null,
   "metadata": {},
   "outputs": [],
   "source": [
    "class Net(torch.nn.Module):\n",
    "    def __init__(self, dim, device='cpu'):\n",
    "        super(Net, self).__init__()\n",
    "        tmp0 = [dim**2-1, 128, 256, 256, 512, 512, 512, 256, 256, 128, 1]\n",
    "        self.fc_list = torch.nn.ModuleList([torch.nn.Linear(tmp0[x], tmp0[x+1]) for x in range(len(tmp0)-1)])\n",
    "        self.bn_list = torch.nn.ModuleList([torch.nn.BatchNorm1d(tmp0[x+1]) for x in range(len(tmp0)-1)])\n",
    "        self.a = torch.sqrt(torch.tensor(1/(2*dim*(dim-1)), device=device))\n",
    "        self.b = torch.sqrt(torch.tensor((dim-1)/(2*dim), device=device))\n",
    "        self.scale = torch.tensor(0.05, device=device)\n",
    "\n",
    "    def forward(self, x):\n",
    "        for ind0 in range(len(self.fc_list)):\n",
    "            y = self.fc_list[ind0](x)\n",
    "            y = self.bn_list[ind0](y)\n",
    "            if ind0<(len(self.fc_list)-1):\n",
    "                y = torch.nn.functional.leaky_relu(y)\n",
    "            if x.shape[-1]==y.shape[-1]:\n",
    "                x = y + x\n",
    "            else:\n",
    "                x = y\n",
    "        x = (1 + self.scale) * (self.b - self.a) * torch.sigmoid(x) + self.a * (1 - self.scale)\n",
    "        x = x[:,0] \n",
    "        return x"
   ]
  },
  {
   "cell_type": "code",
   "execution_count": null,
   "metadata": {},
   "outputs": [],
   "source": [
    "xdata, ydata = load_data(f'data_dm_boundary_RankSampling_{dim}_{num_sample}.pkl')\n",
    "tmp0 = torch.tensor(xdata, dtype=torch.float32)\n",
    "tmp1 = torch.tensor(ydata, dtype=torch.float32)\n",
    "dataloader = torch.utils.data.DataLoader(torch.utils.data.TensorDataset(tmp0, tmp1), batch_size=batch_size, shuffle=True, num_workers=num_workers)"
   ]
  },
  {
   "cell_type": "code",
   "execution_count": null,
   "metadata": {},
   "outputs": [],
   "source": [
    "model = Net(dim, device=train_device).to(train_device)\n",
    "optimizer = torch.optim.Adam(model.parameters(), lr=1e-2)\n",
    "lr_scheduler = torch.optim.lr_scheduler.ExponentialLR(optimizer, gamma=0.7)\n",
    "loss_history = []\n",
    "model.train()\n",
    "for epoch in range(10):\n",
    "    with tqdm(dataloader) as pbar:\n",
    "        for x, y in pbar:\n",
    "            x, y = x.to(train_device), y.to(train_device)\n",
    "            optimizer.zero_grad()\n",
    "            y_pred = model(x)\n",
    "            loss = torch.nn.functional.mse_loss(y_pred, y)\n",
    "            loss.backward()\n",
    "            optimizer.step()\n",
    "            loss_history.append(loss.item())\n",
    "            pbar.set_postfix(train_loss='{:.5}'.format(sum(loss_history[-10:])/10))\n",
    "        lr_scheduler.step()"
   ]
  },
  {
   "cell_type": "code",
   "execution_count": null,
   "metadata": {},
   "outputs": [],
   "source": [
    "fig,ax = plt.subplots()\n",
    "ax.plot(np.arange(len(loss_history)), loss_history, '.')\n",
    "ax.set_xlabel('iteration')\n",
    "ax.set_ylabel('loss')\n",
    "# log scale\n",
    "ax.set_yscale('log')\n",
    "ax.grid()\n",
    "fig.tight_layout() "
   ]
  },
  {
   "cell_type": "code",
   "execution_count": null,
   "metadata": {},
   "outputs": [],
   "source": [
    "torch.save(model.state_dict(), f'model_qudit_RankSampling_{dim}_{num_sample}_{batch_size}.pt')"
   ]
  },
  {
   "cell_type": "code",
   "execution_count": null,
   "metadata": {},
   "outputs": [],
   "source": [
    "i=0\n",
    "j=62\n",
    "GellMann = numqi.gellmann.all_gellmann_matrix(dim, with_I=False)\n",
    "op0 = GellMann[i]\n",
    "op1 = GellMann[j]\n",
    "\n",
    "theta_list = np.linspace(0, 2*np.pi, 500)\n",
    "direction = np.stack([np.cos(theta_list), np.sin(theta_list)], axis=1)\n",
    "\n",
    "_, hf_plane = numqi.entangle.get_density_matrix_plane(op0, op1)\n",
    "beta_dm_cs = np.array([numqi.entangle.get_density_matrix_boundary(hf_plane(x))[1] for x in theta_list])\n",
    "nr_dm_cs = beta_dm_cs.reshape(-1,1) * direction\n",
    "\n",
    "vec_list = np.array([numqi.gellmann.dm_to_gellmann_basis(hf_plane(x)) for x in theta_list])\n",
    "model = Net(dim)\n",
    "device = torch.device('cpu')\n",
    "model.load_state_dict(torch.load(f'model_qudit_RankSampling_{dim}_{num_sample}_{batch_size}.pt', map_location=device))\n",
    "model.eval()\n",
    "with torch.no_grad():\n",
    "    beta_dm_model = model(torch.tensor(vec_list, dtype=torch.float32)).numpy()\n",
    "\n",
    "nr_dm_model_cs = beta_dm_model.reshape(-1,1) * direction\n",
    "\n",
    "nr_dm_inside_ball = model.a.numpy() * direction\n",
    "nr_dm_outside_ball = model.b.numpy() * direction\n",
    "\n",
    "fig, ax = plt.subplots()\n",
    "ax.plot(nr_dm_cs[:,0], nr_dm_cs[:,1], '-', color='blue')\n",
    "ax.plot(nr_dm_model_cs[:,0], nr_dm_model_cs[:,1], '--', color='blue')\n",
    "ax.plot(nr_dm_inside_ball[:,0], nr_dm_inside_ball[:,1], '-', color='green')\n",
    "ax.plot(nr_dm_outside_ball[:,0], nr_dm_outside_ball[:,1], '-', color='green')\n",
    "ax.axis('equal')\n",
    "ax.set_xlabel(r'$\\lambda_{%d}$'%(i+1))\n",
    "ax.set_ylabel(r'$\\lambda_{%d}$'%(j+1))\n",
    "#fig.savefig(f'qudit{dim}_{i+1}_{j+1}.pdf')"
   ]
  },
  {
   "cell_type": "code",
   "execution_count": null,
   "metadata": {},
   "outputs": [],
   "source": [
    "op0 = numqi.random.rand_density_matrix(dim)\n",
    "op1 = numqi.random.rand_density_matrix(dim)\n",
    "\n",
    "theta_list = np.linspace(0, 2*np.pi, 500)\n",
    "direction = np.stack([np.cos(theta_list), np.sin(theta_list)], axis=1)\n",
    "\n",
    "_, hf_plane = numqi.entangle.get_density_matrix_plane(op0, op1)\n",
    "beta_dm_cs = np.array([numqi.entangle.get_density_matrix_boundary(hf_plane(x))[1] for x in theta_list])\n",
    "nr_dm_cs = beta_dm_cs.reshape(-1,1) * direction\n",
    "\n",
    "vec_list = np.array([numqi.gellmann.dm_to_gellmann_basis(hf_plane(x)) for x in theta_list])\n",
    "model = Net(dim)\n",
    "device = torch.device('cpu')\n",
    "model.load_state_dict(torch.load(f'model_qudit_RankSampling_{dim}_{num_sample}_{batch_size}.pt', map_location=device))\n",
    "model.eval()\n",
    "with torch.no_grad():\n",
    "    beta_dm_model = model(torch.tensor(vec_list, dtype=torch.float32)).numpy()\n",
    "\n",
    "nr_dm_model_cs = beta_dm_model.reshape(-1,1) * direction\n",
    "\n",
    "nr_dm_inside_ball = model.a.numpy() * direction\n",
    "nr_dm_outside_ball = model.b.numpy() * direction\n",
    "\n",
    "fig, ax = plt.subplots()\n",
    "ax.plot(nr_dm_cs[:,0], nr_dm_cs[:,1], '-', color='blue')\n",
    "ax.plot(nr_dm_model_cs[:,0], nr_dm_model_cs[:,1], '--', color='blue')\n",
    "ax.plot(nr_dm_inside_ball[:,0], nr_dm_inside_ball[:,1], '-', color='green')\n",
    "ax.plot(nr_dm_outside_ball[:,0], nr_dm_outside_ball[:,1], '-', color='green')\n",
    "ax.axis('equal')\n",
    "#fig.savefig(f'qudit{dim}_random.pdf')"
   ]
  }
 ],
 "metadata": {
  "kernelspec": {
   "display_name": "cuda122",
   "language": "python",
   "name": "python3"
  },
  "language_info": {
   "codemirror_mode": {
    "name": "ipython",
    "version": 3
   },
   "file_extension": ".py",
   "mimetype": "text/x-python",
   "name": "python",
   "nbconvert_exporter": "python",
   "pygments_lexer": "ipython3",
   "version": "3.10.13"
  }
 },
 "nbformat": 4,
 "nbformat_minor": 2
}
