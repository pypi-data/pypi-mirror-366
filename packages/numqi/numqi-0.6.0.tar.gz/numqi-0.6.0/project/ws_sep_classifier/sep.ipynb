{
 "cells": [
  {
   "cell_type": "code",
   "execution_count": 2,
   "metadata": {},
   "outputs": [],
   "source": [
    "import pickle\n",
    "import numpy as np\n",
    "import torch\n",
    "from tqdm import tqdm\n",
    "import numqi\n",
    "import matplotlib.pyplot as plt"
   ]
  },
  {
   "cell_type": "code",
   "execution_count": 3,
   "metadata": {},
   "outputs": [],
   "source": [
    "# Random generate a d^-1-dimensional real vector in Euclidean space\n",
    "def random_vector(d):\n",
    "    x = np.random.normal(size=d*d-1)\n",
    "    x = x / np.linalg.norm(x)\n",
    "    return x\n",
    "\n",
    "def save_data(xdata, ydata, filepath='data_boundary.pkl'):\n",
    "    with open(filepath, 'wb') as fid:\n",
    "        pickle.dump(dict(xdata=xdata, ydata=ydata), fid)\n",
    "\n",
    "def load_data(filepath='data_boundary.pkl'):\n",
    "    with open(filepath, 'rb') as fid:\n",
    "        tmp0 = pickle.load(fid)\n",
    "        ret = tmp0['xdata'], tmp0['ydata']\n",
    "    return ret"
   ]
  },
  {
   "cell_type": "code",
   "execution_count": 5,
   "metadata": {},
   "outputs": [],
   "source": [
    "dimA = 3\n",
    "dimB = 3\n",
    "dim = dimA * dimB\n",
    "num_sample_random_mixed = 1000000\n",
    "num_sample_random_pure = int(num_sample_random_mixed // 4)\n",
    "num_sample = num_sample_random_mixed + num_sample_random_pure\n",
    "batch_size = 128"
   ]
  },
  {
   "cell_type": "code",
   "execution_count": 7,
   "metadata": {},
   "outputs": [
    {
     "name": "stdout",
     "output_type": "stream",
     "text": [
      "random mixed state\n",
      "beta_cha = 0.15573127699836403\n",
      "beta_ppt = 0.15580735480832905\n",
      "random pure state\n",
      "beta_cha = 0.14786783854166657\n",
      "beta_ppt = 0.14776371779285896\n"
     ]
    }
   ],
   "source": [
    "print(\"random mixed state\")\n",
    "vec = random_vector(dim)\n",
    "rho = numqi.gellmann.gellmann_basis_to_dm(vec)\n",
    "model = numqi.entangle.AutodiffCHAREE((dimA, dimB), distance_kind='ree')\n",
    "beta_cha = model.get_boundary(rho, use_tqdm=False)\n",
    "_, beta_ppt = numqi.entangle.get_ppt_boundary(rho,(dimA,dimB))\n",
    "print('beta_cha =', beta_cha)\n",
    "print('beta_ppt =', beta_ppt)\n",
    "\n",
    "print(\"random pure state\")\n",
    "state = numqi.random.rand_bipartite_state(dimA, dimB)\n",
    "rho = state[:, np.newaxis] @ state[np.newaxis, :].conj()\n",
    "model = numqi.entangle.AutodiffCHAREE((dimA, dimB), distance_kind='ree')\n",
    "beta_cha = model.get_boundary(rho, use_tqdm=False)\n",
    "_, beta_ppt = numqi.entangle.get_ppt_boundary(rho,(dimA,dimB))\n",
    "print('beta_cha =', beta_cha)\n",
    "print('beta_ppt =', beta_ppt)"
   ]
  },
  {
   "cell_type": "code",
   "execution_count": null,
   "metadata": {},
   "outputs": [],
   "source": [
    "# Training data\n",
    "model = numqi.entangle.AutodiffCHAREE((dimA, dimB), distance_kind='ree')\n",
    "xdata = []\n",
    "ydata = []\n",
    "vec_list = [random_vector(dim) for _ in range(num_sample_random_mixed)]\n",
    "for vec in tqdm(vec_list):\n",
    "    rho = numqi.gellmann.gellmann_basis_to_dm(vec)\n",
    "    beta = model.get_boundary(rho, use_tqdm=False)\n",
    "    xdata.append(vec)\n",
    "    ydata.append(beta)\n",
    "print(f'Mixed ppt state: min: {np.min(ydata)}, max: {np.max(ydata)}, mean: {np.mean(ydata)}, variance: {np.var(ydata)}')\n",
    "save_data(xdata, ydata, f'data_sep_mixed_boundary_{dimA}*{dimB}_{num_sample_random_mixed}.pkl')\n",
    "\n",
    "xdata = []\n",
    "ydata = []\n",
    "pure_state_list = [numqi.random.rand_bipartite_state(dimA, dimB) for _ in range(num_sample_random_pure)]\n",
    "for state in tqdm(pure_state_list):\n",
    "    rho = state[:, np.newaxis] @ state[np.newaxis, :].conj()\n",
    "    beta = model.get_boundary(rho, use_tqdm=False)\n",
    "    vec = numqi.gellmann.dm_to_gellmann_basis(rho)\n",
    "    xdata.append(vec)\n",
    "    ydata.append(beta)\n",
    "xdata = np.array(xdata)\n",
    "ydata = np.array(ydata)\n",
    "print(f'Pure ppt state: min: {np.min(ydata)}, max: {np.max(ydata)}, mean: {np.mean(ydata)}, variance: {np.var(ydata)}')\n",
    "save_data(xdata, ydata, f'data_sep_pure_boundary_{dimA}*{dimB}_{num_sample_random_pure}.pkl')"
   ]
  },
  {
   "cell_type": "code",
   "execution_count": null,
   "metadata": {},
   "outputs": [],
   "source": [
    "class Net(torch.nn.Module):\n",
    "    def __init__(self, dim):\n",
    "        super(Net, self).__init__()\n",
    "        tmp0 = [dim**2-1, 128, 256, 256, 512, 512, 512, 256, 256, 128, 1]\n",
    "        self.fc_list = torch.nn.ModuleList([torch.nn.Linear(tmp0[x], tmp0[x+1]) for x in range(len(tmp0)-1)])\n",
    "        self.bn_list = torch.nn.ModuleList([torch.nn.BatchNorm1d(tmp0[x+1]) for x in range(len(tmp0)-1)])\n",
    "        self.a = torch.sqrt(torch.tensor(1/(2*dim*(dim-1)), dtype=torch.float32))\n",
    "        self.b = torch.sqrt(torch.tensor((dim-1)/(2*dim), dtype=torch.float32))\n",
    "        self.scale = torch.tensor(0.05, dtype=torch.float32)\n",
    "\n",
    "    def forward(self, x):\n",
    "        for ind0 in range(len(self.fc_list)):\n",
    "            y = self.fc_list[ind0](x)\n",
    "            y = self.bn_list[ind0](y)\n",
    "            if ind0<(len(self.fc_list)-1):\n",
    "                y = torch.nn.functional.leaky_relu(y)\n",
    "            if x.shape[-1]==y.shape[-1]:\n",
    "                x = y + x\n",
    "            else:\n",
    "                x = y\n",
    "        x = (1 + self.scale) * (self.b - self.a) * torch.sigmoid(x) + self.a * (1 - self.scale)\n",
    "        x = x[:,0]\n",
    "        return x"
   ]
  },
  {
   "cell_type": "code",
   "execution_count": null,
   "metadata": {},
   "outputs": [],
   "source": [
    "xdata_mixed,ydata_mixed = load_data(filepath=f'data_ppt_mixed_boundary_{dimA}*{dimB}_{num_sample_random_mixed}.pkl')\n",
    "xdata_pure,ydata_pure = load_data(filepath=f'data_ppt_pure_boundary_{dimA}*{dimB}_{num_sample_random_pure}.pkl')\n",
    "xdata = np.concatenate([xdata_mixed, xdata_pure], axis=0)\n",
    "ydata = np.concatenate([ydata_mixed, ydata_pure], axis=0)\n",
    "tmp0 = torch.tensor(xdata, dtype=torch.float32)\n",
    "tmp1 = torch.tensor(ydata, dtype=torch.float32)\n",
    "dataloader = torch.utils.data.DataLoader(torch.utils.data.TensorDataset(tmp0, tmp1), batch_size=batch_size, shuffle=True)"
   ]
  },
  {
   "cell_type": "code",
   "execution_count": null,
   "metadata": {},
   "outputs": [],
   "source": [
    "model = Net(dim)\n",
    "optimizer = torch.optim.Adam(model.parameters(), lr=1e-3)\n",
    "loss_history = []\n",
    "model.train()\n",
    "for epoch in range(1):\n",
    "    with tqdm(dataloader) as pbar:\n",
    "        for x, y in pbar:\n",
    "            optimizer.zero_grad()\n",
    "            y_pred = model(x)\n",
    "            loss = torch.nn.functional.mse_loss(y_pred, y)\n",
    "            loss.backward()\n",
    "            optimizer.step()\n",
    "            loss_history.append(loss.item())\n",
    "            pbar.set_postfix(train_loss='{:.5}'.format(sum(loss_history[-10:])/10))"
   ]
  },
  {
   "cell_type": "code",
   "execution_count": null,
   "metadata": {},
   "outputs": [],
   "source": [
    "fig,ax = plt.subplots()\n",
    "ax.plot(np.arange(len(loss_history)), loss_history, '.')\n",
    "ax.set_xlabel('iteration')\n",
    "ax.set_ylabel('loss')\n",
    "# log scale\n",
    "ax.set_yscale('log')\n",
    "ax.grid()\n",
    "fig.tight_layout()"
   ]
  }
 ],
 "metadata": {
  "kernelspec": {
   "display_name": "Python 3",
   "language": "python",
   "name": "python3"
  },
  "language_info": {
   "codemirror_mode": {
    "name": "ipython",
    "version": 3
   },
   "file_extension": ".py",
   "mimetype": "text/x-python",
   "name": "python",
   "nbconvert_exporter": "python",
   "pygments_lexer": "ipython3",
   "version": "3.11.6"
  }
 },
 "nbformat": 4,
 "nbformat_minor": 2
}
