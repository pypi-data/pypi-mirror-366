{
 "cells": [
  {
   "cell_type": "markdown",
   "metadata": {},
   "source": [
    "# Schmidt Rank of subspaces in real field\n",
    "\n",
    "TODO see paper \"Bounding Real Tensor Optimizations via the Numerical Range\" [arxiv-link](https://arxiv.org/abs/2212.12811)"
   ]
  }
 ],
 "metadata": {
  "language_info": {
   "name": "python"
  }
 },
 "nbformat": 4,
 "nbformat_minor": 2
}
