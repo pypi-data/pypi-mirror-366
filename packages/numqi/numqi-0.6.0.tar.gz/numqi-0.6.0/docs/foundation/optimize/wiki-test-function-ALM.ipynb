{
 "cells": [
  {
   "cell_type": "markdown",
   "metadata": {},
   "source": [
    "# Augmented Lagrangian Method\n",
    "\n",
    "TODO\n",
    "\n",
    "[wiki/test-function-list](https://en.wikipedia.org/wiki/Test_functions_for_optimization)"
   ]
  }
 ],
 "metadata": {
  "language_info": {
   "name": "python"
  },
  "orig_nbformat": 4
 },
 "nbformat": 4,
 "nbformat_minor": 2
}
