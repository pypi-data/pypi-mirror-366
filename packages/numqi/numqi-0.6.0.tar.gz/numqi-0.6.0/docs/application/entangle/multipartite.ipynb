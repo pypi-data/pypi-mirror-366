{
 "cells": [
  {
   "cell_type": "markdown",
   "metadata": {},
   "source": [
    "# Multipartite entanglement"
   ]
  },
  {
   "cell_type": "markdown",
   "metadata": {},
   "source": [
    "## Pure state\n",
    "\n",
    "For a general multipartite pure state $\\vert \\psi \\rangle \\in \\mathcal{H}_1 \\otimes\\mathcal{H}_2\\otimes\\cdots\\otimes\\mathcal{H}_n$, we use *tensor* instead of *matrix* to describe the multipartite states. *Tensor rank* is defined as the minimum number $r$ such that there exist states $\\vert \\phi_i^{(k)}\\rangle \\in \\mathcal{H}_k (1\\leq i\\leq r, 1\\leq k\\leq n)$ satisfying\n",
    "$$\n",
    "    \\vert \\psi \\rangle = \\sum_{i=1}^r \\lambda_i \\vert \\phi_i^{(1)}\\rangle \\otimes \\vert \\phi_i^{(2)}\\rangle \\otimes \\cdots \\otimes \\vert \\phi_i^{(n)}\\rangle\n",
    "$$\n",
    "where the coefficients $\\lambda_i$ are positive but the different product terms may not be orthonormal to each other. Mutipartite entanglement means the tensor rank of a pure state is larger than 1. In other words, the pure state cannot decompose into fully product state among different parties."
   ]
  },
  {
   "cell_type": "markdown",
   "metadata": {},
   "source": [
    "In the multipartite scenario, the notion of *border rank* also arises. This concept acknowledges that certain tensors can be approximated with arbitrary precision using other tensors with smaller tensor ranks -- a phenomenon not possible with matrices. *Border rank* is defined as the minimum number $r$ of product terms that are sufficient to approximate the given tensor with arbitrarily small error (under certain distance definition). In other words, the given tensor is a *limit* of tensors of rank $r$."
   ]
  },
  {
   "cell_type": "markdown",
   "metadata": {},
   "source": [
    "A famous example of the gap between tensor rank and border rank is that the tensor rank of the W state in 3-qubit is 3 while its border rank is 2 since\n",
    "$$\n",
    "    \\left|W\\right\\rangle=\\frac{1}{\\sqrt{3}}\\left[\\lim _{t \\rightarrow 0} \\frac{1}{t}\\left(\\left(|0\\rangle+t |1\\rangle\\right)^{\\otimes 3}-|0\\rangle^{\\otimes 3}\\right) \\right].\n",
    "$$\n",
    "For any $t \\neq 0$, the tensor on the right hand has rank 2 and in the limit $t \\rightarrow 0$, it becomes W state. For brevity, in the following, we will denote the tensor and border rank as $R$ and $\\underline{R}$ separately.\n",
    "\n",
    "The gap between these two different ranks is related to the problem of determining a *best rank-r approximation* for the given tensor $A$, which has no solution in general implying $R(A)> \\underline{R}(A)$. However, there exist two notable exceptions: the cases $n=2$ (the given tensor is a matrix) and $r=1$ (approximation by rank-1 tensors). The former implies $R(A)=\\underline{R}(A)$ for a matrix $A$ while the latter means there does not exist a tensor $A$ with $R(A)>\\underline{R}(A)=1$."
   ]
  },
  {
   "cell_type": "markdown",
   "metadata": {},
   "source": [
    "## Quantum subspace"
   ]
  },
  {
   "cell_type": "markdown",
   "metadata": {},
   "source": [
    "Given a subspace $\\mathcal{S}$ spanned by a set of multipartite states $\\{ \\vert \\psi_1\\rangle, \\vert \\psi_2\\rangle,\\dots,\\vert \\psi_m\\rangle\\}$, we define the *minimal rank* of $\\mathcal{S}$ as the following:\n",
    "$$\n",
    "\\operatorname{r}(\\mathcal{S})=\\min_{\\vert\\psi\\rangle \\in \\mathcal{S}}\\underline{R}(\\vert\\psi\\rangle).\n",
    "$$\n",
    "The definition is consistent across the bipartite and multipartite cases since the Schmidt rank is equivalent to the border rank for bipartite states."
   ]
  },
  {
   "cell_type": "markdown",
   "metadata": {},
   "source": [
    "### Completely entangled subspace\n",
    "\n",
    "Consider a subspace $\\mathcal{S} \\subset \\mathcal{H}_1 \\otimes\\mathcal{H}_2\\otimes\\cdots\\otimes\\mathcal{H}_n$, we call $\\mathcal{S}$ is *completely entangled* iff it contains no *fully product* state. Due to the existence of best rank-1 approximation as mentioned above, we know it is equivalent to the detection of subspaces with $r(\\mathcal{S}) > 1$."
   ]
  },
  {
   "cell_type": "markdown",
   "metadata": {},
   "source": [
    "### Genuinely entangled subspace\n",
    "\n",
    " A subspace $\\mathcal{S}\\subset \\mathcal{H}_1 \\otimes\\mathcal{H}_2\\otimes\\cdots\\otimes\\mathcal{H}_n$ is *genuinely entangled* iff it contains no product state for any *bipartition* $K \\vert K^c$, where $K$ is a subset of $\\{1,2,\\dots,n\\}$ and $K^c$ denotes the complementary set. For example, for a tripartite state $\\vert \\psi \\rangle \\in \\mathcal{H}_A \\otimes \\mathcal{H}_B \\otimes \\mathcal{H}_C$, there are three possible bipartition $AB\\vert C$, $AC\\vert B$ and $BC\\vert A$. The genuine entanglement of a subspace is equivalent to $r(\\mathcal{S})>1$ for any bipartition $K\\vert K^c$."
   ]
  },
  {
   "cell_type": "markdown",
   "metadata": {},
   "source": [
    "## Mixed state (TODO)"
   ]
  }
 ],
 "metadata": {
  "language_info": {
   "name": "python"
  }
 },
 "nbformat": 4,
 "nbformat_minor": 2
}
