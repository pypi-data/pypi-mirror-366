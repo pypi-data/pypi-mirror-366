{
 "cells": [
  {
   "cell_type": "code",
   "execution_count": 1,
   "id": "77c091f2",
   "metadata": {},
   "outputs": [
    {
     "name": "stdout",
     "output_type": "stream",
     "text": [
      "Earth Engine initialized successfully using AgriGEE.lite for academic usage.\n"
     ]
    }
   ],
   "source": [
    "import agrigee_lite as agl\n",
    "import ee\n",
    "import geopandas as gpd"
   ]
  },
  {
   "cell_type": "code",
   "execution_count": 2,
   "id": "27f978b9",
   "metadata": {},
   "outputs": [],
   "source": [
    "ee.Initialize(opt_url=\"https://earthengine-highvolume.googleapis.com\", project=\"ee-mateuspsilva\")"
   ]
  },
  {
   "cell_type": "code",
   "execution_count": 3,
   "id": "b0b2db01",
   "metadata": {},
   "outputs": [],
   "source": [
    "gdf = gpd.read_parquet(\"data/sample.parquet\")"
   ]
  },
  {
   "cell_type": "code",
   "execution_count": 4,
   "id": "d805ec8b",
   "metadata": {},
   "outputs": [],
   "source": [
    "s2_sat = agl.sat.Sentinel2(use_sr=False)"
   ]
  },
  {
   "cell_type": "code",
   "execution_count": 5,
   "id": "b716c550",
   "metadata": {},
   "outputs": [],
   "source": [
    "gdf = gdf[gdf.start_date >= s2_sat.startDate].reset_index(drop=True)"
   ]
  },
  {
   "cell_type": "code",
   "execution_count": 6,
   "id": "61a87f1d",
   "metadata": {},
   "outputs": [],
   "source": [
    "task = agl.get.download_multiple_sits_task_asset(gdf, s2_sat, \"projects/ee-mateuspsilva/assets/BBB\")"
   ]
  },
  {
   "cell_type": "code",
   "execution_count": 7,
   "id": "a1ae68cd",
   "metadata": {},
   "outputs": [],
   "source": [
    "task2 = task.start()"
   ]
  },
  {
   "cell_type": "code",
   "execution_count": null,
   "id": "d3c443d0",
   "metadata": {},
   "outputs": [],
   "source": []
  }
 ],
 "metadata": {
  "kernelspec": {
   "display_name": ".venv",
   "language": "python",
   "name": "python3"
  },
  "language_info": {
   "codemirror_mode": {
    "name": "ipython",
    "version": 3
   },
   "file_extension": ".py",
   "mimetype": "text/x-python",
   "name": "python",
   "nbconvert_exporter": "python",
   "pygments_lexer": "ipython3",
   "version": "3.11.10"
  }
 },
 "nbformat": 4,
 "nbformat_minor": 5
}
