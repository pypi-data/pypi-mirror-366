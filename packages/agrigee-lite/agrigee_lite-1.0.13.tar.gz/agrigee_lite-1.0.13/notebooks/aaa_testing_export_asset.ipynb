{
 "cells": [
  {
   "cell_type": "code",
   "execution_count": 1,
   "id": "77c091f2",
   "metadata": {},
   "outputs": [
    {
     "name": "stdout",
     "output_type": "stream",
     "text": [
      "Earth Engine initialized successfully using AgriGEE.lite for academic usage (project=ee-mateuspsilva).\n"
     ]
    }
   ],
   "source": [
    "import geopandas as gpd\n",
    "\n",
    "import agrigee_lite as agl"
   ]
  },
  {
   "cell_type": "code",
   "execution_count": 2,
   "id": "b0b2db01",
   "metadata": {},
   "outputs": [],
   "source": [
    "gdf = gpd.read_parquet(\"data/sample.parquet\")"
   ]
  },
  {
   "cell_type": "code",
   "execution_count": 3,
   "id": "0f3bde0e",
   "metadata": {},
   "outputs": [],
   "source": [
    "palsar_sat = agl.sat.PALSAR2ScanSAR()"
   ]
  },
  {
   "cell_type": "code",
   "execution_count": null,
   "id": "2faae05b",
   "metadata": {},
   "outputs": [
    {
     "name": "stderr",
     "output_type": "stream",
     "text": [
      "Simplifying clusters: 100%|██████████| 1/1 [00:00<00:00, 25.42it/s]\n",
      "100%|██████████| 1/1 [00:00<00:00,  5.69it/s]\n",
      "Waiting for tasks:   0%|          | 0/1 [00:00<?, ?it/s]"
     ]
    }
   ],
   "source": [
    "agl.get.multiple_sits_gdrive(gdf, palsar_sat)"
   ]
  },
  {
   "cell_type": "code",
   "execution_count": null,
   "id": "ae4ab5db",
   "metadata": {},
   "outputs": [],
   "source": [
    "row = gdf.iloc[0]\n",
    "\n",
    "palsar_sat = agl.sat.PALSAR2ScanSAR()\n",
    "\n",
    "agl.vis.sits(row.geometry, \"2019-10-01\", \"2024-10-01\", palsar_sat, \"hh\")"
   ]
  },
  {
   "cell_type": "code",
   "execution_count": null,
   "id": "da04c5c8",
   "metadata": {},
   "outputs": [],
   "source": [
    "import matplotlib.pyplot as plt"
   ]
  },
  {
   "cell_type": "code",
   "execution_count": null,
   "id": "63b8136d",
   "metadata": {},
   "outputs": [],
   "source": [
    "row = gdf.iloc[0]\n",
    "\n",
    "fig, ax = plt.subplots(2, figsize=(24, 2*10))\n",
    "\n",
    "palsar_sat = agl.sat.PALSAR2ScanSAR(indices=[\"rvi\"])\n",
    "s2_sat = agl.sat.Sentinel2(bands=[\"red\", \"nir\"], indices=[\"evi2\"])\n",
    "\n",
    "agl.vis.sits(row.geometry, \"2019-10-01\", \"2024-10-01\", palsar_sat, \"rvi\", ax=ax[0])\n",
    "agl.vis.sits(row.geometry, \"2019-10-01\", \"2024-10-01\", s2_sat, \"evi2\", ax=ax[1])\n",
    "\n",
    "plt.show()"
   ]
  },
  {
   "cell_type": "code",
   "execution_count": null,
   "id": "d805ec8b",
   "metadata": {},
   "outputs": [],
   "source": [
    "s2_sat = agl.sat.Sentinel2(use_sr=False)"
   ]
  },
  {
   "cell_type": "code",
   "execution_count": null,
   "id": "b716c550",
   "metadata": {},
   "outputs": [],
   "source": [
    "gdf = gdf[gdf.start_date >= s2_sat.startDate].reset_index(drop=True)"
   ]
  },
  {
   "cell_type": "code",
   "execution_count": null,
   "id": "61a87f1d",
   "metadata": {},
   "outputs": [],
   "source": [
    "task = agl.get.download_multiple_sits_task_asset(gdf, s2_sat, \"projects/ee-mateuspsilva/assets/BBB\")"
   ]
  },
  {
   "cell_type": "code",
   "execution_count": null,
   "id": "a1ae68cd",
   "metadata": {},
   "outputs": [],
   "source": [
    "task2 = task.start()"
   ]
  },
  {
   "cell_type": "code",
   "execution_count": null,
   "id": "d3c443d0",
   "metadata": {},
   "outputs": [],
   "source": []
  }
 ],
 "metadata": {
  "kernelspec": {
   "display_name": ".venv",
   "language": "python",
   "name": "python3"
  },
  "language_info": {
   "codemirror_mode": {
    "name": "ipython",
    "version": 3
   },
   "file_extension": ".py",
   "mimetype": "text/x-python",
   "name": "python",
   "nbconvert_exporter": "python",
   "pygments_lexer": "ipython3",
   "version": "3.11.10"
  }
 },
 "nbformat": 4,
 "nbformat_minor": 5
}
