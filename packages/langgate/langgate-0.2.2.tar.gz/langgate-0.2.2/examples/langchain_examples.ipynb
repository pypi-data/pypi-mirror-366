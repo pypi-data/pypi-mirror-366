{
 "cells": [
  {
   "cell_type": "markdown",
   "metadata": {},
   "source": [
    "# LangChain Integration Examples"
   ]
  },
  {
   "cell_type": "code",
   "execution_count": 1,
   "metadata": {},
   "outputs": [],
   "source": [
    "import os\n",
    "from pprint import pprint as pp\n",
    "\n",
    "os.environ[\"OPENAI_API_KEY\"] = \"<YOUR_API_KEY>\"\n",
    "\n",
    "# The below environment variables are optional.\n",
    "\n",
    "# The yaml config resolution priority is: args > env > cwd > package default.\n",
    "# If you don't want to use either the package default (langgate/core/data/default_config.yaml)\n",
    "# or a config in your cwd, set:\n",
    "# os.environ[\"LANGGATE_CONFIG\"] = \"some_other_path_not_in_your_cwd/langgate_config.yaml\"\n",
    "\n",
    "# The models data resolution priority is: args > env > cwd > package default\n",
    "# If you don't want to use either the package default (langgate/registry/data/default_models.json)\n",
    "# or a models data file in your cwd, set:\n",
    "# os.environ[\"LANGGATE_MODELS\"] = \"some_other_path_not_in_your_cwd/langgate_models.json\"\n",
    "\n",
    "# The .env file resolution priority is: args > env > cwd > None\n",
    "# If you don't want to use either the package default or a .env file in your cwd, set:\n",
    "# os.environ[\"LANGGATE_ENV_FILE\"] = \"some_other_path_not_in_your_cwd/.env\""
   ]
  },
  {
   "cell_type": "markdown",
   "metadata": {},
   "source": [
    "## Basic SDK Usage"
   ]
  },
  {
   "cell_type": "markdown",
   "metadata": {},
   "source": [
    "### Get Model Metadata"
   ]
  },
  {
   "cell_type": "code",
   "execution_count": 2,
   "metadata": {},
   "outputs": [
    {
     "name": "stdout",
     "output_type": "stream",
     "text": [
      "\u001b[2m2025-07-09 23:57:57\u001b[0m [\u001b[32m\u001b[1mdebug    \u001b[0m] \u001b[1mcreating_langgate_local_client_singleton\u001b[0m\n",
      "\u001b[2m2025-07-09 23:57:57\u001b[0m [\u001b[32m\u001b[1mdebug    \u001b[0m] \u001b[1mcreating_model_registry_singleton\u001b[0m\n",
      "\u001b[2m2025-07-09 23:57:57\u001b[0m [\u001b[32m\u001b[1minfo     \u001b[0m] \u001b[1mloaded_config                 \u001b[0m \u001b[36mconfig_path\u001b[0m=\u001b[35m/Users/someuser/langgate/examples/langgate_config.yaml\u001b[0m\n",
      "\u001b[2m2025-07-09 23:57:57\u001b[0m [\u001b[32m\u001b[1minfo     \u001b[0m] \u001b[1mloaded_model_data             \u001b[0m \u001b[36mmerge_mode\u001b[0m=\u001b[35mmerge\u001b[0m \u001b[36mmodel_count\u001b[0m=\u001b[35m97\u001b[0m \u001b[36mmodels_data_path\u001b[0m=\u001b[35m/Users/someuser/langgate/packages/registry/src/langgate/registry/data/default_models.json\u001b[0m\n",
      "\u001b[2m2025-07-09 23:57:57\u001b[0m [\u001b[32m\u001b[1mdebug    \u001b[0m] \u001b[1minitialized_model_registry_singleton\u001b[0m \u001b[36mconfig_path\u001b[0m=\u001b[35m/Users/someuser/langgate/examples/langgate_config.yaml\u001b[0m \u001b[36menv_file_exists\u001b[0m=\u001b[35mFalse\u001b[0m \u001b[36menv_file_path\u001b[0m=\u001b[35m/Users/someuser/langgate/examples/.env\u001b[0m \u001b[36mmodels_data_path\u001b[0m=\u001b[35m/Users/someuser/langgate/packages/registry/src/langgate/registry/data/default_models.json\u001b[0m\n",
      "\u001b[2m2025-07-09 23:57:57\u001b[0m [\u001b[32m\u001b[1mdebug    \u001b[0m] \u001b[1minitialized_base_local_registry_client\u001b[0m\n",
      "\u001b[2m2025-07-09 23:57:57\u001b[0m [\u001b[32m\u001b[1mdebug    \u001b[0m] \u001b[1minitialized_local_registry_client_singleton\u001b[0m\n",
      "\u001b[2m2025-07-09 23:57:57\u001b[0m [\u001b[32m\u001b[1mdebug    \u001b[0m] \u001b[1mresolved_config_path          \u001b[0m \u001b[36mexists\u001b[0m=\u001b[35mTrue\u001b[0m \u001b[36mpath\u001b[0m=\u001b[35m/Users/someuser/langgate/examples/langgate_config.yaml\u001b[0m \u001b[36msource\u001b[0m=\u001b[35mdefault\u001b[0m\n",
      "\u001b[2m2025-07-09 23:57:57\u001b[0m [\u001b[32m\u001b[1mdebug    \u001b[0m] \u001b[1mresolved_env_file_path        \u001b[0m \u001b[36mexists\u001b[0m=\u001b[35mFalse\u001b[0m \u001b[36mpath\u001b[0m=\u001b[35m/Users/someuser/langgate/examples/.env\u001b[0m \u001b[36msource\u001b[0m=\u001b[35mdefault\u001b[0m\n",
      "\u001b[2m2025-07-09 23:57:57\u001b[0m [\u001b[32m\u001b[1minfo     \u001b[0m] \u001b[1mloaded_config                 \u001b[0m \u001b[36mconfig_path\u001b[0m=\u001b[35m/Users/someuser/langgate/examples/langgate_config.yaml\u001b[0m\n",
      "\u001b[2m2025-07-09 23:57:57\u001b[0m [\u001b[32m\u001b[1mdebug    \u001b[0m] \u001b[1minitialized_local_transformer_client\u001b[0m\n",
      "\u001b[2m2025-07-09 23:57:57\u001b[0m [\u001b[32m\u001b[1mdebug    \u001b[0m] \u001b[1minitialized_langgate_local_client_singleton\u001b[0m\n",
      "\u001b[2m2025-07-09 23:57:57\u001b[0m [\u001b[32m\u001b[1mdebug    \u001b[0m] \u001b[1mrefreshing_model_caches       \u001b[0m\n",
      "\u001b[2m2025-07-09 23:57:57\u001b[0m [\u001b[32m\u001b[1mdebug    \u001b[0m] \u001b[1mrefreshed_model_caches        \u001b[0m \u001b[36mimage_count\u001b[0m=\u001b[35m4\u001b[0m \u001b[36mllm_count\u001b[0m=\u001b[35m5\u001b[0m\n",
      "{'capabilities': {'supports_assistant_prefill': True,\n",
      "                  'supports_prompt_caching': True,\n",
      "                  'supports_reasoning': True,\n",
      "                  'supports_response_schema': True,\n",
      "                  'supports_tool_choice': True,\n",
      "                  'supports_tools': True,\n",
      "                  'supports_vision': True},\n",
      " 'context_window': {'max_input_tokens': 200000, 'max_output_tokens': 64000},\n",
      " 'costs': {'cache_creation_input_token_cost': '0.00000375',\n",
      "           'cache_read_input_token_cost': Decimal('3E-7'),\n",
      "           'input_cost_per_image': '0.0048',\n",
      "           'input_cost_per_token': Decimal('0.000003'),\n",
      "           'output_cost_per_token': Decimal('0.000015')},\n",
      " 'description': 'Claude-4 Sonnet with reasoning capabilities.',\n",
      " 'id': 'anthropic/claude-sonnet-4-reasoning',\n",
      " 'name': 'Claude-4 Sonnet R',\n",
      " 'provider': {'id': 'anthropic', 'name': 'Anthropic'},\n",
      " 'provider_id': 'anthropic',\n",
      " 'updated_dt': datetime.datetime(2025, 7, 9, 22, 57, 57, 545052, tzinfo=datetime.timezone.utc)}\n"
     ]
    }
   ],
   "source": [
    "from langgate.sdk import LangGateLocal\n",
    "\n",
    "client = LangGateLocal()\n",
    "\n",
    "\n",
    "# LangGate allows us to register \"virtual models\" - models with specific parameters.\n",
    "# `langgate_config.yaml` defines this `claude-sonnet-4-reasoning` model\n",
    "# which is a wrapper around the `claude-sonnet-4-0` model,\n",
    "# with specific parameters and metadata.\n",
    "# In `langgate_config.yaml`, Anthropic is set as the inference service provider,\n",
    "# but you could configure any backend API that offers the model, e.g. AWS Bedrock.\n",
    "model_id = \"anthropic/claude-sonnet-4-reasoning\"\n",
    "\n",
    "# get metadata for a model\n",
    "model_info = await client.get_llm_info(model_id)\n",
    "\n",
    "# returns a Pydantic model instance (langgate.core.models.LLMInfo)\n",
    "pp(model_info.model_dump(exclude_none=True))"
   ]
  },
  {
   "cell_type": "markdown",
   "metadata": {},
   "source": [
    "### Transform Parameters"
   ]
  },
  {
   "cell_type": "code",
   "execution_count": 3,
   "metadata": {},
   "outputs": [
    {
     "name": "stdout",
     "output_type": "stream",
     "text": [
      "('anthropic',\n",
      " {'api_key': SecretStr('**********'),\n",
      "  'base_url': 'https://api.anthropic.com',\n",
      "  'model': 'claude-sonnet-4-0',\n",
      "  'stream': True,\n",
      "  'thinking': {'budget_tokens': 1024, 'type': 'enabled'}})\n"
     ]
    }
   ],
   "source": [
    "model_params = await client.get_params(model_id, {\"temperature\": 0.7, \"stream\": True})\n",
    "pp(model_params)"
   ]
  },
  {
   "cell_type": "markdown",
   "metadata": {},
   "source": [
    "## LangChain Integration"
   ]
  },
  {
   "cell_type": "code",
   "execution_count": null,
   "metadata": {},
   "outputs": [],
   "source": [
    "!uv pip install --resolution highest -U langchain langchain-openai langchain-anthropic"
   ]
  },
  {
   "cell_type": "markdown",
   "metadata": {},
   "source": [
    "### Model Factory Pattern"
   ]
  },
  {
   "cell_type": "code",
   "execution_count": 5,
   "metadata": {},
   "outputs": [],
   "source": [
    "from typing import Any\n",
    "from pprint import pprint as pp\n",
    "\n",
    "from langchain.chat_models.base import BaseChatModel\n",
    "from langchain_anthropic import ChatAnthropic\n",
    "from langchain_openai import ChatOpenAI\n",
    "\n",
    "from langgate.sdk import LangGateLocal, LangGateLocalProtocol\n",
    "from langgate.core.models import (\n",
    "    # `ModelProviderId` is a string alias for better type safety\n",
    "    ModelProviderId,\n",
    "    # ids for common providers are included for convenience\n",
    "    MODEL_PROVIDER_OPENAI,\n",
    "    MODEL_PROVIDER_ANTHROPIC,\n",
    ")\n",
    "\n",
    "# Map providers to model classes\n",
    "MODEL_CLASS_MAP: dict[ModelProviderId, type[BaseChatModel]] = {\n",
    "    MODEL_PROVIDER_OPENAI: ChatOpenAI,\n",
    "    MODEL_PROVIDER_ANTHROPIC: ChatAnthropic,\n",
    "}\n",
    "\n",
    "\n",
    "class ModelFactory:\n",
    "    \"\"\"\n",
    "    Factory for creating a Langchain `BaseChatModel` instance\n",
    "    with paramaters from LangGate.\n",
    "    \"\"\"\n",
    "\n",
    "    def __init__(self, langgate_client: LangGateLocalProtocol | None = None):\n",
    "        self.langgate_client = langgate_client or LangGateLocal()\n",
    "\n",
    "    async def create_model(\n",
    "        self, model_id: str, input_params: dict[str, Any] | None = None\n",
    "    ) -> tuple[BaseChatModel, dict[str, Any]]:\n",
    "        \"\"\"Create a model instance for the given model ID.\"\"\"\n",
    "        params = {\"temperature\": 0.7, \"streaming\": True}\n",
    "        if input_params:\n",
    "            params.update(input_params)\n",
    "\n",
    "        # Get model info from the registry cache\n",
    "        model_info = await self.langgate_client.get_llm_info(model_id)\n",
    "\n",
    "        # Transform parameters using the transformer client\n",
    "        # If switching to using the proxy, you would remove this line\n",
    "        # and let the proxy handle the parameter transformation instead.\n",
    "        api_format, model_params = await self.langgate_client.get_params(\n",
    "            model_id, params\n",
    "        )\n",
    "        # api_format defaults to the provider id unless specified in the config.\n",
    "        # e.g. Specify \"openai\" for OpenAI-compatible APIs, etc.\n",
    "        print(\"API format:\", api_format)\n",
    "        pp(model_params)\n",
    "\n",
    "        # Get the appropriate model class based on provider\n",
    "        client_cls_key = ModelProviderId(api_format)\n",
    "        model_class = MODEL_CLASS_MAP.get(client_cls_key)\n",
    "        if not model_class:\n",
    "            raise ValueError(f\"No model class for provider {model_info.provider.id}\")\n",
    "\n",
    "        # Create model instance with parameters\n",
    "        model = model_class(**model_params)\n",
    "\n",
    "        # Create model info dict\n",
    "        model_metadata = model_info.model_dump(exclude_none=True)\n",
    "\n",
    "        return model, model_metadata"
   ]
  },
  {
   "cell_type": "code",
   "execution_count": 6,
   "metadata": {},
   "outputs": [
    {
     "name": "stdout",
     "output_type": "stream",
     "text": [
      "API format: openai\n",
      "{'api_key': SecretStr('**********'),\n",
      " 'base_url': 'https://api.openai.com/v1',\n",
      " 'model': 'gpt-4.1',\n",
      " 'streaming': True,\n",
      " 'temperature': 0.7}\n"
     ]
    },
    {
     "data": {
      "text/plain": [
       "(ChatOpenAI(client=<openai.resources.chat.completions.completions.Completions object at 0x1181ec440>, async_client=<openai.resources.chat.completions.completions.AsyncCompletions object at 0x1181ecec0>, root_client=<openai.OpenAI object at 0x10ebd8c20>, root_async_client=<openai.AsyncOpenAI object at 0x1181ecc20>, model_name='gpt-4.1', temperature=0.7, model_kwargs={}, openai_api_key=SecretStr('**********'), openai_api_base='https://api.openai.com/v1', streaming=True),\n",
       " {'id': 'openai/gpt-4.1',\n",
       "  'name': 'GPT-4.1',\n",
       "  'provider_id': 'openai',\n",
       "  'description': \"GPT-4.1 is the latest iteration of OpenAI's flagship model with improved capabilities across all domains.\",\n",
       "  'costs': {'input_cost_per_token': Decimal('0.000002'),\n",
       "   'output_cost_per_token': Decimal('0.000008'),\n",
       "   'cache_read_input_token_cost': Decimal('5E-7')},\n",
       "  'capabilities': {'supports_tools': True,\n",
       "   'supports_parallel_tool_calls': True,\n",
       "   'supports_vision': True,\n",
       "   'supports_prompt_caching': True,\n",
       "   'supports_response_schema': True,\n",
       "   'supports_system_messages': True,\n",
       "   'supports_tool_choice': True},\n",
       "  'context_window': {'max_input_tokens': 1047576, 'max_output_tokens': 32768},\n",
       "  'provider': {'id': 'openai', 'name': 'OpenAI'},\n",
       "  'updated_dt': datetime.datetime(2025, 7, 9, 22, 57, 57, 544994, tzinfo=datetime.timezone.utc)})"
      ]
     },
     "execution_count": 6,
     "metadata": {},
     "output_type": "execute_result"
    }
   ],
   "source": [
    "model_factory = ModelFactory()\n",
    "model_id = \"openai/gpt-4.1\"\n",
    "model, model_info = await model_factory.create_model(model_id, {\"temperature\": 0.7})\n",
    "model, model_info"
   ]
  },
  {
   "cell_type": "markdown",
   "metadata": {},
   "source": [
    "### Model Factory Pattern (Decoupled)\n",
    "- The `LangGateLocal` client is composed of the `LocalRegistryClient` and `LocalTransformerClient`.\n",
    "- This example is the same as the above, but with each adapter passed in separately to the factory.\n",
    " \n",
    "\n",
    "\n",
    "For example, you may want to sync model data from the registry to a database, along with additional fields.\n",
    "You could create a `PgModelRegistry` that implements `RegistryClientProtocol`. This would ensure consistent typing throughout your codebase, and you could apply any app-specific validation rules or transformations to the model data before it is sent to the database. For example, limiting the synced models to a subset of the registry models, or transforming the model data to match the database schema. This would allow you to use the same `LangGateLocal` client, while still being able to customize the behavior of each adapter."
   ]
  },
  {
   "cell_type": "code",
   "execution_count": 7,
   "metadata": {},
   "outputs": [],
   "source": [
    "from typing import Any\n",
    "from pprint import pprint as pp\n",
    "\n",
    "from langchain.chat_models.base import BaseChatModel\n",
    "from langchain.chat_models import init_chat_model\n",
    "\n",
    "from langgate.registry import RegistryClientProtocol, LocalRegistryClient\n",
    "from langgate.transform import LocalTransformerClient, TransformerClientProtocol\n",
    "\n",
    "\n",
    "class ModelFactoryDecoupled:\n",
    "    \"\"\"\n",
    "    Factory for creating a Langchain `BaseChatModel` instance\n",
    "    with paramaters from LangGate. Adapters for the registry and transformer\n",
    "    clients are injected separately, allowing for more flexibility.\n",
    "    \"\"\"\n",
    "\n",
    "    DEFAULT_APP_PARAMS: dict[str, Any] = {\n",
    "        \"streaming\": True,\n",
    "        \"verbose\": True,\n",
    "        \"temperature\": 0.7,\n",
    "    }\n",
    "\n",
    "    def __init__(\n",
    "        self,\n",
    "        model_registry: RegistryClientProtocol | None = None,\n",
    "        param_transformer: TransformerClientProtocol | None = None,\n",
    "    ):\n",
    "        self.model_registry = model_registry or LocalRegistryClient()\n",
    "        self.param_transformer = param_transformer or LocalTransformerClient()\n",
    "\n",
    "    async def create_model(\n",
    "        self, model_id: str, input_params: dict[str, Any] | None = None\n",
    "    ) -> tuple[BaseChatModel, dict[str, Any]]:\n",
    "        \"\"\"Create a model instance for the given model ID.\"\"\"\n",
    "        params = self.DEFAULT_APP_PARAMS.copy()\n",
    "        if input_params:\n",
    "            params.update(input_params)\n",
    "\n",
    "        # Get model info from the registry cache\n",
    "        model_info = await self.model_registry.get_llm_info(model_id)\n",
    "\n",
    "        # Transform parameters using the transformer client\n",
    "        # If switching to using the proxy, you would remove this line\n",
    "        # and let the proxy handle the parameter transformation instead.\n",
    "        _, model_params = await self.param_transformer.get_params(model_id, params)\n",
    "        pp(model_params)\n",
    "\n",
    "        # Create the appropriate model instance based on provider\n",
    "        model = init_chat_model(\n",
    "            model=model_params[\"model\"],\n",
    "            model_provider=model_info.provider.id,\n",
    "            kwargs=model_params,\n",
    "        )\n",
    "        # Note the use of `langchain.chat_models.init_chat_model` to create the model instance here\n",
    "        # is more concise and idiomatic but less flexible than the previous explicit mapping of providers to classes.\n",
    "        # For example, many inference services use the OpenAI API format. `init_chat_model` would\n",
    "        # not automatically map unknown providers to `ChatOpenAI`. It would raise an error.\n",
    "        # If you want to use `init_chat_model` with unknown providers, we recommend adding a mapping\n",
    "        # for the model in `langgate_config.yaml, such as `langchain_class: \"ChatOpenAI\"`.\n",
    "        # TODO: We may add this as a built-in feature in future.\n",
    "        if not model:\n",
    "            raise ValueError(f\"No model class for provider {model_info.provider.id}\")\n",
    "\n",
    "        # Create model info dict\n",
    "        model_metadata = model_info.model_dump(exclude_none=True)\n",
    "\n",
    "        return model, model_metadata"
   ]
  },
  {
   "cell_type": "code",
   "execution_count": 8,
   "metadata": {},
   "outputs": [
    {
     "name": "stdout",
     "output_type": "stream",
     "text": [
      "{'api_key': SecretStr('**********'),\n",
      " 'base_url': 'https://api.openai.com/v1',\n",
      " 'model': 'gpt-4.1',\n",
      " 'streaming': True,\n",
      " 'temperature': 0.7,\n",
      " 'verbose': True}\n"
     ]
    },
    {
     "name": "stderr",
     "output_type": "stream",
     "text": [
      "/var/folders/m_/d_sz9h1577l6qc91t18wm3yh0000gn/T/ipykernel_18518/2849443794.py:50: UserWarning: WARNING! kwargs is not default parameter.\n",
      "                kwargs was transferred to model_kwargs.\n",
      "                Please confirm that kwargs is what you intended.\n",
      "  model = init_chat_model(\n"
     ]
    },
    {
     "data": {
      "text/plain": [
       "ChatOpenAI(client=<openai.resources.chat.completions.completions.Completions object at 0x118146490>, async_client=<openai.resources.chat.completions.completions.AsyncCompletions object at 0x118146e90>, root_client=<openai.OpenAI object at 0x118146210>, root_async_client=<openai.AsyncOpenAI object at 0x118146c10>, model_name='gpt-4.1', model_kwargs={'kwargs': {'streaming': True, 'verbose': True, 'temperature': 0.7, 'api_key': SecretStr('**********'), 'base_url': 'https://api.openai.com/v1', 'model': 'gpt-4.1'}}, openai_api_key=SecretStr('**********'))"
      ]
     },
     "execution_count": 8,
     "metadata": {},
     "output_type": "execute_result"
    }
   ],
   "source": [
    "model_factory = ModelFactoryDecoupled()\n",
    "model_id = \"openai/gpt-4.1\"\n",
    "model, model_info = await model_factory.create_model(model_id, {\"temperature\": 0.7})\n",
    "model"
   ]
  }
 ],
 "metadata": {
  "kernelspec": {
   "display_name": "langgate (3.13.2)",
   "language": "python",
   "name": "python3"
  },
  "language_info": {
   "codemirror_mode": {
    "name": "ipython",
    "version": 3
   },
   "file_extension": ".py",
   "mimetype": "text/x-python",
   "name": "python",
   "nbconvert_exporter": "python",
   "pygments_lexer": "ipython3",
   "version": "3.13.2"
  }
 },
 "nbformat": 4,
 "nbformat_minor": 2
}
