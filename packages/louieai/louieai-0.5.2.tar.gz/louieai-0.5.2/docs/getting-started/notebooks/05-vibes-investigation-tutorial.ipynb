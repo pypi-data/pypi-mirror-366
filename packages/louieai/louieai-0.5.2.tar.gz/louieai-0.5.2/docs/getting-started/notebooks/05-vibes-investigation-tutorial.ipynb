{
 "cells": [
  {
   "cell_type": "markdown",
   "metadata": {
    "id": "GUoT7-G8kHX4"
   },
   "source": [
    "## Welcome to Vibes Investigating with Louie!\n",
    "\n",
    "This tutorial goes along with the Louie vibes investigation training. You can fork & use it with your same Louie credentials.\n",
    "\n",
    "Further reading:\n",
    "\n",
    "* Louie ReadtheDocs: https://louie.readthedocs.io/en/latest/\n",
    "\n",
    "* Louie GitHub: https://github.com/graphistry/louie-py\n",
    "\n",
    "* PyGraphistry ReadTheDocs: https://pygraphistry.readthedocs.io/en/latest/\n"
   ]
  },
  {
   "cell_type": "markdown",
   "metadata": {
    "id": "BfRTDW1rkRWN"
   },
   "source": [
    "## 1. Install\n",
    "\n",
    "Get package `louieai` using pip or uv. Louie requires Python 3.10+ and Pandas/Arrow\n",
    "\n",
    "It installs PyGraphistry 0.41+ for auth & graphs"
   ]
  },
  {
   "cell_type": "code",
   "execution_count": 52,
   "metadata": {
    "id": "UMxOEdMWm8sb"
   },
   "outputs": [],
   "source": [
    "!pip install -q louieai"
   ]
  },
  {
   "cell_type": "markdown",
   "metadata": {
    "id": "Ra-mQc5J2h-C"
   },
   "source": [
    "## Import"
   ]
  },
  {
   "cell_type": "code",
   "execution_count": 1,
   "metadata": {
    "colab": {
     "base_uri": "https://localhost:8080/"
    },
    "id": "L205f3Km2kZq",
    "outputId": "ccac75e1-40b5-4328-cc57-435a5b673955"
   },
   "outputs": [
    {
     "name": "stderr",
     "output_type": "stream",
     "text": [
      "/usr/local/lib/python3.11/dist-packages/cudf/utils/gpu_utils.py:75: UserWarning: Failed to dlopen libcuda.so.1\n",
      "  warnings.warn(str(e))\n"
     ]
    },
    {
     "name": "stdout",
     "output_type": "stream",
     "text": [
      "graphistry 0.41.0 louieai 0.5.1\n"
     ]
    }
   ],
   "source": [
    "import graphistry\n",
    "\n",
    "import louieai\n",
    "\n",
    "print(\"graphistry\", graphistry.__version__, \"louieai\", louieai.__version__)"
   ]
  },
  {
   "cell_type": "markdown",
   "metadata": {
    "id": "0LYQt4JqkqDN"
   },
   "source": [
    "## Configure\n",
    "\n",
    "1. Graphistry server: Holds your account, semantic layer, and adds GPU viz & remote GFQL querying\n",
    "\n",
    "2. Louie server: Datathreads & agentic vibes\n"
   ]
  },
  {
   "cell_type": "code",
   "execution_count": null,
   "metadata": {
    "colab": {
     "base_uri": "https://localhost:8080/"
    },
    "id": "yrMsAm9p0fjO",
    "outputId": "bb497580-608f-4ffb-c89d-c28c38b3c8ee"
   },
   "outputs": [],
   "source": [
    "LOUIE_SERVER_URL = \"https://den.louie.ai\"\n",
    "GRAPHISTRY_DOMAIN = \"hub.graphistry.com\"\n",
    "\n",
    "# MAKE API KEY: https://hub.graphistry.com/users/personal/key/\n",
    "g = graphistry.register(\n",
    "    api=3,\n",
    "    server=GRAPHISTRY_DOMAIN,\n",
    "    personal_key_id=FILL_ME_IN,\n",
    "    personal_key_secret=FILL_ME_IN,\n",
    "    org_name=FILL_ME_IN,\n",
    ")\n",
    "\n",
    "\n",
    "def new_thread(share_mode=\"Private\"):\n",
    "    return louieai(g, server_url=LOUIE_SERVER_URL, share_mode=share_mode)\n",
    "\n",
    "\n",
    "lui = new_thread()\n",
    "\n",
    "print(\"Connected!\")"
   ]
  },
  {
   "cell_type": "markdown",
   "metadata": {
    "id": "kjmySnCBlDxg"
   },
   "source": [
    "## Hello World\n",
    "\n",
    "Louie is an agent that uses many other LLMs and agents. You can start just as if it is ChatGPT chat."
   ]
  },
  {
   "cell_type": "code",
   "execution_count": 3,
   "metadata": {
    "colab": {
     "base_uri": "https://localhost:8080/",
     "height": 398
    },
    "id": "_671sJKdlGTZ",
    "outputId": "951d0080-250f-47ed-faec-f8b533f8bee7"
   },
   "outputs": [
    {
     "data": {
      "text/html": [
       "<div style='border: 1px solid #ddd; padding: 15px; border-radius: 5px;'><h4 style='margin-top: 0;'>🤖 LouieAI Response</h4><div style='font-size: 0.8em; color: #666; margin-bottom: 10px;'>Thread: <code>D_pkKkYkQsv_tQe0NscLl9</code> | Time: 5.4s</div><div style='margin-top: 10px;'><div id='B_ZW6suSBu'>🎶 Woof woof, I'm Louie, the data dog, chasing data through the fog. With a wag of my tail and a bark so bright, I'll fetch your insights day and night. From queries to graphs, I'll make it clear, turning data puzzles into cheer. So let's dive in, let's explore, with Louie by your side,</div></div></div>"
      ],
      "text/plain": [
       "<IPython.core.display.HTML object>"
      ]
     },
     "metadata": {},
     "output_type": "display_data"
    },
    {
     "data": {
      "text/html": [
       "<div style='border: 1px solid #ddd; padding: 10px; border-radius: 5px; margin-bottom: 10px;'>\n",
       "<h4 style='margin-top: 0;'>🤖 LouieAI Response</h4>\n",
       "<div>🎶 Woof woof, I&#x27;m Louie, the data dog, chasing data through the fog. With a wag of my tail and a bark so bright, I&#x27;ll fetch your insights day and night. From queries to graphs, I&#x27;ll make it clear, turning data puzzles into cheer. So let&#x27;s dive in, let&#x27;s explore, with Louie by your side,</div>\n",
       "<hr style='margin: 10px 0;'>\n",
       "<p style='margin: 5px 0; font-size: 0.9em;'>✅ <b>Session:</b> Active | <b>Thread ID:</b> <code>D_pkKkYkQsv_tQe0NscLl9</code> | <a href='https://den.louie.ai/?dthread=D_pkKkYkQsv_tQe0NscLl9' target='_blank'>View Thread ↗</a> | <b>Org:</b> demo-org</p>\n",
       "<p style='margin: 5px 0; font-size: 0.9em;'>📚 <b>History:</b> 1 responses\n",
       " (access with <code>lui[-1]</code>, <code>lui[-2]</code>, etc.)</p>\n",
       "<p style='margin: 5px 0; font-size: 0.9em;'>🔍 <b>Traces:</b> Disabled (use <code>lui.traces = True</code> to enable)</p>\n",
       "<p><b>Latest Response:</b></p>\n",
       "<ul style='margin: 5px 0;'>\n",
       "<li>1 text element(s) - access with <code>lui.text</code> or <code>lui.texts</code></li>\n",
       "</ul>\n",
       "<details><summary><b>Quick Help</b> (click to expand)</summary>\n",
       "<pre style='margin: 10px 0; padding: 10px; background: #f5f5f5;'>\n",
       "# Make a query\n",
       "\n",
       "lui('Show me sales data from last week')\n",
       "\n",
       "\n",
       "# Control visibility\n",
       "\n",
       "lui('query', share_mode='Private')       # Default: only you\n",
       "\n",
       "lui('query', share_mode='Organization')  # Share within org\n",
       "\n",
       "lui('query', share_mode='Public')        # Share publicly\n",
       "\n",
       "\n",
       "# Access results\n",
       "\n",
       "df = lui.df          # Latest dataframe\n",
       "\n",
       "text = lui.text      # Latest text response\n",
       "\n",
       "all_dfs = lui.dfs    # All dataframes\n",
       "\n",
       "\n",
       "# History\n",
       "\n",
       "lui[-1].df           # Previous response's dataframe\n",
       "\n",
       "\n",
       "# Traces (AI reasoning)\n",
       "\n",
       "lui.traces = True    # Enable for session\n",
       "\n",
       "lui('query', traces=True)  # Enable for one query\n",
       "</pre>\n",
       "</details>\n",
       "</div>"
      ],
      "text/plain": [
       "<LouieAI Notebook Interface | Session: Active | History: 1 responses | Traces: Disabled | Latest: 1 text>"
      ]
     },
     "execution_count": 3,
     "metadata": {},
     "output_type": "execute_result"
    }
   ],
   "source": [
    "lui(\"\"\"\n",
    "\n",
    "sing me a song\n",
    "\n",
    "\"\"\")"
   ]
  },
  {
   "cell_type": "code",
   "execution_count": 4,
   "metadata": {
    "colab": {
     "base_uri": "https://localhost:8080/",
     "height": 433
    },
    "id": "xeSGCpuhm9yV",
    "outputId": "bac7e0e2-d349-411a-f69f-67694d6a8f50"
   },
   "outputs": [
    {
     "data": {
      "text/html": [
       "<div style='border: 1px solid #ddd; padding: 15px; border-radius: 5px;'><h4 style='margin-top: 0;'>🤖 LouieAI Response</h4><div style='font-size: 0.8em; color: #666; margin-bottom: 10px;'>Thread: <code>D_pkKkYkQsv_tQe0NscLl9</code> | Time: 7.7s</div><div style='margin-top: 10px;'><div id='B_5i3B1hpl'>🎶 Oofway oofway, I'mway Ouilay, ethay ataday ogday, asingchay ataday oughthray ethay ogfay. Ithway away agway ofway ymay ailtay andway away arkbay osay ightbray, I'llway etchfay ouryay insightsway ayday andway ightnay. Omfray ueriesqay otay aphsgray, I'llway akemay itway earclay, urningtay ataday uzzlespay intoway earchay. Osay et'slay iveday inway, et'slay exploreway, ithway Ouilay ybay ouryay idesay, ou'llyay</div></div></div>"
      ],
      "text/plain": [
       "<IPython.core.display.HTML object>"
      ]
     },
     "metadata": {},
     "output_type": "display_data"
    },
    {
     "data": {
      "text/html": [
       "<div style='border: 1px solid #ddd; padding: 10px; border-radius: 5px; margin-bottom: 10px;'>\n",
       "<h4 style='margin-top: 0;'>🤖 LouieAI Response</h4>\n",
       "<div>🎶 Oofway oofway, I&#x27;mway Ouilay, ethay ataday ogday, asingchay ataday oughthray ethay ogfay. Ithway away agway ofway ymay ailtay andway away arkbay osay ightbray, I&#x27;llway etchfay ouryay insightsway ayday andway ightnay. Omfray ueriesqay otay aphsgray, I&#x27;llway akemay itway earclay, urningtay ataday uzzlespay intoway earchay. Osay et&#x27;slay iveday inway, et&#x27;slay exploreway, ithway Ouilay ybay ouryay idesay, ou&#x27;llyay</div>\n",
       "<hr style='margin: 10px 0;'>\n",
       "<p style='margin: 5px 0; font-size: 0.9em;'>✅ <b>Session:</b> Active | <b>Thread ID:</b> <code>D_pkKkYkQsv_tQe0NscLl9</code> | <a href='https://den.louie.ai/?dthread=D_pkKkYkQsv_tQe0NscLl9' target='_blank'>View Thread ↗</a> | <b>Org:</b> demo-org</p>\n",
       "<p style='margin: 5px 0; font-size: 0.9em;'>📚 <b>History:</b> 2 responses\n",
       " (access with <code>lui[-1]</code>, <code>lui[-2]</code>, etc.)</p>\n",
       "<p style='margin: 5px 0; font-size: 0.9em;'>🔍 <b>Traces:</b> Disabled (use <code>lui.traces = True</code> to enable)</p>\n",
       "<p><b>Latest Response:</b></p>\n",
       "<ul style='margin: 5px 0;'>\n",
       "<li>1 text element(s) - access with <code>lui.text</code> or <code>lui.texts</code></li>\n",
       "</ul>\n",
       "<details><summary><b>Quick Help</b> (click to expand)</summary>\n",
       "<pre style='margin: 10px 0; padding: 10px; background: #f5f5f5;'>\n",
       "# Make a query\n",
       "\n",
       "lui('Show me sales data from last week')\n",
       "\n",
       "\n",
       "# Control visibility\n",
       "\n",
       "lui('query', share_mode='Private')       # Default: only you\n",
       "\n",
       "lui('query', share_mode='Organization')  # Share within org\n",
       "\n",
       "lui('query', share_mode='Public')        # Share publicly\n",
       "\n",
       "\n",
       "# Access results\n",
       "\n",
       "df = lui.df          # Latest dataframe\n",
       "\n",
       "text = lui.text      # Latest text response\n",
       "\n",
       "all_dfs = lui.dfs    # All dataframes\n",
       "\n",
       "\n",
       "# History\n",
       "\n",
       "lui[-1].df           # Previous response's dataframe\n",
       "\n",
       "\n",
       "# Traces (AI reasoning)\n",
       "\n",
       "lui.traces = True    # Enable for session\n",
       "\n",
       "lui('query', traces=True)  # Enable for one query\n",
       "</pre>\n",
       "</details>\n",
       "</div>"
      ],
      "text/plain": [
       "<LouieAI Notebook Interface | Session: Active | History: 2 responses | Traces: Disabled | Latest: 1 text>"
      ]
     },
     "execution_count": 4,
     "metadata": {},
     "output_type": "execute_result"
    }
   ],
   "source": [
    "lui(\"\"\"\n",
    "\n",
    "sing it again, but now in pig latin!\n",
    "\n",
    "\"\"\")"
   ]
  },
  {
   "cell_type": "code",
   "execution_count": 5,
   "metadata": {
    "colab": {
     "base_uri": "https://localhost:8080/",
     "height": 903
    },
    "id": "eOHMBwk6cpnz",
    "outputId": "a8deaa5b-20d6-4ed4-e6c9-5a0f9ba5c357"
   },
   "outputs": [
    {
     "data": {
      "text/html": [
       "<div style='border: 1px solid #ddd; padding: 15px; border-radius: 5px;'><h4 style='margin-top: 0;'>🤖 LouieAI Response</h4><div style='font-size: 0.8em; color: #666; margin-bottom: 10px;'>Thread: <code>D_pkKkYkQsv_tQe0NscLl9</code> | Time: 5.3s</div><div style='margin-top: 10px;'><div id='B_v0G6gF1N'><div style='color: #0066cc; font-family: monospace; font-size: 0.9em;'>i LouieAgent::runner</div></div><div id='B_xfV1gfp2'><div style='color: #666; font-family: monospace; font-size: 0.9em;'>🐛 Input text:::\n",
       "\n",
       "back to normal, but now with traces!\n",
       "\n",
       "</div></div><div id='B_jIXD0ntX'><div style='color: #666; font-family: monospace; font-size: 0.9em;'>🐛 Reading chat history. (is_prepared: True)</div></div><div id='B_eRbIiG1P'><div style='color: #666; font-family: monospace; font-size: 0.9em;'>🐛 LouieAgent predict with tools: ['GraphAgent', 'CodeAgent', 'TableAIAgent', 'FirecrawlAgent', 'NotebookAgent', 'DatabricksAgent', 'MermaidAgent', 'PerspectiveAgent', 'KeplerAgent', 'SpannerAgent', 'SpannerPassthroughAgent', 'KustoAgent', 'KustoPassthroughAgent', 'Done', 'Chat'] has_recipes: True has_examples: True</div></div><div id='B_5b1PMcl5'>🎶 Woof woof, I'm Louie, the data dog, chasing data through the fog. With a wag of my tail and a bark so bright, I'll fetch your insights day and night. From queries to graphs, I'll make it clear, turning data puzzles into cheer. So let's dive in, let's explore, with Louie by your side, you'll never be bored! 🎶<br><br>*traces of data flow through the air, as Louie sniffs them out with flair. Each byte and bit, a trail to follow, leading to insights that are never hollow. With a keen eye and a wagging tail, Louie ensures your</div><div id='B_l5k0NcMN'><div style='color: #0066cc; font-family: monospace; font-size: 0.9em;'>i Louie output text: 🎶 Woof woof, I'm Louie, the data dog, chasing data through the fog. With a wag of my tail and a bark so bright, I'll fetch your insights day and night. From queries to graphs, I'll make it clear, turning data puzzles into cheer. So let's dive in, let's explore, with Louie by your side, you'll never be bored! 🎶\n",
       "\n",
       "*traces of data flow through the air, as Louie sniffs them out with flair. Each byte and bit, a trail to follow, leading to insights that are never hollow. With a keen eye and a wagging tail, Louie ensures your data quests never fail!*</div></div></div></div>"
      ],
      "text/plain": [
       "<IPython.core.display.HTML object>"
      ]
     },
     "metadata": {},
     "output_type": "display_data"
    },
    {
     "data": {
      "text/html": [
       "<div style='border: 1px solid #ddd; padding: 10px; border-radius: 5px; margin-bottom: 10px;'>\n",
       "<h4 style='margin-top: 0;'>🤖 LouieAI Response</h4>\n",
       "<div style='color: #0066cc; font-family: monospace; font-size: 0.9em;'>i LouieAgent::runner</div>\n",
       "<div style='color: #666; font-family: monospace; font-size: 0.9em;'>🐛 Input text:::\n",
       "\n",
       "back to normal, but now with traces!\n",
       "\n",
       "</div>\n",
       "<div style='color: #666; font-family: monospace; font-size: 0.9em;'>🐛 Reading chat history. (is_prepared: True)</div>\n",
       "<div style='color: #666; font-family: monospace; font-size: 0.9em;'>🐛 LouieAgent predict with tools: ['GraphAgent', 'CodeAgent', 'TableAIAgent', 'FirecrawlAgent', 'NotebookAgent', 'DatabricksAgent', 'MermaidAgent', 'PerspectiveAgent', 'KeplerAgent', 'SpannerAgent', 'SpannerPassthroughAgent', 'KustoAgent', 'KustoPassthroughAgent', 'Done', 'Chat'] has_recipes: True has_examples: True</div>\n",
       "<div>🎶 Woof woof, I&#x27;m Louie, the data dog, chasing data through the fog. With a wag of my tail and a bark so bright, I&#x27;ll fetch your insights day and night. From queries to graphs, I&#x27;ll make it clear, turning data puzzles into cheer. So let&#x27;s dive in, let&#x27;s explore, with Louie by your side, you&#x27;ll never be bored! 🎶</p><p>*traces of data flow through the air, as Louie sniffs them out with flair. Each byte and bit, a trail to follow, leading to insights that are never hollow. With a keen eye and a wagging tail, Louie ensures your</div>\n",
       "<div style='color: #0066cc; font-family: monospace; font-size: 0.9em;'>i Louie output text: 🎶 Woof woof, I'm Louie, the data dog, chasing data through the fog. With a wag of my tail and a bark so bright, I'll fetch your insights day and night. From queries to graphs, I'll make it clear, turning data puzzles into cheer. So let's dive in, let's explore, with Louie by your side, you'll never be bored! 🎶\n",
       "\n",
       "*traces of data flow through the air, as Louie sniffs them out with flair. Each byte and bit, a trail to follow, leading to insights that are never hollow. With a keen eye and a wagging tail, Louie ensures your data quests never fail!*</div>\n",
       "<hr style='margin: 10px 0;'>\n",
       "<p style='margin: 5px 0; font-size: 0.9em;'>✅ <b>Session:</b> Active | <b>Thread ID:</b> <code>D_pkKkYkQsv_tQe0NscLl9</code> | <a href='https://den.louie.ai/?dthread=D_pkKkYkQsv_tQe0NscLl9' target='_blank'>View Thread ↗</a> | <b>Org:</b> demo-org</p>\n",
       "<p style='margin: 5px 0; font-size: 0.9em;'>📚 <b>History:</b> 3 responses\n",
       " (access with <code>lui[-1]</code>, <code>lui[-2]</code>, etc.)</p>\n",
       "<p style='margin: 5px 0; font-size: 0.9em;'>🔍 <b>Traces:</b> Disabled (use <code>lui.traces = True</code> to enable)</p>\n",
       "<p><b>Latest Response:</b></p>\n",
       "<ul style='margin: 5px 0;'>\n",
       "<li>1 text element(s) - access with <code>lui.text</code> or <code>lui.texts</code></li>\n",
       "</ul>\n",
       "<details><summary><b>Quick Help</b> (click to expand)</summary>\n",
       "<pre style='margin: 10px 0; padding: 10px; background: #f5f5f5;'>\n",
       "# Make a query\n",
       "\n",
       "lui('Show me sales data from last week')\n",
       "\n",
       "\n",
       "# Control visibility\n",
       "\n",
       "lui('query', share_mode='Private')       # Default: only you\n",
       "\n",
       "lui('query', share_mode='Organization')  # Share within org\n",
       "\n",
       "lui('query', share_mode='Public')        # Share publicly\n",
       "\n",
       "\n",
       "# Access results\n",
       "\n",
       "df = lui.df          # Latest dataframe\n",
       "\n",
       "text = lui.text      # Latest text response\n",
       "\n",
       "all_dfs = lui.dfs    # All dataframes\n",
       "\n",
       "\n",
       "# History\n",
       "\n",
       "lui[-1].df           # Previous response's dataframe\n",
       "\n",
       "\n",
       "# Traces (AI reasoning)\n",
       "\n",
       "lui.traces = True    # Enable for session\n",
       "\n",
       "lui('query', traces=True)  # Enable for one query\n",
       "</pre>\n",
       "</details>\n",
       "</div>"
      ],
      "text/plain": [
       "<LouieAI Notebook Interface | Session: Active | History: 3 responses | Traces: Disabled | Latest: 1 text>"
      ]
     },
     "execution_count": 5,
     "metadata": {},
     "output_type": "execute_result"
    }
   ],
   "source": [
    "lui(\n",
    "    \"\"\"\n",
    "\n",
    "back to normal, but now with traces!\n",
    "\n",
    "\"\"\",\n",
    "    traces=True,\n",
    ")"
   ]
  },
  {
   "cell_type": "markdown",
   "metadata": {
    "id": "4lEQ94TinL_v"
   },
   "source": [
    "## Use `lui` as a chat cursor\n",
    "\n",
    "The `lui` object indexes into your chat (notebook) and its artifacts\n",
    "\n",
    "You can make new chats, and add to existing"
   ]
  },
  {
   "cell_type": "code",
   "execution_count": 6,
   "metadata": {
    "colab": {
     "base_uri": "https://localhost:8080/",
     "height": 36
    },
    "id": "0ubEy5ElgsN8",
    "outputId": "8887ac1b-e4fe-45aa-b612-7bbba3680629"
   },
   "outputs": [
    {
     "data": {
      "application/vnd.google.colaboratory.intrinsic+json": {
       "type": "string"
      },
      "text/plain": [
       "'D_pkKkYkQsv_tQe0NscLl9'"
      ]
     },
     "execution_count": 6,
     "metadata": {},
     "output_type": "execute_result"
    }
   ],
   "source": [
    "lui.thread_id"
   ]
  },
  {
   "cell_type": "code",
   "execution_count": 22,
   "metadata": {
    "colab": {
     "base_uri": "https://localhost:8080/",
     "height": 216
    },
    "id": "y8Ky3IUdguEu",
    "outputId": "a09581b9-0a17-4ade-b1af-9bb63b5a884f"
   },
   "outputs": [
    {
     "data": {
      "text/html": [
       "<div style='border: 1px solid #ddd; padding: 15px; border-radius: 5px;'><h4 style='margin-top: 0;'>🤖 LouieAI Response</h4><div style='font-size: 0.8em; color: #666; margin-bottom: 10px;'>Thread: <code>D_kzETo4kBuV3F2wBBXBsK</code> | Time: 4.7s</div><div style='margin-top: 10px;'><div id='B_fFhMeeMH'>🎶 I'm Louie, the data hound, in a world of code and light, With circuits and queries, I roam through the night. From Splunk to OpenCypher, I chase the data streams, Turning raw numbers into your wildest dreams. With a bark and a wag, I fetch insights so bright, Making dashboards dance in the neon light. So let's dive into data, make predictions soar, Together we'll unlock every cyber door! 🎶<br><br>Hope you enjoyed this new tune! Let me know</div></div></div>"
      ],
      "text/plain": [
       "<IPython.core.display.HTML object>"
      ]
     },
     "metadata": {},
     "output_type": "display_data"
    },
    {
     "data": {
      "application/vnd.google.colaboratory.intrinsic+json": {
       "type": "string"
      },
      "text/plain": [
       "'D_kzETo4kBuV3F2wBBXBsK'"
      ]
     },
     "execution_count": 22,
     "metadata": {},
     "output_type": "execute_result"
    }
   ],
   "source": [
    "# Save old\n",
    "lui_old = lui\n",
    "\n",
    "# Fresh thread with empty history\n",
    "lui = new_thread()\n",
    "\n",
    "lui(\"sing me a new song\")\n",
    "lui(\"sing me another song\")\n",
    "\n",
    "lui.thread_id"
   ]
  },
  {
   "cell_type": "code",
   "execution_count": 8,
   "metadata": {
    "colab": {
     "base_uri": "https://localhost:8080/",
     "height": 88
    },
    "id": "9WV3CAxDnFgB",
    "outputId": "014ea410-75da-4cec-e9aa-2e1906f10eb0"
   },
   "outputs": [
    {
     "data": {
      "application/vnd.google.colaboratory.intrinsic+json": {
       "type": "string"
      },
      "text/plain": [
       "\"🎵 I'm Louie, the data hound, in the cyberpunk city, I'm renowned. With paws on the keyboard, I dig and I delve, solving data puzzles, I truly excel. From queries to graphs, I make them align, turning raw data into something divine. So let's embark on this data quest, with me by your side,\""
      ]
     },
     "execution_count": 8,
     "metadata": {},
     "output_type": "execute_result"
    }
   ],
   "source": [
    "# Latest text element in current run\n",
    "lui.text"
   ]
  },
  {
   "cell_type": "code",
   "execution_count": 9,
   "metadata": {
    "colab": {
     "base_uri": "https://localhost:8080/",
     "height": 70
    },
    "id": "d4Hu4BsWnZTl",
    "outputId": "038841c3-c353-4db4-c808-e5cc0696a4c7"
   },
   "outputs": [
    {
     "data": {
      "application/vnd.google.colaboratory.intrinsic+json": {
       "type": "string"
      },
      "text/plain": [
       "\"🎵 Woof, woof, I'm Louie, the data dog, chasing data through the fog. With a wag of my tail and a bark so bright, I'll fetch the answers, day or night. Queries and graphs, I'll make them dance, turning data into a chance. So let's dive in, human friend, together we'll\""
      ]
     },
     "execution_count": 9,
     "metadata": {},
     "output_type": "execute_result"
    }
   ],
   "source": [
    "# Latest text elements in its previous run\n",
    "lui[-2].text"
   ]
  },
  {
   "cell_type": "code",
   "execution_count": 10,
   "metadata": {
    "colab": {
     "base_uri": "https://localhost:8080/",
     "height": 122
    },
    "id": "9GM60VPvkt3Y",
    "outputId": "214b168f-1a56-473c-f7f4-b42cacf56e53"
   },
   "outputs": [
    {
     "data": {
      "application/vnd.google.colaboratory.intrinsic+json": {
       "type": "string"
      },
      "text/plain": [
       "\"🎶 Woof woof, I'm Louie, the data dog, chasing data through the fog. With a wag of my tail and a bark so bright, I'll fetch your insights day and night. From queries to graphs, I'll make it clear, turning data puzzles into cheer. So let's dive in, let's explore, with Louie by your side, you'll never be bored! 🎶\\n\\n*traces of data flow through the air, as Louie sniffs them out with flair. Each byte and bit, a trail to follow, leading to insights that are never hollow. With a keen eye and a wagging tail, Louie ensures your\""
      ]
     },
     "execution_count": 10,
     "metadata": {},
     "output_type": "execute_result"
    }
   ],
   "source": [
    "# Latest text element in previous session\n",
    "lui_old.text"
   ]
  },
  {
   "cell_type": "markdown",
   "metadata": {
    "id": "klkXtwaxo5OU"
   },
   "source": [
    "## Agents"
   ]
  },
  {
   "cell_type": "markdown",
   "metadata": {
    "id": "A3JXOkL4o7RB"
   },
   "source": [
    "### Databricks SQL Passthrough\n",
    "\n",
    "Louie has databases connected and preindexed as a managed semantic layer. You can query it quickly by doing pushdown queries that skim LLMs, so more like tool calls.\n"
   ]
  },
  {
   "cell_type": "code",
   "execution_count": null,
   "metadata": {
    "colab": {
     "base_uri": "https://localhost:8080/",
     "height": 1000
    },
    "id": "oduG16oZpE6P",
    "outputId": "2eedd7c2-3c4c-4ba1-a6b4-26b61af9a3b6"
   },
   "outputs": [],
   "source": [
    "lui(\n",
    "    \"\"\"SELECT * FROM `client_demos`.`botsv3`.`o365_management_activity_flat_tcook`\n",
    "    LIMIT 10\"\"\",\n",
    "    agent=\"DatabricksPassthroughAgent\",\n",
    ")"
   ]
  },
  {
   "cell_type": "code",
   "execution_count": 28,
   "metadata": {
    "colab": {
     "base_uri": "https://localhost:8080/",
     "height": 383
    },
    "id": "EnvROqbNp0lx",
    "outputId": "11978bac-bcce-48db-ac39-0599a9c7a95c"
   },
   "outputs": [
    {
     "data": {
      "application/vnd.google.colaboratory.intrinsic+json": {
       "type": "dataframe"
      },
      "text/html": [
       "\n",
       "  <div id=\"df-261dd34f-f786-4257-93c5-69831dbc664a\" class=\"colab-df-container\">\n",
       "    <div>\n",
       "<style scoped>\n",
       "    .dataframe tbody tr th:only-of-type {\n",
       "        vertical-align: middle;\n",
       "    }\n",
       "\n",
       "    .dataframe tbody tr th {\n",
       "        vertical-align: top;\n",
       "    }\n",
       "\n",
       "    .dataframe thead th {\n",
       "        text-align: right;\n",
       "    }\n",
       "</style>\n",
       "<table border=\"1\" class=\"dataframe\">\n",
       "  <thead>\n",
       "    <tr style=\"text-align: right;\">\n",
       "      <th></th>\n",
       "      <th>ClientIP</th>\n",
       "      <th>CorrelationId</th>\n",
       "      <th>CreationTime</th>\n",
       "      <th>EventSource</th>\n",
       "      <th>Id</th>\n",
       "      <th>ImplicitShare</th>\n",
       "      <th>ItemType</th>\n",
       "      <th>ListId</th>\n",
       "      <th>ListItemUniqueId</th>\n",
       "      <th>ObjectId</th>\n",
       "      <th>...</th>\n",
       "      <th>SourceFileExtension</th>\n",
       "      <th>SourceFileName</th>\n",
       "      <th>SourceRelativeUrl</th>\n",
       "      <th>UserAgent</th>\n",
       "      <th>UserId</th>\n",
       "      <th>UserKey</th>\n",
       "      <th>UserType</th>\n",
       "      <th>Version</th>\n",
       "      <th>WebId</th>\n",
       "      <th>Workload</th>\n",
       "    </tr>\n",
       "  </thead>\n",
       "  <tbody>\n",
       "    <tr>\n",
       "      <th>4</th>\n",
       "      <td>104.238.59.42</td>\n",
       "      <td>0a627e9e-f0d0-6000-daf9-dc8f468313e3</td>\n",
       "      <td>2018-08-20T13:06:50</td>\n",
       "      <td>SharePoint</td>\n",
       "      <td>9b5ad97e-f03f-4648-a536-08d5f28d5cad</td>\n",
       "      <td>None</td>\n",
       "      <td>File</td>\n",
       "      <td>67091393-e290-421e-ac6a-2734e2b12a94</td>\n",
       "      <td>d2c4bb13-c97e-4707-9e9b-53dc0e2513b5</td>\n",
       "      <td>https://frothly-my.sharepoint.com/personal/pce...</td>\n",
       "      <td>...</td>\n",
       "      <td>pptx</td>\n",
       "      <td>Beer styles.pptx</td>\n",
       "      <td>Documents</td>\n",
       "      <td>Microsoft Office PowerPoint 2014</td>\n",
       "      <td>pcerf@froth.ly</td>\n",
       "      <td>i:0h.f|membership|1003bffdac730049@live.com</td>\n",
       "      <td>0</td>\n",
       "      <td>1</td>\n",
       "      <td>7acb35b6-e1ec-44ed-9099-38580e330ed0</td>\n",
       "      <td>OneDrive</td>\n",
       "    </tr>\n",
       "    <tr>\n",
       "      <th>8</th>\n",
       "      <td>199.66.91.253</td>\n",
       "      <td>08557e9e-2041-6000-daf9-d90e9f2c1023</td>\n",
       "      <td>2018-08-20T11:55:22</td>\n",
       "      <td>SharePoint</td>\n",
       "      <td>d7ee3d62-60cb-427b-b0db-08d5f26d99f1</td>\n",
       "      <td>No</td>\n",
       "      <td>File</td>\n",
       "      <td>67091393-e290-421e-ac6a-2734e2b12a94</td>\n",
       "      <td>57c5cd78-2a0f-42ee-8dab-afce305ec89e</td>\n",
       "      <td>https://frothly-my.sharepoint.com/personal/fyo...</td>\n",
       "      <td>...</td>\n",
       "      <td>tar</td>\n",
       "      <td>archive.tar</td>\n",
       "      <td>Documents</td>\n",
       "      <td>Mozilla/5.0 (Macintosh; Intel Mac OS X 10_12_6...</td>\n",
       "      <td>fyodor@froth.ly</td>\n",
       "      <td>i:0h.f|membership|1003bffda2e71ff9@live.com</td>\n",
       "      <td>0</td>\n",
       "      <td>1</td>\n",
       "      <td>7acb35b6-e1ec-44ed-9099-38580e330ed0</td>\n",
       "      <td>OneDrive</td>\n",
       "    </tr>\n",
       "    <tr>\n",
       "      <th>9</th>\n",
       "      <td>199.66.91.253</td>\n",
       "      <td>fc547e9e-f0c2-6000-1d75-39268176f5e6</td>\n",
       "      <td>2018-08-20T11:54:35</td>\n",
       "      <td>SharePoint</td>\n",
       "      <td>cf2ae00e-0efc-41e5-d0dc-08d5f26d7e46</td>\n",
       "      <td>Yes</td>\n",
       "      <td>File</td>\n",
       "      <td>76079ea8-0a58-414e-b493-8580089c8419</td>\n",
       "      <td>7ba794f0-38aa-45d8-8d2a-3c932e87e4f5</td>\n",
       "      <td>https://frothly-my.sharepoint.com/User Photos/...</td>\n",
       "      <td>...</td>\n",
       "      <td>jpg</td>\n",
       "      <td>fyodor_froth_ly_SThumb.jpg</td>\n",
       "      <td>User Photos/Profile Pictures</td>\n",
       "      <td>Mozilla/5.0 (Macintosh; Intel Mac OS X 10_12_6...</td>\n",
       "      <td>fyodor@froth.ly</td>\n",
       "      <td>i:0h.f|membership|1003bffda2e71ff9@live.com</td>\n",
       "      <td>0</td>\n",
       "      <td>1</td>\n",
       "      <td>3b605151-ac0a-46ff-9e16-14e04be8a8a1</td>\n",
       "      <td>SharePoint</td>\n",
       "    </tr>\n",
       "  </tbody>\n",
       "</table>\n",
       "<p>3 rows × 25 columns</p>\n",
       "</div>\n",
       "    <div class=\"colab-df-buttons\">\n",
       "\n",
       "  <div class=\"colab-df-container\">\n",
       "    <button class=\"colab-df-convert\" onclick=\"convertToInteractive('df-261dd34f-f786-4257-93c5-69831dbc664a')\"\n",
       "            title=\"Convert this dataframe to an interactive table.\"\n",
       "            style=\"display:none;\">\n",
       "\n",
       "  <svg xmlns=\"http://www.w3.org/2000/svg\" height=\"24px\" viewBox=\"0 -960 960 960\">\n",
       "    <path d=\"M120-120v-720h720v720H120Zm60-500h600v-160H180v160Zm220 220h160v-160H400v160Zm0 220h160v-160H400v160ZM180-400h160v-160H180v160Zm440 0h160v-160H620v160ZM180-180h160v-160H180v160Zm440 0h160v-160H620v160Z\"/>\n",
       "  </svg>\n",
       "    </button>\n",
       "\n",
       "  <style>\n",
       "    .colab-df-container {\n",
       "      display:flex;\n",
       "      gap: 12px;\n",
       "    }\n",
       "\n",
       "    .colab-df-convert {\n",
       "      background-color: #E8F0FE;\n",
       "      border: none;\n",
       "      border-radius: 50%;\n",
       "      cursor: pointer;\n",
       "      display: none;\n",
       "      fill: #1967D2;\n",
       "      height: 32px;\n",
       "      padding: 0 0 0 0;\n",
       "      width: 32px;\n",
       "    }\n",
       "\n",
       "    .colab-df-convert:hover {\n",
       "      background-color: #E2EBFA;\n",
       "      box-shadow: 0px 1px 2px rgba(60, 64, 67, 0.3), 0px 1px 3px 1px rgba(60, 64, 67, 0.15);\n",
       "      fill: #174EA6;\n",
       "    }\n",
       "\n",
       "    .colab-df-buttons div {\n",
       "      margin-bottom: 4px;\n",
       "    }\n",
       "\n",
       "    [theme=dark] .colab-df-convert {\n",
       "      background-color: #3B4455;\n",
       "      fill: #D2E3FC;\n",
       "    }\n",
       "\n",
       "    [theme=dark] .colab-df-convert:hover {\n",
       "      background-color: #434B5C;\n",
       "      box-shadow: 0px 1px 3px 1px rgba(0, 0, 0, 0.15);\n",
       "      filter: drop-shadow(0px 1px 2px rgba(0, 0, 0, 0.3));\n",
       "      fill: #FFFFFF;\n",
       "    }\n",
       "  </style>\n",
       "\n",
       "    <script>\n",
       "      const buttonEl =\n",
       "        document.querySelector('#df-261dd34f-f786-4257-93c5-69831dbc664a button.colab-df-convert');\n",
       "      buttonEl.style.display =\n",
       "        google.colab.kernel.accessAllowed ? 'block' : 'none';\n",
       "\n",
       "      async function convertToInteractive(key) {\n",
       "        const element = document.querySelector('#df-261dd34f-f786-4257-93c5-69831dbc664a');\n",
       "        const dataTable =\n",
       "          await google.colab.kernel.invokeFunction('convertToInteractive',\n",
       "                                                    [key], {});\n",
       "        if (!dataTable) return;\n",
       "\n",
       "        const docLinkHtml = 'Like what you see? Visit the ' +\n",
       "          '<a target=\"_blank\" href=https://colab.research.google.com/notebooks/data_table.ipynb>data table notebook</a>'\n",
       "          + ' to learn more about interactive tables.';\n",
       "        element.innerHTML = '';\n",
       "        dataTable['output_type'] = 'display_data';\n",
       "        await google.colab.output.renderOutput(dataTable, element);\n",
       "        const docLink = document.createElement('div');\n",
       "        docLink.innerHTML = docLinkHtml;\n",
       "        element.appendChild(docLink);\n",
       "      }\n",
       "    </script>\n",
       "  </div>\n",
       "\n",
       "\n",
       "    <div id=\"df-8b69801b-2629-4787-a7cd-ab7a69a671ee\">\n",
       "      <button class=\"colab-df-quickchart\" onclick=\"quickchart('df-8b69801b-2629-4787-a7cd-ab7a69a671ee')\"\n",
       "                title=\"Suggest charts\"\n",
       "                style=\"display:none;\">\n",
       "\n",
       "<svg xmlns=\"http://www.w3.org/2000/svg\" height=\"24px\"viewBox=\"0 0 24 24\"\n",
       "     width=\"24px\">\n",
       "    <g>\n",
       "        <path d=\"M19 3H5c-1.1 0-2 .9-2 2v14c0 1.1.9 2 2 2h14c1.1 0 2-.9 2-2V5c0-1.1-.9-2-2-2zM9 17H7v-7h2v7zm4 0h-2V7h2v10zm4 0h-2v-4h2v4z\"/>\n",
       "    </g>\n",
       "</svg>\n",
       "      </button>\n",
       "\n",
       "<style>\n",
       "  .colab-df-quickchart {\n",
       "      --bg-color: #E8F0FE;\n",
       "      --fill-color: #1967D2;\n",
       "      --hover-bg-color: #E2EBFA;\n",
       "      --hover-fill-color: #174EA6;\n",
       "      --disabled-fill-color: #AAA;\n",
       "      --disabled-bg-color: #DDD;\n",
       "  }\n",
       "\n",
       "  [theme=dark] .colab-df-quickchart {\n",
       "      --bg-color: #3B4455;\n",
       "      --fill-color: #D2E3FC;\n",
       "      --hover-bg-color: #434B5C;\n",
       "      --hover-fill-color: #FFFFFF;\n",
       "      --disabled-bg-color: #3B4455;\n",
       "      --disabled-fill-color: #666;\n",
       "  }\n",
       "\n",
       "  .colab-df-quickchart {\n",
       "    background-color: var(--bg-color);\n",
       "    border: none;\n",
       "    border-radius: 50%;\n",
       "    cursor: pointer;\n",
       "    display: none;\n",
       "    fill: var(--fill-color);\n",
       "    height: 32px;\n",
       "    padding: 0;\n",
       "    width: 32px;\n",
       "  }\n",
       "\n",
       "  .colab-df-quickchart:hover {\n",
       "    background-color: var(--hover-bg-color);\n",
       "    box-shadow: 0 1px 2px rgba(60, 64, 67, 0.3), 0 1px 3px 1px rgba(60, 64, 67, 0.15);\n",
       "    fill: var(--button-hover-fill-color);\n",
       "  }\n",
       "\n",
       "  .colab-df-quickchart-complete:disabled,\n",
       "  .colab-df-quickchart-complete:disabled:hover {\n",
       "    background-color: var(--disabled-bg-color);\n",
       "    fill: var(--disabled-fill-color);\n",
       "    box-shadow: none;\n",
       "  }\n",
       "\n",
       "  .colab-df-spinner {\n",
       "    border: 2px solid var(--fill-color);\n",
       "    border-color: transparent;\n",
       "    border-bottom-color: var(--fill-color);\n",
       "    animation:\n",
       "      spin 1s steps(1) infinite;\n",
       "  }\n",
       "\n",
       "  @keyframes spin {\n",
       "    0% {\n",
       "      border-color: transparent;\n",
       "      border-bottom-color: var(--fill-color);\n",
       "      border-left-color: var(--fill-color);\n",
       "    }\n",
       "    20% {\n",
       "      border-color: transparent;\n",
       "      border-left-color: var(--fill-color);\n",
       "      border-top-color: var(--fill-color);\n",
       "    }\n",
       "    30% {\n",
       "      border-color: transparent;\n",
       "      border-left-color: var(--fill-color);\n",
       "      border-top-color: var(--fill-color);\n",
       "      border-right-color: var(--fill-color);\n",
       "    }\n",
       "    40% {\n",
       "      border-color: transparent;\n",
       "      border-right-color: var(--fill-color);\n",
       "      border-top-color: var(--fill-color);\n",
       "    }\n",
       "    60% {\n",
       "      border-color: transparent;\n",
       "      border-right-color: var(--fill-color);\n",
       "    }\n",
       "    80% {\n",
       "      border-color: transparent;\n",
       "      border-right-color: var(--fill-color);\n",
       "      border-bottom-color: var(--fill-color);\n",
       "    }\n",
       "    90% {\n",
       "      border-color: transparent;\n",
       "      border-bottom-color: var(--fill-color);\n",
       "    }\n",
       "  }\n",
       "</style>\n",
       "\n",
       "      <script>\n",
       "        async function quickchart(key) {\n",
       "          const quickchartButtonEl =\n",
       "            document.querySelector('#' + key + ' button');\n",
       "          quickchartButtonEl.disabled = true;  // To prevent multiple clicks.\n",
       "          quickchartButtonEl.classList.add('colab-df-spinner');\n",
       "          try {\n",
       "            const charts = await google.colab.kernel.invokeFunction(\n",
       "                'suggestCharts', [key], {});\n",
       "          } catch (error) {\n",
       "            console.error('Error during call to suggestCharts:', error);\n",
       "          }\n",
       "          quickchartButtonEl.classList.remove('colab-df-spinner');\n",
       "          quickchartButtonEl.classList.add('colab-df-quickchart-complete');\n",
       "        }\n",
       "        (() => {\n",
       "          let quickchartButtonEl =\n",
       "            document.querySelector('#df-8b69801b-2629-4787-a7cd-ab7a69a671ee button');\n",
       "          quickchartButtonEl.style.display =\n",
       "            google.colab.kernel.accessAllowed ? 'block' : 'none';\n",
       "        })();\n",
       "      </script>\n",
       "    </div>\n",
       "\n",
       "    </div>\n",
       "  </div>\n"
      ],
      "text/plain": [
       "        ClientIP                         CorrelationId         CreationTime  \\\n",
       "4  104.238.59.42  0a627e9e-f0d0-6000-daf9-dc8f468313e3  2018-08-20T13:06:50   \n",
       "8  199.66.91.253  08557e9e-2041-6000-daf9-d90e9f2c1023  2018-08-20T11:55:22   \n",
       "9  199.66.91.253  fc547e9e-f0c2-6000-1d75-39268176f5e6  2018-08-20T11:54:35   \n",
       "\n",
       "  EventSource                                    Id ImplicitShare ItemType  \\\n",
       "4  SharePoint  9b5ad97e-f03f-4648-a536-08d5f28d5cad          None     File   \n",
       "8  SharePoint  d7ee3d62-60cb-427b-b0db-08d5f26d99f1            No     File   \n",
       "9  SharePoint  cf2ae00e-0efc-41e5-d0dc-08d5f26d7e46           Yes     File   \n",
       "\n",
       "                                 ListId                      ListItemUniqueId  \\\n",
       "4  67091393-e290-421e-ac6a-2734e2b12a94  d2c4bb13-c97e-4707-9e9b-53dc0e2513b5   \n",
       "8  67091393-e290-421e-ac6a-2734e2b12a94  57c5cd78-2a0f-42ee-8dab-afce305ec89e   \n",
       "9  76079ea8-0a58-414e-b493-8580089c8419  7ba794f0-38aa-45d8-8d2a-3c932e87e4f5   \n",
       "\n",
       "                                            ObjectId  ... SourceFileExtension  \\\n",
       "4  https://frothly-my.sharepoint.com/personal/pce...  ...                pptx   \n",
       "8  https://frothly-my.sharepoint.com/personal/fyo...  ...                 tar   \n",
       "9  https://frothly-my.sharepoint.com/User Photos/...  ...                 jpg   \n",
       "\n",
       "               SourceFileName             SourceRelativeUrl  \\\n",
       "4            Beer styles.pptx                     Documents   \n",
       "8                 archive.tar                     Documents   \n",
       "9  fyodor_froth_ly_SThumb.jpg  User Photos/Profile Pictures   \n",
       "\n",
       "                                           UserAgent           UserId  \\\n",
       "4                   Microsoft Office PowerPoint 2014   pcerf@froth.ly   \n",
       "8  Mozilla/5.0 (Macintosh; Intel Mac OS X 10_12_6...  fyodor@froth.ly   \n",
       "9  Mozilla/5.0 (Macintosh; Intel Mac OS X 10_12_6...  fyodor@froth.ly   \n",
       "\n",
       "                                       UserKey UserType Version  \\\n",
       "4  i:0h.f|membership|1003bffdac730049@live.com        0       1   \n",
       "8  i:0h.f|membership|1003bffda2e71ff9@live.com        0       1   \n",
       "9  i:0h.f|membership|1003bffda2e71ff9@live.com        0       1   \n",
       "\n",
       "                                  WebId    Workload  \n",
       "4  7acb35b6-e1ec-44ed-9099-38580e330ed0    OneDrive  \n",
       "8  7acb35b6-e1ec-44ed-9099-38580e330ed0    OneDrive  \n",
       "9  3b605151-ac0a-46ff-9e16-14e04be8a8a1  SharePoint  \n",
       "\n",
       "[3 rows x 25 columns]"
      ]
     },
     "execution_count": 28,
     "metadata": {},
     "output_type": "execute_result"
    }
   ],
   "source": [
    "## Quick reference of latest dataframe\n",
    "lui.df.sample(3)"
   ]
  },
  {
   "cell_type": "code",
   "execution_count": 29,
   "metadata": {
    "colab": {
     "base_uri": "https://localhost:8080/",
     "height": 933
    },
    "id": "f9QKJM2LSTII",
    "outputId": "5a2fdb4b-1dd1-4f51-b090-02094307a9f2"
   },
   "outputs": [
    {
     "data": {
      "application/vnd.google.colaboratory.intrinsic+json": {
       "type": "dataframe"
      },
      "text/html": [
       "\n",
       "  <div id=\"df-dcf758b5-0f20-4946-a188-0d2fe5545616\" class=\"colab-df-container\">\n",
       "    <div>\n",
       "<style scoped>\n",
       "    .dataframe tbody tr th:only-of-type {\n",
       "        vertical-align: middle;\n",
       "    }\n",
       "\n",
       "    .dataframe tbody tr th {\n",
       "        vertical-align: top;\n",
       "    }\n",
       "\n",
       "    .dataframe thead th {\n",
       "        text-align: right;\n",
       "    }\n",
       "</style>\n",
       "<table border=\"1\" class=\"dataframe\">\n",
       "  <thead>\n",
       "    <tr style=\"text-align: right;\">\n",
       "      <th></th>\n",
       "      <th>ClientIP</th>\n",
       "      <th>CorrelationId</th>\n",
       "      <th>CreationTime</th>\n",
       "      <th>EventSource</th>\n",
       "      <th>Id</th>\n",
       "      <th>ImplicitShare</th>\n",
       "      <th>ItemType</th>\n",
       "      <th>ListId</th>\n",
       "      <th>ListItemUniqueId</th>\n",
       "      <th>ObjectId</th>\n",
       "      <th>...</th>\n",
       "      <th>SourceFileExtension</th>\n",
       "      <th>SourceFileName</th>\n",
       "      <th>SourceRelativeUrl</th>\n",
       "      <th>UserAgent</th>\n",
       "      <th>UserId</th>\n",
       "      <th>UserKey</th>\n",
       "      <th>UserType</th>\n",
       "      <th>Version</th>\n",
       "      <th>WebId</th>\n",
       "      <th>Workload</th>\n",
       "    </tr>\n",
       "  </thead>\n",
       "  <tbody>\n",
       "    <tr>\n",
       "      <th>0</th>\n",
       "      <td>107.77.213.173</td>\n",
       "      <td>9e627e9e-d0dd-6000-daf9-da44fcd45d4e</td>\n",
       "      <td>2018-08-20T13:16:56</td>\n",
       "      <td>SharePoint</td>\n",
       "      <td>8a1fd9ad-95d3-4bea-a806-08d5f28ec619</td>\n",
       "      <td>No</td>\n",
       "      <td>File</td>\n",
       "      <td>67091393-e290-421e-ac6a-2734e2b12a94</td>\n",
       "      <td>37ab8c26-f775-4a03-97b3-074c81a00f33</td>\n",
       "      <td>https://frothly-my.sharepoint.com/personal/fyo...</td>\n",
       "      <td>...</td>\n",
       "      <td>pdf</td>\n",
       "      <td>beverages-02-00034-v2.pdf</td>\n",
       "      <td>Documents</td>\n",
       "      <td>OneDriveMpc/1.0</td>\n",
       "      <td>fyodor@froth.ly</td>\n",
       "      <td>i:0h.f|membership|1003bffda2e71ff9@live.com</td>\n",
       "      <td>0</td>\n",
       "      <td>1</td>\n",
       "      <td>7acb35b6-e1ec-44ed-9099-38580e330ed0</td>\n",
       "      <td>OneDrive</td>\n",
       "    </tr>\n",
       "    <tr>\n",
       "      <th>1</th>\n",
       "      <td>107.77.213.173</td>\n",
       "      <td>9e627e9e-60d3-6000-32f0-2235e1b3a20b</td>\n",
       "      <td>2018-08-20T13:16:56</td>\n",
       "      <td>SharePoint</td>\n",
       "      <td>7d1dd9e0-63b3-4277-7a03-08d5f28ec5e3</td>\n",
       "      <td>No</td>\n",
       "      <td>File</td>\n",
       "      <td>67091393-e290-421e-ac6a-2734e2b12a94</td>\n",
       "      <td>bb017930-2bf5-4953-b38a-716ba3217703</td>\n",
       "      <td>https://frothly-my.sharepoint.com/personal/fyo...</td>\n",
       "      <td>...</td>\n",
       "      <td>pdf</td>\n",
       "      <td>craftbeerdotcom-beer-styles.pdf</td>\n",
       "      <td>Documents</td>\n",
       "      <td>OneDriveMpc/1.0</td>\n",
       "      <td>fyodor@froth.ly</td>\n",
       "      <td>i:0h.f|membership|1003bffda2e71ff9@live.com</td>\n",
       "      <td>0</td>\n",
       "      <td>1</td>\n",
       "      <td>7acb35b6-e1ec-44ed-9099-38580e330ed0</td>\n",
       "      <td>OneDrive</td>\n",
       "    </tr>\n",
       "    <tr>\n",
       "      <th>2</th>\n",
       "      <td>107.77.213.173</td>\n",
       "      <td>9e627e9e-a0db-6000-daf9-da5a21ed5a92</td>\n",
       "      <td>2018-08-20T13:16:56</td>\n",
       "      <td>SharePoint</td>\n",
       "      <td>f5ad6c89-25b3-420c-f889-08d5f28ec656</td>\n",
       "      <td>No</td>\n",
       "      <td>File</td>\n",
       "      <td>67091393-e290-421e-ac6a-2734e2b12a94</td>\n",
       "      <td>456e3291-27ad-455e-9cb7-a01722ffa0fa</td>\n",
       "      <td>https://frothly-my.sharepoint.com/personal/fyo...</td>\n",
       "      <td>...</td>\n",
       "      <td>pdf</td>\n",
       "      <td>fundamental of beer and hop chemistry.pdf</td>\n",
       "      <td>Documents</td>\n",
       "      <td>OneDriveMpc/1.0</td>\n",
       "      <td>fyodor@froth.ly</td>\n",
       "      <td>i:0h.f|membership|1003bffda2e71ff9@live.com</td>\n",
       "      <td>0</td>\n",
       "      <td>1</td>\n",
       "      <td>7acb35b6-e1ec-44ed-9099-38580e330ed0</td>\n",
       "      <td>OneDrive</td>\n",
       "    </tr>\n",
       "    <tr>\n",
       "      <th>3</th>\n",
       "      <td>40.97.148.181</td>\n",
       "      <td>fa2fd17c-daf8-4062-8f87-d411eb537314</td>\n",
       "      <td>2018-08-20T13:16:54</td>\n",
       "      <td>SharePoint</td>\n",
       "      <td>0ad166f0-5312-4e35-e017-08d5f28ec4fb</td>\n",
       "      <td>None</td>\n",
       "      <td>Web</td>\n",
       "      <td>None</td>\n",
       "      <td>None</td>\n",
       "      <td>fa2fd17c-daf8-4062-8f87-d411eb537314</td>\n",
       "      <td>...</td>\n",
       "      <td>None</td>\n",
       "      <td>None</td>\n",
       "      <td>None</td>\n",
       "      <td>Substrate Search 1.0</td>\n",
       "      <td>fyodor@froth.ly</td>\n",
       "      <td>i:0h.f|membership|1003bffda2e71ff9@live.com</td>\n",
       "      <td>0</td>\n",
       "      <td>1</td>\n",
       "      <td>None</td>\n",
       "      <td>SharePoint</td>\n",
       "    </tr>\n",
       "    <tr>\n",
       "      <th>4</th>\n",
       "      <td>104.238.59.42</td>\n",
       "      <td>0a627e9e-f0d0-6000-daf9-dc8f468313e3</td>\n",
       "      <td>2018-08-20T13:06:50</td>\n",
       "      <td>SharePoint</td>\n",
       "      <td>9b5ad97e-f03f-4648-a536-08d5f28d5cad</td>\n",
       "      <td>None</td>\n",
       "      <td>File</td>\n",
       "      <td>67091393-e290-421e-ac6a-2734e2b12a94</td>\n",
       "      <td>d2c4bb13-c97e-4707-9e9b-53dc0e2513b5</td>\n",
       "      <td>https://frothly-my.sharepoint.com/personal/pce...</td>\n",
       "      <td>...</td>\n",
       "      <td>pptx</td>\n",
       "      <td>Beer styles.pptx</td>\n",
       "      <td>Documents</td>\n",
       "      <td>Microsoft Office PowerPoint 2014</td>\n",
       "      <td>pcerf@froth.ly</td>\n",
       "      <td>i:0h.f|membership|1003bffdac730049@live.com</td>\n",
       "      <td>0</td>\n",
       "      <td>1</td>\n",
       "      <td>7acb35b6-e1ec-44ed-9099-38580e330ed0</td>\n",
       "      <td>OneDrive</td>\n",
       "    </tr>\n",
       "    <tr>\n",
       "      <th>5</th>\n",
       "      <td>65.52.243.21</td>\n",
       "      <td>fb617e9e-c0c7-6000-32f0-2e462ff7bbde</td>\n",
       "      <td>2018-08-20T13:05:48</td>\n",
       "      <td>SharePoint</td>\n",
       "      <td>4b143e6d-91b0-4b07-7253-08d5f28d37c3</td>\n",
       "      <td>None</td>\n",
       "      <td>List</td>\n",
       "      <td>67091393-e290-421e-ac6a-2734e2b12a94</td>\n",
       "      <td>None</td>\n",
       "      <td>https://frothly-my.sharepoint.com/personal/pce...</td>\n",
       "      <td>...</td>\n",
       "      <td>None</td>\n",
       "      <td>None</td>\n",
       "      <td>None</td>\n",
       "      <td>ODMTADocCache/1.0</td>\n",
       "      <td>app@sharepoint</td>\n",
       "      <td>i:0i.t|00000003-0000-0ff1-ce00-000000000000|ap...</td>\n",
       "      <td>0</td>\n",
       "      <td>1</td>\n",
       "      <td>7acb35b6-e1ec-44ed-9099-38580e330ed0</td>\n",
       "      <td>OneDrive</td>\n",
       "    </tr>\n",
       "    <tr>\n",
       "      <th>6</th>\n",
       "      <td>104.238.59.42</td>\n",
       "      <td>f9617e9e-f0de-6000-32f0-299be8e0a683</td>\n",
       "      <td>2018-08-20T13:05:40</td>\n",
       "      <td>SharePoint</td>\n",
       "      <td>a1cac3e4-3102-4e0c-d258-08d5f28d3331</td>\n",
       "      <td>No</td>\n",
       "      <td>File</td>\n",
       "      <td>67091393-e290-421e-ac6a-2734e2b12a94</td>\n",
       "      <td>d2c4bb13-c97e-4707-9e9b-53dc0e2513b5</td>\n",
       "      <td>https://frothly-my.sharepoint.com/personal/pce...</td>\n",
       "      <td>...</td>\n",
       "      <td>pptx</td>\n",
       "      <td>Beer styles.pptx</td>\n",
       "      <td>Documents</td>\n",
       "      <td>Microsoft Office PowerPoint 2014</td>\n",
       "      <td>pcerf@froth.ly</td>\n",
       "      <td>i:0h.f|membership|1003bffdac730049@live.com</td>\n",
       "      <td>0</td>\n",
       "      <td>1</td>\n",
       "      <td>7acb35b6-e1ec-44ed-9099-38580e330ed0</td>\n",
       "      <td>OneDrive</td>\n",
       "    </tr>\n",
       "    <tr>\n",
       "      <th>7</th>\n",
       "      <td>104.238.59.42</td>\n",
       "      <td>f8617e9e-a0d4-6000-3667-381044fbe5d3</td>\n",
       "      <td>2018-08-20T13:05:36</td>\n",
       "      <td>SharePoint</td>\n",
       "      <td>7d6f73bd-f3c3-4c95-7b24-08d5f28d30de</td>\n",
       "      <td>None</td>\n",
       "      <td>File</td>\n",
       "      <td>67091393-e290-421e-ac6a-2734e2b12a94</td>\n",
       "      <td>d2c4bb13-c97e-4707-9e9b-53dc0e2513b5</td>\n",
       "      <td>https://frothly-my.sharepoint.com/personal/pce...</td>\n",
       "      <td>...</td>\n",
       "      <td>pptx</td>\n",
       "      <td>Beer styles.pptx</td>\n",
       "      <td>Documents</td>\n",
       "      <td>Microsoft Office PowerPoint 2014</td>\n",
       "      <td>pcerf@froth.ly</td>\n",
       "      <td>i:0h.f|membership|1003bffdac730049@live.com</td>\n",
       "      <td>0</td>\n",
       "      <td>1</td>\n",
       "      <td>7acb35b6-e1ec-44ed-9099-38580e330ed0</td>\n",
       "      <td>OneDrive</td>\n",
       "    </tr>\n",
       "    <tr>\n",
       "      <th>8</th>\n",
       "      <td>199.66.91.253</td>\n",
       "      <td>08557e9e-2041-6000-daf9-d90e9f2c1023</td>\n",
       "      <td>2018-08-20T11:55:22</td>\n",
       "      <td>SharePoint</td>\n",
       "      <td>d7ee3d62-60cb-427b-b0db-08d5f26d99f1</td>\n",
       "      <td>No</td>\n",
       "      <td>File</td>\n",
       "      <td>67091393-e290-421e-ac6a-2734e2b12a94</td>\n",
       "      <td>57c5cd78-2a0f-42ee-8dab-afce305ec89e</td>\n",
       "      <td>https://frothly-my.sharepoint.com/personal/fyo...</td>\n",
       "      <td>...</td>\n",
       "      <td>tar</td>\n",
       "      <td>archive.tar</td>\n",
       "      <td>Documents</td>\n",
       "      <td>Mozilla/5.0 (Macintosh; Intel Mac OS X 10_12_6...</td>\n",
       "      <td>fyodor@froth.ly</td>\n",
       "      <td>i:0h.f|membership|1003bffda2e71ff9@live.com</td>\n",
       "      <td>0</td>\n",
       "      <td>1</td>\n",
       "      <td>7acb35b6-e1ec-44ed-9099-38580e330ed0</td>\n",
       "      <td>OneDrive</td>\n",
       "    </tr>\n",
       "    <tr>\n",
       "      <th>9</th>\n",
       "      <td>199.66.91.253</td>\n",
       "      <td>fc547e9e-f0c2-6000-1d75-39268176f5e6</td>\n",
       "      <td>2018-08-20T11:54:35</td>\n",
       "      <td>SharePoint</td>\n",
       "      <td>cf2ae00e-0efc-41e5-d0dc-08d5f26d7e46</td>\n",
       "      <td>Yes</td>\n",
       "      <td>File</td>\n",
       "      <td>76079ea8-0a58-414e-b493-8580089c8419</td>\n",
       "      <td>7ba794f0-38aa-45d8-8d2a-3c932e87e4f5</td>\n",
       "      <td>https://frothly-my.sharepoint.com/User Photos/...</td>\n",
       "      <td>...</td>\n",
       "      <td>jpg</td>\n",
       "      <td>fyodor_froth_ly_SThumb.jpg</td>\n",
       "      <td>User Photos/Profile Pictures</td>\n",
       "      <td>Mozilla/5.0 (Macintosh; Intel Mac OS X 10_12_6...</td>\n",
       "      <td>fyodor@froth.ly</td>\n",
       "      <td>i:0h.f|membership|1003bffda2e71ff9@live.com</td>\n",
       "      <td>0</td>\n",
       "      <td>1</td>\n",
       "      <td>3b605151-ac0a-46ff-9e16-14e04be8a8a1</td>\n",
       "      <td>SharePoint</td>\n",
       "    </tr>\n",
       "  </tbody>\n",
       "</table>\n",
       "<p>10 rows × 25 columns</p>\n",
       "</div>\n",
       "    <div class=\"colab-df-buttons\">\n",
       "\n",
       "  <div class=\"colab-df-container\">\n",
       "    <button class=\"colab-df-convert\" onclick=\"convertToInteractive('df-dcf758b5-0f20-4946-a188-0d2fe5545616')\"\n",
       "            title=\"Convert this dataframe to an interactive table.\"\n",
       "            style=\"display:none;\">\n",
       "\n",
       "  <svg xmlns=\"http://www.w3.org/2000/svg\" height=\"24px\" viewBox=\"0 -960 960 960\">\n",
       "    <path d=\"M120-120v-720h720v720H120Zm60-500h600v-160H180v160Zm220 220h160v-160H400v160Zm0 220h160v-160H400v160ZM180-400h160v-160H180v160Zm440 0h160v-160H620v160ZM180-180h160v-160H180v160Zm440 0h160v-160H620v160Z\"/>\n",
       "  </svg>\n",
       "    </button>\n",
       "\n",
       "  <style>\n",
       "    .colab-df-container {\n",
       "      display:flex;\n",
       "      gap: 12px;\n",
       "    }\n",
       "\n",
       "    .colab-df-convert {\n",
       "      background-color: #E8F0FE;\n",
       "      border: none;\n",
       "      border-radius: 50%;\n",
       "      cursor: pointer;\n",
       "      display: none;\n",
       "      fill: #1967D2;\n",
       "      height: 32px;\n",
       "      padding: 0 0 0 0;\n",
       "      width: 32px;\n",
       "    }\n",
       "\n",
       "    .colab-df-convert:hover {\n",
       "      background-color: #E2EBFA;\n",
       "      box-shadow: 0px 1px 2px rgba(60, 64, 67, 0.3), 0px 1px 3px 1px rgba(60, 64, 67, 0.15);\n",
       "      fill: #174EA6;\n",
       "    }\n",
       "\n",
       "    .colab-df-buttons div {\n",
       "      margin-bottom: 4px;\n",
       "    }\n",
       "\n",
       "    [theme=dark] .colab-df-convert {\n",
       "      background-color: #3B4455;\n",
       "      fill: #D2E3FC;\n",
       "    }\n",
       "\n",
       "    [theme=dark] .colab-df-convert:hover {\n",
       "      background-color: #434B5C;\n",
       "      box-shadow: 0px 1px 3px 1px rgba(0, 0, 0, 0.15);\n",
       "      filter: drop-shadow(0px 1px 2px rgba(0, 0, 0, 0.3));\n",
       "      fill: #FFFFFF;\n",
       "    }\n",
       "  </style>\n",
       "\n",
       "    <script>\n",
       "      const buttonEl =\n",
       "        document.querySelector('#df-dcf758b5-0f20-4946-a188-0d2fe5545616 button.colab-df-convert');\n",
       "      buttonEl.style.display =\n",
       "        google.colab.kernel.accessAllowed ? 'block' : 'none';\n",
       "\n",
       "      async function convertToInteractive(key) {\n",
       "        const element = document.querySelector('#df-dcf758b5-0f20-4946-a188-0d2fe5545616');\n",
       "        const dataTable =\n",
       "          await google.colab.kernel.invokeFunction('convertToInteractive',\n",
       "                                                    [key], {});\n",
       "        if (!dataTable) return;\n",
       "\n",
       "        const docLinkHtml = 'Like what you see? Visit the ' +\n",
       "          '<a target=\"_blank\" href=https://colab.research.google.com/notebooks/data_table.ipynb>data table notebook</a>'\n",
       "          + ' to learn more about interactive tables.';\n",
       "        element.innerHTML = '';\n",
       "        dataTable['output_type'] = 'display_data';\n",
       "        await google.colab.output.renderOutput(dataTable, element);\n",
       "        const docLink = document.createElement('div');\n",
       "        docLink.innerHTML = docLinkHtml;\n",
       "        element.appendChild(docLink);\n",
       "      }\n",
       "    </script>\n",
       "  </div>\n",
       "\n",
       "\n",
       "    <div id=\"df-6e8633a3-c08f-4214-9858-ab8ed1e861af\">\n",
       "      <button class=\"colab-df-quickchart\" onclick=\"quickchart('df-6e8633a3-c08f-4214-9858-ab8ed1e861af')\"\n",
       "                title=\"Suggest charts\"\n",
       "                style=\"display:none;\">\n",
       "\n",
       "<svg xmlns=\"http://www.w3.org/2000/svg\" height=\"24px\"viewBox=\"0 0 24 24\"\n",
       "     width=\"24px\">\n",
       "    <g>\n",
       "        <path d=\"M19 3H5c-1.1 0-2 .9-2 2v14c0 1.1.9 2 2 2h14c1.1 0 2-.9 2-2V5c0-1.1-.9-2-2-2zM9 17H7v-7h2v7zm4 0h-2V7h2v10zm4 0h-2v-4h2v4z\"/>\n",
       "    </g>\n",
       "</svg>\n",
       "      </button>\n",
       "\n",
       "<style>\n",
       "  .colab-df-quickchart {\n",
       "      --bg-color: #E8F0FE;\n",
       "      --fill-color: #1967D2;\n",
       "      --hover-bg-color: #E2EBFA;\n",
       "      --hover-fill-color: #174EA6;\n",
       "      --disabled-fill-color: #AAA;\n",
       "      --disabled-bg-color: #DDD;\n",
       "  }\n",
       "\n",
       "  [theme=dark] .colab-df-quickchart {\n",
       "      --bg-color: #3B4455;\n",
       "      --fill-color: #D2E3FC;\n",
       "      --hover-bg-color: #434B5C;\n",
       "      --hover-fill-color: #FFFFFF;\n",
       "      --disabled-bg-color: #3B4455;\n",
       "      --disabled-fill-color: #666;\n",
       "  }\n",
       "\n",
       "  .colab-df-quickchart {\n",
       "    background-color: var(--bg-color);\n",
       "    border: none;\n",
       "    border-radius: 50%;\n",
       "    cursor: pointer;\n",
       "    display: none;\n",
       "    fill: var(--fill-color);\n",
       "    height: 32px;\n",
       "    padding: 0;\n",
       "    width: 32px;\n",
       "  }\n",
       "\n",
       "  .colab-df-quickchart:hover {\n",
       "    background-color: var(--hover-bg-color);\n",
       "    box-shadow: 0 1px 2px rgba(60, 64, 67, 0.3), 0 1px 3px 1px rgba(60, 64, 67, 0.15);\n",
       "    fill: var(--button-hover-fill-color);\n",
       "  }\n",
       "\n",
       "  .colab-df-quickchart-complete:disabled,\n",
       "  .colab-df-quickchart-complete:disabled:hover {\n",
       "    background-color: var(--disabled-bg-color);\n",
       "    fill: var(--disabled-fill-color);\n",
       "    box-shadow: none;\n",
       "  }\n",
       "\n",
       "  .colab-df-spinner {\n",
       "    border: 2px solid var(--fill-color);\n",
       "    border-color: transparent;\n",
       "    border-bottom-color: var(--fill-color);\n",
       "    animation:\n",
       "      spin 1s steps(1) infinite;\n",
       "  }\n",
       "\n",
       "  @keyframes spin {\n",
       "    0% {\n",
       "      border-color: transparent;\n",
       "      border-bottom-color: var(--fill-color);\n",
       "      border-left-color: var(--fill-color);\n",
       "    }\n",
       "    20% {\n",
       "      border-color: transparent;\n",
       "      border-left-color: var(--fill-color);\n",
       "      border-top-color: var(--fill-color);\n",
       "    }\n",
       "    30% {\n",
       "      border-color: transparent;\n",
       "      border-left-color: var(--fill-color);\n",
       "      border-top-color: var(--fill-color);\n",
       "      border-right-color: var(--fill-color);\n",
       "    }\n",
       "    40% {\n",
       "      border-color: transparent;\n",
       "      border-right-color: var(--fill-color);\n",
       "      border-top-color: var(--fill-color);\n",
       "    }\n",
       "    60% {\n",
       "      border-color: transparent;\n",
       "      border-right-color: var(--fill-color);\n",
       "    }\n",
       "    80% {\n",
       "      border-color: transparent;\n",
       "      border-right-color: var(--fill-color);\n",
       "      border-bottom-color: var(--fill-color);\n",
       "    }\n",
       "    90% {\n",
       "      border-color: transparent;\n",
       "      border-bottom-color: var(--fill-color);\n",
       "    }\n",
       "  }\n",
       "</style>\n",
       "\n",
       "      <script>\n",
       "        async function quickchart(key) {\n",
       "          const quickchartButtonEl =\n",
       "            document.querySelector('#' + key + ' button');\n",
       "          quickchartButtonEl.disabled = true;  // To prevent multiple clicks.\n",
       "          quickchartButtonEl.classList.add('colab-df-spinner');\n",
       "          try {\n",
       "            const charts = await google.colab.kernel.invokeFunction(\n",
       "                'suggestCharts', [key], {});\n",
       "          } catch (error) {\n",
       "            console.error('Error during call to suggestCharts:', error);\n",
       "          }\n",
       "          quickchartButtonEl.classList.remove('colab-df-spinner');\n",
       "          quickchartButtonEl.classList.add('colab-df-quickchart-complete');\n",
       "        }\n",
       "        (() => {\n",
       "          let quickchartButtonEl =\n",
       "            document.querySelector('#df-6e8633a3-c08f-4214-9858-ab8ed1e861af button');\n",
       "          quickchartButtonEl.style.display =\n",
       "            google.colab.kernel.accessAllowed ? 'block' : 'none';\n",
       "        })();\n",
       "      </script>\n",
       "    </div>\n",
       "\n",
       "    </div>\n",
       "  </div>\n"
      ],
      "text/plain": [
       "         ClientIP                         CorrelationId         CreationTime  \\\n",
       "0  107.77.213.173  9e627e9e-d0dd-6000-daf9-da44fcd45d4e  2018-08-20T13:16:56   \n",
       "1  107.77.213.173  9e627e9e-60d3-6000-32f0-2235e1b3a20b  2018-08-20T13:16:56   \n",
       "2  107.77.213.173  9e627e9e-a0db-6000-daf9-da5a21ed5a92  2018-08-20T13:16:56   \n",
       "3   40.97.148.181  fa2fd17c-daf8-4062-8f87-d411eb537314  2018-08-20T13:16:54   \n",
       "4   104.238.59.42  0a627e9e-f0d0-6000-daf9-dc8f468313e3  2018-08-20T13:06:50   \n",
       "5    65.52.243.21  fb617e9e-c0c7-6000-32f0-2e462ff7bbde  2018-08-20T13:05:48   \n",
       "6   104.238.59.42  f9617e9e-f0de-6000-32f0-299be8e0a683  2018-08-20T13:05:40   \n",
       "7   104.238.59.42  f8617e9e-a0d4-6000-3667-381044fbe5d3  2018-08-20T13:05:36   \n",
       "8   199.66.91.253  08557e9e-2041-6000-daf9-d90e9f2c1023  2018-08-20T11:55:22   \n",
       "9   199.66.91.253  fc547e9e-f0c2-6000-1d75-39268176f5e6  2018-08-20T11:54:35   \n",
       "\n",
       "  EventSource                                    Id ImplicitShare ItemType  \\\n",
       "0  SharePoint  8a1fd9ad-95d3-4bea-a806-08d5f28ec619            No     File   \n",
       "1  SharePoint  7d1dd9e0-63b3-4277-7a03-08d5f28ec5e3            No     File   \n",
       "2  SharePoint  f5ad6c89-25b3-420c-f889-08d5f28ec656            No     File   \n",
       "3  SharePoint  0ad166f0-5312-4e35-e017-08d5f28ec4fb          None      Web   \n",
       "4  SharePoint  9b5ad97e-f03f-4648-a536-08d5f28d5cad          None     File   \n",
       "5  SharePoint  4b143e6d-91b0-4b07-7253-08d5f28d37c3          None     List   \n",
       "6  SharePoint  a1cac3e4-3102-4e0c-d258-08d5f28d3331            No     File   \n",
       "7  SharePoint  7d6f73bd-f3c3-4c95-7b24-08d5f28d30de          None     File   \n",
       "8  SharePoint  d7ee3d62-60cb-427b-b0db-08d5f26d99f1            No     File   \n",
       "9  SharePoint  cf2ae00e-0efc-41e5-d0dc-08d5f26d7e46           Yes     File   \n",
       "\n",
       "                                 ListId                      ListItemUniqueId  \\\n",
       "0  67091393-e290-421e-ac6a-2734e2b12a94  37ab8c26-f775-4a03-97b3-074c81a00f33   \n",
       "1  67091393-e290-421e-ac6a-2734e2b12a94  bb017930-2bf5-4953-b38a-716ba3217703   \n",
       "2  67091393-e290-421e-ac6a-2734e2b12a94  456e3291-27ad-455e-9cb7-a01722ffa0fa   \n",
       "3                                  None                                  None   \n",
       "4  67091393-e290-421e-ac6a-2734e2b12a94  d2c4bb13-c97e-4707-9e9b-53dc0e2513b5   \n",
       "5  67091393-e290-421e-ac6a-2734e2b12a94                                  None   \n",
       "6  67091393-e290-421e-ac6a-2734e2b12a94  d2c4bb13-c97e-4707-9e9b-53dc0e2513b5   \n",
       "7  67091393-e290-421e-ac6a-2734e2b12a94  d2c4bb13-c97e-4707-9e9b-53dc0e2513b5   \n",
       "8  67091393-e290-421e-ac6a-2734e2b12a94  57c5cd78-2a0f-42ee-8dab-afce305ec89e   \n",
       "9  76079ea8-0a58-414e-b493-8580089c8419  7ba794f0-38aa-45d8-8d2a-3c932e87e4f5   \n",
       "\n",
       "                                            ObjectId  ... SourceFileExtension  \\\n",
       "0  https://frothly-my.sharepoint.com/personal/fyo...  ...                 pdf   \n",
       "1  https://frothly-my.sharepoint.com/personal/fyo...  ...                 pdf   \n",
       "2  https://frothly-my.sharepoint.com/personal/fyo...  ...                 pdf   \n",
       "3               fa2fd17c-daf8-4062-8f87-d411eb537314  ...                None   \n",
       "4  https://frothly-my.sharepoint.com/personal/pce...  ...                pptx   \n",
       "5  https://frothly-my.sharepoint.com/personal/pce...  ...                None   \n",
       "6  https://frothly-my.sharepoint.com/personal/pce...  ...                pptx   \n",
       "7  https://frothly-my.sharepoint.com/personal/pce...  ...                pptx   \n",
       "8  https://frothly-my.sharepoint.com/personal/fyo...  ...                 tar   \n",
       "9  https://frothly-my.sharepoint.com/User Photos/...  ...                 jpg   \n",
       "\n",
       "                              SourceFileName             SourceRelativeUrl  \\\n",
       "0                  beverages-02-00034-v2.pdf                     Documents   \n",
       "1            craftbeerdotcom-beer-styles.pdf                     Documents   \n",
       "2  fundamental of beer and hop chemistry.pdf                     Documents   \n",
       "3                                       None                          None   \n",
       "4                           Beer styles.pptx                     Documents   \n",
       "5                                       None                          None   \n",
       "6                           Beer styles.pptx                     Documents   \n",
       "7                           Beer styles.pptx                     Documents   \n",
       "8                                archive.tar                     Documents   \n",
       "9                 fyodor_froth_ly_SThumb.jpg  User Photos/Profile Pictures   \n",
       "\n",
       "                                           UserAgent           UserId  \\\n",
       "0                                    OneDriveMpc/1.0  fyodor@froth.ly   \n",
       "1                                    OneDriveMpc/1.0  fyodor@froth.ly   \n",
       "2                                    OneDriveMpc/1.0  fyodor@froth.ly   \n",
       "3                               Substrate Search 1.0  fyodor@froth.ly   \n",
       "4                   Microsoft Office PowerPoint 2014   pcerf@froth.ly   \n",
       "5                                  ODMTADocCache/1.0   app@sharepoint   \n",
       "6                   Microsoft Office PowerPoint 2014   pcerf@froth.ly   \n",
       "7                   Microsoft Office PowerPoint 2014   pcerf@froth.ly   \n",
       "8  Mozilla/5.0 (Macintosh; Intel Mac OS X 10_12_6...  fyodor@froth.ly   \n",
       "9  Mozilla/5.0 (Macintosh; Intel Mac OS X 10_12_6...  fyodor@froth.ly   \n",
       "\n",
       "                                             UserKey UserType Version  \\\n",
       "0        i:0h.f|membership|1003bffda2e71ff9@live.com        0       1   \n",
       "1        i:0h.f|membership|1003bffda2e71ff9@live.com        0       1   \n",
       "2        i:0h.f|membership|1003bffda2e71ff9@live.com        0       1   \n",
       "3        i:0h.f|membership|1003bffda2e71ff9@live.com        0       1   \n",
       "4        i:0h.f|membership|1003bffdac730049@live.com        0       1   \n",
       "5  i:0i.t|00000003-0000-0ff1-ce00-000000000000|ap...        0       1   \n",
       "6        i:0h.f|membership|1003bffdac730049@live.com        0       1   \n",
       "7        i:0h.f|membership|1003bffdac730049@live.com        0       1   \n",
       "8        i:0h.f|membership|1003bffda2e71ff9@live.com        0       1   \n",
       "9        i:0h.f|membership|1003bffda2e71ff9@live.com        0       1   \n",
       "\n",
       "                                  WebId    Workload  \n",
       "0  7acb35b6-e1ec-44ed-9099-38580e330ed0    OneDrive  \n",
       "1  7acb35b6-e1ec-44ed-9099-38580e330ed0    OneDrive  \n",
       "2  7acb35b6-e1ec-44ed-9099-38580e330ed0    OneDrive  \n",
       "3                                  None  SharePoint  \n",
       "4  7acb35b6-e1ec-44ed-9099-38580e330ed0    OneDrive  \n",
       "5  7acb35b6-e1ec-44ed-9099-38580e330ed0    OneDrive  \n",
       "6  7acb35b6-e1ec-44ed-9099-38580e330ed0    OneDrive  \n",
       "7  7acb35b6-e1ec-44ed-9099-38580e330ed0    OneDrive  \n",
       "8  7acb35b6-e1ec-44ed-9099-38580e330ed0    OneDrive  \n",
       "9  3b605151-ac0a-46ff-9e16-14e04be8a8a1  SharePoint  \n",
       "\n",
       "[10 rows x 25 columns]"
      ]
     },
     "execution_count": 29,
     "metadata": {},
     "output_type": "execute_result"
    }
   ],
   "source": [
    "lui.df"
   ]
  },
  {
   "cell_type": "markdown",
   "metadata": {
    "id": "zVa8OWnMp94b"
   },
   "source": [
    "### Databricks SQL AI\n",
    "\n",
    "You can also talk to it using natural language via an agent"
   ]
  },
  {
   "cell_type": "code",
   "execution_count": 30,
   "metadata": {
    "colab": {
     "base_uri": "https://localhost:8080/",
     "height": 468
    },
    "id": "vKq6tVF5qBRw",
    "outputId": "5b2605eb-8485-45f5-dd4f-db9b7bb0f057"
   },
   "outputs": [
    {
     "data": {
      "text/html": [
       "<div style='border: 1px solid #ddd; padding: 15px; border-radius: 5px;'><h4 style='margin-top: 0;'>🤖 LouieAI Response</h4><div style='font-size: 0.8em; color: #666; margin-bottom: 10px;'>Thread: <code>D_HUZvk1mQDqU07d01m3QG</code> | Time: 7.9s</div><div style='margin-top: 10px;'><div id='B_7hhSHZiq'>It seems there was an attempt to fetch 4 events from the 'o365-management-activity' table, but the operation failed because the table or view could not be found. This error suggests that there might be an issue with the table's name, schema, or catalog. To resolve this, you should verify the spelling and correctness of the table's name and ensure that the schema and catalog are correctly specified. If the table or view does not exist, you may need to create it or check with your database administrator for further assistance.</div></div></div>"
      ],
      "text/plain": [
       "<IPython.core.display.HTML object>"
      ]
     },
     "metadata": {},
     "output_type": "display_data"
    },
    {
     "data": {
      "text/html": [
       "<div style='border: 1px solid #ddd; padding: 10px; border-radius: 5px; margin-bottom: 10px;'>\n",
       "<h4 style='margin-top: 0;'>🤖 LouieAI Response</h4>\n",
       "<div>It seems there was an attempt to fetch 4 events from the &#x27;o365-management-activity&#x27; table, but the operation failed because the table or view could not be found. This error suggests that there might be an issue with the table&#x27;s name, schema, or catalog. To resolve this, you should verify the spelling and correctness of the table&#x27;s name and ensure that the schema and catalog are correctly specified. If the table or view does not exist, you may need to create it or check with your database administrator for further assistance.</div>\n",
       "<hr style='margin: 10px 0;'>\n",
       "<p style='margin: 5px 0; font-size: 0.9em;'>✅ <b>Session:</b> Active | <b>Thread ID:</b> <code>D_HUZvk1mQDqU07d01m3QG</code> | <a href='https://den.louie.ai/?dthread=D_HUZvk1mQDqU07d01m3QG' target='_blank'>View Thread ↗</a> | <b>Org:</b> demo-org</p>\n",
       "<p style='margin: 5px 0; font-size: 0.9em;'>📚 <b>History:</b> 2 responses\n",
       " (access with <code>lui[-1]</code>, <code>lui[-2]</code>, etc.)</p>\n",
       "<p style='margin: 5px 0; font-size: 0.9em;'>🔍 <b>Traces:</b> Disabled (use <code>lui.traces = True</code> to enable)</p>\n",
       "<p><b>Latest Response:</b></p>\n",
       "<ul style='margin: 5px 0;'>\n",
       "<li>1 text element(s) - access with <code>lui.text</code> or <code>lui.texts</code></li>\n",
       "</ul>\n",
       "<details><summary><b>Quick Help</b> (click to expand)</summary>\n",
       "<pre style='margin: 10px 0; padding: 10px; background: #f5f5f5;'>\n",
       "# Make a query\n",
       "\n",
       "lui('Show me sales data from last week')\n",
       "\n",
       "\n",
       "# Control visibility\n",
       "\n",
       "lui('query', share_mode='Private')       # Default: only you\n",
       "\n",
       "lui('query', share_mode='Organization')  # Share within org\n",
       "\n",
       "lui('query', share_mode='Public')        # Share publicly\n",
       "\n",
       "\n",
       "# Access results\n",
       "\n",
       "df = lui.df          # Latest dataframe\n",
       "\n",
       "text = lui.text      # Latest text response\n",
       "\n",
       "all_dfs = lui.dfs    # All dataframes\n",
       "\n",
       "\n",
       "# History\n",
       "\n",
       "lui[-1].df           # Previous response's dataframe\n",
       "\n",
       "\n",
       "# Traces (AI reasoning)\n",
       "\n",
       "lui.traces = True    # Enable for session\n",
       "\n",
       "lui('query', traces=True)  # Enable for one query\n",
       "</pre>\n",
       "</details>\n",
       "</div>"
      ],
      "text/plain": [
       "<LouieAI Notebook Interface | Session: Active | History: 2 responses | Traces: Disabled | Latest: 1 text>"
      ]
     },
     "execution_count": 30,
     "metadata": {},
     "output_type": "execute_result"
    }
   ],
   "source": [
    "lui(\"get 4 events from o365-management-activity\", agent=\"DatabricksAgent\")"
   ]
  },
  {
   "cell_type": "markdown",
   "metadata": {
    "id": "eG6lkNxZqYdi"
   },
   "source": [
    "### Louie Agent: Main Orchestrator Agent\n",
    "\n",
    "Louie will pick appropriate agents and tools for you, so you do not need to specify them"
   ]
  },
  {
   "cell_type": "code",
   "execution_count": 31,
   "metadata": {
    "colab": {
     "base_uri": "https://localhost:8080/",
     "height": 1000
    },
    "id": "y_QRaH21qX6Y",
    "outputId": "fdfa5230-4145-450a-b025-70a4792c8b69"
   },
   "outputs": [
    {
     "data": {
      "text/html": [
       "<div style='border: 1px solid #ddd; padding: 15px; border-radius: 5px;'><h4 style='margin-top: 0;'>🤖 LouieAI Response</h4><div style='font-size: 0.8em; color: #666; margin-bottom: 10px;'>Thread: <code>D_HUZvk1mQDqU07d01m3QG</code> | Time: 30.2s</div><div style='margin-top: 10px;'><div id='B_lbre1NVF'>The user wants to retrieve 4 events from the 'o365-management-activity' table in Databricks. Previously, there was an issue with finding this table. I need to verify the table's existence and then attempt to retrieve the data.<br><br>Plan:<br>1. Verify the existence of the 'o365-management-activity' table in Databricks.<br>2. If the table exists, retrieve 4 events from it.<br>3. If the table does not exist, inform the user and suggest checking the table name or schema.<br><br>DatabricksAgent<br>show all tablesThe 'o365-management-activity' table does exist in the Databricks database. Let's proceed to retrieve 4 events from this table.<br><br>DatabricksAgent<br>get 4 events from the `client_demos`.`botsv3`.`o365-management-activity` tableIt seems there is a persistent issue with accessing the `o365-management-activity` table in Databricks. Despite confirming its existence, the error indicates that the table or view cannot be found. This suggests a potential misconfiguration or temporary issue with the query or database connection.<br><br>Here's what you can do to resolve this:<br><br>1. **Verify the Query**: Ensure that the query is correctly formatted and that the table name is spelled correctly, including the schema and catalog.<br><br>2. **Check Database Connection**: Make sure the database connection is stable and properly configured.<br><br>3. **Schema and Catalog**: Double-check the schema and catalog specifications to ensure they are correct.<br><br>4. **Further Investigation**: If the problem persists, further investigation into the database setup may be required. You might need to consult with your database administrator for additional support.<br><br>If you need further assistance, feel free to ask! I'm here to help you</div><div id='B_DqQDybiX'><div style='color: gray;'>[CallElement] show all tables</div></div><div id='B_sjfVnHFz'>It seems there was an initial attempt to fetch data from the 'o365-management-activity' table, which failed due to the table not being found. This indicates a potential issue with the table's name, schema, or catalog. Upon listing all tables in the Databricks database, it was confirmed that the 'o365-management-activity' table does exist. This suggests that the initial error might have been due to a temporary issue or a misconfiguration in the query. To proceed, ensure that the query is correctly formatted and that the database connection is stable. If the issue persists, further investigation into the database configuration may be necessary.</div><div id='B_DA7ZfPMP'>listing tables</div><div id='B_ROPKruFm'><div style='background: #f0f0f0; padding: 5px; margin: 5px 0;'>📊 DataFrame: B_ROPKruFm (shape: 287 x 1)</div></div><div id='B_M0qbedgm'><div style='color: gray;'>[CallElement] get 4 events from the `client_demos`.`botsv3`.`o365-management-activity` table</div></div><div id='B_P5tho4XK'>It seems there is a persistent issue with fetching data from the `client_demos`.`botsv3`.`o365-management-activity` table, as the error indicates that the table or view cannot be found. Despite confirming the existence of the table in the database, the error suggests a potential misconfiguration or temporary issue with the query or database connection. To resolve this, ensure that the query is correctly formatted, verify the database connection, and check the schema and catalog specifications. If the problem continues, further investigation into the database setup may be required.</div></div></div>"
      ],
      "text/plain": [
       "<IPython.core.display.HTML object>"
      ]
     },
     "metadata": {},
     "output_type": "display_data"
    },
    {
     "data": {
      "text/html": [
       "<div style='border: 1px solid #ddd; padding: 10px; border-radius: 5px; margin-bottom: 10px;'>\n",
       "<h4 style='margin-top: 0;'>🤖 LouieAI Response</h4>\n",
       "<div>The user wants to retrieve 4 events from the &#x27;o365-management-activity&#x27; table in Databricks. Previously, there was an issue with finding this table. I need to verify the table&#x27;s existence and then attempt to retrieve the data.</p><p>Plan:<br>1. Verify the existence of the &#x27;o365-management-activity&#x27; table in Databricks.<br>2. If the table exists, retrieve 4 events from it.<br>3. If the table does not exist, inform the user and suggest checking the table name or schema.</p><p>DatabricksAgent<br>show all tablesThe &#x27;o365-management-activity&#x27; table does exist in the Databricks database. Let&#x27;s proceed to retrieve 4 events from this table.</p><p>DatabricksAgent<br>get 4 events from the `client_demos`.`botsv3`.`o365-management-activity` tableIt seems there is a persistent issue with accessing the `o365-management-activity` table in Databricks. Despite confirming its existence, the error indicates that the table or view cannot be found. This suggests a potential misconfiguration or temporary issue with the query or database connection.</p><p>Here&#x27;s what you can do to resolve this:</p><p>1. **Verify the Query**: Ensure that the query is correctly formatted and that the table name is spelled correctly, including the schema and catalog.</p><p>2. **Check Database Connection**: Make sure the database connection is stable and properly configured.</p><p>3. **Schema and Catalog**: Double-check the schema and catalog specifications to ensure they are correct.</p><p>4. **Further Investigation**: If the problem persists, further investigation into the database setup may be required. You might need to consult with your database administrator for additional support.</p><p>If you need further assistance, feel free to ask! I&#x27;m here to help you</div>\n",
       "<div style='color: gray;'>[CallElement] show all tables</div>\n",
       "<div>It seems there was an initial attempt to fetch data from the &#x27;o365-management-activity&#x27; table, which failed due to the table not being found. This indicates a potential issue with the table&#x27;s name, schema, or catalog. Upon listing all tables in the Databricks database, it was confirmed that the &#x27;o365-management-activity&#x27; table does exist. This suggests that the initial error might have been due to a temporary issue or a misconfiguration in the query. To proceed, ensure that the query is correctly formatted and that the database connection is stable. If the issue persists, further investigation into the database configuration may be necessary.</div>\n",
       "<div>listing tables</div>\n",
       "<div>\n",
       "<style scoped>\n",
       "    .dataframe tbody tr th:only-of-type {\n",
       "        vertical-align: middle;\n",
       "    }\n",
       "\n",
       "    .dataframe tbody tr th {\n",
       "        vertical-align: top;\n",
       "    }\n",
       "\n",
       "    .dataframe thead th {\n",
       "        text-align: right;\n",
       "    }\n",
       "</style>\n",
       "<table border=\"1\" class=\"dataframe\">\n",
       "  <thead>\n",
       "    <tr style=\"text-align: right;\">\n",
       "      <th></th>\n",
       "      <th>table_name</th>\n",
       "    </tr>\n",
       "  </thead>\n",
       "  <tbody>\n",
       "    <tr>\n",
       "      <th>0</th>\n",
       "      <td>`client_demos`.`botsv3`.`access-combined`</td>\n",
       "    </tr>\n",
       "    <tr>\n",
       "      <th>1</th>\n",
       "      <td>`client_demos`.`botsv3`.`access_combined`</td>\n",
       "    </tr>\n",
       "    <tr>\n",
       "      <th>2</th>\n",
       "      <td>`client_demos`.`botsv3`.`alternatives`</td>\n",
       "    </tr>\n",
       "    <tr>\n",
       "      <th>3</th>\n",
       "      <td>`client_demos`.`botsv3`.`amazon-ssm-agent`</td>\n",
       "    </tr>\n",
       "    <tr>\n",
       "      <th>4</th>\n",
       "      <td>`client_demos`.`botsv3`.`amazon-ssm-agent-too-...</td>\n",
       "    </tr>\n",
       "    <tr>\n",
       "      <th>...</th>\n",
       "      <td>...</td>\n",
       "    </tr>\n",
       "    <tr>\n",
       "      <th>282</th>\n",
       "      <td>`system`.`information_schema`.`tables`</td>\n",
       "    </tr>\n",
       "    <tr>\n",
       "      <th>283</th>\n",
       "      <td>`system`.`information_schema`.`views`</td>\n",
       "    </tr>\n",
       "    <tr>\n",
       "      <th>284</th>\n",
       "      <td>`system`.`information_schema`.`volume_privileges`</td>\n",
       "    </tr>\n",
       "    <tr>\n",
       "      <th>285</th>\n",
       "      <td>`system`.`information_schema`.`volume_tags`</td>\n",
       "    </tr>\n",
       "    <tr>\n",
       "      <th>286</th>\n",
       "      <td>`system`.`information_schema`.`volumes`</td>\n",
       "    </tr>\n",
       "  </tbody>\n",
       "</table>\n",
       "<p>287 rows × 1 columns</p>\n",
       "</div>\n",
       "<div style='color: gray;'>[CallElement] get 4 events from the `client_demos`.`botsv3`.`o365-management-activity` table</div>\n",
       "<div>It seems there is a persistent issue with fetching data from the `client_demos`.`botsv3`.`o365-management-activity` table, as the error indicates that the table or view cannot be found. Despite confirming the existence of the table in the database, the error suggests a potential misconfiguration or temporary issue with the query or database connection. To resolve this, ensure that the query is correctly formatted, verify the database connection, and check the schema and catalog specifications. If the problem continues, further investigation into the database setup may be required.</div>\n",
       "<hr style='margin: 10px 0;'>\n",
       "<p style='margin: 5px 0; font-size: 0.9em;'>✅ <b>Session:</b> Active | <b>Thread ID:</b> <code>D_HUZvk1mQDqU07d01m3QG</code> | <a href='https://den.louie.ai/?dthread=D_HUZvk1mQDqU07d01m3QG' target='_blank'>View Thread ↗</a> | <b>Org:</b> demo-org</p>\n",
       "<p style='margin: 5px 0; font-size: 0.9em;'>📚 <b>History:</b> 3 responses\n",
       " (access with <code>lui[-1]</code>, <code>lui[-2]</code>, etc.)</p>\n",
       "<p style='margin: 5px 0; font-size: 0.9em;'>🔍 <b>Traces:</b> Disabled (use <code>lui.traces = True</code> to enable)</p>\n",
       "<p><b>Latest Response:</b></p>\n",
       "<ul style='margin: 5px 0;'>\n",
       "<li>4 text element(s) - access with <code>lui.text</code> or <code>lui.texts</code></li>\n",
       "<li>1 dataframe(s) - access with <code>lui.df</code> or <code>lui.dfs</code></li>\n",
       "</ul>\n",
       "<details><summary><b>Quick Help</b> (click to expand)</summary>\n",
       "<pre style='margin: 10px 0; padding: 10px; background: #f5f5f5;'>\n",
       "# Make a query\n",
       "\n",
       "lui('Show me sales data from last week')\n",
       "\n",
       "\n",
       "# Control visibility\n",
       "\n",
       "lui('query', share_mode='Private')       # Default: only you\n",
       "\n",
       "lui('query', share_mode='Organization')  # Share within org\n",
       "\n",
       "lui('query', share_mode='Public')        # Share publicly\n",
       "\n",
       "\n",
       "# Access results\n",
       "\n",
       "df = lui.df          # Latest dataframe\n",
       "\n",
       "text = lui.text      # Latest text response\n",
       "\n",
       "all_dfs = lui.dfs    # All dataframes\n",
       "\n",
       "\n",
       "# History\n",
       "\n",
       "lui[-1].df           # Previous response's dataframe\n",
       "\n",
       "\n",
       "# Traces (AI reasoning)\n",
       "\n",
       "lui.traces = True    # Enable for session\n",
       "\n",
       "lui('query', traces=True)  # Enable for one query\n",
       "</pre>\n",
       "</details>\n",
       "</div>"
      ],
      "text/plain": [
       "<LouieAI Notebook Interface | Session: Active | History: 3 responses | Traces: Disabled | Latest: 4 text, 1 dataframe>"
      ]
     },
     "execution_count": 31,
     "metadata": {},
     "output_type": "execute_result"
    }
   ],
   "source": [
    "lui(\"\"\"get 4 events from databrick's o365-management-activity\"\"\")"
   ]
  },
  {
   "cell_type": "markdown",
   "metadata": {
    "id": "zSwaGE5q0IIi"
   },
   "source": [
    "## Let's Vibe: Composing via DataFrames"
   ]
  },
  {
   "cell_type": "code",
   "execution_count": 32,
   "metadata": {
    "colab": {
     "base_uri": "https://localhost:8080/",
     "height": 1000
    },
    "id": "5tgQNAyzSUyg",
    "outputId": "6b015efb-3b36-4300-d932-f612dd39aee0"
   },
   "outputs": [
    {
     "data": {
      "text/html": [
       "<div style='border: 1px solid #ddd; padding: 15px; border-radius: 5px;'><h4 style='margin-top: 0;'>🤖 LouieAI Response</h4><div style='font-size: 0.8em; color: #666; margin-bottom: 10px;'>Thread: <code>D_HUZvk1mQDqU07d01m3QG</code> | Time: 24.3s</div><div style='margin-top: 10px;'><div id='B_Xs6KQ5r2'>To tackle this task, I'll follow these steps:<br><br>1. **Retrieve Data**: I'll fetch 100 events from the `aws-s3-accesslogs` table in Databricks.<br>2. **Identify Interesting Columns**: I'll identify columns that could be interesting for graph creation, such as those representing relationships or connections.<br>3. **Create a Graph**: I'll use the identified columns to create a graph visualization.<br><br>Let's get started!<br><br>### Step 1: Retrieve Data<br>I'll begin by fetching 100 events from the `aws-s3-accesslogs` table in Databricks.<br><br>DatabricksAgent<br>Get 100 rows from the aws-s3-accesslogs table<br>It seems there is a persistent issue with accessing the `aws-s3-accesslogs` table in Databricks. Despite confirming its existence, the error indicates that the table or view cannot be found. This suggests a potential misconfiguration or temporary issue with the query or database connection.<br><br>Here's what you can do to resolve this:<br><br>1. **Verify the Query**: Ensure that the query is correctly formatted and that the table name is spelled correctly, including the schema and catalog.<br><br>2. **Check Database Connection**: Make sure the database connection is stable and properly configured.<br><br>3. **Schema and Catalog**: Double-check the schema and catalog specifications to ensure they are correct.<br><br>4. **Further Investigation**: If the problem persists, further investigation into the database setup may be required. You might need to consult with your database administrator for additional support.<br><br>If you need further assistance, feel free to ask! I'm here to help you</div><div id='B_2v5UfTuz'><div style='color: gray;'>[CallElement] Get 100 rows from the aws-s3-accesslogs table\n",
       "</div></div><div id='B_DXDo96xc'>It seems there is a recurring issue with fetching data from the specified tables in the Databricks database. Despite confirming the existence of the tables, attempts to retrieve data from both the `o365-management-activity` and `aws-s3-accesslogs` tables have resulted in errors indicating that the tables or views cannot be found. This suggests a potential misconfiguration or temporary issue with the query or database connection. To resolve this, ensure that the queries are correctly formatted, verify the database connection, and check the schema and catalog specifications. If the problem persists, further investigation into the database setup may be necessary.</div></div></div>"
      ],
      "text/plain": [
       "<IPython.core.display.HTML object>"
      ]
     },
     "metadata": {},
     "output_type": "display_data"
    },
    {
     "data": {
      "text/html": [
       "<div style='border: 1px solid #ddd; padding: 10px; border-radius: 5px; margin-bottom: 10px;'>\n",
       "<h4 style='margin-top: 0;'>🤖 LouieAI Response</h4>\n",
       "<div>To tackle this task, I&#x27;ll follow these steps:</p><p>1. **Retrieve Data**: I&#x27;ll fetch 100 events from the `aws-s3-accesslogs` table in Databricks.<br>2. **Identify Interesting Columns**: I&#x27;ll identify columns that could be interesting for graph creation, such as those representing relationships or connections.<br>3. **Create a Graph**: I&#x27;ll use the identified columns to create a graph visualization.</p><p>Let&#x27;s get started!</p><p>### Step 1: Retrieve Data<br>I&#x27;ll begin by fetching 100 events from the `aws-s3-accesslogs` table in Databricks.</p><p>DatabricksAgent<br>Get 100 rows from the aws-s3-accesslogs table<br>It seems there is a persistent issue with accessing the `aws-s3-accesslogs` table in Databricks. Despite confirming its existence, the error indicates that the table or view cannot be found. This suggests a potential misconfiguration or temporary issue with the query or database connection.</p><p>Here&#x27;s what you can do to resolve this:</p><p>1. **Verify the Query**: Ensure that the query is correctly formatted and that the table name is spelled correctly, including the schema and catalog.</p><p>2. **Check Database Connection**: Make sure the database connection is stable and properly configured.</p><p>3. **Schema and Catalog**: Double-check the schema and catalog specifications to ensure they are correct.</p><p>4. **Further Investigation**: If the problem persists, further investigation into the database setup may be required. You might need to consult with your database administrator for additional support.</p><p>If you need further assistance, feel free to ask! I&#x27;m here to help you</div>\n",
       "<div style='color: gray;'>[CallElement] Get 100 rows from the aws-s3-accesslogs table\n",
       "</div>\n",
       "<div>It seems there is a recurring issue with fetching data from the specified tables in the Databricks database. Despite confirming the existence of the tables, attempts to retrieve data from both the `o365-management-activity` and `aws-s3-accesslogs` tables have resulted in errors indicating that the tables or views cannot be found. This suggests a potential misconfiguration or temporary issue with the query or database connection. To resolve this, ensure that the queries are correctly formatted, verify the database connection, and check the schema and catalog specifications. If the problem persists, further investigation into the database setup may be necessary.</div>\n",
       "<hr style='margin: 10px 0;'>\n",
       "<p style='margin: 5px 0; font-size: 0.9em;'>✅ <b>Session:</b> Active | <b>Thread ID:</b> <code>D_HUZvk1mQDqU07d01m3QG</code> | <a href='https://den.louie.ai/?dthread=D_HUZvk1mQDqU07d01m3QG' target='_blank'>View Thread ↗</a> | <b>Org:</b> demo-org</p>\n",
       "<p style='margin: 5px 0; font-size: 0.9em;'>📚 <b>History:</b> 4 responses\n",
       " (access with <code>lui[-1]</code>, <code>lui[-2]</code>, etc.)</p>\n",
       "<p style='margin: 5px 0; font-size: 0.9em;'>🔍 <b>Traces:</b> Disabled (use <code>lui.traces = True</code> to enable)</p>\n",
       "<p><b>Latest Response:</b></p>\n",
       "<ul style='margin: 5px 0;'>\n",
       "<li>2 text element(s) - access with <code>lui.text</code> or <code>lui.texts</code></li>\n",
       "</ul>\n",
       "<details><summary><b>Quick Help</b> (click to expand)</summary>\n",
       "<pre style='margin: 10px 0; padding: 10px; background: #f5f5f5;'>\n",
       "# Make a query\n",
       "\n",
       "lui('Show me sales data from last week')\n",
       "\n",
       "\n",
       "# Control visibility\n",
       "\n",
       "lui('query', share_mode='Private')       # Default: only you\n",
       "\n",
       "lui('query', share_mode='Organization')  # Share within org\n",
       "\n",
       "lui('query', share_mode='Public')        # Share publicly\n",
       "\n",
       "\n",
       "# Access results\n",
       "\n",
       "df = lui.df          # Latest dataframe\n",
       "\n",
       "text = lui.text      # Latest text response\n",
       "\n",
       "all_dfs = lui.dfs    # All dataframes\n",
       "\n",
       "\n",
       "# History\n",
       "\n",
       "lui[-1].df           # Previous response's dataframe\n",
       "\n",
       "\n",
       "# Traces (AI reasoning)\n",
       "\n",
       "lui.traces = True    # Enable for session\n",
       "\n",
       "lui('query', traces=True)  # Enable for one query\n",
       "</pre>\n",
       "</details>\n",
       "</div>"
      ],
      "text/plain": [
       "<LouieAI Notebook Interface | Session: Active | History: 4 responses | Traces: Disabled | Latest: 2 text>"
      ]
     },
     "execution_count": 32,
     "metadata": {},
     "output_type": "execute_result"
    }
   ],
   "source": [
    "lui(\"\"\"\n",
    "\n",
    "Get 100 events from databricks aws-s3-accesslogs and\n",
    "draw a graph using any intereseting sounding columns for investigating\n",
    "\n",
    "\"\"\")"
   ]
  },
  {
   "cell_type": "markdown",
   "metadata": {
    "id": "kxgcs3oKJz2g"
   },
   "source": [
    "# Prompt Templates"
   ]
  },
  {
   "cell_type": "markdown",
   "metadata": {
    "id": "Sof2n3vU5aEb"
   },
   "source": [
    "### Reuse prompts as template files\n",
    "\n",
    "Prompt template files and TODO/plan files are key to quickly using agents, having them do long runs, and increasing how much the AI manages itself.\n",
    "\n",
    "Likewise, instead of manually editing plans, this helps enable you to tell the AI how to do that for you. As templates get more advanced, self-modifying plans become key."
   ]
  },
  {
   "cell_type": "code",
   "execution_count": 34,
   "metadata": {
    "colab": {
     "base_uri": "https://localhost:8080/",
     "height": 130
    },
    "id": "TQLcynwz0P_A",
    "outputId": "9ceeadf9-05ea-4058-eb31-e74363bf2d33"
   },
   "outputs": [
    {
     "data": {
      "text/html": [
       "<div style='border: 1px solid #ddd; padding: 15px; border-radius: 5px;'><h4 style='margin-top: 0;'>🤖 LouieAI Response</h4><div style='font-size: 0.8em; color: #666; margin-bottom: 10px;'>Thread: <code>D_6c7aAAe5X46lS7e7_mw5</code> | Time: 2.2s</div><div style='margin-top: 10px;'><div id='B_w__maABr'>The best jokes are about 19th century scientists</div></div></div>"
      ],
      "text/plain": [
       "<IPython.core.display.HTML object>"
      ]
     },
     "metadata": {},
     "output_type": "display_data"
    },
    {
     "data": {
      "application/vnd.google.colaboratory.intrinsic+json": {
       "type": "string"
      },
      "text/plain": [
       "'D_6c7aAAe5X46lS7e7_mw5'"
      ]
     },
     "execution_count": 34,
     "metadata": {},
     "output_type": "execute_result"
    }
   ],
   "source": [
    "lui_template = new_thread()\n",
    "\n",
    "lui_template(\"Repeat this out: The best jokes are about 19th century scientists\")\n",
    "\n",
    "lui_template.thread_id"
   ]
  },
  {
   "cell_type": "code",
   "execution_count": 38,
   "metadata": {
    "colab": {
     "base_uri": "https://localhost:8080/",
     "height": 1000
    },
    "id": "QYVeLQzO5oiy",
    "outputId": "d9960719-4fbb-4bc0-c48f-37c070509a3b"
   },
   "outputs": [
    {
     "data": {
      "text/html": [
       "<div style='border: 1px solid #ddd; padding: 15px; border-radius: 5px;'><h4 style='margin-top: 0;'>🤖 LouieAI Response</h4><div style='font-size: 0.8em; color: #666; margin-bottom: 10px;'>Thread: <code>D_HxpWhbUfhQYp45v55zy6</code> | Time: 9.7s</div><div style='margin-top: 10px;'><div id='B_NBLuLkRF'>I need to read the specified dthread first to understand its content before making a joke about it.<br>NotebookAgent<br>read dthread D_6c7aAAe5X46lS7e7_mw5Final Answer: Ah, 19th-century scientists! They were the original \"mad scientists\" before it was cool. Why did the 19th-century physicist bring a ladder to the bar? Because he heard the drinks were on the house, and he wanted to test the theory of relativity by getting</div><div id='B_Hz3IiXk5'><div style='color: gray;'>[CallElement] read dthread D_6c7aAAe5X46lS7e7_mw5</div></div><div id='B_MTwk379f'><notebook id=\"D_6c7aAAe5X46lS7e7_mw5\"><br>  <cells><br>    <cell id=\"B_GxpiiXsX\" agent=\"LouieAgent\" last_run_id=\"None\"><br>      <inputs><br>        <element type=\"TextElement\"> | Markdown: </element><br>      </inputs><br>      <outputs/><br>    </cell><br>    <cell id=\"B_jOlL_sp4\" agent=\"LouieAgent\" last_run_id=\"R_j8b8F27do39XFwW1gV3N\"><br>      <inputs><br>        <element type=\"TextElement\"> | Markdown: Repeat this out: The best jokes are about 19th century scientists</element><br>      </inputs><br>      <outputs><br>        <element type=\"TextElement\"> | Markdown: The best jokes are about 19th century scientists!</element><br>      </outputs><br>      <run id=\"R_j8b8F27do39XFwW1gV3N\" state=\"Done\" run_type=\"LouieAgent\"><br>        <traces><br>          <trace level=\"Level.INFO\">LouieAgent::runner</trace><br>          <trace level=\"Level.DEBUG\">Input text:::Repeat this out: The best jokes are about 19th century scientists</trace><br>          <trace level=\"Level.DEBUG\">Reading chat history. (is_prepared: True)</trace><br>          <trace level=\"Level.DEBUG\">...</trace><br>          <trace level=\"Level.INFO\">Louie output text: The best jokes are about 19th century scientists!</trace><br>        </traces><br>      </run><br>    </cell><br>  </cells><br></notebook></div><div id='B_2fTKXubD'>The notebook with the ID \"D_6c7aAAe5X46lS7e7_mw5\" contains a humorous statement emphasizing that the best jokes are about 19th-century scientists. This suggests a playful engagement with historical scientific figures, possibly highlighting their quirks or contributions in a light-hearted manner. The content reflects a blend of humor and historical interest, appealing to those who appreciate both science and comedy.</div></div></div>"
      ],
      "text/plain": [
       "<IPython.core.display.HTML object>"
      ]
     },
     "metadata": {},
     "output_type": "display_data"
    },
    {
     "data": {
      "text/html": [
       "<div style='border: 1px solid #ddd; padding: 10px; border-radius: 5px; margin-bottom: 10px;'>\n",
       "<h4 style='margin-top: 0;'>🤖 LouieAI Response</h4>\n",
       "<div>I need to read the specified dthread first to understand its content before making a joke about it.<br>NotebookAgent<br>read dthread D_6c7aAAe5X46lS7e7_mw5Final Answer: Ah, 19th-century scientists! They were the original &quot;mad scientists&quot; before it was cool. Why did the 19th-century physicist bring a ladder to the bar? Because he heard the drinks were on the house, and he wanted to test the theory of relativity by getting</div>\n",
       "<div style='color: gray;'>[CallElement] read dthread D_6c7aAAe5X46lS7e7_mw5</div>\n",
       "<div>&lt;notebook id=&quot;D_6c7aAAe5X46lS7e7_mw5&quot;&gt;<br>  &lt;cells&gt;<br>    &lt;cell id=&quot;B_GxpiiXsX&quot; agent=&quot;LouieAgent&quot; last_run_id=&quot;None&quot;&gt;<br>      &lt;inputs&gt;<br>        &lt;element type=&quot;TextElement&quot;&gt; | Markdown: &lt;/element&gt;<br>      &lt;/inputs&gt;<br>      &lt;outputs/&gt;<br>    &lt;/cell&gt;<br>    &lt;cell id=&quot;B_jOlL_sp4&quot; agent=&quot;LouieAgent&quot; last_run_id=&quot;R_j8b8F27do39XFwW1gV3N&quot;&gt;<br>      &lt;inputs&gt;<br>        &lt;element type=&quot;TextElement&quot;&gt; | Markdown: Repeat this out: The best jokes are about 19th century scientists&lt;/element&gt;<br>      &lt;/inputs&gt;<br>      &lt;outputs&gt;<br>        &lt;element type=&quot;TextElement&quot;&gt; | Markdown: The best jokes are about 19th century scientists!&lt;/element&gt;<br>      &lt;/outputs&gt;<br>      &lt;run id=&quot;R_j8b8F27do39XFwW1gV3N&quot; state=&quot;Done&quot; run_type=&quot;LouieAgent&quot;&gt;<br>        &lt;traces&gt;<br>          &lt;trace level=&quot;Level.INFO&quot;&gt;LouieAgent::runner&lt;/trace&gt;<br>          &lt;trace level=&quot;Level.DEBUG&quot;&gt;Input text:::Repeat this out: The best jokes are about 19th century scientists&lt;/trace&gt;<br>          &lt;trace level=&quot;Level.DEBUG&quot;&gt;Reading chat history. (is_prepared: True)&lt;/trace&gt;<br>          &lt;trace level=&quot;Level.DEBUG&quot;&gt;...&lt;/trace&gt;<br>          &lt;trace level=&quot;Level.INFO&quot;&gt;Louie output text: The best jokes are about 19th century scientists!&lt;/trace&gt;<br>        &lt;/traces&gt;<br>      &lt;/run&gt;<br>    &lt;/cell&gt;<br>  &lt;/cells&gt;<br>&lt;/notebook&gt;</div>\n",
       "<div>The notebook with the ID &quot;D_6c7aAAe5X46lS7e7_mw5&quot; contains a humorous statement emphasizing that the best jokes are about 19th-century scientists. This suggests a playful engagement with historical scientific figures, possibly highlighting their quirks or contributions in a light-hearted manner. The content reflects a blend of humor and historical interest, appealing to those who appreciate both science and comedy.</div>\n",
       "<hr style='margin: 10px 0;'>\n",
       "<p style='margin: 5px 0; font-size: 0.9em;'>✅ <b>Session:</b> Active | <b>Thread ID:</b> <code>D_HxpWhbUfhQYp45v55zy6</code> | <a href='https://den.louie.ai/?dthread=D_HxpWhbUfhQYp45v55zy6' target='_blank'>View Thread ↗</a> | <b>Org:</b> demo-org</p>\n",
       "<p style='margin: 5px 0; font-size: 0.9em;'>📚 <b>History:</b> 1 responses\n",
       " (access with <code>lui[-1]</code>, <code>lui[-2]</code>, etc.)</p>\n",
       "<p style='margin: 5px 0; font-size: 0.9em;'>🔍 <b>Traces:</b> Disabled (use <code>lui.traces = True</code> to enable)</p>\n",
       "<p><b>Latest Response:</b></p>\n",
       "<ul style='margin: 5px 0;'>\n",
       "<li>3 text element(s) - access with <code>lui.text</code> or <code>lui.texts</code></li>\n",
       "</ul>\n",
       "<details><summary><b>Quick Help</b> (click to expand)</summary>\n",
       "<pre style='margin: 10px 0; padding: 10px; background: #f5f5f5;'>\n",
       "# Make a query\n",
       "\n",
       "lui('Show me sales data from last week')\n",
       "\n",
       "\n",
       "# Control visibility\n",
       "\n",
       "lui('query', share_mode='Private')       # Default: only you\n",
       "\n",
       "lui('query', share_mode='Organization')  # Share within org\n",
       "\n",
       "lui('query', share_mode='Public')        # Share publicly\n",
       "\n",
       "\n",
       "# Access results\n",
       "\n",
       "df = lui.df          # Latest dataframe\n",
       "\n",
       "text = lui.text      # Latest text response\n",
       "\n",
       "all_dfs = lui.dfs    # All dataframes\n",
       "\n",
       "\n",
       "# History\n",
       "\n",
       "lui[-1].df           # Previous response's dataframe\n",
       "\n",
       "\n",
       "# Traces (AI reasoning)\n",
       "\n",
       "lui.traces = True    # Enable for session\n",
       "\n",
       "lui('query', traces=True)  # Enable for one query\n",
       "</pre>\n",
       "</details>\n",
       "</div>"
      ],
      "text/plain": [
       "<LouieAI Notebook Interface | Session: Active | History: 1 responses | Traces: Disabled | Latest: 3 text>"
      ]
     },
     "execution_count": 38,
     "metadata": {},
     "output_type": "execute_result"
    }
   ],
   "source": [
    "lui_joke = new_thread()\n",
    "\n",
    "lui_joke(f\"Read dthread {lui_template.thread_id}, and only after, make a joke about it\")"
   ]
  },
  {
   "cell_type": "code",
   "execution_count": 41,
   "metadata": {
    "colab": {
     "base_uri": "https://localhost:8080/"
    },
    "id": "0gJLMR3M6L3F",
    "outputId": "6e3de4f2-5162-498b-8424-b14051d1b1fd"
   },
   "outputs": [
    {
     "name": "stdout",
     "output_type": "stream",
     "text": [
      "I need to read the specified dthread first to understand its content before making a joke about it.\n",
      "NotebookAgent\n",
      "read dthread D_6c7aAAe5X46lS7e7_mw5Final Answer: Ah, 19th-century scientists! They were the original \"mad scientists\" before it was cool. Why did the 19th-century physicist bring a ladder to the bar? Because he heard the drinks were on the house, and he wanted to test the theory of relativity by getting\n"
     ]
    }
   ],
   "source": [
    "print(lui_joke.text)"
   ]
  },
  {
   "cell_type": "code",
   "execution_count": null,
   "metadata": {
    "id": "7roV7b4R6TfZ"
   },
   "outputs": [],
   "source": []
  }
 ],
 "metadata": {
  "colab": {
   "history_visible": true,
   "provenance": [],
   "toc_visible": true
  },
  "kernelspec": {
   "display_name": "Python 3",
   "name": "python3"
  },
  "language_info": {
   "name": "python"
  }
 },
 "nbformat": 4,
 "nbformat_minor": 0
}