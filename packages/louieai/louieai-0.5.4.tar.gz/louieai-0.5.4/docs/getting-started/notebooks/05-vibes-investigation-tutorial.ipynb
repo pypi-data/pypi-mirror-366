{
 "cells": [
  {
   "cell_type": "markdown",
   "metadata": {
    "id": "GUoT7-G8kHX4"
   },
   "source": [
    "## Welcome to Vibes Investigating with Louie!\n",
    "\n",
    "This tutorial goes along with the Louie vibes investigation training. You can fork & use it with your same Louie credentials.\n",
    "\n",
    "Further reading:\n",
    "\n",
    "* Louie ReadtheDocs: https://louie.readthedocs.io/en/latest/\n",
    "\n",
    "* Louie GitHub: https://github.com/graphistry/louie-py\n",
    "\n",
    "* PyGraphistry ReadTheDocs: https://pygraphistry.readthedocs.io/en/latest/\n"
   ]
  },
  {
   "cell_type": "markdown",
   "metadata": {
    "id": "BfRTDW1rkRWN"
   },
   "source": [
    "## 1. Install\n",
    "\n",
    "Get package `louieai` using pip or uv. Louie requires Python 3.10+ and Pandas/Arrow\n",
    "\n",
    "It installs PyGraphistry 0.41+ for auth & graphs"
   ]
  },
  {
   "cell_type": "code",
   "execution_count": 1,
   "metadata": {
    "execution": {
     "iopub.execute_input": "2025-08-04T02:30:25.695823Z",
     "iopub.status.busy": "2025-08-04T02:30:25.695643Z",
     "iopub.status.idle": "2025-08-04T02:30:26.354471Z",
     "shell.execute_reply": "2025-08-04T02:30:26.353577Z"
    },
    "id": "UMxOEdMWm8sb"
   },
   "outputs": [
    {
     "name": "stdout",
     "output_type": "stream",
     "text": [
      "\u001b[31mERROR: Could not install packages due to an OSError: [Errno 2] No such file or directory: '/home/lmeyerov/miniconda3/lib/python3.8/site-packages/typing_extensions-4.12.2.dist-info/METADATA'\r\n",
      "\u001b[0m\u001b[31m\r\n",
      "\u001b[0m"
     ]
    }
   ],
   "source": [
    "!pip install -q louieai"
   ]
  },
  {
   "cell_type": "markdown",
   "metadata": {
    "id": "Ra-mQc5J2h-C"
   },
   "source": [
    "## Import"
   ]
  },
  {
   "cell_type": "code",
   "execution_count": 2,
   "metadata": {
    "colab": {
     "base_uri": "https://localhost:8080/"
    },
    "execution": {
     "iopub.execute_input": "2025-08-04T02:30:26.356441Z",
     "iopub.status.busy": "2025-08-04T02:30:26.356229Z",
     "iopub.status.idle": "2025-08-04T02:30:26.653833Z",
     "shell.execute_reply": "2025-08-04T02:30:26.653579Z"
    },
    "id": "L205f3Km2kZq",
    "outputId": "ccac75e1-40b5-4328-cc57-435a5b673955"
   },
   "outputs": [
    {
     "name": "stdout",
     "output_type": "stream",
     "text": [
      "graphistry 0.41.0 louieai 0.5.3.dev1+g49851b1.d20250804\n"
     ]
    }
   ],
   "source": [
    "import graphistry\n",
    "\n",
    "import louieai\n",
    "\n",
    "print(\"graphistry\", graphistry.__version__, \"louieai\", louieai.__version__)"
   ]
  },
  {
   "cell_type": "markdown",
   "metadata": {
    "id": "0LYQt4JqkqDN"
   },
   "source": [
    "## Configure\n",
    "\n",
    "1. Graphistry server: Holds your account, semantic layer, and adds GPU viz & remote GFQL querying\n",
    "\n",
    "2. Louie server: Datathreads & agentic vibes\n"
   ]
  },
  {
   "cell_type": "code",
   "execution_count": 3,
   "metadata": {
    "colab": {
     "base_uri": "https://localhost:8080/"
    },
    "execution": {
     "iopub.execute_input": "2025-08-04T02:30:26.655086Z",
     "iopub.status.busy": "2025-08-04T02:30:26.654944Z",
     "iopub.status.idle": "2025-08-04T02:30:27.399009Z",
     "shell.execute_reply": "2025-08-04T02:30:27.398481Z"
    },
    "id": "yrMsAm9p0fjO",
    "outputId": "bb497580-608f-4ffb-c89d-c28c38b3c8ee"
   },
   "outputs": [
    {
     "name": "stdout",
     "output_type": "stream",
     "text": [
      "Connected!\n"
     ]
    }
   ],
   "source": [
    "import getpass\n",
    "import os\n",
    "\n",
    "LOUIE_SERVER_URL = os.environ.get(\"LOUIE_SERVER\", \"https://den.louie.ai\")\n",
    "GRAPHISTRY_DOMAIN = os.environ.get(\"GRAPHISTRY_SERVER\", \"hub.graphistry.com\")\n",
    "\n",
    "# Check for Graphistry personal key credentials\n",
    "personal_key_id = os.environ.get(\"GRAPHISTRY_PERSONAL_KEY_ID\")\n",
    "personal_key_secret = os.environ.get(\"GRAPHISTRY_PERSONAL_KEY_SECRET\")\n",
    "org_name = os.environ.get(\"GRAPHISTRY_ORG_NAME\")\n",
    "\n",
    "if not personal_key_id or not personal_key_secret or not org_name:\n",
    "    print(\"🔐 Graphistry Authentication Required\")\n",
    "    print(\"=\" * 50)\n",
    "    print(\"You need a Graphistry personal API key to run this notebook.\")\n",
    "    print(\"\\nTo get credentials:\")\n",
    "    print(\"1. Sign up/login at https://hub.graphistry.com\")\n",
    "    print(\"2. Go to https://hub.graphistry.com/users/personal/key/\")\n",
    "    print(\"3. Create a new personal API key\")\n",
    "    print(\"=\" * 50)\n",
    "    print(\"\\nPlease enter your credentials:\")\n",
    "    personal_key_id = input(\"Personal Key ID: \")\n",
    "    personal_key_secret = getpass.getpass(\"Personal Key Secret: \")\n",
    "    org_name = input(\"Organization Name: \")\n",
    "    print(\"\\n💡 Tip: For automated execution, set environment variables:\")\n",
    "    print(\"   export GRAPHISTRY_PERSONAL_KEY_ID='your_key_id'\")\n",
    "    print(\"   export GRAPHISTRY_PERSONAL_KEY_SECRET='your_key_secret'\")\n",
    "    print(\"   export GRAPHISTRY_ORG_NAME='your_org_name'\")\n",
    "\n",
    "# MAKE API KEY: https://hub.graphistry.com/users/personal/key/\n",
    "g = graphistry.register(\n",
    "    api=3,\n",
    "    server=GRAPHISTRY_DOMAIN,\n",
    "    personal_key_id=personal_key_id,\n",
    "    personal_key_secret=personal_key_secret,\n",
    "    org_name=org_name,\n",
    ")\n",
    "\n",
    "\n",
    "def new_thread(share_mode=\"Private\"):\n",
    "    return louieai(g, server_url=LOUIE_SERVER_URL, share_mode=share_mode)\n",
    "\n",
    "\n",
    "lui = new_thread()\n",
    "\n",
    "print(\"Connected!\")"
   ]
  },
  {
   "cell_type": "markdown",
   "metadata": {
    "id": "kjmySnCBlDxg"
   },
   "source": [
    "## Hello World\n",
    "\n",
    "Louie is an agent that uses many other LLMs and agents. You can start just as if it is ChatGPT chat."
   ]
  },
  {
   "cell_type": "code",
   "execution_count": 4,
   "metadata": {
    "colab": {
     "base_uri": "https://localhost:8080/",
     "height": 398
    },
    "execution": {
     "iopub.execute_input": "2025-08-04T02:30:27.400101Z",
     "iopub.status.busy": "2025-08-04T02:30:27.399985Z",
     "iopub.status.idle": "2025-08-04T02:30:34.913670Z",
     "shell.execute_reply": "2025-08-04T02:30:34.913256Z"
    },
    "id": "_671sJKdlGTZ",
    "outputId": "951d0080-250f-47ed-faec-f8b533f8bee7"
   },
   "outputs": [
    {
     "data": {
      "text/html": [
       "<div style='border: 1px solid #ddd; padding: 15px; border-radius: 5px;'><h4 style='margin-top: 0;'>🤖 LouieAI Response</h4><div style='font-size: 0.8em; color: #666; margin-bottom: 10px;'>Thread: <code>D_LISJ0vRhgOwSJtEykymY</code> | Time: 7.5s</div><div style='margin-top: 10px;'><div id='B_2vILSHMy'>🎶 Woof woof, I'm Louie, the data dog, chasing data through the fog. With a wag of my tail and a bark so bright, I'll fetch your data day and night. Queries, graphs, and dashboards too, I'll make your data dreams come true. So let's dive in, don't delay, with Louie the data dog, we'll</div></div></div>"
      ],
      "text/plain": [
       "<IPython.core.display.HTML object>"
      ]
     },
     "metadata": {},
     "output_type": "display_data"
    },
    {
     "data": {
      "text/html": [
       "<div style='border: 1px solid #ddd; padding: 10px; border-radius: 5px; margin-bottom: 10px;'>\n",
       "<h4 style='margin-top: 0;'>🤖 LouieAI Response</h4>\n",
       "<div>🎶 Woof woof, I&#x27;m Louie, the data dog, chasing data through the fog. With a wag of my tail and a bark so bright, I&#x27;ll fetch your data day and night. Queries, graphs, and dashboards too, I&#x27;ll make your data dreams come true. So let&#x27;s dive in, don&#x27;t delay, with Louie the data dog, we&#x27;ll</div>\n",
       "<hr style='margin: 10px 0;'>\n",
       "<p style='margin: 5px 0; font-size: 0.9em;'>✅ <b>Session:</b> Active | <b>Thread ID:</b> <code>D_LISJ0vRhgOwSJtEykymY</code> | <a href='https://louie.graphistry.com/?dthread=D_LISJ0vRhgOwSJtEykymY' target='_blank'>View Thread ↗</a> | <b>Org:</b> example-org</p>\n",
       "<p style='margin: 5px 0; font-size: 0.9em;'>📚 <b>History:</b> 1 responses\n",
       " (access with <code>lui[-1]</code>, <code>lui[-2]</code>, etc.)</p>\n",
       "<p style='margin: 5px 0; font-size: 0.9em;'>🔍 <b>Traces:</b> Disabled (use <code>lui.traces = True</code> to enable)</p>\n",
       "<p><b>Latest Response:</b></p>\n",
       "<ul style='margin: 5px 0;'>\n",
       "<li>1 text element(s) - access with <code>lui.text</code> or <code>lui.texts</code></li>\n",
       "</ul>\n",
       "<details><summary><b>Quick Help</b> (click to expand)</summary>\n",
       "<pre style='margin: 10px 0; padding: 10px; background: #f5f5f5;'>\n",
       "# Make a query\n",
       "\n",
       "lui('Show me sales data from last week')\n",
       "\n",
       "\n",
       "# Control visibility\n",
       "\n",
       "lui('query', share_mode='Private')       # Default: only you\n",
       "\n",
       "lui('query', share_mode='Organization')  # Share within org\n",
       "\n",
       "lui('query', share_mode='Public')        # Share publicly\n",
       "\n",
       "\n",
       "# Access results\n",
       "\n",
       "df = lui.df          # Latest dataframe\n",
       "\n",
       "text = lui.text      # Latest text response\n",
       "\n",
       "all_dfs = lui.dfs    # All dataframes\n",
       "\n",
       "\n",
       "# History\n",
       "\n",
       "lui[-1].df           # Previous response's dataframe\n",
       "\n",
       "\n",
       "# Traces (AI reasoning)\n",
       "\n",
       "lui.traces = True    # Enable for session\n",
       "\n",
       "lui('query', traces=True)  # Enable for one query\n",
       "</pre>\n",
       "</details>\n",
       "</div>"
      ],
      "text/plain": [
       "<LouieAI Notebook Interface | Session: Active | History: 1 responses | Traces: Disabled | Latest: 1 text>"
      ]
     },
     "execution_count": 4,
     "metadata": {},
     "output_type": "execute_result"
    }
   ],
   "source": [
    "lui(\"\"\"\n",
    "\n",
    "sing me a song\n",
    "\n",
    "\"\"\")"
   ]
  },
  {
   "cell_type": "code",
   "execution_count": 5,
   "metadata": {
    "colab": {
     "base_uri": "https://localhost:8080/",
     "height": 433
    },
    "execution": {
     "iopub.execute_input": "2025-08-04T02:30:34.915040Z",
     "iopub.status.busy": "2025-08-04T02:30:34.914833Z",
     "iopub.status.idle": "2025-08-04T02:30:41.307711Z",
     "shell.execute_reply": "2025-08-04T02:30:41.307358Z"
    },
    "id": "xeSGCpuhm9yV",
    "outputId": "bac7e0e2-d349-411a-f69f-67694d6a8f50"
   },
   "outputs": [
    {
     "data": {
      "text/html": [
       "<div style='border: 1px solid #ddd; padding: 15px; border-radius: 5px;'><h4 style='margin-top: 0;'>🤖 LouieAI Response</h4><div style='font-size: 0.8em; color: #666; margin-bottom: 10px;'>Thread: <code>D_LISJ0vRhgOwSJtEykymY</code> | Time: 6.4s</div><div style='margin-top: 10px;'><div id='B_QBg5Qeb6'>🎶 Oof-way oof-way, I'm-ay Ouie-lay, the-ay ata-day og-day, asing-chay ata-day ough-thray the-ay og-fay. Ith-way a-ay ag-way of-ay y-may ail-tay and-ay a-ay ark-bay o-say ight-bray, I'll-ay etch-fay our-yay ata-day ay-day and-ay ight-nay. Ueries-qay, aphs-gray, and-ay ashboards-day oo-tay, I'll-ay ake-may our-yay ata-day eams-dray ome-cay ue-tray. O-say et's-lay ive-day in-ay, on't-day elay-day, ith-way Ouie-lay the-ay ata-day og-day, e'll-way ave</div></div></div>"
      ],
      "text/plain": [
       "<IPython.core.display.HTML object>"
      ]
     },
     "metadata": {},
     "output_type": "display_data"
    },
    {
     "data": {
      "text/html": [
       "<div style='border: 1px solid #ddd; padding: 10px; border-radius: 5px; margin-bottom: 10px;'>\n",
       "<h4 style='margin-top: 0;'>🤖 LouieAI Response</h4>\n",
       "<div>🎶 Oof-way oof-way, I&#x27;m-ay Ouie-lay, the-ay ata-day og-day, asing-chay ata-day ough-thray the-ay og-fay. Ith-way a-ay ag-way of-ay y-may ail-tay and-ay a-ay ark-bay o-say ight-bray, I&#x27;ll-ay etch-fay our-yay ata-day ay-day and-ay ight-nay. Ueries-qay, aphs-gray, and-ay ashboards-day oo-tay, I&#x27;ll-ay ake-may our-yay ata-day eams-dray ome-cay ue-tray. O-say et&#x27;s-lay ive-day in-ay, on&#x27;t-day elay-day, ith-way Ouie-lay the-ay ata-day og-day, e&#x27;ll-way ave</div>\n",
       "<hr style='margin: 10px 0;'>\n",
       "<p style='margin: 5px 0; font-size: 0.9em;'>✅ <b>Session:</b> Active | <b>Thread ID:</b> <code>D_LISJ0vRhgOwSJtEykymY</code> | <a href='https://louie.graphistry.com/?dthread=D_LISJ0vRhgOwSJtEykymY' target='_blank'>View Thread ↗</a> | <b>Org:</b> example-org</p>\n",
       "<p style='margin: 5px 0; font-size: 0.9em;'>📚 <b>History:</b> 2 responses\n",
       " (access with <code>lui[-1]</code>, <code>lui[-2]</code>, etc.)</p>\n",
       "<p style='margin: 5px 0; font-size: 0.9em;'>🔍 <b>Traces:</b> Disabled (use <code>lui.traces = True</code> to enable)</p>\n",
       "<p><b>Latest Response:</b></p>\n",
       "<ul style='margin: 5px 0;'>\n",
       "<li>1 text element(s) - access with <code>lui.text</code> or <code>lui.texts</code></li>\n",
       "</ul>\n",
       "<details><summary><b>Quick Help</b> (click to expand)</summary>\n",
       "<pre style='margin: 10px 0; padding: 10px; background: #f5f5f5;'>\n",
       "# Make a query\n",
       "\n",
       "lui('Show me sales data from last week')\n",
       "\n",
       "\n",
       "# Control visibility\n",
       "\n",
       "lui('query', share_mode='Private')       # Default: only you\n",
       "\n",
       "lui('query', share_mode='Organization')  # Share within org\n",
       "\n",
       "lui('query', share_mode='Public')        # Share publicly\n",
       "\n",
       "\n",
       "# Access results\n",
       "\n",
       "df = lui.df          # Latest dataframe\n",
       "\n",
       "text = lui.text      # Latest text response\n",
       "\n",
       "all_dfs = lui.dfs    # All dataframes\n",
       "\n",
       "\n",
       "# History\n",
       "\n",
       "lui[-1].df           # Previous response's dataframe\n",
       "\n",
       "\n",
       "# Traces (AI reasoning)\n",
       "\n",
       "lui.traces = True    # Enable for session\n",
       "\n",
       "lui('query', traces=True)  # Enable for one query\n",
       "</pre>\n",
       "</details>\n",
       "</div>"
      ],
      "text/plain": [
       "<LouieAI Notebook Interface | Session: Active | History: 2 responses | Traces: Disabled | Latest: 1 text>"
      ]
     },
     "execution_count": 5,
     "metadata": {},
     "output_type": "execute_result"
    }
   ],
   "source": [
    "lui(\"\"\"\n",
    "\n",
    "sing it again, but now in pig latin!\n",
    "\n",
    "\"\"\")"
   ]
  },
  {
   "cell_type": "code",
   "execution_count": 6,
   "metadata": {
    "colab": {
     "base_uri": "https://localhost:8080/",
     "height": 903
    },
    "execution": {
     "iopub.execute_input": "2025-08-04T02:30:41.309389Z",
     "iopub.status.busy": "2025-08-04T02:30:41.309245Z",
     "iopub.status.idle": "2025-08-04T02:30:45.529113Z",
     "shell.execute_reply": "2025-08-04T02:30:45.528677Z"
    },
    "id": "eOHMBwk6cpnz",
    "outputId": "a8deaa5b-20d6-4ed4-e6c9-5a0f9ba5c357"
   },
   "outputs": [
    {
     "data": {
      "text/html": [
       "<div style='border: 1px solid #ddd; padding: 15px; border-radius: 5px;'><h4 style='margin-top: 0;'>🤖 LouieAI Response</h4><div style='font-size: 0.8em; color: #666; margin-bottom: 10px;'>Thread: <code>D_LISJ0vRhgOwSJtEykymY</code> | Time: 4.2s</div><div style='margin-top: 10px;'><div id='B_7kzKPQfC'><div style='color: #0066cc; font-family: monospace; font-size: 0.9em;'>i LouieAgent::runner</div></div><div id='B_foKggIw_'><div style='color: #666; font-family: monospace; font-size: 0.9em;'>🐛 Input text:::\n",
       "\n",
       "back to normal, but now with traces!\n",
       "\n",
       "</div></div><div id='B__DIxWKAN'><div style='color: #666; font-family: monospace; font-size: 0.9em;'>🐛 Reading chat history. (is_prepared: True)</div></div><div id='B_dJCc_knF'><div style='color: #666; font-family: monospace; font-size: 0.9em;'>🐛 LouieAgent predict with tools: ['GraphAgent', 'CodeAgent', 'TableAIAgent', 'FirecrawlAgent', 'NotebookAgent', 'DatabricksAgent', 'MermaidAgent', 'PerspectiveAgent', 'KeplerAgent', 'SpannerAgent', 'SpannerPassthroughAgent', 'KustoAgent', 'KustoPassthroughAgent', 'Done', 'Chat'] has_recipes: True has_examples: True</div></div><div id='B_aHqyBpNT'>🎶 Woof woof, I'm Louie, the data dog, chasing data through the fog. With a wag of my tail and a bark so bright, I'll fetch your data day and night. Queries, graphs, and dashboards too, I'll make your data dreams come true. So let's dive in, don't delay, with Louie the data dog, we'll save the day! 🎶<br><br>*traces of paw prints in the data sand, leaving a</div><div id='B_kIxzq0SD'><div style='color: #0066cc; font-family: monospace; font-size: 0.9em;'>i Louie output text: 🎶 Woof woof, I'm Louie, the data dog, chasing data through the fog. With a wag of my tail and a bark so bright, I'll fetch your data day and night. Queries, graphs, and dashboards too, I'll make your data dreams come true. So let's dive in, don't delay, with Louie the data dog, we'll save the day! 🎶\n",
       "\n",
       "*traces of paw prints in the data sand, leaving a trail of insights so grand!*</div></div></div></div>"
      ],
      "text/plain": [
       "<IPython.core.display.HTML object>"
      ]
     },
     "metadata": {},
     "output_type": "display_data"
    },
    {
     "data": {
      "text/html": [
       "<div style='border: 1px solid #ddd; padding: 10px; border-radius: 5px; margin-bottom: 10px;'>\n",
       "<h4 style='margin-top: 0;'>🤖 LouieAI Response</h4>\n",
       "<div style='color: #0066cc; font-family: monospace; font-size: 0.9em;'>i LouieAgent::runner</div>\n",
       "<div style='color: #666; font-family: monospace; font-size: 0.9em;'>🐛 Input text:::\n",
       "\n",
       "back to normal, but now with traces!\n",
       "\n",
       "</div>\n",
       "<div style='color: #666; font-family: monospace; font-size: 0.9em;'>🐛 Reading chat history. (is_prepared: True)</div>\n",
       "<div style='color: #666; font-family: monospace; font-size: 0.9em;'>🐛 LouieAgent predict with tools: ['GraphAgent', 'CodeAgent', 'TableAIAgent', 'FirecrawlAgent', 'NotebookAgent', 'DatabricksAgent', 'MermaidAgent', 'PerspectiveAgent', 'KeplerAgent', 'SpannerAgent', 'SpannerPassthroughAgent', 'KustoAgent', 'KustoPassthroughAgent', 'Done', 'Chat'] has_recipes: True has_examples: True</div>\n",
       "<div>🎶 Woof woof, I&#x27;m Louie, the data dog, chasing data through the fog. With a wag of my tail and a bark so bright, I&#x27;ll fetch your data day and night. Queries, graphs, and dashboards too, I&#x27;ll make your data dreams come true. So let&#x27;s dive in, don&#x27;t delay, with Louie the data dog, we&#x27;ll save the day! 🎶</p><p>*traces of paw prints in the data sand, leaving a</div>\n",
       "<div style='color: #0066cc; font-family: monospace; font-size: 0.9em;'>i Louie output text: 🎶 Woof woof, I'm Louie, the data dog, chasing data through the fog. With a wag of my tail and a bark so bright, I'll fetch your data day and night. Queries, graphs, and dashboards too, I'll make your data dreams come true. So let's dive in, don't delay, with Louie the data dog, we'll save the day! 🎶\n",
       "\n",
       "*traces of paw prints in the data sand, leaving a trail of insights so grand!*</div>\n",
       "<hr style='margin: 10px 0;'>\n",
       "<p style='margin: 5px 0; font-size: 0.9em;'>✅ <b>Session:</b> Active | <b>Thread ID:</b> <code>D_LISJ0vRhgOwSJtEykymY</code> | <a href='https://louie.graphistry.com/?dthread=D_LISJ0vRhgOwSJtEykymY' target='_blank'>View Thread ↗</a> | <b>Org:</b> example-org</p>\n",
       "<p style='margin: 5px 0; font-size: 0.9em;'>📚 <b>History:</b> 3 responses\n",
       " (access with <code>lui[-1]</code>, <code>lui[-2]</code>, etc.)</p>\n",
       "<p style='margin: 5px 0; font-size: 0.9em;'>🔍 <b>Traces:</b> Disabled (use <code>lui.traces = True</code> to enable)</p>\n",
       "<p><b>Latest Response:</b></p>\n",
       "<ul style='margin: 5px 0;'>\n",
       "<li>1 text element(s) - access with <code>lui.text</code> or <code>lui.texts</code></li>\n",
       "</ul>\n",
       "<details><summary><b>Quick Help</b> (click to expand)</summary>\n",
       "<pre style='margin: 10px 0; padding: 10px; background: #f5f5f5;'>\n",
       "# Make a query\n",
       "\n",
       "lui('Show me sales data from last week')\n",
       "\n",
       "\n",
       "# Control visibility\n",
       "\n",
       "lui('query', share_mode='Private')       # Default: only you\n",
       "\n",
       "lui('query', share_mode='Organization')  # Share within org\n",
       "\n",
       "lui('query', share_mode='Public')        # Share publicly\n",
       "\n",
       "\n",
       "# Access results\n",
       "\n",
       "df = lui.df          # Latest dataframe\n",
       "\n",
       "text = lui.text      # Latest text response\n",
       "\n",
       "all_dfs = lui.dfs    # All dataframes\n",
       "\n",
       "\n",
       "# History\n",
       "\n",
       "lui[-1].df           # Previous response's dataframe\n",
       "\n",
       "\n",
       "# Traces (AI reasoning)\n",
       "\n",
       "lui.traces = True    # Enable for session\n",
       "\n",
       "lui('query', traces=True)  # Enable for one query\n",
       "</pre>\n",
       "</details>\n",
       "</div>"
      ],
      "text/plain": [
       "<LouieAI Notebook Interface | Session: Active | History: 3 responses | Traces: Disabled | Latest: 1 text>"
      ]
     },
     "execution_count": 6,
     "metadata": {},
     "output_type": "execute_result"
    }
   ],
   "source": [
    "lui(\n",
    "    \"\"\"\n",
    "\n",
    "back to normal, but now with traces!\n",
    "\n",
    "\"\"\",\n",
    "    traces=True,\n",
    ")"
   ]
  },
  {
   "cell_type": "markdown",
   "metadata": {
    "id": "4lEQ94TinL_v"
   },
   "source": [
    "## Use `lui` as a chat cursor\n",
    "\n",
    "The `lui` object indexes into your chat (notebook) and its artifacts\n",
    "\n",
    "You can make new chats, and add to existing"
   ]
  },
  {
   "cell_type": "code",
   "execution_count": 7,
   "metadata": {
    "colab": {
     "base_uri": "https://localhost:8080/",
     "height": 36
    },
    "execution": {
     "iopub.execute_input": "2025-08-04T02:30:45.530953Z",
     "iopub.status.busy": "2025-08-04T02:30:45.530764Z",
     "iopub.status.idle": "2025-08-04T02:30:45.533657Z",
     "shell.execute_reply": "2025-08-04T02:30:45.533312Z"
    },
    "id": "0ubEy5ElgsN8",
    "outputId": "8887ac1b-e4fe-45aa-b612-7bbba3680629"
   },
   "outputs": [
    {
     "data": {
      "text/plain": [
       "'D_LISJ0vRhgOwSJtEykymY'"
      ]
     },
     "execution_count": 7,
     "metadata": {},
     "output_type": "execute_result"
    }
   ],
   "source": [
    "lui.thread_id"
   ]
  },
  {
   "cell_type": "code",
   "execution_count": 8,
   "metadata": {
    "colab": {
     "base_uri": "https://localhost:8080/",
     "height": 216
    },
    "execution": {
     "iopub.execute_input": "2025-08-04T02:30:45.534993Z",
     "iopub.status.busy": "2025-08-04T02:30:45.534857Z",
     "iopub.status.idle": "2025-08-04T02:30:53.906402Z",
     "shell.execute_reply": "2025-08-04T02:30:53.905966Z"
    },
    "id": "y8Ky3IUdguEu",
    "outputId": "a09581b9-0a17-4ade-b1af-9bb63b5a884f"
   },
   "outputs": [
    {
     "data": {
      "text/html": [
       "<div style='border: 1px solid #ddd; padding: 15px; border-radius: 5px;'><h4 style='margin-top: 0;'>🤖 LouieAI Response</h4><div style='font-size: 0.8em; color: #666; margin-bottom: 10px;'>Thread: <code>D_RBSUJuCd_qPnyz_zr_je</code> | Time: 4.1s</div><div style='margin-top: 10px;'><div id='B_ge38jzNd'>🎶 I'm Louie, the data hound, in a cyberpunk town, chasing data trails, never backing down. With a nose for queries and a bark for code, I'll fetch insights, lighten your load. From graphs to dashboards, I'll make them shine, turning data chaos into a design. So let's embark on this data quest, with a</div></div></div>"
      ],
      "text/plain": [
       "<IPython.core.display.HTML object>"
      ]
     },
     "metadata": {},
     "output_type": "display_data"
    },
    {
     "data": {
      "text/plain": [
       "'D_RBSUJuCd_qPnyz_zr_je'"
      ]
     },
     "execution_count": 8,
     "metadata": {},
     "output_type": "execute_result"
    }
   ],
   "source": [
    "# Save old\n",
    "lui_old = lui\n",
    "\n",
    "# Fresh thread with empty history\n",
    "lui = new_thread()\n",
    "\n",
    "lui(\"sing me a new song\")\n",
    "lui(\"sing me another song\")\n",
    "\n",
    "lui.thread_id"
   ]
  },
  {
   "cell_type": "code",
   "execution_count": 9,
   "metadata": {
    "colab": {
     "base_uri": "https://localhost:8080/",
     "height": 88
    },
    "execution": {
     "iopub.execute_input": "2025-08-04T02:30:53.908087Z",
     "iopub.status.busy": "2025-08-04T02:30:53.907977Z",
     "iopub.status.idle": "2025-08-04T02:30:53.909985Z",
     "shell.execute_reply": "2025-08-04T02:30:53.909727Z"
    },
    "id": "9WV3CAxDnFgB",
    "outputId": "014ea410-75da-4cec-e9aa-2e1906f10eb0"
   },
   "outputs": [
    {
     "data": {
      "text/plain": [
       "\"🎶 I'm Louie, the data hound, in a cyberpunk town, chasing data trails, never backing down. With a nose for queries and a bark for code, I'll fetch insights, lighten your load. From graphs to dashboards, I'll make them shine, turning data chaos into a design. So let's embark on this data quest, with a\""
      ]
     },
     "execution_count": 9,
     "metadata": {},
     "output_type": "execute_result"
    }
   ],
   "source": [
    "# Latest text element in current run\n",
    "lui.text"
   ]
  },
  {
   "cell_type": "code",
   "execution_count": 10,
   "metadata": {
    "colab": {
     "base_uri": "https://localhost:8080/",
     "height": 70
    },
    "execution": {
     "iopub.execute_input": "2025-08-04T02:30:53.911253Z",
     "iopub.status.busy": "2025-08-04T02:30:53.911140Z",
     "iopub.status.idle": "2025-08-04T02:30:53.913203Z",
     "shell.execute_reply": "2025-08-04T02:30:53.912948Z"
    },
    "id": "d4Hu4BsWnZTl",
    "outputId": "038841c3-c353-4db4-c808-e5cc0696a4c7"
   },
   "outputs": [
    {
     "data": {
      "text/plain": [
       "\"🎶 Woof, woof, I'm Louie, the data dog, chasing bytes and bits, never lost in the fog. With a wag of my tail and a bark so bright, I'll fetch your data, day or night. From queries to graphs, I'll make it clear, turning data puzzles into cheer. So let's dive in, with a joyful bark, solving\""
      ]
     },
     "execution_count": 10,
     "metadata": {},
     "output_type": "execute_result"
    }
   ],
   "source": [
    "# Latest text elements in its previous run\n",
    "lui[-2].text"
   ]
  },
  {
   "cell_type": "code",
   "execution_count": 11,
   "metadata": {
    "colab": {
     "base_uri": "https://localhost:8080/",
     "height": 122
    },
    "execution": {
     "iopub.execute_input": "2025-08-04T02:30:53.914368Z",
     "iopub.status.busy": "2025-08-04T02:30:53.914263Z",
     "iopub.status.idle": "2025-08-04T02:30:53.916300Z",
     "shell.execute_reply": "2025-08-04T02:30:53.916073Z"
    },
    "id": "9GM60VPvkt3Y",
    "outputId": "214b168f-1a56-473c-f7f4-b42cacf56e53"
   },
   "outputs": [
    {
     "data": {
      "text/plain": [
       "\"🎶 Woof woof, I'm Louie, the data dog, chasing data through the fog. With a wag of my tail and a bark so bright, I'll fetch your data day and night. Queries, graphs, and dashboards too, I'll make your data dreams come true. So let's dive in, don't delay, with Louie the data dog, we'll save the day! 🎶\\n\\n*traces of paw prints in the data sand, leaving a\""
      ]
     },
     "execution_count": 11,
     "metadata": {},
     "output_type": "execute_result"
    }
   ],
   "source": [
    "# Latest text element in previous session\n",
    "lui_old.text"
   ]
  },
  {
   "cell_type": "markdown",
   "metadata": {
    "id": "klkXtwaxo5OU"
   },
   "source": [
    "## Agents"
   ]
  },
  {
   "cell_type": "markdown",
   "metadata": {
    "id": "A3JXOkL4o7RB"
   },
   "source": [
    "### Databricks SQL Passthrough\n",
    "\n",
    "Louie has databases connected and preindexed as a managed semantic layer. You can query it quickly by doing pushdown queries that skim LLMs, so more like tool calls.\n"
   ]
  },
  {
   "cell_type": "code",
   "execution_count": 12,
   "metadata": {
    "colab": {
     "base_uri": "https://localhost:8080/",
     "height": 1000
    },
    "execution": {
     "iopub.execute_input": "2025-08-04T02:30:53.917520Z",
     "iopub.status.busy": "2025-08-04T02:30:53.917420Z",
     "iopub.status.idle": "2025-08-04T02:30:56.917743Z",
     "shell.execute_reply": "2025-08-04T02:30:56.917452Z"
    },
    "id": "oduG16oZpE6P",
    "outputId": "2eedd7c2-3c4c-4ba1-a6b4-26b61af9a3b6"
   },
   "outputs": [
    {
     "data": {
      "text/html": [
       "<div style='border: 1px solid #ddd; padding: 15px; border-radius: 5px;'><h4 style='margin-top: 0;'>🤖 LouieAI Response</h4><div style='font-size: 0.8em; color: #666; margin-bottom: 10px;'>Thread: <code>D_RBSUJuCd_qPnyz_zr_je</code> | Time: 2.2s</div><div style='margin-top: 10px;'><div id='B_T8kxjoiP'>fetching data</div><div id='B_yi3qXtKj'>SELECT * FROM `client_demos`.`botsv3`.`o365_management_activity_flat_tcook`<br>    LIMIT 10</div><div id='B_I52HplM1'><div style='background: #f0f0f0; padding: 5px; margin: 5px 0;'>📊 DataFrame: B_I52HplM1 (shape: 10 x 25)</div></div></div></div>"
      ],
      "text/plain": [
       "<IPython.core.display.HTML object>"
      ]
     },
     "metadata": {},
     "output_type": "display_data"
    },
    {
     "data": {
      "text/html": [
       "<div style='border: 1px solid #ddd; padding: 10px; border-radius: 5px; margin-bottom: 10px;'>\n",
       "<h4 style='margin-top: 0;'>🤖 LouieAI Response</h4>\n",
       "<div>fetching data</div>\n",
       "<div>SELECT * FROM `client_demos`.`botsv3`.`o365_management_activity_flat_tcook`<br>    LIMIT 10</div>\n",
       "<div>\n",
       "<style scoped>\n",
       "    .dataframe tbody tr th:only-of-type {\n",
       "        vertical-align: middle;\n",
       "    }\n",
       "\n",
       "    .dataframe tbody tr th {\n",
       "        vertical-align: top;\n",
       "    }\n",
       "\n",
       "    .dataframe thead th {\n",
       "        text-align: right;\n",
       "    }\n",
       "</style>\n",
       "<table border=\"1\" class=\"dataframe\">\n",
       "  <thead>\n",
       "    <tr style=\"text-align: right;\">\n",
       "      <th></th>\n",
       "      <th>ClientIP</th>\n",
       "      <th>CorrelationId</th>\n",
       "      <th>CreationTime</th>\n",
       "      <th>EventSource</th>\n",
       "      <th>Id</th>\n",
       "      <th>ImplicitShare</th>\n",
       "      <th>ItemType</th>\n",
       "      <th>ListId</th>\n",
       "      <th>ListItemUniqueId</th>\n",
       "      <th>ObjectId</th>\n",
       "      <th>...</th>\n",
       "      <th>SourceFileExtension</th>\n",
       "      <th>SourceFileName</th>\n",
       "      <th>SourceRelativeUrl</th>\n",
       "      <th>UserAgent</th>\n",
       "      <th>UserId</th>\n",
       "      <th>UserKey</th>\n",
       "      <th>UserType</th>\n",
       "      <th>Version</th>\n",
       "      <th>WebId</th>\n",
       "      <th>Workload</th>\n",
       "    </tr>\n",
       "  </thead>\n",
       "  <tbody>\n",
       "    <tr>\n",
       "      <th>0</th>\n",
       "      <td>107.77.213.173</td>\n",
       "      <td>9e627e9e-d0dd-6000-daf9-da44fcd45d4e</td>\n",
       "      <td>2018-08-20T13:16:56</td>\n",
       "      <td>SharePoint</td>\n",
       "      <td>8a1fd9ad-95d3-4bea-a806-08d5f28ec619</td>\n",
       "      <td>No</td>\n",
       "      <td>File</td>\n",
       "      <td>67091393-e290-421e-ac6a-2734e2b12a94</td>\n",
       "      <td>37ab8c26-f775-4a03-97b3-074c81a00f33</td>\n",
       "      <td>https://frothly-my.sharepoint.com/personal/fyo...</td>\n",
       "      <td>...</td>\n",
       "      <td>pdf</td>\n",
       "      <td>beverages-02-00034-v2.pdf</td>\n",
       "      <td>Documents</td>\n",
       "      <td>OneDriveMpc/1.0</td>\n",
       "      <td>fyodor@froth.ly</td>\n",
       "      <td>i:0h.f|membership|1003bffda2e71ff9@live.com</td>\n",
       "      <td>0</td>\n",
       "      <td>1</td>\n",
       "      <td>7acb35b6-e1ec-44ed-9099-38580e330ed0</td>\n",
       "      <td>OneDrive</td>\n",
       "    </tr>\n",
       "    <tr>\n",
       "      <th>1</th>\n",
       "      <td>107.77.213.173</td>\n",
       "      <td>9e627e9e-60d3-6000-32f0-2235e1b3a20b</td>\n",
       "      <td>2018-08-20T13:16:56</td>\n",
       "      <td>SharePoint</td>\n",
       "      <td>7d1dd9e0-63b3-4277-7a03-08d5f28ec5e3</td>\n",
       "      <td>No</td>\n",
       "      <td>File</td>\n",
       "      <td>67091393-e290-421e-ac6a-2734e2b12a94</td>\n",
       "      <td>bb017930-2bf5-4953-b38a-716ba3217703</td>\n",
       "      <td>https://frothly-my.sharepoint.com/personal/fyo...</td>\n",
       "      <td>...</td>\n",
       "      <td>pdf</td>\n",
       "      <td>craftbeerdotcom-beer-styles.pdf</td>\n",
       "      <td>Documents</td>\n",
       "      <td>OneDriveMpc/1.0</td>\n",
       "      <td>fyodor@froth.ly</td>\n",
       "      <td>i:0h.f|membership|1003bffda2e71ff9@live.com</td>\n",
       "      <td>0</td>\n",
       "      <td>1</td>\n",
       "      <td>7acb35b6-e1ec-44ed-9099-38580e330ed0</td>\n",
       "      <td>OneDrive</td>\n",
       "    </tr>\n",
       "    <tr>\n",
       "      <th>2</th>\n",
       "      <td>107.77.213.173</td>\n",
       "      <td>9e627e9e-a0db-6000-daf9-da5a21ed5a92</td>\n",
       "      <td>2018-08-20T13:16:56</td>\n",
       "      <td>SharePoint</td>\n",
       "      <td>f5ad6c89-25b3-420c-f889-08d5f28ec656</td>\n",
       "      <td>No</td>\n",
       "      <td>File</td>\n",
       "      <td>67091393-e290-421e-ac6a-2734e2b12a94</td>\n",
       "      <td>456e3291-27ad-455e-9cb7-a01722ffa0fa</td>\n",
       "      <td>https://frothly-my.sharepoint.com/personal/fyo...</td>\n",
       "      <td>...</td>\n",
       "      <td>pdf</td>\n",
       "      <td>fundamental of beer and hop chemistry.pdf</td>\n",
       "      <td>Documents</td>\n",
       "      <td>OneDriveMpc/1.0</td>\n",
       "      <td>fyodor@froth.ly</td>\n",
       "      <td>i:0h.f|membership|1003bffda2e71ff9@live.com</td>\n",
       "      <td>0</td>\n",
       "      <td>1</td>\n",
       "      <td>7acb35b6-e1ec-44ed-9099-38580e330ed0</td>\n",
       "      <td>OneDrive</td>\n",
       "    </tr>\n",
       "    <tr>\n",
       "      <th>3</th>\n",
       "      <td>40.97.148.181</td>\n",
       "      <td>fa2fd17c-daf8-4062-8f87-d411eb537314</td>\n",
       "      <td>2018-08-20T13:16:54</td>\n",
       "      <td>SharePoint</td>\n",
       "      <td>0ad166f0-5312-4e35-e017-08d5f28ec4fb</td>\n",
       "      <td>None</td>\n",
       "      <td>Web</td>\n",
       "      <td>None</td>\n",
       "      <td>None</td>\n",
       "      <td>fa2fd17c-daf8-4062-8f87-d411eb537314</td>\n",
       "      <td>...</td>\n",
       "      <td>None</td>\n",
       "      <td>None</td>\n",
       "      <td>None</td>\n",
       "      <td>Substrate Search 1.0</td>\n",
       "      <td>fyodor@froth.ly</td>\n",
       "      <td>i:0h.f|membership|1003bffda2e71ff9@live.com</td>\n",
       "      <td>0</td>\n",
       "      <td>1</td>\n",
       "      <td>None</td>\n",
       "      <td>SharePoint</td>\n",
       "    </tr>\n",
       "    <tr>\n",
       "      <th>4</th>\n",
       "      <td>104.238.59.42</td>\n",
       "      <td>0a627e9e-f0d0-6000-daf9-dc8f468313e3</td>\n",
       "      <td>2018-08-20T13:06:50</td>\n",
       "      <td>SharePoint</td>\n",
       "      <td>9b5ad97e-f03f-4648-a536-08d5f28d5cad</td>\n",
       "      <td>None</td>\n",
       "      <td>File</td>\n",
       "      <td>67091393-e290-421e-ac6a-2734e2b12a94</td>\n",
       "      <td>d2c4bb13-c97e-4707-9e9b-53dc0e2513b5</td>\n",
       "      <td>https://frothly-my.sharepoint.com/personal/pce...</td>\n",
       "      <td>...</td>\n",
       "      <td>pptx</td>\n",
       "      <td>Beer styles.pptx</td>\n",
       "      <td>Documents</td>\n",
       "      <td>Microsoft Office PowerPoint 2014</td>\n",
       "      <td>pcerf@froth.ly</td>\n",
       "      <td>i:0h.f|membership|1003bffdac730049@live.com</td>\n",
       "      <td>0</td>\n",
       "      <td>1</td>\n",
       "      <td>7acb35b6-e1ec-44ed-9099-38580e330ed0</td>\n",
       "      <td>OneDrive</td>\n",
       "    </tr>\n",
       "    <tr>\n",
       "      <th>5</th>\n",
       "      <td>65.52.243.21</td>\n",
       "      <td>fb617e9e-c0c7-6000-32f0-2e462ff7bbde</td>\n",
       "      <td>2018-08-20T13:05:48</td>\n",
       "      <td>SharePoint</td>\n",
       "      <td>4b143e6d-91b0-4b07-7253-08d5f28d37c3</td>\n",
       "      <td>None</td>\n",
       "      <td>List</td>\n",
       "      <td>67091393-e290-421e-ac6a-2734e2b12a94</td>\n",
       "      <td>None</td>\n",
       "      <td>https://frothly-my.sharepoint.com/personal/pce...</td>\n",
       "      <td>...</td>\n",
       "      <td>None</td>\n",
       "      <td>None</td>\n",
       "      <td>None</td>\n",
       "      <td>ODMTADocCache/1.0</td>\n",
       "      <td>app@sharepoint</td>\n",
       "      <td>i:0i.t|00000003-0000-0ff1-ce00-000000000000|ap...</td>\n",
       "      <td>0</td>\n",
       "      <td>1</td>\n",
       "      <td>7acb35b6-e1ec-44ed-9099-38580e330ed0</td>\n",
       "      <td>OneDrive</td>\n",
       "    </tr>\n",
       "    <tr>\n",
       "      <th>6</th>\n",
       "      <td>104.238.59.42</td>\n",
       "      <td>f9617e9e-f0de-6000-32f0-299be8e0a683</td>\n",
       "      <td>2018-08-20T13:05:40</td>\n",
       "      <td>SharePoint</td>\n",
       "      <td>a1cac3e4-3102-4e0c-d258-08d5f28d3331</td>\n",
       "      <td>No</td>\n",
       "      <td>File</td>\n",
       "      <td>67091393-e290-421e-ac6a-2734e2b12a94</td>\n",
       "      <td>d2c4bb13-c97e-4707-9e9b-53dc0e2513b5</td>\n",
       "      <td>https://frothly-my.sharepoint.com/personal/pce...</td>\n",
       "      <td>...</td>\n",
       "      <td>pptx</td>\n",
       "      <td>Beer styles.pptx</td>\n",
       "      <td>Documents</td>\n",
       "      <td>Microsoft Office PowerPoint 2014</td>\n",
       "      <td>pcerf@froth.ly</td>\n",
       "      <td>i:0h.f|membership|1003bffdac730049@live.com</td>\n",
       "      <td>0</td>\n",
       "      <td>1</td>\n",
       "      <td>7acb35b6-e1ec-44ed-9099-38580e330ed0</td>\n",
       "      <td>OneDrive</td>\n",
       "    </tr>\n",
       "    <tr>\n",
       "      <th>7</th>\n",
       "      <td>104.238.59.42</td>\n",
       "      <td>f8617e9e-a0d4-6000-3667-381044fbe5d3</td>\n",
       "      <td>2018-08-20T13:05:36</td>\n",
       "      <td>SharePoint</td>\n",
       "      <td>7d6f73bd-f3c3-4c95-7b24-08d5f28d30de</td>\n",
       "      <td>None</td>\n",
       "      <td>File</td>\n",
       "      <td>67091393-e290-421e-ac6a-2734e2b12a94</td>\n",
       "      <td>d2c4bb13-c97e-4707-9e9b-53dc0e2513b5</td>\n",
       "      <td>https://frothly-my.sharepoint.com/personal/pce...</td>\n",
       "      <td>...</td>\n",
       "      <td>pptx</td>\n",
       "      <td>Beer styles.pptx</td>\n",
       "      <td>Documents</td>\n",
       "      <td>Microsoft Office PowerPoint 2014</td>\n",
       "      <td>pcerf@froth.ly</td>\n",
       "      <td>i:0h.f|membership|1003bffdac730049@live.com</td>\n",
       "      <td>0</td>\n",
       "      <td>1</td>\n",
       "      <td>7acb35b6-e1ec-44ed-9099-38580e330ed0</td>\n",
       "      <td>OneDrive</td>\n",
       "    </tr>\n",
       "    <tr>\n",
       "      <th>8</th>\n",
       "      <td>199.66.91.253</td>\n",
       "      <td>08557e9e-2041-6000-daf9-d90e9f2c1023</td>\n",
       "      <td>2018-08-20T11:55:22</td>\n",
       "      <td>SharePoint</td>\n",
       "      <td>d7ee3d62-60cb-427b-b0db-08d5f26d99f1</td>\n",
       "      <td>No</td>\n",
       "      <td>File</td>\n",
       "      <td>67091393-e290-421e-ac6a-2734e2b12a94</td>\n",
       "      <td>57c5cd78-2a0f-42ee-8dab-afce305ec89e</td>\n",
       "      <td>https://frothly-my.sharepoint.com/personal/fyo...</td>\n",
       "      <td>...</td>\n",
       "      <td>tar</td>\n",
       "      <td>archive.tar</td>\n",
       "      <td>Documents</td>\n",
       "      <td>Mozilla/5.0 (Macintosh; Intel Mac OS X 10_12_6...</td>\n",
       "      <td>fyodor@froth.ly</td>\n",
       "      <td>i:0h.f|membership|1003bffda2e71ff9@live.com</td>\n",
       "      <td>0</td>\n",
       "      <td>1</td>\n",
       "      <td>7acb35b6-e1ec-44ed-9099-38580e330ed0</td>\n",
       "      <td>OneDrive</td>\n",
       "    </tr>\n",
       "    <tr>\n",
       "      <th>9</th>\n",
       "      <td>199.66.91.253</td>\n",
       "      <td>fc547e9e-f0c2-6000-1d75-39268176f5e6</td>\n",
       "      <td>2018-08-20T11:54:35</td>\n",
       "      <td>SharePoint</td>\n",
       "      <td>cf2ae00e-0efc-41e5-d0dc-08d5f26d7e46</td>\n",
       "      <td>Yes</td>\n",
       "      <td>File</td>\n",
       "      <td>76079ea8-0a58-414e-b493-8580089c8419</td>\n",
       "      <td>7ba794f0-38aa-45d8-8d2a-3c932e87e4f5</td>\n",
       "      <td>https://frothly-my.sharepoint.com/User Photos/...</td>\n",
       "      <td>...</td>\n",
       "      <td>jpg</td>\n",
       "      <td>fyodor_froth_ly_SThumb.jpg</td>\n",
       "      <td>User Photos/Profile Pictures</td>\n",
       "      <td>Mozilla/5.0 (Macintosh; Intel Mac OS X 10_12_6...</td>\n",
       "      <td>fyodor@froth.ly</td>\n",
       "      <td>i:0h.f|membership|1003bffda2e71ff9@live.com</td>\n",
       "      <td>0</td>\n",
       "      <td>1</td>\n",
       "      <td>3b605151-ac0a-46ff-9e16-14e04be8a8a1</td>\n",
       "      <td>SharePoint</td>\n",
       "    </tr>\n",
       "  </tbody>\n",
       "</table>\n",
       "<p>10 rows × 25 columns</p>\n",
       "</div>\n",
       "<hr style='margin: 10px 0;'>\n",
       "<p style='margin: 5px 0; font-size: 0.9em;'>✅ <b>Session:</b> Active | <b>Thread ID:</b> <code>D_RBSUJuCd_qPnyz_zr_je</code> | <a href='https://louie.graphistry.com/?dthread=D_RBSUJuCd_qPnyz_zr_je' target='_blank'>View Thread ↗</a> | <b>Org:</b> example-org</p>\n",
       "<p style='margin: 5px 0; font-size: 0.9em;'>📚 <b>History:</b> 3 responses\n",
       " (access with <code>lui[-1]</code>, <code>lui[-2]</code>, etc.)</p>\n",
       "<p style='margin: 5px 0; font-size: 0.9em;'>🔍 <b>Traces:</b> Disabled (use <code>lui.traces = True</code> to enable)</p>\n",
       "<p><b>Latest Response:</b></p>\n",
       "<ul style='margin: 5px 0;'>\n",
       "<li>2 text element(s) - access with <code>lui.text</code> or <code>lui.texts</code></li>\n",
       "<li>1 dataframe(s) - access with <code>lui.df</code> or <code>lui.dfs</code></li>\n",
       "</ul>\n",
       "<details><summary><b>Quick Help</b> (click to expand)</summary>\n",
       "<pre style='margin: 10px 0; padding: 10px; background: #f5f5f5;'>\n",
       "# Make a query\n",
       "\n",
       "lui('Show me sales data from last week')\n",
       "\n",
       "\n",
       "# Control visibility\n",
       "\n",
       "lui('query', share_mode='Private')       # Default: only you\n",
       "\n",
       "lui('query', share_mode='Organization')  # Share within org\n",
       "\n",
       "lui('query', share_mode='Public')        # Share publicly\n",
       "\n",
       "\n",
       "# Access results\n",
       "\n",
       "df = lui.df          # Latest dataframe\n",
       "\n",
       "text = lui.text      # Latest text response\n",
       "\n",
       "all_dfs = lui.dfs    # All dataframes\n",
       "\n",
       "\n",
       "# History\n",
       "\n",
       "lui[-1].df           # Previous response's dataframe\n",
       "\n",
       "\n",
       "# Traces (AI reasoning)\n",
       "\n",
       "lui.traces = True    # Enable for session\n",
       "\n",
       "lui('query', traces=True)  # Enable for one query\n",
       "</pre>\n",
       "</details>\n",
       "</div>"
      ],
      "text/plain": [
       "<LouieAI Notebook Interface | Session: Active | History: 3 responses | Traces: Disabled | Latest: 2 text, 1 dataframe>"
      ]
     },
     "execution_count": 12,
     "metadata": {},
     "output_type": "execute_result"
    }
   ],
   "source": [
    "lui(\n",
    "    \"\"\"SELECT * FROM `client_demos`.`botsv3`.`o365_management_activity_flat_tcook`\n",
    "    LIMIT 10\"\"\",\n",
    "    agent=\"DatabricksPassthroughAgent\",\n",
    ")"
   ]
  },
  {
   "cell_type": "code",
   "execution_count": 13,
   "metadata": {
    "colab": {
     "base_uri": "https://localhost:8080/",
     "height": 383
    },
    "execution": {
     "iopub.execute_input": "2025-08-04T02:30:56.919139Z",
     "iopub.status.busy": "2025-08-04T02:30:56.919024Z",
     "iopub.status.idle": "2025-08-04T02:30:56.930047Z",
     "shell.execute_reply": "2025-08-04T02:30:56.929806Z"
    },
    "id": "EnvROqbNp0lx",
    "outputId": "11978bac-bcce-48db-ac39-0599a9c7a95c"
   },
   "outputs": [
    {
     "data": {
      "text/html": [
       "<div>\n",
       "<style scoped>\n",
       "    .dataframe tbody tr th:only-of-type {\n",
       "        vertical-align: middle;\n",
       "    }\n",
       "\n",
       "    .dataframe tbody tr th {\n",
       "        vertical-align: top;\n",
       "    }\n",
       "\n",
       "    .dataframe thead th {\n",
       "        text-align: right;\n",
       "    }\n",
       "</style>\n",
       "<table border=\"1\" class=\"dataframe\">\n",
       "  <thead>\n",
       "    <tr style=\"text-align: right;\">\n",
       "      <th></th>\n",
       "      <th>ClientIP</th>\n",
       "      <th>CorrelationId</th>\n",
       "      <th>CreationTime</th>\n",
       "      <th>EventSource</th>\n",
       "      <th>Id</th>\n",
       "      <th>ImplicitShare</th>\n",
       "      <th>ItemType</th>\n",
       "      <th>ListId</th>\n",
       "      <th>ListItemUniqueId</th>\n",
       "      <th>ObjectId</th>\n",
       "      <th>...</th>\n",
       "      <th>SourceFileExtension</th>\n",
       "      <th>SourceFileName</th>\n",
       "      <th>SourceRelativeUrl</th>\n",
       "      <th>UserAgent</th>\n",
       "      <th>UserId</th>\n",
       "      <th>UserKey</th>\n",
       "      <th>UserType</th>\n",
       "      <th>Version</th>\n",
       "      <th>WebId</th>\n",
       "      <th>Workload</th>\n",
       "    </tr>\n",
       "  </thead>\n",
       "  <tbody>\n",
       "    <tr>\n",
       "      <th>5</th>\n",
       "      <td>65.52.243.21</td>\n",
       "      <td>fb617e9e-c0c7-6000-32f0-2e462ff7bbde</td>\n",
       "      <td>2018-08-20T13:05:48</td>\n",
       "      <td>SharePoint</td>\n",
       "      <td>4b143e6d-91b0-4b07-7253-08d5f28d37c3</td>\n",
       "      <td>None</td>\n",
       "      <td>List</td>\n",
       "      <td>67091393-e290-421e-ac6a-2734e2b12a94</td>\n",
       "      <td>None</td>\n",
       "      <td>https://frothly-my.sharepoint.com/personal/pce...</td>\n",
       "      <td>...</td>\n",
       "      <td>None</td>\n",
       "      <td>None</td>\n",
       "      <td>None</td>\n",
       "      <td>ODMTADocCache/1.0</td>\n",
       "      <td>app@sharepoint</td>\n",
       "      <td>i:0i.t|00000003-0000-0ff1-ce00-000000000000|ap...</td>\n",
       "      <td>0</td>\n",
       "      <td>1</td>\n",
       "      <td>7acb35b6-e1ec-44ed-9099-38580e330ed0</td>\n",
       "      <td>OneDrive</td>\n",
       "    </tr>\n",
       "    <tr>\n",
       "      <th>4</th>\n",
       "      <td>104.238.59.42</td>\n",
       "      <td>0a627e9e-f0d0-6000-daf9-dc8f468313e3</td>\n",
       "      <td>2018-08-20T13:06:50</td>\n",
       "      <td>SharePoint</td>\n",
       "      <td>9b5ad97e-f03f-4648-a536-08d5f28d5cad</td>\n",
       "      <td>None</td>\n",
       "      <td>File</td>\n",
       "      <td>67091393-e290-421e-ac6a-2734e2b12a94</td>\n",
       "      <td>d2c4bb13-c97e-4707-9e9b-53dc0e2513b5</td>\n",
       "      <td>https://frothly-my.sharepoint.com/personal/pce...</td>\n",
       "      <td>...</td>\n",
       "      <td>pptx</td>\n",
       "      <td>Beer styles.pptx</td>\n",
       "      <td>Documents</td>\n",
       "      <td>Microsoft Office PowerPoint 2014</td>\n",
       "      <td>pcerf@froth.ly</td>\n",
       "      <td>i:0h.f|membership|1003bffdac730049@live.com</td>\n",
       "      <td>0</td>\n",
       "      <td>1</td>\n",
       "      <td>7acb35b6-e1ec-44ed-9099-38580e330ed0</td>\n",
       "      <td>OneDrive</td>\n",
       "    </tr>\n",
       "    <tr>\n",
       "      <th>6</th>\n",
       "      <td>104.238.59.42</td>\n",
       "      <td>f9617e9e-f0de-6000-32f0-299be8e0a683</td>\n",
       "      <td>2018-08-20T13:05:40</td>\n",
       "      <td>SharePoint</td>\n",
       "      <td>a1cac3e4-3102-4e0c-d258-08d5f28d3331</td>\n",
       "      <td>No</td>\n",
       "      <td>File</td>\n",
       "      <td>67091393-e290-421e-ac6a-2734e2b12a94</td>\n",
       "      <td>d2c4bb13-c97e-4707-9e9b-53dc0e2513b5</td>\n",
       "      <td>https://frothly-my.sharepoint.com/personal/pce...</td>\n",
       "      <td>...</td>\n",
       "      <td>pptx</td>\n",
       "      <td>Beer styles.pptx</td>\n",
       "      <td>Documents</td>\n",
       "      <td>Microsoft Office PowerPoint 2014</td>\n",
       "      <td>pcerf@froth.ly</td>\n",
       "      <td>i:0h.f|membership|1003bffdac730049@live.com</td>\n",
       "      <td>0</td>\n",
       "      <td>1</td>\n",
       "      <td>7acb35b6-e1ec-44ed-9099-38580e330ed0</td>\n",
       "      <td>OneDrive</td>\n",
       "    </tr>\n",
       "  </tbody>\n",
       "</table>\n",
       "<p>3 rows × 25 columns</p>\n",
       "</div>"
      ],
      "text/plain": [
       "        ClientIP                         CorrelationId         CreationTime  \\\n",
       "5   65.52.243.21  fb617e9e-c0c7-6000-32f0-2e462ff7bbde  2018-08-20T13:05:48   \n",
       "4  104.238.59.42  0a627e9e-f0d0-6000-daf9-dc8f468313e3  2018-08-20T13:06:50   \n",
       "6  104.238.59.42  f9617e9e-f0de-6000-32f0-299be8e0a683  2018-08-20T13:05:40   \n",
       "\n",
       "  EventSource                                    Id ImplicitShare ItemType  \\\n",
       "5  SharePoint  4b143e6d-91b0-4b07-7253-08d5f28d37c3          None     List   \n",
       "4  SharePoint  9b5ad97e-f03f-4648-a536-08d5f28d5cad          None     File   \n",
       "6  SharePoint  a1cac3e4-3102-4e0c-d258-08d5f28d3331            No     File   \n",
       "\n",
       "                                 ListId                      ListItemUniqueId  \\\n",
       "5  67091393-e290-421e-ac6a-2734e2b12a94                                  None   \n",
       "4  67091393-e290-421e-ac6a-2734e2b12a94  d2c4bb13-c97e-4707-9e9b-53dc0e2513b5   \n",
       "6  67091393-e290-421e-ac6a-2734e2b12a94  d2c4bb13-c97e-4707-9e9b-53dc0e2513b5   \n",
       "\n",
       "                                            ObjectId  ... SourceFileExtension  \\\n",
       "5  https://frothly-my.sharepoint.com/personal/pce...  ...                None   \n",
       "4  https://frothly-my.sharepoint.com/personal/pce...  ...                pptx   \n",
       "6  https://frothly-my.sharepoint.com/personal/pce...  ...                pptx   \n",
       "\n",
       "     SourceFileName  SourceRelativeUrl                         UserAgent  \\\n",
       "5              None               None                 ODMTADocCache/1.0   \n",
       "4  Beer styles.pptx          Documents  Microsoft Office PowerPoint 2014   \n",
       "6  Beer styles.pptx          Documents  Microsoft Office PowerPoint 2014   \n",
       "\n",
       "           UserId                                            UserKey UserType  \\\n",
       "5  app@sharepoint  i:0i.t|00000003-0000-0ff1-ce00-000000000000|ap...        0   \n",
       "4  pcerf@froth.ly        i:0h.f|membership|1003bffdac730049@live.com        0   \n",
       "6  pcerf@froth.ly        i:0h.f|membership|1003bffdac730049@live.com        0   \n",
       "\n",
       "  Version                                 WebId  Workload  \n",
       "5       1  7acb35b6-e1ec-44ed-9099-38580e330ed0  OneDrive  \n",
       "4       1  7acb35b6-e1ec-44ed-9099-38580e330ed0  OneDrive  \n",
       "6       1  7acb35b6-e1ec-44ed-9099-38580e330ed0  OneDrive  \n",
       "\n",
       "[3 rows x 25 columns]"
      ]
     },
     "execution_count": 13,
     "metadata": {},
     "output_type": "execute_result"
    }
   ],
   "source": [
    "## Quick reference of latest dataframe\n",
    "lui.df.sample(3)"
   ]
  },
  {
   "cell_type": "code",
   "execution_count": 14,
   "metadata": {
    "colab": {
     "base_uri": "https://localhost:8080/",
     "height": 933
    },
    "execution": {
     "iopub.execute_input": "2025-08-04T02:30:56.931183Z",
     "iopub.status.busy": "2025-08-04T02:30:56.931070Z",
     "iopub.status.idle": "2025-08-04T02:30:56.938812Z",
     "shell.execute_reply": "2025-08-04T02:30:56.938475Z"
    },
    "id": "f9QKJM2LSTII",
    "outputId": "5a2fdb4b-1dd1-4f51-b090-02094307a9f2"
   },
   "outputs": [
    {
     "data": {
      "text/html": [
       "<div>\n",
       "<style scoped>\n",
       "    .dataframe tbody tr th:only-of-type {\n",
       "        vertical-align: middle;\n",
       "    }\n",
       "\n",
       "    .dataframe tbody tr th {\n",
       "        vertical-align: top;\n",
       "    }\n",
       "\n",
       "    .dataframe thead th {\n",
       "        text-align: right;\n",
       "    }\n",
       "</style>\n",
       "<table border=\"1\" class=\"dataframe\">\n",
       "  <thead>\n",
       "    <tr style=\"text-align: right;\">\n",
       "      <th></th>\n",
       "      <th>ClientIP</th>\n",
       "      <th>CorrelationId</th>\n",
       "      <th>CreationTime</th>\n",
       "      <th>EventSource</th>\n",
       "      <th>Id</th>\n",
       "      <th>ImplicitShare</th>\n",
       "      <th>ItemType</th>\n",
       "      <th>ListId</th>\n",
       "      <th>ListItemUniqueId</th>\n",
       "      <th>ObjectId</th>\n",
       "      <th>...</th>\n",
       "      <th>SourceFileExtension</th>\n",
       "      <th>SourceFileName</th>\n",
       "      <th>SourceRelativeUrl</th>\n",
       "      <th>UserAgent</th>\n",
       "      <th>UserId</th>\n",
       "      <th>UserKey</th>\n",
       "      <th>UserType</th>\n",
       "      <th>Version</th>\n",
       "      <th>WebId</th>\n",
       "      <th>Workload</th>\n",
       "    </tr>\n",
       "  </thead>\n",
       "  <tbody>\n",
       "    <tr>\n",
       "      <th>0</th>\n",
       "      <td>107.77.213.173</td>\n",
       "      <td>9e627e9e-d0dd-6000-daf9-da44fcd45d4e</td>\n",
       "      <td>2018-08-20T13:16:56</td>\n",
       "      <td>SharePoint</td>\n",
       "      <td>8a1fd9ad-95d3-4bea-a806-08d5f28ec619</td>\n",
       "      <td>No</td>\n",
       "      <td>File</td>\n",
       "      <td>67091393-e290-421e-ac6a-2734e2b12a94</td>\n",
       "      <td>37ab8c26-f775-4a03-97b3-074c81a00f33</td>\n",
       "      <td>https://frothly-my.sharepoint.com/personal/fyo...</td>\n",
       "      <td>...</td>\n",
       "      <td>pdf</td>\n",
       "      <td>beverages-02-00034-v2.pdf</td>\n",
       "      <td>Documents</td>\n",
       "      <td>OneDriveMpc/1.0</td>\n",
       "      <td>fyodor@froth.ly</td>\n",
       "      <td>i:0h.f|membership|1003bffda2e71ff9@live.com</td>\n",
       "      <td>0</td>\n",
       "      <td>1</td>\n",
       "      <td>7acb35b6-e1ec-44ed-9099-38580e330ed0</td>\n",
       "      <td>OneDrive</td>\n",
       "    </tr>\n",
       "    <tr>\n",
       "      <th>1</th>\n",
       "      <td>107.77.213.173</td>\n",
       "      <td>9e627e9e-60d3-6000-32f0-2235e1b3a20b</td>\n",
       "      <td>2018-08-20T13:16:56</td>\n",
       "      <td>SharePoint</td>\n",
       "      <td>7d1dd9e0-63b3-4277-7a03-08d5f28ec5e3</td>\n",
       "      <td>No</td>\n",
       "      <td>File</td>\n",
       "      <td>67091393-e290-421e-ac6a-2734e2b12a94</td>\n",
       "      <td>bb017930-2bf5-4953-b38a-716ba3217703</td>\n",
       "      <td>https://frothly-my.sharepoint.com/personal/fyo...</td>\n",
       "      <td>...</td>\n",
       "      <td>pdf</td>\n",
       "      <td>craftbeerdotcom-beer-styles.pdf</td>\n",
       "      <td>Documents</td>\n",
       "      <td>OneDriveMpc/1.0</td>\n",
       "      <td>fyodor@froth.ly</td>\n",
       "      <td>i:0h.f|membership|1003bffda2e71ff9@live.com</td>\n",
       "      <td>0</td>\n",
       "      <td>1</td>\n",
       "      <td>7acb35b6-e1ec-44ed-9099-38580e330ed0</td>\n",
       "      <td>OneDrive</td>\n",
       "    </tr>\n",
       "    <tr>\n",
       "      <th>2</th>\n",
       "      <td>107.77.213.173</td>\n",
       "      <td>9e627e9e-a0db-6000-daf9-da5a21ed5a92</td>\n",
       "      <td>2018-08-20T13:16:56</td>\n",
       "      <td>SharePoint</td>\n",
       "      <td>f5ad6c89-25b3-420c-f889-08d5f28ec656</td>\n",
       "      <td>No</td>\n",
       "      <td>File</td>\n",
       "      <td>67091393-e290-421e-ac6a-2734e2b12a94</td>\n",
       "      <td>456e3291-27ad-455e-9cb7-a01722ffa0fa</td>\n",
       "      <td>https://frothly-my.sharepoint.com/personal/fyo...</td>\n",
       "      <td>...</td>\n",
       "      <td>pdf</td>\n",
       "      <td>fundamental of beer and hop chemistry.pdf</td>\n",
       "      <td>Documents</td>\n",
       "      <td>OneDriveMpc/1.0</td>\n",
       "      <td>fyodor@froth.ly</td>\n",
       "      <td>i:0h.f|membership|1003bffda2e71ff9@live.com</td>\n",
       "      <td>0</td>\n",
       "      <td>1</td>\n",
       "      <td>7acb35b6-e1ec-44ed-9099-38580e330ed0</td>\n",
       "      <td>OneDrive</td>\n",
       "    </tr>\n",
       "    <tr>\n",
       "      <th>3</th>\n",
       "      <td>40.97.148.181</td>\n",
       "      <td>fa2fd17c-daf8-4062-8f87-d411eb537314</td>\n",
       "      <td>2018-08-20T13:16:54</td>\n",
       "      <td>SharePoint</td>\n",
       "      <td>0ad166f0-5312-4e35-e017-08d5f28ec4fb</td>\n",
       "      <td>None</td>\n",
       "      <td>Web</td>\n",
       "      <td>None</td>\n",
       "      <td>None</td>\n",
       "      <td>fa2fd17c-daf8-4062-8f87-d411eb537314</td>\n",
       "      <td>...</td>\n",
       "      <td>None</td>\n",
       "      <td>None</td>\n",
       "      <td>None</td>\n",
       "      <td>Substrate Search 1.0</td>\n",
       "      <td>fyodor@froth.ly</td>\n",
       "      <td>i:0h.f|membership|1003bffda2e71ff9@live.com</td>\n",
       "      <td>0</td>\n",
       "      <td>1</td>\n",
       "      <td>None</td>\n",
       "      <td>SharePoint</td>\n",
       "    </tr>\n",
       "    <tr>\n",
       "      <th>4</th>\n",
       "      <td>104.238.59.42</td>\n",
       "      <td>0a627e9e-f0d0-6000-daf9-dc8f468313e3</td>\n",
       "      <td>2018-08-20T13:06:50</td>\n",
       "      <td>SharePoint</td>\n",
       "      <td>9b5ad97e-f03f-4648-a536-08d5f28d5cad</td>\n",
       "      <td>None</td>\n",
       "      <td>File</td>\n",
       "      <td>67091393-e290-421e-ac6a-2734e2b12a94</td>\n",
       "      <td>d2c4bb13-c97e-4707-9e9b-53dc0e2513b5</td>\n",
       "      <td>https://frothly-my.sharepoint.com/personal/pce...</td>\n",
       "      <td>...</td>\n",
       "      <td>pptx</td>\n",
       "      <td>Beer styles.pptx</td>\n",
       "      <td>Documents</td>\n",
       "      <td>Microsoft Office PowerPoint 2014</td>\n",
       "      <td>pcerf@froth.ly</td>\n",
       "      <td>i:0h.f|membership|1003bffdac730049@live.com</td>\n",
       "      <td>0</td>\n",
       "      <td>1</td>\n",
       "      <td>7acb35b6-e1ec-44ed-9099-38580e330ed0</td>\n",
       "      <td>OneDrive</td>\n",
       "    </tr>\n",
       "    <tr>\n",
       "      <th>5</th>\n",
       "      <td>65.52.243.21</td>\n",
       "      <td>fb617e9e-c0c7-6000-32f0-2e462ff7bbde</td>\n",
       "      <td>2018-08-20T13:05:48</td>\n",
       "      <td>SharePoint</td>\n",
       "      <td>4b143e6d-91b0-4b07-7253-08d5f28d37c3</td>\n",
       "      <td>None</td>\n",
       "      <td>List</td>\n",
       "      <td>67091393-e290-421e-ac6a-2734e2b12a94</td>\n",
       "      <td>None</td>\n",
       "      <td>https://frothly-my.sharepoint.com/personal/pce...</td>\n",
       "      <td>...</td>\n",
       "      <td>None</td>\n",
       "      <td>None</td>\n",
       "      <td>None</td>\n",
       "      <td>ODMTADocCache/1.0</td>\n",
       "      <td>app@sharepoint</td>\n",
       "      <td>i:0i.t|00000003-0000-0ff1-ce00-000000000000|ap...</td>\n",
       "      <td>0</td>\n",
       "      <td>1</td>\n",
       "      <td>7acb35b6-e1ec-44ed-9099-38580e330ed0</td>\n",
       "      <td>OneDrive</td>\n",
       "    </tr>\n",
       "    <tr>\n",
       "      <th>6</th>\n",
       "      <td>104.238.59.42</td>\n",
       "      <td>f9617e9e-f0de-6000-32f0-299be8e0a683</td>\n",
       "      <td>2018-08-20T13:05:40</td>\n",
       "      <td>SharePoint</td>\n",
       "      <td>a1cac3e4-3102-4e0c-d258-08d5f28d3331</td>\n",
       "      <td>No</td>\n",
       "      <td>File</td>\n",
       "      <td>67091393-e290-421e-ac6a-2734e2b12a94</td>\n",
       "      <td>d2c4bb13-c97e-4707-9e9b-53dc0e2513b5</td>\n",
       "      <td>https://frothly-my.sharepoint.com/personal/pce...</td>\n",
       "      <td>...</td>\n",
       "      <td>pptx</td>\n",
       "      <td>Beer styles.pptx</td>\n",
       "      <td>Documents</td>\n",
       "      <td>Microsoft Office PowerPoint 2014</td>\n",
       "      <td>pcerf@froth.ly</td>\n",
       "      <td>i:0h.f|membership|1003bffdac730049@live.com</td>\n",
       "      <td>0</td>\n",
       "      <td>1</td>\n",
       "      <td>7acb35b6-e1ec-44ed-9099-38580e330ed0</td>\n",
       "      <td>OneDrive</td>\n",
       "    </tr>\n",
       "    <tr>\n",
       "      <th>7</th>\n",
       "      <td>104.238.59.42</td>\n",
       "      <td>f8617e9e-a0d4-6000-3667-381044fbe5d3</td>\n",
       "      <td>2018-08-20T13:05:36</td>\n",
       "      <td>SharePoint</td>\n",
       "      <td>7d6f73bd-f3c3-4c95-7b24-08d5f28d30de</td>\n",
       "      <td>None</td>\n",
       "      <td>File</td>\n",
       "      <td>67091393-e290-421e-ac6a-2734e2b12a94</td>\n",
       "      <td>d2c4bb13-c97e-4707-9e9b-53dc0e2513b5</td>\n",
       "      <td>https://frothly-my.sharepoint.com/personal/pce...</td>\n",
       "      <td>...</td>\n",
       "      <td>pptx</td>\n",
       "      <td>Beer styles.pptx</td>\n",
       "      <td>Documents</td>\n",
       "      <td>Microsoft Office PowerPoint 2014</td>\n",
       "      <td>pcerf@froth.ly</td>\n",
       "      <td>i:0h.f|membership|1003bffdac730049@live.com</td>\n",
       "      <td>0</td>\n",
       "      <td>1</td>\n",
       "      <td>7acb35b6-e1ec-44ed-9099-38580e330ed0</td>\n",
       "      <td>OneDrive</td>\n",
       "    </tr>\n",
       "    <tr>\n",
       "      <th>8</th>\n",
       "      <td>199.66.91.253</td>\n",
       "      <td>08557e9e-2041-6000-daf9-d90e9f2c1023</td>\n",
       "      <td>2018-08-20T11:55:22</td>\n",
       "      <td>SharePoint</td>\n",
       "      <td>d7ee3d62-60cb-427b-b0db-08d5f26d99f1</td>\n",
       "      <td>No</td>\n",
       "      <td>File</td>\n",
       "      <td>67091393-e290-421e-ac6a-2734e2b12a94</td>\n",
       "      <td>57c5cd78-2a0f-42ee-8dab-afce305ec89e</td>\n",
       "      <td>https://frothly-my.sharepoint.com/personal/fyo...</td>\n",
       "      <td>...</td>\n",
       "      <td>tar</td>\n",
       "      <td>archive.tar</td>\n",
       "      <td>Documents</td>\n",
       "      <td>Mozilla/5.0 (Macintosh; Intel Mac OS X 10_12_6...</td>\n",
       "      <td>fyodor@froth.ly</td>\n",
       "      <td>i:0h.f|membership|1003bffda2e71ff9@live.com</td>\n",
       "      <td>0</td>\n",
       "      <td>1</td>\n",
       "      <td>7acb35b6-e1ec-44ed-9099-38580e330ed0</td>\n",
       "      <td>OneDrive</td>\n",
       "    </tr>\n",
       "    <tr>\n",
       "      <th>9</th>\n",
       "      <td>199.66.91.253</td>\n",
       "      <td>fc547e9e-f0c2-6000-1d75-39268176f5e6</td>\n",
       "      <td>2018-08-20T11:54:35</td>\n",
       "      <td>SharePoint</td>\n",
       "      <td>cf2ae00e-0efc-41e5-d0dc-08d5f26d7e46</td>\n",
       "      <td>Yes</td>\n",
       "      <td>File</td>\n",
       "      <td>76079ea8-0a58-414e-b493-8580089c8419</td>\n",
       "      <td>7ba794f0-38aa-45d8-8d2a-3c932e87e4f5</td>\n",
       "      <td>https://frothly-my.sharepoint.com/User Photos/...</td>\n",
       "      <td>...</td>\n",
       "      <td>jpg</td>\n",
       "      <td>fyodor_froth_ly_SThumb.jpg</td>\n",
       "      <td>User Photos/Profile Pictures</td>\n",
       "      <td>Mozilla/5.0 (Macintosh; Intel Mac OS X 10_12_6...</td>\n",
       "      <td>fyodor@froth.ly</td>\n",
       "      <td>i:0h.f|membership|1003bffda2e71ff9@live.com</td>\n",
       "      <td>0</td>\n",
       "      <td>1</td>\n",
       "      <td>3b605151-ac0a-46ff-9e16-14e04be8a8a1</td>\n",
       "      <td>SharePoint</td>\n",
       "    </tr>\n",
       "  </tbody>\n",
       "</table>\n",
       "<p>10 rows × 25 columns</p>\n",
       "</div>"
      ],
      "text/plain": [
       "         ClientIP                         CorrelationId         CreationTime  \\\n",
       "0  107.77.213.173  9e627e9e-d0dd-6000-daf9-da44fcd45d4e  2018-08-20T13:16:56   \n",
       "1  107.77.213.173  9e627e9e-60d3-6000-32f0-2235e1b3a20b  2018-08-20T13:16:56   \n",
       "2  107.77.213.173  9e627e9e-a0db-6000-daf9-da5a21ed5a92  2018-08-20T13:16:56   \n",
       "3   40.97.148.181  fa2fd17c-daf8-4062-8f87-d411eb537314  2018-08-20T13:16:54   \n",
       "4   104.238.59.42  0a627e9e-f0d0-6000-daf9-dc8f468313e3  2018-08-20T13:06:50   \n",
       "5    65.52.243.21  fb617e9e-c0c7-6000-32f0-2e462ff7bbde  2018-08-20T13:05:48   \n",
       "6   104.238.59.42  f9617e9e-f0de-6000-32f0-299be8e0a683  2018-08-20T13:05:40   \n",
       "7   104.238.59.42  f8617e9e-a0d4-6000-3667-381044fbe5d3  2018-08-20T13:05:36   \n",
       "8   199.66.91.253  08557e9e-2041-6000-daf9-d90e9f2c1023  2018-08-20T11:55:22   \n",
       "9   199.66.91.253  fc547e9e-f0c2-6000-1d75-39268176f5e6  2018-08-20T11:54:35   \n",
       "\n",
       "  EventSource                                    Id ImplicitShare ItemType  \\\n",
       "0  SharePoint  8a1fd9ad-95d3-4bea-a806-08d5f28ec619            No     File   \n",
       "1  SharePoint  7d1dd9e0-63b3-4277-7a03-08d5f28ec5e3            No     File   \n",
       "2  SharePoint  f5ad6c89-25b3-420c-f889-08d5f28ec656            No     File   \n",
       "3  SharePoint  0ad166f0-5312-4e35-e017-08d5f28ec4fb          None      Web   \n",
       "4  SharePoint  9b5ad97e-f03f-4648-a536-08d5f28d5cad          None     File   \n",
       "5  SharePoint  4b143e6d-91b0-4b07-7253-08d5f28d37c3          None     List   \n",
       "6  SharePoint  a1cac3e4-3102-4e0c-d258-08d5f28d3331            No     File   \n",
       "7  SharePoint  7d6f73bd-f3c3-4c95-7b24-08d5f28d30de          None     File   \n",
       "8  SharePoint  d7ee3d62-60cb-427b-b0db-08d5f26d99f1            No     File   \n",
       "9  SharePoint  cf2ae00e-0efc-41e5-d0dc-08d5f26d7e46           Yes     File   \n",
       "\n",
       "                                 ListId                      ListItemUniqueId  \\\n",
       "0  67091393-e290-421e-ac6a-2734e2b12a94  37ab8c26-f775-4a03-97b3-074c81a00f33   \n",
       "1  67091393-e290-421e-ac6a-2734e2b12a94  bb017930-2bf5-4953-b38a-716ba3217703   \n",
       "2  67091393-e290-421e-ac6a-2734e2b12a94  456e3291-27ad-455e-9cb7-a01722ffa0fa   \n",
       "3                                  None                                  None   \n",
       "4  67091393-e290-421e-ac6a-2734e2b12a94  d2c4bb13-c97e-4707-9e9b-53dc0e2513b5   \n",
       "5  67091393-e290-421e-ac6a-2734e2b12a94                                  None   \n",
       "6  67091393-e290-421e-ac6a-2734e2b12a94  d2c4bb13-c97e-4707-9e9b-53dc0e2513b5   \n",
       "7  67091393-e290-421e-ac6a-2734e2b12a94  d2c4bb13-c97e-4707-9e9b-53dc0e2513b5   \n",
       "8  67091393-e290-421e-ac6a-2734e2b12a94  57c5cd78-2a0f-42ee-8dab-afce305ec89e   \n",
       "9  76079ea8-0a58-414e-b493-8580089c8419  7ba794f0-38aa-45d8-8d2a-3c932e87e4f5   \n",
       "\n",
       "                                            ObjectId  ... SourceFileExtension  \\\n",
       "0  https://frothly-my.sharepoint.com/personal/fyo...  ...                 pdf   \n",
       "1  https://frothly-my.sharepoint.com/personal/fyo...  ...                 pdf   \n",
       "2  https://frothly-my.sharepoint.com/personal/fyo...  ...                 pdf   \n",
       "3               fa2fd17c-daf8-4062-8f87-d411eb537314  ...                None   \n",
       "4  https://frothly-my.sharepoint.com/personal/pce...  ...                pptx   \n",
       "5  https://frothly-my.sharepoint.com/personal/pce...  ...                None   \n",
       "6  https://frothly-my.sharepoint.com/personal/pce...  ...                pptx   \n",
       "7  https://frothly-my.sharepoint.com/personal/pce...  ...                pptx   \n",
       "8  https://frothly-my.sharepoint.com/personal/fyo...  ...                 tar   \n",
       "9  https://frothly-my.sharepoint.com/User Photos/...  ...                 jpg   \n",
       "\n",
       "                              SourceFileName             SourceRelativeUrl  \\\n",
       "0                  beverages-02-00034-v2.pdf                     Documents   \n",
       "1            craftbeerdotcom-beer-styles.pdf                     Documents   \n",
       "2  fundamental of beer and hop chemistry.pdf                     Documents   \n",
       "3                                       None                          None   \n",
       "4                           Beer styles.pptx                     Documents   \n",
       "5                                       None                          None   \n",
       "6                           Beer styles.pptx                     Documents   \n",
       "7                           Beer styles.pptx                     Documents   \n",
       "8                                archive.tar                     Documents   \n",
       "9                 fyodor_froth_ly_SThumb.jpg  User Photos/Profile Pictures   \n",
       "\n",
       "                                           UserAgent           UserId  \\\n",
       "0                                    OneDriveMpc/1.0  fyodor@froth.ly   \n",
       "1                                    OneDriveMpc/1.0  fyodor@froth.ly   \n",
       "2                                    OneDriveMpc/1.0  fyodor@froth.ly   \n",
       "3                               Substrate Search 1.0  fyodor@froth.ly   \n",
       "4                   Microsoft Office PowerPoint 2014   pcerf@froth.ly   \n",
       "5                                  ODMTADocCache/1.0   app@sharepoint   \n",
       "6                   Microsoft Office PowerPoint 2014   pcerf@froth.ly   \n",
       "7                   Microsoft Office PowerPoint 2014   pcerf@froth.ly   \n",
       "8  Mozilla/5.0 (Macintosh; Intel Mac OS X 10_12_6...  fyodor@froth.ly   \n",
       "9  Mozilla/5.0 (Macintosh; Intel Mac OS X 10_12_6...  fyodor@froth.ly   \n",
       "\n",
       "                                             UserKey UserType Version  \\\n",
       "0        i:0h.f|membership|1003bffda2e71ff9@live.com        0       1   \n",
       "1        i:0h.f|membership|1003bffda2e71ff9@live.com        0       1   \n",
       "2        i:0h.f|membership|1003bffda2e71ff9@live.com        0       1   \n",
       "3        i:0h.f|membership|1003bffda2e71ff9@live.com        0       1   \n",
       "4        i:0h.f|membership|1003bffdac730049@live.com        0       1   \n",
       "5  i:0i.t|00000003-0000-0ff1-ce00-000000000000|ap...        0       1   \n",
       "6        i:0h.f|membership|1003bffdac730049@live.com        0       1   \n",
       "7        i:0h.f|membership|1003bffdac730049@live.com        0       1   \n",
       "8        i:0h.f|membership|1003bffda2e71ff9@live.com        0       1   \n",
       "9        i:0h.f|membership|1003bffda2e71ff9@live.com        0       1   \n",
       "\n",
       "                                  WebId    Workload  \n",
       "0  7acb35b6-e1ec-44ed-9099-38580e330ed0    OneDrive  \n",
       "1  7acb35b6-e1ec-44ed-9099-38580e330ed0    OneDrive  \n",
       "2  7acb35b6-e1ec-44ed-9099-38580e330ed0    OneDrive  \n",
       "3                                  None  SharePoint  \n",
       "4  7acb35b6-e1ec-44ed-9099-38580e330ed0    OneDrive  \n",
       "5  7acb35b6-e1ec-44ed-9099-38580e330ed0    OneDrive  \n",
       "6  7acb35b6-e1ec-44ed-9099-38580e330ed0    OneDrive  \n",
       "7  7acb35b6-e1ec-44ed-9099-38580e330ed0    OneDrive  \n",
       "8  7acb35b6-e1ec-44ed-9099-38580e330ed0    OneDrive  \n",
       "9  3b605151-ac0a-46ff-9e16-14e04be8a8a1  SharePoint  \n",
       "\n",
       "[10 rows x 25 columns]"
      ]
     },
     "execution_count": 14,
     "metadata": {},
     "output_type": "execute_result"
    }
   ],
   "source": [
    "lui.df"
   ]
  },
  {
   "cell_type": "markdown",
   "metadata": {
    "id": "zVa8OWnMp94b"
   },
   "source": [
    "### Databricks SQL AI\n",
    "\n",
    "You can also talk to it using natural language via an agent"
   ]
  },
  {
   "cell_type": "code",
   "execution_count": 15,
   "metadata": {
    "colab": {
     "base_uri": "https://localhost:8080/",
     "height": 468
    },
    "execution": {
     "iopub.execute_input": "2025-08-04T02:30:56.940216Z",
     "iopub.status.busy": "2025-08-04T02:30:56.940087Z",
     "iopub.status.idle": "2025-08-04T02:31:04.348806Z",
     "shell.execute_reply": "2025-08-04T02:31:04.348331Z"
    },
    "id": "vKq6tVF5qBRw",
    "outputId": "5b2605eb-8485-45f5-dd4f-db9b7bb0f057"
   },
   "outputs": [
    {
     "data": {
      "text/html": [
       "<div style='border: 1px solid #ddd; padding: 15px; border-radius: 5px;'><h4 style='margin-top: 0;'>🤖 LouieAI Response</h4><div style='font-size: 0.8em; color: #666; margin-bottom: 10px;'>Thread: <code>D_RBSUJuCd_qPnyz_zr_je</code> | Time: 7.4s</div><div style='margin-top: 10px;'><div id='B_YObNKTp9'>It seems there was an attempt to retrieve 4 events from the 'o365-management-activity' table, but the query failed because the table or view could not be found. This error suggests that there might be an issue with the table's name, schema, or catalog. To resolve this, you should verify the spelling and correctness of the table name, ensure that the schema and catalog are correctly specified, and check the current schema settings. If the table or view does not exist, you may need to create it or adjust your query to target an existing table.</div></div></div>"
      ],
      "text/plain": [
       "<IPython.core.display.HTML object>"
      ]
     },
     "metadata": {},
     "output_type": "display_data"
    },
    {
     "data": {
      "text/html": [
       "<div style='border: 1px solid #ddd; padding: 10px; border-radius: 5px; margin-bottom: 10px;'>\n",
       "<h4 style='margin-top: 0;'>🤖 LouieAI Response</h4>\n",
       "<div>It seems there was an attempt to retrieve 4 events from the &#x27;o365-management-activity&#x27; table, but the query failed because the table or view could not be found. This error suggests that there might be an issue with the table&#x27;s name, schema, or catalog. To resolve this, you should verify the spelling and correctness of the table name, ensure that the schema and catalog are correctly specified, and check the current schema settings. If the table or view does not exist, you may need to create it or adjust your query to target an existing table.</div>\n",
       "<hr style='margin: 10px 0;'>\n",
       "<p style='margin: 5px 0; font-size: 0.9em;'>✅ <b>Session:</b> Active | <b>Thread ID:</b> <code>D_RBSUJuCd_qPnyz_zr_je</code> | <a href='https://louie.graphistry.com/?dthread=D_RBSUJuCd_qPnyz_zr_je' target='_blank'>View Thread ↗</a> | <b>Org:</b> example-org</p>\n",
       "<p style='margin: 5px 0; font-size: 0.9em;'>📚 <b>History:</b> 4 responses\n",
       " (access with <code>lui[-1]</code>, <code>lui[-2]</code>, etc.)</p>\n",
       "<p style='margin: 5px 0; font-size: 0.9em;'>🔍 <b>Traces:</b> Disabled (use <code>lui.traces = True</code> to enable)</p>\n",
       "<p><b>Latest Response:</b></p>\n",
       "<ul style='margin: 5px 0;'>\n",
       "<li>1 text element(s) - access with <code>lui.text</code> or <code>lui.texts</code></li>\n",
       "</ul>\n",
       "<details><summary><b>Quick Help</b> (click to expand)</summary>\n",
       "<pre style='margin: 10px 0; padding: 10px; background: #f5f5f5;'>\n",
       "# Make a query\n",
       "\n",
       "lui('Show me sales data from last week')\n",
       "\n",
       "\n",
       "# Control visibility\n",
       "\n",
       "lui('query', share_mode='Private')       # Default: only you\n",
       "\n",
       "lui('query', share_mode='Organization')  # Share within org\n",
       "\n",
       "lui('query', share_mode='Public')        # Share publicly\n",
       "\n",
       "\n",
       "# Access results\n",
       "\n",
       "df = lui.df          # Latest dataframe\n",
       "\n",
       "text = lui.text      # Latest text response\n",
       "\n",
       "all_dfs = lui.dfs    # All dataframes\n",
       "\n",
       "\n",
       "# History\n",
       "\n",
       "lui[-1].df           # Previous response's dataframe\n",
       "\n",
       "\n",
       "# Traces (AI reasoning)\n",
       "\n",
       "lui.traces = True    # Enable for session\n",
       "\n",
       "lui('query', traces=True)  # Enable for one query\n",
       "</pre>\n",
       "</details>\n",
       "</div>"
      ],
      "text/plain": [
       "<LouieAI Notebook Interface | Session: Active | History: 4 responses | Traces: Disabled | Latest: 1 text>"
      ]
     },
     "execution_count": 15,
     "metadata": {},
     "output_type": "execute_result"
    }
   ],
   "source": [
    "lui(\"get 4 events from o365-management-activity\", agent=\"DatabricksAgent\")"
   ]
  },
  {
   "cell_type": "markdown",
   "metadata": {
    "id": "eG6lkNxZqYdi"
   },
   "source": [
    "### Louie Agent: Main Orchestrator Agent\n",
    "\n",
    "Louie will pick appropriate agents and tools for you, so you do not need to specify them"
   ]
  },
  {
   "cell_type": "code",
   "execution_count": 16,
   "metadata": {
    "colab": {
     "base_uri": "https://localhost:8080/",
     "height": 1000
    },
    "execution": {
     "iopub.execute_input": "2025-08-04T02:31:04.350632Z",
     "iopub.status.busy": "2025-08-04T02:31:04.350438Z",
     "iopub.status.idle": "2025-08-04T02:31:41.740538Z",
     "shell.execute_reply": "2025-08-04T02:31:41.739952Z"
    },
    "id": "y_QRaH21qX6Y",
    "outputId": "fdfa5230-4145-450a-b025-70a4792c8b69"
   },
   "outputs": [
    {
     "data": {
      "text/html": [
       "<div style='border: 1px solid #ddd; padding: 15px; border-radius: 5px;'><h4 style='margin-top: 0;'>🤖 LouieAI Response</h4><div style='font-size: 0.8em; color: #666; margin-bottom: 10px;'>Thread: <code>D_RBSUJuCd_qPnyz_zr_je</code> | Time: 36.4s</div><div style='margin-top: 10px;'><div id='B_fwkwbQID'>The user wants to retrieve 4 events from the 'o365-management-activity' table in Databricks. Previously, there was an issue with the table not being found. I need to ensure the table name is correct and exists in the Databricks environment.<br><br>Plan:<br>1. Verify the existence of the 'o365-management-activity' table in Databricks.<br>2. If the table exists, retrieve 4 events from it.<br>3. If the table does not exist, inform the user and suggest checking the table name or creating it if necessary.<br><br>DatabricksAgent<br>show all tablesThe 'o365-management-activity' table does exist in the Databricks environment under the schema `client_demos`.`botsv3`. Now, I will proceed to retrieve 4 events from this table.<br><br>DatabricksAgent<br>get 4 events from `client_demos`.`botsv3`.`o365-management-activity`It seems there is a persistent issue with retrieving data from the 'o365-management-activity' table in Databricks, even though the table exists under the schema `client_demos`.`botsv3`. The error indicates that the table or view cannot be found, which suggests a potential problem with the schema or catalog settings, or possibly a permissions issue.<br><br>Here's what you can do to resolve this:<br><br>1. **Double-check the Schema and Catalog**: Ensure that the schema and catalog are correctly specified in your query. You might want to use the fully qualified table name.<br><br>2. **Verify Permissions**: Make sure you have the necessary permissions to access the table. If you don't, you may need to contact your database administrator.<br><br>3. **Check Current Schema Settings**: Verify the current schema settings to ensure they are correct.<br><br>4. **Consult with a Database Administrator**: If the problem persists, it might be helpful to consult with your database administrator for further assistance.<br><br>If you need further help, feel free to</div><div id='B_wCjAA1vX'><div style='color: gray;'>[CallElement] show all tables</div></div><div id='B___gpi8LM'>It seems that the previous attempt to retrieve events from the 'o365-management-activity' table failed because the table or view could not be found. This issue likely stemmed from an incorrect table name, schema, or catalog specification. Upon listing all tables in the Databricks database, it was confirmed that the 'o365-management-activity' table does exist under the schema `client_demos`.`botsv3`. To resolve the initial query error, ensure that the table name is correctly specified in the query, including the correct schema and catalog. If the issue persists, double-check the current schema settings or consider using the fully qualified table name in your query.</div><div id='B_MClt3shG'>listing tables</div><div id='B_eXp9F0io'><div style='background: #f0f0f0; padding: 5px; margin: 5px 0;'>📊 DataFrame: B_eXp9F0io (shape: 287 x 1)</div></div><div id='B_uOql6myp'><div style='color: gray;'>[CallElement] get 4 events from `client_demos`.`botsv3`.`o365-management-activity`</div></div><div id='B_Nmf8ivNf'>It seems there is a persistent issue with retrieving data from the 'client_demos.botsv3.o365-management-activity' table. Despite confirming the table's existence in the database, attempts to fetch data continue to result in an error indicating that the table or view cannot be found. This suggests a potential problem with the schema or catalog settings, or possibly a permissions issue. To resolve this, double-check the schema and catalog specifications in your query, ensure you have the necessary permissions to access the table, and verify the current schema settings. If the problem persists, consider consulting with your database administrator for further assistance.</div></div></div>"
      ],
      "text/plain": [
       "<IPython.core.display.HTML object>"
      ]
     },
     "metadata": {},
     "output_type": "display_data"
    },
    {
     "data": {
      "text/html": [
       "<div style='border: 1px solid #ddd; padding: 10px; border-radius: 5px; margin-bottom: 10px;'>\n",
       "<h4 style='margin-top: 0;'>🤖 LouieAI Response</h4>\n",
       "<div>The user wants to retrieve 4 events from the &#x27;o365-management-activity&#x27; table in Databricks. Previously, there was an issue with the table not being found. I need to ensure the table name is correct and exists in the Databricks environment.</p><p>Plan:<br>1. Verify the existence of the &#x27;o365-management-activity&#x27; table in Databricks.<br>2. If the table exists, retrieve 4 events from it.<br>3. If the table does not exist, inform the user and suggest checking the table name or creating it if necessary.</p><p>DatabricksAgent<br>show all tablesThe &#x27;o365-management-activity&#x27; table does exist in the Databricks environment under the schema `client_demos`.`botsv3`. Now, I will proceed to retrieve 4 events from this table.</p><p>DatabricksAgent<br>get 4 events from `client_demos`.`botsv3`.`o365-management-activity`It seems there is a persistent issue with retrieving data from the &#x27;o365-management-activity&#x27; table in Databricks, even though the table exists under the schema `client_demos`.`botsv3`. The error indicates that the table or view cannot be found, which suggests a potential problem with the schema or catalog settings, or possibly a permissions issue.</p><p>Here&#x27;s what you can do to resolve this:</p><p>1. **Double-check the Schema and Catalog**: Ensure that the schema and catalog are correctly specified in your query. You might want to use the fully qualified table name.</p><p>2. **Verify Permissions**: Make sure you have the necessary permissions to access the table. If you don&#x27;t, you may need to contact your database administrator.</p><p>3. **Check Current Schema Settings**: Verify the current schema settings to ensure they are correct.</p><p>4. **Consult with a Database Administrator**: If the problem persists, it might be helpful to consult with your database administrator for further assistance.</p><p>If you need further help, feel free to</div>\n",
       "<div style='color: gray;'>[CallElement] show all tables</div>\n",
       "<div>It seems that the previous attempt to retrieve events from the &#x27;o365-management-activity&#x27; table failed because the table or view could not be found. This issue likely stemmed from an incorrect table name, schema, or catalog specification. Upon listing all tables in the Databricks database, it was confirmed that the &#x27;o365-management-activity&#x27; table does exist under the schema `client_demos`.`botsv3`. To resolve the initial query error, ensure that the table name is correctly specified in the query, including the correct schema and catalog. If the issue persists, double-check the current schema settings or consider using the fully qualified table name in your query.</div>\n",
       "<div>listing tables</div>\n",
       "<div>\n",
       "<style scoped>\n",
       "    .dataframe tbody tr th:only-of-type {\n",
       "        vertical-align: middle;\n",
       "    }\n",
       "\n",
       "    .dataframe tbody tr th {\n",
       "        vertical-align: top;\n",
       "    }\n",
       "\n",
       "    .dataframe thead th {\n",
       "        text-align: right;\n",
       "    }\n",
       "</style>\n",
       "<table border=\"1\" class=\"dataframe\">\n",
       "  <thead>\n",
       "    <tr style=\"text-align: right;\">\n",
       "      <th></th>\n",
       "      <th>table_name</th>\n",
       "    </tr>\n",
       "  </thead>\n",
       "  <tbody>\n",
       "    <tr>\n",
       "      <th>0</th>\n",
       "      <td>`client_demos`.`botsv3`.`access-combined`</td>\n",
       "    </tr>\n",
       "    <tr>\n",
       "      <th>1</th>\n",
       "      <td>`client_demos`.`botsv3`.`access_combined`</td>\n",
       "    </tr>\n",
       "    <tr>\n",
       "      <th>2</th>\n",
       "      <td>`client_demos`.`botsv3`.`alternatives`</td>\n",
       "    </tr>\n",
       "    <tr>\n",
       "      <th>3</th>\n",
       "      <td>`client_demos`.`botsv3`.`amazon-ssm-agent`</td>\n",
       "    </tr>\n",
       "    <tr>\n",
       "      <th>4</th>\n",
       "      <td>`client_demos`.`botsv3`.`amazon-ssm-agent-too-...</td>\n",
       "    </tr>\n",
       "    <tr>\n",
       "      <th>...</th>\n",
       "      <td>...</td>\n",
       "    </tr>\n",
       "    <tr>\n",
       "      <th>282</th>\n",
       "      <td>`system`.`information_schema`.`tables`</td>\n",
       "    </tr>\n",
       "    <tr>\n",
       "      <th>283</th>\n",
       "      <td>`system`.`information_schema`.`views`</td>\n",
       "    </tr>\n",
       "    <tr>\n",
       "      <th>284</th>\n",
       "      <td>`system`.`information_schema`.`volume_privileges`</td>\n",
       "    </tr>\n",
       "    <tr>\n",
       "      <th>285</th>\n",
       "      <td>`system`.`information_schema`.`volume_tags`</td>\n",
       "    </tr>\n",
       "    <tr>\n",
       "      <th>286</th>\n",
       "      <td>`system`.`information_schema`.`volumes`</td>\n",
       "    </tr>\n",
       "  </tbody>\n",
       "</table>\n",
       "<p>287 rows × 1 columns</p>\n",
       "</div>\n",
       "<div style='color: gray;'>[CallElement] get 4 events from `client_demos`.`botsv3`.`o365-management-activity`</div>\n",
       "<div>It seems there is a persistent issue with retrieving data from the &#x27;client_demos.botsv3.o365-management-activity&#x27; table. Despite confirming the table&#x27;s existence in the database, attempts to fetch data continue to result in an error indicating that the table or view cannot be found. This suggests a potential problem with the schema or catalog settings, or possibly a permissions issue. To resolve this, double-check the schema and catalog specifications in your query, ensure you have the necessary permissions to access the table, and verify the current schema settings. If the problem persists, consider consulting with your database administrator for further assistance.</div>\n",
       "<hr style='margin: 10px 0;'>\n",
       "<p style='margin: 5px 0; font-size: 0.9em;'>✅ <b>Session:</b> Active | <b>Thread ID:</b> <code>D_RBSUJuCd_qPnyz_zr_je</code> | <a href='https://louie.graphistry.com/?dthread=D_RBSUJuCd_qPnyz_zr_je' target='_blank'>View Thread ↗</a> | <b>Org:</b> example-org</p>\n",
       "<p style='margin: 5px 0; font-size: 0.9em;'>📚 <b>History:</b> 5 responses\n",
       " (access with <code>lui[-1]</code>, <code>lui[-2]</code>, etc.)</p>\n",
       "<p style='margin: 5px 0; font-size: 0.9em;'>🔍 <b>Traces:</b> Disabled (use <code>lui.traces = True</code> to enable)</p>\n",
       "<p><b>Latest Response:</b></p>\n",
       "<ul style='margin: 5px 0;'>\n",
       "<li>4 text element(s) - access with <code>lui.text</code> or <code>lui.texts</code></li>\n",
       "<li>1 dataframe(s) - access with <code>lui.df</code> or <code>lui.dfs</code></li>\n",
       "</ul>\n",
       "<details><summary><b>Quick Help</b> (click to expand)</summary>\n",
       "<pre style='margin: 10px 0; padding: 10px; background: #f5f5f5;'>\n",
       "# Make a query\n",
       "\n",
       "lui('Show me sales data from last week')\n",
       "\n",
       "\n",
       "# Control visibility\n",
       "\n",
       "lui('query', share_mode='Private')       # Default: only you\n",
       "\n",
       "lui('query', share_mode='Organization')  # Share within org\n",
       "\n",
       "lui('query', share_mode='Public')        # Share publicly\n",
       "\n",
       "\n",
       "# Access results\n",
       "\n",
       "df = lui.df          # Latest dataframe\n",
       "\n",
       "text = lui.text      # Latest text response\n",
       "\n",
       "all_dfs = lui.dfs    # All dataframes\n",
       "\n",
       "\n",
       "# History\n",
       "\n",
       "lui[-1].df           # Previous response's dataframe\n",
       "\n",
       "\n",
       "# Traces (AI reasoning)\n",
       "\n",
       "lui.traces = True    # Enable for session\n",
       "\n",
       "lui('query', traces=True)  # Enable for one query\n",
       "</pre>\n",
       "</details>\n",
       "</div>"
      ],
      "text/plain": [
       "<LouieAI Notebook Interface | Session: Active | History: 5 responses | Traces: Disabled | Latest: 4 text, 1 dataframe>"
      ]
     },
     "execution_count": 16,
     "metadata": {},
     "output_type": "execute_result"
    }
   ],
   "source": [
    "lui(\"\"\"get 4 events from databrick's o365-management-activity\"\"\")"
   ]
  },
  {
   "cell_type": "markdown",
   "metadata": {
    "id": "zSwaGE5q0IIi"
   },
   "source": [
    "## Let's Vibe: Composing via DataFrames"
   ]
  },
  {
   "cell_type": "code",
   "execution_count": 17,
   "metadata": {
    "colab": {
     "base_uri": "https://localhost:8080/",
     "height": 1000
    },
    "execution": {
     "iopub.execute_input": "2025-08-04T02:31:41.742431Z",
     "iopub.status.busy": "2025-08-04T02:31:41.742242Z",
     "iopub.status.idle": "2025-08-04T02:32:09.411961Z",
     "shell.execute_reply": "2025-08-04T02:32:09.411501Z"
    },
    "id": "5tgQNAyzSUyg",
    "outputId": "6b015efb-3b36-4300-d932-f612dd39aee0"
   },
   "outputs": [
    {
     "data": {
      "text/html": [
       "<div style='border: 1px solid #ddd; padding: 15px; border-radius: 5px;'><h4 style='margin-top: 0;'>🤖 LouieAI Response</h4><div style='font-size: 0.8em; color: #666; margin-bottom: 10px;'>Thread: <code>D_RBSUJuCd_qPnyz_zr_je</code> | Time: 27.7s</div><div style='margin-top: 10px;'><div id='B_OkPIQxin'>To tackle this task, I'll follow these steps:<br><br>1. **Retrieve Data**: I'll fetch 100 events from the `aws-s3-accesslogs` table in Databricks.<br>2. **Identify Interesting Columns**: I'll examine the data to identify columns that could be interesting for graph creation.<br>3. **Create a Graph**: Using the identified columns, I'll create a graph to visualize the relationships.<br><br>Let's get started!<br><br>### Step 1: Retrieve Data<br>I'll begin by fetching 100 events from the `aws-s3-accesslogs` table in Databricks.<br><br>DatabricksAgent<br>Get 100 rows from the aws-s3-accesslogs table<br>It seems there is a persistent issue with retrieving data from the `aws-s3-accesslogs` table in Databricks. The error indicates that the table or view cannot be found, which suggests a potential problem with the schema or catalog settings, or possibly a permissions issue.<br><br>Here's what you can do to resolve this:<br><br>1. **Double-check the Schema and Catalog**: Ensure that the schema and catalog are correctly specified in your query. You might want to use the fully qualified table name.<br><br>2. **Verify Permissions**: Make sure you have the necessary permissions to access the table. If you don't, you may need to contact your database administrator.<br><br>3. **Check Current Schema Settings**: Verify the current schema settings to ensure they are correct.<br><br>4. **Consult with a Database Administrator**: If the problem persists, it might be helpful to consult with your database administrator for further assistance.<br><br>If you need further help or have any other questions</div><div id='B_zlewhQ6x'><div style='color: gray;'>[CallElement] Get 100 rows from the aws-s3-accesslogs table\n",
       "</div></div><div id='B_U07sxX_r'>It seems there is a recurring issue with retrieving data from the specified tables in the Databricks database. Despite confirming the existence of tables like 'o365-management-activity' and 'aws-s3-accesslogs' in the database, attempts to fetch data result in errors indicating that the tables or views cannot be found. This suggests potential problems with the schema or catalog settings, or possibly permissions issues. To resolve this, it is crucial to double-check the schema and catalog specifications in your queries, ensure you have the necessary permissions to access the tables, and verify the current schema settings. If the problem persists, consulting with your database administrator for further assistance would be advisable.</div></div></div>"
      ],
      "text/plain": [
       "<IPython.core.display.HTML object>"
      ]
     },
     "metadata": {},
     "output_type": "display_data"
    },
    {
     "data": {
      "text/html": [
       "<div style='border: 1px solid #ddd; padding: 10px; border-radius: 5px; margin-bottom: 10px;'>\n",
       "<h4 style='margin-top: 0;'>🤖 LouieAI Response</h4>\n",
       "<div>To tackle this task, I&#x27;ll follow these steps:</p><p>1. **Retrieve Data**: I&#x27;ll fetch 100 events from the `aws-s3-accesslogs` table in Databricks.<br>2. **Identify Interesting Columns**: I&#x27;ll examine the data to identify columns that could be interesting for graph creation.<br>3. **Create a Graph**: Using the identified columns, I&#x27;ll create a graph to visualize the relationships.</p><p>Let&#x27;s get started!</p><p>### Step 1: Retrieve Data<br>I&#x27;ll begin by fetching 100 events from the `aws-s3-accesslogs` table in Databricks.</p><p>DatabricksAgent<br>Get 100 rows from the aws-s3-accesslogs table<br>It seems there is a persistent issue with retrieving data from the `aws-s3-accesslogs` table in Databricks. The error indicates that the table or view cannot be found, which suggests a potential problem with the schema or catalog settings, or possibly a permissions issue.</p><p>Here&#x27;s what you can do to resolve this:</p><p>1. **Double-check the Schema and Catalog**: Ensure that the schema and catalog are correctly specified in your query. You might want to use the fully qualified table name.</p><p>2. **Verify Permissions**: Make sure you have the necessary permissions to access the table. If you don&#x27;t, you may need to contact your database administrator.</p><p>3. **Check Current Schema Settings**: Verify the current schema settings to ensure they are correct.</p><p>4. **Consult with a Database Administrator**: If the problem persists, it might be helpful to consult with your database administrator for further assistance.</p><p>If you need further help or have any other questions</div>\n",
       "<div style='color: gray;'>[CallElement] Get 100 rows from the aws-s3-accesslogs table\n",
       "</div>\n",
       "<div>It seems there is a recurring issue with retrieving data from the specified tables in the Databricks database. Despite confirming the existence of tables like &#x27;o365-management-activity&#x27; and &#x27;aws-s3-accesslogs&#x27; in the database, attempts to fetch data result in errors indicating that the tables or views cannot be found. This suggests potential problems with the schema or catalog settings, or possibly permissions issues. To resolve this, it is crucial to double-check the schema and catalog specifications in your queries, ensure you have the necessary permissions to access the tables, and verify the current schema settings. If the problem persists, consulting with your database administrator for further assistance would be advisable.</div>\n",
       "<hr style='margin: 10px 0;'>\n",
       "<p style='margin: 5px 0; font-size: 0.9em;'>✅ <b>Session:</b> Active | <b>Thread ID:</b> <code>D_RBSUJuCd_qPnyz_zr_je</code> | <a href='https://louie.graphistry.com/?dthread=D_RBSUJuCd_qPnyz_zr_je' target='_blank'>View Thread ↗</a> | <b>Org:</b> example-org</p>\n",
       "<p style='margin: 5px 0; font-size: 0.9em;'>📚 <b>History:</b> 6 responses\n",
       " (access with <code>lui[-1]</code>, <code>lui[-2]</code>, etc.)</p>\n",
       "<p style='margin: 5px 0; font-size: 0.9em;'>🔍 <b>Traces:</b> Disabled (use <code>lui.traces = True</code> to enable)</p>\n",
       "<p><b>Latest Response:</b></p>\n",
       "<ul style='margin: 5px 0;'>\n",
       "<li>2 text element(s) - access with <code>lui.text</code> or <code>lui.texts</code></li>\n",
       "</ul>\n",
       "<details><summary><b>Quick Help</b> (click to expand)</summary>\n",
       "<pre style='margin: 10px 0; padding: 10px; background: #f5f5f5;'>\n",
       "# Make a query\n",
       "\n",
       "lui('Show me sales data from last week')\n",
       "\n",
       "\n",
       "# Control visibility\n",
       "\n",
       "lui('query', share_mode='Private')       # Default: only you\n",
       "\n",
       "lui('query', share_mode='Organization')  # Share within org\n",
       "\n",
       "lui('query', share_mode='Public')        # Share publicly\n",
       "\n",
       "\n",
       "# Access results\n",
       "\n",
       "df = lui.df          # Latest dataframe\n",
       "\n",
       "text = lui.text      # Latest text response\n",
       "\n",
       "all_dfs = lui.dfs    # All dataframes\n",
       "\n",
       "\n",
       "# History\n",
       "\n",
       "lui[-1].df           # Previous response's dataframe\n",
       "\n",
       "\n",
       "# Traces (AI reasoning)\n",
       "\n",
       "lui.traces = True    # Enable for session\n",
       "\n",
       "lui('query', traces=True)  # Enable for one query\n",
       "</pre>\n",
       "</details>\n",
       "</div>"
      ],
      "text/plain": [
       "<LouieAI Notebook Interface | Session: Active | History: 6 responses | Traces: Disabled | Latest: 2 text>"
      ]
     },
     "execution_count": 17,
     "metadata": {},
     "output_type": "execute_result"
    }
   ],
   "source": [
    "lui(\"\"\"\n",
    "\n",
    "Get 100 events from databricks aws-s3-accesslogs and\n",
    "draw a graph using any intereseting sounding columns for investigating\n",
    "\n",
    "\"\"\")"
   ]
  },
  {
   "cell_type": "markdown",
   "metadata": {
    "id": "kxgcs3oKJz2g"
   },
   "source": [
    "# Prompt Templates"
   ]
  },
  {
   "cell_type": "markdown",
   "metadata": {
    "id": "Sof2n3vU5aEb"
   },
   "source": [
    "### Reuse prompts as template files\n",
    "\n",
    "Prompt template files and TODO/plan files are key to quickly using agents, having them do long runs, and increasing how much the AI manages itself.\n",
    "\n",
    "Likewise, instead of manually editing plans, this helps enable you to tell the AI how to do that for you. As templates get more advanced, self-modifying plans become key."
   ]
  },
  {
   "cell_type": "code",
   "execution_count": 18,
   "metadata": {
    "colab": {
     "base_uri": "https://localhost:8080/",
     "height": 130
    },
    "execution": {
     "iopub.execute_input": "2025-08-04T02:32:09.413762Z",
     "iopub.status.busy": "2025-08-04T02:32:09.413580Z",
     "iopub.status.idle": "2025-08-04T02:32:19.589934Z",
     "shell.execute_reply": "2025-08-04T02:32:19.589484Z"
    },
    "id": "TQLcynwz0P_A",
    "outputId": "9ceeadf9-05ea-4058-eb31-e74363bf2d33"
   },
   "outputs": [
    {
     "data": {
      "text/html": [
       "<div style='border: 1px solid #ddd; padding: 15px; border-radius: 5px;'><h4 style='margin-top: 0;'>🤖 LouieAI Response</h4><div style='font-size: 0.8em; color: #666; margin-bottom: 10px;'>Thread: <code>D_oROfgZn1wBwTuDWUYrpS</code> | Time: 10.2s</div><div style='margin-top: 10px;'><div id='B_nggEAvJh'>The best jokes are about </div></div></div>"
      ],
      "text/plain": [
       "<IPython.core.display.HTML object>"
      ]
     },
     "metadata": {},
     "output_type": "display_data"
    },
    {
     "data": {
      "text/plain": [
       "'D_oROfgZn1wBwTuDWUYrpS'"
      ]
     },
     "execution_count": 18,
     "metadata": {},
     "output_type": "execute_result"
    }
   ],
   "source": [
    "lui_template = new_thread()\n",
    "\n",
    "lui_template(\"Repeat this out: The best jokes are about 19th century scientists\")\n",
    "\n",
    "lui_template.thread_id"
   ]
  },
  {
   "cell_type": "code",
   "execution_count": 19,
   "metadata": {
    "colab": {
     "base_uri": "https://localhost:8080/",
     "height": 1000
    },
    "execution": {
     "iopub.execute_input": "2025-08-04T02:32:19.591826Z",
     "iopub.status.busy": "2025-08-04T02:32:19.591640Z",
     "iopub.status.idle": "2025-08-04T02:32:31.386155Z",
     "shell.execute_reply": "2025-08-04T02:32:31.385687Z"
    },
    "id": "QYVeLQzO5oiy",
    "outputId": "d9960719-4fbb-4bc0-c48f-37c070509a3b"
   },
   "outputs": [
    {
     "data": {
      "text/html": [
       "<div style='border: 1px solid #ddd; padding: 15px; border-radius: 5px;'><h4 style='margin-top: 0;'>🤖 LouieAI Response</h4><div style='font-size: 0.8em; color: #666; margin-bottom: 10px;'>Thread: <code>D_rsqUnv18KVOHk97UMyhS</code> | Time: 11.8s</div><div style='margin-top: 10px;'><div id='B_2lvsJXBE'>I need to read the specified dthread first to understand its content before making a joke about it.<br>NotebookAgent<br>read dthread D_oROfgZn1wBwTuDWUYrpSFinal Answer: The dthread humorously suggests that the best jokes are about 19th-century scientists. So here's a joke for you: Why did the 19th-century scientist always carry a barometer?</div><div id='B_p34_8axv'><div style='color: gray;'>[CallElement] read dthread D_oROfgZn1wBwTuDWUYrpS</div></div><div id='B_VDYEzAqX'><notebook id=\"D_oROfgZn1wBwTuDWUYrpS\"><br>  <cells><br>    <cell id=\"B_7YeBQr4j\" agent=\"LouieAgent\" last_run_id=\"None\"><br>      <inputs><br>        <element type=\"TextElement\"> | Markdown: </element><br>      </inputs><br>      <outputs/><br>    </cell><br>    <cell id=\"B_BMwC3JDI\" agent=\"LouieAgent\" last_run_id=\"R_cDWJpEmvN7q1QD4CpW5V\"><br>      <inputs><br>        <element type=\"TextElement\"> | Markdown: Repeat this out: The best jokes are about 19th century scientists</element><br>      </inputs><br>      <outputs><br>        <element type=\"TextElement\"> | Markdown: The best jokes are about 19th century scientists!</element><br>      </outputs><br>      <run id=\"R_cDWJpEmvN7q1QD4CpW5V\" state=\"Done\" run_type=\"LouieAgent\"><br>        <traces><br>          <trace level=\"Level.INFO\">LouieAgent::runner</trace><br>          <trace level=\"Level.DEBUG\">Input text:::Repeat this out: The best jokes are about 19th century scientists</trace><br>          <trace level=\"Level.DEBUG\">Reading chat history. (is_prepared: True)</trace><br>          <trace level=\"Level.DEBUG\">...</trace><br>          <trace level=\"Level.INFO\">Louie output text: The best jokes are about 19th century scientists!</trace><br>        </traces><br>      </run><br>    </cell><br>  </cells><br></notebook></div><div id='B_3SRjsLKz'>The notebook with the ID \"D_oROfgZn1wBwTuDWUYrpS\" contains a humorous statement emphasizing that the best jokes are about 19th-century scientists. This suggests a playful engagement with historical scientific figures, possibly highlighting their quirks or contributions in a light-hearted manner. The content reflects a blend of humor and historical interest, appealing to those who appreciate both science and wit.</div></div></div>"
      ],
      "text/plain": [
       "<IPython.core.display.HTML object>"
      ]
     },
     "metadata": {},
     "output_type": "display_data"
    },
    {
     "data": {
      "text/html": [
       "<div style='border: 1px solid #ddd; padding: 10px; border-radius: 5px; margin-bottom: 10px;'>\n",
       "<h4 style='margin-top: 0;'>🤖 LouieAI Response</h4>\n",
       "<div>I need to read the specified dthread first to understand its content before making a joke about it.<br>NotebookAgent<br>read dthread D_oROfgZn1wBwTuDWUYrpSFinal Answer: The dthread humorously suggests that the best jokes are about 19th-century scientists. So here&#x27;s a joke for you: Why did the 19th-century scientist always carry a barometer?</div>\n",
       "<div style='color: gray;'>[CallElement] read dthread D_oROfgZn1wBwTuDWUYrpS</div>\n",
       "<div>&lt;notebook id=&quot;D_oROfgZn1wBwTuDWUYrpS&quot;&gt;<br>  &lt;cells&gt;<br>    &lt;cell id=&quot;B_7YeBQr4j&quot; agent=&quot;LouieAgent&quot; last_run_id=&quot;None&quot;&gt;<br>      &lt;inputs&gt;<br>        &lt;element type=&quot;TextElement&quot;&gt; | Markdown: &lt;/element&gt;<br>      &lt;/inputs&gt;<br>      &lt;outputs/&gt;<br>    &lt;/cell&gt;<br>    &lt;cell id=&quot;B_BMwC3JDI&quot; agent=&quot;LouieAgent&quot; last_run_id=&quot;R_cDWJpEmvN7q1QD4CpW5V&quot;&gt;<br>      &lt;inputs&gt;<br>        &lt;element type=&quot;TextElement&quot;&gt; | Markdown: Repeat this out: The best jokes are about 19th century scientists&lt;/element&gt;<br>      &lt;/inputs&gt;<br>      &lt;outputs&gt;<br>        &lt;element type=&quot;TextElement&quot;&gt; | Markdown: The best jokes are about 19th century scientists!&lt;/element&gt;<br>      &lt;/outputs&gt;<br>      &lt;run id=&quot;R_cDWJpEmvN7q1QD4CpW5V&quot; state=&quot;Done&quot; run_type=&quot;LouieAgent&quot;&gt;<br>        &lt;traces&gt;<br>          &lt;trace level=&quot;Level.INFO&quot;&gt;LouieAgent::runner&lt;/trace&gt;<br>          &lt;trace level=&quot;Level.DEBUG&quot;&gt;Input text:::Repeat this out: The best jokes are about 19th century scientists&lt;/trace&gt;<br>          &lt;trace level=&quot;Level.DEBUG&quot;&gt;Reading chat history. (is_prepared: True)&lt;/trace&gt;<br>          &lt;trace level=&quot;Level.DEBUG&quot;&gt;...&lt;/trace&gt;<br>          &lt;trace level=&quot;Level.INFO&quot;&gt;Louie output text: The best jokes are about 19th century scientists!&lt;/trace&gt;<br>        &lt;/traces&gt;<br>      &lt;/run&gt;<br>    &lt;/cell&gt;<br>  &lt;/cells&gt;<br>&lt;/notebook&gt;</div>\n",
       "<div>The notebook with the ID &quot;D_oROfgZn1wBwTuDWUYrpS&quot; contains a humorous statement emphasizing that the best jokes are about 19th-century scientists. This suggests a playful engagement with historical scientific figures, possibly highlighting their quirks or contributions in a light-hearted manner. The content reflects a blend of humor and historical interest, appealing to those who appreciate both science and wit.</div>\n",
       "<hr style='margin: 10px 0;'>\n",
       "<p style='margin: 5px 0; font-size: 0.9em;'>✅ <b>Session:</b> Active | <b>Thread ID:</b> <code>D_rsqUnv18KVOHk97UMyhS</code> | <a href='https://louie.graphistry.com/?dthread=D_rsqUnv18KVOHk97UMyhS' target='_blank'>View Thread ↗</a> | <b>Org:</b> example-org</p>\n",
       "<p style='margin: 5px 0; font-size: 0.9em;'>📚 <b>History:</b> 1 responses\n",
       " (access with <code>lui[-1]</code>, <code>lui[-2]</code>, etc.)</p>\n",
       "<p style='margin: 5px 0; font-size: 0.9em;'>🔍 <b>Traces:</b> Disabled (use <code>lui.traces = True</code> to enable)</p>\n",
       "<p><b>Latest Response:</b></p>\n",
       "<ul style='margin: 5px 0;'>\n",
       "<li>3 text element(s) - access with <code>lui.text</code> or <code>lui.texts</code></li>\n",
       "</ul>\n",
       "<details><summary><b>Quick Help</b> (click to expand)</summary>\n",
       "<pre style='margin: 10px 0; padding: 10px; background: #f5f5f5;'>\n",
       "# Make a query\n",
       "\n",
       "lui('Show me sales data from last week')\n",
       "\n",
       "\n",
       "# Control visibility\n",
       "\n",
       "lui('query', share_mode='Private')       # Default: only you\n",
       "\n",
       "lui('query', share_mode='Organization')  # Share within org\n",
       "\n",
       "lui('query', share_mode='Public')        # Share publicly\n",
       "\n",
       "\n",
       "# Access results\n",
       "\n",
       "df = lui.df          # Latest dataframe\n",
       "\n",
       "text = lui.text      # Latest text response\n",
       "\n",
       "all_dfs = lui.dfs    # All dataframes\n",
       "\n",
       "\n",
       "# History\n",
       "\n",
       "lui[-1].df           # Previous response's dataframe\n",
       "\n",
       "\n",
       "# Traces (AI reasoning)\n",
       "\n",
       "lui.traces = True    # Enable for session\n",
       "\n",
       "lui('query', traces=True)  # Enable for one query\n",
       "</pre>\n",
       "</details>\n",
       "</div>"
      ],
      "text/plain": [
       "<LouieAI Notebook Interface | Session: Active | History: 1 responses | Traces: Disabled | Latest: 3 text>"
      ]
     },
     "execution_count": 19,
     "metadata": {},
     "output_type": "execute_result"
    }
   ],
   "source": [
    "lui_joke = new_thread()\n",
    "\n",
    "lui_joke(f\"Read dthread {lui_template.thread_id}, and only after, make a joke about it\")"
   ]
  },
  {
   "cell_type": "code",
   "execution_count": 20,
   "metadata": {
    "colab": {
     "base_uri": "https://localhost:8080/"
    },
    "execution": {
     "iopub.execute_input": "2025-08-04T02:32:31.387559Z",
     "iopub.status.busy": "2025-08-04T02:32:31.387398Z",
     "iopub.status.idle": "2025-08-04T02:32:31.389537Z",
     "shell.execute_reply": "2025-08-04T02:32:31.389273Z"
    },
    "id": "0gJLMR3M6L3F",
    "outputId": "6e3de4f2-5162-498b-8424-b14051d1b1fd"
   },
   "outputs": [
    {
     "name": "stdout",
     "output_type": "stream",
     "text": [
      "I need to read the specified dthread first to understand its content before making a joke about it.\n",
      "NotebookAgent\n",
      "read dthread D_oROfgZn1wBwTuDWUYrpSFinal Answer: The dthread humorously suggests that the best jokes are about 19th-century scientists. So here's a joke for you: Why did the 19th-century scientist always carry a barometer?\n"
     ]
    }
   ],
   "source": [
    "print(lui_joke.text)"
   ]
  },
  {
   "cell_type": "code",
   "execution_count": null,
   "metadata": {
    "id": "7roV7b4R6TfZ"
   },
   "outputs": [],
   "source": []
  }
 ],
 "metadata": {
  "colab": {
   "history_visible": true,
   "provenance": [],
   "toc_visible": true
  },
  "kernelspec": {
   "display_name": "Python 3",
   "name": "python3"
  },
  "language_info": {
   "codemirror_mode": {
    "name": "ipython",
    "version": 3
   },
   "file_extension": ".py",
   "mimetype": "text/x-python",
   "name": "python",
   "nbconvert_exporter": "python",
   "pygments_lexer": "ipython3",
   "version": "3.12.11"
  }
 },
 "nbformat": 4,
 "nbformat_minor": 0
}