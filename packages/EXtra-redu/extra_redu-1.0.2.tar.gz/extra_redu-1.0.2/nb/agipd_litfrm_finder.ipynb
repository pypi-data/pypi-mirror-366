{
 "cells": [
  {
   "cell_type": "code",
   "execution_count": null,
   "metadata": {},
   "outputs": [],
   "source": [
    "import os\n",
    "import time\n",
    "import numpy as np\n",
    "import matplotlib.pyplot as plt\n",
    "\n",
    "from collections import namedtuple\n",
    "from extra_data import RunDirectory\n",
    "from extra_data.read_machinery import find_proposal\n",
    "from extra_redu.litfrm import make_litframe_finder, FrameSelection, SelType\n",
    "from extra_redu import ReferenceDelay\n",
    "from extra_redu.litfrm.draw.agipd import draw_cells"
   ]
  },
  {
   "cell_type": "code",
   "execution_count": null,
   "metadata": {},
   "outputs": [],
   "source": [
    "RunId = namedtuple(\"RunId\", [\"propno\", \"runno\"])\n",
    "examples = [\n",
    "    RunId(2899, 295),   #  0 - MID\n",
    "    RunId(3246, 187),   #  1 - HED\n",
    "    RunId(2844, 100),   #  2 - HED\n",
    "    RunId(2834, 174),   #  3 - MID\n",
    "    RunId(2834, 50),    #  4 - MID\n",
    "    RunId(2671, 409),   #  5 - SPB\n",
    "    RunId(2841, 300),   #  6 - MID\n",
    "    RunId(900310, 92),  #  7 - MID (dev. ver. 0.4.0)\n",
    "    RunId(900310, 93),  #  8 - MID (dev. ver. 0.4.0)\n",
    "    RunId(3052, 59),    #  9 - MID (dev. ver. 0.4.0, DataSelector)\n",
    "    RunId(3118, 18),    # 10 - MID (dev. ver. 0.4.0, DataSelector, RollingBunchPattern)\n",
    "    RunId(3348, 87),    # 11 - MID (rolling bunch pattern, range step issue, two identical patterns in a row)\n",
    "    RunId(4577, 86),    # 12 - SPB (range step issue, one last train with empty pattern)\n",
    "    RunId(9037, 6),     # 13 - MID (time scan)\n",
    "    RunId(900514, 93),  # 14 - HED\n",
    "]\n",
    "\n",
    "ex = examples[14]\n",
    "print(ex)\n",
    "\n",
    "propdir = find_proposal(f\"p{ex.propno:06d}\")\n",
    "rundir = os.path.join(propdir, f\"raw/r{ex.runno:04d}\")\n",
    "\n",
    "run = RunDirectory(rundir)\n",
    "inst = rundir.split('/')[4]"
   ]
  },
  {
   "cell_type": "code",
   "execution_count": null,
   "metadata": {},
   "outputs": [],
   "source": [
    "dev = make_litframe_finder(inst, run)"
   ]
  },
  {
   "cell_type": "code",
   "execution_count": null,
   "metadata": {},
   "outputs": [],
   "source": [
    "tm0 = time.monotonic()\n",
    "r1 = dev.process(True)\n",
    "tid1 = r1.meta.trainId\n",
    "tm1 = time.monotonic()\n",
    "\n",
    "print(f\"N trains: {tid1.size}, time: {tm1-tm0:.2f}s, train per sec: {tid1.size/(tm1-tm0):.2f}\")"
   ]
  },
  {
   "cell_type": "code",
   "execution_count": null,
   "metadata": {},
   "outputs": [],
   "source": [
    "tm0 = time.monotonic()\n",
    "r2 = dev.read()\n",
    "tid2 = r2.meta.trainId\n",
    "tm1 = time.monotonic()\n",
    "\n",
    "print(f\"N trains: {tid2.size}, time: {tm1-tm0:.2f}s, train per sec: {tid2.size/(tm1-tm0):.2f}\")"
   ]
  },
  {
   "cell_type": "code",
   "execution_count": null,
   "metadata": {},
   "outputs": [],
   "source": [
    "tm0 = time.monotonic()\n",
    "r3 = dev.read_or_process()\n",
    "tid3 = r3.meta.trainId\n",
    "tm1 = time.monotonic()\n",
    "\n",
    "print(f\"N trains: {tid3.size}, time: {tm1-tm0:.2f}s, train per sec: {tid3.size/(tm1-tm0):.2f}\")"
   ]
  },
  {
   "cell_type": "code",
   "execution_count": null,
   "metadata": {},
   "outputs": [],
   "source": [
    "tid, r = tid3, r3\n",
    "sel = FrameSelection(r, guess_missed=True)\n",
    "\n",
    "print(\"gray - unused, blue - dark, orange - lit\")\n",
    "print()\n",
    "print(f\"Proposal: {ex.propno}, run: {ex.runno}, source: {r.meta.litFrmDev}\")\n",
    "print()\n",
    "\n",
    "for rec in sel.report():\n",
    "    frmintf = ', '.join(\n",
    "        [':'.join([str(n) for n in slc]) for slc in rec['litframe_slice']]\n",
    "    )\n",
    "    t0, tN, st = (rec['train_range'] + (1,))[:3]\n",
    "    ntrain = max((int(tN) - int(t0)) // int(st), 1)\n",
    "    trsintf = ':'.join([str(n) for n in rec['train_range']])\n",
    "    print(\" # trains                     Ntrn Nmis   Np  Nd  Nf lit frames\")\n",
    "    print(\n",
    "        (\"{pattern_no:2d} {trsintf:25s} {ntrain:5d} {nmissed_trains:4d} \"\n",
    "         \"{npulse_exposed:4d} {ndataframe:3d} {nframe_total:3d} [{frmintf}]\"\n",
    "        ).format(frmintf=frmintf, ntrain=ntrain, trsintf=trsintf, **rec)\n",
    "    )\n",
    "    i = np.flatnonzero(rec['train_range'][0] == tid)[0]\n",
    "    cflag = r.output.dataFramePattern[i]\n",
    "    ncell = r.output.nFrame[i]\n",
    "    draw_cells(cflag[:ncell])\n",
    "    plt.show()\n"
   ]
  }
 ],
 "metadata": {
  "kernelspec": {
   "display_name": "Python 3",
   "language": "python",
   "name": "python3"
  },
  "language_info": {
   "codemirror_mode": {
    "name": "ipython",
    "version": 3
   },
   "file_extension": ".py",
   "mimetype": "text/x-python",
   "name": "python",
   "nbconvert_exporter": "python",
   "pygments_lexer": "ipython3"
  }
 },
 "nbformat": 4,
 "nbformat_minor": 5
}
