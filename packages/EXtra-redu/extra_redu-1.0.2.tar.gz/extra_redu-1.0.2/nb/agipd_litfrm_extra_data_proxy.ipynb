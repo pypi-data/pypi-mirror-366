{
 "cells": [
  {
   "cell_type": "code",
   "execution_count": null,
   "id": "dd90cf96",
   "metadata": {},
   "outputs": [],
   "source": [
    "import os\n",
    "import time\n",
    "import numpy as np\n",
    "import h5py\n",
    "\n",
    "from extra_data import RunDirectory\n",
    "from extra_data.read_machinery import find_proposal\n",
    "from extra_redu.litfrm.agipd_offline import ExtraDataProxy\n"
   ]
  },
  {
   "cell_type": "code",
   "execution_count": null,
   "id": "36c4dac5",
   "metadata": {},
   "outputs": [],
   "source": [
    "propno = 3052\n",
    "runno = 58\n",
    "\n",
    "propdir = find_proposal(f\"p{propno:06d}\")\n",
    "rundir = os.path.join(propdir, f\"raw/r{runno:04d}\")\n",
    "\n",
    "run = RunDirectory(rundir)\n",
    "inst = rundir.split('/')[4]"
   ]
  },
  {
   "cell_type": "code",
   "execution_count": null,
   "id": "a41fcc9d",
   "metadata": {},
   "outputs": [],
   "source": [
    "litfrm = ExtraDataProxy(run, 'MID_EXP_AGIPD1M1/REDU/LITFRM')"
   ]
  },
  {
   "cell_type": "code",
   "execution_count": null,
   "id": "0eaf5939",
   "metadata": {},
   "outputs": [],
   "source": [
    "print(litfrm.alignMethod)\n",
    "print(litfrm.alignMethod.value)\n",
    "print()\n",
    "print(litfrm.trigger.deviceId)\n",
    "print(litfrm.trigger.deviceId.value)\n",
    "print()\n",
    "print(litfrm.get(\"trigger.name\"))"
   ]
  },
  {
   "cell_type": "code",
   "execution_count": null,
   "id": "1c25cc9e",
   "metadata": {},
   "outputs": [],
   "source": [
    "data_selector_id = 'MID_EXP_AGIPD1M1/MDL/DATA_SELECTOR'\n",
    "run[data_selector_id].keys()"
   ]
  },
  {
   "cell_type": "code",
   "execution_count": null,
   "id": "9f6f4f57",
   "metadata": {},
   "outputs": [],
   "source": [
    "data_selector_id in run.control_sources"
   ]
  },
  {
   "cell_type": "code",
   "execution_count": null,
   "id": "9f494ccb",
   "metadata": {},
   "outputs": [],
   "source": [
    "timer = ExtraDataProxy(run, 'MID_EXP_SYS/TSYS/UTC-2-S4', data_selector_id=data_selector_id)"
   ]
  },
  {
   "cell_type": "code",
   "execution_count": null,
   "id": "f702e4ab",
   "metadata": {},
   "outputs": [],
   "source": [
    "timer.backTrg3.delay"
   ]
  }
 ],
 "metadata": {
  "kernelspec": {
   "display_name": "Python 3 (ipykernel)",
   "language": "python",
   "name": "python3"
  },
  "language_info": {
   "codemirror_mode": {
    "name": "ipython",
    "version": 3
   },
   "file_extension": ".py",
   "mimetype": "text/x-python",
   "name": "python",
   "nbconvert_exporter": "python",
   "pygments_lexer": "ipython3",
   "version": "3.7.3"
  }
 },
 "nbformat": 4,
 "nbformat_minor": 5
}
