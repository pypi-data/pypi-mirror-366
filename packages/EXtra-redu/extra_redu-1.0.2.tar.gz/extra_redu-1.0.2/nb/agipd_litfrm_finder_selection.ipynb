{
 "cells": [
  {
   "cell_type": "code",
   "execution_count": null,
   "metadata": {},
   "outputs": [],
   "source": [
    "import os\n",
    "import time\n",
    "import numpy as np\n",
    "import matplotlib.pyplot as plt\n",
    "\n",
    "from extra_data import RunDirectory\n",
    "from extra_data.read_machinery import find_proposal\n",
    "from extra_redu import make_litframe_finder, FrameSelection, SelType"
   ]
  },
  {
   "cell_type": "code",
   "execution_count": null,
   "metadata": {},
   "outputs": [],
   "source": [
    "propno = 3118\n",
    "runno = 18\n",
    "\n",
    "propdir = find_proposal(f\"p{propno:06d}\")\n",
    "rundir = os.path.join(propdir, f\"raw/r{runno:04d}\")\n",
    "\n",
    "run = RunDirectory(rundir)\n",
    "inst = rundir.split('/')[4]"
   ]
  },
  {
   "cell_type": "code",
   "execution_count": null,
   "metadata": {},
   "outputs": [],
   "source": [
    "dev = make_litframe_finder(inst, run)\n",
    "\n",
    "tm0 = time.monotonic()\n",
    "r = dev.read_or_process()\n",
    "tid = r.meta.trainId\n",
    "tm1 = time.monotonic()\n",
    "\n",
    "print(f\"N trains: {tid.size}, time: {tm1-tm0:.2f}s, train per sec: {tid.size/(tm1-tm0):.2f}\")"
   ]
  },
  {
   "cell_type": "code",
   "execution_count": null,
   "metadata": {},
   "outputs": [],
   "source": [
    "sel = FrameSelection(r, guess_missed=True)\n",
    "\n",
    "print(f\"N train in selection: {len(sel.trains)}, N train in litframefinder: {tid.size}\")\n",
    "print(f\"N selected frames: {sel.cell_flags.sum()}/{sel.cell_flags.size}, \"\n",
    "      f\"ratio: {sel.cell_flags.size/sel.cell_flags.sum()}\")"
   ]
  },
  {
   "cell_type": "code",
   "execution_count": null,
   "metadata": {},
   "outputs": [],
   "source": [
    "a, b = np.unique(sel.cell_flags.reshape(-1, 352), axis=0, return_inverse=True)\n",
    "nuniq = len(a)\n",
    "c = b[:nuniq][None,:]\n",
    "\n",
    "nn = (b.size // nuniq) * nuniq\n",
    "thesame = np.all(b[:nn].reshape(-1,nuniq) == c)\n",
    "\n",
    "print(f\"N unique patterns: {nuniq}, first {nuniq} indices: {c}\")\n",
    "print(f\"Paterns repeats: {thesame}\")"
   ]
  },
  {
   "cell_type": "code",
   "execution_count": null,
   "metadata": {},
   "outputs": [],
   "source": [
    "def make_cell_ids(count):\n",
    "    cid = np.zeros(np.sum(count), np.uint16)\n",
    "    i0 = 0\n",
    "    for nfrm in count:\n",
    "        iN = i0 + nfrm\n",
    "        cid[i0:iN] = np.arange(nfrm, dtype=np.uint16)\n",
    "        i0 = iN\n",
    "    return cid"
   ]
  },
  {
   "cell_type": "code",
   "execution_count": null,
   "metadata": {},
   "outputs": [],
   "source": [
    "ntrn = 100\n",
    "slc = np.s_[:ntrn]\n",
    "cid = make_cell_ids(sel.count[slc])\n",
    "flags = sel.litframes_on_trains(tid[slc], sel.count[slc], cid, [SelType.CELL, SelType.ROW])\n",
    "for fl, cnt in flags:\n",
    "    plt.matshow(fl.reshape(ntrn, -1))\n",
    "    plt.show()"
   ]
  },
  {
   "cell_type": "code",
   "execution_count": null,
   "metadata": {},
   "outputs": [],
   "source": [
    "ntrn = 100\n",
    "slc = np.s_[:ntrn*2:2]\n",
    "cid = make_cell_ids(sel.count[slc])\n",
    "flags = sel.litframes_on_trains(tid[slc], sel.count[slc], cid,\n",
    "                                 [SelType.CELL, SelType.SUPER_CELL, SelType.SUPER_ROW])\n",
    "for fl, cnt in flags:\n",
    "    plt.matshow(fl.reshape(ntrn, -1))\n",
    "    plt.show()"
   ]
  }
 ],
 "metadata": {
  "kernelspec": {
   "display_name": "Python 3",
   "language": "python",
   "name": "python3"
  },
  "language_info": {
   "codemirror_mode": {
    "name": "ipython",
    "version": 3
   },
   "file_extension": ".py",
   "mimetype": "text/x-python",
   "name": "python",
   "nbconvert_exporter": "python",
   "pygments_lexer": "ipython3"
  }
 },
 "nbformat": 4,
 "nbformat_minor": 5
}
