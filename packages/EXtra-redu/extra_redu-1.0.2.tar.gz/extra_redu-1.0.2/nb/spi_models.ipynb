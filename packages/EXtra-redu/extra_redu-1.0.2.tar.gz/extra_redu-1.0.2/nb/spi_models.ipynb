{
 "cells": [
  {
   "cell_type": "code",
   "execution_count": null,
   "id": "1cac1aeb-0d6d-4a67-961a-56aabc9215a5",
   "metadata": {},
   "outputs": [],
   "source": [
    "import numpy as np\n",
    "import matplotlib.pyplot as plt"
   ]
  },
  {
   "cell_type": "markdown",
   "id": "58cdd564-a1a2-49e1-878e-65f7e88e2d0e",
   "metadata": {},
   "source": [
    "# AGIPD geometry"
   ]
  },
  {
   "cell_type": "code",
   "execution_count": null,
   "id": "7488c453-fa52-4d97-b0f5-109b53ccd66a",
   "metadata": {},
   "outputs": [],
   "source": [
    "from extra_redu.spi.tests.mock.agipd import AGIPDGeometry\n",
    "\n",
    "geom = AGIPDGeometry(downsample=8)\n",
    "geom.draw(True)"
   ]
  },
  {
   "cell_type": "markdown",
   "id": "969ca7f1-c858-495c-bd07-ec3f3ad30dcd",
   "metadata": {},
   "source": [
    "# Simple models"
   ]
  },
  {
   "cell_type": "markdown",
   "id": "124c65cd-2902-4670-9233-b075a0073aa6",
   "metadata": {},
   "source": [
    "1. Gas background simplified fenomenological model"
   ]
  },
  {
   "cell_type": "code",
   "execution_count": null,
   "id": "b6984f88-3415-4ac5-8b24-f616010aaa70",
   "metadata": {},
   "outputs": [],
   "source": [
    "from extra_redu.spi.tests.mock.models import gas_scattering\n",
    "\n",
    "r = np.linspace(np.min(geom.r), np.max(geom.r))\n",
    "g = type(\"MockGeom\", (), dict(r=r))\n",
    "plt.semilogy(r, gas_scattering(g))\n",
    "plt.show()"
   ]
  },
  {
   "cell_type": "markdown",
   "id": "280f7c57-49f9-48ee-a916-c6d9c810c68c",
   "metadata": {},
   "source": [
    "2. Pulse intensities"
   ]
  },
  {
   "cell_type": "code",
   "execution_count": null,
   "id": "cc2ac73c-86a1-4e7c-b568-d713b527ccf7",
   "metadata": {},
   "outputs": [],
   "source": [
    "from extra_redu.spi.tests.mock.models import pulse_intensities\n",
    "\n",
    "fig, (ax1, ax2) = plt.subplots(1, 2, figsize=(10, 4),\n",
    "                               width_ratios=(3, 1))\n",
    "inten = pulse_intensities(35100)\n",
    "ax1.plot(inten[:351])\n",
    "ax2.hist(inten, 300)\n",
    "plt.show()"
   ]
  },
  {
   "cell_type": "markdown",
   "id": "5afbd5ed-4197-43ad-9c8c-2df0a25517ec",
   "metadata": {},
   "source": [
    "3. Intensity at random point of beam spot"
   ]
  },
  {
   "cell_type": "code",
   "execution_count": null,
   "id": "4599c2f6-41a9-42ac-b215-6fbe7276ee37",
   "metadata": {},
   "outputs": [],
   "source": [
    "from extra_redu.spi.tests.mock.models import interaction_point_intensity\n",
    "\n",
    "fig, (ax1, ax2) = plt.subplots(1, 2, figsize=(10, 4),\n",
    "                               width_ratios=(3, 1))\n",
    "inten = interaction_point_intensity(35100)\n",
    "ax1.plot(inten[:351], '.')\n",
    "ax2.hist(inten, 300)\n",
    "ax2.semilogy()\n",
    "plt.show()"
   ]
  },
  {
   "cell_type": "markdown",
   "id": "45f14bf6-4607-4f70-b76c-db355d30a0d7",
   "metadata": {},
   "source": [
    "4. Ball scattering"
   ]
  },
  {
   "cell_type": "code",
   "execution_count": null,
   "id": "bafcf67c-5ab7-4ec0-aa08-e44e3a20fe8a",
   "metadata": {},
   "outputs": [],
   "source": [
    "from extra_redu.spi.tests.mock.models import ball_scattering, agipd_noise\n",
    "\n",
    "fig, (ax1, ax2) = plt.subplots(1, 2, figsize=(10, 5))\n",
    "det_data = ball_scattering(geom)\n",
    "geom.draw(det_data, ax=ax1)\n",
    "geom.draw(agipd_noise(5 * det_data), ax=ax2)\n",
    "plt.show()"
   ]
  },
  {
   "cell_type": "markdown",
   "id": "8ec4738e-b4a1-46ec-845e-229995a44fb9",
   "metadata": {},
   "source": [
    "# Full SPI ball model"
   ]
  },
  {
   "cell_type": "markdown",
   "id": "b8bd7a69-be9d-45ff-9f28-21e1d1bec5f3",
   "metadata": {},
   "source": [
    "1. Simulate data"
   ]
  },
  {
   "cell_type": "code",
   "execution_count": null,
   "id": "ae6cfa22-e3a5-4ae3-9a12-5591494f44cf",
   "metadata": {},
   "outputs": [],
   "source": [
    "from extra_redu.spi.tests.mock.models import spi_ball_scattering\n",
    "\n",
    "num_cells = 31\n",
    "num_trains = 50\n",
    "num_pulses = num_trains * num_cells\n",
    "adu_threshold = 0.7\n",
    "\n",
    "model_param = dict( \n",
    "    photon_en = 6.,  #keV\n",
    "    L = 1.7,  # m\n",
    "    R = 35,  # nm\n",
    "    flow_size = 12,  # um\n",
    "    beam_size = 1.5,  # um\n",
    "\n",
    "    pulse_energy = 1.8,  # mJ\n",
    "    pulse_energy_rmsd = 0.010,  # mJ\n",
    "\n",
    "    # gas parameters\n",
    "    gas_ambient = 0.02,\n",
    "    gas_shape = 4e-5,\n",
    ")\n",
    "\n",
    "adu = spi_ball_scattering(geom, num_pulses, **model_param)\n",
    "mask = geom.random_mask(num_cells, num_trains)"
   ]
  },
  {
   "cell_type": "markdown",
   "id": "736a4ea3-a13f-43ac-a631-b25c6cb06039",
   "metadata": {},
   "source": [
    "2. Plot examples"
   ]
  },
  {
   "cell_type": "code",
   "execution_count": null,
   "id": "caf1acf6-0b3d-4ba9-bbc6-57f1fffae5ca",
   "metadata": {},
   "outputs": [],
   "source": [
    "litpx = np.sum(adu > adu_threshold, axis=(1,2,3))\n",
    "tid = np.tile(np.arange(num_cells), num_trains)\n",
    "k = np.argmax(litpx)\n",
    "\n",
    "fig, ax = plt.subplots(1, 1, figsize=(16, 3))\n",
    "ax.plot(tid, litpx, '.')\n",
    "plt.show()\n",
    "\n",
    "fig, ((ax1, ax2), (ax3, ax4)) = plt.subplots(2, 2, figsize=(16, 12),\n",
    "                                             height_ratios=(3, 1))\n",
    "\n",
    "im = geom.assemble(adu[k])\n",
    "ax1.matshow(im, norm='linear', vmin=adu_threshold)\n",
    "ax3.hist(adu[k].flatten(), 100, range=(-0.5, 10.5))\n",
    "ax3.semilogy()\n",
    "\n",
    "im = geom.assemble(adu[0])\n",
    "ax2.matshow(im, norm='linear', vmin=adu_threshold)\n",
    "ax4.hist(adu[0].flatten(), 100, range=(-0.5, 10.5))\n",
    "ax4.semilogy()\n",
    "plt.show()"
   ]
  },
  {
   "cell_type": "markdown",
   "id": "ee77f78a-4701-4c1d-8f7e-e375903b93e1",
   "metadata": {},
   "source": [
    "3. Moke data collection"
   ]
  },
  {
   "cell_type": "code",
   "execution_count": null,
   "id": "19fe908f-3804-4493-88c9-576f3be3fb8f",
   "metadata": {},
   "outputs": [],
   "source": [
    "from extra_redu.fileutils.tests.mock.extra_data import MockDataCollection, MockSourceData\n",
    "from extra_redu.fileutils import StackedPulseSource\n",
    "\n",
    "train_ids = list(range(10001, 10001 + num_trains))\n",
    "detector_id = \"SPB_DET_AGIPD1M-1\"\n",
    "source_names = [f\"{detector_id}/CORR/{modno}CH0:output\"\n",
    "                for modno in range(16)]\n",
    "\n",
    "cellId = np.tile(np.arange(num_cells, dtype=np.int32) + 1, num_trains)[:, None]\n",
    "pulseId = cellId.astype(np.uint64) * 4\n",
    "trainId = np.repeat(np.array(train_ids, dtype=np.uint64), num_cells)[:, None]\n",
    "count = np.full(num_trains, num_cells)\n",
    "data = {}\n",
    "for modno, source_id in enumerate(source_names):\n",
    "    module_data = {\n",
    "        \"image.data\": adu[:, modno],\n",
    "        \"image.mask\": mask[:, modno],\n",
    "        \"image.cellId\": cellId,\n",
    "        \"image.pulseId\": pulseId,\n",
    "        \"image.trainId\": trainId,\n",
    "    }\n",
    "    data[source_id] = MockSourceData(source_id, train_ids, count, module_data)\n",
    "\n",
    "dc = MockDataCollection.mock(train_ids, data=data)\n",
    "\n",
    "sources_ptrn = detector_id + r\"/CORR/(?P<key>\\d+)CH0:output\"\n",
    "src = StackedPulseSource.from_datacollection(dc, sources_ptrn, \"image\")"
   ]
  },
  {
   "cell_type": "markdown",
   "id": "4b417701-2c03-4c4f-9d5f-906cf53ad0ce",
   "metadata": {},
   "source": [
    "3. Compute lit-pixels"
   ]
  },
  {
   "cell_type": "code",
   "execution_count": null,
   "id": "02aee9ae-4ae2-49da-aa64-3cdff5042d0b",
   "metadata": {},
   "outputs": [],
   "source": [
    "from extra_redu.spi import LitPixelCounter, SpiHitfinder\n",
    "\n",
    "litpx = LitPixelCounter(src)\n",
    "litpx(src)\n",
    "\n",
    "a = np.hstack([litpx.num_lit_px, np.full([litpx.num_events, 1], np.nan)])\n",
    "plt.matshow(a.reshape(num_cells * 10, -1).T)\n",
    "plt.show()"
   ]
  },
  {
   "cell_type": "markdown",
   "id": "07c15513-ed0f-4f74-89d2-80748584cd8e",
   "metadata": {},
   "source": [
    "4. Find hits"
   ]
  },
  {
   "cell_type": "code",
   "execution_count": null,
   "id": "f7496736-82d5-4fd9-a049-e3d604217146",
   "metadata": {},
   "outputs": [],
   "source": [
    "hitfinder = SpiHitfinder(\n",
    "    modules=[3,4,8,15],\n",
    "    min_scores=30,\n",
    "    hitrate_window_size=5,\n",
    "    num_px_per_module = geom.nss * geom.nfs\n",
    ")\n",
    "hitfinder.find_hits(litpx)"
   ]
  },
  {
   "cell_type": "code",
   "execution_count": null,
   "id": "73c80c38-11bb-4b4b-8f16-f2eba81b4408",
   "metadata": {},
   "outputs": [],
   "source": [
    "hitfinder.plot_hitrate()\n",
    "hitfinder.plot_hitscore_hist(num_bins=100)\n",
    "hitfinder.plot_hitscore()"
   ]
  }
 ],
 "metadata": {
  "kernelspec": {
   "display_name": "egor-dev",
   "language": "python",
   "name": "egor-dev"
  },
  "language_info": {
   "codemirror_mode": {
    "name": "ipython",
    "version": 3
   },
   "file_extension": ".py",
   "mimetype": "text/x-python",
   "name": "python",
   "nbconvert_exporter": "python",
   "pygments_lexer": "ipython3",
   "version": "3.9.16"
  }
 },
 "nbformat": 4,
 "nbformat_minor": 5
}
