{
 "cells": [
  {
   "cell_type": "code",
   "execution_count": 1,
   "id": "87648dcd",
   "metadata": {},
   "outputs": [],
   "source": [
    "import numpy as np\n",
    "from extra_redu import errb_round"
   ]
  },
  {
   "cell_type": "code",
   "execution_count": 2,
   "id": "ab6b42df",
   "metadata": {},
   "outputs": [
    {
     "data": {
      "text/plain": [
       "True"
      ]
     },
     "execution_count": 2,
     "metadata": {},
     "output_type": "execute_result"
    }
   ],
   "source": [
    "a = np.arange(-256., 256.125, 0.125, dtype=np.float32)\n",
    "b = errb_round(a, 23, 0)\n",
    "c = np.round(a)\n",
    "z = c - b\n",
    "np.all(z == 0)"
   ]
  },
  {
   "cell_type": "code",
   "execution_count": 3,
   "id": "60f60c60",
   "metadata": {},
   "outputs": [
    {
     "data": {
      "text/plain": [
       "True"
      ]
     },
     "execution_count": 3,
     "metadata": {},
     "output_type": "execute_result"
    }
   ],
   "source": [
    "a = np.arange(0, 65520, dtype=np.float32)\n",
    "b = errb_round(a, 10, -23)\n",
    "c = a.astype(np.float16).astype(np.float32)\n",
    "z = b - c\n",
    "np.all(z == 0)"
   ]
  },
  {
   "cell_type": "code",
   "execution_count": 4,
   "id": "ea4bb57a",
   "metadata": {},
   "outputs": [
    {
     "name": "stdout",
     "output_type": "stream",
     "text": [
      "array shape: (64, 64, 64)\n"
     ]
    },
    {
     "data": {
      "text/plain": [
       "True"
      ]
     },
     "execution_count": 4,
     "metadata": {},
     "output_type": "execute_result"
    }
   ],
   "source": [
    "a = np.arange(0, 16384, 0.0625, dtype=np.float32).reshape(64, 64, 64)\n",
    "print(f\"array shape: {a.shape}\")\n",
    "b = errb_round(a, 10, 0)\n",
    "c = a.astype(np.float16).astype(np.float32)\n",
    "k = (c != np.round(c))\n",
    "c[k] = np.round(a[k]).astype(np.float16).astype(np.float32)\n",
    "z = b - c\n",
    "np.all(z == 0)"
   ]
  },
  {
   "cell_type": "code",
   "execution_count": 5,
   "id": "b183aa7e",
   "metadata": {},
   "outputs": [
    {
     "name": "stdout",
     "output_type": "stream",
     "text": [
      "160 ms ± 3.66 ms per loop (mean ± std. dev. of 7 runs, 10 loops each)\n"
     ]
    }
   ],
   "source": [
    "a = 100 * np.random.randn(128*256*352).astype(np.float32)\n",
    "%timeit b=errb_round(a, 5, 0)"
   ]
  },
  {
   "cell_type": "code",
   "execution_count": 6,
   "id": "ad718e4c",
   "metadata": {},
   "outputs": [
    {
     "name": "stdout",
     "output_type": "stream",
     "text": [
      "123 ms ± 415 µs per loop (mean ± std. dev. of 7 runs, 10 loops each)\n"
     ]
    }
   ],
   "source": [
    "a = 100 * np.random.randn(128*256*352).astype(np.float32)\n",
    "%timeit errb_round(a, 5, 0, out=a)"
   ]
  },
  {
   "cell_type": "code",
   "execution_count": 7,
   "id": "baf0d462",
   "metadata": {},
   "outputs": [
    {
     "name": "stdout",
     "output_type": "stream",
     "text": [
      "Help on built-in function errb_round in module extra_redu.lossy.rounding:\n",
      "\n",
      "errb_round(...)\n",
      "    Round values in array up to absolute and relative precision.\n",
      "    \n",
      "    This function rounds elements of arrays up to relative and absolute precision.\n",
      "    Relative precision defined as the number of significant mantissa bits given by\n",
      "    the `mnbits` parameter. Absolute precision defined as the difference between\n",
      "    two consecutive representative numbers and given as the power of two by the\n",
      "    parameter `abspw`.\n",
      "    \n",
      "    :param inp:     An input array of single precision numbers\n",
      "    :param mnbits:  The number of significant mantissa bits\n",
      "    :param abspw:   The absolute precision given as the power of two,\n",
      "                    actual precision is 2**abspw, e.g. 2**(-1) = 0.5\n",
      "    :param out:     An output array with the same shape as the input array\n",
      "    \n",
      "    :return out:    An output array with rounded numbers\n",
      "\n"
     ]
    }
   ],
   "source": [
    "help(errb_round)"
   ]
  }
 ],
 "metadata": {
  "kernelspec": {
   "display_name": "Python 3 (ipykernel)",
   "language": "python",
   "name": "python3"
  },
  "language_info": {
   "codemirror_mode": {
    "name": "ipython",
    "version": 3
   },
   "file_extension": ".py",
   "mimetype": "text/x-python",
   "name": "python",
   "nbconvert_exporter": "python",
   "pygments_lexer": "ipython3",
   "version": "3.7.3"
  }
 },
 "nbformat": 4,
 "nbformat_minor": 5
}
