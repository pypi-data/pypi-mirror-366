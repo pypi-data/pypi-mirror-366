{
 "cells": [
  {
   "cell_type": "code",
   "execution_count": null,
   "metadata": {},
   "outputs": [],
   "source": [
    "propno = 2834\n",
    "runno = 40"
   ]
  },
  {
   "cell_type": "code",
   "execution_count": null,
   "metadata": {},
   "outputs": [],
   "source": [
    "import os\n",
    "import numpy as np\n",
    "from extra_data import RunDirectory\n",
    "from extra_data.read_machinery import find_proposal\n",
    "\n",
    "from extra_redu.fileutils.misc import get_xgm_sources, get_wavelenght\n",
    "from extra_redu.base import DESTINATION"
   ]
  },
  {
   "cell_type": "markdown",
   "metadata": {},
   "source": [
    "List of XGMs:\n",
    "```\n",
    " MID: SA2_XTD1_XGM/XGM/DOOCS\n",
    " HED: HED_XTD6_XGM/XGM/DOOCS\n",
    "      SA2_XTD1_XGM/XGM/DOOCS\n",
    " SPB: SA1_XTD2_XGM/XGM/DOOCS\n",
    "      SPB_XTD9_XGM/XGM/DOOCS\n",
    " FXE: FXE_OGT3_XGMD/DOOCS/MAIN\n",
    "      FXE_XTD2_XGMD/DOOCS/MAIN\n",
    " SCS: SA3_XTD10_XGM/XGM/DOOCS\n",
    "      SCS_BLU_XGM/XGM/DOOCS\n",
    " SQS: SA3_XTD10_XGM/XGM/DOOCS\n",
    "      SQS_DIAG1_XGMD/XGM/DOOCS\n",
    "```"
   ]
  },
  {
   "cell_type": "code",
   "execution_count": null,
   "metadata": {},
   "outputs": [],
   "source": [
    "\n",
    "EXMPL = [\n",
    "    \"SA2_XTD1_XGM/XGM/DOOCS\",\n",
    "    \"HED_XTD6_XGM/XGM/DOOCS\",\n",
    "    \"SA1_XTD2_XGM/XGM/DOOCS\",\n",
    "    \"SPB_XTD9_XGM/XGM/DOOCS\",\n",
    "    \"FXE_OGT3_XGMD/DOOCS/MAIN\",\n",
    "    \"FXE_XTD2_XGMD/DOOCS/MAIN\",\n",
    "    \"SCS_BLU_XGM/XGM/DOOCS\",\n",
    "    \"SA3_XTD10_XGM/XGM/DOOCS\",\n",
    "    \"SQS_DIAG1_XGMD/XGM/DOOCS\",\n",
    "]\n",
    "get_xgm_sources(EXMPL, 'MID')"
   ]
  },
  {
   "cell_type": "code",
   "execution_count": null,
   "metadata": {},
   "outputs": [],
   "source": [
    "propdir = find_proposal(f\"p{propno:06d}\")\n",
    "rundir = os.path.join(propdir, f\"raw/r{runno:04d}\")\n",
    "run = RunDirectory(rundir)\n",
    "\n",
    "xgm = get_xgm_sources(run.control_sources, 'MID')\n",
    "print(xgm)\n",
    "lmd = get_wavelenght(run, xgm)\n",
    "print(lmd)"
   ]
  },
  {
   "cell_type": "code",
   "execution_count": null,
   "metadata": {},
   "outputs": [],
   "source": [
    "dst = DESTINATION['MID']\n",
    "xgm_id = xgm[0]\n",
    "run[xgm_id, f\"pulseEnergy.numberOf{dst.xgm_key}BunchesActual\"].ndarray()"
   ]
  },
  {
   "cell_type": "code",
   "execution_count": null,
   "metadata": {},
   "outputs": [],
   "source": [
    "en = run[f\"{xgm_id}:output\", f\"data.intensity{dst.xgm_key}TD\"].ndarray()\n",
    "np.sum(en != 1.0, 1)"
   ]
  },
  {
   "cell_type": "code",
   "execution_count": null,
   "metadata": {},
   "outputs": [],
   "source": [
    "run.get_run_value(xgm_id, 'location')"
   ]
  },
  {
   "cell_type": "code",
   "execution_count": null,
   "metadata": {},
   "outputs": [],
   "source": [
    "pp_id = 'MID_RR_SYS/MDL/PULSE_PATTERN_DECODER'\n",
    "run[pp_id, f\"{dst.pp_key}.nPulses\"].ndarray()"
   ]
  },
  {
   "cell_type": "code",
   "execution_count": null,
   "metadata": {},
   "outputs": [],
   "source": [
    "ts_id = \"MID_RR_UTC/TSYS/TIMESERVER:outputBunchPattern\"\n",
    "\n",
    "bp = run[ts_id, 'data.bunchPatternTable'].ndarray()\n",
    "tid = run[ts_id, 'data.trainId']\n",
    "\n",
    "dst = DESTINATION['MID']\n",
    "np.sum(dst.get_instrument_pulse_mask(bp), 1)"
   ]
  }
 ],
 "metadata": {
  "kernelspec": {
   "display_name": "Python 3 (ipykernel)",
   "language": "python",
   "name": "python3"
  },
  "language_info": {
   "codemirror_mode": {
    "name": "ipython",
    "version": 3
   },
   "file_extension": ".py",
   "mimetype": "text/x-python",
   "name": "python",
   "nbconvert_exporter": "python",
   "pygments_lexer": "ipython3",
   "version": "3.7.3"
  }
 },
 "nbformat": 4,
 "nbformat_minor": 4
}
