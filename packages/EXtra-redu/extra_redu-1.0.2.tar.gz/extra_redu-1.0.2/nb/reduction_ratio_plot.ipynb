{
 "cells": [
  {
   "cell_type": "code",
   "execution_count": null,
   "metadata": {
    "tags": [
     "parameters"
    ]
   },
   "outputs": [],
   "source": [
    "propno = 3333"
   ]
  },
  {
   "cell_type": "code",
   "execution_count": null,
   "metadata": {},
   "outputs": [],
   "source": [
    "import os\n",
    "import math\n",
    "import fnmatch\n",
    "import numpy as np\n",
    "import matplotlib.pyplot as plt\n",
    "\n",
    "from extra_data import RunDirectory, open_run\n",
    "from extra_data.read_machinery import find_proposal"
   ]
  },
  {
   "cell_type": "code",
   "execution_count": null,
   "metadata": {},
   "outputs": [],
   "source": [
    "xgm_src = 'SA1_XTD1_XGM/XGM/DOOCS:output'\n",
    "xgm_key = 'data.intensityTD'\n",
    "agipd_id = 'MID_DET_AGIPD1M-1'\n",
    "lff_src = 'MID_EXP_AGIPD1M1/REDU/LITFRM:output'\n",
    "\n",
    "xgm_src = 'SPB_XTD9_XGM/XGM/DOOCS:output'\n",
    "xgm_key = 'data.intensitySa1TD'\n",
    "agipd_id = 'SPB_DET_AGIPD1M-1'\n",
    "lff_src = 'SPB_IRU_AGIPD1M1/REDU/LITFRM:output'"
   ]
  },
  {
   "cell_type": "code",
   "execution_count": null,
   "metadata": {},
   "outputs": [],
   "source": [
    "def get_run_size(basedir, file_pattern='*'):\n",
    "    runiter = (int(rundir.name[1:]) for rundir in os.scandir(basedir)\n",
    "               if rundir.is_dir() and fnmatch.fnmatch(rundir.name, 'r*'))\n",
    "\n",
    "    size = dict([\n",
    "        (runno, sum((f.stat().st_size)\n",
    "                    for f in os.scandir(os.path.join(basedir, f\"r{runno:04d}\"))\n",
    "                    if f.is_file() and fnmatch.fnmatch(f.name, file_pattern))\n",
    "        ) for runno in runiter\n",
    "    ])\n",
    "    return size\n",
    "\n",
    "def get_npulse(basedir):\n",
    "    runiter = (int(rundir.name[1:]) for rundir in os.scandir(os.path.join(basedir, 'raw'))\n",
    "               if rundir.is_dir() and fnmatch.fnmatch(rundir.name, 'r*'))\n",
    "\n",
    "    npulse = {}\n",
    "    for runno in runiter:\n",
    "        run = RunDirectory(os.path.join(basedir, f\"raw/r{runno:04d}\"))\n",
    "        npulse[runno] = int(np.median(\n",
    "            #run['MID_RR_SYS/MDL/PULSE_PATTERN_DECODER', 'sase2.nPulses'].ndarray()))\n",
    "            np.sum(run[xgm_src, xgm_key].ndarray() != 1., axis=1)))\n",
    "\n",
    "    return npulse\n",
    "\n",
    "def get_lff_train_fraction(basedir):\n",
    "    runiter = (int(rundir.name[1:]) for rundir in os.scandir(os.path.join(basedir, 'raw'))\n",
    "               if rundir.is_dir() and fnmatch.fnmatch(rundir.name, 'r*'))\n",
    "\n",
    "    frac = {}\n",
    "    for runno in runiter:\n",
    "        run = RunDirectory(os.path.join(basedir, f\"raw/r{runno:04d}\"))\n",
    "        \n",
    "        src = lff_src\n",
    "        if src not in run.all_sources:\n",
    "            frac[runno] = .0\n",
    "            continue\n",
    "\n",
    "        ntrn_lff = np.sum(run[src, 'data.nFrame'].data_counts().values)\n",
    "        \n",
    "        tidm = []\n",
    "        for modno in range(16):\n",
    "            src = f\"{agipd_id}/DET/{modno}CH0:xtdf\"\n",
    "            if src in run.all_sources:\n",
    "                count = run[src, \"image.cellId\"].data_counts()\n",
    "                tidm.append(count.index.values[count.values > 0])\n",
    "\n",
    "        tidm = np.unique(np.concatenate(tidm)) if len(tidm) else np.array([])\n",
    "        ntrn_det = len(tidm)\n",
    "\n",
    "        frac[runno] = min(1., ntrn_lff / ntrn_det) if ntrn_det > 0 else 1.\n",
    "\n",
    "    return frac\n",
    "    \n",
    "def join_attributes(**kwargs):\n",
    "    kwargs_iter = iter(kwargs.values())\n",
    "    common_keys = next(kwargs_iter)\n",
    "    for v in kwargs_iter:\n",
    "        common_keys &= v.keys()\n",
    "\n",
    "    r = {}\n",
    "    for k in common_keys:\n",
    "        r[k] = dict([\n",
    "            (aname, v[k]) for aname, v in kwargs.items()\n",
    "        ])\n",
    "\n",
    "    return r\n",
    "\n",
    "def filter_le(d, **kwargs):\n",
    "    return dict(\n",
    "        (k, v) for k, v in d.items() if all(v[aname] > lb for aname, lb in kwargs.items())\n",
    "    )\n",
    "\n",
    "def filter_adj_size(d, frac, key='proc_size'):\n",
    "    r = {}\n",
    "    for k, v in d.items():\n",
    "        v[key] = int(v[key] / frac[k] + 0.5)\n",
    "        r[k] = v\n",
    "    return r\n",
    "\n",
    "def frm_bytes(nb):\n",
    "    prfx = ['', 'Ki', 'Mi', 'Gi', 'Ti', 'Pi']\n",
    "    nbit = int(math.ceil(math.log2(nb))) if nb > 0 else 0\n",
    "    i = nbit // 10\n",
    "    return f\"{nb / (1 << (i * 10)):.3g} {prfx[i]}B\""
   ]
  },
  {
   "cell_type": "code",
   "execution_count": null,
   "metadata": {},
   "outputs": [],
   "source": [
    "propdir = find_proposal(f\"p{propno:06d}\")\n",
    "basedir = os.path.join(propdir, 'raw')\n",
    "\n",
    "agipd_raw_size = get_run_size(os.path.join(propdir, 'raw'), 'RAW-*-AGIPD*-S*.h5')\n",
    "agipd_proc_size = get_run_size(os.path.join(propdir, 'proc'), 'CORR-*-AGIPD*-S*.h5')"
   ]
  },
  {
   "cell_type": "code",
   "execution_count": null,
   "metadata": {},
   "outputs": [],
   "source": [
    "npulse = get_npulse(propdir)\n",
    "frac = get_lff_train_fraction(propdir)"
   ]
  },
  {
   "cell_type": "code",
   "execution_count": null,
   "metadata": {},
   "outputs": [],
   "source": [
    "d = join_attributes(raw_size=agipd_raw_size, proc_size=agipd_proc_size, npulse=npulse)\n",
    "d = filter_le(d, proc_size=0, npulse=0.5)"
   ]
  },
  {
   "cell_type": "code",
   "execution_count": null,
   "metadata": {},
   "outputs": [],
   "source": [
    "r = np.array([[k,] + list(i.values()) for k, i in d.items()])"
   ]
  },
  {
   "cell_type": "code",
   "execution_count": null,
   "metadata": {
    "scrolled": false
   },
   "outputs": [],
   "source": [
    "from matplotlib.scale import LogScale\n",
    "\n",
    "def plot_run_sizes(r, ratios=[]):\n",
    "    fig, ax = plt.subplots(1, 1, figsize=(9, 6), clear=True)\n",
    "\n",
    "    npls_uniq, ix = np.unique(r[:,3], return_inverse=True)\n",
    "    for i, npulse in enumerate(npls_uniq):\n",
    "        if npulse == 0:\n",
    "            continue\n",
    "        ri = r[(ix == i), :]\n",
    "        ax.scatter(ri[:, 1], ri[:, 2], alpha=0.6, label=f\"{npulse} pulses, {len(ri)} runs\")\n",
    "\n",
    "    sz = max(r[:, 2])\n",
    "    for i in [1e-4, 0.001, .01, .1, 1.]:\n",
    "        ax.axline((sz, sz*i), slope=1, ls=':', c='gray')\n",
    "\n",
    "    for i in ratios:\n",
    "        ax.axline((sz, sz*i), slope=1, ls=':', c='C1')\n",
    "        \n",
    "\n",
    "    ax.set_xscale(LogScale(ax, base=2))\n",
    "    ax.set_yscale(LogScale(ax, base=2))\n",
    "    ax.legend()\n",
    "\n",
    "    ax.xaxis.set_major_formatter(lambda x, pos: frm_bytes(x))\n",
    "    ax.yaxis.set_major_formatter(lambda x, pos: frm_bytes(x))\n",
    "\n",
    "    def yaxis_to_ratio(v):\n",
    "        return v / ax.xaxis.get_view_interval()[1]\n",
    "\n",
    "    def yaxis_to_abs(v):\n",
    "        return v * ax.xaxis.get_view_interval()[1]\n",
    "\n",
    "    def xaxis_to_ratio(v):\n",
    "        _, vmax = ax.yaxis.get_view_interval()\n",
    "        return np.divide(vmax, v, where = v != 0)\n",
    "\n",
    "    secay = ax.secondary_yaxis('right', functions=(\n",
    "        yaxis_to_ratio, yaxis_to_abs\n",
    "    ))\n",
    "    secay.yaxis.set_major_formatter(lambda x, pos: f\"{x*100:.0g}%\")\n",
    "\n",
    "    secax = ax.secondary_xaxis('top', functions=(\n",
    "        xaxis_to_ratio, xaxis_to_ratio\n",
    "    ))\n",
    "    secax.xaxis.set_major_formatter(lambda x, pos: f\"{x*100:.3g}%\")\n",
    "\n",
    "    ax.set_ylim(min(r[:, 2]) * 0.5, max(r[:, 2]) * 1.5)\n",
    "    ax.set_xlim(min(r[:, 1]) * 0.75, max(r[:, 1]) * 1.25)\n",
    "    \n",
    "    for i in ratios:\n",
    "        xl, xh = ax.get_xlim()\n",
    "        y = xh * i\n",
    "        \n",
    "        yl, yh = ax.get_ylim()\n",
    "        x = yh / i\n",
    "        \n",
    "        if x < xh:\n",
    "            ax.text(x, yh * 1.15, f\"{i:.2%}\", ha='center', va='bottom')\n",
    "        else:\n",
    "            ax.text(xh * 1.05, y, f\"{i:.2%}\", va='center', ha='left')\n",
    "            \n",
    "            \n",
    "        # Rotate angle\n",
    "        x0 = xl + 0.01 * (xh - xl)\n",
    "        l = np.array((x0, x0 * i * 1.3))\n",
    "        t = ax.transData.transform([[xl, xl*i], [xh, xh*i]])\n",
    "        angle = np.arctan2(t[1,1] - t[0,1], t[1,0] - t[0,0]) / np.pi * 180\n",
    "        ax.text(*l, 'photonization', rotation=angle, rotation_mode='anchor',\n",
    "                va='center', ha='center', alpha=0.75, color=\"C1\")\n",
    "        \n",
    "    \n",
    "\n",
    "    ax.set_xlabel('raw size')\n",
    "    ax.set_ylabel('proc size')\n",
    "    secay.set_ylabel('reduction ratio')\n",
    "\n",
    "    return fig, ax\n",
    "    "
   ]
  },
  {
   "cell_type": "code",
   "execution_count": null,
   "metadata": {},
   "outputs": [],
   "source": [
    "cr = np.sum(r[:, 2] / r[:, 3] * 352) / np.sum(r[:, 1])\n",
    "\n",
    "plot_run_sizes(r, ratios=[cr])\n",
    "plt.show()"
   ]
  },
  {
   "cell_type": "code",
   "execution_count": null,
   "metadata": {},
   "outputs": [],
   "source": [
    "d = filter_adj_size(d, frac, 'proc_size')\n",
    "r = np.array([[k,] + list(i.values()) for k, i in d.items()])\n",
    "\n",
    "cr = np.sum(r[:, 2] / r[:, 3] * 352) / np.sum(r[:, 1])\n",
    "print(cr)"
   ]
  },
  {
   "cell_type": "code",
   "execution_count": null,
   "metadata": {},
   "outputs": [],
   "source": [
    "fig, ax = plot_run_sizes(r, ratios=[cr])\n",
    "plt.show()"
   ]
  },
  {
   "cell_type": "code",
   "execution_count": null,
   "metadata": {},
   "outputs": [],
   "source": [
    "fig.savefig(f'redratio_p{propno:06d}.png', dpi=200, facecolor='white')"
   ]
  }
 ],
 "metadata": {
  "kernelspec": {
   "display_name": "Python 3",
   "language": "python",
   "name": "python3"
  },
  "language_info": {
   "codemirror_mode": {
    "name": "ipython",
    "version": 3
   },
   "file_extension": ".py",
   "mimetype": "text/x-python",
   "name": "python",
   "nbconvert_exporter": "python",
   "pygments_lexer": "ipython3",
   "version": "3.8.11"
  }
 },
 "nbformat": 4,
 "nbformat_minor": 5
}
