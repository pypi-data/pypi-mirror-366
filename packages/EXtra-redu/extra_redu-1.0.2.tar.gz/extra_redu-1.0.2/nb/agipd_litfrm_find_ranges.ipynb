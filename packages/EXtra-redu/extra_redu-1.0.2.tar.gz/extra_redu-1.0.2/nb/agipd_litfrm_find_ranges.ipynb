{
 "cells": [
  {
   "cell_type": "code",
   "execution_count": null,
   "metadata": {},
   "outputs": [],
   "source": [
    "propno = 3118\n",
    "runno = 18"
   ]
  },
  {
   "cell_type": "code",
   "execution_count": null,
   "metadata": {},
   "outputs": [],
   "source": [
    "import os\n",
    "import time\n",
    "import numpy as np\n",
    "import matplotlib.pyplot as plt\n",
    "\n",
    "from collections import namedtuple\n",
    "from extra_data import RunDirectory\n",
    "from extra_data.read_machinery import find_proposal\n",
    "from extra_redu import make_litframe_finder, ReferenceDelay, FrameSelection\n",
    "from extra_redu.litfrm.utils import (\n",
    "    find_ranges_of_patterns, compress_ranges_of_patterns)\n",
    "from extra_redu.litfrm.draw.agipd import draw_cells"
   ]
  },
  {
   "cell_type": "code",
   "execution_count": null,
   "metadata": {},
   "outputs": [],
   "source": [
    "propdir = find_proposal(f\"p{propno:06d}\")\n",
    "rundir = os.path.join(propdir, f\"raw/r{runno:04d}\")\n",
    "\n",
    "run = RunDirectory(rundir)\n",
    "inst = rundir.split('/')[4]"
   ]
  },
  {
   "cell_type": "code",
   "execution_count": null,
   "metadata": {},
   "outputs": [],
   "source": [
    "dev = make_litframe_finder(inst, run)"
   ]
  },
  {
   "cell_type": "code",
   "execution_count": null,
   "metadata": {},
   "outputs": [],
   "source": [
    "tm0 = time.monotonic()\n",
    "r = dev.read_or_process()\n",
    "tid = r.meta.trainId\n",
    "tm1 = time.monotonic()\n",
    "\n",
    "print(f\"N trains: {tid.size}, time: {tm1-tm0:.2f}s, train per sec: {tid.size/(tm1-tm0):.2f}\")"
   ]
  },
  {
   "cell_type": "code",
   "execution_count": null,
   "metadata": {},
   "outputs": [],
   "source": [
    "ptrn, ix, nptrn = np.unique(r.output.nPulsePerFrame, axis=0, return_counts=True, return_inverse=True)"
   ]
  },
  {
   "cell_type": "code",
   "execution_count": null,
   "metadata": {},
   "outputs": [],
   "source": [
    "ranges = find_ranges_of_patterns(ptrn.shape[0], ix, tid)\n",
    "for a, rng_list in ranges.items():\n",
    "    print(a, rng_list)"
   ]
  },
  {
   "cell_type": "code",
   "execution_count": null,
   "metadata": {
    "scrolled": false
   },
   "outputs": [],
   "source": [
    "cranges = compress_ranges_of_patterns(ranges, tid)\n",
    "for a, rng_list in cranges:\n",
    "    print(a, rng_list)"
   ]
  },
  {
   "cell_type": "code",
   "execution_count": null,
   "metadata": {},
   "outputs": [],
   "source": [
    "fig, ax = plt.subplots(1, 1, figsize=(16,4))\n",
    "for a, rng_list in cranges:\n",
    "    for t0, tN, s, ntrn, nmis in rng_list:\n",
    "        t = np.arange(t0, tN, s, dtype=np.uint64)\n",
    "        g = np.in1d(t, tid)\n",
    "        ax.plot(t[g], [a] * g.sum(), 'C0.')\n",
    "        ax.plot(t[~g], [a] * (~g).sum(), 'C1o')\n",
    "        \n",
    "plt.show()"
   ]
  },
  {
   "cell_type": "code",
   "execution_count": null,
   "metadata": {
    "scrolled": false
   },
   "outputs": [],
   "source": [
    "sel = FrameSelection(r, guess_missed=True)\n",
    "\n",
    "print(\" # trains                     Ntrn Nmis   Np  Nd  Nf lit frames\")\n",
    "for rec in sel.report():\n",
    "    frmintf = ', '.join(\n",
    "        [':'.join([str(n) for n in slc]) for slc in rec['litframe_slice']]\n",
    "    )\n",
    "    t0, tN, st = (rec['train_range'] + (1,))[:3]\n",
    "    ntrain = max((int(tN) - int(t0)) // int(st), 1)\n",
    "    trsintf = ':'.join([str(n) for n in rec['train_range']])\n",
    "    print(\n",
    "        (\"{pattern_no:2d} {trsintf:25s} {ntrain:5d} {nmissed_trains:4d} \"\n",
    "         \"{npulse_exposed:4d} {ndataframe:3d} {nframe_total:3d} [{frmintf}]\"\n",
    "        ).format(frmintf=frmintf, ntrain=ntrain, trsintf=trsintf, **rec)\n",
    "    )\n",
    "    i = np.flatnonzero(rec['train_range'][0] == tid)[0]"
   ]
  }
 ],
 "metadata": {
  "kernelspec": {
   "display_name": "Python 3",
   "language": "python",
   "name": "python3"
  },
  "language_info": {
   "codemirror_mode": {
    "name": "ipython",
    "version": 3
   },
   "file_extension": ".py",
   "mimetype": "text/x-python",
   "name": "python",
   "nbconvert_exporter": "python",
   "pygments_lexer": "ipython3",
   "version": "3.8.11"
  }
 },
 "nbformat": 4,
 "nbformat_minor": 5
}
