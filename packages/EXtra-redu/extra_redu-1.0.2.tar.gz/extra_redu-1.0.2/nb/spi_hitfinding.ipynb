{
 "cells": [
  {
   "cell_type": "code",
   "execution_count": null,
   "metadata": {},
   "outputs": [],
   "source": [
    "propno = 2671  # alt: 7076\n",
    "runno = 208  # alt: 56\n",
    "train_slice = slice(0, 100)\n",
    "\n",
    "detector_id = \"SPB_DET_AGIPD1M-1\"\n",
    "litframe_finder_id = \"SPB_IRU_AGIPD1M1/REDU/LITFRM:output\"\n",
    "\n",
    "result_dir = f\"proc/p{propno:06d}/r{runno:04d}\"\n",
    "\n",
    "litpx_counter_id = f\"{detector_id}/REDU/LITPX_COUNTER\"\n",
    "spi_hitfinder_id = f\"{detector_id}/REDU/SPI_HITFINDER\"\n",
    "\n",
    "adu_threshold = 0.7\n",
    "\n",
    "modules=[3, 4, 8, 15]\n",
    "mode=\"adaptive\"\n",
    "snr=4.0\n",
    "min_scores=100\n",
    "fixed_threshold=0\n",
    "hitrate_window_size=200\n",
    "xgm_norm=True\n",
    "xgm_min=200\n",
    "miss_fraction=1\n",
    "miss_fraction_base=\"hit\"\n",
    "\n",
    "num_proc = 0\n",
    "\n",
    "force_hitfinding = False"
   ]
  },
  {
   "cell_type": "code",
   "execution_count": null,
   "metadata": {},
   "outputs": [],
   "source": [
    "import os\n",
    "\n",
    "import numpy as np\n",
    "import matplotlib.pyplot as plt\n",
    "import multiprocessing as mp\n",
    "import psutil\n",
    "\n",
    "from extra_data import RunDirectory, open_run, PropertyNameError\n",
    "\n",
    "from extra_redu.spi import LitPixelCounter, SpiHitfinder\n",
    "from extra_redu.fileutils import PulseSource, StackedPulseSource, exdf_save\n",
    "from extra_redu.litfrm import make_litframe_finder, LitFrameFinderError\n",
    "\n",
    "from IPython.display import Latex, Markdown"
   ]
  },
  {
   "cell_type": "code",
   "execution_count": null,
   "metadata": {},
   "outputs": [],
   "source": [
    "display(Markdown(\"# SPI Hit Finding\"))"
   ]
  },
  {
   "cell_type": "code",
   "execution_count": null,
   "metadata": {},
   "outputs": [],
   "source": [
    "try:\n",
    "    if force_hitfinding:\n",
    "        raise ValueError(\"force hitfinding\")\n",
    "    run = RunDirectory(result_dir)\n",
    "    hitfinder = SpiHitfinder.from_datacollection(run, spi_hitfinder_id)\n",
    "    do_hitfinding = False\n",
    "    display(Markdown(\"- [x] read results from files\\n\"\n",
    "                     \"- [ ] analyse images\"))\n",
    "except (FileNotFoundError, KeyError, Exception):\n",
    "    do_hitfinding = True\n",
    "    display(Markdown(\"- [ ] read results from files\\n\"\n",
    "                     \"- [x] analyse images\"))\n",
    "    sources = {}"
   ]
  },
  {
   "cell_type": "code",
   "execution_count": null,
   "metadata": {},
   "outputs": [],
   "source": [
    "if do_hitfinding:\n",
    "    # 1. read litframe finder data\n",
    "    dc = open_run(propno, runno, data=\"raw\")\n",
    "    litfrm = make_litframe_finder(detector_id[:3], dc, litframe_finder_id)\n",
    "    try:\n",
    "        #r = litfrm.read_or_process()\n",
    "        r = litfrm.process()\n",
    "        litfrm_src = PulseSource(\n",
    "            r.meta.trainId, r.output.nFrame,\n",
    "            r.output.detectorPulseId.ravel(),\n",
    "            {\n",
    "                \"energyPerFrame\": r.output.energyPerFrame.ravel(),\n",
    "            }\n",
    "        )\n",
    "    except LitFrameFinderError:\n",
    "        litfrm_src = None"
   ]
  },
  {
   "cell_type": "code",
   "execution_count": null,
   "metadata": {},
   "outputs": [],
   "source": [
    "if do_hitfinding:\n",
    "    # 2.1 read lit-pixel counts\n",
    "    dc = open_run(propno, runno, data=\"proc\")\n",
    "    dc = dc.select_trains(train_slice)\n",
    "    try:\n",
    "        litpx_counter = StackedPulseSource.from_datacollection(\n",
    "            dc, f\"{detector_id}/CORR/(?P<key>\\d+)CH0:output\", \"litpx\")\n",
    "        display(Markdown(\"- [x] read lit-pixel counts from files\\n\"))\n",
    "    except (PropertyNameError, ValueError):\n",
    "        litpx_counter = None\n",
    "        "
   ]
  },
  {
   "cell_type": "code",
   "execution_count": null,
   "metadata": {},
   "outputs": [],
   "source": [
    "if do_hitfinding and litpx_counter is None:\n",
    "    # 2.2. count lit-pixels\n",
    "    display(Markdown(\"- [x] run lit-pixel counter (takes time)\\n\"))\n",
    "    \n",
    "    dc = open_run(propno, runno, data=\"proc\")\n",
    "    dc = dc.select_trains(train_slice)\n",
    "\n",
    "    src = StackedPulseSource.from_datacollection(\n",
    "        dc, detector_id + r\"/DET/(?P<key>\\d+)CH0:xtdf\", \"image\")\n",
    "\n",
    "    litpx_counter = LitPixelCounter(src, threshold=adu_threshold)\n",
    "\n",
    "    if not num_proc:\n",
    "        num_proc = min(psutil.cpu_count(logical=False), 32)\n",
    "\n",
    "    with mp.Pool(num_proc) as pool:\n",
    "        chunks = src.split_trains(trains_per_part=1)\n",
    "        results = pool.imap_unordered(litpx_counter, chunks)\n",
    "        for _ in results:\n",
    "            pass\n",
    "\n",
    "    sources[litpx_counter_id] = litpx_counter"
   ]
  },
  {
   "cell_type": "code",
   "execution_count": null,
   "metadata": {},
   "outputs": [],
   "source": [
    "if do_hitfinding:\n",
    "    # 3. run hit finding\n",
    "    hitfinder = SpiHitfinder(\n",
    "        modules=modules,\n",
    "        mode=mode,\n",
    "        snr=snr,\n",
    "        min_scores=min_scores,\n",
    "        fixed_threshold=fixed_threshold,\n",
    "        hitrate_window_size=hitrate_window_size,\n",
    "        xgm_norm=xgm_norm,\n",
    "        xgm_min=xgm_min,\n",
    "        miss_fraction=miss_fraction,\n",
    "        miss_fraction_base=miss_fraction_base,\n",
    "    )\n",
    "    hitfinder.find_hits(litpx_counter, litfrm_src)\n",
    "    sources[spi_hitfinder_id] = hitfinder"
   ]
  },
  {
   "cell_type": "code",
   "execution_count": null,
   "metadata": {},
   "outputs": [],
   "source": [
    "if do_hitfinding:\n",
    "    # write results in file\n",
    "    os.makedirs(result_dir, exist_ok=True)\n",
    "    exdf_save(result_dir, \"REDU00\", runno, sources, sequence_size=3500)"
   ]
  },
  {
   "cell_type": "code",
   "execution_count": null,
   "metadata": {},
   "outputs": [],
   "source": [
    "display(Markdown(\"## Hitrate\"))\n",
    "hitfinder.plot_hitrate()\n",
    "plt.show()"
   ]
  },
  {
   "cell_type": "code",
   "execution_count": null,
   "metadata": {},
   "outputs": [],
   "source": [
    "display(Markdown(\"## Hitscores histogram\"))\n",
    "hitfinder.plot_hitscore_hist()\n",
    "plt.show()"
   ]
  },
  {
   "cell_type": "code",
   "execution_count": null,
   "metadata": {},
   "outputs": [],
   "source": [
    "display(Markdown(\"## Hitscores over trains\"))\n",
    "hitfinder.plot_hitscore()\n",
    "plt.show()"
   ]
  }
 ],
 "metadata": {
  "kernelspec": {
   "display_name": "",
   "language": "python",
   "name": ""
  },
  "language_info": {
   "codemirror_mode": {
    "name": "ipython",
    "version": 3
   },
   "file_extension": ".py",
   "mimetype": "text/x-python",
   "name": "python",
   "nbconvert_exporter": "python",
   "pygments_lexer": "ipython3"
  }
 },
 "nbformat": 4,
 "nbformat_minor": 4
}
