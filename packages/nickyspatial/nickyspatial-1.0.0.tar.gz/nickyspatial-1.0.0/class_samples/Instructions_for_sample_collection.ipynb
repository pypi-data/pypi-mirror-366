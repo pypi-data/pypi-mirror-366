{
 "cells": [
  {
   "cell_type": "markdown",
   "id": "7a3fc918-1aa8-4074-b8ac-ac4398522592",
   "metadata": {},
   "source": [
    "Note: Download this whole folder first: https://github.com/kshitijrajsharma/nickyspatial/tree/master/class_samples "
   ]
  },
  {
   "cell_type": "code",
   "execution_count": null,
   "id": "0f7d45d5",
   "metadata": {},
   "outputs": [],
   "source": [
    "## 1. Image"
   ]
  },
  {
   "cell_type": "markdown",
   "id": "0b665f9c",
   "metadata": {},
   "source": [
    "Skip this step if you have small image. You will be able to upload it directly later. This step is relevant only if you have the big orthophoto and the browser is not able to handle big orthophoto images. It will lag or even crash browse if the size is big. So you need to follw these steps if your image is big. Otherwise go to step 2 directly."
   ]
  },
  {
   "cell_type": "markdown",
   "id": "0a2867c4-eb5d-42ac-85c4-e4ae2c17fd81",
   "metadata": {},
   "source": [
    "### Install GDAL"
   ]
  },
  {
   "cell_type": "code",
   "execution_count": null,
   "id": "ce0ff8b6-dada-4fb6-a35e-cb0ee5756f00",
   "metadata": {},
   "outputs": [],
   "source": [
    "## create environment gdal2tiles (optional if you dont want to use environment)\n",
    "## 1. use conda if you have anaconda\n",
    "# conda create -n gdaltiles -c conda-forge gdal=3.10 python=3.10\n",
    "# conda activate gdaltiles\n",
    "\n",
    "# 2. If you don't have anaconda just use pip\n",
    "# pip install GDAL\n"
   ]
  },
  {
   "cell_type": "markdown",
   "id": "054c9bb0-efa9-4160-ac17-f2ea3f1896f2",
   "metadata": {},
   "source": [
    "### Generate Tiles"
   ]
  },
  {
   "cell_type": "code",
   "execution_count": null,
   "id": "b4b7cdf0-78c5-43da-8600-b532cf3576f6",
   "metadata": {},
   "outputs": [],
   "source": [
    "## go to the folder where ortho tif file is located. I am creating the tiles from zoom level 17 to 21.\n",
    "# gdal2tiles -z 17-21 -w leaflet ortho.tif tiles/"
   ]
  },
  {
   "cell_type": "markdown",
   "id": "abb74b2c-1174-468d-ab33-e049d29ea168",
   "metadata": {},
   "source": [
    "### Host Orthophoto"
   ]
  },
  {
   "cell_type": "code",
   "execution_count": null,
   "id": "de4af17b-52f9-4024-bb92-4e2a62a4516b",
   "metadata": {},
   "outputs": [],
   "source": [
    "# host the orthophoto tiles to see them in the map\n",
    "\n",
    "# go to folder inside tiles\n",
    "# cd tiles\n",
    "# python -m http.server 8000\n",
    "\n",
    "!start cmd /k python -m http.server 8000 --directory image/tiles"
   ]
  },
  {
   "cell_type": "code",
   "execution_count": null,
   "id": "dbaa0c78-7183-496e-9da3-603d568971d4",
   "metadata": {},
   "outputs": [],
   "source": [
    "# Alternatively, go to folder inside tiles\n",
    "# cd tiles\n",
    "# python -m http.server 8000\n",
    "\n",
    "# http://localhost:8000/"
   ]
  },
  {
   "cell_type": "code",
   "execution_count": null,
   "id": "9b9cb548-8477-4898-b016-e46aac9cf7f8",
   "metadata": {},
   "outputs": [],
   "source": []
  },
  {
   "cell_type": "markdown",
   "id": "ba709e96-8b2d-4136-9b6a-2763202b930c",
   "metadata": {},
   "source": [
    "## 2. Geojson File of Generated Segments"
   ]
  },
  {
   "cell_type": "code",
   "execution_count": null,
   "id": "51d476ea-b635-4320-8f5e-d8164413e473",
   "metadata": {},
   "outputs": [],
   "source": [
    "# If you dont want to add geojson in the specific folder now skip this step as well. You will be able to upload the geojson directly later. If you want to auto load geojson, add geojson file generated from the segmentation (segmentation result) to the results folder in your working directory. "
   ]
  },
  {
   "cell_type": "code",
   "execution_count": null,
   "id": "ed1ac3d4-50ff-457d-acef-bc84818c9114",
   "metadata": {},
   "outputs": [],
   "source": []
  },
  {
   "cell_type": "markdown",
   "id": "bdca6eeb-5a46-4e68-bc7b-945d0d221bc1",
   "metadata": {},
   "source": [
    "## 3. Open Map"
   ]
  },
  {
   "cell_type": "code",
   "execution_count": null,
   "id": "c4661fb9-57c4-494a-9623-c98fc39d9756",
   "metadata": {},
   "outputs": [],
   "source": [
    "# Now open the leaflet map. "
   ]
  },
  {
   "cell_type": "code",
   "execution_count": null,
   "id": "5356e35e-bd99-4d2b-88a5-9ba1ddec9117",
   "metadata": {},
   "outputs": [],
   "source": [
    "!start cmd /k python -m http.server 8001"
   ]
  },
  {
   "cell_type": "code",
   "execution_count": null,
   "id": "d928fb85-a70a-4d5d-9ce2-43d9142bc6a1",
   "metadata": {},
   "outputs": [],
   "source": [
    "import webbrowser\n",
    "webbrowser.open(\"http://localhost:8001/index.html\")"
   ]
  },
  {
   "cell_type": "code",
   "execution_count": null,
   "id": "3019fc67",
   "metadata": {},
   "outputs": [],
   "source": []
  },
  {
   "cell_type": "code",
   "execution_count": null,
   "id": "77b8a99f",
   "metadata": {},
   "outputs": [],
   "source": []
  },
  {
   "cell_type": "markdown",
   "id": "e515ce3d",
   "metadata": {},
   "source": [
    "## 4. Upload image and Geojson and select samples"
   ]
  },
  {
   "cell_type": "code",
   "execution_count": null,
   "id": "42d28e63",
   "metadata": {},
   "outputs": [],
   "source": [
    "# you can upload geojson file or relative path of your segmentation geojson file. \n",
    "# you can also upload small image file\n",
    "# go to next tab to start adding the samples. \n",
    "# 1. First choose number of classes\n",
    "# 2. Give class names in input fields for each class\n",
    "# 3. select class in radio button and start selecting samples in the map. you will see the segment_id of the selected sample will be added on the list on the right. \n",
    "# 4. Continue this for other classes. dont forget to select radio before the classname before selecting samples in map\n",
    "# 5. After samples are collected, click Download Class Values button to download json file with the list of samples with classnames. you can directly use this file to load or copy paste values from this file to use it for classification. "
   ]
  }
 ],
 "metadata": {
  "kernelspec": {
   "display_name": "OBIA Solar",
   "language": "python",
   "name": "obia_solar"
  },
  "language_info": {
   "codemirror_mode": {
    "name": "ipython",
    "version": 3
   },
   "file_extension": ".py",
   "mimetype": "text/x-python",
   "name": "python",
   "nbconvert_exporter": "python",
   "pygments_lexer": "ipython3",
   "version": "3.10.18"
  }
 },
 "nbformat": 4,
 "nbformat_minor": 5
}
