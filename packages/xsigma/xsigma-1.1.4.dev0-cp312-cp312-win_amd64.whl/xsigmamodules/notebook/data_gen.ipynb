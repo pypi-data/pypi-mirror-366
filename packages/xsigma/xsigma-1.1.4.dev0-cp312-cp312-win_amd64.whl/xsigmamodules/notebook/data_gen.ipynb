{
 "cells": [
  {
   "cell_type": "code",
   "execution_count": 15,
   "id": "5f710277-93ca-4770-9ede-8eeb57269e35",
   "metadata": {},
   "outputs": [],
   "source": [
    "import json\n",
    "import numpy as np\n",
    "from datetime import date\n",
    "from xsigmamodules.market.swap_convention_parser import SwapConventionParser\n",
    "from xsigmamodules.market.xccy_convention_parser import XccyConventionParser\n",
    "from xsigmamodules.market.future_convention_parser import FutureConventionParser\n",
    "from xsigmamodules.Market import currencyMappingConfig,currencyMappingConfigBuilder\n",
    "from xsigmamodules.util.misc import xsigmaGetDataRoot, xsigmaGetTempDir\n",
    "from xsigmamodules.common import helper #CreateCurrencyMappingConfig\n",
    "from xsigmamodules.TestingUtil import TestingDataSerializer\n",
    "from xsigma.util.numpy_support import xsigmaToNumpy, numpyToXsigma\n",
    "from xsigmamodules.Util import (\n",
    "    yearMonthDay,\n",
    "    dayCountConvention,\n",
    "    calendar,\n",
    "    day_count_convention_enum,\n",
    "    weekend_type_enum,\n",
    ")\n",
    "from xsigmamodules.Market import currencyMappingConfig,swapDefaultConventionConfig,xccyDefaultConventionConfig,futureDefaultConventionConfig"
   ]
  },
  {
   "cell_type": "code",
   "execution_count": 16,
   "id": "f99b0a59-bf33-451c-9d46-1bd24d86c0c8",
   "metadata": {},
   "outputs": [],
   "source": [
    "XSIGMA_DATA_ROOT = xsigmaGetDataRoot() + \"/Data/default/\"\n",
    "JSON_DATA_ROOT_CONFIG=xsigmaGetDataRoot() + \"/Data/config_data/\"\n",
    "JSON_DATA_ROOT=xsigmaGetDataRoot() + \"/Data/\""
   ]
  },
  {
   "cell_type": "markdown",
   "id": "3678eff8-c367-41e5-9cc1-4427e19fd267",
   "metadata": {},
   "source": [
    "# STATIC DATA"
   ]
  },
  {
   "cell_type": "code",
   "execution_count": 17,
   "id": "af535db4-6ff0-4f35-b610-c670351604b7",
   "metadata": {},
   "outputs": [],
   "source": [
    "currency_calendar_mapping = helper.CreateCurrencyMappingConfig(XSIGMA_DATA_ROOT + \"currency_calendar_mapping.json\",value_filter=\".DISCARD\",output_file=JSON_DATA_ROOT_CONFIG+\"currencyCalendarMapping.json\")\n",
    "currency_rfr_mapping      = helper.CreateCurrencyMappingConfig(XSIGMA_DATA_ROOT + \"currency_rfr_mapping.json\",value_filter=\".DISCARD\",output_file=JSON_DATA_ROOT_CONFIG+\"currencyRfrMapping.json\")\n",
    "currency_ibor_mapping     = helper.CreateCurrencyMappingConfig(XSIGMA_DATA_ROOT + \"currency_ibor_mapping.json\",value_filter=\".DISCARD\",output_file=JSON_DATA_ROOT_CONFIG+\"currencyIborMapping.json\")"
   ]
  },
  {
   "cell_type": "code",
   "execution_count": 18,
   "id": "e9ca0819-a877-4b9b-afb7-b7856f0bda57",
   "metadata": {},
   "outputs": [],
   "source": [
    "for ccy in currency_calendar_mapping.keys():\n",
    "    cal_name = currency_calendar_mapping.value(ccy)\n",
    "    cal = TestingDataSerializer.createCalendar(cal_name, 1900, 2090)\n",
    "    calendar.write_to_json(JSON_DATA_ROOT_CONFIG + \"calendars/calendar_\" + cal_name + \".json\", cal)"
   ]
  },
  {
   "cell_type": "code",
   "execution_count": 19,
   "id": "fd2cd5fc-d362-4c7b-9dd9-5c0d100ace3c",
   "metadata": {},
   "outputs": [],
   "source": [
    "ListOfConfig=SwapConventionParser(XSIGMA_DATA_ROOT + \"swap_default_conventions.json\")\n",
    "for ccy, types in ListOfConfig.get_available_currencies().items():\n",
    "    for t in types:\n",
    "        config=ListOfConfig.create_swap_convention(ccy, t)\n",
    "        swapDefaultConventionConfig.write_to_json(JSON_DATA_ROOT_CONFIG + \"swapDefaultConventionConfig_\" + ccy + \"_\" + t + \".json\", config)"
   ]
  },
  {
   "cell_type": "code",
   "execution_count": 20,
   "id": "1470ac92-2742-4316-9916-480f6994ebdb",
   "metadata": {},
   "outputs": [],
   "source": [
    "ListOfConfig=XccyConventionParser(XSIGMA_DATA_ROOT + \"cross_currency_basis_leg.json\")\n",
    "for ccy in ListOfConfig.get_available_currencies():\n",
    "    config=ListOfConfig.create_xccy_convention(ccy)\n",
    "    xccyDefaultConventionConfig.write_to_json(JSON_DATA_ROOT_CONFIG + \"xccyDefaultConventionConfig_\" + ccy + \".json\", config)"
   ]
  },
  {
   "cell_type": "code",
   "execution_count": 21,
   "id": "fcc66fb6-10b4-48c5-a02d-1667c987ce1c",
   "metadata": {},
   "outputs": [],
   "source": [
    "ListOfConfig=FutureConventionParser(XSIGMA_DATA_ROOT + \"futures_default_conventions.json\")\n",
    "for idx, types in ListOfConfig.get_available_conventions().items():\n",
    "    for t in types:\n",
    "        config=ListOfConfig.create_future_convention(idx, t)\n",
    "        futureDefaultConventionConfig.write_to_json(JSON_DATA_ROOT_CONFIG + \"futureDefaultConventionConfig_\" + idx + \"_\" + t.lower() + \".json\", config)"
   ]
  },
  {
   "cell_type": "markdown",
   "id": "1d6c1498-0b4a-4609-b9d3-f409b4c57dd4",
   "metadata": {},
   "source": [
    "# MAKET DATA"
   ]
  },
  {
   "cell_type": "code",
   "execution_count": 22,
   "id": "b0e59d91-8299-446c-bd3a-0a470b7ad1eb",
   "metadata": {},
   "outputs": [],
   "source": [
    "valuation_date=yearMonthDay(str(date.today())).to_datetime() #move o a datehelper"
   ]
  },
  {
   "cell_type": "code",
   "execution_count": 23,
   "id": "5f0e06e0-4f2f-4493-9ec9-e1e6a5c024de",
   "metadata": {},
   "outputs": [],
   "source": [
    "ids = [\n",
    "    # Interest Rate (IR) entries\n",
    "    [\"IR\", \"USD\", \"LIBOR.3M.USD\"],\n",
    "    [\"IR\", \"EUR\", \"LIBOR.3M.USD\"],\n",
    "    [\"IR\", \"GBP\", \"LIBOR.3M.USD\"],\n",
    "    \n",
    "    # Foreign Exchange (FX) entries\n",
    "    [\"FX\", \"USD\", \"EUR\", \"LIBOR.3M.USD\", \"LIBOR.3M.USD\"],\n",
    "    [\"FX\", \"USD\", \"GBP\", \"LIBOR.3M.USD\", \"LIBOR.3M.USD\"],\n",
    "    \n",
    "    # Credit entries\n",
    "    [\"CREDIT\", \"APPLE\", \"EUR\", \"LIBOR.3M.USD\", \"a\", \"b\", \"c\"],\n",
    "    [\"CREDIT\", \"APPLE\", \"USD\", \"LIBOR.3M.USD\", \"a\", \"b\", \"c\"],\n",
    "    \n",
    "    # Equity entries\n",
    "    [\"EQUITY\", \"GOOGLE\", \"USD\", \"LIBOR.3M.USD\"],\n",
    "    [\"EQUITY\", \"APPLE\", \"USD\", \"LIBOR.3M.USD\"],\n",
    "]\n",
    "factors=[3, 2, 1, 1, 2, 1, 2, 2, 1]\n",
    "with open(XSIGMA_DATA_ROOT +\"correlation_matrix.json\") as f:\n",
    "    matrix = json.load(f)\n",
    "\n",
    "helper.CreatecorrelationManager(valuation_date, ids, factors, matrix, JSON_DATA_ROOT + \"correlationManager.json\")"
   ]
  },
  {
   "cell_type": "code",
   "execution_count": null,
   "id": "bd875835-5b02-4e2b-bdb0-dca2f317713e",
   "metadata": {},
   "outputs": [],
   "source": []
  },
  {
   "cell_type": "code",
   "execution_count": null,
   "id": "7d816a42-7a01-4642-a865-193b8105bf58",
   "metadata": {},
   "outputs": [],
   "source": []
  }
 ],
 "metadata": {
  "kernelspec": {
   "display_name": "Python 3 (ipykernel)",
   "language": "python",
   "name": "python3"
  },
  "language_info": {
   "codemirror_mode": {
    "name": "ipython",
    "version": 3
   },
   "file_extension": ".py",
   "mimetype": "text/x-python",
   "name": "python",
   "nbconvert_exporter": "python",
   "pygments_lexer": "ipython3",
   "version": "3.12.7"
  }
 },
 "nbformat": 4,
 "nbformat_minor": 5
}
