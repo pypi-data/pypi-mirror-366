{
 "cells": [
  {
   "cell_type": "code",
   "execution_count": 1,
   "metadata": {
    "editable": true,
    "slideshow": {
     "slide_type": ""
    },
    "tags": []
   },
   "outputs": [],
   "source": [
    "import time\n",
    "import numpy as np\n",
    "import matplotlib.pyplot as plt\n",
    "from itertools import chain\n",
    "from xsigmamodules.Random import random_enum\n",
    "from xsigmamodules.Analytics import (\n",
    "    calibrationIrTargetsConfiguration,\n",
    "    correlationManager,\n",
    "    calibrationHjmSettings,\n",
    "    parameter_markovian_hjm_enum,\n",
    "    calibrationIrHjm,\n",
    "    parameterMarkovianHjmId,\n",
    "    parameterMarkovianHjm,\n",
    "    dynamicInstructionId,\n",
    "    dynamicInstructionIrMarkovianHjm,\n",
    "    simulatedMarketDataIrId,\n",
    "    correlationManagerId,\n",
    "    dynamicInstructionIrId,\n",
    "    measureId,\n",
    "    measure,\n",
    "    randomConfig,\n",
    "    simulationManager,\n",
    "    randomConfigId,\n",
    "    calibrationHjmSettingsBuilder,\n",
    "    randomConfigBuilder\n",
    ")\n",
    "\n",
    "from xsigmamodules.Util import dayCountConvention\n",
    "from xsigmamodules.Vectorization import vector, matrix, tensor, tensor\n",
    "from xsigmamodules.util.numpy_support import xsigmaToNumpy, numpyToXsigma\n",
    "from xsigmamodules.common import helper\n",
    "from xsigmamodules.market import market_data\n",
    "from xsigmamodules.simulation import simulation\n",
    "from xsigmamodules.util.misc import xsigmaGetDataRoot, xsigmaGetTempDir\n",
    "from xsigmamodules.Market import (\n",
    "    discountCurveInterpolated,\n",
    "    discountCurveId,\n",
    "    anyId,\n",
    "    anyContainer,\n",
    "    anyObject,\n",
    "    irVolatilitySabr,\n",
    "    discountCurveFlat,\n",
    ")\n",
    "\n",
    "from xsigmamodules.Math import (\n",
    "    normalDistribution,\n",
    "    interpolation_enum,\n",
    "    solverOptionsCeres,\n",
    "    solverOptionsLm,\n",
    "    solverOptionsNlopt,\n",
    "    solverOptionsLmBuilder,\n",
    "    levenberg_marquardt_solver_enum\n",
    ")"
   ]
  },
  {
   "cell_type": "markdown",
   "metadata": {},
   "source": [
    "# Folders"
   ]
  },
  {
   "cell_type": "code",
   "execution_count": 2,
   "metadata": {},
   "outputs": [],
   "source": [
    "XSIGMA_DATA_ROOT = xsigmaGetDataRoot()\n",
    "XSIGMA_TEST_ROOT = xsigmaGetTempDir()"
   ]
  },
  {
   "cell_type": "code",
   "execution_count": 3,
   "metadata": {},
   "outputs": [
    {
     "name": "stdout",
     "output_type": "stream",
     "text": [
      "C:/dev/cursor_code/PRETORIAN/Testing\n"
     ]
    }
   ],
   "source": [
    "print(XSIGMA_DATA_ROOT)"
   ]
  },
  {
   "cell_type": "code",
   "execution_count": 4,
   "metadata": {},
   "outputs": [],
   "source": [
    "discount_id = discountCurveId(\"USD\", \"LIBOR.3M.USD\")\n",
    "diffusion_id = simulatedMarketDataIrId(discount_id)\n",
    "\n",
    "discount_curve = discountCurveInterpolated.read_from_json(\n",
    "    XSIGMA_DATA_ROOT + \"/Data/discountCurve.json\"\n",
    ")\n",
    "anyids = [anyId(discount_id)]\n",
    "anyobject = [anyObject(discount_curve)]\n",
    "\n",
    "correlation_mgr = correlationManager.read_from_json(\n",
    "    XSIGMA_DATA_ROOT + \"/Data/correlationManager.json\"\n",
    ")\n",
    "anyids.append(anyId(correlationManagerId()))\n",
    "anyobject.append(anyObject(correlation_mgr))\n",
    "\n",
    "valuation_date = discount_curve.valuation_date()\n",
    "\n",
    "target_config = calibrationIrTargetsConfiguration.read_from_json(\n",
    "    XSIGMA_DATA_ROOT + \"/Data/calibrationIrTargetsConfiguration.json\"\n",
    ")\n",
    "\n",
    "ir_volatility_surface = irVolatilitySabr.read_from_json(\n",
    "    XSIGMA_DATA_ROOT + \"/Data/irVolatility.json\"\n",
    ")"
   ]
  },
  {
   "cell_type": "code",
   "execution_count": 5,
   "metadata": {},
   "outputs": [],
   "source": [
    "diffusion_ids = [diffusion_id]\n",
    "correlation = correlation_mgr.pair_correlation_matrix(diffusion_ids, diffusion_ids)"
   ]
  },
  {
   "cell_type": "markdown",
   "metadata": {},
   "source": [
    "# Load data"
   ]
  },
  {
   "cell_type": "code",
   "execution_count": 6,
   "metadata": {},
   "outputs": [],
   "source": [
    "# M_np = np.array([[1.0,\t-0.5,  -0.5,\t-0.5],\n",
    "#                 [-0.5,\t 1.0,\t-0.5,\t-0.5],\n",
    "#                 [-0.5,\t-0.5,\t1.0,\t-0.5],\n",
    "#                 [-0.5,\t-0.5,\t-0.5,\t1.0]], \"d\")\n",
    "# correlation = numpyToXsigma(M_np)\n",
    "# correlation_mgr = correlationManager(valuation_date, diffusion_ids, [4], correlation)\n",
    "solver_opts = (solverOptionsLmBuilder()\n",
    "                   .with_max_iterations(200)\n",
    "                   .with_function_tolerance(5.0)\n",
    "                   .with_aad_jacobian(False)\n",
    "                   .with_debug(True)\n",
    "                   .with_lambda(1.0e-02)\n",
    "                   .with_accept_uphill_step(False)\n",
    "                   .with_type(levenberg_marquardt_solver_enum.NIELSEN)\n",
    "                   .with_alpha(0.75)\n",
    "                   .with_parameter_tolerance(0)\n",
    "                   .with_gradient_tolerance(0.0)\n",
    "                   .with_epsilon(0.1)\n",
    "                   .build())\n",
    "\n",
    "volatility_bounds = [0.0001, 0.1]\n",
    "decay_bounds = [0.0001, 1.0]\n",
    "calibration_settings =( calibrationHjmSettingsBuilder()\n",
    "                .with_solver_options(solver_opts)\n",
    "                .with_type(parameter_markovian_hjm_enum.PICEWISE_CONSTANT)\n",
    "                .with_number_of_factors(correlation.rows())\n",
    "                .with_volatility_bounds(volatility_bounds)\n",
    "                .with_decay_bounds(decay_bounds)\n",
    "                .with_calibrate_correlation_flag(False)\n",
    "                .with_calibrate_to_all_target_flag(False)\n",
    "                .with_regularization_factor(0.00001)\n",
    "                .with_regularization_flag(False)\n",
    "                .build())\n",
    "\n",
    "solver_opts =( solverOptionsLmBuilder()\n",
    "                       .with_max_iterations(200)\n",
    "                       .with_function_tolerance(5.0)\n",
    "                       .with_aad_jacobian(True)\n",
    "                       .with_debug(True)\n",
    "                       .with_lambda(1.0e-02)\n",
    "                       .with_accept_uphill_step(False)\n",
    "                       .with_type(levenberg_marquardt_solver_enum.NIELSEN)\n",
    "                       .with_alpha(0.75)\n",
    "                       .with_parameter_tolerance(0)\n",
    "                       .with_gradient_tolerance(0.0)\n",
    "                       .with_epsilon(0.1)\n",
    "                       .build())\n",
    "\n",
    "calibration_settings_aad =(calibrationHjmSettingsBuilder()\n",
    "                .with_solver_options(solver_opts)\n",
    "                .with_type(parameter_markovian_hjm_enum.PICEWISE_CONSTANT)\n",
    "                .with_number_of_factors(correlation.rows())\n",
    "                .with_volatility_bounds(volatility_bounds)\n",
    "                .with_decay_bounds(decay_bounds)\n",
    "                .with_calibrate_correlation_flag(False)\n",
    "                .with_calibrate_to_all_target_flag(False)\n",
    "                .with_regularization_factor(0.00001)\n",
    "                .with_regularization_flag(False)\n",
    "                .build())\n",
    "\n",
    "convention = dayCountConvention()"
   ]
  },
  {
   "cell_type": "code",
   "execution_count": 7,
   "metadata": {},
   "outputs": [],
   "source": [
    "# print(target_config)"
   ]
  },
  {
   "cell_type": "markdown",
   "metadata": {},
   "source": [
    "# Static data"
   ]
  },
  {
   "cell_type": "code",
   "execution_count": 8,
   "metadata": {},
   "outputs": [],
   "source": [
    "mkt_data_obj = market_data.market_data(XSIGMA_DATA_ROOT)"
   ]
  },
  {
   "cell_type": "code",
   "execution_count": 9,
   "metadata": {},
   "outputs": [],
   "source": [
    "calibrator = calibrationIrHjm(valuation_date, target_config)"
   ]
  },
  {
   "cell_type": "markdown",
   "metadata": {},
   "source": [
    "# Run calibration"
   ]
  },
  {
   "cell_type": "code",
   "execution_count": 10,
   "metadata": {},
   "outputs": [
    {
     "name": "stdout",
     "output_type": "stream",
     "text": [
      "0.1027224063873291\n"
     ]
    }
   ],
   "source": [
    "start = time.time()\n",
    "parameter = calibrator.calibrate(\n",
    "    parameterMarkovianHjmId(diffusion_id),\n",
    "    calibration_settings_aad,\n",
    "    discount_curve,\n",
    "    ir_volatility_surface,\n",
    "    correlation_mgr,\n",
    ")\n",
    "end = time.time()\n",
    "m1 = end - start\n",
    "print(end - start)"
   ]
  },
  {
   "cell_type": "code",
   "execution_count": 11,
   "metadata": {},
   "outputs": [
    {
     "name": "stdout",
     "output_type": "stream",
     "text": [
      "5.817120313644409\n"
     ]
    }
   ],
   "source": [
    "start = time.time()\n",
    "parameter = calibrator.calibrate(\n",
    "    parameterMarkovianHjmId(diffusion_id),\n",
    "    calibration_settings,\n",
    "    discount_curve,\n",
    "    ir_volatility_surface,\n",
    "    correlation_mgr,\n",
    ")\n",
    "end = time.time()\n",
    "m2 = end - start\n",
    "print(end - start)"
   ]
  },
  {
   "cell_type": "code",
   "execution_count": 12,
   "metadata": {},
   "outputs": [
    {
     "data": {
      "text/plain": [
       "56.62951753398522"
      ]
     },
     "execution_count": 12,
     "metadata": {},
     "output_type": "execute_result"
    }
   ],
   "source": [
    "m2 / m1"
   ]
  },
  {
   "cell_type": "markdown",
   "metadata": {},
   "source": [
    "# Simulation"
   ]
  },
  {
   "cell_type": "code",
   "execution_count": 13,
   "metadata": {},
   "outputs": [
    {
     "ename": "NameError",
     "evalue": "name 'randomConfigBuilder' is not defined",
     "output_type": "error",
     "traceback": [
      "\u001b[1;31m---------------------------------------------------------------------------\u001b[0m",
      "\u001b[1;31mNameError\u001b[0m                                 Traceback (most recent call last)",
      "Cell \u001b[1;32mIn[13], line 11\u001b[0m\n\u001b[0;32m      8\u001b[0m anyobject\u001b[38;5;241m.\u001b[39mappend(anyObject(measure(discount_id)))\n\u001b[0;32m     10\u001b[0m num_of_paths \u001b[38;5;241m=\u001b[39m \u001b[38;5;241m262144\u001b[39m\n\u001b[1;32m---> 11\u001b[0m config \u001b[38;5;241m=\u001b[39m \u001b[43mrandomConfigBuilder\u001b[49m()\u001b[38;5;241m.\u001b[39mwith_main_generator_type(random_enum\u001b[38;5;241m.\u001b[39mSOBOL_BROWNIAN_BRIDGE)\u001b[38;5;241m.\u001b[39mwith_seed(\u001b[38;5;241m12765793\u001b[39m)\u001b[38;5;241m.\u001b[39mwith_number_of_paths_per_batch(num_of_paths)\u001b[38;5;241m.\u001b[39mbuild()\n\u001b[0;32m     13\u001b[0m anyids\u001b[38;5;241m.\u001b[39mappend(anyId(randomConfigId()))\n\u001b[0;32m     14\u001b[0m anyobject\u001b[38;5;241m.\u001b[39mappend(anyObject(config))\n",
      "\u001b[1;31mNameError\u001b[0m: name 'randomConfigBuilder' is not defined"
     ]
    }
   ],
   "source": [
    "anyids.append(anyId(parameterMarkovianHjmId(diffusion_id)))\n",
    "anyobject.append(anyObject(parameter))\n",
    "\n",
    "anyids.append(anyId(dynamicInstructionIrId(diffusion_id)))\n",
    "anyobject.append(anyObject(dynamicInstructionIrMarkovianHjm()))\n",
    "\n",
    "anyids.append(anyId(measureId()))\n",
    "anyobject.append(anyObject(measure(discount_id)))\n",
    "\n",
    "num_of_paths = 262144\n",
    "config = randomConfigBuilder().with_main_generator_type(random_enum.SOBOL_BROWNIAN_BRIDGE).with_seed(12765793).with_number_of_paths_per_batch(num_of_paths).build()\n",
    "\n",
    "anyids.append(anyId(randomConfigId()))\n",
    "anyobject.append(anyObject(config))\n",
    "\n",
    "market = anyContainer(anyids, anyobject)\n",
    "\n",
    "simulation_dates = helper.simulation_dates(valuation_date, \"3M\", 120)\n",
    "\n",
    "maturity = max(simulation_dates)\n",
    "\n",
    "sim = simulation.Simulation(\n",
    "    mkt_data_obj,\n",
    "    num_of_paths,\n",
    "    target_config.frequency(),\n",
    "    target_config.expiries(),\n",
    "    target_config.cms_tenors(),\n",
    "    target_config.coterminal(),\n",
    "    maturity,\n",
    "    simulation_dates,\n",
    ")\n",
    "\n",
    "sim.run_simulation(diffusion_ids, market, simulation_dates)"
   ]
  },
  {
   "cell_type": "code",
   "execution_count": null,
   "metadata": {},
   "outputs": [],
   "source": [
    "sim.plot(simulation_dates)"
   ]
  },
  {
   "cell_type": "code",
   "execution_count": null,
   "metadata": {},
   "outputs": [],
   "source": []
  },
  {
   "cell_type": "code",
   "execution_count": null,
   "metadata": {},
   "outputs": [],
   "source": []
  }
 ],
 "metadata": {
  "kernelspec": {
   "display_name": "Python 3 (ipykernel)",
   "language": "python",
   "name": "python3"
  },
  "language_info": {
   "codemirror_mode": {
    "name": "ipython",
    "version": 3
   },
   "file_extension": ".py",
   "mimetype": "text/x-python",
   "name": "python",
   "nbconvert_exporter": "python",
   "pygments_lexer": "ipython3",
   "version": "3.12.7"
  }
 },
 "nbformat": 4,
 "nbformat_minor": 4
}
