{
 "cells": [
  {
   "cell_type": "markdown",
   "metadata": {},
   "source": [
    "# ZABR and SABR PDE Interactive Models\n",
    "\n",
    "This notebook provides interactive visualizations for ZABR Classic, ZABR Mixture, and SABR PDE models."
   ]
  },
  {
   "cell_type": "code",
   "execution_count": 1,
   "metadata": {},
   "outputs": [],
   "source": [
    "import common.sabrHelper as sabr\n",
    "import numpy as np\n",
    "from xsigmamodules.Market import (\n",
    "    volatilityModelSabr,\n",
    "    volatilityModelPdeClassic,\n",
    "    volatilityModelZabrClassic,\n",
    "    volatilityModelZabrMixture,\n",
    "    volatility_model_output_enum,\n",
    ")\n",
    "\n",
    "%matplotlib inline"
   ]
  },
  {
   "cell_type": "markdown",
   "metadata": {},
   "source": [
    "\n",
    "ZABR SDE: $$dF_t=z_t\\sigma(F_t)dW^{s}_t, \\quad \\textrm{and} \\quad dz_t=\\varepsilon(z) z_tdW^{z}_t, \\quad \\textrm{with} \\quad dW^{s}_t.dW^{z}_t=\\rho dt$$\n",
    "the voltility function: $$\\sigma(F_t)$$ $$\\varepsilon(z_t)=\\nu z_t^{\\gamma-1}$$\n",
    "$$z_0:\\quad \\textrm{initial vol we set }z_0 = 1 \\quad $$\n",
    "$$\\nu:\\quad \\textrm{vol of volatilty,} \\quad $$\n",
    "$$\\rho:\\quad \\textrm{correlation,} \\quad $$"
   ]
  },
  {
   "cell_type": "markdown",
   "metadata": {},
   "source": [
    "## ZABR Classic"
   ]
  },
  {
   "cell_type": "markdown",
   "metadata": {},
   "source": [
    "$$\\sigma(F_t)=\\alpha F_t^\\beta$$"
   ]
  },
  {
   "cell_type": "code",
   "execution_count": 2,
   "metadata": {},
   "outputs": [
    {
     "data": {
      "application/vnd.jupyter.widget-view+json": {
       "model_id": "2e57b25e875f4bc8b82726d9d458b16b",
       "version_major": 2,
       "version_minor": 0
      },
      "text/plain": [
       "VBox(children=(HBox(children=(FloatSlider(value=10.0, description='Expiry', max=30.0, min=0.003, step=1.0, sty…"
      ]
     },
     "metadata": {},
     "output_type": "display_data"
    },
    {
     "data": {
      "application/vnd.jupyter.widget-view+json": {
       "model_id": "c8f84db67e5847e285f008c5214e2ab5",
       "version_major": 2,
       "version_minor": 0
      },
      "text/plain": [
       "Output()"
      ]
     },
     "metadata": {},
     "output_type": "display_data"
    }
   ],
   "source": [
    "zabr_classic_params = {\n",
    "    \"expiry\": 10.0,\n",
    "    \"forward\": 0.0325,\n",
    "    \"alpha\": 0.0873,\n",
    "    \"beta\": 0.7,\n",
    "    \"nu\": 0.47,\n",
    "    \"rho\": -0.48,\n",
    "    \"shift\": 0.0,\n",
    "    \"gamma\": 1.0,\n",
    "    \"use_vol_adjustement\": True,\n",
    "}\n",
    "n = 100\n",
    "zabr_classic_x = np.linspace(0.0, 0.2, n)\n",
    "sabr.create_volatility_plotter(\n",
    "    volatilityModelZabrClassic,\n",
    "    zabr_classic_params,\n",
    "    zabr_classic_x,\n",
    "    n,\n",
    "    zabr_classic_x[0],\n",
    "    zabr_classic_x[-1],\n",
    "    \"ZABR Classic\",\n",
    ")"
   ]
  },
  {
   "cell_type": "markdown",
   "metadata": {},
   "source": [
    "## SABR PDE"
   ]
  },
  {
   "cell_type": "code",
   "execution_count": 3,
   "metadata": {},
   "outputs": [
    {
     "data": {
      "application/vnd.jupyter.widget-view+json": {
       "model_id": "83fbbc71f1b542128f9c587acbefd52c",
       "version_major": 2,
       "version_minor": 0
      },
      "text/plain": [
       "VBox(children=(HBox(children=(FloatSlider(value=30.0, description='Expiry', max=30.0, min=0.003, step=1.0, sty…"
      ]
     },
     "metadata": {},
     "output_type": "display_data"
    },
    {
     "data": {
      "application/vnd.jupyter.widget-view+json": {
       "model_id": "27bb7de1fdb046dea4cf496e1e5824ca",
       "version_major": 2,
       "version_minor": 0
      },
      "text/plain": [
       "Output()"
      ]
     },
     "metadata": {},
     "output_type": "display_data"
    }
   ],
   "source": [
    "sabr_pde_params = {\n",
    "    \"expiry\": 30.0,\n",
    "    \"forward\": 0.02,\n",
    "    \"alpha\": 0.035,\n",
    "    \"beta\": 0.25,\n",
    "    \"nu\": 1.0,\n",
    "    \"rho\": -0.1,\n",
    "    \"shift\": 0.0,\n",
    "    \"N\": 100,\n",
    "    \"timesteps\": 5,\n",
    "    \"nd\": 5,\n",
    "}\n",
    "n = 100\n",
    "sabr_pde_x = np.linspace(0.0, 0.2, n)\n",
    "sabr.create_volatility_plotter(\n",
    "    volatilityModelPdeClassic, sabr_pde_params, sabr_pde_x, n, 0.001, 0.2, \"SABR PDE\"\n",
    ")"
   ]
  },
  {
   "cell_type": "markdown",
   "metadata": {},
   "source": [
    "## ZABR Mixture"
   ]
  },
  {
   "cell_type": "markdown",
   "metadata": {},
   "source": [
    "\n",
    " The volatility function is defined as:\n",
    " $$\\sigma(x) =\n",
    " \\begin{cases}\n",
    " \\alpha \\left(\\omega \\tanh(x) + (1 - \\omega) \\tanh(x)^{\\beta_2}\\right)^{\\beta_1}, & \\text{if } x \\geq x_0 \\\\\n",
    " v_1 + p \\exp\\left(\\frac{d_1}{p}(x - x_0) + \\frac{1}{2}\\left(\\frac{d_2}{p} - \\left(\\frac{d_1}{p}\\right)^2\\right)(x - x_0)^2\\right), & \\text{if } x < x_0\n",
    " \\end{cases}$$\n",
    "\n",
    " Where:\n",
    " $\\alpha$ controls the overall smile level,\n",
    " $\\beta_1$ controls ATM skew,\n",
    " $\\beta_2$ is the High Strike skew,\n",
    " $\\omega$ (Effective Speed) controls the speed of transition from $\\beta_1$ to $\\beta_2$,\n",
    " $v_1$ is the volatility level on the left part of the strike $x_0$,\n",
    " $x_0$ is a strike level where $x_0 > 0$, and\n",
    " $p = \\sigma(x_0) - v_1$.\n",
    "\n",
    " For the case with a local volatility cap:\n",
    " $$\\sigma(x) =\n",
    " \\begin{cases}\n",
    " \\sigma(x_U), & \\text{if } x \\geq x_U, \\\\\n",
    " \\sigma(x), & \\text{if } x \\leq x_U - S, \\\\\n",
    " \\sigma(x)(1 - K(\\frac{x_U - x}{S})) + \\sigma(x_U)K(\\frac{x_U - x}{S}), & \\text{else}\n",
    " \\end{cases}$$\n",
    "\n",
    " Where:\n",
    " $x_U$ is the strike threshold.\n",
    " $S$ is the smoothing parameter.\n",
    " $K(x)$ is the smooth step function.\n"
   ]
  },
  {
   "cell_type": "code",
   "execution_count": 4,
   "metadata": {},
   "outputs": [
    {
     "data": {
      "application/vnd.jupyter.widget-view+json": {
       "model_id": "10f2d1821105456cbdf574a8b6454edf",
       "version_major": 2,
       "version_minor": 0
      },
      "text/plain": [
       "VBox(children=(HBox(children=(IntSlider(value=30, description='Expiry', max=30, style=SliderStyle(description_…"
      ]
     },
     "metadata": {},
     "output_type": "display_data"
    },
    {
     "data": {
      "application/vnd.jupyter.widget-view+json": {
       "model_id": "7ae59d81b4f7412eb851a2934832c465",
       "version_major": 2,
       "version_minor": 0
      },
      "text/plain": [
       "Output()"
      ]
     },
     "metadata": {},
     "output_type": "display_data"
    }
   ],
   "source": [
    "zabr_mixture_params = {\n",
    "    \"expiry\": 30,\n",
    "    \"forward\": -0.0007,\n",
    "    \"alpha\": 0.0132,\n",
    "    \"beta1\": 0.2,\n",
    "    \"beta2\": 1.25,\n",
    "    \"d\": 0.2,\n",
    "    \"nu\": 0.1978,\n",
    "    \"rho\": -0.444,\n",
    "    \"gamma\": 1.0,\n",
    "    \"use_vol_adjustement\": True,\n",
    "    \"high_strike\": 0.1,\n",
    "    \"vol_low\": 0.0001,\n",
    "    \"low_strike\": 0.02,\n",
    "    \"forward_cut_off\": 0.02,\n",
    "    \"smothing_factor\": 0.001,\n",
    "}\n",
    "n = 401\n",
    "zabr_mixture_x = np.linspace(-0.15, 0.3, n)\n",
    "sabr.create_volatility_plotter(\n",
    "    volatilityModelZabrMixture,\n",
    "    zabr_mixture_params,\n",
    "    zabr_mixture_x,\n",
    "    n,\n",
    "    -0.15,\n",
    "    0.3,\n",
    "    \"ZABR Mixture\",\n",
    ")"
   ]
  },
  {
   "cell_type": "code",
   "execution_count": null,
   "metadata": {},
   "outputs": [],
   "source": []
  }
 ],
 "metadata": {
  "kernelspec": {
   "display_name": "Python 3 (ipykernel)",
   "language": "python",
   "name": "python3"
  },
  "language_info": {
   "codemirror_mode": {
    "name": "ipython",
    "version": 3
   },
   "file_extension": ".py",
   "mimetype": "text/x-python",
   "name": "python",
   "nbconvert_exporter": "python",
   "pygments_lexer": "ipython3",
   "version": "3.12.7"
  }
 },
 "nbformat": 4,
 "nbformat_minor": 4
}
