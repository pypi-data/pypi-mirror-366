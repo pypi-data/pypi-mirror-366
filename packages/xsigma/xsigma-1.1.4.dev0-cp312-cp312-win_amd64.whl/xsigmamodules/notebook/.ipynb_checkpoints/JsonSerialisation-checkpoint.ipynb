{
 "cells": [
  {
   "cell_type": "markdown",
   "metadata": {},
   "source": [
    "# JSON Serialization in PRETORIAN\n",
    "\n",
    "This notebook demonstrates how to serialize and deserialize objects to/from JSON in the PRETORIAN framework."
   ]
  },
  {
   "cell_type": "code",
   "execution_count": null,
   "metadata": {},
   "outputs": [],
   "source": [
    "from xsigmamodules.Util import (\n",
    "    datetimeHelper,\n",
    "    dayCountConvention,\n",
    "    yearMonthDay,\n",
    "    calendar,\n",
    ")\n",
    "from xsigmamodules.Market import (\n",
    "    discountCurveFlat,\n",
    "    anyObject,\n",
    "    anyId,\n",
    "    discountCurveId,\n",
    "    anyContainer,\n",
    "    discountCurve,\n",
    "    marketData,\n",
    ")\n",
    "from xsigmamodules.util.misc import xsigmaGetDataRoot, xsigmaGetTempDir\n",
    "import os"
   ]
  },
  {
   "cell_type": "markdown",
   "metadata": {},
   "source": [
    "## Setup Data Directory\n",
    "\n",
    "First, let's set up the data directory where we'll save our JSON files."
   ]
  },
  {
   "cell_type": "code",
   "execution_count": null,
   "metadata": {},
   "outputs": [],
   "source": [
    "# Get the data root directory\n",
    "XSIGMA_DATA_ROOT = xsigmaGetDataRoot()\n",
    "print(f\"Data root directory: {XSIGMA_DATA_ROOT}\")\n",
    "\n",
    "# Create a subdirectory for our JSON files\n",
    "JSON_DIR = os.path.join(XSIGMA_DATA_ROOT, \"json_serialization\")\n",
    "os.makedirs(JSON_DIR, exist_ok=True)\n",
    "print(f\"JSON directory: {JSON_DIR}\")"
   ]
  },
  {
   "cell_type": "markdown",
   "metadata": {},
   "source": [
    "## Create and Serialize Objects\n",
    "\n",
    "Now let's create some objects and serialize them to JSON."
   ]
  },
  {
   "cell_type": "code",
   "execution_count": null,
   "metadata": {},
   "outputs": [],
   "source": [
    "# Create a valuation date\n",
    "valuation_date = yearMonthDay(2020, 1, 21).to_datetime()\n",
    "print(f\"Valuation date: {valuation_date}\")\n",
    "\n",
    "# Create a discount curve\n",
    "discount_curve = discountCurveFlat(valuation_date, 0.01, dayCountConvention())\n",
    "\n",
    "# Serialize the discount curve to JSON\n",
    "discount_curve_path = os.path.join(JSON_DIR, \"discount_curve_flat.json\")\n",
    "discount_curve.write_to_json(discount_curve_path, discount_curve)\n",
    "print(f\"Discount curve serialized to: {discount_curve_path}\")"
   ]
  },
  {
   "cell_type": "markdown",
   "metadata": {},
   "source": [
    "## Wrap Objects in anyObject\n",
    "\n",
    "The `anyObject` class is a wrapper that can hold any object. This is useful for storing objects in containers."
   ]
  },
  {
   "cell_type": "code",
   "execution_count": null,
   "metadata": {},
   "outputs": [],
   "source": [
    "# Wrap the discount curve in an anyObject\n",
    "any_obj = anyObject(discount_curve)\n",
    "\n",
    "# Serialize the anyObject to JSON\n",
    "any_obj_path = os.path.join(JSON_DIR, \"any_object_discount_curve_flat.json\")\n",
    "any_obj.write_to_json(any_obj_path, any_obj)\n",
    "print(f\"anyObject serialized to: {any_obj_path}\")"
   ]
  },
  {
   "cell_type": "markdown",
   "metadata": {},
   "source": [
    "## Deserialize Objects\n",
    "\n",
    "Now let's deserialize the objects from JSON."
   ]
  },
  {
   "cell_type": "code",
   "execution_count": null,
   "metadata": {},
   "outputs": [],
   "source": [
    "# Deserialize the anyObject from JSON\n",
    "deserialized_any_obj = anyObject.read_from_json(any_obj_path)\n",
    "print(f\"Deserialized anyObject index: {deserialized_any_obj.index()}\")\n",
    "\n",
    "# Deserialize the discount curve from JSON\n",
    "deserialized_discount_curve = discountCurveFlat.read_from_json(discount_curve_path)\n",
    "# The discountCurveFlat class doesn't have a rate() method\n",
    "# Let's print the object instead\n",
    "print(f\"Deserialized discount curve: {deserialized_discount_curve}\")"
   ]
  },
  {
   "cell_type": "markdown",
   "metadata": {},
   "source": [
    "## Create and Use IDs\n",
    "\n",
    "The `anyId` class is a wrapper for IDs that can be used to identify objects in containers."
   ]
  },
  {
   "cell_type": "code",
   "execution_count": null,
   "metadata": {},
   "outputs": [],
   "source": [
    "# Create a discount curve ID\n",
    "discount_id = discountCurveId(\"EUR3M\", \"EUR\")\n",
    "print(\"Discount curve ID:\")\n",
    "print(discount_id)"
   ]
  },
  {
   "cell_type": "code",
   "execution_count": null,
   "metadata": {},
   "outputs": [],
   "source": [
    "# Wrap the ID in an anyId\n",
    "any_id = anyId(discount_id)\n",
    "print(\"anyId:\")\n",
    "print(any_id)"
   ]
  },
  {
   "cell_type": "markdown",
   "metadata": {},
   "source": [
    "## Create and Use Containers\n",
    "\n",
    "The `anyContainer` class is a container that can hold objects identified by IDs."
   ]
  },
  {
   "cell_type": "code",
   "execution_count": null,
   "metadata": {},
   "outputs": [],
   "source": [
    "# Create a container with the discount curve\n",
    "container = anyContainer([any_id], [any_obj])\n",
    "print(\"Container:\")\n",
    "print(container)"
   ]
  },
  {
   "cell_type": "markdown",
   "metadata": {},
   "source": [
    "## Update the Container\n",
    "\n",
    "Now let's add another object to the container."
   ]
  },
  {
   "cell_type": "code",
   "execution_count": null,
   "metadata": {},
   "outputs": [],
   "source": [
    "# Create another ID and object\n",
    "another_id = anyId(discountCurveId(\"EUR6M\", \"EUR\"))\n",
    "another_obj = anyObject(discount_curve)\n",
    "\n",
    "# Update the container\n",
    "container.update([another_id], [another_obj])\n",
    "print(\"Updated container:\")\n",
    "print(container)"
   ]
  },
  {
   "cell_type": "markdown",
   "metadata": {},
   "source": [
    "## Access Objects in the Container\n",
    "\n",
    "Now let's access the objects in the container using their IDs."
   ]
  },
  {
   "cell_type": "code",
   "execution_count": null,
   "metadata": {},
   "outputs": [],
   "source": [
    "# Check if the container contains the ID\n",
    "print(f\"Container contains EUR3M: {container.contains(any_id)}\")\n",
    "print(f\"Container contains EUR6M: {container.contains(another_id)}\")"
   ]
  },
  {
   "cell_type": "code",
   "execution_count": null,
   "metadata": {},
   "outputs": [],
   "source": [
    "# Since anyContainer doesn't have a 'get' method, we need to use a different approach\n",
    "# We can check if the container contains the ID\n",
    "if container.contains(another_id):\n",
    "    print(f\"Container contains the ID: {another_id}\")\n",
    "    print(\"Container content:\")\n",
    "    print(container)\n",
    "else:\n",
    "    print(f\"Container does not contain the ID: {another_id}\")"
   ]
  },
  {
   "cell_type": "markdown",
   "metadata": {},
   "source": [
    "## Serialize the Container\n",
    "\n",
    "Finally, let's serialize the container to JSON."
   ]
  },
  {
   "cell_type": "code",
   "execution_count": null,
   "metadata": {},
   "outputs": [],
   "source": [
    "# Serialize the container to JSON\n",
    "container_path = os.path.join(JSON_DIR, \"container.json\")\n",
    "anyContainer.write_to_json(container_path, container)\n",
    "print(f\"Container serialized to: {container_path}\")\n",
    "\n",
    "# Deserialize the container from JSON\n",
    "deserialized_container = anyContainer.read_from_json(container_path)\n",
    "print(\"Deserialized container:\")\n",
    "print(deserialized_container)"
   ]
  },
  {
   "cell_type": "markdown",
   "metadata": {},
   "source": [
    "## Summary\n",
    "\n",
    "In this notebook, we've demonstrated how to:\n",
    "\n",
    "1. Create and serialize objects to JSON\n",
    "2. Deserialize objects from JSON\n",
    "3. Use `anyObject` to wrap objects\n",
    "4. Use `anyId` to identify objects\n",
    "5. Use `anyContainer` to store objects identified by IDs\n",
    "6. Update and access objects in a container\n",
    "7. Serialize and deserialize containers"
   ]
  }
 ],
 "metadata": {
  "kernelspec": {
   "display_name": "Python 3",
   "language": "python",
   "name": "python3"
  },
  "language_info": {
   "codemirror_mode": {
    "name": "ipython",
    "version": 3
   },
   "file_extension": ".py",
   "mimetype": "text/x-python",
   "name": "python",
   "nbconvert_exporter": "python",
   "pygments_lexer": "ipython3",
   "version": "3.11.9"
  }
 },
 "nbformat": 4,
 "nbformat_minor": 4
}
