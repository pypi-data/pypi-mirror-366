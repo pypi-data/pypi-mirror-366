{
 "cells": [
  {
   "cell_type": "markdown",
   "id": "07bfc1e2",
   "metadata": {},
   "source": [
    "# QSimBench - Demo\n",
    "\n",
    "This demo walks you through using **QSimBench** to explore available quantum benchmark data, sample reproducible outcomes, and access circuit metadata — all in a few lines of code."
   ]
  },
  {
   "cell_type": "markdown",
   "id": "3ff8283e",
   "metadata": {},
   "source": [
    "First, install QSimBench from PyPI:"
   ]
  },
  {
   "cell_type": "code",
   "execution_count": 1,
   "id": "bd34ca90",
   "metadata": {},
   "outputs": [],
   "source": [
    "# %pip install qsimbench"
   ]
  },
  {
   "cell_type": "markdown",
   "id": "546d0362",
   "metadata": {},
   "source": [
    "Start your Python session and import the main functions:"
   ]
  },
  {
   "cell_type": "code",
   "execution_count": 2,
   "id": "eae551a9",
   "metadata": {},
   "outputs": [],
   "source": [
    "from qsimbench import get_index, get_outcomes, get_metadata"
   ]
  },
  {
   "cell_type": "markdown",
   "id": "2c266572",
   "metadata": {},
   "source": [
    "Now let’s see which algorithms, sizes, and backends are available:"
   ]
  },
  {
   "cell_type": "code",
   "execution_count": 3,
   "id": "a29febcd",
   "metadata": {},
   "outputs": [
    {
     "name": "stdout",
     "output_type": "stream",
     "text": [
      "Algorithm: dj\n",
      "  Size: 10 → Backends: ['aer_simulator', 'fake_fez', 'fake_kyiv', 'fake_marrakesh', 'fake_sherbrooke', 'fake_torino']\n",
      "  Size: 11 → Backends: ['aer_simulator', 'fake_fez', 'fake_kyiv', 'fake_marrakesh', 'fake_sherbrooke', 'fake_torino']\n",
      "  Size: 12 → Backends: ['aer_simulator', 'fake_fez', 'fake_kyiv', 'fake_marrakesh', 'fake_sherbrooke', 'fake_torino']\n",
      "  Size: 13 → Backends: ['aer_simulator', 'fake_fez', 'fake_kyiv', 'fake_marrakesh', 'fake_sherbrooke', 'fake_torino']\n",
      "  Size: 14 → Backends: ['aer_simulator', 'fake_fez', 'fake_kyiv', 'fake_marrakesh', 'fake_sherbrooke', 'fake_torino']\n",
      "  Size: 15 → Backends: ['aer_simulator', 'fake_fez', 'fake_kyiv', 'fake_marrakesh', 'fake_sherbrooke', 'fake_torino']\n",
      "  Size: 4 → Backends: ['aer_simulator', 'fake_fez', 'fake_kyiv', 'fake_marrakesh', 'fake_sherbrooke', 'fake_torino']\n",
      "  Size: 5 → Backends: ['aer_simulator', 'fake_fez', 'fake_kyiv', 'fake_marrakesh', 'fake_sherbrooke', 'fake_torino']\n",
      "  Size: 6 → Backends: ['aer_simulator', 'fake_fez', 'fake_kyiv', 'fake_marrakesh', 'fake_sherbrooke', 'fake_torino']\n",
      "  Size: 7 → Backends: ['aer_simulator', 'fake_fez', 'fake_kyiv', 'fake_marrakesh', 'fake_sherbrooke', 'fake_torino']\n",
      "  Size: 8 → Backends: ['aer_simulator', 'fake_fez', 'fake_kyiv', 'fake_marrakesh', 'fake_sherbrooke', 'fake_torino']\n",
      "  Size: 9 → Backends: ['aer_simulator', 'fake_fez', 'fake_kyiv', 'fake_marrakesh', 'fake_sherbrooke', 'fake_torino']\n",
      "\n",
      "Algorithm: ghz\n",
      "  Size: 10 → Backends: ['aer_simulator', 'fake_fez', 'fake_kyiv', 'fake_marrakesh', 'fake_sherbrooke', 'fake_torino']\n",
      "  Size: 11 → Backends: ['aer_simulator', 'fake_fez', 'fake_kyiv', 'fake_marrakesh', 'fake_sherbrooke', 'fake_torino']\n",
      "  Size: 12 → Backends: ['aer_simulator', 'fake_fez', 'fake_kyiv', 'fake_marrakesh', 'fake_sherbrooke', 'fake_torino']\n",
      "  Size: 13 → Backends: ['aer_simulator', 'fake_fez', 'fake_kyiv', 'fake_marrakesh', 'fake_sherbrooke', 'fake_torino']\n",
      "  Size: 14 → Backends: ['aer_simulator', 'fake_fez', 'fake_kyiv', 'fake_marrakesh', 'fake_sherbrooke', 'fake_torino']\n",
      "  Size: 15 → Backends: ['aer_simulator', 'fake_fez', 'fake_kyiv', 'fake_marrakesh', 'fake_sherbrooke', 'fake_torino']\n",
      "  Size: 4 → Backends: ['aer_simulator', 'fake_fez', 'fake_kyiv', 'fake_marrakesh', 'fake_sherbrooke', 'fake_torino']\n",
      "  Size: 5 → Backends: ['aer_simulator', 'fake_fez', 'fake_kyiv', 'fake_marrakesh', 'fake_sherbrooke', 'fake_torino']\n",
      "  Size: 6 → Backends: ['aer_simulator', 'fake_fez', 'fake_kyiv', 'fake_marrakesh', 'fake_sherbrooke', 'fake_torino']\n",
      "  Size: 7 → Backends: ['aer_simulator', 'fake_fez', 'fake_kyiv', 'fake_marrakesh', 'fake_sherbrooke', 'fake_torino']\n",
      "  Size: 8 → Backends: ['aer_simulator', 'fake_fez', 'fake_kyiv', 'fake_marrakesh', 'fake_sherbrooke', 'fake_torino']\n",
      "  Size: 9 → Backends: ['aer_simulator', 'fake_fez', 'fake_kyiv', 'fake_marrakesh', 'fake_sherbrooke', 'fake_torino']\n",
      "\n",
      "Algorithm: grover-noancilla\n",
      "  Size: 4 → Backends: ['aer_simulator', 'fake_fez', 'fake_kyiv', 'fake_marrakesh', 'fake_sherbrooke', 'fake_torino']\n",
      "  Size: 5 → Backends: ['aer_simulator', 'fake_fez', 'fake_kyiv', 'fake_marrakesh', 'fake_sherbrooke', 'fake_torino']\n",
      "  Size: 6 → Backends: ['aer_simulator', 'fake_fez', 'fake_kyiv', 'fake_marrakesh', 'fake_sherbrooke', 'fake_torino']\n",
      "  Size: 7 → Backends: ['aer_simulator', 'fake_fez', 'fake_kyiv', 'fake_marrakesh', 'fake_sherbrooke', 'fake_torino']\n",
      "  Size: 8 → Backends: ['aer_simulator', 'fake_fez', 'fake_kyiv', 'fake_marrakesh', 'fake_sherbrooke', 'fake_torino']\n",
      "  Size: 9 → Backends: ['aer_simulator', 'fake_fez', 'fake_kyiv', 'fake_marrakesh', 'fake_sherbrooke', 'fake_torino']\n",
      "\n",
      "Algorithm: qaoa\n",
      "  Size: 10 → Backends: ['aer_simulator', 'fake_fez', 'fake_kyiv', 'fake_marrakesh', 'fake_sherbrooke', 'fake_torino']\n",
      "  Size: 11 → Backends: ['aer_simulator', 'fake_fez', 'fake_kyiv', 'fake_marrakesh', 'fake_sherbrooke', 'fake_torino']\n",
      "  Size: 12 → Backends: ['aer_simulator', 'fake_fez', 'fake_kyiv', 'fake_marrakesh', 'fake_sherbrooke', 'fake_torino']\n",
      "  Size: 13 → Backends: ['aer_simulator', 'fake_fez', 'fake_kyiv', 'fake_marrakesh', 'fake_sherbrooke', 'fake_torino']\n",
      "  Size: 14 → Backends: ['aer_simulator', 'fake_fez', 'fake_kyiv', 'fake_marrakesh', 'fake_sherbrooke', 'fake_torino']\n",
      "  Size: 15 → Backends: ['aer_simulator', 'fake_fez', 'fake_kyiv', 'fake_marrakesh', 'fake_sherbrooke', 'fake_torino']\n",
      "  Size: 4 → Backends: ['aer_simulator', 'fake_fez', 'fake_kyiv', 'fake_marrakesh', 'fake_sherbrooke', 'fake_torino']\n",
      "  Size: 5 → Backends: ['aer_simulator', 'fake_fez', 'fake_kyiv', 'fake_marrakesh', 'fake_sherbrooke', 'fake_torino']\n",
      "  Size: 6 → Backends: ['aer_simulator', 'fake_fez', 'fake_kyiv', 'fake_marrakesh', 'fake_sherbrooke', 'fake_torino']\n",
      "  Size: 7 → Backends: ['aer_simulator', 'fake_fez', 'fake_kyiv', 'fake_marrakesh', 'fake_sherbrooke', 'fake_torino']\n",
      "  Size: 8 → Backends: ['aer_simulator', 'fake_fez', 'fake_kyiv', 'fake_marrakesh', 'fake_sherbrooke', 'fake_torino']\n",
      "  Size: 9 → Backends: ['aer_simulator', 'fake_fez', 'fake_kyiv', 'fake_marrakesh', 'fake_sherbrooke', 'fake_torino']\n",
      "\n",
      "Algorithm: qft\n",
      "  Size: 10 → Backends: ['aer_simulator', 'fake_fez', 'fake_kyiv', 'fake_marrakesh', 'fake_sherbrooke', 'fake_torino']\n",
      "  Size: 11 → Backends: ['aer_simulator', 'fake_fez', 'fake_kyiv', 'fake_marrakesh', 'fake_sherbrooke', 'fake_torino']\n",
      "  Size: 12 → Backends: ['aer_simulator', 'fake_fez', 'fake_kyiv', 'fake_marrakesh', 'fake_sherbrooke', 'fake_torino']\n",
      "  Size: 13 → Backends: ['aer_simulator', 'fake_fez', 'fake_kyiv', 'fake_marrakesh', 'fake_sherbrooke', 'fake_torino']\n",
      "  Size: 14 → Backends: ['aer_simulator', 'fake_fez', 'fake_kyiv', 'fake_marrakesh', 'fake_sherbrooke', 'fake_torino']\n",
      "  Size: 15 → Backends: ['aer_simulator', 'fake_fez', 'fake_kyiv', 'fake_marrakesh', 'fake_sherbrooke', 'fake_torino']\n",
      "  Size: 4 → Backends: ['aer_simulator', 'fake_fez', 'fake_kyiv', 'fake_marrakesh', 'fake_sherbrooke', 'fake_torino']\n",
      "  Size: 5 → Backends: ['aer_simulator', 'fake_fez', 'fake_kyiv', 'fake_marrakesh', 'fake_sherbrooke', 'fake_torino']\n",
      "  Size: 6 → Backends: ['aer_simulator', 'fake_fez', 'fake_kyiv', 'fake_marrakesh', 'fake_sherbrooke', 'fake_torino']\n",
      "  Size: 7 → Backends: ['aer_simulator', 'fake_fez', 'fake_kyiv', 'fake_marrakesh', 'fake_sherbrooke', 'fake_torino']\n",
      "  Size: 8 → Backends: ['aer_simulator', 'fake_fez', 'fake_kyiv', 'fake_marrakesh', 'fake_sherbrooke', 'fake_torino']\n",
      "  Size: 9 → Backends: ['aer_simulator', 'fake_fez', 'fake_kyiv', 'fake_marrakesh', 'fake_sherbrooke', 'fake_torino']\n",
      "\n",
      "Algorithm: qnn\n",
      "  Size: 10 → Backends: ['aer_simulator', 'fake_fez', 'fake_kyiv', 'fake_marrakesh', 'fake_sherbrooke', 'fake_torino']\n",
      "  Size: 11 → Backends: ['aer_simulator', 'fake_fez', 'fake_kyiv', 'fake_marrakesh', 'fake_sherbrooke', 'fake_torino']\n",
      "  Size: 12 → Backends: ['aer_simulator', 'fake_fez', 'fake_kyiv', 'fake_marrakesh', 'fake_sherbrooke', 'fake_torino']\n",
      "  Size: 13 → Backends: ['aer_simulator', 'fake_fez', 'fake_kyiv', 'fake_marrakesh', 'fake_sherbrooke', 'fake_torino']\n",
      "  Size: 14 → Backends: ['aer_simulator', 'fake_fez', 'fake_kyiv', 'fake_marrakesh', 'fake_sherbrooke', 'fake_torino']\n",
      "  Size: 15 → Backends: ['aer_simulator', 'fake_fez', 'fake_kyiv', 'fake_marrakesh', 'fake_sherbrooke', 'fake_torino']\n",
      "  Size: 4 → Backends: ['aer_simulator', 'fake_fez', 'fake_kyiv', 'fake_marrakesh', 'fake_sherbrooke', 'fake_torino']\n",
      "  Size: 5 → Backends: ['aer_simulator', 'fake_fez', 'fake_kyiv', 'fake_marrakesh', 'fake_sherbrooke', 'fake_torino']\n",
      "  Size: 6 → Backends: ['aer_simulator', 'fake_fez', 'fake_kyiv', 'fake_marrakesh', 'fake_sherbrooke', 'fake_torino']\n",
      "  Size: 7 → Backends: ['aer_simulator', 'fake_fez', 'fake_kyiv', 'fake_marrakesh', 'fake_sherbrooke', 'fake_torino']\n",
      "  Size: 8 → Backends: ['aer_simulator', 'fake_fez', 'fake_kyiv', 'fake_marrakesh', 'fake_sherbrooke', 'fake_torino']\n",
      "  Size: 9 → Backends: ['aer_simulator', 'fake_fez', 'fake_kyiv', 'fake_marrakesh', 'fake_sherbrooke', 'fake_torino']\n",
      "\n",
      "Algorithm: qpeexact\n",
      "  Size: 10 → Backends: ['aer_simulator', 'fake_fez', 'fake_kyiv', 'fake_marrakesh', 'fake_sherbrooke', 'fake_torino']\n",
      "  Size: 11 → Backends: ['aer_simulator', 'fake_fez', 'fake_kyiv', 'fake_marrakesh', 'fake_sherbrooke', 'fake_torino']\n",
      "  Size: 12 → Backends: ['aer_simulator', 'fake_fez', 'fake_kyiv', 'fake_marrakesh', 'fake_sherbrooke', 'fake_torino']\n",
      "  Size: 13 → Backends: ['aer_simulator', 'fake_fez', 'fake_kyiv', 'fake_marrakesh', 'fake_sherbrooke', 'fake_torino']\n",
      "  Size: 14 → Backends: ['aer_simulator', 'fake_fez', 'fake_kyiv', 'fake_marrakesh', 'fake_sherbrooke', 'fake_torino']\n",
      "  Size: 15 → Backends: ['aer_simulator', 'fake_fez', 'fake_kyiv', 'fake_marrakesh', 'fake_sherbrooke', 'fake_torino']\n",
      "  Size: 4 → Backends: ['aer_simulator', 'fake_fez', 'fake_kyiv', 'fake_marrakesh', 'fake_sherbrooke', 'fake_torino']\n",
      "  Size: 5 → Backends: ['aer_simulator', 'fake_fez', 'fake_kyiv', 'fake_marrakesh', 'fake_sherbrooke', 'fake_torino']\n",
      "  Size: 6 → Backends: ['aer_simulator', 'fake_fez', 'fake_kyiv', 'fake_marrakesh', 'fake_sherbrooke', 'fake_torino']\n",
      "  Size: 7 → Backends: ['aer_simulator', 'fake_fez', 'fake_kyiv', 'fake_marrakesh', 'fake_sherbrooke', 'fake_torino']\n",
      "  Size: 8 → Backends: ['aer_simulator', 'fake_fez', 'fake_kyiv', 'fake_marrakesh', 'fake_sherbrooke', 'fake_torino']\n",
      "  Size: 9 → Backends: ['aer_simulator', 'fake_fez', 'fake_kyiv', 'fake_marrakesh', 'fake_sherbrooke', 'fake_torino']\n",
      "\n",
      "Algorithm: random\n",
      "  Size: 10 → Backends: ['aer_simulator', 'fake_fez', 'fake_kyiv', 'fake_marrakesh', 'fake_sherbrooke', 'fake_torino']\n",
      "  Size: 11 → Backends: ['aer_simulator', 'fake_fez', 'fake_kyiv', 'fake_marrakesh', 'fake_sherbrooke', 'fake_torino']\n",
      "  Size: 12 → Backends: ['aer_simulator', 'fake_fez', 'fake_kyiv', 'fake_marrakesh', 'fake_sherbrooke', 'fake_torino']\n",
      "  Size: 13 → Backends: ['aer_simulator', 'fake_fez', 'fake_kyiv', 'fake_marrakesh', 'fake_sherbrooke', 'fake_torino']\n",
      "  Size: 14 → Backends: ['aer_simulator', 'fake_fez', 'fake_kyiv', 'fake_marrakesh', 'fake_sherbrooke', 'fake_torino']\n",
      "  Size: 15 → Backends: ['aer_simulator', 'fake_fez', 'fake_kyiv', 'fake_marrakesh', 'fake_sherbrooke', 'fake_torino']\n",
      "  Size: 4 → Backends: ['aer_simulator', 'fake_fez', 'fake_kyiv', 'fake_marrakesh', 'fake_sherbrooke', 'fake_torino']\n",
      "  Size: 5 → Backends: ['aer_simulator', 'fake_fez', 'fake_kyiv', 'fake_marrakesh', 'fake_sherbrooke', 'fake_torino']\n",
      "  Size: 6 → Backends: ['aer_simulator', 'fake_fez', 'fake_kyiv', 'fake_marrakesh', 'fake_sherbrooke', 'fake_torino']\n",
      "  Size: 7 → Backends: ['aer_simulator', 'fake_fez', 'fake_kyiv', 'fake_marrakesh', 'fake_sherbrooke', 'fake_torino']\n",
      "  Size: 8 → Backends: ['aer_simulator', 'fake_fez', 'fake_kyiv', 'fake_marrakesh', 'fake_sherbrooke', 'fake_torino']\n",
      "  Size: 9 → Backends: ['aer_simulator', 'fake_fez', 'fake_kyiv', 'fake_marrakesh', 'fake_sherbrooke', 'fake_torino']\n",
      "\n",
      "Algorithm: realamprandom\n",
      "  Size: 10 → Backends: ['aer_simulator', 'fake_fez', 'fake_kyiv', 'fake_marrakesh', 'fake_sherbrooke', 'fake_torino']\n",
      "  Size: 11 → Backends: ['aer_simulator', 'fake_fez', 'fake_kyiv', 'fake_marrakesh', 'fake_sherbrooke', 'fake_torino']\n",
      "  Size: 12 → Backends: ['aer_simulator', 'fake_fez', 'fake_kyiv', 'fake_marrakesh', 'fake_sherbrooke', 'fake_torino']\n",
      "  Size: 13 → Backends: ['aer_simulator', 'fake_fez', 'fake_kyiv', 'fake_marrakesh', 'fake_sherbrooke', 'fake_torino']\n",
      "  Size: 14 → Backends: ['aer_simulator', 'fake_fez', 'fake_kyiv', 'fake_marrakesh', 'fake_sherbrooke', 'fake_torino']\n",
      "  Size: 15 → Backends: ['aer_simulator', 'fake_fez', 'fake_kyiv', 'fake_marrakesh', 'fake_sherbrooke', 'fake_torino']\n",
      "  Size: 4 → Backends: ['aer_simulator', 'fake_fez', 'fake_kyiv', 'fake_marrakesh', 'fake_sherbrooke', 'fake_torino']\n",
      "  Size: 5 → Backends: ['aer_simulator', 'fake_fez', 'fake_kyiv', 'fake_marrakesh', 'fake_sherbrooke', 'fake_torino']\n",
      "  Size: 6 → Backends: ['aer_simulator', 'fake_fez', 'fake_kyiv', 'fake_marrakesh', 'fake_sherbrooke', 'fake_torino']\n",
      "  Size: 7 → Backends: ['aer_simulator', 'fake_fez', 'fake_kyiv', 'fake_marrakesh', 'fake_sherbrooke', 'fake_torino']\n",
      "  Size: 8 → Backends: ['aer_simulator', 'fake_fez', 'fake_kyiv', 'fake_marrakesh', 'fake_sherbrooke', 'fake_torino']\n",
      "  Size: 9 → Backends: ['aer_simulator', 'fake_fez', 'fake_kyiv', 'fake_marrakesh', 'fake_sherbrooke', 'fake_torino']\n",
      "\n",
      "Algorithm: su2random\n",
      "  Size: 10 → Backends: ['aer_simulator', 'fake_fez', 'fake_kyiv', 'fake_marrakesh', 'fake_sherbrooke', 'fake_torino']\n",
      "  Size: 11 → Backends: ['aer_simulator', 'fake_fez', 'fake_kyiv', 'fake_marrakesh', 'fake_sherbrooke', 'fake_torino']\n",
      "  Size: 12 → Backends: ['aer_simulator', 'fake_fez', 'fake_kyiv', 'fake_marrakesh', 'fake_sherbrooke', 'fake_torino']\n",
      "  Size: 13 → Backends: ['aer_simulator', 'fake_fez', 'fake_kyiv', 'fake_marrakesh', 'fake_sherbrooke', 'fake_torino']\n",
      "  Size: 14 → Backends: ['aer_simulator', 'fake_fez', 'fake_kyiv', 'fake_marrakesh', 'fake_sherbrooke', 'fake_torino']\n",
      "  Size: 15 → Backends: ['aer_simulator', 'fake_fez', 'fake_kyiv', 'fake_marrakesh', 'fake_sherbrooke', 'fake_torino']\n",
      "  Size: 4 → Backends: ['aer_simulator', 'fake_fez', 'fake_kyiv', 'fake_marrakesh', 'fake_sherbrooke', 'fake_torino']\n",
      "  Size: 5 → Backends: ['aer_simulator', 'fake_fez', 'fake_kyiv', 'fake_marrakesh', 'fake_sherbrooke', 'fake_torino']\n",
      "  Size: 6 → Backends: ['aer_simulator', 'fake_fez', 'fake_kyiv', 'fake_marrakesh', 'fake_sherbrooke', 'fake_torino']\n",
      "  Size: 7 → Backends: ['aer_simulator', 'fake_fez', 'fake_kyiv', 'fake_marrakesh', 'fake_sherbrooke', 'fake_torino']\n",
      "  Size: 8 → Backends: ['aer_simulator', 'fake_fez', 'fake_kyiv', 'fake_marrakesh', 'fake_sherbrooke', 'fake_torino']\n",
      "  Size: 9 → Backends: ['aer_simulator', 'fake_fez', 'fake_kyiv', 'fake_marrakesh', 'fake_sherbrooke', 'fake_torino']\n",
      "\n",
      "Algorithm: twolocalrandom\n",
      "  Size: 10 → Backends: ['aer_simulator', 'fake_fez', 'fake_kyiv', 'fake_marrakesh', 'fake_sherbrooke', 'fake_torino']\n",
      "  Size: 11 → Backends: ['aer_simulator', 'fake_fez', 'fake_kyiv', 'fake_marrakesh', 'fake_sherbrooke', 'fake_torino']\n",
      "  Size: 12 → Backends: ['aer_simulator', 'fake_fez', 'fake_kyiv', 'fake_marrakesh', 'fake_sherbrooke', 'fake_torino']\n",
      "  Size: 13 → Backends: ['aer_simulator', 'fake_fez', 'fake_kyiv', 'fake_marrakesh', 'fake_sherbrooke', 'fake_torino']\n",
      "  Size: 14 → Backends: ['aer_simulator', 'fake_fez', 'fake_kyiv', 'fake_marrakesh', 'fake_sherbrooke', 'fake_torino']\n",
      "  Size: 15 → Backends: ['aer_simulator', 'fake_fez', 'fake_kyiv', 'fake_marrakesh', 'fake_sherbrooke', 'fake_torino']\n",
      "  Size: 4 → Backends: ['aer_simulator', 'fake_fez', 'fake_kyiv', 'fake_marrakesh', 'fake_sherbrooke', 'fake_torino']\n",
      "  Size: 5 → Backends: ['aer_simulator', 'fake_fez', 'fake_kyiv', 'fake_marrakesh', 'fake_sherbrooke', 'fake_torino']\n",
      "  Size: 6 → Backends: ['aer_simulator', 'fake_fez', 'fake_kyiv', 'fake_marrakesh', 'fake_sherbrooke', 'fake_torino']\n",
      "  Size: 7 → Backends: ['aer_simulator', 'fake_fez', 'fake_kyiv', 'fake_marrakesh', 'fake_sherbrooke', 'fake_torino']\n",
      "  Size: 8 → Backends: ['aer_simulator', 'fake_fez', 'fake_kyiv', 'fake_marrakesh', 'fake_sherbrooke', 'fake_torino']\n",
      "  Size: 9 → Backends: ['aer_simulator', 'fake_fez', 'fake_kyiv', 'fake_marrakesh', 'fake_sherbrooke', 'fake_torino']\n",
      "\n",
      "Algorithm: vqe\n",
      "  Size: 10 → Backends: ['aer_simulator', 'fake_fez', 'fake_kyiv', 'fake_marrakesh', 'fake_sherbrooke', 'fake_torino']\n",
      "  Size: 11 → Backends: ['aer_simulator', 'fake_fez', 'fake_kyiv', 'fake_marrakesh', 'fake_sherbrooke', 'fake_torino']\n",
      "  Size: 12 → Backends: ['aer_simulator', 'fake_fez', 'fake_kyiv', 'fake_marrakesh', 'fake_sherbrooke', 'fake_torino']\n",
      "  Size: 13 → Backends: ['aer_simulator', 'fake_fez', 'fake_kyiv', 'fake_marrakesh', 'fake_sherbrooke', 'fake_torino']\n",
      "  Size: 14 → Backends: ['aer_simulator', 'fake_fez', 'fake_kyiv', 'fake_marrakesh', 'fake_sherbrooke', 'fake_torino']\n",
      "  Size: 15 → Backends: ['aer_simulator', 'fake_fez', 'fake_kyiv', 'fake_marrakesh', 'fake_sherbrooke', 'fake_torino']\n",
      "  Size: 4 → Backends: ['aer_simulator', 'fake_fez', 'fake_kyiv', 'fake_marrakesh', 'fake_sherbrooke', 'fake_torino']\n",
      "  Size: 5 → Backends: ['aer_simulator', 'fake_fez', 'fake_kyiv', 'fake_marrakesh', 'fake_sherbrooke', 'fake_torino']\n",
      "  Size: 6 → Backends: ['aer_simulator', 'fake_fez', 'fake_kyiv', 'fake_marrakesh', 'fake_sherbrooke', 'fake_torino']\n",
      "  Size: 7 → Backends: ['aer_simulator', 'fake_fez', 'fake_kyiv', 'fake_marrakesh', 'fake_sherbrooke', 'fake_torino']\n",
      "  Size: 8 → Backends: ['aer_simulator', 'fake_fez', 'fake_kyiv', 'fake_marrakesh', 'fake_sherbrooke', 'fake_torino']\n",
      "  Size: 9 → Backends: ['aer_simulator', 'fake_fez', 'fake_kyiv', 'fake_marrakesh', 'fake_sherbrooke', 'fake_torino']\n",
      "\n",
      "Algorithm: wstate\n",
      "  Size: 10 → Backends: ['aer_simulator', 'fake_fez', 'fake_kyiv', 'fake_marrakesh', 'fake_sherbrooke', 'fake_torino']\n",
      "  Size: 11 → Backends: ['aer_simulator', 'fake_fez', 'fake_kyiv', 'fake_marrakesh', 'fake_sherbrooke', 'fake_torino']\n",
      "  Size: 12 → Backends: ['aer_simulator', 'fake_fez', 'fake_kyiv', 'fake_marrakesh', 'fake_sherbrooke', 'fake_torino']\n",
      "  Size: 13 → Backends: ['aer_simulator', 'fake_fez', 'fake_kyiv', 'fake_marrakesh', 'fake_sherbrooke', 'fake_torino']\n",
      "  Size: 14 → Backends: ['aer_simulator', 'fake_fez', 'fake_kyiv', 'fake_marrakesh', 'fake_sherbrooke', 'fake_torino']\n",
      "  Size: 15 → Backends: ['aer_simulator', 'fake_fez', 'fake_kyiv', 'fake_marrakesh', 'fake_sherbrooke', 'fake_torino']\n",
      "  Size: 4 → Backends: ['aer_simulator', 'fake_fez', 'fake_kyiv', 'fake_marrakesh', 'fake_sherbrooke', 'fake_torino']\n",
      "  Size: 5 → Backends: ['aer_simulator', 'fake_fez', 'fake_kyiv', 'fake_marrakesh', 'fake_sherbrooke', 'fake_torino']\n",
      "  Size: 6 → Backends: ['aer_simulator', 'fake_fez', 'fake_kyiv', 'fake_marrakesh', 'fake_sherbrooke', 'fake_torino']\n",
      "  Size: 7 → Backends: ['aer_simulator', 'fake_fez', 'fake_kyiv', 'fake_marrakesh', 'fake_sherbrooke', 'fake_torino']\n",
      "  Size: 8 → Backends: ['aer_simulator', 'fake_fez', 'fake_kyiv', 'fake_marrakesh', 'fake_sherbrooke', 'fake_torino']\n",
      "  Size: 9 → Backends: ['aer_simulator', 'fake_fez', 'fake_kyiv', 'fake_marrakesh', 'fake_sherbrooke', 'fake_torino']\n",
      "\n"
     ]
    }
   ],
   "source": [
    "index = get_index()\n",
    "for algorithm, sizes in index.items():\n",
    "    print(f\"Algorithm: {algorithm}\")\n",
    "    for size, backends in sizes.items():\n",
    "        print(f\"  Size: {size} → Backends: {backends}\")\n",
    "    print()"
   ]
  },
  {
   "cell_type": "markdown",
   "id": "7f266814",
   "metadata": {},
   "source": [
    "Suppose you want to simulate 1024 shots of a QAOA circuit with 8 qubits on the aer_simulator backend.\n",
    "You can do this with one function call:"
   ]
  },
  {
   "cell_type": "code",
   "execution_count": 4,
   "id": "f910acae",
   "metadata": {},
   "outputs": [
    {
     "name": "stdout",
     "output_type": "stream",
     "text": [
      "Sampled outcome counts: {'01101001': 32, '00011011': 164, '01101110': 13, '01001011': 15, '10110001': 44, '11100100': 209, '01010110': 41, '01101010': 23, '01011010': 7, '01001010': 3, '11010110': 12, '01100110': 7, '01001110': 39, '10010110': 34, '11101001': 11, '10100101': 11, '11000110': 13, '10010101': 19, '00010110': 15, '11010100': 7, '01011110': 11, '00101011': 8, '00111011': 8, '10101001': 30, '01001101': 1, '10111001': 18, '01101011': 6, '11000100': 10, '10010001': 12, '01101000': 11, '10011001': 11, '11101000': 3, '11011011': 2, '01000110': 15, '10010111': 19, '10010100': 13, '01001100': 1, '00011000': 2, '10100001': 9, '01011011': 1, '10110100': 12, '11101100': 2, '00111100': 1, '00101001': 11, '00010011': 1, '00110111': 2, '00011110': 10, '01101100': 11, '00111001': 4, '10010011': 7, '11100001': 6, '10101110': 2, '10110101': 11, '11100101': 3, '00011001': 5, '01100100': 2, '00001111': 2, '11110100': 1, '00101111': 1, '10011011': 2, '00011111': 1, '10100100': 2, '00011010': 2, '00101110': 2, '00010111': 2, '01000010': 1, '00000011': 1, '10100110': 2, '01111011': 1, '10110110': 2, '11000000': 1, '11001110': 1}\n"
     ]
    }
   ],
   "source": [
    "counts = get_outcomes(\n",
    "    algorithm=\"qaoa\",\n",
    "    size=8,\n",
    "    backend=\"aer_simulator\",\n",
    "    shots=1024,\n",
    "    seed=42                  # For reproducibility\n",
    ")\n",
    "\n",
    "print(\"Sampled outcome counts:\", counts)"
   ]
  },
  {
   "cell_type": "markdown",
   "id": "2e39036d",
   "metadata": {},
   "source": [
    "To analyze or reproduce an experiment, you often need the underlying circuit and configuration.\n",
    "Fetch this info with:"
   ]
  },
  {
   "cell_type": "code",
   "execution_count": 5,
   "id": "879eb119",
   "metadata": {},
   "outputs": [
    {
     "name": "stdout",
     "output_type": "stream",
     "text": [
      "Circuit:\n",
      "OPENQASM 2.0;\n",
      "include \"qelib1.inc\";\n",
      "gate gate_PauliEvolution(param0) q0,q1,q2,q3,q4,q5,q6,q7 { rzz(-5.627177312657698) q0,q2; rzz(-5.627177312657698) q0,q6; rzz(-5.627177312657698) q1,q5; rzz(-5.627177312657698) q1,q7; rzz(-5.627177312657698) q2,q3; rzz(-5.627177312657698) q3,q7; rzz(-5.627177312657...\n",
      "\n",
      "Backed Config:\n",
      " {'name': 'aer_simulator', 'configuration': {'backend_name': 'aer_simulator', 'backend_version': '0.17.1', 'n_qubits': 35, 'basis_gates': ['ccx', 'ccz', 'cp', 'crx', 'cry', 'crz', 'cswap', 'csx', 'cu', 'cu1', 'cu2', 'cu3', 'cx', 'cy', 'cz', 'diagonal', 'ecr', 'h', 'id', 'mcp', 'mcphase', 'mcr', 'mcrx', 'mcry', 'mcrz', 'mcswap', 'mcsx', 'mcu', 'mcu1', 'mcu2', 'mcu3', 'mcx', 'mcx_gray', 'mcy', 'mcz', 'multiplexer', 'p', 'pauli', 'r', 'roerror', 'rx', 'rxx', 'ry', 'ryy', 'rz', 'rzx', 'rzz', 's', 'sdg', 'store', 'swap', 'sx', 'sxdg', 't', 'tdg', 'u', 'u1', 'u2', 'u3', 'unitary', 'x', 'y', 'z', 'break_loop', 'continue_loop', 'delay', 'for_loop', 'if_else', 'initialize', 'kraus', 'qerror_loc', 'quantum_channel', 'reset', 'roerror', 'save_amplitudes', 'save_amplitudes_sq', 'save_clifford', 'save_density_matrix', 'save_expval', 'save_expval_var', 'save_matrix_product_state', 'save_probabilities', 'save_probabilities_dict', 'save_stabilizer', 'save_state', 'save_statevector', 'save_statevector_dict', 'save_superop', 'save_unitary', 'set_density_matrix', 'set_matrix_product_state', 'set_stabilizer', 'set_statevector', 'set_superop', 'set_unitary', 'superop', 'switch_case', 'while_loop'], 'gates': [], 'local': True, 'simulator': True, 'conditional': True, 'memory': True, 'max_shots': 1000000, 'coupling_map': None, 'dynamic_reprate_enabled': False, 'description': 'A C++ Qasm simulator with noise', 'url': 'https://github.com/Qiskit/qiskit-aer', 'custom_instructions': ['break_loop', 'continue_loop', 'delay', 'for_loop', 'if_else', 'initialize', 'kraus', 'qerror_loc', 'quantum_channel', 'reset', 'roerror', 'save_amplitudes', 'save_amplitudes_sq', 'save_clifford', 'save_density_matrix', 'save_expval', 'save_expval_var', 'save_matrix_product_state', 'save_probabilities', 'save_probabilities_dict', 'save_stabilizer', 'save_state', 'save_statevector', 'save_statevector_dict', 'save_superop', 'save_unitary', 'set_density_matrix', 'set_matrix_product_state', 'set_stabilizer', 'set_statevector', 'set_superop', 'set_unitary', 'superop', 'switch_case', 'while_loop']}, 'properties': {}}\n"
     ]
    }
   ],
   "source": [
    "meta = get_metadata(\"qaoa\", 8, \"aer_simulator\")[0][\"metadata\"]\n",
    "\n",
    "# Display the OpenQASM circuit, noise model, and backend config\n",
    "print(f\"Circuit:\\n{meta['circuit']['circuit'][:300]}...\")  # print first 300 chars\n",
    "print()\n",
    "print(\"Backed Config:\\n\", meta[\"backend\"])"
   ]
  },
  {
   "cell_type": "markdown",
   "id": "bad3c566",
   "metadata": {},
   "source": [
    "QSimBench supports two sampling strategies:\n",
    "- sequential: Mimics pulling the next batch of real shots (good for streaming/online experiments)\n",
    "- random: Draws batches at random from the dataset (good for statistical studies)\n",
    "\n",
    "Try both and compare:"
   ]
  },
  {
   "cell_type": "code",
   "execution_count": 6,
   "id": "8ffe8e59",
   "metadata": {},
   "outputs": [
    {
     "name": "stdout",
     "output_type": "stream",
     "text": [
      "Sequential sample: {'00010110': 8, '00011010': 2, '00011011': 94, '00101011': 4, '01000110': 5, '01001011': 6, '01001110': 14, '01010110': 13, '01011110': 4, '01101000': 12, '01101001': 9, '01101010': 14, '10010001': 6, '10010011': 4, '10010100': 8, '10010101': 16, '10010110': 13, '10100101': 3, '10101001': 14, '11011011': 1, '11100100': 99, '11101001': 10, '00010111': 3, '00101001': 10, '00111001': 5, '01011010': 3, '01101011': 9, '10011001': 7, '10100001': 11, '10110001': 13, '10110101': 8, '10111001': 6, '11000110': 7, '11010110': 4, '11100001': 3, '01100100': 2, '01100110': 2, '01101100': 3, '10010111': 4, '10110100': 4, '11000100': 1, '11101000': 4, '00011110': 6, '10010010': 1, '11010100': 3, '00011001': 1, '00100100': 2, '00101000': 2, '00111011': 1, '01100000': 1, '01101110': 6, '11001000': 1, '00010011': 2, '01000111': 1, '11100110': 1, '01001010': 2, '01100011': 1, '10011100': 1}\n",
      "Random sample: {'00000011': 1, '00010111': 7, '00011001': 2, '00011011': 87, '00011110': 2, '00111001': 3, '01000110': 11, '01001011': 10, '01001110': 13, '01010011': 1, '01011110': 9, '01100110': 2, '01101000': 5, '01101001': 14, '01101110': 10, '10010001': 8, '10010011': 6, '10010100': 9, '10010101': 11, '10010110': 12, '10011001': 7, '10101001': 15, '10110100': 1, '11010100': 7, '11010110': 9, '11100001': 4, '11100100': 82, '11101001': 6, '00010110': 10, '00011010': 2, '00101001': 8, '01001010': 11, '01010110': 13, '01101010': 10, '10010111': 9, '10100101': 5, '10110001': 20, '10110101': 10, '11101000': 6, '00001011': 1, '00101011': 5, '01011010': 3, '10100001': 4, '10110111': 1, '00100001': 1, '00111011': 1, '01000010': 1, '01101011': 5, '10111001': 5, '11101101': 1, '00001111': 1, '00011111': 4, '01101100': 1, '11000110': 2, '01100100': 1, '10100110': 1, '10100100': 1, '11100111': 1, '01011011': 1, '11000000': 1}\n"
     ]
    }
   ],
   "source": [
    "out_seq = get_outcomes(\"qaoa\", 8, \"aer_simulator\", strategy=\"sequential\", shots=500, seed=42)\n",
    "out_rand = get_outcomes(\"qaoa\", 8, \"aer_simulator\", strategy=\"random\", shots=500, seed=42)\n",
    "\n",
    "print(\"Sequential sample:\", out_seq)\n",
    "print(\"Random sample:\", out_rand)"
   ]
  },
  {
   "cell_type": "markdown",
   "id": "8c431533",
   "metadata": {},
   "source": [
    "By default, QSimBench caches dataset files to avoid repeated downloads.\n",
    "To force a fresh download (if the data has been updated), use force=True:"
   ]
  },
  {
   "cell_type": "code",
   "execution_count": 7,
   "id": "1a85f8db",
   "metadata": {},
   "outputs": [
    {
     "data": {
      "text/plain": [
       "{'11100100': 17,\n",
       " '10110001': 5,\n",
       " '11101001': 5,\n",
       " '10100101': 1,\n",
       " '11010100': 2,\n",
       " '01001110': 7,\n",
       " '10110101': 3,\n",
       " '10010110': 4,\n",
       " '10111001': 3,\n",
       " '01001100': 1,\n",
       " '10101001': 6,\n",
       " '01011110': 3,\n",
       " '00011011': 23,\n",
       " '01101110': 3,\n",
       " '10010001': 3,\n",
       " '00010110': 4,\n",
       " '11000110': 2,\n",
       " '01101000': 3,\n",
       " '01010110': 3,\n",
       " '10010101': 1,\n",
       " '00010011': 2,\n",
       " '00011001': 3,\n",
       " '01001011': 7,\n",
       " '01100110': 2,\n",
       " '00101011': 2,\n",
       " '11101000': 2,\n",
       " '10011011': 1,\n",
       " '00001111': 1,\n",
       " '01101010': 3,\n",
       " '11100111': 2,\n",
       " '11010110': 1,\n",
       " '01101001': 1,\n",
       " '00111001': 1,\n",
       " '01000110': 1}"
      ]
     },
     "execution_count": 7,
     "metadata": {},
     "output_type": "execute_result"
    }
   ],
   "source": [
    "counts = get_outcomes(\"QAOA\", 8, \"aer_simulator\", shots=128, force=True)\n",
    "counts"
   ]
  }
 ],
 "metadata": {
  "kernelspec": {
   "display_name": "qsimbench",
   "language": "python",
   "name": "python3"
  },
  "language_info": {
   "codemirror_mode": {
    "name": "ipython",
    "version": 3
   },
   "file_extension": ".py",
   "mimetype": "text/x-python",
   "name": "python",
   "nbconvert_exporter": "python",
   "pygments_lexer": "ipython3",
   "version": "3.12.3"
  }
 },
 "nbformat": 4,
 "nbformat_minor": 5
}
