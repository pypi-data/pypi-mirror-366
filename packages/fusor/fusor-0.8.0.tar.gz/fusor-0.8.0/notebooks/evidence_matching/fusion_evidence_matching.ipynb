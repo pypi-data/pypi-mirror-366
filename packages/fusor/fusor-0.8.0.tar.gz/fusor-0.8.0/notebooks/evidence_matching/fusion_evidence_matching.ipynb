{
 "cells": [
  {
   "cell_type": "markdown",
   "id": "c75a5a00",
   "metadata": {},
   "source": [
    "# Notebook for demonstrating evidence matching between assayed fusions and categorical fusions"
   ]
  },
  {
   "cell_type": "code",
   "execution_count": 1,
   "id": "bf73da60",
   "metadata": {},
   "outputs": [],
   "source": [
    "import warnings\n",
    "from os import environ\n",
    "\n",
    "warnings.filterwarnings(\"ignore\")\n",
    "\n",
    "# These are the configurations for the UTA and SeqRepo databases. These should\n",
    "# be adjusted by the user based on the locations where these databases exist.\n",
    "environ[\"UTA_DB_URL\"] = \"postgresql://anonymous@localhost:5432/uta/uta_20241220\"\n",
    "environ[\"SEQREPO_ROOT_DIR\"] = \"/usr/local/share/seqrepo/2024-12-20\""
   ]
  },
  {
   "cell_type": "markdown",
   "id": "b5e4f0b0",
   "metadata": {},
   "source": [
    "### Load FUSOR and Translator modules\n",
    "Run the cell below to load the FUSOR and Translator modules"
   ]
  },
  {
   "cell_type": "code",
   "execution_count": 2,
   "id": "3c78c9c4",
   "metadata": {},
   "outputs": [
    {
     "name": "stdout",
     "output_type": "stream",
     "text": [
      "***Using Gene Database Endpoint: http://localhost:8000***\n"
     ]
    }
   ],
   "source": [
    "from civicpy import civic\n",
    "\n",
    "from fusor.fusor import FUSOR\n",
    "\n",
    "fusor = FUSOR()"
   ]
  },
  {
   "cell_type": "markdown",
   "id": "3c7fbde4",
   "metadata": {},
   "source": [
    "### Generate list of AssayedFusion objects from STAR-Fusion file\n",
    "Run the cell below to generate a list of AssayedFusion objects from a file of STAR-Fusion output"
   ]
  },
  {
   "cell_type": "code",
   "execution_count": 3,
   "id": "39397589",
   "metadata": {},
   "outputs": [
    {
     "name": "stderr",
     "output_type": "stream",
     "text": [
      "Unable to get MANE Transcript data for gene: RN7SKP80\n",
      "Could not find a transcript for RN7SKP80 on NC_000022.11\n",
      "Unable to get MANE Transcript data for gene: RN7SKP118\n",
      "Could not find a transcript for RN7SKP118 on NC_000016.10\n",
      "Gene does not exist in UTA: AC021660.2\n",
      "Unable to get MANE Transcript data for gene: EEF1A1P13\n",
      "Could not find a transcript for EEF1A1P13 on NC_000005.10\n",
      "Gene does not exist in UTA: AC098590.1\n",
      "Gene does not exist in UTA: AC099789.1\n",
      "Unable to get MANE Transcript data for gene: USP27X-DT\n",
      "38584945 on NC_000021.9 occurs more than 150 bp outside the exon boundaries of the NM_182918.4 transcript, indicating this may not be a chimeric transcript junction and is unlikely to represent a contiguous coding sequence. Confirm that the genomic position 38584945 is being used to represent transcript junction and not DNA breakpoint.\n",
      "Unable to get MANE Transcript data for gene: LINC00158\n",
      "Gene does not exist in UTA: AP001341.1\n",
      "Gene does not exist in UTA: AC021660.2\n",
      "Gene does not exist in UTA: AC021660.2\n",
      "35720747 on NC_000001.11 occurs more than 150 bp outside the exon boundaries of the NM_022111.4 transcript, indicating this may not be a chimeric transcript junction and is unlikely to represent a contiguous coding sequence. Confirm that the genomic position 35720747 is being used to represent transcript junction and not DNA breakpoint.\n",
      "35719497 on NC_000001.11 occurs more than 150 bp outside the exon boundaries of the NM_152374.2 transcript, indicating this may not be a chimeric transcript junction and is unlikely to represent a contiguous coding sequence. Confirm that the genomic position 35719497 is being used to represent transcript junction and not DNA breakpoint.\n",
      "Gene does not exist in UTA: RF00100\n",
      "Unable to get MANE Transcript data for gene: RN7SKP76\n",
      "Could not find a transcript for RN7SKP76 on NC_000016.10\n",
      "Unable to get MANE Transcript data for gene: RN7SK\n",
      "Unable to get MANE Transcript data for gene: RN7SKP76\n",
      "Could not find a transcript for RN7SKP76 on NC_000016.10\n",
      "143950183 on NC_000008.11 occurs more than 150 bp outside the exon boundaries of the NM_201384.3 transcript, indicating this may not be a chimeric transcript junction and is unlikely to represent a contiguous coding sequence. Confirm that the genomic position 143950183 is being used to represent transcript junction and not DNA breakpoint.\n",
      "Unable to get MANE Transcript data for gene: XXYLT1-AS2\n",
      "Gene does not exist in UTA: AC091132.5\n"
     ]
    }
   ],
   "source": [
    "# Generate AssayedFusion list from STAR-Fusion file\n",
    "from pathlib import Path\n",
    "\n",
    "from cool_seq_tool.schemas import Assembly\n",
    "\n",
    "from fusor.harvester import StarFusionHarvester\n",
    "\n",
    "path = Path(\"../../tests/fixtures/star-fusion.fusion_predictions.abridged.tsv\")\n",
    "harvester = StarFusionHarvester(fusor=fusor, assembly=Assembly.GRCH38.value)\n",
    "fusions_list = await harvester.load_records(path)\n",
    "\n",
    "assayed_fusion_star_fusion = [fusions_list[1]] # Use EML4::ALK fusion as testing example"
   ]
  },
  {
   "cell_type": "markdown",
   "id": "b0df9a86",
   "metadata": {},
   "source": [
    "### Load CIViC fusion variants\n",
    "Run the cell below to load accepted fusion variants from the CIViC knowledgebase"
   ]
  },
  {
   "cell_type": "code",
   "execution_count": 4,
   "id": "c4a0b16d",
   "metadata": {},
   "outputs": [],
   "source": [
    "# Load in accepted fusion variants\n",
    "variants = civic.get_all_fusion_variants(include_status=\"accepted\")"
   ]
  },
  {
   "cell_type": "code",
   "execution_count": 5,
   "id": "4bd30b54",
   "metadata": {},
   "outputs": [
    {
     "name": "stdout",
     "output_type": "stream",
     "text": [
      "EML4(entrez:27436)::ALK(entrez:238)\n",
      "v::ALK(entrez:238)\n",
      "NPM1(entrez:4869)::ALK(entrez:238)\n",
      "RANBP2(entrez:5903)::ALK(entrez:238)\n",
      "CLTC(entrez:1213)::ALK(entrez:238)\n",
      "STRN(entrez:6801)::ALK(entrez:238)\n",
      "CAD(entrez:790)::ALK(entrez:238)\n",
      "KANK4(entrez:163782)::ALK(entrez:238)\n",
      "EML4(entrez:27436)::NTRK3(entrez:4916)\n",
      "HIP1(entrez:3092)::ALK(entrez:238)\n",
      "ENST00000318522.5(EML4):e.20::ENST00000389048.3(ALK):e.20\n",
      "ENST00000318522.5(EML4):e.2::ENST00000389048.3(ALK):e.20\n",
      "ENST00000318522.5(EML4):e.6::ENST00000389048.3(ALK):e.20\n"
     ]
    }
   ],
   "source": [
    "partners = (\"EML4\", \"ALK\")\n",
    "for fusion in variants:\n",
    "    if any(partner in fusion.vicc_compliant_name for partner in partners):\n",
    "        print(fusion.vicc_compliant_name)"
   ]
  },
  {
   "cell_type": "markdown",
   "id": "1f9bbef6",
   "metadata": {},
   "source": [
    "The output above lists all possible categorical fusions with EML4 and ALK \n",
    "as a partner. For the EML4::ALK fusion, we would expect a match for the \n",
    "EML4(entrez:27436)::ALK(entrez:238) fusion, as this fusion describes the joining \n",
    "of exon 13 of EML4 with exon 20 of ALK, which also describes the assayed fusion. \n",
    "Note that the other EML4::ALK categorical fusions indicate the joining of exons \n",
    "that do not match the queried assayed fusion. v::ALK(entrez:238) would also be a \n",
    "match as this fusion describes the joining of exon 20 for the ALK transcript which\n",
    "matches the assayed fusion."
   ]
  },
  {
   "cell_type": "markdown",
   "id": "dedd9921",
   "metadata": {},
   "source": [
    "### Run FusionMatcher to gather objects containing standardized fusion knowledge\n",
    "Run the cell below to use FusionMatcher to extract standardized knowledge for the fusion extracted from the STAR-Fusion file (EML4::ALK). The score for each matching CategoricalFusion is printed at the bottom of the cell."
   ]
  },
  {
   "cell_type": "code",
   "execution_count": 6,
   "id": "9b2d9760",
   "metadata": {},
   "outputs": [
    {
     "name": "stderr",
     "output_type": "stream",
     "text": [
      "WARNING:cool_seq_tool.mappers.exon_genomic_coords:48406078 on NC_000023.11 occurs more than 150 bp outside the exon boundaries of the NM_005636.4 transcript, indicating this may not be a chimeric transcript junction and is unlikely to represent a contiguous coding sequence. Confirm that the genomic position 48406078 is being used to represent transcript junction and not DNA breakpoint.\n",
      "WARNING:fusor.harvester:15 fusion(s) were dropped during translation\n",
      "WARNING:fusor.models:Cached fusions file already exists. Overwriting with new file\n"
     ]
    },
    {
     "name": "stdout",
     "output_type": "stream",
     "text": [
      "Match Score: 10\n",
      "Match Score: 5\n"
     ]
    }
   ],
   "source": [
    "# Generate list of matches, report match score\n",
    "from fusor.fusion_matching import FusionMatcher\n",
    "from fusor.harvester import CIVICHarvester\n",
    "from fusor.config import config\n",
    "from fusor.models import save_fusions_cache\n",
    "\n",
    "# Generate categorical fusions list\n",
    "harvester = CIVICHarvester(fusor=fusor, local_cache_path=\"civic_cache.pkl\")\n",
    "harvester.fusions_list = variants\n",
    "civic_fusions = await harvester.load_records()\n",
    "\n",
    "# Save cache for later\n",
    "save_fusions_cache(civic_fusions, cache_dir=config.data_root, cache_name=\"civic_translated_fusions.pkl\")\n",
    "\n",
    "# Initialize FusionMatcher and define sources to match against\n",
    "fm = FusionMatcher(assayed_fusions=assayed_fusion_star_fusion,\n",
    "                   categorical_fusions=civic_fusions)\n",
    "\n",
    "# Generate list of matching fusions\n",
    "matches = await fm.match_fusion()\n",
    "for matching_output in matches:\n",
    "    for match in matching_output:\n",
    "        print(f\"Match Score: {match[1]}\")"
   ]
  },
  {
   "cell_type": "markdown",
   "id": "e0403ae8",
   "metadata": {},
   "source": [
    "### View matching categorical fusions\n",
    "Run the cells below to view the matching CategoricalFusion objects for the queried AssayedFusion object."
   ]
  },
  {
   "cell_type": "markdown",
   "id": "90b15b2e",
   "metadata": {},
   "source": [
    "#### EML4::ALK"
   ]
  },
  {
   "cell_type": "code",
   "execution_count": 7,
   "id": "64d08226",
   "metadata": {},
   "outputs": [
    {
     "data": {
      "text/plain": [
       "{'type': <FUSORTypes.CATEGORICAL_FUSION: 'CategoricalFusion'>,\n",
       " 'structure': [{'type': <FUSORTypes.TRANSCRIPT_SEGMENT_ELEMENT: 'TranscriptSegmentElement'>,\n",
       "   'transcript': 'refseq:NM_019063.5',\n",
       "   'strand': <Strand.POSITIVE: 1>,\n",
       "   'exonEnd': 13,\n",
       "   'exonEndOffset': 0,\n",
       "   'gene': {'conceptType': 'Gene',\n",
       "    'name': 'EML4',\n",
       "    'primaryCoding': {'id': 'hgnc:1316',\n",
       "     'system': 'https://www.genenames.org/data/gene-symbol-report/#!/hgnc_id/',\n",
       "     'code': 'HGNC:1316'}},\n",
       "   'elementGenomicEnd': {'id': 'ga4gh:SL.PQzV-kfeCQ4MBmxD5mSHqZmId3I_f-Ib',\n",
       "    'type': 'SequenceLocation',\n",
       "    'digest': 'PQzV-kfeCQ4MBmxD5mSHqZmId3I_f-Ib',\n",
       "    'sequenceReference': {'id': 'refseq:NC_000002.12',\n",
       "     'type': 'SequenceReference',\n",
       "     'refgetAccession': 'SQ.pnAqCRBrTsUoBghSD1yp_jXWSmlbdh4g'},\n",
       "    'end': 42295516}},\n",
       "  {'type': <FUSORTypes.TRANSCRIPT_SEGMENT_ELEMENT: 'TranscriptSegmentElement'>,\n",
       "   'transcript': 'refseq:NM_004304.5',\n",
       "   'strand': <Strand.NEGATIVE: -1>,\n",
       "   'exonStart': 20,\n",
       "   'exonStartOffset': 0,\n",
       "   'gene': {'conceptType': 'Gene',\n",
       "    'name': 'ALK',\n",
       "    'primaryCoding': {'id': 'hgnc:427',\n",
       "     'system': 'https://www.genenames.org/data/gene-symbol-report/#!/hgnc_id/',\n",
       "     'code': 'HGNC:427'}},\n",
       "   'elementGenomicStart': {'id': 'ga4gh:SL.Eu_igVd9zOahn3tFN-pyxtphUmrSlRAh',\n",
       "    'type': 'SequenceLocation',\n",
       "    'digest': 'Eu_igVd9zOahn3tFN-pyxtphUmrSlRAh',\n",
       "    'sequenceReference': {'id': 'refseq:NC_000002.12',\n",
       "     'type': 'SequenceReference',\n",
       "     'refgetAccession': 'SQ.pnAqCRBrTsUoBghSD1yp_jXWSmlbdh4g'},\n",
       "    'end': 29223528}}],\n",
       " 'viccNomenclature': 'NM_019063.5(EML4):e.13::NM_004304.5(ALK):e.20',\n",
       " 'civicMolecularProfiles': [<CIViC molecular_profile 5>,\n",
       "  <CIViC molecular_profile 4225>,\n",
       "  <CIViC molecular_profile 4230>,\n",
       "  <CIViC molecular_profile 4253>,\n",
       "  <CIViC molecular_profile 4308>,\n",
       "  <CIViC molecular_profile 4312>,\n",
       "  <CIViC molecular_profile 4328>,\n",
       "  <CIViC molecular_profile 4237>,\n",
       "  <CIViC molecular_profile 4172>,\n",
       "  <CIViC molecular_profile 4221>,\n",
       "  <CIViC molecular_profile 4351>,\n",
       "  <CIViC molecular_profile 4255>,\n",
       "  <CIViC molecular_profile 4329>,\n",
       "  <CIViC molecular_profile 4309>,\n",
       "  <CIViC molecular_profile 4357>]}"
      ]
     },
     "execution_count": 7,
     "metadata": {},
     "output_type": "execute_result"
    }
   ],
   "source": [
    "# Print highest quality match for EML4::ALK\n",
    "matches[0][0][0].model_dump(exclude_none=True)"
   ]
  },
  {
   "cell_type": "code",
   "execution_count": 8,
   "id": "2364ae8c",
   "metadata": {},
   "outputs": [
    {
     "data": {
      "text/plain": [
       "{'type': <FUSORTypes.CATEGORICAL_FUSION: 'CategoricalFusion'>,\n",
       " 'structure': [{'type': <FUSORTypes.MULTIPLE_POSSIBLE_GENES_ELEMENT: 'MultiplePossibleGenesElement'>},\n",
       "  {'type': <FUSORTypes.TRANSCRIPT_SEGMENT_ELEMENT: 'TranscriptSegmentElement'>,\n",
       "   'transcript': 'refseq:NM_004304.5',\n",
       "   'strand': <Strand.NEGATIVE: -1>,\n",
       "   'exonStart': 20,\n",
       "   'exonStartOffset': 0,\n",
       "   'gene': {'conceptType': 'Gene',\n",
       "    'name': 'ALK',\n",
       "    'primaryCoding': {'id': 'hgnc:427',\n",
       "     'system': 'https://www.genenames.org/data/gene-symbol-report/#!/hgnc_id/',\n",
       "     'code': 'HGNC:427'}},\n",
       "   'elementGenomicStart': {'id': 'ga4gh:SL.Eu_igVd9zOahn3tFN-pyxtphUmrSlRAh',\n",
       "    'type': 'SequenceLocation',\n",
       "    'digest': 'Eu_igVd9zOahn3tFN-pyxtphUmrSlRAh',\n",
       "    'sequenceReference': {'id': 'refseq:NC_000002.12',\n",
       "     'type': 'SequenceReference',\n",
       "     'refgetAccession': 'SQ.pnAqCRBrTsUoBghSD1yp_jXWSmlbdh4g'},\n",
       "    'end': 29223528}}],\n",
       " 'viccNomenclature': 'v::NM_004304.5(ALK):e.20',\n",
       " 'civicMolecularProfiles': [<CIViC molecular_profile 495>,\n",
       "  <CIViC molecular_profile 4311>,\n",
       "  <CIViC molecular_profile 4236>,\n",
       "  <CIViC molecular_profile 5222>]}"
      ]
     },
     "execution_count": 8,
     "metadata": {},
     "output_type": "execute_result"
    }
   ],
   "source": [
    "# Print second match for EML4::ALK\n",
    "matches[0][1][0].model_dump(exclude_none=True)"
   ]
  },
  {
   "cell_type": "markdown",
   "id": "b7b1eda6",
   "metadata": {},
   "source": [
    "### View Standardized Evidence for each matching CategoricalFusion object\n",
    "Run the cells below to view an associated evidence item for a matching CategoricalFusion object"
   ]
  },
  {
   "cell_type": "markdown",
   "id": "00989dd9",
   "metadata": {},
   "source": [
    "### EML4::ALK"
   ]
  },
  {
   "cell_type": "code",
   "execution_count": 9,
   "id": "c8e9f12c",
   "metadata": {},
   "outputs": [
    {
     "data": {
      "text/plain": [
       "{'_assertions': [<CIViC assertion 3>],\n",
       " '_therapies': [<CIViC therapy 12>],\n",
       " '_phenotypes': [],\n",
       " '_incomplete': {'phenotypes', 'therapies'},\n",
       " '_partial': False,\n",
       " 'type': 'evidence',\n",
       " 'id': 262,\n",
       " 'variant_origin': 'SOMATIC',\n",
       " 'therapy_interaction_type': None,\n",
       " 'therapy_ids': [12],\n",
       " 'status': 'accepted',\n",
       " 'source_id': 166,\n",
       " 'significance': 'SENSITIVITYRESPONSE',\n",
       " 'rating': 4,\n",
       " 'phenotype_ids': [],\n",
       " 'name': 'EID262',\n",
       " 'molecular_profile_id': 5,\n",
       " 'evidence_type': 'PREDICTIVE',\n",
       " 'evidence_level': 'C',\n",
       " 'evidence_direction': 'SUPPORTS',\n",
       " 'disease_id': 30,\n",
       " 'description': 'A 28 year-old patient with non-small cell lung cancer that failed conventional therapy was found to harbor the EML4-ALK (E13;A20) fusion using reverse transcription PCR. Treatment with 250mg crizotinib twice daily resulted in rapid improvement of symptoms and disease control for 5 months.',\n",
       " 'assertion_ids': [3],\n",
       " '_include_status': ['accepted', 'submitted', 'rejected']}"
      ]
     },
     "execution_count": 9,
     "metadata": {},
     "output_type": "execute_result"
    }
   ],
   "source": [
    "# View evidence item linked to matched EML4::ALK categorical fusion\n",
    "matches[0][0][0].civicMolecularProfiles[0].evidence_items[0].__dict__"
   ]
  },
  {
   "cell_type": "code",
   "execution_count": 10,
   "id": "09a8ad13",
   "metadata": {},
   "outputs": [
    {
     "data": {
      "text/plain": [
       "{'_assertions': [<CIViC assertion 3>],\n",
       " '_therapies': [<CIViC therapy 12>],\n",
       " '_phenotypes': [],\n",
       " '_incomplete': {'phenotypes', 'therapies'},\n",
       " '_partial': False,\n",
       " 'type': 'evidence',\n",
       " 'id': 1187,\n",
       " 'variant_origin': 'SOMATIC',\n",
       " 'therapy_interaction_type': None,\n",
       " 'therapy_ids': [12],\n",
       " 'status': 'accepted',\n",
       " 'source_id': 819,\n",
       " 'significance': 'SENSITIVITYRESPONSE',\n",
       " 'rating': 5,\n",
       " 'phenotype_ids': [],\n",
       " 'name': 'EID1187',\n",
       " 'molecular_profile_id': 495,\n",
       " 'evidence_type': 'PREDICTIVE',\n",
       " 'evidence_level': 'A',\n",
       " 'evidence_direction': 'SUPPORTS',\n",
       " 'disease_id': 8,\n",
       " 'description': 'In the Phase I study PROFILE 1001 (NCT00585195), a recommended crizotinib dose of 250 mg twice daily for 28 day cycles was established. Among 1,500 advanced NSCLC patients who were screened for ALK-rearrangement using a break-apart FISH assay, 82 patients were eligible for crizotinib treatment. Overall response rate was 57%, with 46 partial responses and one complete response. Since crizotinib inhibits MET, 33 patients with available tissue were screened for MET amplification and were found negative, further indicating that patient response was due to ALK inhibition. 31 patients were tested via RT-PCR for known EML4-ALK fusions, and 13 were shown to have EML4-ALK variant 1, four cases had variant 3, and one instance of variants 2, 3b and 5 were seen. 9 were unidentified, suggesting other fusion partners in these instances.',\n",
       " 'assertion_ids': [3],\n",
       " '_include_status': ['accepted', 'submitted', 'rejected']}"
      ]
     },
     "execution_count": 10,
     "metadata": {},
     "output_type": "execute_result"
    }
   ],
   "source": [
    "# View evidence item linked to matched EML4::ALK categorical fusion\n",
    "matches[0][1][0].civicMolecularProfiles[0].evidence_items[0].__dict__"
   ]
  },
  {
   "cell_type": "markdown",
   "id": "c32bfe82",
   "metadata": {},
   "source": [
    "### Evidence Matching against CIVIC and Molecular Oncology Almanac (MOA)\n",
    "The example below displays how a detected BCR::ABL1 fusion can be matched against the CIVIC and MOA knowledgebases"
   ]
  },
  {
   "cell_type": "markdown",
   "id": "5dd3aa06",
   "metadata": {},
   "source": [
    "#### Load and standardize patient fusion"
   ]
  },
  {
   "cell_type": "code",
   "execution_count": 11,
   "id": "02814194",
   "metadata": {},
   "outputs": [],
   "source": [
    "from fusor.harvester import ArribaHarvester\n",
    "\n",
    "path = Path(\"../../tests/fixtures/fusions_arriba_test.tsv\")\n",
    "harvester = ArribaHarvester(fusor=fusor, assembly=Assembly.GRCH37.value)\n",
    "fusions_list = await harvester.load_records(path)"
   ]
  },
  {
   "cell_type": "markdown",
   "id": "062b8820",
   "metadata": {},
   "source": [
    "#### Load and standardize data from Molecular Oncology Almanac (MOA)"
   ]
  },
  {
   "cell_type": "code",
   "execution_count": 12,
   "id": "92b5485c",
   "metadata": {},
   "outputs": [
    {
     "name": "stderr",
     "output_type": "stream",
     "text": [
      "WARNING:fusor.models:Cached fusions file already exists. Overwriting with new file\n"
     ]
    }
   ],
   "source": [
    "from fusor.harvester import MOAHarvester\n",
    "harvester = MOAHarvester(fusor=fusor, cache_dir=Path.cwd())\n",
    "moa_fusions = harvester.load_records()\n",
    "\n",
    "# Save cache for later\n",
    "save_fusions_cache(moa_fusions, cache_dir=config.data_root, cache_name=\"moa_translated_fusions.pkl\")"
   ]
  },
  {
   "cell_type": "markdown",
   "id": "6ed39fe1",
   "metadata": {},
   "source": [
    "### Run FusionMatcher to gather objects containing standardized fusion knowledge from CIVIC and MOA.\n",
    "Run the cell below to use FusionMatcher to extract standardized knowledge for the fusion extracted from the Arriba file (BCR::ABL1). The score for each matching CategoricalFusion is printed at the bottom of the cell. This query matches against both the CIVIC and MOA knowledgebases."
   ]
  },
  {
   "cell_type": "code",
   "execution_count": 13,
   "id": "79afb22e",
   "metadata": {},
   "outputs": [
    {
     "name": "stdout",
     "output_type": "stream",
     "text": [
      "Match Score: 10\n",
      "Match Score: 2\n",
      "Match Score: 2\n",
      "Match Score: 2\n",
      "Match Score: 2\n",
      "Match Score: 2\n",
      "Match Score: 2\n",
      "Match Score: 2\n",
      "Match Score: 2\n",
      "Match Score: 2\n",
      "Match Score: 2\n",
      "Match Score: 2\n",
      "Match Score: 2\n",
      "Match Score: 2\n",
      "Match Score: 2\n",
      "Match Score: 2\n",
      "Match Score: 2\n",
      "Match Score: 2\n",
      "Match Score: 2\n",
      "Match Score: 2\n",
      "Match Score: 2\n",
      "Match Score: 2\n",
      "Match Score: 2\n",
      "Match Score: 2\n",
      "Match Score: 2\n",
      "Match Score: 2\n",
      "Match Score: 2\n",
      "Match Score: 2\n",
      "Match Score: 2\n"
     ]
    }
   ],
   "source": [
    "# Generate list of matches, report match score\n",
    "from fusor.fusion_matching import FusionMatcher\n",
    "\n",
    "# Initialize FusionMatcher and define sources to match against. This time, we will use\n",
    "# the cache_files field, using the cached pickle files that have been saved\n",
    "fm = FusionMatcher(assayed_fusions=fusions_list,\n",
    "                   cache_dir=config.data_root,\n",
    "                   cache_files=[\"civic_translated_fusions.pkl\", \"moa_translated_fusions.pkl\"])\n",
    "\n",
    "# Generate list of matching fusions\n",
    "matches = await fm.match_fusion()\n",
    "for matching_output in matches:\n",
    "    for match in matching_output:\n",
    "        print(f\"Match Score: {match[1]}\")"
   ]
  },
  {
   "cell_type": "markdown",
   "id": "40bf2185",
   "metadata": {},
   "source": [
    "The cell below can be uncommented to view the corresponding matches. Assertion and evidence information from CIVIC can be accessed through the civicMolecularProfiles attribute while assertion information from MOA can be accessed through the moaAssertion field."
   ]
  },
  {
   "cell_type": "code",
   "execution_count": 14,
   "id": "af5e10b1",
   "metadata": {},
   "outputs": [],
   "source": [
    "#matches"
   ]
  }
 ],
 "metadata": {
  "kernelspec": {
   "display_name": "fusor",
   "language": "python",
   "name": "python3"
  },
  "language_info": {
   "codemirror_mode": {
    "name": "ipython",
    "version": 3
   },
   "file_extension": ".py",
   "mimetype": "text/x-python",
   "name": "python",
   "nbconvert_exporter": "python",
   "pygments_lexer": "ipython3",
   "version": "3.13.5"
  }
 },
 "nbformat": 4,
 "nbformat_minor": 5
}
