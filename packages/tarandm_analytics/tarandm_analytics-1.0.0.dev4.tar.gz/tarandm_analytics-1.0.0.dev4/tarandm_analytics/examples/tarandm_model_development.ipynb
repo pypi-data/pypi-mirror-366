{
 "cells": [
  {
   "cell_type": "markdown",
   "id": "b732c90d-c157-4f52-9310-5333d937722e",
   "metadata": {},
   "source": [
    "# Import packages"
   ]
  },
  {
   "cell_type": "code",
   "execution_count": null,
   "id": "8fedcb97-a6f7-4703-b17a-fc0c424ec069",
   "metadata": {},
   "outputs": [],
   "source": [
    "from tarandm_analytics.export_predictive_model.create_predictive_model import ExportPredictiveModel\n",
    "from tarandm_analytics.attribute_evaluator.evaluate_attributes import EvaluateAttributes"
   ]
  },
  {
   "cell_type": "markdown",
   "id": "9c4e28d7-9d7d-41f5-a34a-83cff047eb04",
   "metadata": {},
   "source": [
    "# Prepare dataset\n",
    "Use attribute evaluator to prepare dataset."
   ]
  },
  {
   "cell_type": "code",
   "execution_count": null,
   "id": "776c2a69-7917-4b86-80bf-0202bf79c6a1",
   "metadata": {},
   "outputs": [],
   "source": [
    "ea = EvaluateAttributes(\n",
    "    endpoint_url=\"http://127.0.0.1:8086\",\n",
    "    username=\"\",\n",
    "    password=\"\"\n",
    ")"
   ]
  },
  {
   "cell_type": "code",
   "execution_count": null,
   "id": "7ad8fc62-dfe3-4ca4-b8fd-7d5835b61695",
   "metadata": {},
   "outputs": [],
   "source": [
    "ea.check_evaluation_progress()"
   ]
  },
  {
   "cell_type": "markdown",
   "id": "e437b312-803a-400d-a312-a93826d9c2f1",
   "metadata": {},
   "source": [
    "## List available attribute classes"
   ]
  },
  {
   "cell_type": "code",
   "execution_count": null,
   "id": "416c228d-0fa7-492e-b344-2f1c44da10eb",
   "metadata": {},
   "outputs": [],
   "source": [
    "attribute_classes = ea.get_attribute_classes()\n",
    "\n",
    "print('Available attribute classes:\\n')\n",
    "for attr_class, attrs in attribute_classes.items():\n",
    "    print(f\"{attr_class}:\")\n",
    "    for attr in attrs:\n",
    "        print(f\"\\t{attr}\")"
   ]
  },
  {
   "cell_type": "markdown",
   "id": "66a250cd-fae2-49d3-92bf-95e94f7a3556",
   "metadata": {},
   "source": [
    "## List available business classes"
   ]
  },
  {
   "cell_type": "code",
   "execution_count": null,
   "id": "45b000fc-50f7-405a-8ff9-3e4364dede87",
   "metadata": {},
   "outputs": [],
   "source": [
    "business_cases = ea.get_business_cases()\n",
    "\n",
    "print('Available business cases:\\n')\n",
    "for business_case, meta in business_cases.items():\n",
    "    input_class = meta.get(\"input_class\")\n",
    "    audience = '; '.join(meta['audiences'])\n",
    "    print(f\"{business_case}:\\n\\tinput_data: {input_class}\\n\\taudience: {audience}\")"
   ]
  },
  {
   "cell_type": "markdown",
   "id": "c88e4161-1236-4c54-b89a-a28b3c9ce0a2",
   "metadata": {},
   "source": [
    "## Evaluate attributes of selected attribute classes"
   ]
  },
  {
   "cell_type": "code",
   "execution_count": null,
   "id": "d925ceec-d154-4e5b-93d4-7ec2805a7a55",
   "metadata": {},
   "outputs": [],
   "source": [
    "# decision_ids = [\n",
    "#     '77498d97-5f34-41dc-bd22-7c0a1b3d435f',\n",
    "#     'fc24bf34-6aa8-4370-8330-a25f517a1b4c',\n",
    "# ]\n",
    "\n",
    "ea.evaluate(\n",
    "    date_from=\"2023-01-01\",\n",
    "    date_to=\"2023-08-07\",\n",
    "    attribute_classes=[\n",
    "        \"repository.strategies.attributes.attributes_complex_strategy.AttributesComplexStrategyCBData\",\n",
    "        \"repository.strategies.attributes.attributes_complex_strategy.AttributesComplexStrategyInputDataDummy\"\n",
    "    ],\n",
    "    input_data_class=\"repository.interface.interface.InputDataDummy\",\n",
    "    business_case=\"Complex integration test\",\n",
    "    repository=\"https://gitlab.develop.demo.tarandm.com/tarandm/strategies.git\",\n",
    "    git_user_name = \"\",\n",
    "    git_user_email = \"...\",\n",
    "    git_user_token = \"...\"\n",
    ")"
   ]
  },
  {
   "cell_type": "markdown",
   "id": "6f1515b3-de5f-412e-9a65-5f2311a19c00",
   "metadata": {},
   "source": [
    "## Check data in DB\n",
    "Evaluated attributes can be checked directly in DB - following will generate SQL commad to get the data."
   ]
  },
  {
   "cell_type": "code",
   "execution_count": null,
   "id": "63485f99-7d2a-4232-91c0-01e0ca30f2f5",
   "metadata": {},
   "outputs": [],
   "source": [
    "print(ea.generate_query_to_extract_attributes())"
   ]
  },
  {
   "cell_type": "markdown",
   "id": "fb3719f5-4cd6-4195-9910-20ed082d7472",
   "metadata": {},
   "source": [
    "## Fetch dataset from DB"
   ]
  },
  {
   "cell_type": "code",
   "execution_count": null,
   "id": "2555b09d-bc91-4647-a282-35ac10eff4ce",
   "metadata": {},
   "outputs": [],
   "source": [
    "ea.last_attribute_extractor_id['id']"
   ]
  },
  {
   "cell_type": "code",
   "execution_count": null,
   "id": "021fb13b-2e1b-4c49-80f7-a6a264380c04",
   "metadata": {},
   "outputs": [],
   "source": [
    "df = ea.fetch_data_from_db(attribute_extractor_id=ea.last_attribute_extractor_id['id'])\n",
    "df"
   ]
  },
  {
   "cell_type": "code",
   "execution_count": null,
   "id": "d749f94c-59d8-4d49-bbe5-eeb9cb79e12e",
   "metadata": {},
   "outputs": [],
   "source": [
    "ea.check_evaluation_progress()"
   ]
  },
  {
   "cell_type": "code",
   "execution_count": null,
   "id": "a582096b-fcef-416b-bbd9-39022504d36a",
   "metadata": {},
   "outputs": [],
   "source": [
    "ea.last_attribute_extractor_id\n",
    "ea.attribute_extractor_ids"
   ]
  },
  {
   "cell_type": "markdown",
   "id": "8eee2bfe-d2fb-408d-a432-d51cdcf543f5",
   "metadata": {},
   "source": [
    "# Create model"
   ]
  },
  {
   "cell_type": "code",
   "execution_count": null,
   "id": "c2ece10e-0a07-4765-bfc9-71eba0ef3dcf",
   "metadata": {},
   "outputs": [],
   "source": [
    "from sklearn.datasets import make_classification\n",
    "from sklearn.model_selection import train_test_split\n",
    "import pandas as pd\n",
    "import xgboost as xgb"
   ]
  },
  {
   "cell_type": "markdown",
   "id": "a1e43085-a2a6-42b0-946e-ef475a3d6a29",
   "metadata": {},
   "source": [
    "## Prepare dataset\n",
    "For model export we will create artificial dataset. Dataset from attribute evaluator is small to achive fast response."
   ]
  },
  {
   "cell_type": "code",
   "execution_count": null,
   "id": "30eed832-9191-4df6-9afc-762f5272cd4d",
   "metadata": {},
   "outputs": [],
   "source": [
    "data, target = make_classification(n_samples=50000, n_features=10, random_state=12, n_informative=3, n_redundant=1, flip_y=0.2)"
   ]
  },
  {
   "cell_type": "code",
   "execution_count": null,
   "id": "c2467786-a819-4bd0-a3d9-fab4dd39ece2",
   "metadata": {},
   "outputs": [],
   "source": [
    "predictors = ['age', 'avg_monthly_income', 'max_days_past_due', 'cnt_rejected', 'selected_amount', 'total_debt', 'debt_to_income', 'cb_score', 'social_circle_score', 'telco_score']\n",
    "\n",
    "data = pd.DataFrame(data, columns=predictors)\n",
    "data['target'] = target"
   ]
  },
  {
   "cell_type": "code",
   "execution_count": null,
   "id": "5da1ec12-198b-45dd-8646-6856a703ab13",
   "metadata": {},
   "outputs": [],
   "source": [
    "data.head()"
   ]
  },
  {
   "cell_type": "markdown",
   "id": "dbfff05c-df6f-4e5d-8e8d-efbefbbe5cf9",
   "metadata": {},
   "source": [
    "## Split data"
   ]
  },
  {
   "cell_type": "code",
   "execution_count": null,
   "id": "3518ff0f-0063-4fa7-8b0e-7310a37602f3",
   "metadata": {},
   "outputs": [],
   "source": [
    "data_train, data_rest = train_test_split(data, test_size=0.4, stratify=data[['target']])\n",
    "data_test, data_valid = train_test_split(data_rest, test_size=0.5, stratify=data_rest[['target']])\n",
    "\n",
    "data_train['sample'] = 'train'\n",
    "data_test['sample'] = 'test'\n",
    "data_valid['sample'] = 'valid'\n",
    "\n",
    "data = pd.concat([data_train, data_test, data_valid])\n",
    "\n",
    "train_mask = data['sample'] == 'train'\n",
    "test_mask = data['sample'] == 'test'\n",
    "valid_mask = data['sample'] == 'valid'"
   ]
  },
  {
   "cell_type": "markdown",
   "id": "d6700acb-af7e-464d-a576-b6d54a816db1",
   "metadata": {},
   "source": [
    "## Train model"
   ]
  },
  {
   "cell_type": "markdown",
   "id": "a636ca9a-9e67-4ce4-b035-dad28c442050",
   "metadata": {},
   "source": [
    "### XGBoost"
   ]
  },
  {
   "cell_type": "code",
   "execution_count": null,
   "id": "23f0cd9f-bd7a-45f1-9b63-971b15c5283f",
   "metadata": {},
   "outputs": [],
   "source": [
    "params = {\n",
    "    'objective': 'binary:logistic',\n",
    "    'eval_metric': 'auc',\n",
    "    \n",
    "    'max_depth': 3,\n",
    "    'eta': 0.3\n",
    "}\n",
    "\n",
    "evals_result = {}\n",
    "booster = xgb.train(\n",
    "    params=params,\n",
    "    dtrain=xgb.DMatrix(data[train_mask][predictors], data[train_mask][\"target\"]),\n",
    "    num_boost_round=1000,\n",
    "    evals=(\n",
    "        (xgb.DMatrix(data[train_mask][predictors], data[train_mask][\"target\"]), \"train\"),\n",
    "        (xgb.DMatrix(data[valid_mask][predictors], data[valid_mask][\"target\"]), \"valid\"),\n",
    "        (xgb.DMatrix(data[test_mask][predictors], data[test_mask][\"target\"]), \"test\"),\n",
    "    ),\n",
    "    early_stopping_rounds=10,\n",
    "    evals_result=evals_result\n",
    ")"
   ]
  },
  {
   "cell_type": "code",
   "execution_count": null,
   "id": "f8f04b45-1e05-4331-bad3-1782212d44e5",
   "metadata": {},
   "outputs": [],
   "source": [
    "data['predicted_pd'] = booster.predict(xgb.DMatrix(data[predictors]))"
   ]
  },
  {
   "cell_type": "code",
   "execution_count": null,
   "id": "bc7040a5-18a1-4314-a1e1-bc60bec24bae",
   "metadata": {},
   "outputs": [],
   "source": [
    "model = booster\n",
    "data = data\n",
    "attributes = predictors\n",
    "\n",
    "import shap\n",
    "import matplotlib.pyplot as plt\n",
    "\n",
    "explainer = shap.TreeExplainer(model)\n",
    "shap_values = explainer.shap_values(data[attributes])\n",
    "shap.summary_plot(shap_values, data[attributes], max_display=15, show=False, )\n",
    "\n",
    "# ax = plt.gca()\n",
    "# if ax.get_legend():\n",
    "#     ax.get_legend().remove()"
   ]
  },
  {
   "cell_type": "markdown",
   "id": "c4fb7662-36a5-4e1a-a0c3-ee1745eaf521",
   "metadata": {},
   "source": [
    "### Neural Network\n",
    "Testing ONNX for neural networks implementation."
   ]
  },
  {
   "cell_type": "code",
   "execution_count": null,
   "id": "e96b6d38-2562-49de-9f8a-3f3420aa6699",
   "metadata": {},
   "outputs": [],
   "source": [
    "# import torch\n",
    "# from torch import nn, tensor\n",
    "# import math"
   ]
  },
  {
   "cell_type": "code",
   "execution_count": null,
   "id": "d0fd1756-b878-412e-bf97-b90a74ec8e45",
   "metadata": {},
   "outputs": [],
   "source": [
    "# predictors"
   ]
  },
  {
   "cell_type": "code",
   "execution_count": null,
   "id": "6606e34b-fdad-4a7d-b397-8ff035aa2417",
   "metadata": {},
   "outputs": [],
   "source": [
    "# N_INPUTS = len(predictors)\n",
    "# device = \"cpu\"\n",
    "\n",
    "# class NeuralNetwork(nn.Module):    \n",
    "#     def __init__(self):\n",
    "#         super().__init__()\n",
    "#         self.nn_architecture = nn.Sequential(\n",
    "#             nn.Linear(N_INPUTS, 20),\n",
    "#             nn.ReLU(),\n",
    "#             nn.Linear(20, 20),\n",
    "#             nn.ReLU(),\n",
    "#             nn.Linear(20, 1),\n",
    "#             nn.Sigmoid()\n",
    "#         )\n",
    "    \n",
    "#     def forward(self, x):\n",
    "#         return self.nn_architecture(x)"
   ]
  },
  {
   "cell_type": "code",
   "execution_count": null,
   "id": "3d32a77a-a79e-480b-8d55-9b1d1c212f24",
   "metadata": {},
   "outputs": [],
   "source": [
    "# model = NeuralNetwork().to(device)\n",
    "\n",
    "# loss_fn = nn.BCELoss()\n",
    "# optimizer = torch.optim.Adam(model.parameters(), lr=1e-3)"
   ]
  },
  {
   "cell_type": "code",
   "execution_count": null,
   "id": "f35f427c-24b5-4cab-8f36-03c4dea86c2e",
   "metadata": {},
   "outputs": [],
   "source": [
    "# def train(data, model, loss_fn, optimizer, batch_size):\n",
    "#     size = len(data)\n",
    "    \n",
    "#     model.train()\n",
    "#     for i in range(0, math.ceil(size / batch_size)):\n",
    "#         batch_x = tensor(data.iloc[i*batch_size : (i+1)*batch_size][predictors].values, dtype=torch.float)\n",
    "#         batch_y = tensor(data.iloc[i*batch_size : (i+1)*batch_size][['target']].values, dtype=torch.float)\n",
    "        \n",
    "#         X, y = batch_x.to(device), batch_y.to(device)\n",
    "\n",
    "#         # Compute prediction error\n",
    "#         pred = model(X)\n",
    "#         loss = loss_fn(pred, y)\n",
    "\n",
    "#         # Backpropagation\n",
    "#         loss.backward()\n",
    "#         optimizer.step()\n",
    "#         optimizer.zero_grad()\n",
    "\n",
    "#         if i % 100 == 0:\n",
    "#             loss, current = loss.item(), (i + 1) * len(X)\n",
    "#             print(f\"loss: {loss:>7f}  [{current:>5d}/{size:>5d}]\")\n",
    "            \n",
    "# # def test(data, model, loss_fn):\n",
    "# #     size = len(data)\n",
    "# #     # num_batches = len(dataloader)\n",
    "# #     model.eval()\n",
    "# #     test_loss, correct = 0, 0\n",
    "# #     with torch.no_grad():\n",
    "# #         for X, y in dataloader:\n",
    "# #             X, y = X.to(device), y.to(device)\n",
    "# #             pred = model(X)\n",
    "# #             test_loss += loss_fn(pred, y).item()\n",
    "# #             correct += (pred.argmax(1) == y).type(torch.float).sum().item()\n",
    "# #     test_loss /= num_batches\n",
    "# #     correct /= size\n",
    "# #     print(f\"Test Error: \\n Accuracy: {(100*correct):>0.1f}%, Avg loss: {test_loss:>8f} \\n\")"
   ]
  },
  {
   "cell_type": "code",
   "execution_count": null,
   "id": "1b7c161f-ca9b-41bd-babc-51c01767cca1",
   "metadata": {},
   "outputs": [],
   "source": [
    "# epochs = 2\n",
    "# for t in range(epochs):\n",
    "#     print(f\"Epoch {t+1}\\n-------------------------------\")\n",
    "#     train(data, model, loss_fn, optimizer, batch_size=64)\n",
    "#     # test(test_dataloader, model, loss_fn)\n",
    "# print(\"Done!\")"
   ]
  },
  {
   "cell_type": "code",
   "execution_count": null,
   "id": "516b214a-cc59-49a3-9c53-d44e3a67f4fb",
   "metadata": {},
   "outputs": [],
   "source": [
    "# torch.onnx.export(\n",
    "#     model, tensor(data[predictors].values, dtype=torch.float), \"test.onnx\", verbose=True, \n",
    "#     # input_names=predictors, output_names=['target']\n",
    "# )"
   ]
  },
  {
   "cell_type": "code",
   "execution_count": null,
   "id": "5b03eca8-2bdd-43dd-a027-6e515b2f9cdf",
   "metadata": {},
   "outputs": [],
   "source": [
    "# torch.onnx.dynamo_export(model, tensor(data[predictors].values, dtype=torch.float))"
   ]
  },
  {
   "cell_type": "code",
   "execution_count": null,
   "id": "ce62fdfe-54c1-4755-9a2c-d1fb03256a3a",
   "metadata": {},
   "outputs": [],
   "source": [
    "# torch.__version__"
   ]
  },
  {
   "cell_type": "markdown",
   "id": "66452e43-f9d0-4a90-90cd-977722cf34f6",
   "metadata": {},
   "source": [
    "# Export model"
   ]
  },
  {
   "cell_type": "code",
   "execution_count": null,
   "id": "73e096b5-b93a-44fc-a259-ea413c752ff5",
   "metadata": {},
   "outputs": [],
   "source": [
    "epm = ExportPredictiveModel(\n",
    "    endpoint_url=\"http://127.0.0.1:8086\",\n",
    "    username=\"\",\n",
    "    password=\"\"\n",
    ")"
   ]
  },
  {
   "cell_type": "code",
   "execution_count": null,
   "id": "e60e44a7-be50-4c81-98a0-d753d8d724bf",
   "metadata": {},
   "outputs": [],
   "source": [
    "monitoring_data = epm.get_monitoring_data(\n",
    "    data=data,\n",
    "    label_name=\"target\",\n",
    "    attributes=predictors,\n",
    "    model_output_name=\"predicted_pd\"\n",
    ")"
   ]
  },
  {
   "cell_type": "code",
   "execution_count": null,
   "id": "5f6be04d-a206-4589-b0d7-fc2cd5d26e97",
   "metadata": {},
   "outputs": [],
   "source": [
    "pred_descr = {\n",
    "    \"age\": \"Client's age.\"\n",
    "}\n",
    "\n",
    "request_data, images = epm.prepare_predictive_model_data(\n",
    "    model_name=\"tarandm_xgboost\",\n",
    "    model=booster,\n",
    "    attributes=predictors,\n",
    "    label_name=\"target\",\n",
    "    target_class=\"1\",\n",
    "    hyperparameters=params,\n",
    "    monitoring_data=monitoring_data,    \n",
    "    attribute_description=pred_descr,\n",
    "    data=data,\n",
    "    column_name_sample=\"sample\",\n",
    "    column_name_date=\"date_decision\",\n",
    "    column_name_prediction=\"predicted_pd\",\n",
    "    evaluate_performance={\"target\": [\"AUC\"]},\n",
    "    learning_curves_data=evals_result\n",
    ")"
   ]
  },
  {
   "cell_type": "code",
   "execution_count": null,
   "id": "a5dc56ac-8bfa-4c99-9ae6-458b2e5b2d43",
   "metadata": {},
   "outputs": [],
   "source": [
    "epm.build_predictive_model(request_data=request_data, images=images, filename=\"tarandm_xgboost.zip\")"
   ]
  },
  {
   "cell_type": "markdown",
   "id": "ed1e30ee-1577-42fc-96af-be0c56e49581",
   "metadata": {},
   "source": [
    "# Commit model and create merge request"
   ]
  },
  {
   "cell_type": "code",
   "execution_count": null,
   "id": "9e1b486c-baaa-4cd3-b002-4104956c69d8",
   "metadata": {},
   "outputs": [],
   "source": [
    "from tarandm_analytics.export_predictive_model.upload_model_to_gitlab import create_merge_request\n",
    "import getpass"
   ]
  },
  {
   "cell_type": "code",
   "execution_count": null,
   "id": "810ade2d-78a7-4020-9d33-f3849d09f9ba",
   "metadata": {},
   "outputs": [],
   "source": [
    "# user setup\n",
    "repository_url = \"https://gitlab.develop.demo.tarandm.com/tarandm/strategies.git\"\n",
    "gitlab_url = \"https://gitlab.develop.demo.tarandm.com\"\n",
    "environment = \"develop\"\n",
    "git_user_name = 'kkozmik'\n",
    "git_user_token = getpass.getpass(prompt='Enter your git token: ')\n",
    "cloned_repo_dir = 'tarandm_strategies_working_copy'"
   ]
  },
  {
   "cell_type": "code",
   "execution_count": null,
   "id": "5dc0ee7a-ca39-44f4-a41f-6008b26d931b",
   "metadata": {},
   "outputs": [],
   "source": [
    "create_merge_request(\n",
    "    gitlab_url=gitlab_url,\n",
    "    repository_url=repository_url,\n",
    "    environment=environment,\n",
    "    git_user_name=git_user_name,\n",
    "    git_user_token=git_user_token,\n",
    "    cloned_repo_dir=cloned_repo_dir,\n",
    "    request_data=request_data,\n",
    "    images=images,\n",
    "    epm=epm,\n",
    ")"
   ]
  }
 ],
 "metadata": {
  "kernelspec": {
   "display_name": "Python 3 (ipykernel)",
   "language": "python",
   "name": "python3"
  },
  "language_info": {
   "codemirror_mode": {
    "name": "ipython",
    "version": 3
   },
   "file_extension": ".py",
   "mimetype": "text/x-python",
   "name": "python",
   "nbconvert_exporter": "python",
   "pygments_lexer": "ipython3",
   "version": "3.12.3"
  }
 },
 "nbformat": 4,
 "nbformat_minor": 5
}
