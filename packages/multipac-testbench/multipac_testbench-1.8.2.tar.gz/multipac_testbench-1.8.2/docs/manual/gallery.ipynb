{
 "cells": [
  {
   "cell_type": "markdown",
   "id": "5267aeea-4669-467b-b464-b60b214665b8",
   "metadata": {
    "editable": true,
    "slideshow": {
     "slide_type": ""
    },
    "tags": []
   },
   "source": [
    "# Gallery"
   ]
  },
  {
   "cell_type": "markdown",
   "id": "d97d4827-4ff8-401e-8598-a093170f5bdc",
   "metadata": {
    "editable": true,
    "slideshow": {
     "slide_type": ""
    },
    "tags": []
   },
   "source": [
    "Here you will find some examples of plots that can be produced, as well as the Jupyter Notebooks to produce it. For more details, check out the [Tutorials](tutorials.rst) section."
   ]
  },
  {
   "cell_type": "markdown",
   "id": "7119a146-fc0b-470f-9864-278fd2108b77",
   "metadata": {
    "cell_type": "markdown",
    "editable": true,
    "metadata": {
     "tags": [
      "nbsphinx-gallery"
     ]
    },
    "slideshow": {
     "slide_type": ""
    },
    "source": [
     "* [tes](gallery/plot_signals_measured_by_instruments.ipynb)"
    ],
    "tags": [
     "nbsphinx-gallery"
    ]
   },
   "source": [
    "* [Plot signal measured by instruments](notebooks/plot_signals_measured_by_instruments.ipynb)\n",
    "* [Plot an instrument signal vs another](notebooks/plot_signal_measured_by_instruments_vs_another_signal.ipynb)\n",
    "* [Plot data from several tests on same fig](notebooks/compare_several_tests.ipynb)\n",
    "* [Plot evolution of thresholds](notebooks/plot_evolution_thresholds.ipynb)\n",
    "* [Plot voltage thresholds (local)](notebooks/plot_voltage_thresholds.ipynb)\n",
    "* [Make a susceptiblity chart](notebooks/plot_susceptibility.ipynb)\n",
    "* [Check Somersalo scaling law](notebooks/check_somersalo_scaling_law.ipynb)\n",
    "* [Reconstruct electric field at every position](notebooks/reconstruct_voltage.ipynb)\n",
    "* [Animate the test](notebooks/animate_multipactor_test.ipynb)"
   ]
  }
 ],
 "metadata": {
  "kernelspec": {
   "display_name": "Python 3 (ipykernel)",
   "language": "python",
   "name": "python3"
  },
  "language_info": {
   "codemirror_mode": {
    "name": "ipython",
    "version": 3
   },
   "file_extension": ".py",
   "mimetype": "text/x-python",
   "name": "python",
   "nbconvert_exporter": "python",
   "pygments_lexer": "ipython3",
   "version": "3.13.2"
  }
 },
 "nbformat": 4,
 "nbformat_minor": 5
}
