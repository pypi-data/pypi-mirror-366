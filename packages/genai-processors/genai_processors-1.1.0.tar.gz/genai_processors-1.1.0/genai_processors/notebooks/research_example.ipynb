{
  "cells": [
    {
      "cell_type": "code",
      "execution_count": null,
      "metadata": {
        "id": "Dzr0uiSQ0hSB"
      },
      "outputs": [],
      "source": [
        "# Copyright 2025 DeepMind Technologies Limited. All Rights Reserved.\n",
        "#\n",
        "# Licensed under the Apache License, Version 2.0 (the \"License\");\n",
        "# you may not use this file except in compliance with the License.\n",
        "# You may obtain a copy of the License at\n",
        "#\n",
        "#     http://www.apache.org/licenses/LICENSE-2.0\n",
        "#\n",
        "# Unless required by applicable law or agreed to in writing, software\n",
        "# distributed under the License is distributed on an \"AS IS\" BASIS,\n",
        "# WITHOUT WARRANTIES OR CONDITIONS OF ANY KIND, either express or implied.\n",
        "# See the License for the specific language governing permissions and\n",
        "# limitations under the License."
      ]
    },
    {
      "cell_type": "markdown",
      "metadata": {
        "id": "qMYjFNCd0xP2"
      },
      "source": [
        "[![Open in Colab](https://colab.research.google.com/assets/colab-badge.svg)](https://colab.research.google.com/github/google/genai-processors/blob/main/notebooks/research_example.ipynb)"
      ]
    },
    {
      "cell_type": "markdown",
      "metadata": {
        "id": "zzFUsTefL_JV"
      },
      "source": [
        "# 📖 Research Agent Example\n",
        "\n",
        "This notebook demonstrates how to build a research agent using the modular components of the `genai-processors` library.\n",
        "\n",
        "You will see how a complex task, like researching a topic, can be broken down into a series of smaller, reusable processors. We will explore each component individually and then combine them into a powerful, automated research pipeline.\n",
        "\n",
        "In this notebook, we will cover:\n",
        "\n",
        "*   **Setup**: Getting your environment ready and configuring an API key.\n",
        "*   **Individual Processors**: Exploring the building blocks `TopicGenerator`, `TopicResearcher`, and `TopicVerbalizer`.\n",
        "*   **Chaining**: Learning how to connect processors to create a seamless workflow.\n",
        "*   **The Complete Agent**: Running the `ResearchAgent` to see how all the pieces come together for an end-to-end task.\n",
        "\n",
        "Note: You will need to authorize colab to use your GitHub account, in order to import the research example."
      ]
    },
    {
      "cell_type": "markdown",
      "metadata": {
        "id": "oxForuGtLv4L"
      },
      "source": [
        "## 🍳 Setup"
      ]
    },
    {
      "cell_type": "code",
      "execution_count": null,
      "metadata": {
        "id": "u7arK-sNjEoy",
        "language": "python"
      },
      "outputs": [],
      "source": [
        "# {display-mode: \"form\"}\n",
        "# @markdown Run this cell to import libraries and perform initializations.\n",
        "\n",
        "!pip install genai_processors\n",
        "\n",
        "from genai_processors import content_api\n",
        "from genai_processors import processor\n",
        "from genai_processors import streams\n",
        "from genai_processors.core import jinja_template\n",
        "from genai_processors.examples import research\n",
        "from google.colab import userdata\n",
        "from IPython.display import Markdown, display\n",
        "\n",
        "ProcessorPart = processor.ProcessorPart\n",
        "\n",
        "\n",
        "def render_part(part: ProcessorPart) -\u003e None:\n",
        "  if part.substream_name == \"status\":\n",
        "    display(Markdown(f\"--- \\n *Status*: {part.text}\"))\n",
        "  else:\n",
        "    try:\n",
        "      display(Markdown(part.text))\n",
        "    except Exception:\n",
        "      display(Markdown(f\" {part.text} \"))"
      ]
    },
    {
      "cell_type": "markdown",
      "metadata": {
        "id": "0CnijoOm4W2N"
      },
      "source": [
        "## 🔐 Auth\n",
        "\n",
        "To use the research processors, you will need an API key. If you have not\n",
        "done so already, obtain your API key from Google AI Studio, and import it as a\n",
        "secret in Colab (recommended) or directly set it below."
      ]
    },
    {
      "cell_type": "code",
      "execution_count": null,
      "metadata": {
        "id": "tMt8TdEG1ADk"
      },
      "outputs": [],
      "source": [
        "GOOGLE_API_KEY = None\n",
        "\n",
        "try:\n",
        "  GOOGLE_API_KEY = userdata.get('GOOGLE_API_KEY')\n",
        "except Exception:\n",
        "  print('Failed to obtain `GOOGLE_API_KEY`.')"
      ]
    },
    {
      "cell_type": "markdown",
      "metadata": {
        "id": "e60eyr2_1Jst"
      },
      "source": [
        ""
      ]
    },
    {
      "cell_type": "markdown",
      "metadata": {
        "id": "XdMvGFufdeRF"
      },
      "source": [
        "## 🏗 Processors"
      ]
    },
    {
      "cell_type": "code",
      "execution_count": null,
      "metadata": {
        "id": "DOETzhfmdeRF"
      },
      "outputs": [],
      "source": [
        "USER_PROMPT = \"Research the best things about owning dalmatians!\"  # @param { \"type\": \"string\" }"
      ]
    },
    {
      "cell_type": "markdown",
      "metadata": {
        "id": "XCYJp7H1deRF"
      },
      "source": [
        "### ✍ `TopicGenerator`\n",
        "\n",
        "The `TopicGenerator` processor generates a list of research topics, given the user's content."
      ]
    },
    {
      "cell_type": "code",
      "execution_count": null,
      "metadata": {
        "id": "FuHD-6_OdeRF"
      },
      "outputs": [],
      "source": [
        "p_generator = research.TopicGenerator(api_key=GOOGLE_API_KEY)\n",
        "\n",
        "topic_parts = []\n",
        "input_stream = streams.stream_content([ProcessorPart(USER_PROMPT)])\n",
        "async for content_part in p_generator(input_stream):\n",
        "  if content_part.mimetype == 'application/json; type=Topic':\n",
        "    topic_parts.append(content_part)\n",
        "  else:\n",
        "    render_part(content_part)"
      ]
    },
    {
      "cell_type": "markdown",
      "metadata": {
        "id": "QSKIdaZxdeRF"
      },
      "source": [
        "### 🔍 `TopicResearcher`\n",
        "\n",
        "\n",
        "Next, we add `TopicResearcher` to `TopicGenerator` to generate `Topic` objects."
      ]
    },
    {
      "cell_type": "code",
      "execution_count": null,
      "metadata": {
        "id": "08mSMNordeRF"
      },
      "outputs": [],
      "source": [
        "topics = []\n",
        "p_researcher = research.TopicResearcher(api_key=GOOGLE_API_KEY)\n",
        "\n",
        "pipeline = p_generator + p_researcher\n",
        "\n",
        "input_stream = streams.stream_content([ProcessorPart(USER_PROMPT)])\n",
        "async for content_part in pipeline(input_stream):\n",
        "  if content_part.mimetype == 'application/json; type=Topic':\n",
        "    topics.append(content_part.get_dataclass(research.interfaces.Topic))\n",
        "  elif content_part.substream_name == 'status':\n",
        "    render_part(content_part)\n",
        "\n",
        "print(f'Pipeline produced {len(topics)} `Topic` `ProcessorParts`:\\n\\n')\n",
        "\n",
        "for t in topics:\n",
        "  print(t)"
      ]
    },
    {
      "cell_type": "markdown",
      "metadata": {
        "id": "4Wgln4W4deRF"
      },
      "source": [
        "### 🗣 `TopicVerbalizer`\n",
        "\n",
        "A Jinja2 processor is used to convert `TopicResearch` parts into human-readable research text."
      ]
    },
    {
      "cell_type": "code",
      "execution_count": null,
      "metadata": {
        "id": "FqfzbDm9deRF"
      },
      "outputs": [],
      "source": [
        "p_verbalizer = jinja_template.RenderDataClass(\n",
        "    template_str=(\n",
        "        \"## {{ data.topic }}\\n\"\n",
        "        \"*{{ data.relationship_to_user_content }}*\"\n",
        "        \"{% if data.research_text|trim != '' %}\"\n",
        "        \"\\n\\n### Research\\n\\n{{ data.research_text }}\"\n",
        "        \"{% endif %}\"\n",
        "    ),\n",
        "    data_class=research.interfaces.Topic,\n",
        ")\n",
        "\n",
        "pipeline = p_generator + p_researcher + p_verbalizer\n",
        "\n",
        "input_stream = streams.stream_content([ProcessorPart(USER_PROMPT)])\n",
        "async for content_part in pipeline(input_stream):\n",
        "  # We exclude printing status to demonstrate the verbalization.\n",
        "  if content_part.substream_name != \"status\":\n",
        "    render_part(content_part)"
      ]
    },
    {
      "cell_type": "markdown",
      "metadata": {
        "id": "u4-z5E6HdeRG"
      },
      "source": [
        "## 🤖 Agent\n",
        "\n",
        "Now we have all our building blocks, we can chain these together inside our agent, resulting in a seamless flow of Content."
      ]
    },
    {
      "cell_type": "code",
      "execution_count": null,
      "metadata": {
        "id": "Nn7grwqCdeRG"
      },
      "outputs": [],
      "source": [
        "input_stream = streams.stream_content([ProcessorPart(USER_PROMPT)])\n",
        "\n",
        "output_parts = content_api.ProcessorContent()\n",
        "async for content_part in research.ResearchAgent(api_key=GOOGLE_API_KEY)(input_stream):\n",
        "  if content_part.substream_name == 'status':\n",
        "    render_part(content_part)\n",
        "  output_parts += content_part\n",
        "\n",
        "render_part(ProcessorPart(f\"\"\"# Final synthesized research\n",
        "\n",
        "{content_api.as_text(output_parts, substream_name='')}\"\"\"))"
      ]
    }
  ],
  "metadata": {
    "colab": {
      "collapsed_sections": [
        "oxForuGtLv4L"
      ],
      "last_runtime": {
        "build_target": "",
        "kind": "local"
      },
      "private_outputs": true,
      "provenance": [
        {
          "file_id": "1TCBn83WhRZIzt-1lVRN9h-JLyLoc-nzC",
          "timestamp": 1750516269106
        },
        {
          "file_id": "/piper/depot/google3/third_party/py/genai_processors/examples/research/genai_research_api.ipynb?cl=759077814",
          "timestamp": 1750415997748
        },
        {
          "file_id": "1TR6JIxtY9TPU5EBn12Uy5DqB6lRov3rL",
          "timestamp": 1741296571652
        }
      ],
      "toc_visible": true
    },
    "kernelspec": {
      "display_name": "Python 3",
      "name": "python3"
    },
    "language_info": {
      "name": "python"
    }
  },
  "nbformat": 4,
  "nbformat_minor": 0
}
