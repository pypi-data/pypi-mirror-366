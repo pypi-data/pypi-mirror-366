{
 "cells": [
  {
   "cell_type": "markdown",
   "id": "a295f30c-563c-4d09-822c-f9a1ebef4121",
   "metadata": {},
   "source": [
    "# Load graph from file"
   ]
  },
  {
   "attachments": {},
   "cell_type": "markdown",
   "id": "6411c813-96cb-4d17-b04c-fb7c278a2376",
   "metadata": {},
   "source": [
    "![graph.png](graph.png)"
   ]
  },
  {
   "cell_type": "code",
   "execution_count": 1,
   "id": "3d5f9f1b-7eff-4fc4-8cc9-06b90aa2f575",
   "metadata": {},
   "outputs": [],
   "source": [
    "from agtools.core.unitig_graph import UnitigGraph\n",
    "\n",
    "graph_file = \"../tests/data/test_path.gfa\"\n",
    "\n",
    "ug = UnitigGraph.from_gfa(graph_file)"
   ]
  },
  {
   "cell_type": "code",
   "execution_count": 2,
   "id": "f1acfb72-3e5f-4667-a38c-89ae7598a98b",
   "metadata": {},
   "outputs": [
    {
     "name": "stdout",
     "output_type": "stream",
     "text": [
      "Loaded graph from ../tests/data/test_path.gfa\n",
      "Number of segments: 3\n",
      "Number of links: 1\n"
     ]
    }
   ],
   "source": [
    "print(f\"Loaded graph from {ug.file_path}\")\n",
    "print(f\"Number of segments: {ug.vcount}\")\n",
    "print(f\"Number of links: {ug.ecount}\")"
   ]
  },
  {
   "cell_type": "code",
   "execution_count": 3,
   "id": "4aa72081-d606-4c23-a360-d5d17816e503",
   "metadata": {},
   "outputs": [
    {
     "name": "stdout",
     "output_type": "stream",
     "text": [
      "Node 0 denotes segment 11\n",
      "Node 1 denotes segment 12\n",
      "Node 2 denotes segment 13\n"
     ]
    }
   ],
   "source": [
    "for segment_id in ug.segment_names:\n",
    "    print(f\"Node {segment_id} denotes segment {ug.segment_names[segment_id]}\")"
   ]
  },
  {
   "cell_type": "code",
   "execution_count": 4,
   "id": "1063dbd0-c351-48e5-b708-517a8eb72a48",
   "metadata": {},
   "outputs": [
    {
     "name": "stdout",
     "output_type": "stream",
     "text": [
      "Segment segX is node 1\n"
     ]
    }
   ],
   "source": [
    "segment_names_rev = ug.segment_names.inverse\n",
    "print(f\"Segment segX is node {segment_names_rev['12']}\")"
   ]
  },
  {
   "cell_type": "code",
   "execution_count": 5,
   "id": "b43c95c8-afb5-4e45-a14d-0561ba77b109",
   "metadata": {},
   "outputs": [
    {
     "name": "stdout",
     "output_type": "stream",
     "text": [
      "11: ACCTT; length: 5\n",
      "12: TCAAGG; length: 6\n",
      "13: CTTGATT; length: 7\n"
     ]
    }
   ],
   "source": [
    "for segment in ug.segment_names.values():\n",
    "    print(f\"{segment}: {ug.get_segment_sequence(segment)}; length: {ug.segment_lengths[segment]}\")"
   ]
  },
  {
   "cell_type": "code",
   "execution_count": 6,
   "id": "4e490990-a22a-4f31-8e94-057a4ffca046",
   "metadata": {},
   "outputs": [
    {
     "name": "stdout",
     "output_type": "stream",
     "text": [
      "The graph has 0 self loops\n"
     ]
    }
   ],
   "source": [
    "print(f\"The graph has {len(ug.self_loops)} self loops\")"
   ]
  },
  {
   "cell_type": "code",
   "execution_count": 7,
   "id": "3c6d0706-ffe2-47ae-bd78-7fd924d16960",
   "metadata": {},
   "outputs": [
    {
     "name": "stdout",
     "output_type": "stream",
     "text": [
      "11 defaultdict(<class 'list'>, {'12': [('+', '-')]})\n",
      "12 defaultdict(<class 'list'>, {'11': [('+', '-')]})\n"
     ]
    }
   ],
   "source": [
    "for link in ug.oriented_links:\n",
    "    print(link, ug.oriented_links[link])"
   ]
  },
  {
   "cell_type": "code",
   "execution_count": 8,
   "id": "be82fbf4-9e20-4cba-9c4f-f91c07ee3c04",
   "metadata": {},
   "outputs": [
    {
     "name": "stdout",
     "output_type": "stream",
     "text": [
      "[0, 1]\n",
      "[2]\n"
     ]
    }
   ],
   "source": [
    "for component in ug.graph.components():\n",
    "    print(component)"
   ]
  },
  {
   "cell_type": "code",
   "execution_count": 9,
   "id": "aa640e4a-8e2b-428a-8cba-9e8d417cb249",
   "metadata": {},
   "outputs": [
    {
     "data": {
      "text/plain": [
       "True"
      ]
     },
     "execution_count": 9,
     "metadata": {},
     "output_type": "execute_result"
    }
   ],
   "source": [
    "ug.is_connected(\"12\", \"11\")"
   ]
  },
  {
   "cell_type": "code",
   "execution_count": 10,
   "id": "0fbba67f-c553-47db-8d5f-8af893a1ec13",
   "metadata": {},
   "outputs": [
    {
     "name": "stderr",
     "output_type": "stream",
     "text": [
      "/Users/vijinimallawaarachchi/miniforge3/envs/agtools/lib/python3.13/site-packages/agtools/core/unitig_graph.py:295: RuntimeWarning: Couldn't reach some vertices at src/paths/unweighted.c:444\n",
      "  results = self.graph.get_shortest_paths(from_id, to=to_id)\n"
     ]
    },
    {
     "data": {
      "text/plain": [
       "False"
      ]
     },
     "execution_count": 10,
     "metadata": {},
     "output_type": "execute_result"
    }
   ],
   "source": [
    "ug.is_connected(\"13\", \"11\")"
   ]
  },
  {
   "cell_type": "markdown",
   "id": "1c155898-0a22-45c0-9a9a-8b2ef3b8b71f",
   "metadata": {},
   "source": [
    "# Load SPAdes graphs"
   ]
  },
  {
   "cell_type": "code",
   "execution_count": 11,
   "id": "dc828f65-b490-4341-a6d3-a6ea6dc09784",
   "metadata": {},
   "outputs": [],
   "source": [
    "from agtools.assemblers import spades\n",
    "\n",
    "graph_file = \"../tests/data/ESC/assembly_graph_with_scaffolds.gfa\"\n",
    "contigs_file = \"../tests/data/ESC/contigs.fasta\"\n",
    "contig_paths_file = \"../tests/data/ESC/contigs.paths\""
   ]
  },
  {
   "cell_type": "code",
   "execution_count": 12,
   "id": "8ec88171-f751-4a0a-8176-6d7f89b04ab2",
   "metadata": {},
   "outputs": [
    {
     "name": "stdout",
     "output_type": "stream",
     "text": [
      "Number of contigs: 189\n",
      "Number of links: 394\n"
     ]
    }
   ],
   "source": [
    "contig_graph = spades.get_contig_graph(graph_file, contigs_file, contig_paths_file)\n",
    "print(f\"Number of contigs: {contig_graph.vcount}\")\n",
    "print(f\"Number of links: {contig_graph.ecount}\")"
   ]
  },
  {
   "cell_type": "code",
   "execution_count": 13,
   "id": "b2c0f38d-9d8c-4bf2-85f4-f1beeb37fa7a",
   "metadata": {},
   "outputs": [
    {
     "name": "stdout",
     "output_type": "stream",
     "text": [
      "Number of unitigs: 982\n",
      "Number of links: 1265\n"
     ]
    }
   ],
   "source": [
    "unitig_graph = spades.get_unitig_graph(graph_file)\n",
    "print(f\"Number of unitigs: {unitig_graph.vcount}\")\n",
    "print(f\"Number of links: {unitig_graph.ecount}\")"
   ]
  },
  {
   "cell_type": "code",
   "execution_count": 14,
   "id": "55ad57d6-70ba-4c46-ba8f-f7a78d91b123",
   "metadata": {},
   "outputs": [
    {
     "data": {
      "text/plain": [
       "['NODE_4_length_346431_cov_86.228266',\n",
       " 'NODE_9_length_265823_cov_88.260370',\n",
       " 'NODE_14_length_220639_cov_88.091915',\n",
       " 'NODE_19_length_193605_cov_88.758791',\n",
       " 'NODE_21_length_158927_cov_87.573997',\n",
       " 'NODE_23_length_117248_cov_87.447902',\n",
       " 'NODE_29_length_97556_cov_86.828022',\n",
       " 'NODE_33_length_87414_cov_86.098490',\n",
       " 'NODE_42_length_49567_cov_91.112902',\n",
       " 'NODE_44_length_45842_cov_86.030074',\n",
       " 'NODE_46_length_42994_cov_88.472018',\n",
       " 'NODE_47_length_42793_cov_92.771094',\n",
       " 'NODE_50_length_41992_cov_86.797863',\n",
       " 'NODE_63_length_17530_cov_92.904492',\n",
       " 'NODE_89_length_395_cov_158.788235',\n",
       " 'NODE_95_length_284_cov_84.877729',\n",
       " 'NODE_108_length_160_cov_106.523810',\n",
       " 'NODE_118_length_129_cov_90.905405',\n",
       " 'NODE_136_length_114_cov_87.813559',\n",
       " 'NODE_139_length_111_cov_73.875000',\n",
       " 'NODE_146_length_99_cov_86.818182',\n",
       " 'NODE_148_length_98_cov_74.906977',\n",
       " 'NODE_154_length_88_cov_148.030303',\n",
       " 'NODE_156_length_85_cov_89.700000',\n",
       " 'NODE_164_length_65_cov_81.100000',\n",
       " 'NODE_167_length_63_cov_149.000000']"
      ]
     },
     "execution_count": 14,
     "metadata": {},
     "output_type": "execute_result"
    }
   ],
   "source": [
    "contig_graph.get_neighbors(\"NODE_1_length_488682_cov_86.190505\")"
   ]
  },
  {
   "cell_type": "code",
   "execution_count": 15,
   "id": "fd3599c9-a2d2-471b-b91b-be4d11edd6d8",
   "metadata": {},
   "outputs": [
    {
     "data": {
      "text/plain": [
       "True"
      ]
     },
     "execution_count": 15,
     "metadata": {},
     "output_type": "execute_result"
    }
   ],
   "source": [
    "contig_graph.is_connected(\"NODE_21_length_158927_cov_87.573997\", \"NODE_95_length_284_cov_84.877729\")"
   ]
  },
  {
   "cell_type": "markdown",
   "id": "7be9f76c-bdc3-4893-b298-ef66eaa661e0",
   "metadata": {},
   "source": [
    "# Load Flye graphs"
   ]
  },
  {
   "cell_type": "code",
   "execution_count": 16,
   "id": "567f27a2-e92b-47a0-9238-d7acbe6fb1c0",
   "metadata": {},
   "outputs": [],
   "source": [
    "from agtools.assemblers import flye\n",
    "\n",
    "graph_file = \"../tests/data/1Y3B/assembly_graph.gfa\"\n",
    "contig_paths_file = \"../tests/data/1Y3B/assembly_info.txt\"\n",
    "contigs_file = \"../tests/data/1Y3B/assembly.fasta\"\n"
   ]
  },
  {
   "cell_type": "code",
   "execution_count": 17,
   "id": "9a9b994f-eb66-4db6-b786-6e738c926141",
   "metadata": {},
   "outputs": [
    {
     "name": "stdout",
     "output_type": "stream",
     "text": [
      "Number of contigs: 67\n",
      "Number of links: 2\n"
     ]
    }
   ],
   "source": [
    "contig_graph = flye.get_contig_graph(graph_file, contigs_file, contig_paths_file)\n",
    "print(f\"Number of contigs: {contig_graph.vcount}\")\n",
    "print(f\"Number of links: {contig_graph.ecount}\")"
   ]
  },
  {
   "cell_type": "code",
   "execution_count": 18,
   "id": "4578db5a-a7a0-4dc0-bc5d-a24883d63d70",
   "metadata": {},
   "outputs": [
    {
     "name": "stdout",
     "output_type": "stream",
     "text": [
      "Number of unitigs: 69\n",
      "Number of links: 4\n"
     ]
    }
   ],
   "source": [
    "unitig_graph = flye.get_unitig_graph(graph_file)\n",
    "print(f\"Number of unitigs: {unitig_graph.vcount}\")\n",
    "print(f\"Number of links: {unitig_graph.ecount}\")"
   ]
  },
  {
   "cell_type": "markdown",
   "id": "52e1311f-6363-450c-9dd2-99e42d2bacf8",
   "metadata": {},
   "source": [
    "# Load MEGAHIT graph"
   ]
  },
  {
   "cell_type": "code",
   "execution_count": 19,
   "id": "f7eacf49-f717-4e60-ae67-6263b1aeeb93",
   "metadata": {},
   "outputs": [],
   "source": [
    "from agtools.assemblers import megahit\n",
    "\n",
    "graph_file = \"../tests/data/5G/final.gfa\"\n",
    "contig_file = \"../tests/data/5G/final.contigs.fa\""
   ]
  },
  {
   "cell_type": "code",
   "execution_count": 20,
   "id": "668a630d-154f-4e4d-9342-bcd117779446",
   "metadata": {},
   "outputs": [
    {
     "name": "stdout",
     "output_type": "stream",
     "text": [
      "Number of contigs: 11761\n",
      "Number of links: 1120\n"
     ]
    }
   ],
   "source": [
    "contig_graph = megahit.get_contig_graph(graph_file, contig_file)\n",
    "print(f\"Number of contigs: {contig_graph.vcount}\")\n",
    "print(f\"Number of links: {contig_graph.ecount}\")"
   ]
  },
  {
   "cell_type": "code",
   "execution_count": null,
   "id": "b8bd2f32-f8e9-42b0-89e4-d6aee77a3eea",
   "metadata": {},
   "outputs": [],
   "source": []
  }
 ],
 "metadata": {
  "kernelspec": {
   "display_name": "Python 3 (ipykernel)",
   "language": "python",
   "name": "python3"
  },
  "language_info": {
   "codemirror_mode": {
    "name": "ipython",
    "version": 3
   },
   "file_extension": ".py",
   "mimetype": "text/x-python",
   "name": "python",
   "nbconvert_exporter": "python",
   "pygments_lexer": "ipython3",
   "version": "3.13.5"
  }
 },
 "nbformat": 4,
 "nbformat_minor": 5
}
