{
 "cells": [
  {
   "cell_type": "code",
   "execution_count": 1,
   "id": "6f5b6341-87f6-43bc-9f57-6c1f4254ee3f",
   "metadata": {},
   "outputs": [
    {
     "name": "stdout",
     "output_type": "stream",
     "text": [
      "Usage: agtools [OPTIONS] COMMAND [ARGS]...\n",
      "\n",
      "  agtools: Tools for manipulating assembly graphs\n",
      "\n",
      "Options:\n",
      "  -v, --version  Show the version and exit.\n",
      "  -h, --help     Show this message and exit.\n",
      "\n",
      "Commands:\n",
      "  stats      Compute statistics about the graph\n",
      "  rename     Rename segments, paths and walks in a GFA file\n",
      "  concat     Concatenate two or more GFA files\n",
      "  filter     Filter segments from GFA file\n",
      "  component  Extract a component containing a given segment\n",
      "  fastg2gfa  Convert FASTG file to GFA format\n",
      "  asqg2gfa   Convert ASQG file to GFA format\n",
      "  gfa2fastg  Convert GFA file to FASTG format\n",
      "  gfa2dot    Convert GFA file to DOT format (GraphViz)\n",
      "  gfa2fasta  Get segments in FASTA format\n",
      "  gfa2adj    Get adjacency matrix of the assembly graph\n"
     ]
    }
   ],
   "source": [
    "! agtools --help"
   ]
  },
  {
   "cell_type": "markdown",
   "id": "c47970a1-c2e6-4f82-b467-6fdc4ca1173f",
   "metadata": {},
   "source": [
    "# Basic commands"
   ]
  },
  {
   "cell_type": "markdown",
   "id": "f41f3e08-1ba0-4eca-8d8a-402cce63d9ce",
   "metadata": {},
   "source": [
    "## `stats`"
   ]
  },
  {
   "cell_type": "code",
   "execution_count": 2,
   "id": "ad895174-84d7-46dc-a15b-dd2925865681",
   "metadata": {},
   "outputs": [
    {
     "name": "stdout",
     "output_type": "stream",
     "text": [
      "Usage: agtools stats [OPTIONS]\n",
      "\n",
      "  Compute statistics about the graph\n",
      "\n",
      "Options:\n",
      "  -g, --graph PATH   path(s) to the assembly graph file(s)  [required]\n",
      "  -o, --output PATH  path to the output folder  [required]\n",
      "  -h, --help         Show this message and exit.\n"
     ]
    }
   ],
   "source": [
    "! agtools stats --help"
   ]
  },
  {
   "cell_type": "code",
   "execution_count": 3,
   "id": "6b3be333-198b-4aec-8ff0-e8a473ad862e",
   "metadata": {},
   "outputs": [
    {
     "name": "stdout",
     "output_type": "stream",
     "text": [
      "\u001b[32m2025-07-29 16:12:53.481\u001b[0m | \u001b[1mINFO    \u001b[0m | \u001b[36magtools.cli\u001b[0m:\u001b[36mstats\u001b[0m:\u001b[36m78\u001b[0m - \u001b[1mComputing statistics of the graph file ../tests/data/ESC/assembly_graph_with_scaffolds.gfa\u001b[0m\n",
      "\u001b[32m2025-07-29 16:12:53.498\u001b[0m | \u001b[1mINFO    \u001b[0m | \u001b[36magtools.commands.stats\u001b[0m:\u001b[36mstats\u001b[0m:\u001b[36m247\u001b[0m - \u001b[1mBasic graph statistics for ../tests/data/ESC/assembly_graph_with_scaffolds.gfa:\u001b[0m\n",
      "\u001b[32m2025-07-29 16:12:53.498\u001b[0m | \u001b[1mINFO    \u001b[0m | \u001b[36magtools.commands.stats\u001b[0m:\u001b[36mstats\u001b[0m:\u001b[36m248\u001b[0m - \u001b[1mNumber of segments: 982\u001b[0m\n",
      "\u001b[32m2025-07-29 16:12:53.498\u001b[0m | \u001b[1mINFO    \u001b[0m | \u001b[36magtools.commands.stats\u001b[0m:\u001b[36mstats\u001b[0m:\u001b[36m249\u001b[0m - \u001b[1mNumber of links: 1265\u001b[0m\n",
      "\u001b[32m2025-07-29 16:12:53.498\u001b[0m | \u001b[1mINFO    \u001b[0m | \u001b[36magtools.commands.stats\u001b[0m:\u001b[36mstats\u001b[0m:\u001b[36m250\u001b[0m - \u001b[1mNumber of self-loops: 1\u001b[0m\n",
      "\u001b[32m2025-07-29 16:12:53.498\u001b[0m | \u001b[1mINFO    \u001b[0m | \u001b[36magtools.commands.stats\u001b[0m:\u001b[36mstats\u001b[0m:\u001b[36m251\u001b[0m - \u001b[1mNumber of connected components: 4\u001b[0m\n",
      "\u001b[32m2025-07-29 16:12:53.498\u001b[0m | \u001b[1mINFO    \u001b[0m | \u001b[36magtools.commands.stats\u001b[0m:\u001b[36mstats\u001b[0m:\u001b[36m252\u001b[0m - \u001b[1mAverage node degree: 2\u001b[0m\n",
      "\u001b[32m2025-07-29 16:12:53.498\u001b[0m | \u001b[1mINFO    \u001b[0m | \u001b[36magtools.commands.stats\u001b[0m:\u001b[36mstats\u001b[0m:\u001b[36m253\u001b[0m - \u001b[1mSequence-based statistics for ../tests/data/ESC/assembly_graph_with_scaffolds.gfa:\u001b[0m\n",
      "\u001b[32m2025-07-29 16:12:53.498\u001b[0m | \u001b[1mINFO    \u001b[0m | \u001b[36magtools.commands.stats\u001b[0m:\u001b[36mstats\u001b[0m:\u001b[36m254\u001b[0m - \u001b[1mTotal length of segments: 8337494 bp\u001b[0m\n",
      "\u001b[32m2025-07-29 16:12:53.498\u001b[0m | \u001b[1mINFO    \u001b[0m | \u001b[36magtools.commands.stats\u001b[0m:\u001b[36mstats\u001b[0m:\u001b[36m255\u001b[0m - \u001b[1mAverage segment length: 8490 bp\u001b[0m\n",
      "\u001b[32m2025-07-29 16:12:53.498\u001b[0m | \u001b[1mINFO    \u001b[0m | \u001b[36magtools.commands.stats\u001b[0m:\u001b[36mstats\u001b[0m:\u001b[36m256\u001b[0m - \u001b[1mN50: 60706 bp\u001b[0m\n",
      "\u001b[32m2025-07-29 16:12:53.498\u001b[0m | \u001b[1mINFO    \u001b[0m | \u001b[36magtools.commands.stats\u001b[0m:\u001b[36mstats\u001b[0m:\u001b[36m257\u001b[0m - \u001b[1mL50: 36 segment(s)\u001b[0m\n",
      "\u001b[32m2025-07-29 16:12:53.498\u001b[0m | \u001b[1mINFO    \u001b[0m | \u001b[36magtools.commands.stats\u001b[0m:\u001b[36mstats\u001b[0m:\u001b[36m258\u001b[0m - \u001b[1mGC content: 0.00%\u001b[0m\n",
      "\u001b[32m2025-07-29 16:12:53.498\u001b[0m | \u001b[1mINFO    \u001b[0m | \u001b[36magtools.cli\u001b[0m:\u001b[36mstats\u001b[0m:\u001b[36m82\u001b[0m - \u001b[1mComputed statistics can be found in .//graph_stats.txt\u001b[0m\n"
     ]
    }
   ],
   "source": [
    "! agtools stats -g ../tests/data/ESC/assembly_graph_with_scaffolds.gfa -o ./"
   ]
  },
  {
   "cell_type": "markdown",
   "id": "8192e667-4eb6-4471-b90a-c6e837ecd60a",
   "metadata": {},
   "source": [
    "## `rename`"
   ]
  },
  {
   "cell_type": "code",
   "execution_count": 4,
   "id": "bb6b3411-32ad-442c-b7fa-8136879b6b1b",
   "metadata": {},
   "outputs": [
    {
     "name": "stdout",
     "output_type": "stream",
     "text": [
      "Usage: agtools rename [OPTIONS]\n",
      "\n",
      "  Rename segments, paths and walks in a GFA file\n",
      "\n",
      "Options:\n",
      "  -g, --graph PATH   path(s) to the assembly graph file(s)  [required]\n",
      "  -p, --prefix TEXT  prefix for the output file  [default: \"\"]\n",
      "  -o, --output PATH  path to the output folder  [required]\n",
      "  -h, --help         Show this message and exit.\n"
     ]
    }
   ],
   "source": [
    "! agtools rename --help"
   ]
  },
  {
   "cell_type": "code",
   "execution_count": 5,
   "id": "d48fef07-1c23-455b-8d41-979b65dbe558",
   "metadata": {},
   "outputs": [
    {
     "name": "stdout",
     "output_type": "stream",
     "text": [
      "\u001b[32m2025-07-29 16:12:54.258\u001b[0m | \u001b[1mINFO    \u001b[0m | \u001b[36magtools.cli\u001b[0m:\u001b[36mrename\u001b[0m:\u001b[36m99\u001b[0m - \u001b[1mRenaming elements in graph file ../tests/data/test_graph.gfa\u001b[0m\n",
      "\u001b[32m2025-07-29 16:12:54.258\u001b[0m | \u001b[1mINFO    \u001b[0m | \u001b[36magtools.cli\u001b[0m:\u001b[36mrename\u001b[0m:\u001b[36m100\u001b[0m - \u001b[1mPrefix used is test\u001b[0m\n",
      "\u001b[32m2025-07-29 16:12:54.259\u001b[0m | \u001b[1mINFO    \u001b[0m | \u001b[36magtools.cli\u001b[0m:\u001b[36mrename\u001b[0m:\u001b[36m104\u001b[0m - \u001b[1mRenamed graph file is .//renamed_graph.gfa\u001b[0m\n"
     ]
    }
   ],
   "source": [
    "! agtools rename -g ../tests/data/test_graph.gfa -p test -o ./"
   ]
  },
  {
   "cell_type": "markdown",
   "id": "43afffe7-2783-468f-a594-55cf059741d9",
   "metadata": {},
   "source": [
    "## `concat`"
   ]
  },
  {
   "cell_type": "code",
   "execution_count": 6,
   "id": "a32230b1-8655-4240-854b-720967dacfe6",
   "metadata": {},
   "outputs": [
    {
     "name": "stdout",
     "output_type": "stream",
     "text": [
      "Usage: agtools concat [OPTIONS]\n",
      "\n",
      "  Concatenate two or more GFA files\n",
      "\n",
      "Options:\n",
      "  -g, --graph PATH   path(s) to the assembly graph file(s)  [required]\n",
      "  -o, --output PATH  path to the output folder  [required]\n",
      "  -h, --help         Show this message and exit.\n"
     ]
    }
   ],
   "source": [
    "! agtools concat --help"
   ]
  },
  {
   "cell_type": "code",
   "execution_count": 7,
   "id": "07bdf2b3-206a-4ac7-a799-1acd41d535fe",
   "metadata": {},
   "outputs": [
    {
     "name": "stdout",
     "output_type": "stream",
     "text": [
      "\u001b[32m2025-07-29 16:12:55.026\u001b[0m | \u001b[1mINFO    \u001b[0m | \u001b[36magtools.cli\u001b[0m:\u001b[36mconcat\u001b[0m:\u001b[36m113\u001b[0m - \u001b[1mConcatenating graph files [../tests/data/test_graph.gfa, ../tests/data/test_graph_1.gfa]\u001b[0m\n",
      "\u001b[32m2025-07-29 16:12:55.028\u001b[0m | \u001b[1mINFO    \u001b[0m | \u001b[36magtools.cli\u001b[0m:\u001b[36mconcat\u001b[0m:\u001b[36m117\u001b[0m - \u001b[1mConcatenated graph file is .//concatenated_graph.gfa\u001b[0m\n"
     ]
    }
   ],
   "source": [
    "! agtools concat -g ../tests/data/test_graph.gfa -g ../tests/data/test_graph_1.gfa -o ./"
   ]
  },
  {
   "cell_type": "markdown",
   "id": "2c8e15ba-fa0d-4583-9b24-694f619c49a4",
   "metadata": {},
   "source": [
    "## `filter`"
   ]
  },
  {
   "cell_type": "code",
   "execution_count": 8,
   "id": "6b5a4bce-d8c9-47e5-8307-35c592c99026",
   "metadata": {},
   "outputs": [
    {
     "name": "stdout",
     "output_type": "stream",
     "text": [
      "Usage: agtools filter [OPTIONS]\n",
      "\n",
      "  Filter segments from GFA file\n",
      "\n",
      "Options:\n",
      "  -g, --graph PATH          path(s) to the assembly graph file(s)  [required]\n",
      "  -l, --min-length INTEGER  minimum length of segments to keep  [default: 100;\n",
      "                            required]\n",
      "  -o, --output PATH         path to the output folder  [required]\n",
      "  -h, --help                Show this message and exit.\n"
     ]
    }
   ],
   "source": [
    "! agtools filter --help"
   ]
  },
  {
   "cell_type": "code",
   "execution_count": 9,
   "id": "a019d8d0-0b93-4732-aa55-3809c2e743bc",
   "metadata": {},
   "outputs": [
    {
     "name": "stdout",
     "output_type": "stream",
     "text": [
      "\u001b[32m2025-07-29 16:12:55.780\u001b[0m | \u001b[1mINFO    \u001b[0m | \u001b[36magtools.cli\u001b[0m:\u001b[36mfilter\u001b[0m:\u001b[36m135\u001b[0m - \u001b[1mFiltering segments in graph file ../tests/data/test_graph.gfa\u001b[0m\n",
      "\u001b[32m2025-07-29 16:12:55.780\u001b[0m | \u001b[1mINFO    \u001b[0m | \u001b[36magtools.cli\u001b[0m:\u001b[36mfilter\u001b[0m:\u001b[36m136\u001b[0m - \u001b[1mMinimum length of segments to keep is 20 bp\u001b[0m\n",
      "\u001b[32m2025-07-29 16:12:55.780\u001b[0m | \u001b[1mINFO    \u001b[0m | \u001b[36magtools.commands.filter\u001b[0m:\u001b[36mfilter\u001b[0m:\u001b[36m120\u001b[0m - \u001b[1mIdentified 0 segments shorter than 20 bp to remove\u001b[0m\n",
      "\u001b[32m2025-07-29 16:12:55.780\u001b[0m | \u001b[1mINFO    \u001b[0m | \u001b[36magtools.cli\u001b[0m:\u001b[36mfilter\u001b[0m:\u001b[36m140\u001b[0m - \u001b[1mFiltered graph file is .//filtered_graph.gfa\u001b[0m\n"
     ]
    }
   ],
   "source": [
    "! agtools filter -g ../tests/data/test_graph.gfa -l 20 -o ./"
   ]
  },
  {
   "cell_type": "markdown",
   "id": "1a6c579e-a7e1-46d8-bba5-e46a2fa3e128",
   "metadata": {},
   "source": [
    "## `component`"
   ]
  },
  {
   "cell_type": "code",
   "execution_count": 10,
   "id": "1a66531e-645e-4cf1-8794-f6572613e9dc",
   "metadata": {},
   "outputs": [
    {
     "name": "stdout",
     "output_type": "stream",
     "text": [
      "Usage: agtools component [OPTIONS]\n",
      "\n",
      "  Extract a component containing a given segment\n",
      "\n",
      "Options:\n",
      "  -g, --graph PATH    path(s) to the assembly graph file(s)  [required]\n",
      "  -s, --segment TEXT  segment ID  [required]\n",
      "  -o, --output PATH   path to the output folder  [required]\n",
      "  -h, --help          Show this message and exit.\n"
     ]
    }
   ],
   "source": [
    "! agtools component --help"
   ]
  },
  {
   "cell_type": "code",
   "execution_count": 11,
   "id": "f8d7ff1a-2dd5-46af-a35e-457cb93546fb",
   "metadata": {},
   "outputs": [
    {
     "name": "stdout",
     "output_type": "stream",
     "text": [
      "\u001b[32m2025-07-29 16:12:56.540\u001b[0m | \u001b[1mINFO    \u001b[0m | \u001b[36magtools.cli\u001b[0m:\u001b[36mcomponent\u001b[0m:\u001b[36m157\u001b[0m - \u001b[1mExtracting from file ../tests/data/test_graph.gfa the component containing segment seg4\u001b[0m\n",
      "\u001b[32m2025-07-29 16:12:56.540\u001b[0m | \u001b[1mINFO    \u001b[0m | \u001b[36magtools.cli\u001b[0m:\u001b[36mcomponent\u001b[0m:\u001b[36m163\u001b[0m - \u001b[1mGFA file of the component is written to .//component_graph.gfa\u001b[0m\n"
     ]
    }
   ],
   "source": [
    "! agtools component -g ../tests/data/test_graph.gfa -s seg4 -o ./"
   ]
  },
  {
   "cell_type": "markdown",
   "id": "6731bc45-0537-4c31-98a7-d30271118c01",
   "metadata": {},
   "source": [
    "# Format conversion commands"
   ]
  },
  {
   "cell_type": "markdown",
   "id": "330949cd-a4c6-44e4-8a25-383e95288faa",
   "metadata": {},
   "source": [
    "## `fastg2gfa`"
   ]
  },
  {
   "cell_type": "code",
   "execution_count": 12,
   "id": "1786dccb-e594-438e-b58a-c9ba5af3384b",
   "metadata": {},
   "outputs": [
    {
     "name": "stdout",
     "output_type": "stream",
     "text": [
      "Usage: agtools fastg2gfa [OPTIONS]\n",
      "\n",
      "  Convert FASTG file to GFA format\n",
      "\n",
      "Options:\n",
      "  -g, --graph PATH     path(s) to the assembly graph file(s)  [required]\n",
      "  -k, --ksize INTEGER  k-mer size used for the assembly  [default: 141;\n",
      "                       required]\n",
      "  -o, --output PATH    path to the output folder  [required]\n",
      "  -h, --help           Show this message and exit.\n"
     ]
    }
   ],
   "source": [
    "! agtools fastg2gfa --help"
   ]
  },
  {
   "cell_type": "code",
   "execution_count": 13,
   "id": "d88ded02-406a-4dcf-ba4a-d8a0e8160901",
   "metadata": {},
   "outputs": [
    {
     "name": "stdout",
     "output_type": "stream",
     "text": [
      "\u001b[32m2025-07-29 16:12:57.309\u001b[0m | \u001b[1mINFO    \u001b[0m | \u001b[36magtools.cli\u001b[0m:\u001b[36mfastg2gfa\u001b[0m:\u001b[36m181\u001b[0m - \u001b[1mConverting FASTG file ../tests/data/final.graph.fastg to GFA format\u001b[0m\n",
      "\u001b[32m2025-07-29 16:12:57.309\u001b[0m | \u001b[1mINFO    \u001b[0m | \u001b[36magtools.cli\u001b[0m:\u001b[36mfastg2gfa\u001b[0m:\u001b[36m182\u001b[0m - \u001b[1mk-mer size 141 will be used as the overlap\u001b[0m\n",
      "\u001b[32m2025-07-29 16:12:57.317\u001b[0m | \u001b[1mINFO    \u001b[0m | \u001b[36magtools.cli\u001b[0m:\u001b[36mfastg2gfa\u001b[0m:\u001b[36m186\u001b[0m - \u001b[1mGFA file is written to .//converted_graph.gfa with fixed overlap: 141M\u001b[0m\n"
     ]
    }
   ],
   "source": [
    "! agtools fastg2gfa -g ../tests/data/final.graph.fastg -o ./"
   ]
  },
  {
   "cell_type": "markdown",
   "id": "e976a430-5366-4f19-bf86-877a36785e74",
   "metadata": {},
   "source": [
    "## `asqg2gfa`"
   ]
  },
  {
   "cell_type": "code",
   "execution_count": 14,
   "id": "5b8d1bd7-d893-4ffb-a7f6-dfa5d892f5c1",
   "metadata": {},
   "outputs": [
    {
     "name": "stdout",
     "output_type": "stream",
     "text": [
      "Usage: agtools asqg2gfa [OPTIONS]\n",
      "\n",
      "  Convert ASQG file to GFA format\n",
      "\n",
      "Options:\n",
      "  -g, --graph PATH   path(s) to the assembly graph file(s)  [required]\n",
      "  -o, --output PATH  path to the output folder  [required]\n",
      "  -h, --help         Show this message and exit.\n"
     ]
    }
   ],
   "source": [
    "! agtools asqg2gfa --help"
   ]
  },
  {
   "cell_type": "code",
   "execution_count": 15,
   "id": "fd3fcd1b-4001-48c2-bb87-7cf864b952f4",
   "metadata": {},
   "outputs": [
    {
     "name": "stdout",
     "output_type": "stream",
     "text": [
      "\u001b[32m2025-07-29 16:12:58.075\u001b[0m | \u001b[1mINFO    \u001b[0m | \u001b[36magtools.cli\u001b[0m:\u001b[36masqg2gfa\u001b[0m:\u001b[36m195\u001b[0m - \u001b[1mConverting ASQG file ../tests/data/ESC/default-graph.asqg to GFA format\u001b[0m\n",
      "\u001b[32m2025-07-29 16:12:58.107\u001b[0m | \u001b[1mINFO    \u001b[0m | \u001b[36magtools.cli\u001b[0m:\u001b[36masqg2gfa\u001b[0m:\u001b[36m199\u001b[0m - \u001b[1mGFA file is written to .//converted_graph.gfa\u001b[0m\n"
     ]
    }
   ],
   "source": [
    "! agtools asqg2gfa -g ../tests/data/ESC/default-graph.asqg -o ./"
   ]
  },
  {
   "cell_type": "markdown",
   "id": "9fdc7798-5893-480e-9039-fd9883bdce27",
   "metadata": {},
   "source": [
    "## `gfa2fastg`"
   ]
  },
  {
   "cell_type": "code",
   "execution_count": 16,
   "id": "e802556f-3f39-4781-abe4-b1f744d77256",
   "metadata": {},
   "outputs": [
    {
     "name": "stdout",
     "output_type": "stream",
     "text": [
      "Usage: agtools gfa2fastg [OPTIONS]\n",
      "\n",
      "  Convert GFA file to FASTG format\n",
      "\n",
      "Options:\n",
      "  -g, --graph PATH   path(s) to the assembly graph file(s)  [required]\n",
      "  -o, --output PATH  path to the output folder  [required]\n",
      "  -h, --help         Show this message and exit.\n"
     ]
    }
   ],
   "source": [
    "! agtools gfa2fastg --help"
   ]
  },
  {
   "cell_type": "code",
   "execution_count": 17,
   "id": "0a736ff5-0413-4b26-a9d5-92c3e2344d72",
   "metadata": {},
   "outputs": [
    {
     "name": "stdout",
     "output_type": "stream",
     "text": [
      "\u001b[32m2025-07-29 16:12:58.869\u001b[0m | \u001b[1mINFO    \u001b[0m | \u001b[36magtools.cli\u001b[0m:\u001b[36mgfa2fastg\u001b[0m:\u001b[36m208\u001b[0m - \u001b[1mConverting GFA file ../tests/data/test_graph.gfa to FASTG format\u001b[0m\n",
      "\u001b[32m2025-07-29 16:12:58.869\u001b[0m | \u001b[1mINFO    \u001b[0m | \u001b[36magtools.cli\u001b[0m:\u001b[36mgfa2fastg\u001b[0m:\u001b[36m212\u001b[0m - \u001b[1mThe detected overlap value is 5\u001b[0m\n",
      "\u001b[32m2025-07-29 16:12:58.869\u001b[0m | \u001b[1mINFO    \u001b[0m | \u001b[36magtools.cli\u001b[0m:\u001b[36mgfa2fastg\u001b[0m:\u001b[36m213\u001b[0m - \u001b[1mFASTG file written to .//converted_graph.fastg\u001b[0m\n"
     ]
    }
   ],
   "source": [
    "! agtools gfa2fastg -g ../tests/data/test_graph.gfa -o ./"
   ]
  },
  {
   "cell_type": "markdown",
   "id": "73013b5f-6140-4a43-b4a2-9340e16de6b4",
   "metadata": {},
   "source": [
    "## `gfa2dot`"
   ]
  },
  {
   "cell_type": "code",
   "execution_count": 18,
   "id": "e3f63d1d-58ef-443d-8d15-f8de66ba4726",
   "metadata": {},
   "outputs": [
    {
     "name": "stdout",
     "output_type": "stream",
     "text": [
      "Usage: agtools gfa2dot [OPTIONS]\n",
      "\n",
      "  Convert GFA file to DOT format (GraphViz)\n",
      "\n",
      "Options:\n",
      "  -g, --graph PATH   path(s) to the assembly graph file(s)  [required]\n",
      "  -ab, --abyss       use the ABySS DOT format for the output\n",
      "  -o, --output PATH  path to the output folder  [required]\n",
      "  -h, --help         Show this message and exit.\n"
     ]
    }
   ],
   "source": [
    "! agtools gfa2dot --help"
   ]
  },
  {
   "cell_type": "markdown",
   "id": "3a5ad4f3-2a16-4682-8acf-bb8ada19c46c",
   "metadata": {},
   "source": [
    "GraphViz GOT format"
   ]
  },
  {
   "cell_type": "code",
   "execution_count": 19,
   "id": "883086df-bc0c-4c4d-8024-7b95907b552a",
   "metadata": {},
   "outputs": [
    {
     "name": "stdout",
     "output_type": "stream",
     "text": [
      "\u001b[32m2025-07-29 16:12:59.697\u001b[0m | \u001b[1mINFO    \u001b[0m | \u001b[36magtools.cli\u001b[0m:\u001b[36mgfa2dot\u001b[0m:\u001b[36m231\u001b[0m - \u001b[1mConverting GFA file ../tests/data/test_graph.gfa to DOT format\u001b[0m\n",
      "\u001b[32m2025-07-29 16:12:59.698\u001b[0m | \u001b[1mINFO    \u001b[0m | \u001b[36magtools.cli\u001b[0m:\u001b[36mgfa2dot\u001b[0m:\u001b[36m235\u001b[0m - \u001b[1mDOT file written to .//graph.dot\u001b[0m\n"
     ]
    }
   ],
   "source": [
    "! agtools gfa2dot -g ../tests/data/test_graph.gfa -o ./"
   ]
  },
  {
   "cell_type": "markdown",
   "id": "8b453b92-8b6e-4a8d-9129-7cb6cb1ca510",
   "metadata": {},
   "source": [
    "ABySS DOT format"
   ]
  },
  {
   "cell_type": "code",
   "execution_count": 20,
   "id": "54825eb2-ec5c-4e19-87cf-276e5b246820",
   "metadata": {},
   "outputs": [
    {
     "name": "stdout",
     "output_type": "stream",
     "text": [
      "\u001b[32m2025-07-29 16:13:00.082\u001b[0m | \u001b[1mINFO    \u001b[0m | \u001b[36magtools.cli\u001b[0m:\u001b[36mgfa2dot\u001b[0m:\u001b[36m231\u001b[0m - \u001b[1mConverting GFA file ../tests/data/test_graph.gfa to DOT format\u001b[0m\n",
      "\u001b[32m2025-07-29 16:13:00.082\u001b[0m | \u001b[1mINFO    \u001b[0m | \u001b[36magtools.cli\u001b[0m:\u001b[36mgfa2dot\u001b[0m:\u001b[36m235\u001b[0m - \u001b[1mDOT file written to .//graph.gv\u001b[0m\n"
     ]
    }
   ],
   "source": [
    "! agtools gfa2dot -g ../tests/data/test_graph.gfa -ab -o ./"
   ]
  },
  {
   "cell_type": "markdown",
   "id": "9f9b8f52-af2a-4c82-be85-0a4aca5650b0",
   "metadata": {},
   "source": [
    "## `gfa2fasta`"
   ]
  },
  {
   "cell_type": "code",
   "execution_count": 21,
   "id": "d2e3a575-d6c1-479a-a304-736dce0af8fc",
   "metadata": {},
   "outputs": [
    {
     "name": "stdout",
     "output_type": "stream",
     "text": [
      "Usage: agtools gfa2fasta [OPTIONS]\n",
      "\n",
      "  Get segments in FASTA format\n",
      "\n",
      "Options:\n",
      "  -g, --graph PATH   path(s) to the assembly graph file(s)  [required]\n",
      "  -o, --output PATH  path to the output folder  [required]\n",
      "  -h, --help         Show this message and exit.\n"
     ]
    }
   ],
   "source": [
    "! agtools gfa2fasta --help"
   ]
  },
  {
   "cell_type": "code",
   "execution_count": 22,
   "id": "c40b109b-3972-4e65-83fb-5394e0ae4f93",
   "metadata": {},
   "outputs": [
    {
     "name": "stdout",
     "output_type": "stream",
     "text": [
      "\u001b[32m2025-07-29 16:13:00.898\u001b[0m | \u001b[1mINFO    \u001b[0m | \u001b[36magtools.cli\u001b[0m:\u001b[36mgfa2fasta\u001b[0m:\u001b[36m244\u001b[0m - \u001b[1mExtracting segment sequences from ../tests/data/test_graph.gfa file in to FASTA format\u001b[0m\n",
      "\u001b[32m2025-07-29 16:13:00.912\u001b[0m | \u001b[1mINFO    \u001b[0m | \u001b[36magtools.cli\u001b[0m:\u001b[36mgfa2fasta\u001b[0m:\u001b[36m248\u001b[0m - \u001b[1mFASTA file written to None\u001b[0m\n"
     ]
    }
   ],
   "source": [
    "! agtools gfa2fasta -g ../tests/data/test_graph.gfa -o ./"
   ]
  },
  {
   "cell_type": "markdown",
   "id": "38b5cb87-c1c7-4a1c-978f-1b85ae78ad67",
   "metadata": {},
   "source": [
    "## `gfa2adj`"
   ]
  },
  {
   "cell_type": "code",
   "execution_count": 23,
   "id": "2720ce5f-046b-4905-bc3c-77140327eed3",
   "metadata": {},
   "outputs": [
    {
     "name": "stdout",
     "output_type": "stream",
     "text": [
      "Usage: agtools gfa2adj [OPTIONS]\n",
      "\n",
      "  Get adjacency matrix of the assembly graph\n",
      "\n",
      "Options:\n",
      "  -g, --graph PATH         path(s) to the assembly graph file(s)  [required]\n",
      "  --delimiter [comma|tab]  delimiter for adjacency file. Supports a comma and\n",
      "                           a tab.  [default: comma]\n",
      "  -o, --output PATH        path to the output folder  [required]\n",
      "  -h, --help               Show this message and exit.\n"
     ]
    }
   ],
   "source": [
    "! agtools gfa2adj --help"
   ]
  },
  {
   "cell_type": "code",
   "execution_count": 24,
   "id": "8f5cbdd1-23da-4c9a-b0c1-0950749e2c46",
   "metadata": {},
   "outputs": [
    {
     "name": "stdout",
     "output_type": "stream",
     "text": [
      "\u001b[32m2025-07-29 16:13:01.702\u001b[0m | \u001b[1mINFO    \u001b[0m | \u001b[36magtools.cli\u001b[0m:\u001b[36mgfa2adj\u001b[0m:\u001b[36m265\u001b[0m - \u001b[1mObtaining the adjacency matrix from ../tests/data/test_graph.gfa\u001b[0m\n",
      "\u001b[32m2025-07-29 16:13:01.707\u001b[0m | \u001b[1mINFO    \u001b[0m | \u001b[36magtools.cli\u001b[0m:\u001b[36mgfa2adj\u001b[0m:\u001b[36m269\u001b[0m - \u001b[1mAdjacency matrix is written to .//adjacency_matrix.csv\u001b[0m\n"
     ]
    }
   ],
   "source": [
    "! agtools gfa2adj -g ../tests/data/test_graph.gfa -o ./"
   ]
  }
 ],
 "metadata": {
  "kernelspec": {
   "display_name": "Python 3 (ipykernel)",
   "language": "python",
   "name": "python3"
  },
  "language_info": {
   "codemirror_mode": {
    "name": "ipython",
    "version": 3
   },
   "file_extension": ".py",
   "mimetype": "text/x-python",
   "name": "python",
   "nbconvert_exporter": "python",
   "pygments_lexer": "ipython3",
   "version": "3.13.5"
  }
 },
 "nbformat": 4,
 "nbformat_minor": 5
}
