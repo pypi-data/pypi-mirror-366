{
 "cells": [
  {
   "cell_type": "markdown",
   "metadata": {
    "id": "w0QLvXQs3V5U"
   },
   "source": [
    "## Setup"
   ]
  },
  {
   "cell_type": "code",
   "execution_count": 1,
   "metadata": {
    "colab": {
     "base_uri": "https://localhost:8080/"
    },
    "id": "o6vWOmMI8HFk",
    "outputId": "22f55aa7-1be1-4c7f-acb6-1e75be03d059"
   },
   "outputs": [
    {
     "name": "stdout",
     "output_type": "stream",
     "text": [
      "Cloning into 'AIMNet2'...\n",
      "remote: Enumerating objects: 171, done.\u001b[K\n",
      "remote: Counting objects: 100% (78/78), done.\u001b[K\n",
      "remote: Compressing objects: 100% (44/44), done.\u001b[K\n",
      "remote: Total 171 (delta 50), reused 34 (delta 34), pack-reused 93 (from 1)\u001b[K\n",
      "Receiving objects: 100% (171/171), 74.31 MiB | 18.57 MiB/s, done.\n",
      "Resolving deltas: 100% (79/79), done.\n",
      "/content/AIMNet2\n",
      "Processing /content/AIMNet2\n",
      "  Preparing metadata (setup.py) ... \u001b[?25l\u001b[?25hdone\n",
      "Requirement already satisfied: torch<3,>2.0 in /usr/local/lib/python3.11/dist-packages (from aimnet2calc==0.0.1) (2.6.0+cu124)\n",
      "Collecting torch-cluster (from aimnet2calc==0.0.1)\n",
      "  Downloading torch_cluster-1.6.3.tar.gz (54 kB)\n",
      "\u001b[2K     \u001b[90m━━━━━━━━━━━━━━━━━━━━━━━━━━━━━━━━━━━━━━━━\u001b[0m \u001b[32m54.5/54.5 kB\u001b[0m \u001b[31m4.7 MB/s\u001b[0m eta \u001b[36m0:00:00\u001b[0m\n",
      "\u001b[?25h  Preparing metadata (setup.py) ... \u001b[?25l\u001b[?25hdone\n",
      "Requirement already satisfied: numpy in /usr/local/lib/python3.11/dist-packages (from aimnet2calc==0.0.1) (2.0.2)\n",
      "Requirement already satisfied: numba in /usr/local/lib/python3.11/dist-packages (from aimnet2calc==0.0.1) (0.60.0)\n",
      "Collecting ase (from aimnet2calc==0.0.1)\n",
      "  Downloading ase-3.25.0-py3-none-any.whl.metadata (4.2 kB)\n",
      "Requirement already satisfied: requests in /usr/local/lib/python3.11/dist-packages (from aimnet2calc==0.0.1) (2.32.3)\n",
      "Requirement already satisfied: filelock in /usr/local/lib/python3.11/dist-packages (from torch<3,>2.0->aimnet2calc==0.0.1) (3.18.0)\n",
      "Requirement already satisfied: typing-extensions>=4.10.0 in /usr/local/lib/python3.11/dist-packages (from torch<3,>2.0->aimnet2calc==0.0.1) (4.14.1)\n",
      "Requirement already satisfied: networkx in /usr/local/lib/python3.11/dist-packages (from torch<3,>2.0->aimnet2calc==0.0.1) (3.5)\n",
      "Requirement already satisfied: jinja2 in /usr/local/lib/python3.11/dist-packages (from torch<3,>2.0->aimnet2calc==0.0.1) (3.1.6)\n",
      "Requirement already satisfied: fsspec in /usr/local/lib/python3.11/dist-packages (from torch<3,>2.0->aimnet2calc==0.0.1) (2025.3.0)\n",
      "Collecting nvidia-cuda-nvrtc-cu12==12.4.127 (from torch<3,>2.0->aimnet2calc==0.0.1)\n",
      "  Downloading nvidia_cuda_nvrtc_cu12-12.4.127-py3-none-manylinux2014_x86_64.whl.metadata (1.5 kB)\n",
      "Collecting nvidia-cuda-runtime-cu12==12.4.127 (from torch<3,>2.0->aimnet2calc==0.0.1)\n",
      "  Downloading nvidia_cuda_runtime_cu12-12.4.127-py3-none-manylinux2014_x86_64.whl.metadata (1.5 kB)\n",
      "Collecting nvidia-cuda-cupti-cu12==12.4.127 (from torch<3,>2.0->aimnet2calc==0.0.1)\n",
      "  Downloading nvidia_cuda_cupti_cu12-12.4.127-py3-none-manylinux2014_x86_64.whl.metadata (1.6 kB)\n",
      "Collecting nvidia-cudnn-cu12==9.1.0.70 (from torch<3,>2.0->aimnet2calc==0.0.1)\n",
      "  Downloading nvidia_cudnn_cu12-9.1.0.70-py3-none-manylinux2014_x86_64.whl.metadata (1.6 kB)\n",
      "Collecting nvidia-cublas-cu12==12.4.5.8 (from torch<3,>2.0->aimnet2calc==0.0.1)\n",
      "  Downloading nvidia_cublas_cu12-12.4.5.8-py3-none-manylinux2014_x86_64.whl.metadata (1.5 kB)\n",
      "Collecting nvidia-cufft-cu12==11.2.1.3 (from torch<3,>2.0->aimnet2calc==0.0.1)\n",
      "  Downloading nvidia_cufft_cu12-11.2.1.3-py3-none-manylinux2014_x86_64.whl.metadata (1.5 kB)\n",
      "Collecting nvidia-curand-cu12==10.3.5.147 (from torch<3,>2.0->aimnet2calc==0.0.1)\n",
      "  Downloading nvidia_curand_cu12-10.3.5.147-py3-none-manylinux2014_x86_64.whl.metadata (1.5 kB)\n",
      "Collecting nvidia-cusolver-cu12==11.6.1.9 (from torch<3,>2.0->aimnet2calc==0.0.1)\n",
      "  Downloading nvidia_cusolver_cu12-11.6.1.9-py3-none-manylinux2014_x86_64.whl.metadata (1.6 kB)\n",
      "Collecting nvidia-cusparse-cu12==12.3.1.170 (from torch<3,>2.0->aimnet2calc==0.0.1)\n",
      "  Downloading nvidia_cusparse_cu12-12.3.1.170-py3-none-manylinux2014_x86_64.whl.metadata (1.6 kB)\n",
      "Requirement already satisfied: nvidia-cusparselt-cu12==0.6.2 in /usr/local/lib/python3.11/dist-packages (from torch<3,>2.0->aimnet2calc==0.0.1) (0.6.2)\n",
      "Requirement already satisfied: nvidia-nccl-cu12==2.21.5 in /usr/local/lib/python3.11/dist-packages (from torch<3,>2.0->aimnet2calc==0.0.1) (2.21.5)\n",
      "Requirement already satisfied: nvidia-nvtx-cu12==12.4.127 in /usr/local/lib/python3.11/dist-packages (from torch<3,>2.0->aimnet2calc==0.0.1) (12.4.127)\n",
      "Collecting nvidia-nvjitlink-cu12==12.4.127 (from torch<3,>2.0->aimnet2calc==0.0.1)\n",
      "  Downloading nvidia_nvjitlink_cu12-12.4.127-py3-none-manylinux2014_x86_64.whl.metadata (1.5 kB)\n",
      "Requirement already satisfied: triton==3.2.0 in /usr/local/lib/python3.11/dist-packages (from torch<3,>2.0->aimnet2calc==0.0.1) (3.2.0)\n",
      "Requirement already satisfied: sympy==1.13.1 in /usr/local/lib/python3.11/dist-packages (from torch<3,>2.0->aimnet2calc==0.0.1) (1.13.1)\n",
      "Requirement already satisfied: mpmath<1.4,>=1.1.0 in /usr/local/lib/python3.11/dist-packages (from sympy==1.13.1->torch<3,>2.0->aimnet2calc==0.0.1) (1.3.0)\n",
      "Requirement already satisfied: scipy>=1.6.0 in /usr/local/lib/python3.11/dist-packages (from ase->aimnet2calc==0.0.1) (1.16.0)\n",
      "Requirement already satisfied: matplotlib>=3.3.4 in /usr/local/lib/python3.11/dist-packages (from ase->aimnet2calc==0.0.1) (3.10.0)\n",
      "Requirement already satisfied: llvmlite<0.44,>=0.43.0dev0 in /usr/local/lib/python3.11/dist-packages (from numba->aimnet2calc==0.0.1) (0.43.0)\n",
      "Requirement already satisfied: charset-normalizer<4,>=2 in /usr/local/lib/python3.11/dist-packages (from requests->aimnet2calc==0.0.1) (3.4.2)\n",
      "Requirement already satisfied: idna<4,>=2.5 in /usr/local/lib/python3.11/dist-packages (from requests->aimnet2calc==0.0.1) (3.10)\n",
      "Requirement already satisfied: urllib3<3,>=1.21.1 in /usr/local/lib/python3.11/dist-packages (from requests->aimnet2calc==0.0.1) (2.5.0)\n",
      "Requirement already satisfied: certifi>=2017.4.17 in /usr/local/lib/python3.11/dist-packages (from requests->aimnet2calc==0.0.1) (2025.7.14)\n",
      "Requirement already satisfied: contourpy>=1.0.1 in /usr/local/lib/python3.11/dist-packages (from matplotlib>=3.3.4->ase->aimnet2calc==0.0.1) (1.3.2)\n",
      "Requirement already satisfied: cycler>=0.10 in /usr/local/lib/python3.11/dist-packages (from matplotlib>=3.3.4->ase->aimnet2calc==0.0.1) (0.12.1)\n",
      "Requirement already satisfied: fonttools>=4.22.0 in /usr/local/lib/python3.11/dist-packages (from matplotlib>=3.3.4->ase->aimnet2calc==0.0.1) (4.59.0)\n",
      "Requirement already satisfied: kiwisolver>=1.3.1 in /usr/local/lib/python3.11/dist-packages (from matplotlib>=3.3.4->ase->aimnet2calc==0.0.1) (1.4.8)\n",
      "Requirement already satisfied: packaging>=20.0 in /usr/local/lib/python3.11/dist-packages (from matplotlib>=3.3.4->ase->aimnet2calc==0.0.1) (25.0)\n",
      "Requirement already satisfied: pillow>=8 in /usr/local/lib/python3.11/dist-packages (from matplotlib>=3.3.4->ase->aimnet2calc==0.0.1) (11.3.0)\n",
      "Requirement already satisfied: pyparsing>=2.3.1 in /usr/local/lib/python3.11/dist-packages (from matplotlib>=3.3.4->ase->aimnet2calc==0.0.1) (3.2.3)\n",
      "Requirement already satisfied: python-dateutil>=2.7 in /usr/local/lib/python3.11/dist-packages (from matplotlib>=3.3.4->ase->aimnet2calc==0.0.1) (2.9.0.post0)\n",
      "Requirement already satisfied: MarkupSafe>=2.0 in /usr/local/lib/python3.11/dist-packages (from jinja2->torch<3,>2.0->aimnet2calc==0.0.1) (3.0.2)\n",
      "Requirement already satisfied: six>=1.5 in /usr/local/lib/python3.11/dist-packages (from python-dateutil>=2.7->matplotlib>=3.3.4->ase->aimnet2calc==0.0.1) (1.17.0)\n",
      "Downloading nvidia_cublas_cu12-12.4.5.8-py3-none-manylinux2014_x86_64.whl (363.4 MB)\n",
      "\u001b[2K   \u001b[90m━━━━━━━━━━━━━━━━━━━━━━━━━━━━━━━━━━━━━━━━\u001b[0m \u001b[32m363.4/363.4 MB\u001b[0m \u001b[31m4.0 MB/s\u001b[0m eta \u001b[36m0:00:00\u001b[0m\n",
      "\u001b[?25hDownloading nvidia_cuda_cupti_cu12-12.4.127-py3-none-manylinux2014_x86_64.whl (13.8 MB)\n",
      "\u001b[2K   \u001b[90m━━━━━━━━━━━━━━━━━━━━━━━━━━━━━━━━━━━━━━━━\u001b[0m \u001b[32m13.8/13.8 MB\u001b[0m \u001b[31m52.3 MB/s\u001b[0m eta \u001b[36m0:00:00\u001b[0m\n",
      "\u001b[?25hDownloading nvidia_cuda_nvrtc_cu12-12.4.127-py3-none-manylinux2014_x86_64.whl (24.6 MB)\n",
      "\u001b[2K   \u001b[90m━━━━━━━━━━━━━━━━━━━━━━━━━━━━━━━━━━━━━━━━\u001b[0m \u001b[32m24.6/24.6 MB\u001b[0m \u001b[31m35.4 MB/s\u001b[0m eta \u001b[36m0:00:00\u001b[0m\n",
      "\u001b[?25hDownloading nvidia_cuda_runtime_cu12-12.4.127-py3-none-manylinux2014_x86_64.whl (883 kB)\n",
      "\u001b[2K   \u001b[90m━━━━━━━━━━━━━━━━━━━━━━━━━━━━━━━━━━━━━━━━\u001b[0m \u001b[32m883.7/883.7 kB\u001b[0m \u001b[31m46.0 MB/s\u001b[0m eta \u001b[36m0:00:00\u001b[0m\n",
      "\u001b[?25hDownloading nvidia_cudnn_cu12-9.1.0.70-py3-none-manylinux2014_x86_64.whl (664.8 MB)\n",
      "\u001b[2K   \u001b[90m━━━━━━━━━━━━━━━━━━━━━━━━━━━━━━━━━━━━━━━━\u001b[0m \u001b[32m664.8/664.8 MB\u001b[0m \u001b[31m2.9 MB/s\u001b[0m eta \u001b[36m0:00:00\u001b[0m\n",
      "\u001b[?25hDownloading nvidia_cufft_cu12-11.2.1.3-py3-none-manylinux2014_x86_64.whl (211.5 MB)\n",
      "\u001b[2K   \u001b[90m━━━━━━━━━━━━━━━━━━━━━━━━━━━━━━━━━━━━━━━━\u001b[0m \u001b[32m211.5/211.5 MB\u001b[0m \u001b[31m5.8 MB/s\u001b[0m eta \u001b[36m0:00:00\u001b[0m\n",
      "\u001b[?25hDownloading nvidia_curand_cu12-10.3.5.147-py3-none-manylinux2014_x86_64.whl (56.3 MB)\n",
      "\u001b[2K   \u001b[90m━━━━━━━━━━━━━━━━━━━━━━━━━━━━━━━━━━━━━━━━\u001b[0m \u001b[32m56.3/56.3 MB\u001b[0m \u001b[31m16.1 MB/s\u001b[0m eta \u001b[36m0:00:00\u001b[0m\n",
      "\u001b[?25hDownloading nvidia_cusolver_cu12-11.6.1.9-py3-none-manylinux2014_x86_64.whl (127.9 MB)\n",
      "\u001b[2K   \u001b[90m━━━━━━━━━━━━━━━━━━━━━━━━━━━━━━━━━━━━━━━━\u001b[0m \u001b[32m127.9/127.9 MB\u001b[0m \u001b[31m7.1 MB/s\u001b[0m eta \u001b[36m0:00:00\u001b[0m\n",
      "\u001b[?25hDownloading nvidia_cusparse_cu12-12.3.1.170-py3-none-manylinux2014_x86_64.whl (207.5 MB)\n",
      "\u001b[2K   \u001b[90m━━━━━━━━━━━━━━━━━━━━━━━━━━━━━━━━━━━━━━━━\u001b[0m \u001b[32m207.5/207.5 MB\u001b[0m \u001b[31m5.4 MB/s\u001b[0m eta \u001b[36m0:00:00\u001b[0m\n",
      "\u001b[?25hDownloading nvidia_nvjitlink_cu12-12.4.127-py3-none-manylinux2014_x86_64.whl (21.1 MB)\n",
      "\u001b[2K   \u001b[90m━━━━━━━━━━━━━━━━━━━━━━━━━━━━━━━━━━━━━━━━\u001b[0m \u001b[32m21.1/21.1 MB\u001b[0m \u001b[31m61.3 MB/s\u001b[0m eta \u001b[36m0:00:00\u001b[0m\n",
      "\u001b[?25hDownloading ase-3.25.0-py3-none-any.whl (3.0 MB)\n",
      "\u001b[2K   \u001b[90m━━━━━━━━━━━━━━━━━━━━━━━━━━━━━━━━━━━━━━━━\u001b[0m \u001b[32m3.0/3.0 MB\u001b[0m \u001b[31m50.0 MB/s\u001b[0m eta \u001b[36m0:00:00\u001b[0m\n",
      "\u001b[?25hBuilding wheels for collected packages: aimnet2calc, torch-cluster\n",
      "  Building wheel for aimnet2calc (setup.py) ... \u001b[?25l\u001b[?25hdone\n",
      "  Created wheel for aimnet2calc: filename=aimnet2calc-0.0.1-py3-none-any.whl size=11683 sha256=54d1562b32c95fde557c70f1c3e7ceca0cb8da847ed9c5341f5139543fb985db\n",
      "  Stored in directory: /tmp/pip-ephem-wheel-cache-i5vttcxr/wheels/17/cd/b5/dc137476e04aa91b3a8eafd0a7a388d278880768caf736666b\n",
      "  Building wheel for torch-cluster (setup.py) ... \u001b[?25l\u001b[?25hdone\n",
      "  Created wheel for torch-cluster: filename=torch_cluster-1.6.3-cp311-cp311-linux_x86_64.whl size=739064 sha256=2b80428e7d22a6bbb065596ab591f1bc5ba62d25277bbe3005d9a618fb1d47f9\n",
      "  Stored in directory: /root/.cache/pip/wheels/ef/de/7d/a4211822af99147b93800e9e204f0be21294e3c0b95b3b861a\n",
      "Successfully built aimnet2calc torch-cluster\n",
      "Installing collected packages: nvidia-nvjitlink-cu12, nvidia-curand-cu12, nvidia-cufft-cu12, nvidia-cuda-runtime-cu12, nvidia-cuda-nvrtc-cu12, nvidia-cuda-cupti-cu12, nvidia-cublas-cu12, torch-cluster, nvidia-cusparse-cu12, nvidia-cudnn-cu12, nvidia-cusolver-cu12, ase, aimnet2calc\n",
      "  Attempting uninstall: nvidia-nvjitlink-cu12\n",
      "    Found existing installation: nvidia-nvjitlink-cu12 12.5.82\n",
      "    Uninstalling nvidia-nvjitlink-cu12-12.5.82:\n",
      "      Successfully uninstalled nvidia-nvjitlink-cu12-12.5.82\n",
      "  Attempting uninstall: nvidia-curand-cu12\n",
      "    Found existing installation: nvidia-curand-cu12 10.3.6.82\n",
      "    Uninstalling nvidia-curand-cu12-10.3.6.82:\n",
      "      Successfully uninstalled nvidia-curand-cu12-10.3.6.82\n",
      "  Attempting uninstall: nvidia-cufft-cu12\n",
      "    Found existing installation: nvidia-cufft-cu12 11.2.3.61\n",
      "    Uninstalling nvidia-cufft-cu12-11.2.3.61:\n",
      "      Successfully uninstalled nvidia-cufft-cu12-11.2.3.61\n",
      "  Attempting uninstall: nvidia-cuda-runtime-cu12\n",
      "    Found existing installation: nvidia-cuda-runtime-cu12 12.5.82\n",
      "    Uninstalling nvidia-cuda-runtime-cu12-12.5.82:\n",
      "      Successfully uninstalled nvidia-cuda-runtime-cu12-12.5.82\n",
      "  Attempting uninstall: nvidia-cuda-nvrtc-cu12\n",
      "    Found existing installation: nvidia-cuda-nvrtc-cu12 12.5.82\n",
      "    Uninstalling nvidia-cuda-nvrtc-cu12-12.5.82:\n",
      "      Successfully uninstalled nvidia-cuda-nvrtc-cu12-12.5.82\n",
      "  Attempting uninstall: nvidia-cuda-cupti-cu12\n",
      "    Found existing installation: nvidia-cuda-cupti-cu12 12.5.82\n",
      "    Uninstalling nvidia-cuda-cupti-cu12-12.5.82:\n",
      "      Successfully uninstalled nvidia-cuda-cupti-cu12-12.5.82\n",
      "  Attempting uninstall: nvidia-cublas-cu12\n",
      "    Found existing installation: nvidia-cublas-cu12 12.5.3.2\n",
      "    Uninstalling nvidia-cublas-cu12-12.5.3.2:\n",
      "      Successfully uninstalled nvidia-cublas-cu12-12.5.3.2\n",
      "  Attempting uninstall: nvidia-cusparse-cu12\n",
      "    Found existing installation: nvidia-cusparse-cu12 12.5.1.3\n",
      "    Uninstalling nvidia-cusparse-cu12-12.5.1.3:\n",
      "      Successfully uninstalled nvidia-cusparse-cu12-12.5.1.3\n",
      "  Attempting uninstall: nvidia-cudnn-cu12\n",
      "    Found existing installation: nvidia-cudnn-cu12 9.3.0.75\n",
      "    Uninstalling nvidia-cudnn-cu12-9.3.0.75:\n",
      "      Successfully uninstalled nvidia-cudnn-cu12-9.3.0.75\n",
      "  Attempting uninstall: nvidia-cusolver-cu12\n",
      "    Found existing installation: nvidia-cusolver-cu12 11.6.3.83\n",
      "    Uninstalling nvidia-cusolver-cu12-11.6.3.83:\n",
      "      Successfully uninstalled nvidia-cusolver-cu12-11.6.3.83\n",
      "Successfully installed aimnet2calc-0.0.1 ase-3.25.0 nvidia-cublas-cu12-12.4.5.8 nvidia-cuda-cupti-cu12-12.4.127 nvidia-cuda-nvrtc-cu12-12.4.127 nvidia-cuda-runtime-cu12-12.4.127 nvidia-cudnn-cu12-9.1.0.70 nvidia-cufft-cu12-11.2.1.3 nvidia-curand-cu12-10.3.5.147 nvidia-cusolver-cu12-11.6.1.9 nvidia-cusparse-cu12-12.3.1.170 nvidia-nvjitlink-cu12-12.4.127 torch-cluster-1.6.3\n"
     ]
    }
   ],
   "source": [
    "# install AIMNet2\n",
    "!git clone https://github.com/isayevlab/AIMNet2.git\n",
    "%cd AIMNet2\n",
    "!pip install ."
   ]
  },
  {
   "cell_type": "code",
   "execution_count": 3,
   "metadata": {
    "colab": {
     "base_uri": "https://localhost:8080/"
    },
    "id": "EbkmFe0DBcHW",
    "outputId": "de1b1974-fd04-4df9-bfa9-1e5bf8c7212d"
   },
   "outputs": [
    {
     "name": "stdout",
     "output_type": "stream",
     "text": [
      "/root\n",
      "Cloning into 'ML-FSM'...\n",
      "remote: Enumerating objects: 504, done.\u001b[K\n",
      "remote: Counting objects: 100% (209/209), done.\u001b[K\n",
      "remote: Compressing objects: 100% (132/132), done.\u001b[K\n",
      "remote: Total 504 (delta 106), reused 144 (delta 68), pack-reused 295 (from 1)\u001b[K\n",
      "Receiving objects: 100% (504/504), 13.94 MiB | 32.75 MiB/s, done.\n",
      "Resolving deltas: 100% (240/240), done.\n",
      "/root/ML-FSM\n",
      "Processing /root/ML-FSM\n",
      "  Installing build dependencies ... \u001b[?25l\u001b[?25hdone\n",
      "  Getting requirements to build wheel ... \u001b[?25l\u001b[?25hdone\n",
      "  Preparing metadata (pyproject.toml) ... \u001b[?25l\u001b[?25hdone\n",
      "Requirement already satisfied: ase>=3.22 in /usr/local/lib/python3.11/dist-packages (from mlfsm==0.0.1) (3.25.0)\n",
      "Collecting geometric>=1.0.0 (from mlfsm==0.0.1)\n",
      "  Downloading geometric-1.1.tar.gz (386 kB)\n",
      "\u001b[2K     \u001b[90m━━━━━━━━━━━━━━━━━━━━━━━━━━━━━━━━━━━━━━\u001b[0m \u001b[32m386.0/386.0 kB\u001b[0m \u001b[31m21.9 MB/s\u001b[0m eta \u001b[36m0:00:00\u001b[0m\n",
      "\u001b[?25h  Preparing metadata (setup.py) ... \u001b[?25l\u001b[?25hdone\n",
      "Requirement already satisfied: networkx>=3.0 in /usr/local/lib/python3.11/dist-packages (from mlfsm==0.0.1) (3.5)\n",
      "Requirement already satisfied: numpy>=1.26 in /usr/local/lib/python3.11/dist-packages (from mlfsm==0.0.1) (2.0.2)\n",
      "Requirement already satisfied: scipy>=1.13 in /usr/local/lib/python3.11/dist-packages (from mlfsm==0.0.1) (1.16.0)\n",
      "Requirement already satisfied: matplotlib>=3.3.4 in /usr/local/lib/python3.11/dist-packages (from ase>=3.22->mlfsm==0.0.1) (3.10.0)\n",
      "Requirement already satisfied: six in /usr/local/lib/python3.11/dist-packages (from geometric>=1.0.0->mlfsm==0.0.1) (1.17.0)\n",
      "Requirement already satisfied: contourpy>=1.0.1 in /usr/local/lib/python3.11/dist-packages (from matplotlib>=3.3.4->ase>=3.22->mlfsm==0.0.1) (1.3.2)\n",
      "Requirement already satisfied: cycler>=0.10 in /usr/local/lib/python3.11/dist-packages (from matplotlib>=3.3.4->ase>=3.22->mlfsm==0.0.1) (0.12.1)\n",
      "Requirement already satisfied: fonttools>=4.22.0 in /usr/local/lib/python3.11/dist-packages (from matplotlib>=3.3.4->ase>=3.22->mlfsm==0.0.1) (4.59.0)\n",
      "Requirement already satisfied: kiwisolver>=1.3.1 in /usr/local/lib/python3.11/dist-packages (from matplotlib>=3.3.4->ase>=3.22->mlfsm==0.0.1) (1.4.8)\n",
      "Requirement already satisfied: packaging>=20.0 in /usr/local/lib/python3.11/dist-packages (from matplotlib>=3.3.4->ase>=3.22->mlfsm==0.0.1) (25.0)\n",
      "Requirement already satisfied: pillow>=8 in /usr/local/lib/python3.11/dist-packages (from matplotlib>=3.3.4->ase>=3.22->mlfsm==0.0.1) (11.3.0)\n",
      "Requirement already satisfied: pyparsing>=2.3.1 in /usr/local/lib/python3.11/dist-packages (from matplotlib>=3.3.4->ase>=3.22->mlfsm==0.0.1) (3.2.3)\n",
      "Requirement already satisfied: python-dateutil>=2.7 in /usr/local/lib/python3.11/dist-packages (from matplotlib>=3.3.4->ase>=3.22->mlfsm==0.0.1) (2.9.0.post0)\n",
      "Building wheels for collected packages: mlfsm, geometric\n",
      "  Building wheel for mlfsm (pyproject.toml) ... \u001b[?25l\u001b[?25hdone\n",
      "  Created wheel for mlfsm: filename=mlfsm-0.0.1-py3-none-any.whl size=17852 sha256=1d99393d78a9c430203b6a9b3de84c5aea3a89a15de7ebf81443ea987fe6f7c8\n",
      "  Stored in directory: /root/.cache/pip/wheels/ab/b2/98/7a578b849139742dc31ebda664523cc3bfc550f3d5a709da0c\n",
      "  Building wheel for geometric (setup.py) ... \u001b[?25l\u001b[?25hdone\n",
      "  Created wheel for geometric: filename=geometric-1.1-py3-none-any.whl size=402087 sha256=d474381c24a65134cf72d03987e05d80848dead566b63497f261a3c7b8fbeb91\n",
      "  Stored in directory: /root/.cache/pip/wheels/c5/77/0c/96a54539fe0560749fdbe283f92582d09bddb212856407a4cb\n",
      "Successfully built mlfsm geometric\n",
      "Installing collected packages: geometric, mlfsm\n",
      "Successfully installed geometric-1.1 mlfsm-0.0.1\n"
     ]
    }
   ],
   "source": [
    "# install ML-FSM\n",
    "%cd\n",
    "!git clone https://github.com/jonmarks12/ML-FSM\n",
    "%cd ML-FSM\n",
    "!pip install ."
   ]
  },
  {
   "cell_type": "code",
   "execution_count": 12,
   "metadata": {
    "colab": {
     "base_uri": "https://localhost:8080/"
    },
    "id": "20eRr_oJBUJ3",
    "outputId": "839a4bc0-3d93-40cd-8e6b-9873cdbab816"
   },
   "outputs": [
    {
     "name": "stdout",
     "output_type": "stream",
     "text": [
      "Requirement already satisfied: matplotlib in /usr/local/lib/python3.11/dist-packages (3.10.0)\n",
      "Requirement already satisfied: py3Dmol in /usr/local/lib/python3.11/dist-packages (2.5.1)\n",
      "Requirement already satisfied: ipython in /usr/local/lib/python3.11/dist-packages (7.34.0)\n",
      "Requirement already satisfied: contourpy>=1.0.1 in /usr/local/lib/python3.11/dist-packages (from matplotlib) (1.3.2)\n",
      "Requirement already satisfied: cycler>=0.10 in /usr/local/lib/python3.11/dist-packages (from matplotlib) (0.12.1)\n",
      "Requirement already satisfied: fonttools>=4.22.0 in /usr/local/lib/python3.11/dist-packages (from matplotlib) (4.59.0)\n",
      "Requirement already satisfied: kiwisolver>=1.3.1 in /usr/local/lib/python3.11/dist-packages (from matplotlib) (1.4.8)\n",
      "Requirement already satisfied: numpy>=1.23 in /usr/local/lib/python3.11/dist-packages (from matplotlib) (2.0.2)\n",
      "Requirement already satisfied: packaging>=20.0 in /usr/local/lib/python3.11/dist-packages (from matplotlib) (25.0)\n",
      "Requirement already satisfied: pillow>=8 in /usr/local/lib/python3.11/dist-packages (from matplotlib) (11.3.0)\n",
      "Requirement already satisfied: pyparsing>=2.3.1 in /usr/local/lib/python3.11/dist-packages (from matplotlib) (3.2.3)\n",
      "Requirement already satisfied: python-dateutil>=2.7 in /usr/local/lib/python3.11/dist-packages (from matplotlib) (2.9.0.post0)\n",
      "Requirement already satisfied: setuptools>=18.5 in /usr/local/lib/python3.11/dist-packages (from ipython) (75.2.0)\n",
      "Requirement already satisfied: jedi>=0.16 in /usr/local/lib/python3.11/dist-packages (from ipython) (0.19.2)\n",
      "Requirement already satisfied: decorator in /usr/local/lib/python3.11/dist-packages (from ipython) (4.4.2)\n",
      "Requirement already satisfied: pickleshare in /usr/local/lib/python3.11/dist-packages (from ipython) (0.7.5)\n",
      "Requirement already satisfied: traitlets>=4.2 in /usr/local/lib/python3.11/dist-packages (from ipython) (5.7.1)\n",
      "Requirement already satisfied: prompt-toolkit!=3.0.0,!=3.0.1,<3.1.0,>=2.0.0 in /usr/local/lib/python3.11/dist-packages (from ipython) (3.0.51)\n",
      "Requirement already satisfied: pygments in /usr/local/lib/python3.11/dist-packages (from ipython) (2.19.2)\n",
      "Requirement already satisfied: backcall in /usr/local/lib/python3.11/dist-packages (from ipython) (0.2.0)\n",
      "Requirement already satisfied: matplotlib-inline in /usr/local/lib/python3.11/dist-packages (from ipython) (0.1.7)\n",
      "Requirement already satisfied: pexpect>4.3 in /usr/local/lib/python3.11/dist-packages (from ipython) (4.9.0)\n",
      "Requirement already satisfied: parso<0.9.0,>=0.8.4 in /usr/local/lib/python3.11/dist-packages (from jedi>=0.16->ipython) (0.8.4)\n",
      "Requirement already satisfied: ptyprocess>=0.5 in /usr/local/lib/python3.11/dist-packages (from pexpect>4.3->ipython) (0.7.0)\n",
      "Requirement already satisfied: wcwidth in /usr/local/lib/python3.11/dist-packages (from prompt-toolkit!=3.0.0,!=3.0.1,<3.1.0,>=2.0.0->ipython) (0.2.13)\n",
      "Requirement already satisfied: six>=1.5 in /usr/local/lib/python3.11/dist-packages (from python-dateutil>=2.7->matplotlib) (1.17.0)\n"
     ]
    }
   ],
   "source": [
    "# Other Dependencies\n",
    "!pip install matplotlib py3Dmol ipython"
   ]
  },
  {
   "cell_type": "code",
   "execution_count": 4,
   "metadata": {
    "id": "7x-n1UEKYsz7"
   },
   "outputs": [],
   "source": [
    "import shutil\n",
    "from pathlib import Path\n",
    "\n",
    "import ase\n",
    "import matplotlib.pyplot as plt\n",
    "import numpy as np\n",
    "import py3Dmol\n",
    "from IPython.display import HTML\n",
    "\n",
    "from mlfsm.cos import FreezingString\n",
    "from mlfsm.geom import calculate_arc_length, project_trans_rot\n",
    "from mlfsm.opt import CartesianOptimizer\n",
    "from mlfsm.utils import load_xyz"
   ]
  },
  {
   "cell_type": "markdown",
   "metadata": {
    "id": "bGeA4P7f2X-o"
   },
   "source": [
    "## Load reactant and product"
   ]
  },
  {
   "cell_type": "code",
   "execution_count": 5,
   "metadata": {
    "id": "sqX1AHiFxwBv"
   },
   "outputs": [],
   "source": [
    "# Mannualy\n",
    "reactant = ase.Atoms(\n",
    "    symbols=[\"C\", \"C\", \"H\", \"H\", \"H\", \"H\", \"H\", \"H\"],\n",
    "    positions=[\n",
    "        [-0.7630691361, -0.0020190208, 0.0034566355],\n",
    "        [0.7626325757, 0.0019950530, 0.0009730411],\n",
    "        [-1.1589043116, -0.5118960388, 0.8883793728],\n",
    "        [1.1613211937, 0.5116793524, 0.8847263259],\n",
    "        [-1.1629572511, 1.0174805269, 0.0041985317],\n",
    "        [-1.1617577754, -0.5117033851, -0.8802966057],\n",
    "        [1.1625206820, -1.0175044968, 0.0002310876],\n",
    "        [1.1584677813, 0.5118721300, -0.8839496535],\n",
    "    ],\n",
    ")\n",
    "product = ase.Atoms(\n",
    "    symbols=[\"C\", \"C\", \"H\", \"H\", \"H\", \"H\", \"H\", \"H\"],\n",
    "    positions=[\n",
    "        [0.8250132507, -0.3044255156, -0.0001793369],\n",
    "        [-0.0708590455, 0.6761106267, -0.0016038483],\n",
    "        [-2.2168320223, -1.1357962646, 0.0051867426],\n",
    "        [-2.9069107362, -1.4149124935, 0.0006665373],\n",
    "        [1.2144012074, -0.7244594455, -0.9242788205],\n",
    "        [1.2098231719, -0.7260043834, 0.9251338654],\n",
    "        [-0.4588134959, 1.0959757755, 0.9230324730],\n",
    "        [-0.4554227885, 1.0988459975, -0.9270321510],\n",
    "    ],\n",
    ")\n",
    "# Align product to reactant structure\n",
    "_, aligned_product = project_trans_rot(reactant.get_positions(), product.get_positions())\n",
    "product.set_positions(aligned_product.reshape(-1, 3))"
   ]
  },
  {
   "cell_type": "code",
   "execution_count": 7,
   "metadata": {
    "id": "PzPyPanQ8Df9"
   },
   "outputs": [],
   "source": [
    "# From benchmark set with helper function\n",
    "reactant, product = load_xyz(\"examples/data/06_diels_alder/\")"
   ]
  },
  {
   "cell_type": "markdown",
   "metadata": {
    "id": "HeDzIcpp2gUq"
   },
   "source": [
    "# Run FSM"
   ]
  },
  {
   "cell_type": "code",
   "execution_count": 8,
   "metadata": {
    "colab": {
     "base_uri": "https://localhost:8080/"
    },
    "id": "VX83ack6b-lg",
    "outputId": "afc5f39e-e103-408a-d996-2c9fe0c2b59e"
   },
   "outputs": [
    {
     "name": "stdout",
     "output_type": "stream",
     "text": [
      "Downloading model file from https://github.com/zubatyuk/aimnet-model-zoo/raw/main/aimnet2/aimnet2_wb97m_0.jpt\n",
      "Saved to  /usr/local/lib/python3.11/dist-packages/aimnet2calc/assets/aimnet2/aimnet2_wb97m_0.jpt\n",
      "Gradient calls: 51\n"
     ]
    }
   ],
   "source": [
    "from aimnet2calc import AIMNet2ASE\n",
    "\n",
    "# Parameters\n",
    "nnodes_min = 18\n",
    "interp = \"ric\"\n",
    "ninterp = 50\n",
    "method = \"L-BFGS-B\"\n",
    "maxiter = 1\n",
    "maxls = 3\n",
    "dmax = 0.3\n",
    "\n",
    "outdir = Path(f\"FSM_run_Nodes_{nnodes_min}_interp_{interp}_maxiter_{maxiter}_maxls_{maxls}\")\n",
    "if outdir.exists():\n",
    "    shutil.rmtree(outdir)\n",
    "outdir.mkdir()\n",
    "\n",
    "# Load calculator\n",
    "chg = 0\n",
    "mult = 1\n",
    "calc = AIMNet2ASE(\"aimnet2\", charge=chg, mult=mult)\n",
    "\n",
    "# Initialize string and optimizer\n",
    "string = FreezingString(reactant, product, nnodes_min, interp, ninterp)\n",
    "optimizer = CartesianOptimizer(calc, method, maxiter, maxls, dmax)\n",
    "\n",
    "# Run\n",
    "while string.growing:\n",
    "    string.grow()\n",
    "    string.optimize(optimizer)\n",
    "    string.write(outdir)\n",
    "\n",
    "print(\"Gradient calls:\", string.ngrad)"
   ]
  },
  {
   "cell_type": "markdown",
   "metadata": {
    "id": "VDaxz_CN2rSZ"
   },
   "source": [
    "## Plotting and Visualization"
   ]
  },
  {
   "cell_type": "code",
   "execution_count": 9,
   "metadata": {
    "id": "ybfqXaWKchKX"
   },
   "outputs": [],
   "source": [
    "all_atoms = string.r_string + string.p_string[::-1]\n",
    "all_energies = np.array(string.r_energy + string.p_energy[::-1])\n",
    "all_energies = all_energies - min(all_energies)\n",
    "ts_idx = all_energies.argmax()\n",
    "path = [structure.get_positions() for structure in all_atoms]\n",
    "s = calculate_arc_length(np.array(path))"
   ]
  },
  {
   "cell_type": "code",
   "execution_count": 10,
   "metadata": {
    "colab": {
     "base_uri": "https://localhost:8080/",
     "height": 451
    },
    "id": "f2RjahXmTRRq",
    "outputId": "f89ae36a-945b-464e-efc2-70e30624c13a"
   },
   "outputs": [
    {
     "data": {
      "image/png": "[encoded data removed]",
      "text/plain": [
       "<Figure size 640x480 with 1 Axes>"
      ]
     },
     "metadata": {},
     "output_type": "display_data"
    }
   ],
   "source": [
    "fig, ax = plt.subplots()\n",
    "ax.plot(s, all_energies, label=\"FSM Path\")\n",
    "ax.scatter(s[ts_idx], all_energies[ts_idx], color=\"red\", label=\"TS Guess\")\n",
    "ax.scatter(s[0], all_energies[0], color=\"black\", label=\"Reactant/Product\")\n",
    "ax.scatter(s[-1], all_energies[-1], color=\"black\")\n",
    "ax.set_xlabel(\"Arclength (Å)\")\n",
    "ax.set_ylabel(\"Energy (eV)\")\n",
    "_ = ax.legend()"
   ]
  },
  {
   "cell_type": "code",
   "execution_count": 11,
   "metadata": {
    "colab": {
     "base_uri": "https://localhost:8080/",
     "height": 305
    },
    "id": "437ie0q2O7bZ",
    "outputId": "e6c55b6d-68b0-444f-ce4d-fe9a7ee31834"
   },
   "outputs": [
    {
     "data": {
      "text/html": [
       "<div style='display:flex;gap:10px'>\n",
       "<div style='display:flex;flex-direction:column;align-items:center;margin-right:10px'>\n",
       "    <div style='font-weight:bold;margin-bottom:4px;text-align:center'>Reactant<br> Relative Energy: 2.0 eV</div>\n",
       "    <div id=\"3dmolviewer_17539085918392847\"  style=\"position: relative; width: 250px; height: 250px;\">\n",
       "        <p id=\"3dmolwarning_17539085918392847\" style=\"background-color:#ffcccc;color:black\">3Dmol.js failed to load for some reason.  Please check your browser console for error messages.<br></p>\n",
       "        </div>\n",
       "<script>\n",
       "\n",
       "var loadScriptAsync = function(uri){\n",
       "  return new Promise((resolve, reject) => {\n",
       "    //this is to ignore the existence of requirejs amd\n",
       "    var savedexports, savedmodule;\n",
       "    if (typeof exports !== 'undefined') savedexports = exports;\n",
       "    else exports = {}\n",
       "    if (typeof module !== 'undefined') savedmodule = module;\n",
       "    else module = {}\n",
       "\n",
       "    var tag = document.createElement('script');\n",
       "    tag.src = uri;\n",
       "    tag.async = true;\n",
       "    tag.onload = () => {\n",
       "        exports = savedexports;\n",
       "        module = savedmodule;\n",
       "        resolve();\n",
       "    };\n",
       "  var firstScriptTag = document.getElementsByTagName('script')[0];\n",
       "  firstScriptTag.parentNode.insertBefore(tag, firstScriptTag);\n",
       "});\n",
       "};\n",
       "\n",
       "if(typeof $3Dmolpromise === 'undefined') {\n",
       "$3Dmolpromise = null;\n",
       "  $3Dmolpromise = loadScriptAsync('https://cdn.jsdelivr.net/npm/3dmol@2.5.1/build/3Dmol-min.js');\n",
       "}\n",
       "\n",
       "var viewer_17539085918392847 = null;\n",
       "var warn = document.getElementById(\"3dmolwarning_17539085918392847\");\n",
       "if(warn) {\n",
       "    warn.parentNode.removeChild(warn);\n",
       "}\n",
       "$3Dmolpromise.then(function() {\n",
       "viewer_17539085918392847 = $3Dmol.createViewer(document.getElementById(\"3dmolviewer_17539085918392847\"),{backgroundColor:\"white\"});\n",
       "viewer_17539085918392847.zoomTo();\n",
       "\tviewer_17539085918392847.addModel(\"16\\n\\nC -0.616734437 -1.522942512 0.4053396301\\nC -1.5034534892 1.3966194097 0.5512899434\\nC -1.7608854067 0.527729432 -0.4272344455\\nC -1.5525309309 -0.9293628599 -0.3371906069\\nC 2.841158501 -0.3182844632 0.0093719154\\nC 2.1860819896 0.7984184542 -0.2864252682\\nH -2.1665530944 0.8976569653 -1.3689452889\\nH -2.214962094 -1.5456821227 -0.944647058\\nH -0.5309376223 -2.605415 0.4434040701\\nH -1.6564762015 2.4642385826 0.4204361079\\nH 0.096110885 -0.9474397197 0.9924330734\\nH -1.1410426503 1.0654309294 1.5221361747\\nH 2.3714985264 -1.2950168156 -0.0845281691\\nH 1.154099282 0.7840119322 -0.6306920806\\nH 3.8713938356 -0.3066537106 0.3577512455\\nH 2.6550517725 1.7758041942 -0.1982550851\",\"xyz\");\n",
       "\tviewer_17539085918392847.setStyle({\"stick\": {\"radius\": 0.2}, \"sphere\": {\"radius\": 0.6}});\n",
       "\tviewer_17539085918392847.zoomTo();\n",
       "viewer_17539085918392847.render();\n",
       "});\n",
       "</script>\n",
       "</div>\n",
       "<div style='display:flex;flex-direction:column;align-items:center;margin-right:10px'>\n",
       "    <div style='font-weight:bold;margin-bottom:4px;text-align:center'>TS Guess<br> Relative Energy: 6.0 eV</div>\n",
       "    <div id=\"3dmolviewer_17539085918394482\"  style=\"position: relative; width: 250px; height: 250px;\">\n",
       "        <p id=\"3dmolwarning_17539085918394482\" style=\"background-color:#ffcccc;color:black\">3Dmol.js failed to load for some reason.  Please check your browser console for error messages.<br></p>\n",
       "        </div>\n",
       "<script>\n",
       "\n",
       "var loadScriptAsync = function(uri){\n",
       "  return new Promise((resolve, reject) => {\n",
       "    //this is to ignore the existence of requirejs amd\n",
       "    var savedexports, savedmodule;\n",
       "    if (typeof exports !== 'undefined') savedexports = exports;\n",
       "    else exports = {}\n",
       "    if (typeof module !== 'undefined') savedmodule = module;\n",
       "    else module = {}\n",
       "\n",
       "    var tag = document.createElement('script');\n",
       "    tag.src = uri;\n",
       "    tag.async = true;\n",
       "    tag.onload = () => {\n",
       "        exports = savedexports;\n",
       "        module = savedmodule;\n",
       "        resolve();\n",
       "    };\n",
       "  var firstScriptTag = document.getElementsByTagName('script')[0];\n",
       "  firstScriptTag.parentNode.insertBefore(tag, firstScriptTag);\n",
       "});\n",
       "};\n",
       "\n",
       "if(typeof $3Dmolpromise === 'undefined') {\n",
       "$3Dmolpromise = null;\n",
       "  $3Dmolpromise = loadScriptAsync('https://cdn.jsdelivr.net/npm/3dmol@2.5.1/build/3Dmol-min.js');\n",
       "}\n",
       "\n",
       "var viewer_17539085918394482 = null;\n",
       "var warn = document.getElementById(\"3dmolwarning_17539085918394482\");\n",
       "if(warn) {\n",
       "    warn.parentNode.removeChild(warn);\n",
       "}\n",
       "$3Dmolpromise.then(function() {\n",
       "viewer_17539085918394482 = $3Dmol.createViewer(document.getElementById(\"3dmolviewer_17539085918394482\"),{backgroundColor:\"white\"});\n",
       "viewer_17539085918394482.zoomTo();\n",
       "\tviewer_17539085918394482.addModel(\"16\\n\\nC -0.08468354658100632 -1.5616945009345582 0.16038084194872407\\nC -0.6727168403287623 1.5098443036313416 0.29320449108421687\\nC -1.558493838761851 0.481487558939195 -0.16328273548867675\\nC -1.2945265902498004 -0.9038677679083111 -0.16734176709439727\\nC 1.9657497538545368 -0.3529812882323134 0.28237603440072506\\nC 1.4953777922609088 0.8781649006822345 -0.24168555273797485\\nH -2.4825886620500324 0.7553186135293198 -0.6824614869138959\\nH -2.1216349917727984 -1.4891315831163165 -0.5509835349104169\\nH 0.032606349312255485 -2.4452532178581605 -0.4657544030168292\\nH -0.9804702325782696 2.4418119650221337 -0.09765307440545531\\nH 0.18804390893194703 -1.6671739949205158 1.1738662426064705\\nH -0.5133874548890827 1.5205017460801837 1.3487917579178672\\nH 2.3438366784074542 -1.2327315443046272 -0.24227833912584812\\nH 1.0723990582758272 0.7517704810655136 -1.2469978199980023\\nH 2.6714009179094074 -0.22287690155561396 1.152586037452018\\nH 2.162030829332137 1.788526676235512 -0.14365748896386596\",\"xyz\");\n",
       "\tviewer_17539085918394482.setStyle({\"stick\": {\"radius\": 0.2}, \"sphere\": {\"radius\": 0.6}});\n",
       "\tviewer_17539085918394482.zoomTo();\n",
       "viewer_17539085918394482.render();\n",
       "});\n",
       "</script>\n",
       "</div>\n",
       "<div style='display:flex;flex-direction:column;align-items:center;margin-right:10px'>\n",
       "    <div style='font-weight:bold;margin-bottom:4px;text-align:center'>Product<br> Relative Energy: 0.0 eV</div>\n",
       "    <div id=\"3dmolviewer_1753908591839617\"  style=\"position: relative; width: 250px; height: 250px;\">\n",
       "        <p id=\"3dmolwarning_1753908591839617\" style=\"background-color:#ffcccc;color:black\">3Dmol.js failed to load for some reason.  Please check your browser console for error messages.<br></p>\n",
       "        </div>\n",
       "<script>\n",
       "\n",
       "var loadScriptAsync = function(uri){\n",
       "  return new Promise((resolve, reject) => {\n",
       "    //this is to ignore the existence of requirejs amd\n",
       "    var savedexports, savedmodule;\n",
       "    if (typeof exports !== 'undefined') savedexports = exports;\n",
       "    else exports = {}\n",
       "    if (typeof module !== 'undefined') savedmodule = module;\n",
       "    else module = {}\n",
       "\n",
       "    var tag = document.createElement('script');\n",
       "    tag.src = uri;\n",
       "    tag.async = true;\n",
       "    tag.onload = () => {\n",
       "        exports = savedexports;\n",
       "        module = savedmodule;\n",
       "        resolve();\n",
       "    };\n",
       "  var firstScriptTag = document.getElementsByTagName('script')[0];\n",
       "  firstScriptTag.parentNode.insertBefore(tag, firstScriptTag);\n",
       "});\n",
       "};\n",
       "\n",
       "if(typeof $3Dmolpromise === 'undefined') {\n",
       "$3Dmolpromise = null;\n",
       "  $3Dmolpromise = loadScriptAsync('https://cdn.jsdelivr.net/npm/3dmol@2.5.1/build/3Dmol-min.js');\n",
       "}\n",
       "\n",
       "var viewer_1753908591839617 = null;\n",
       "var warn = document.getElementById(\"3dmolwarning_1753908591839617\");\n",
       "if(warn) {\n",
       "    warn.parentNode.removeChild(warn);\n",
       "}\n",
       "$3Dmolpromise.then(function() {\n",
       "viewer_1753908591839617 = $3Dmol.createViewer(document.getElementById(\"3dmolviewer_1753908591839617\"),{backgroundColor:\"white\"});\n",
       "viewer_1753908591839617.zoomTo();\n",
       "\tviewer_1753908591839617.addModel(\"16\\n\\nC 0.2586031669513068 -1.4815782025140836 -0.05415634910851974\\nC -0.2874605172225334 1.4594708570132222 0.10165041163653282\\nC -1.3733558893980882 0.4147196874812734 0.05135569859975442\\nC -1.129062087394164 -0.8925704373614914 -0.0350945542022226\\nC 1.3146555532599868 -0.46193084512268584 0.38007632383807033\\nC 1.073582164249639 0.8853991718953116 -0.2996543888635501\\nH -2.4036423062048176 0.7671934158576099 0.0865046310570814\\nH -1.9636584727087296 -1.5906690811708555 -0.0903377342869819\\nH 0.4833426500211076 -1.8521629159371813 -1.0655267935364485\\nH -0.5536741300126722 2.2995447593906073 -0.5530311288764531\\nH 0.2924843908048016 -2.3635326582083964 0.598716311802671\\nH -0.23227124748935768 1.8805559743904314 1.1169938568809719\\nH 2.3191390483333705 -0.8395245455961495 0.15549964803652197\\nH 1.101811378723609 0.7484337570040144 -1.3894184971382104\\nH 1.260251317259827 -0.3288911175616658 1.469300172804431\\nH 1.8710738466267125 1.5946548763400397 -0.048633450443649195\",\"xyz\");\n",
       "\tviewer_1753908591839617.setStyle({\"stick\": {\"radius\": 0.2}, \"sphere\": {\"radius\": 0.6}});\n",
       "\tviewer_1753908591839617.zoomTo();\n",
       "viewer_1753908591839617.render();\n",
       "});\n",
       "</script>\n",
       "</div></div>"
      ],
      "text/plain": [
       "<IPython.core.display.HTML object>"
      ]
     },
     "execution_count": 11,
     "metadata": {},
     "output_type": "execute_result"
    }
   ],
   "source": [
    "def snapshot_row(atoms_list: list[ase.Atoms], labels: list[str] | None = None) -> HTML:\n",
    "    \"\"\"Show selected structures.\"\"\"\n",
    "    html = []\n",
    "    for i, atoms in enumerate(atoms_list):\n",
    "        symbols = atoms.get_chemical_symbols()\n",
    "        positions = atoms.get_positions()\n",
    "\n",
    "        xyz_str = f\"{len(atoms)}\\n\\n\" + \"\\n\".join(\n",
    "            f\"{sym} {x} {y} {z}\" for sym, (x, y, z) in zip(symbols, positions, strict=True)\n",
    "        )\n",
    "\n",
    "        view = py3Dmol.view(width=250, height=250)\n",
    "        view.addModel(xyz_str, \"xyz\")\n",
    "        view.setStyle({\"stick\": {\"radius\": 0.2}, \"sphere\": {\"radius\": 0.6}})\n",
    "        view.zoomTo()\n",
    "\n",
    "        # Generate label and viewer together\n",
    "        label_text = labels[i] if labels else f\"Frame {i}\"\n",
    "        viewer_html = view._make_html()\n",
    "\n",
    "        # Combine label and viewer in a single column\n",
    "        html.append(\n",
    "            f\"\"\"\n",
    "<div style='display:flex;flex-direction:column;align-items:center;margin-right:10px'>\n",
    "    <div style='font-weight:bold;margin-bottom:4px;text-align:center'>{label_text}</div>\n",
    "    {viewer_html}\n",
    "</div>\"\"\"\n",
    "        )\n",
    "\n",
    "    return HTML(f\"<div style='display:flex;gap:10px'>{''.join(html)}</div>\")\n",
    "\n",
    "\n",
    "# Example usage\n",
    "frames_to_show = [all_atoms[0], all_atoms[ts_idx], all_atoms[-1]]\n",
    "custom_labels = [\n",
    "    \"Reactant<br> Relative Energy: {:.1f} eV\".format(all_energies[0]),\n",
    "    \"TS Guess<br> Relative Energy: {:.1f} eV\".format(all_energies[ts_idx]),\n",
    "    \"Product<br> Relative Energy: {:.1f} eV\".format(all_energies[-1]),\n",
    "]\n",
    "snapshot_row(frames_to_show, custom_labels)"
   ]
  },
  {
   "cell_type": "code",
   "execution_count": null,
   "metadata": {
    "id": "GoiVxQse8DgA"
   },
   "outputs": [],
   "source": []
  }
 ],
 "metadata": {
  "colab": {
   "provenance": []
  },
  "kernelspec": {
   "display_name": "Python 3 (ipykernel)",
   "language": "python",
   "name": "python3"
  },
  "language_info": {
   "codemirror_mode": {
    "name": "ipython",
    "version": 3
   },
   "file_extension": ".py",
   "mimetype": "text/x-python",
   "name": "python",
   "nbconvert_exporter": "python",
   "pygments_lexer": "ipython3",
   "version": "3.12.11"
  }
 },
 "nbformat": 4,
 "nbformat_minor": 0
}
