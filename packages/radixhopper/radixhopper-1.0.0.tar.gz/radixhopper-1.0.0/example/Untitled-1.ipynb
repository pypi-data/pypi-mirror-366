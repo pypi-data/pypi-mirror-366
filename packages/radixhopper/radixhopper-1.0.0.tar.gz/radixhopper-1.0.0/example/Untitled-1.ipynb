{
 "cells": [
  {
   "cell_type": "code",
   "execution_count": null,
   "id": "8f1f0c7d",
   "metadata": {},
   "outputs": [
    {
     "ename": "ImportError",
     "evalue": "attempted relative import with no known parent package",
     "output_type": "error",
     "traceback": [
      "\u001b[31m---------------------------------------------------------------------------\u001b[39m",
      "\u001b[31mImportError\u001b[39m                               Traceback (most recent call last)",
      "\u001b[36mCell\u001b[39m\u001b[36m \u001b[39m\u001b[32mIn[2]\u001b[39m\u001b[32m, line 1\u001b[39m\n\u001b[32m----> \u001b[39m\u001b[32m1\u001b[39m \u001b[38;5;28;01mfrom\u001b[39;00m\u001b[38;5;250m \u001b[39m\u001b[34;01mradixhopper\u001b[39;00m\u001b[38;5;250m \u001b[39m\u001b[38;5;28;01mimport\u001b[39;00m RadixNumber\n\u001b[32m      3\u001b[39m RadixNumber(\u001b[32m0.353\u001b[39m).to(base=\u001b[32m6\u001b[39m)\n",
      "\u001b[36mFile \u001b[39m\u001b[32mf:\\Projects\\Personal Project\\Soft\\Alive\\RadixHopper\\RadixHopper\\src\\radixhopper\\radixhopper.py:13\u001b[39m\n\u001b[32m     11\u001b[39m \u001b[38;5;28;01mfrom\u001b[39;00m\u001b[38;5;250m \u001b[39m\u001b[34;01mdecimal\u001b[39;00m\u001b[38;5;250m \u001b[39m\u001b[38;5;28;01mimport\u001b[39;00m Decimal\n\u001b[32m     12\u001b[39m \u001b[38;5;28;01mfrom\u001b[39;00m\u001b[38;5;250m \u001b[39m\u001b[34;01mtypeguard\u001b[39;00m\u001b[38;5;250m \u001b[39m\u001b[38;5;28;01mimport\u001b[39;00m typechecked\n\u001b[32m---> \u001b[39m\u001b[32m13\u001b[39m \u001b[38;5;28;01mfrom\u001b[39;00m\u001b[38;5;250m \u001b[39m\u001b[34;01m.\u001b[39;00m\u001b[34;01merror\u001b[39;00m\u001b[38;5;250m \u001b[39m\u001b[38;5;28;01mimport\u001b[39;00m BaseRangeError\n\u001b[32m     15\u001b[39m TOLERANCE = sys.float_info.epsilon * \u001b[32m2\u001b[39m\n\u001b[32m     17\u001b[39m \u001b[38;5;66;03m# ---- Workflow ---- #\u001b[39;00m\n\u001b[32m     18\u001b[39m \u001b[38;5;66;03m# TODO: nix?\u001b[39;00m\n\u001b[32m     19\u001b[39m \u001b[38;5;66;03m# TODO: github actions (`.github` and test offline using `act`)\u001b[39;00m\n\u001b[32m   (...)\u001b[39m\u001b[32m     45\u001b[39m \u001b[38;5;66;03m# ⭐ TODO: Improved CLI (more flags like simple and ...)\u001b[39;00m\n\u001b[32m     46\u001b[39m \u001b[38;5;66;03m# TODO: Deploy on streamlit cloud, vercel, github action, netlify or smth else, on my subdomain.\u001b[39;00m\n",
      "\u001b[31mImportError\u001b[39m: attempted relative import with no known parent package"
     ]
    }
   ],
   "source": [
    "from .radixhopper import RadixNumber\n",
    "\n",
    "RadixNumber(0.353).to(base=6)"
   ]
  },
  {
   "cell_type": "code",
   "execution_count": null,
   "id": "33b4359e",
   "metadata": {},
   "outputs": [
    {
     "data": {
      "text/latex": [
       "$$0_{2}$$"
      ],
      "text/plain": [
       "RadixNumber(number=0, representation_base=2, digits=0123456789ABCDEFGHIJKLMNOPQRSTUVWXYZ, case_sensitive=False, fraction=(0))"
      ]
     },
     "execution_count": 9,
     "metadata": {},
     "output_type": "execute_result"
    }
   ],
   "source": [
    "RadixNumber(\"0b0\", zero_b_o_x_leading_implicit_based=True)"
   ]
  },
  {
   "cell_type": "code",
   "execution_count": 1,
   "id": "20aa26c8",
   "metadata": {},
   "outputs": [
    {
     "ename": "NameError",
     "evalue": "name 'RadixNumber' is not defined",
     "output_type": "error",
     "traceback": [
      "\u001b[31m---------------------------------------------------------------------------\u001b[39m",
      "\u001b[31mNameError\u001b[39m                                 Traceback (most recent call last)",
      "\u001b[36mCell\u001b[39m\u001b[36m \u001b[39m\u001b[32mIn[1]\u001b[39m\u001b[32m, line 1\u001b[39m\n\u001b[32m----> \u001b[39m\u001b[32m1\u001b[39m \u001b[43mRadixNumber\u001b[49m(\u001b[33m\"\u001b[39m\u001b[33m0b11\u001b[39m\u001b[33m\"\u001b[39m, zero_b_o_x_leading_implicit_based=\u001b[38;5;28;01mTrue\u001b[39;00m)\n",
      "\u001b[31mNameError\u001b[39m: name 'RadixNumber' is not defined"
     ]
    }
   ],
   "source": [
    "RadixNumber(\"0b11\", zero_b_o_x_leading_implicit_based=True)"
   ]
  }
 ],
 "metadata": {
  "kernelspec": {
   "display_name": ".venv",
   "language": "python",
   "name": "python3"
  },
  "language_info": {
   "codemirror_mode": {
    "name": "ipython",
    "version": 3
   },
   "file_extension": ".py",
   "mimetype": "text/x-python",
   "name": "python",
   "nbconvert_exporter": "python",
   "pygments_lexer": "ipython3",
   "version": "3.12.1"
  }
 },
 "nbformat": 4,
 "nbformat_minor": 5
}
