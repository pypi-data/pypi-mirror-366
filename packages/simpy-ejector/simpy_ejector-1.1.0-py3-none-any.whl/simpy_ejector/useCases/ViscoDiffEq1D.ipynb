{
 "cells": [
  {
   "cell_type": "code",
   "execution_count": 1,
   "metadata": {},
   "outputs": [],
   "source": [
    "import sys\n",
    "sys.path.append(\"../\") \n",
    "import numSolvers\n",
    "import numpy as np\n",
    "import matplotlib.pyplot as plt\n",
    "import math\n",
    "import scipy.integrate\n",
    "np.set_printoptions(linewidth = 150)\n",
    "# %matplotlib notebook"
   ]
  },
  {
   "cell_type": "markdown",
   "metadata": {},
   "source": [
    "## First see the solution of vv' = -c differential equation\n",
    "with c = -grad(p)/\\rho this is the momentum equation without viscosity, v is the speed of flow."
   ]
  },
  {
   "cell_type": "code",
   "execution_count": 2,
   "metadata": {},
   "outputs": [],
   "source": [
    "def diffModelP3(v, x, gp):\n",
    "    \"\"\" yy' = gp    diffequation , gp is a constant : the pressure gradient/density, y is speed\n",
    "    :param v: speed\n",
    "    :param x: spatial coordinate\n",
    "    :return: v'\n",
    "    \"\"\"\n",
    "    dvdx = gp/v\n",
    "    return dvdx\n",
    "\n",
    "def exactP3(x,gp, x0, v0):\n",
    "    \"\"\" yy' = gp    diffequation , gp assumed constant the pressure gradient/density, y is speed Exact Analytic Solution\n",
    "    \"\"\"\n",
    "    gc = v0**2 - 2* gp * x0\n",
    "    vex = math.sqrt( 2.0 * gp *x + gc )\n",
    "    return vex"
   ]
  },
  {
   "cell_type": "code",
   "execution_count": 3,
   "metadata": {},
   "outputs": [
    {
     "name": "stdout",
     "output_type": "stream",
     "text": [
      " gp parameter -2000.0\n"
     ]
    }
   ],
   "source": [
    "    L = 0.1 #meter\n",
    "    xs = np.linspace(0,L, 100) # meter\n",
    "    DeltaP = 1e5 # 1bar\n",
    "    D = 500 # kg/m^3\n",
    "    gp = - DeltaP / L / D\n",
    "    print(' gp parameter {}'.format(gp))\n",
    "    initvals = [23.0] # m/s"
   ]
  },
  {
   "cell_type": "code",
   "execution_count": 4,
   "metadata": {},
   "outputs": [
    {
     "data": {
      "text/plain": [
       "array([0.        , 0.0010101 , 0.0020202 , 0.0030303 , 0.0040404 , 0.00505051, 0.00606061, 0.00707071, 0.00808081, 0.00909091, 0.01010101,\n",
       "       0.01111111, 0.01212121, 0.01313131, 0.01414141, 0.01515152, 0.01616162, 0.01717172, 0.01818182, 0.01919192, 0.02020202, 0.02121212,\n",
       "       0.02222222, 0.02323232, 0.02424242, 0.02525253, 0.02626263, 0.02727273, 0.02828283, 0.02929293, 0.03030303, 0.03131313, 0.03232323,\n",
       "       0.03333333, 0.03434343, 0.03535354, 0.03636364, 0.03737374, 0.03838384, 0.03939394, 0.04040404, 0.04141414, 0.04242424, 0.04343434,\n",
       "       0.04444444, 0.04545455, 0.04646465, 0.04747475, 0.04848485, 0.04949495, 0.05050505, 0.05151515, 0.05252525, 0.05353535, 0.05454545,\n",
       "       0.05555556, 0.05656566, 0.05757576, 0.05858586, 0.05959596, 0.06060606, 0.06161616, 0.06262626, 0.06363636, 0.06464646, 0.06565657,\n",
       "       0.06666667, 0.06767677, 0.06868687, 0.06969697, 0.07070707, 0.07171717, 0.07272727, 0.07373737, 0.07474747, 0.07575758, 0.07676768,\n",
       "       0.07777778, 0.07878788, 0.07979798, 0.08080808, 0.08181818, 0.08282828, 0.08383838, 0.08484848, 0.08585859, 0.08686869, 0.08787879,\n",
       "       0.08888889, 0.08989899, 0.09090909, 0.09191919, 0.09292929, 0.09393939, 0.09494949, 0.0959596 , 0.0969697 , 0.0979798 , 0.0989899 ,\n",
       "       0.1       ])"
      ]
     },
     "execution_count": 4,
     "metadata": {},
     "output_type": "execute_result"
    }
   ],
   "source": [
    "xs"
   ]
  },
  {
   "cell_type": "code",
   "execution_count": 5,
   "metadata": {},
   "outputs": [],
   "source": [
    "func = lambda v, x : diffModelP3(v,x , gp)"
   ]
  },
  {
   "cell_type": "markdown",
   "metadata": {},
   "source": [
    "solutions with my solvers:"
   ]
  },
  {
   "cell_type": "code",
   "execution_count": 6,
   "metadata": {},
   "outputs": [],
   "source": [
    "    y_numEuler = numSolvers.IVEuler(func, initvals, xs)\n",
    "    y_numRG4 = numSolvers.RungeKutta4(func, initvals, xs)"
   ]
  },
  {
   "cell_type": "markdown",
   "metadata": {},
   "source": [
    "solutions from scipy library functions:"
   ]
  },
  {
   "cell_type": "code",
   "execution_count": 7,
   "metadata": {},
   "outputs": [],
   "source": [
    "    funcrev = lambda t, v: diffModelP3(v,t, gp)\n",
    "    y_scipy = scipy.integrate.solve_ivp(funcrev, [xs.min(), xs.max()], initvals,\n",
    "                              method='RK45')"
   ]
  },
  {
   "cell_type": "markdown",
   "metadata": {},
   "source": [
    " the analytical solution:"
   ]
  },
  {
   "cell_type": "code",
   "execution_count": 8,
   "metadata": {},
   "outputs": [],
   "source": [
    "y_anal = np.array([ exactP3(xi , gp, 0.0, initvals[0])  for xi in xs ])"
   ]
  },
  {
   "cell_type": "markdown",
   "metadata": {},
   "source": [
    "plotting the results:"
   ]
  },
  {
   "cell_type": "code",
   "execution_count": 9,
   "metadata": {},
   "outputs": [
    {
     "data": {
      "text/plain": [
       "Text(0.5, 1.0, \"numerical solution of equation yy'= gp \")"
      ]
     },
     "execution_count": 9,
     "metadata": {},
     "output_type": "execute_result"
    },
    {
     "data": {
      "image/png": "[encoded data removed]",
      "text/plain": [
       "<Figure size 432x288 with 1 Axes>"
      ]
     },
     "metadata": {
      "needs_background": "light"
     },
     "output_type": "display_data"
    }
   ],
   "source": [
    "    # print(y_numRG4)\n",
    "    plt.plot(xs, y_numEuler[:,1])\n",
    "    plt.plot(xs, y_numRG4[:, 1])\n",
    "    plt.plot(y_scipy.t, y_scipy.y[0,:])\n",
    "    plt.plot(xs, y_anal)\n",
    "    plt.legend(['Adam_Euler', 'Adam_RG4', 'scipy_library RK45', 'analytical solution'])\n",
    "    plt.title(\"numerical solution of equation yy'= gp \")"
   ]
  },
  {
   "cell_type": "markdown",
   "metadata": {},
   "source": [
    "Great, all 3 numerical solutions agree well with the analytic solution"
   ]
  },
  {
   "cell_type": "markdown",
   "metadata": {},
   "source": [
    "##  vv' = -c + nu * v'' differential equation\n",
    "with c = -grad(p)/\\rho , v is speed of the flow\n",
    "nu = kinematic viscosity = dynamic viscosity (mu)/ density "
   ]
  },
  {
   "cell_type": "code",
   "execution_count": 10,
   "metadata": {},
   "outputs": [],
   "source": [
    "def diffModelP4(y, x, gp, nu):\n",
    "    \"\"\" 0 = yy' + gp - nu * v''   diffequation , gp is the pressure gradient/density, y is speed\n",
    "    :param v: speed\n",
    "    :param x: spatial coordinate\n",
    "    :param gp: pressure gradient/ Density . gp positive !! \n",
    "    :param nu: kinematic viscosity, mu/density\n",
    "    :return: v' vector\n",
    "    \"\"\"\n",
    "    v, w = y # w = v' the new auxiliary variable\n",
    "    dvdx = w\n",
    "    dwdx = v * w / nu + gp / nu\n",
    "    return np.array([dvdx, dwdx ])"
   ]
  },
  {
   "cell_type": "code",
   "execution_count": 11,
   "metadata": {},
   "outputs": [
    {
     "name": "stdout",
     "output_type": "stream",
     "text": [
      " gp parameter 200.0 kin viscosity 2.0000000000000002e-07\n"
     ]
    }
   ],
   "source": [
    "L = 0.1 #meter\n",
    "xs = np.linspace(0,L, 100) # meter\n",
    "DeltaP = 1e4 # 0.1bar\n",
    "D = 500 # kg/m^3\n",
    "gp = DeltaP /  L / D\n",
    "# mu = 100e-6 # Pa sec\n",
    "mu = 100e-6 # fake value\n",
    "nu = mu /D\n",
    "print(' gp parameter {} kin viscosity {}'.format(gp, nu))\n",
    "initvals = np.array([3.0, 0.0]) # [v0, v'0]  [m/s , 1/s]"
   ]
  },
  {
   "cell_type": "code",
   "execution_count": 12,
   "metadata": {},
   "outputs": [
    {
     "name": "stderr",
     "output_type": "stream",
     "text": [
      "C:\\ProgramData\\Anaconda3\\lib\\site-packages\\ipykernel_launcher.py:11: RuntimeWarning: overflow encountered in double_scalars\n",
      "  # This is added back by InteractiveShellApp.init_path()\n"
     ]
    }
   ],
   "source": [
    "func = lambda v, x: diffModelP4(v, x, gp,nu)\n",
    "y_numEuler = numSolvers.IVEuler(func, initvals, xs)\n"
   ]
  },
  {
   "cell_type": "code",
   "execution_count": 13,
   "metadata": {},
   "outputs": [
    {
     "data": {
      "text/plain": [
       "array([[0.08080808,        inf,        inf],\n",
       "       [0.08181818,        inf,        inf],\n",
       "       [0.08282828,        inf,        inf],\n",
       "       [0.08383838,        inf,        inf],\n",
       "       [0.08484848,        inf,        inf],\n",
       "       [0.08585859,        inf,        inf],\n",
       "       [0.08686869,        inf,        inf],\n",
       "       [0.08787879,        inf,        inf],\n",
       "       [0.08888889,        inf,        inf],\n",
       "       [0.08989899,        inf,        inf],\n",
       "       [0.09090909,        inf,        inf],\n",
       "       [0.09191919,        inf,        inf],\n",
       "       [0.09292929,        inf,        inf],\n",
       "       [0.09393939,        inf,        inf],\n",
       "       [0.09494949,        inf,        inf],\n",
       "       [0.0959596 ,        inf,        inf],\n",
       "       [0.0969697 ,        inf,        inf],\n",
       "       [0.0979798 ,        inf,        inf],\n",
       "       [0.0989899 ,        inf,        inf],\n",
       "       [0.1       ,        inf,        inf]])"
      ]
     },
     "execution_count": 13,
     "metadata": {},
     "output_type": "execute_result"
    }
   ],
   "source": [
    "y_numEuler[-20:]"
   ]
  },
  {
   "cell_type": "code",
   "execution_count": 14,
   "metadata": {},
   "outputs": [
    {
     "name": "stderr",
     "output_type": "stream",
     "text": [
      "C:\\ProgramData\\Anaconda3\\lib\\site-packages\\ipykernel_launcher.py:11: RuntimeWarning: overflow encountered in double_scalars\n",
      "  # This is added back by InteractiveShellApp.init_path()\n"
     ]
    }
   ],
   "source": [
    "y_numRG4 = numSolvers.RungeKutta4(func, initvals, xs)"
   ]
  },
  {
   "cell_type": "code",
   "execution_count": 15,
   "metadata": {},
   "outputs": [
    {
     "data": {
      "text/plain": [
       "array([[0.00000000e+000, 3.00000000e+000, 0.00000000e+000],\n",
       "       [1.01010101e-003, 8.39682057e+011, 1.62280955e+025],\n",
       "       [2.02020202e-003, 1.05236123e+103, 3.78524565e+172],\n",
       "       [3.03030303e-003,             inf,             inf],\n",
       "       [4.04040404e-003,             inf,             inf],\n",
       "       [5.05050505e-003,             inf,             inf],\n",
       "       [6.06060606e-003,             inf,             inf],\n",
       "       [7.07070707e-003,             inf,             inf],\n",
       "       [8.08080808e-003,             inf,             inf],\n",
       "       [9.09090909e-003,             inf,             inf],\n",
       "       [1.01010101e-002,             inf,             inf],\n",
       "       [1.11111111e-002,             inf,             inf],\n",
       "       [1.21212121e-002,             inf,             inf],\n",
       "       [1.31313131e-002,             inf,             inf],\n",
       "       [1.41414141e-002,             inf,             inf],\n",
       "       [1.51515152e-002,             inf,             inf],\n",
       "       [1.61616162e-002,             inf,             inf],\n",
       "       [1.71717172e-002,             inf,             inf],\n",
       "       [1.81818182e-002,             inf,             inf],\n",
       "       [1.91919192e-002,             inf,             inf]])"
      ]
     },
     "execution_count": 15,
     "metadata": {},
     "output_type": "execute_result"
    }
   ],
   "source": [
    "y_numRG4[0:20,:]"
   ]
  },
  {
   "cell_type": "code",
   "execution_count": 16,
   "metadata": {
    "scrolled": true
   },
   "outputs": [],
   "source": [
    "funcrev = lambda t, v: diffModelP4(v, t, gp, nu)\n",
    "y_scipyBDF = scipy.integrate.solve_ivp(funcrev, [xs.min(), xs.max()], initvals,\n",
    "                                        method='BDF')"
   ]
  },
  {
   "cell_type": "code",
   "execution_count": 17,
   "metadata": {},
   "outputs": [],
   "source": [
    "y_scipyRK = scipy.integrate.solve_ivp(funcrev, [xs.min(), xs.max()], initvals,\n",
    "                                        method='RK45')"
   ]
  },
  {
   "cell_type": "code",
   "execution_count": 18,
   "metadata": {
    "scrolled": true
   },
   "outputs": [
    {
     "data": {
      "text/plain": [
       "'Required step size is less than spacing between numbers.'"
      ]
     },
     "execution_count": 18,
     "metadata": {},
     "output_type": "execute_result"
    }
   ],
   "source": [
    "y_scipyBDF.message"
   ]
  },
  {
   "cell_type": "markdown",
   "metadata": {},
   "source": [
    "**scipy also failed to find convergent solution**"
   ]
  },
  {
   "cell_type": "code",
   "execution_count": 19,
   "metadata": {},
   "outputs": [
    {
     "data": {
      "text/plain": [
       "array([[0.00000000e+00, 3.00000000e+00, 0.00000000e+00],\n",
       "       [9.70983544e-13, 3.00000000e+00, 9.70995478e-04],\n",
       "       [1.94196709e-12, 3.00000000e+00, 1.94200475e-03],\n",
       "       [1.16518025e-11, 3.00000000e+00, 1.16533127e-02],\n",
       "       [2.13616380e-11, 3.00000000e+00, 2.13660041e-02],\n",
       "       [1.03218641e-10, 3.00000000e+00, 1.03301241e-01],\n",
       "       [1.85075643e-10, 3.00000000e+00, 1.85335826e-01],\n",
       "       [2.66932646e-10, 3.00000000e+00, 2.67470845e-01],\n",
       "       [1.08550267e-09, 3.00000000e+00, 1.09441214e+00],\n",
       "       [1.90407270e-09, 3.00000000e+00, 1.93157188e+00],\n",
       "       [2.72264273e-09, 3.00000000e+00, 2.77907343e+00],\n",
       "       [7.43238701e-09, 3.00000003e+00, 7.86282686e+00],\n",
       "       [1.21421313e-08, 3.00000008e+00, 1.33187556e+01],\n",
       "       [1.68518756e-08, 3.00000015e+00, 1.91740465e+01],\n",
       "       [2.15616199e-08, 3.00000026e+00, 2.54579394e+01],\n",
       "       [3.86211747e-08, 3.00000091e+00, 5.23268048e+01],\n",
       "       [5.56807296e-08, 3.00000209e+00, 8.70394095e+01],\n",
       "       [7.27402845e-08, 3.00000394e+00, 1.31882516e+02],\n",
       "       [8.97998394e-08, 3.00000667e+00, 1.89808044e+02],\n",
       "       [1.06859394e-07, 3.00001052e+00, 2.64631457e+02],\n",
       "       [1.33384671e-07, 3.00001955e+00, 4.26624996e+02],\n",
       "       [1.59909947e-07, 3.00003386e+00, 6.67876927e+02],\n",
       "       [1.86435223e-07, 3.00005605e+00, 1.02715047e+03],\n",
       "       [2.12960500e-07, 3.00008995e+00, 1.56215675e+03],\n",
       "       [2.39485776e-07, 3.00014129e+00, 2.35884929e+03],\n",
       "       [2.66011052e-07, 3.00021861e+00, 3.54524895e+03],\n",
       "       [2.95467144e-07, 3.00035059e+00, 5.55462843e+03],\n",
       "       [3.24923235e-07, 3.00055713e+00, 8.68262619e+03],\n",
       "       [3.54379326e-07, 3.00087970e+00, 1.35518673e+04],\n",
       "       [3.83835418e-07, 3.00138290e+00, 2.11321682e+04],\n",
       "       [4.13291509e-07, 3.00216731e+00, 3.29348839e+04],\n",
       "       [4.42747601e-07, 3.00338965e+00, 5.13166431e+04],\n",
       "       [4.72784333e-07, 3.00534101e+00, 8.06603537e+04],\n",
       "       [5.02821065e-07, 3.00840863e+00, 1.26811909e+05],\n",
       "       [5.32857797e-07, 3.01323274e+00, 1.99468710e+05],\n",
       "       [5.62894530e-07, 3.02082433e+00, 3.14029552e+05],\n",
       "       [5.92931262e-07, 3.03278527e+00, 4.95103135e+05],\n",
       "       [6.22967994e-07, 3.05166664e+00, 7.82407075e+05],\n",
       "       [6.51812638e-07, 3.08008953e+00, 1.21828578e+06],\n",
       "       [6.80657281e-07, 3.12446945e+00, 1.90706262e+06],\n",
       "       [7.09501925e-07, 3.19425322e+00, 3.01037055e+06],\n",
       "       [7.38346568e-07, 3.30520495e+00, 4.81571549e+06],\n",
       "       [7.61231357e-07, 3.43978477e+00, 7.08786514e+06],\n",
       "       [7.84116145e-07, 3.63980678e+00, 1.06340812e+07],\n",
       "       [8.02621100e-07, 3.87508993e+00, 1.50615363e+07],\n",
       "       [8.21126055e-07, 4.21293337e+00, 2.19084029e+07],\n",
       "       [8.35750975e-07, 4.59064913e+00, 3.02389572e+07],\n",
       "       [8.50375894e-07, 5.12100607e+00, 4.31532627e+07],\n",
       "       [8.60676348e-07, 5.63257837e+00, 5.69349315e+07],\n",
       "       [8.70976802e-07, 6.31802660e+00, 7.74608430e+07],\n",
       "       [8.81277257e-07, 7.27168140e+00, 1.09977242e+08],\n",
       "       [8.87618231e-07, 8.06009500e+00, 1.40243991e+08],\n",
       "       [8.93959205e-07, 9.07965542e+00, 1.84003598e+08],\n",
       "       [9.00300179e-07, 1.04441246e+01, 2.50787844e+08],\n",
       "       [9.05312387e-07, 1.18923075e+01, 3.31843536e+08],\n",
       "       [9.10324595e-07, 1.38510761e+01, 4.58315552e+08],\n",
       "       [9.14136640e-07, 1.58672193e+01, 6.08501960e+08],\n",
       "       [9.17948685e-07, 1.86071581e+01, 8.45524585e+08],\n",
       "       [9.20535067e-07, 2.10966628e+01, 1.09314779e+09],\n",
       "       [9.23121449e-07, 2.43762789e+01, 1.46687758e+09],\n",
       "       [9.25707830e-07, 2.88955544e+01, 2.07141366e+09],\n",
       "       [9.27247799e-07, 3.24888497e+01, 2.62382607e+09],\n",
       "       [9.28787767e-07, 3.71118524e+01, 3.42958694e+09],\n",
       "       [9.30327735e-07, 4.32862683e+01, 4.67469679e+09],\n",
       "       [9.31519303e-07, 4.96918693e+01, 6.16768876e+09],\n",
       "       [9.32710870e-07, 5.83413869e+01, 8.51194583e+09],\n",
       "       [9.33608233e-07, 6.71472109e+01, 1.12820625e+10],\n",
       "       [9.34505597e-07, 7.91015526e+01, 1.56696836e+10],\n",
       "       [9.35111130e-07, 8.98977908e+01, 2.02408564e+10],\n",
       "       [9.35716664e-07, 1.04112171e+02, 2.71520138e+10],\n",
       "       [9.36322197e-07, 1.23700732e+02, 3.83586694e+10],\n",
       "       [9.36681410e-07, 1.39220112e+02, 4.85779738e+10],\n",
       "       [9.37040623e-07, 1.59184865e+02, 6.34971094e+10],\n",
       "       [9.37399836e-07, 1.85853758e+02, 8.65785196e+10],\n",
       "       [9.37677195e-07, 2.13466223e+02, 1.14219805e+11],\n",
       "       [9.37954553e-07, 2.50751799e+02, 1.57643511e+11],\n",
       "       [9.38163262e-07, 2.88686830e+02, 2.08939036e+11],\n",
       "       [9.38371972e-07, 3.40184860e+02, 2.90210644e+11],\n",
       "       [9.38512671e-07, 3.86640805e+02, 3.74804842e+11],\n",
       "       [9.38653371e-07, 4.47792316e+02, 5.02684415e+11],\n",
       "       [9.38794070e-07, 5.32047681e+02, 7.10007045e+11],\n",
       "       [9.38877561e-07, 5.98812236e+02, 8.99100181e+11],\n",
       "       [9.38961052e-07, 6.84694661e+02, 1.17514239e+12],\n",
       "       [9.39044543e-07, 7.99406848e+02, 1.60217656e+12],\n",
       "       [9.39109018e-07, 9.18186750e+02, 2.11361786e+12],\n",
       "       [9.39173492e-07, 1.07857172e+03, 2.91705731e+12],\n",
       "       [9.39222011e-07, 1.24172943e+03, 3.86608348e+12],\n",
       "       [9.39270530e-07, 1.46321610e+03, 5.36964701e+12],\n",
       "       [9.39303257e-07, 1.66316467e+03, 6.93579289e+12],\n",
       "       [9.39335984e-07, 1.92641216e+03, 9.30393296e+12],\n",
       "       [9.39368711e-07, 2.28919543e+03, 1.31445870e+13],\n",
       "       [9.39388121e-07, 2.57654849e+03, 1.66463565e+13],\n",
       "       [9.39407530e-07, 2.94621069e+03, 2.17588763e+13],\n",
       "       [9.39426940e-07, 3.44001221e+03, 2.96690820e+13],\n",
       "       [9.39441924e-07, 3.95121725e+03, 3.91411540e+13],\n",
       "       [9.39456908e-07, 4.64150760e+03, 5.40219882e+13],\n",
       "       [9.39468183e-07, 5.34378807e+03, 7.15999549e+13],\n",
       "       [9.39479459e-07, 6.29715594e+03, 9.94505936e+13],\n",
       "       [9.39487059e-07, 7.15715849e+03, 1.28439408e+14],\n",
       "       [9.39494660e-07, 8.28920736e+03, 1.72261591e+14],\n",
       "       [9.39502261e-07, 9.84896139e+03, 2.43308253e+14],\n",
       "       [9.39506771e-07, 1.10849049e+04, 3.08107370e+14],\n",
       "       [9.39511281e-07, 1.26747579e+04, 4.02702815e+14],\n",
       "       [9.39515792e-07, 1.47983083e+04, 5.49041542e+14],\n",
       "       [9.39519274e-07, 1.69971436e+04, 7.24304518e+14],\n",
       "       [9.39522757e-07, 1.99661658e+04, 9.99631184e+14],\n",
       "       [9.39525378e-07, 2.29865087e+04, 1.32484778e+15],\n",
       "       [9.39527999e-07, 2.70866254e+04, 1.84009622e+15],\n",
       "       [9.39529767e-07, 3.07880283e+04, 2.37679029e+15],\n",
       "       [9.39531535e-07, 3.56612062e+04, 3.18831575e+15],\n",
       "       [9.39533303e-07, 4.23769685e+04, 4.50445001e+15],\n",
       "       [9.39534352e-07, 4.76963796e+04, 5.70445305e+15],\n",
       "       [9.39535400e-07, 5.45394779e+04, 7.45643596e+15],\n",
       "       [9.39536449e-07, 6.36806140e+04, 1.01671441e+16],\n",
       "       [9.39537258e-07, 7.31439158e+04, 1.34130792e+16],\n",
       "       [9.39538067e-07, 8.59224009e+04, 1.85125155e+16],\n",
       "       [9.39538677e-07, 9.89228423e+04, 2.45362177e+16],\n",
       "       [9.39539286e-07, 1.16571351e+05, 3.40802090e+16],\n",
       "       [9.39539696e-07, 1.32491503e+05, 4.40142354e+16],\n",
       "       [9.39540107e-07, 1.53447708e+05, 5.90314323e+16],\n",
       "       [9.39540517e-07, 1.82321484e+05, 8.33780456e+16],\n",
       "       [9.39540761e-07, 2.05200960e+05, 1.05583719e+17],\n",
       "       [9.39541005e-07, 2.34631919e+05, 1.38000143e+17],\n",
       "       [9.39541248e-07, 2.73942552e+05, 1.88148204e+17],\n",
       "       [9.39541436e-07, 3.14646837e+05, 2.48208166e+17],\n",
       "       [9.39541625e-07, 3.69608631e+05, 3.42558436e+17],\n",
       "       [9.39541766e-07, 4.25520457e+05, 4.54005228e+17],\n",
       "       [9.39541908e-07, 5.01420787e+05, 6.30573047e+17],\n",
       "       [9.39542003e-07, 5.69940226e+05, 8.14489961e+17],\n",
       "       [9.39542099e-07, 6.60151268e+05, 1.09258742e+18],\n",
       "       [9.39542194e-07, 7.84471771e+05, 1.54360665e+18],\n",
       "       [9.39542251e-07, 8.82943370e+05, 1.95482948e+18],\n",
       "       [9.39542308e-07, 1.00962108e+06, 2.55520744e+18],\n",
       "       [9.39542364e-07, 1.17883949e+06, 3.48412598e+18],\n",
       "       [9.39542408e-07, 1.35402175e+06, 4.59645869e+18],\n",
       "       [9.39542452e-07, 1.59057385e+06, 6.34395810e+18],\n",
       "       [9.39542485e-07, 1.83123475e+06, 8.40818942e+18],\n",
       "       [9.39542517e-07, 2.15793951e+06, 1.16787704e+19],\n",
       "       [9.39542540e-07, 2.45264935e+06, 1.50830105e+19],\n",
       "       [9.39542562e-07, 2.84058535e+06, 2.02291760e+19],\n",
       "       [9.39542584e-07, 3.37508942e+06, 2.85723909e+19],\n",
       "       [9.39542597e-07, 3.79862852e+06, 3.61819382e+19],\n",
       "       [9.39542610e-07, 4.34344702e+06, 4.72905546e+19],\n",
       "       [9.39542623e-07, 5.07115556e+06, 6.44755342e+19],\n",
       "       [9.39542634e-07, 5.82466305e+06, 8.50571717e+19],\n",
       "       [9.39542644e-07, 6.84210194e+06, 1.17389577e+20],\n",
       "       [9.39542651e-07, 7.87712759e+06, 1.55580702e+20],\n",
       "       [9.39542659e-07, 9.28217538e+06, 2.16087813e+20],\n",
       "       [9.39542664e-07, 1.05505900e+07, 2.79113348e+20],\n",
       "       [9.39542669e-07, 1.22205541e+07, 3.74413127e+20],\n",
       "       [9.39542675e-07, 1.45219439e+07, 5.28970573e+20],\n",
       "       [9.39542678e-07, 1.63448254e+07, 6.69890395e+20],\n",
       "       [9.39542681e-07, 1.86898513e+07, 8.75630808e+20],\n",
       "       [9.39542684e-07, 2.18223799e+07, 1.19395709e+21],\n",
       "       [9.39542686e-07, 2.50653099e+07, 1.57513664e+21],\n",
       "       [9.39542688e-07, 2.94443028e+07, 2.17397817e+21],\n",
       "       [9.39542690e-07, 3.38993568e+07, 2.88135893e+21],\n",
       "       [9.39542692e-07, 3.99472331e+07, 4.00213742e+21],\n",
       "       [9.39542693e-07, 4.54028275e+07, 5.16871882e+21],\n",
       "       [9.39542694e-07, 5.25842008e+07, 6.93223159e+21],\n",
       "       [9.39542696e-07, 6.24788054e+07, 9.79132460e+21],\n",
       "       [9.39542696e-07, 7.03192544e+07, 1.23990010e+22],\n",
       "       [9.39542697e-07, 8.04047973e+07, 1.62057551e+22],\n",
       "       [9.39542698e-07, 9.38759545e+07, 2.20947867e+22],\n",
       "       [9.39542698e-07, 1.07824696e+08, 2.91478019e+22],\n",
       "       [9.39542699e-07, 1.26659271e+08, 4.02276280e+22],\n",
       "       [9.39542699e-07, 1.45819404e+08, 5.33151459e+22],\n",
       "       [9.39542700e-07, 1.71829291e+08, 7.40500118e+22],\n",
       "       [9.39542700e-07, 1.95309862e+08, 9.56479046e+22],\n",
       "       [9.39542700e-07, 2.26223813e+08, 1.28305687e+23],\n",
       "       [9.39542701e-07, 2.68826556e+08, 1.81270168e+23],\n",
       "       [9.39542701e-07, 3.02571281e+08, 2.29561255e+23],\n",
       "       [9.39542701e-07, 3.45981823e+08, 3.00065391e+23],\n",
       "       [9.39542701e-07, 4.03970428e+08, 4.09151026e+23],\n",
       "       [9.39542701e-07, 4.64002728e+08, 5.39775471e+23],\n",
       "       [9.39542701e-07, 5.45065534e+08, 7.44989359e+23],\n",
       "       [9.39542701e-07, 6.27536390e+08, 9.87398074e+23],\n",
       "       [9.39542701e-07, 7.39493203e+08, 1.37147206e+24],\n",
       "       [9.39542702e-07, 8.40485829e+08, 1.77124200e+24],\n",
       "       [9.39542702e-07, 9.73425705e+08, 2.37557164e+24],\n",
       "       [9.39542702e-07, 1.15659233e+09, 3.35534073e+24],\n",
       "       [9.39542702e-07, 1.30173289e+09, 4.24895309e+24],\n",
       "       [9.39542702e-07, 1.48843424e+09, 5.55347289e+24],\n",
       "       [9.39542702e-07, 1.73780947e+09, 7.57156064e+24],\n",
       "       [9.39542702e-07, 1.99602531e+09, 9.98852627e+24],\n",
       "       [9.39542702e-07, 2.34468670e+09, 1.37854233e+25],\n",
       "       [9.39542702e-07, 2.69937407e+09, 1.82703179e+25],\n",
       "       [9.39542702e-07, 3.18086155e+09, 2.53758302e+25],\n",
       "       [9.39542702e-07, 3.61552844e+09, 3.27771112e+25],\n",
       "       [9.39542702e-07, 4.18780058e+09, 4.39684600e+25],\n",
       "       [9.39542702e-07, 4.97645332e+09, 6.21186303e+25],\n",
       "       [9.39542702e-07, 5.60112896e+09, 7.86673161e+25],\n",
       "       [9.39542702e-07, 6.40473803e+09, 1.02828167e+26],\n",
       "       [9.39542702e-07, 7.47821568e+09, 1.40210479e+26],\n",
       "       [9.39542702e-07, 8.58951572e+09, 1.84973457e+26],\n",
       "       [9.39542702e-07, 1.00901185e+10, 2.55296663e+26],\n",
       "       [9.39542702e-07, 1.16168023e+10, 3.38366708e+26],\n",
       "       [9.39542702e-07, 1.36893253e+10, 4.69983566e+26],\n",
       "       [9.39542702e-07, 1.55588630e+10, 6.06977750e+26],\n",
       "       [9.39542702e-07, 1.80197722e+10, 8.14068683e+26],\n",
       "       [9.39542702e-07, 2.14104259e+10, 1.14981135e+27],\n",
       "       [9.39542702e-07, 2.40971853e+10, 1.45603135e+27],\n",
       "       [9.39542702e-07, 2.75532486e+10, 1.90305302e+27],\n",
       "       [9.39542702e-07, 3.21694342e+10, 2.59458484e+27],\n",
       "       [9.39542702e-07, 3.69493753e+10, 3.42281498e+27],\n",
       "       [9.39542702e-07, 4.34035292e+10, 4.72389721e+27],\n",
       "       [9.39542702e-07, 4.99692090e+10, 6.26072584e+27],\n",
       "       [9.39542702e-07, 5.88819020e+10, 8.69549198e+27],\n",
       "       [9.39542702e-07, 6.69281198e+10, 1.12316641e+28],\n",
       "       [9.39542702e-07, 7.75213973e+10, 1.50664955e+28],\n",
       "       [9.39542702e-07, 9.21199168e+10, 2.12857495e+28],\n",
       "       [9.39542702e-07, 1.03682747e+11, 2.69560200e+28],\n",
       "       [9.39542702e-07, 1.18556611e+11, 3.52338854e+28],\n",
       "       [9.39542702e-07, 1.38424427e+11, 4.80407497e+28],\n",
       "       [9.39542702e-07, 1.58995325e+11, 6.33782860e+28],\n",
       "       [9.39542702e-07, 1.86772204e+11, 8.74735596e+28],\n",
       "       [9.39542702e-07, 2.15025078e+11, 1.15930838e+29],\n",
       "       [9.39542702e-07, 2.53374667e+11, 1.61011719e+29],\n",
       "       [9.39542702e-07, 2.87999662e+11, 2.07975047e+29],\n",
       "       [9.39542702e-07, 3.33584489e+11, 2.78985143e+29],\n",
       "       [9.39542702e-07, 3.96404442e+11, 3.94147927e+29],\n",
       "       [9.39542702e-07, 4.46173818e+11, 4.99174547e+29],\n",
       "       [9.39542702e-07, 5.10213361e+11, 6.52550193e+29],\n",
       "       [9.39542702e-07, 5.95772506e+11, 8.89909710e+29],\n",
       "       [9.39542702e-07, 6.84293894e+11, 1.17397102e+30],\n",
       "       [9.39542702e-07, 8.03811402e+11, 1.62017086e+30],\n",
       "       [9.39542702e-07, 9.25445481e+11, 2.14741774e+30],\n",
       "       [9.39542702e-07, 1.09058166e+12, 2.98287848e+30],\n",
       "       [9.39542702e-07, 1.23941662e+12, 3.85166171e+30],\n",
       "       [9.39542702e-07, 1.43516854e+12, 5.16373792e+30],\n",
       "       [9.39542702e-07, 1.70470310e+12, 7.28904030e+30],\n",
       "       [9.39542702e-07, 1.91856353e+12, 9.22968030e+30],\n",
       "       [9.39542702e-07, 2.19358995e+12, 1.20618100e+31],\n",
       "       [9.39542702e-07, 2.56085850e+12, 1.64418039e+31],\n",
       "       [9.39542702e-07, 2.94128441e+12, 2.16889766e+31],\n",
       "       [9.39542702e-07, 3.45477353e+12, 2.99285281e+31],\n",
       "       [9.39542702e-07, 3.97730379e+12, 3.96635907e+31],\n",
       "       [9.39542702e-07, 4.68636715e+12, 5.50805695e+31],\n",
       "       [9.39542702e-07, 5.32869462e+12, 7.12002746e+31],\n",
       "       [9.39542702e-07, 6.17726382e+12, 9.56703190e+31],\n",
       "       [9.39542702e-07, 6.99030306e+12, 1.22483331e+32],\n",
       "       [9.39542702e-07, 8.05181761e+12, 1.62491785e+32],\n",
       "       [9.39542702e-07, 9.49566349e+12, 2.26087147e+32],\n",
       "       [9.39542702e-07, 1.09335791e+13, 2.99734635e+32],\n",
       "       [9.39542702e-07, 1.28822594e+13, 4.16190429e+32],\n",
       "       [9.39542702e-07, 1.48592550e+13, 5.53733154e+32],\n",
       "       [9.39542702e-07, 1.75676847e+13, 7.74168557e+32],\n",
       "       [9.39542702e-07, 1.99826446e+13, 1.00140436e+33],\n",
       "       [9.39542702e-07, 2.31833809e+13, 1.34768044e+33],\n",
       "       [9.39542702e-07, 2.62384511e+13, 1.72589519e+33],\n",
       "       [9.39542702e-07, 3.02425418e+13, 2.29255313e+33],\n",
       "       [9.39542702e-07, 3.57015184e+13, 3.19612561e+33],\n",
       "       [9.39542702e-07, 4.11423609e+13, 4.24494637e+33],\n",
       "       [9.39542702e-07, 4.85843172e+13, 5.92096651e+33],\n",
       "       [9.39542702e-07, 5.58822892e+13, 7.83050448e+33]])"
      ]
     },
     "execution_count": 19,
     "metadata": {},
     "output_type": "execute_result"
    }
   ],
   "source": [
    "np.hstack( (y_scipyBDF.t.reshape((-1,1)), y_scipyBDF.y.transpose()) )"
   ]
  },
  {
   "cell_type": "code",
   "execution_count": 20,
   "metadata": {},
   "outputs": [
    {
     "data": {
      "text/plain": [
       "array([0.00000000e+00, 9.70983544e-13, 1.94196709e-12, 1.16518025e-11, 2.13616380e-11, 1.03218641e-10, 1.85075643e-10, 2.66932646e-10,\n",
       "       1.08550267e-09, 1.90407270e-09, 2.72264273e-09, 7.43238701e-09, 1.21421313e-08, 1.68518756e-08, 2.15616199e-08, 3.86211747e-08,\n",
       "       5.56807296e-08, 7.27402845e-08, 8.97998394e-08, 1.06859394e-07, 1.33384671e-07, 1.59909947e-07, 1.86435223e-07, 2.12960500e-07,\n",
       "       2.39485776e-07, 2.66011052e-07, 2.95467144e-07, 3.24923235e-07, 3.54379326e-07, 3.83835418e-07, 4.13291509e-07, 4.42747601e-07,\n",
       "       4.72784333e-07, 5.02821065e-07, 5.32857797e-07, 5.62894530e-07, 5.92931262e-07, 6.22967994e-07, 6.51812638e-07, 6.80657281e-07,\n",
       "       7.09501925e-07, 7.38346568e-07, 7.61231357e-07, 7.84116145e-07, 8.02621100e-07, 8.21126055e-07, 8.35750975e-07, 8.50375894e-07,\n",
       "       8.60676348e-07, 8.70976802e-07, 8.81277257e-07, 8.87618231e-07, 8.93959205e-07, 9.00300179e-07, 9.05312387e-07, 9.10324595e-07,\n",
       "       9.14136640e-07, 9.17948685e-07, 9.20535067e-07, 9.23121449e-07, 9.25707830e-07, 9.27247799e-07, 9.28787767e-07, 9.30327735e-07,\n",
       "       9.31519303e-07, 9.32710870e-07, 9.33608233e-07, 9.34505597e-07, 9.35111130e-07, 9.35716664e-07, 9.36322197e-07, 9.36681410e-07,\n",
       "       9.37040623e-07, 9.37399836e-07, 9.37677195e-07, 9.37954553e-07, 9.38163262e-07, 9.38371972e-07, 9.38512671e-07, 9.38653371e-07,\n",
       "       9.38794070e-07, 9.38877561e-07, 9.38961052e-07, 9.39044543e-07, 9.39109018e-07, 9.39173492e-07, 9.39222011e-07, 9.39270530e-07,\n",
       "       9.39303257e-07, 9.39335984e-07, 9.39368711e-07, 9.39388121e-07, 9.39407530e-07, 9.39426940e-07, 9.39441924e-07, 9.39456908e-07,\n",
       "       9.39468183e-07, 9.39479459e-07, 9.39487059e-07, 9.39494660e-07, 9.39502261e-07, 9.39506771e-07, 9.39511281e-07, 9.39515792e-07,\n",
       "       9.39519274e-07, 9.39522757e-07, 9.39525378e-07, 9.39527999e-07, 9.39529767e-07, 9.39531535e-07, 9.39533303e-07, 9.39534352e-07,\n",
       "       9.39535400e-07, 9.39536449e-07, 9.39537258e-07, 9.39538067e-07, 9.39538677e-07, 9.39539286e-07, 9.39539696e-07, 9.39540107e-07,\n",
       "       9.39540517e-07, 9.39540761e-07, 9.39541005e-07, 9.39541248e-07, 9.39541436e-07, 9.39541625e-07, 9.39541766e-07, 9.39541908e-07,\n",
       "       9.39542003e-07, 9.39542099e-07, 9.39542194e-07, 9.39542251e-07, 9.39542308e-07, 9.39542364e-07, 9.39542408e-07, 9.39542452e-07,\n",
       "       9.39542485e-07, 9.39542517e-07, 9.39542540e-07, 9.39542562e-07, 9.39542584e-07, 9.39542597e-07, 9.39542610e-07, 9.39542623e-07,\n",
       "       9.39542634e-07, 9.39542644e-07, 9.39542651e-07, 9.39542659e-07, 9.39542664e-07, 9.39542669e-07, 9.39542675e-07, 9.39542678e-07,\n",
       "       9.39542681e-07, 9.39542684e-07, 9.39542686e-07, 9.39542688e-07, 9.39542690e-07, 9.39542692e-07, 9.39542693e-07, 9.39542694e-07,\n",
       "       9.39542696e-07, 9.39542696e-07, 9.39542697e-07, 9.39542698e-07, 9.39542698e-07, 9.39542699e-07, 9.39542699e-07, 9.39542700e-07,\n",
       "       9.39542700e-07, 9.39542700e-07, 9.39542701e-07, 9.39542701e-07, 9.39542701e-07, 9.39542701e-07, 9.39542701e-07, 9.39542701e-07,\n",
       "       9.39542701e-07, 9.39542701e-07, 9.39542702e-07, 9.39542702e-07, 9.39542702e-07, 9.39542702e-07, 9.39542702e-07, 9.39542702e-07,\n",
       "       9.39542702e-07, 9.39542702e-07, 9.39542702e-07, 9.39542702e-07, 9.39542702e-07, 9.39542702e-07, 9.39542702e-07, 9.39542702e-07,\n",
       "       9.39542702e-07, 9.39542702e-07, 9.39542702e-07, 9.39542702e-07, 9.39542702e-07, 9.39542702e-07, 9.39542702e-07, 9.39542702e-07,\n",
       "       9.39542702e-07, 9.39542702e-07, 9.39542702e-07, 9.39542702e-07, 9.39542702e-07, 9.39542702e-07, 9.39542702e-07, 9.39542702e-07,\n",
       "       9.39542702e-07, 9.39542702e-07, 9.39542702e-07, 9.39542702e-07, 9.39542702e-07, 9.39542702e-07, 9.39542702e-07, 9.39542702e-07,\n",
       "       9.39542702e-07, 9.39542702e-07, 9.39542702e-07, 9.39542702e-07, 9.39542702e-07, 9.39542702e-07, 9.39542702e-07, 9.39542702e-07,\n",
       "       9.39542702e-07, 9.39542702e-07, 9.39542702e-07, 9.39542702e-07, 9.39542702e-07, 9.39542702e-07, 9.39542702e-07, 9.39542702e-07,\n",
       "       9.39542702e-07, 9.39542702e-07, 9.39542702e-07, 9.39542702e-07, 9.39542702e-07, 9.39542702e-07, 9.39542702e-07, 9.39542702e-07,\n",
       "       9.39542702e-07, 9.39542702e-07, 9.39542702e-07, 9.39542702e-07, 9.39542702e-07, 9.39542702e-07, 9.39542702e-07, 9.39542702e-07,\n",
       "       9.39542702e-07, 9.39542702e-07, 9.39542702e-07, 9.39542702e-07, 9.39542702e-07, 9.39542702e-07, 9.39542702e-07])"
      ]
     },
     "execution_count": 20,
     "metadata": {},
     "output_type": "execute_result"
    }
   ],
   "source": [
    "y_scipyBDF.t"
   ]
  },
  {
   "cell_type": "code",
   "execution_count": 21,
   "metadata": {},
   "outputs": [
    {
     "data": {
      "text/plain": [
       "False"
      ]
     },
     "execution_count": 21,
     "metadata": {},
     "output_type": "execute_result"
    }
   ],
   "source": [
    "y_scipyBDF.success"
   ]
  },
  {
   "cell_type": "code",
   "execution_count": 22,
   "metadata": {
    "scrolled": true
   },
   "outputs": [
    {
     "data": {
      "text/plain": [
       "Text(0.5, 1.0, \"numerical solution of equation 0 = yy' + gp - nu * v'' with nu = 2e-07 gp=200.0\")"
      ]
     },
     "execution_count": 22,
     "metadata": {},
     "output_type": "execute_result"
    },
    {
     "data": {
      "image/png": "[encoded data removed]",
      "text/plain": [
       "<Figure size 432x288 with 1 Axes>"
      ]
     },
     "metadata": {
      "needs_background": "light"
     },
     "output_type": "display_data"
    }
   ],
   "source": [
    "# print(y_numRG4)\n",
    "plt.figure()\n",
    "plt.plot(y_scipyBDF.t, y_scipyBDF.y[0,:])\n",
    "plt.plot(y_scipyRK.t, y_scipyRK.y[0,:])\n",
    "#plt.plot(xs, y_numEuler[:,1])\n",
    "#plt.plot(xs, y_numRG4[:, 1])\n",
    "\n",
    "plt.legend(['scipy_library BDF','scipy_library RK45', 'Adam_Euler', 'Adam_RG4'])\n",
    "plt.title(\"numerical solution of equation 0 = yy' + gp - nu * v'' with nu = {} gp={}\".format(round(nu,10),gp))"
   ]
  },
  {
   "cell_type": "markdown",
   "metadata": {},
   "source": [
    "# 0=vv' + (pD)' - nu * v'' differential equation\n",
    "assuming D and nu constant we can integrate this equation:\n",
    "const = C = v^2/2 + pD + nu * v' from that we get equation:\n",
    "\n",
    "**v' = 1/nu * (v^2/2 + pD - C)**\n",
    "\n",
    "where p is either constant, or p = p0 + g_p * x "
   ]
  },
  {
   "cell_type": "code",
   "execution_count": 23,
   "metadata": {},
   "outputs": [],
   "source": [
    "def diffModelP5(v, x, nu, gp, C0):\n",
    "    \"\"\"v' = 1/nu * (v^2/2 + C0 + gp * x )     diffequation , gp is a constant : the pressure gradient/density, v is speed\n",
    "    :param v: speed\n",
    "    :param x: spatial coordinate\n",
    "    :return: v'\n",
    "    \"\"\"\n",
    "    dvdx = 1 / nu * (math.pow(v,2.0)/ 2.0 + C0 - gp * x)\n",
    "    return np.array([dvdx])\n",
    "\n"
   ]
  },
  {
   "cell_type": "code",
   "execution_count": 24,
   "metadata": {},
   "outputs": [],
   "source": [
    "def evaluateDEq(diffModel, nu , gp, xs, v0 = 3.0, w0 = 0.0, *args):\n",
    "    xdiv = 2*nu / v0\n",
    "    print('theoretical divergence at: {}'.format(xdiv))\n",
    "    print(' gp parameter {} kin viscosity {}'.format(gp, nu))\n",
    "    initvals = np.array([v0])  # [v0, v'0]  [m/s , 1/s]\n",
    "\n",
    "    func = lambda v, x: diffModel(v, x, nu,gp , *args)\n",
    "    y_numEuler = numSolvers.IVEuler(func, initvals, xs)\n",
    "    y_numRG4 = numSolvers.RungeKutta4(func, initvals, xs)\n",
    "    y_retro2 = numSolvers.IVRetorgrad2(func, initvals, xs)\n",
    "    retro2_div = y_retro2[y_retro2[:, 1] < 1.0e10][-1, 0]\n",
    "    print(\"retrograde 2 method diverges at {}\".format(retro2_div))\n",
    "    funcrev = lambda t, v: diffModel(v, t, nu, gp, *args)\n",
    "    y_scipy = scipy.integrate.solve_ivp(funcrev, [xs.min(), xs.max()], initvals,\n",
    "                                        method='RK45')\n",
    "    y_bdf = scipy.integrate.solve_ivp(funcrev, [xs.min(), xs.max()], initvals,\n",
    "                                        method='BDF')\n",
    "    #print(y_numRG4)\n",
    "    plt.figure()\n",
    "    plt.plot(xs, y_numEuler[:, 1])\n",
    "    plt.plot(xs, y_numRG4[:, 1])\n",
    "    plt.plot(xs, y_retro2[:, 1])\n",
    "    plt.plot(y_scipy.t, y_scipy.y[0, :])\n",
    "    plt.plot(y_bdf.t, y_bdf.y[0, :])\n",
    "    plt.legend(['Adam_Euler', 'Adam_RG4', 'Adam_retro2', 'scipy_library RK45', 'scipy_bdf'])\n",
    "    plt.title(\"numerical solution of equation yy'= nu * v'' - gp . \\n nu {} gp {}\".format(nu, gp))\n",
    "    divpoint = np.max(np.nonzero(y_scipy.y[0, :] < 1e10 ) )\n",
    "    divergentX = y_scipy.t[divpoint] # it starts to diverge in this point\n",
    "    print(\"scipy solution diverges at {}\".format(divergentX))\n",
    "    if (divergentX == xs.max()):\n",
    "        print('last value {}'.format( y_scipy.y[0, -1]) )\n",
    "    return [divergentX, retro2_div, y_retro2, y_scipy, y_bdf]"
   ]
  },
  {
   "cell_type": "code",
   "execution_count": 25,
   "metadata": {},
   "outputs": [],
   "source": [
    "L = 0.1  # meter\n",
    "xs = np.linspace(0, L, 100)  # meter\n",
    "DeltaP = 3e5  # 0.1bar\n",
    "D = 500  # kg/m^3\n",
    "gp = DeltaP / L / D\n",
    "#gp = 0.0\n",
    "# nu for butane is approx 3 *1e-7 m^2/sec\n",
    "nu = 3.0e-3 # it converges with nu = 3.0e-2 \n",
    "v0 = 0.01\n",
    "dvdx0 = 0.1 # for 19 it will be divergent\n",
    "C0 = nu* dvdx0 -v0**2/2.0\n",
    "#C0 = 100. -v0**2/2.0\n",
    "#C0 = -50.10\n"
   ]
  },
  {
   "cell_type": "code",
   "execution_count": 26,
   "metadata": {},
   "outputs": [
    {
     "name": "stdout",
     "output_type": "stream",
     "text": [
      "theoretical divergence at: 0.6\n",
      " gp parameter 6000.0 kin viscosity 0.003\n",
      "ERROR: OverflowError occured in IVEuler at \n",
      "iter: 22 t : 0.022222222222222223\n",
      "[3.51313892e+301]\n",
      "ERROR: OverflowError occured in IVEuler at \n",
      "iter: 23 t : 0.023232323232323233\n",
      "[3.51313892e+301]\n",
      "ERROR: OverflowError occured in IVEuler at \n",
      "iter: 24 t : 0.024242424242424242\n",
      "[3.51313892e+301]\n",
      "ERROR: OverflowError occured in IVEuler at \n",
      "iter: 25 t : 0.025252525252525252\n",
      "[3.51313892e+301]\n",
      "ERROR: OverflowError occured in IVEuler at \n",
      "iter: 26 t : 0.026262626262626262\n",
      "[3.51313892e+301]\n",
      "ERROR: OverflowError occured in IVEuler at \n",
      "iter: 27 t : 0.02727272727272727\n",
      "[3.51313892e+301]\n",
      "ERROR: OverflowError occured in IVEuler at \n",
      "iter: 28 t : 0.028282828282828285\n",
      "[3.51313892e+301]\n",
      "ERROR: OverflowError occured in IVEuler at \n",
      "iter: 29 t : 0.029292929292929294\n",
      "[3.51313892e+301]\n",
      "ERROR: OverflowError occured in IVEuler at \n",
      "iter: 30 t : 0.030303030303030304\n",
      "[3.51313892e+301]\n",
      "ERROR: OverflowError occured in IVEuler at \n",
      "iter: 31 t : 0.031313131313131314\n",
      "[3.51313892e+301]\n",
      "ERROR: OverflowError occured in IVEuler at \n",
      "iter: 32 t : 0.03232323232323232\n",
      "[3.51313892e+301]\n",
      "ERROR: OverflowError occured in IVEuler at \n",
      "iter: 33 t : 0.03333333333333333\n",
      "[3.51313892e+301]\n",
      "ERROR: OverflowError occured in IVEuler at \n",
      "iter: 34 t : 0.03434343434343434\n",
      "[3.51313892e+301]\n",
      "ERROR: OverflowError occured in IVEuler at \n",
      "iter: 35 t : 0.03535353535353535\n",
      "[3.51313892e+301]\n",
      "ERROR: OverflowError occured in IVEuler at \n",
      "iter: 36 t : 0.03636363636363636\n",
      "[3.51313892e+301]\n",
      "ERROR: OverflowError occured in IVEuler at \n",
      "iter: 37 t : 0.03737373737373737\n",
      "[3.51313892e+301]\n",
      "ERROR: OverflowError occured in IVEuler at \n",
      "iter: 38 t : 0.03838383838383838\n",
      "[3.51313892e+301]\n",
      "ERROR: OverflowError occured in IVEuler at \n",
      "iter: 39 t : 0.03939393939393939\n",
      "[3.51313892e+301]\n",
      "ERROR: OverflowError occured in IVEuler at \n",
      "iter: 40 t : 0.0404040404040404\n",
      "[3.51313892e+301]\n",
      "ERROR: OverflowError occured in IVEuler at \n",
      "iter: 41 t : 0.04141414141414142\n",
      "[3.51313892e+301]\n",
      "ERROR: OverflowError occured in IVEuler at \n",
      "iter: 42 t : 0.04242424242424243\n",
      "[3.51313892e+301]\n",
      "ERROR: OverflowError occured in IVEuler at \n",
      "iter: 43 t : 0.043434343434343436\n",
      "[3.51313892e+301]\n",
      "ERROR: OverflowError occured in IVEuler at \n",
      "iter: 44 t : 0.044444444444444446\n",
      "[3.51313892e+301]\n",
      "ERROR: OverflowError occured in IVEuler at \n",
      "iter: 45 t : 0.045454545454545456\n",
      "[3.51313892e+301]\n",
      "ERROR: OverflowError occured in IVEuler at \n",
      "iter: 46 t : 0.046464646464646465\n",
      "[3.51313892e+301]\n",
      "ERROR: OverflowError occured in IVEuler at \n",
      "iter: 47 t : 0.047474747474747475\n",
      "[3.51313892e+301]\n",
      "ERROR: OverflowError occured in IVEuler at \n",
      "iter: 48 t : 0.048484848484848485\n",
      "[3.51313892e+301]\n",
      "ERROR: OverflowError occured in IVEuler at \n",
      "iter: 49 t : 0.049494949494949494\n",
      "[3.51313892e+301]\n",
      "ERROR: OverflowError occured in IVEuler at \n",
      "iter: 50 t : 0.050505050505050504\n",
      "[3.51313892e+301]\n",
      "ERROR: OverflowError occured in IVEuler at \n",
      "iter: 51 t : 0.051515151515151514\n",
      "[3.51313892e+301]\n",
      "ERROR: OverflowError occured in IVEuler at \n",
      "iter: 52 t : 0.052525252525252523\n",
      "[3.51313892e+301]\n",
      "ERROR: OverflowError occured in IVEuler at \n",
      "iter: 53 t : 0.05353535353535353\n",
      "[3.51313892e+301]\n",
      "ERROR: OverflowError occured in IVEuler at \n",
      "iter: 54 t : 0.05454545454545454\n",
      "[3.51313892e+301]\n",
      "ERROR: OverflowError occured in IVEuler at \n",
      "iter: 55 t : 0.05555555555555555\n",
      "[3.51313892e+301]\n",
      "ERROR: OverflowError occured in IVEuler at \n",
      "iter: 56 t : 0.05656565656565657\n",
      "[3.51313892e+301]\n",
      "ERROR: OverflowError occured in IVEuler at \n",
      "iter: 57 t : 0.05757575757575758\n",
      "[3.51313892e+301]\n",
      "ERROR: OverflowError occured in IVEuler at \n",
      "iter: 58 t : 0.05858585858585859\n",
      "[3.51313892e+301]\n",
      "ERROR: OverflowError occured in IVEuler at \n",
      "iter: 59 t : 0.0595959595959596\n",
      "[3.51313892e+301]\n",
      "ERROR: OverflowError occured in IVEuler at \n",
      "iter: 60 t : 0.06060606060606061\n",
      "[3.51313892e+301]\n",
      "ERROR: OverflowError occured in IVEuler at \n",
      "iter: 61 t : 0.06161616161616162\n",
      "[3.51313892e+301]\n",
      "ERROR: OverflowError occured in IVEuler at \n",
      "iter: 62 t : 0.06262626262626263\n",
      "[3.51313892e+301]\n",
      "ERROR: OverflowError occured in IVEuler at \n",
      "iter: 63 t : 0.06363636363636363\n",
      "[3.51313892e+301]\n",
      "ERROR: OverflowError occured in IVEuler at \n",
      "iter: 64 t : 0.06464646464646465\n",
      "[3.51313892e+301]\n",
      "ERROR: OverflowError occured in IVEuler at \n",
      "iter: 65 t : 0.06565656565656566\n",
      "[3.51313892e+301]\n",
      "ERROR: OverflowError occured in IVEuler at \n",
      "iter: 66 t : 0.06666666666666667\n",
      "[3.51313892e+301]\n",
      "ERROR: OverflowError occured in IVEuler at \n",
      "iter: 67 t : 0.06767676767676768\n",
      "[3.51313892e+301]\n",
      "ERROR: OverflowError occured in IVEuler at \n",
      "iter: 68 t : 0.06868686868686869\n",
      "[3.51313892e+301]\n",
      "ERROR: OverflowError occured in IVEuler at \n",
      "iter: 69 t : 0.0696969696969697\n",
      "[3.51313892e+301]\n",
      "ERROR: OverflowError occured in IVEuler at \n",
      "iter: 70 t : 0.0707070707070707\n",
      "[3.51313892e+301]\n",
      "ERROR: OverflowError occured in IVEuler at \n",
      "iter: 71 t : 0.07171717171717172\n",
      "[3.51313892e+301]\n",
      "ERROR: OverflowError occured in IVEuler at \n",
      "iter: 72 t : 0.07272727272727272\n",
      "[3.51313892e+301]\n",
      "ERROR: OverflowError occured in IVEuler at \n",
      "iter: 73 t : 0.07373737373737374\n",
      "[3.51313892e+301]\n",
      "ERROR: OverflowError occured in IVEuler at \n",
      "iter: 74 t : 0.07474747474747474\n",
      "[3.51313892e+301]\n",
      "ERROR: OverflowError occured in IVEuler at \n",
      "iter: 75 t : 0.07575757575757576\n",
      "[3.51313892e+301]\n",
      "ERROR: OverflowError occured in IVEuler at \n",
      "iter: 76 t : 0.07676767676767676\n",
      "[3.51313892e+301]\n",
      "ERROR: OverflowError occured in IVEuler at \n",
      "iter: 77 t : 0.07777777777777778\n",
      "[3.51313892e+301]\n",
      "ERROR: OverflowError occured in IVEuler at \n",
      "iter: 78 t : 0.07878787878787878\n",
      "[3.51313892e+301]\n",
      "ERROR: OverflowError occured in IVEuler at \n",
      "iter: 79 t : 0.0797979797979798\n",
      "[3.51313892e+301]\n",
      "ERROR: OverflowError occured in IVEuler at \n",
      "iter: 80 t : 0.0808080808080808\n",
      "[3.51313892e+301]\n",
      "ERROR: OverflowError occured in IVEuler at \n",
      "iter: 81 t : 0.08181818181818182\n",
      "[3.51313892e+301]\n",
      "ERROR: OverflowError occured in IVEuler at \n",
      "iter: 82 t : 0.08282828282828283\n",
      "[3.51313892e+301]\n",
      "ERROR: OverflowError occured in IVEuler at \n",
      "iter: 83 t : 0.08383838383838384\n",
      "[3.51313892e+301]\n",
      "ERROR: OverflowError occured in IVEuler at \n",
      "iter: 84 t : 0.08484848484848485\n",
      "[3.51313892e+301]\n",
      "ERROR: OverflowError occured in IVEuler at \n",
      "iter: 85 t : 0.08585858585858586\n",
      "[3.51313892e+301]\n",
      "ERROR: OverflowError occured in IVEuler at \n",
      "iter: 86 t : 0.08686868686868687\n",
      "[3.51313892e+301]\n",
      "ERROR: OverflowError occured in IVEuler at \n",
      "iter: 87 t : 0.08787878787878788\n",
      "[3.51313892e+301]\n",
      "ERROR: OverflowError occured in IVEuler at \n",
      "iter: 88 t : 0.08888888888888889\n",
      "[3.51313892e+301]\n",
      "ERROR: OverflowError occured in IVEuler at \n",
      "iter: 89 t : 0.0898989898989899\n",
      "[3.51313892e+301]\n",
      "ERROR: OverflowError occured in IVEuler at \n",
      "iter: 90 t : 0.09090909090909091\n",
      "[3.51313892e+301]\n",
      "ERROR: OverflowError occured in IVEuler at \n",
      "iter: 91 t : 0.09191919191919191\n",
      "[3.51313892e+301]\n",
      "ERROR: OverflowError occured in IVEuler at \n",
      "iter: 92 t : 0.09292929292929293\n",
      "[3.51313892e+301]\n",
      "ERROR: OverflowError occured in IVEuler at \n",
      "iter: 93 t : 0.09393939393939393\n",
      "[3.51313892e+301]\n",
      "ERROR: OverflowError occured in IVEuler at \n",
      "iter: 94 t : 0.09494949494949495\n",
      "[3.51313892e+301]\n",
      "ERROR: OverflowError occured in IVEuler at \n",
      "iter: 95 t : 0.09595959595959595\n",
      "[3.51313892e+301]\n",
      "ERROR: OverflowError occured in IVEuler at \n",
      "iter: 96 t : 0.09696969696969697\n",
      "[3.51313892e+301]\n",
      "ERROR: OverflowError occured in IVEuler at \n",
      "iter: 97 t : 0.09797979797979799\n",
      "[3.51313892e+301]\n",
      "ERROR: OverflowError occured in IVEuler at \n",
      "iter: 98 t : 0.09898989898989899\n",
      "[3.51313892e+301]\n",
      "ERROR: OverflowError occured in IVEuler at \n",
      "iter: 99 t : 0.1\n",
      "[3.51313892e+301]\n"
     ]
    },
    {
     "ename": "OverflowError",
     "evalue": "math range error",
     "output_type": "error",
     "traceback": [
      "\u001b[1;31m---------------------------------------------------------------------------\u001b[0m",
      "\u001b[1;31mOverflowError\u001b[0m                             Traceback (most recent call last)",
      "\u001b[1;32m<ipython-input-26-4adace49a2a6>\u001b[0m in \u001b[0;36m<module>\u001b[1;34m\u001b[0m\n\u001b[1;32m----> 1\u001b[1;33m \u001b[1;33m[\u001b[0m\u001b[0mdivergentX\u001b[0m\u001b[1;33m,\u001b[0m \u001b[0mretro2_div\u001b[0m\u001b[1;33m,\u001b[0m \u001b[0my_retro2\u001b[0m\u001b[1;33m,\u001b[0m \u001b[0my_scipy\u001b[0m\u001b[1;33m,\u001b[0m \u001b[0my_bdf\u001b[0m\u001b[1;33m]\u001b[0m \u001b[1;33m=\u001b[0m \u001b[0mevaluateDEq\u001b[0m\u001b[1;33m(\u001b[0m\u001b[0mdiffModelP5\u001b[0m\u001b[1;33m,\u001b[0m \u001b[0mnu\u001b[0m \u001b[1;33m,\u001b[0m \u001b[0mgp\u001b[0m\u001b[1;33m,\u001b[0m \u001b[0mxs\u001b[0m\u001b[1;33m,\u001b[0m \u001b[0mv0\u001b[0m \u001b[1;33m,\u001b[0m \u001b[0mdvdx0\u001b[0m\u001b[1;33m,\u001b[0m \u001b[0mC0\u001b[0m \u001b[1;33m)\u001b[0m\u001b[1;33m\u001b[0m\u001b[1;33m\u001b[0m\u001b[0m\n\u001b[0m",
      "\u001b[1;32m<ipython-input-24-57bda18d418c>\u001b[0m in \u001b[0;36mevaluateDEq\u001b[1;34m(diffModel, nu, gp, xs, v0, w0, *args)\u001b[0m\n\u001b[0;32m      7\u001b[0m     \u001b[0mfunc\u001b[0m \u001b[1;33m=\u001b[0m \u001b[1;32mlambda\u001b[0m \u001b[0mv\u001b[0m\u001b[1;33m,\u001b[0m \u001b[0mx\u001b[0m\u001b[1;33m:\u001b[0m \u001b[0mdiffModel\u001b[0m\u001b[1;33m(\u001b[0m\u001b[0mv\u001b[0m\u001b[1;33m,\u001b[0m \u001b[0mx\u001b[0m\u001b[1;33m,\u001b[0m \u001b[0mnu\u001b[0m\u001b[1;33m,\u001b[0m\u001b[0mgp\u001b[0m \u001b[1;33m,\u001b[0m \u001b[1;33m*\u001b[0m\u001b[0margs\u001b[0m\u001b[1;33m)\u001b[0m\u001b[1;33m\u001b[0m\u001b[1;33m\u001b[0m\u001b[0m\n\u001b[0;32m      8\u001b[0m     \u001b[0my_numEuler\u001b[0m \u001b[1;33m=\u001b[0m \u001b[0mnumSolvers\u001b[0m\u001b[1;33m.\u001b[0m\u001b[0mIVEuler\u001b[0m\u001b[1;33m(\u001b[0m\u001b[0mfunc\u001b[0m\u001b[1;33m,\u001b[0m \u001b[0minitvals\u001b[0m\u001b[1;33m,\u001b[0m \u001b[0mxs\u001b[0m\u001b[1;33m)\u001b[0m\u001b[1;33m\u001b[0m\u001b[1;33m\u001b[0m\u001b[0m\n\u001b[1;32m----> 9\u001b[1;33m     \u001b[0my_numRG4\u001b[0m \u001b[1;33m=\u001b[0m \u001b[0mnumSolvers\u001b[0m\u001b[1;33m.\u001b[0m\u001b[0mRungeKutta4\u001b[0m\u001b[1;33m(\u001b[0m\u001b[0mfunc\u001b[0m\u001b[1;33m,\u001b[0m \u001b[0minitvals\u001b[0m\u001b[1;33m,\u001b[0m \u001b[0mxs\u001b[0m\u001b[1;33m)\u001b[0m\u001b[1;33m\u001b[0m\u001b[1;33m\u001b[0m\u001b[0m\n\u001b[0m\u001b[0;32m     10\u001b[0m     \u001b[0my_retro2\u001b[0m \u001b[1;33m=\u001b[0m \u001b[0mnumSolvers\u001b[0m\u001b[1;33m.\u001b[0m\u001b[0mIVRetorgrad2\u001b[0m\u001b[1;33m(\u001b[0m\u001b[0mfunc\u001b[0m\u001b[1;33m,\u001b[0m \u001b[0minitvals\u001b[0m\u001b[1;33m,\u001b[0m \u001b[0mxs\u001b[0m\u001b[1;33m)\u001b[0m\u001b[1;33m\u001b[0m\u001b[1;33m\u001b[0m\u001b[0m\n\u001b[0;32m     11\u001b[0m     \u001b[0mretro2_div\u001b[0m \u001b[1;33m=\u001b[0m \u001b[0my_retro2\u001b[0m\u001b[1;33m[\u001b[0m\u001b[0my_retro2\u001b[0m\u001b[1;33m[\u001b[0m\u001b[1;33m:\u001b[0m\u001b[1;33m,\u001b[0m \u001b[1;36m1\u001b[0m\u001b[1;33m]\u001b[0m \u001b[1;33m<\u001b[0m \u001b[1;36m1.0e10\u001b[0m\u001b[1;33m]\u001b[0m\u001b[1;33m[\u001b[0m\u001b[1;33m-\u001b[0m\u001b[1;36m1\u001b[0m\u001b[1;33m,\u001b[0m \u001b[1;36m0\u001b[0m\u001b[1;33m]\u001b[0m\u001b[1;33m\u001b[0m\u001b[1;33m\u001b[0m\u001b[0m\n",
      "\u001b[1;32m~\\PycharmProjects\\flows1d\\numSolvers.py\u001b[0m in \u001b[0;36mRungeKutta4\u001b[1;34m(fun, x0, tvec)\u001b[0m\n\u001b[0;32m    228\u001b[0m             \u001b[0mk1\u001b[0m \u001b[1;33m=\u001b[0m \u001b[0mh\u001b[0m \u001b[1;33m*\u001b[0m \u001b[0mfun\u001b[0m\u001b[1;33m(\u001b[0m\u001b[0mx\u001b[0m\u001b[1;33m,\u001b[0m \u001b[0mt\u001b[0m\u001b[1;33m)\u001b[0m\u001b[1;33m\u001b[0m\u001b[1;33m\u001b[0m\u001b[0m\n\u001b[0;32m    229\u001b[0m             \u001b[0mk2\u001b[0m \u001b[1;33m=\u001b[0m \u001b[0mh\u001b[0m \u001b[1;33m*\u001b[0m \u001b[0mfun\u001b[0m\u001b[1;33m(\u001b[0m\u001b[0mx\u001b[0m \u001b[1;33m+\u001b[0m \u001b[0mk1\u001b[0m \u001b[1;33m/\u001b[0m \u001b[1;36m2.0\u001b[0m\u001b[1;33m,\u001b[0m \u001b[0mt\u001b[0m \u001b[1;33m+\u001b[0m \u001b[0mh\u001b[0m \u001b[1;33m/\u001b[0m \u001b[1;36m2.0\u001b[0m\u001b[1;33m)\u001b[0m\u001b[1;33m\u001b[0m\u001b[1;33m\u001b[0m\u001b[0m\n\u001b[1;32m--> 230\u001b[1;33m             \u001b[0mk3\u001b[0m \u001b[1;33m=\u001b[0m \u001b[0mh\u001b[0m \u001b[1;33m*\u001b[0m \u001b[0mfun\u001b[0m\u001b[1;33m(\u001b[0m\u001b[0mx\u001b[0m \u001b[1;33m+\u001b[0m \u001b[0mk2\u001b[0m \u001b[1;33m/\u001b[0m \u001b[1;36m2.0\u001b[0m\u001b[1;33m,\u001b[0m \u001b[0mt\u001b[0m \u001b[1;33m+\u001b[0m \u001b[0mh\u001b[0m \u001b[1;33m/\u001b[0m \u001b[1;36m2.0\u001b[0m\u001b[1;33m)\u001b[0m\u001b[1;33m\u001b[0m\u001b[1;33m\u001b[0m\u001b[0m\n\u001b[0m\u001b[0;32m    231\u001b[0m             \u001b[0mk4\u001b[0m \u001b[1;33m=\u001b[0m \u001b[0mh\u001b[0m \u001b[1;33m*\u001b[0m \u001b[0mfun\u001b[0m\u001b[1;33m(\u001b[0m\u001b[0mx\u001b[0m \u001b[1;33m+\u001b[0m \u001b[0mk3\u001b[0m \u001b[1;33m,\u001b[0m \u001b[0mt\u001b[0m \u001b[1;33m+\u001b[0m \u001b[0mh\u001b[0m \u001b[1;33m)\u001b[0m\u001b[1;33m\u001b[0m\u001b[1;33m\u001b[0m\u001b[0m\n\u001b[0;32m    232\u001b[0m             \u001b[0mx\u001b[0m \u001b[1;33m=\u001b[0m \u001b[0mx\u001b[0m \u001b[1;33m+\u001b[0m \u001b[1;33m(\u001b[0m\u001b[0mk1\u001b[0m \u001b[1;33m+\u001b[0m \u001b[1;36m2.0\u001b[0m \u001b[1;33m*\u001b[0m \u001b[0mk2\u001b[0m \u001b[1;33m+\u001b[0m \u001b[1;36m2.0\u001b[0m \u001b[1;33m*\u001b[0m \u001b[0mk3\u001b[0m \u001b[1;33m+\u001b[0m \u001b[0mk4\u001b[0m\u001b[1;33m)\u001b[0m \u001b[1;33m/\u001b[0m \u001b[1;36m6.0\u001b[0m\u001b[1;33m\u001b[0m\u001b[1;33m\u001b[0m\u001b[0m\n",
      "\u001b[1;32m<ipython-input-24-57bda18d418c>\u001b[0m in \u001b[0;36m<lambda>\u001b[1;34m(v, x)\u001b[0m\n\u001b[0;32m      5\u001b[0m     \u001b[0minitvals\u001b[0m \u001b[1;33m=\u001b[0m \u001b[0mnp\u001b[0m\u001b[1;33m.\u001b[0m\u001b[0marray\u001b[0m\u001b[1;33m(\u001b[0m\u001b[1;33m[\u001b[0m\u001b[0mv0\u001b[0m\u001b[1;33m]\u001b[0m\u001b[1;33m)\u001b[0m  \u001b[1;31m# [v0, v'0]  [m/s , 1/s]\u001b[0m\u001b[1;33m\u001b[0m\u001b[1;33m\u001b[0m\u001b[0m\n\u001b[0;32m      6\u001b[0m \u001b[1;33m\u001b[0m\u001b[0m\n\u001b[1;32m----> 7\u001b[1;33m     \u001b[0mfunc\u001b[0m \u001b[1;33m=\u001b[0m \u001b[1;32mlambda\u001b[0m \u001b[0mv\u001b[0m\u001b[1;33m,\u001b[0m \u001b[0mx\u001b[0m\u001b[1;33m:\u001b[0m \u001b[0mdiffModel\u001b[0m\u001b[1;33m(\u001b[0m\u001b[0mv\u001b[0m\u001b[1;33m,\u001b[0m \u001b[0mx\u001b[0m\u001b[1;33m,\u001b[0m \u001b[0mnu\u001b[0m\u001b[1;33m,\u001b[0m\u001b[0mgp\u001b[0m \u001b[1;33m,\u001b[0m \u001b[1;33m*\u001b[0m\u001b[0margs\u001b[0m\u001b[1;33m)\u001b[0m\u001b[1;33m\u001b[0m\u001b[1;33m\u001b[0m\u001b[0m\n\u001b[0m\u001b[0;32m      8\u001b[0m     \u001b[0my_numEuler\u001b[0m \u001b[1;33m=\u001b[0m \u001b[0mnumSolvers\u001b[0m\u001b[1;33m.\u001b[0m\u001b[0mIVEuler\u001b[0m\u001b[1;33m(\u001b[0m\u001b[0mfunc\u001b[0m\u001b[1;33m,\u001b[0m \u001b[0minitvals\u001b[0m\u001b[1;33m,\u001b[0m \u001b[0mxs\u001b[0m\u001b[1;33m)\u001b[0m\u001b[1;33m\u001b[0m\u001b[1;33m\u001b[0m\u001b[0m\n\u001b[0;32m      9\u001b[0m     \u001b[0my_numRG4\u001b[0m \u001b[1;33m=\u001b[0m \u001b[0mnumSolvers\u001b[0m\u001b[1;33m.\u001b[0m\u001b[0mRungeKutta4\u001b[0m\u001b[1;33m(\u001b[0m\u001b[0mfunc\u001b[0m\u001b[1;33m,\u001b[0m \u001b[0minitvals\u001b[0m\u001b[1;33m,\u001b[0m \u001b[0mxs\u001b[0m\u001b[1;33m)\u001b[0m\u001b[1;33m\u001b[0m\u001b[1;33m\u001b[0m\u001b[0m\n",
      "\u001b[1;32m<ipython-input-23-e6de34beaeea>\u001b[0m in \u001b[0;36mdiffModelP5\u001b[1;34m(v, x, nu, gp, C0)\u001b[0m\n\u001b[0;32m      5\u001b[0m     \u001b[1;33m:\u001b[0m\u001b[1;32mreturn\u001b[0m\u001b[1;33m:\u001b[0m \u001b[0mv\u001b[0m\u001b[0;31m'\u001b[0m\u001b[1;33m\u001b[0m\u001b[1;33m\u001b[0m\u001b[0m\n\u001b[0;32m      6\u001b[0m     \"\"\"\n\u001b[1;32m----> 7\u001b[1;33m     \u001b[0mdvdx\u001b[0m \u001b[1;33m=\u001b[0m \u001b[1;36m1\u001b[0m \u001b[1;33m/\u001b[0m \u001b[0mnu\u001b[0m \u001b[1;33m*\u001b[0m \u001b[1;33m(\u001b[0m\u001b[0mmath\u001b[0m\u001b[1;33m.\u001b[0m\u001b[0mpow\u001b[0m\u001b[1;33m(\u001b[0m\u001b[0mv\u001b[0m\u001b[1;33m,\u001b[0m\u001b[1;36m2.0\u001b[0m\u001b[1;33m)\u001b[0m\u001b[1;33m/\u001b[0m \u001b[1;36m2.0\u001b[0m \u001b[1;33m+\u001b[0m \u001b[0mC0\u001b[0m \u001b[1;33m-\u001b[0m \u001b[0mgp\u001b[0m \u001b[1;33m*\u001b[0m \u001b[0mx\u001b[0m\u001b[1;33m)\u001b[0m\u001b[1;33m\u001b[0m\u001b[1;33m\u001b[0m\u001b[0m\n\u001b[0m\u001b[0;32m      8\u001b[0m     \u001b[1;32mreturn\u001b[0m \u001b[0mnp\u001b[0m\u001b[1;33m.\u001b[0m\u001b[0marray\u001b[0m\u001b[1;33m(\u001b[0m\u001b[1;33m[\u001b[0m\u001b[0mdvdx\u001b[0m\u001b[1;33m]\u001b[0m\u001b[1;33m)\u001b[0m\u001b[1;33m\u001b[0m\u001b[1;33m\u001b[0m\u001b[0m\n\u001b[0;32m      9\u001b[0m \u001b[1;33m\u001b[0m\u001b[0m\n",
      "\u001b[1;31mOverflowError\u001b[0m: math range error"
     ]
    }
   ],
   "source": [
    "[divergentX, retro2_div, y_retro2, y_scipy, y_bdf] = evaluateDEq(diffModelP5, nu , gp, xs, v0 , dvdx0, C0 )"
   ]
  },
  {
   "cell_type": "code",
   "execution_count": null,
   "metadata": {},
   "outputs": [],
   "source": [
    "y_bdf.y.transpose()"
   ]
  },
  {
   "cell_type": "code",
   "execution_count": null,
   "metadata": {},
   "outputs": [],
   "source": [
    "divergentX"
   ]
  },
  {
   "cell_type": "code",
   "execution_count": null,
   "metadata": {},
   "outputs": [],
   "source": [
    "xs.max()"
   ]
  },
  {
   "cell_type": "markdown",
   "metadata": {},
   "source": [
    "## Absolute trick to get a convergent solution"
   ]
  },
  {
   "cell_type": "code",
   "execution_count": 27,
   "metadata": {},
   "outputs": [],
   "source": [
    "def diffModelP4B(y, x, gp, nu):\n",
    "    \"\"\" 0 = yy' - gp - nu * v''   diffequation , gp is the pressure gradient/density, y is speed\n",
    "    :param v: speed\n",
    "    :param x: spatial coordinate\n",
    "    :param gp: -1 * pressure gradient/ Density . gp = - 1/D * dp/dx\n",
    "    :param nu: kinematic viscosity, mu/density\n",
    "    :return: v' vector\n",
    "    \"\"\"\n",
    "    v, w = y # w = v' the new auxiliary variable\n",
    "    wabs = math.fabs(w) # absolute value of w= v'\n",
    "    dvdx = wabs # abs(w)\n",
    "    dwdx = (v * wabs / nu - gp / nu)\n",
    "    return np.array([dvdx, dwdx ])"
   ]
  },
  {
   "cell_type": "markdown",
   "metadata": {},
   "source": [
    "if nu = 0, the equation can be solved analytically:"
   ]
  },
  {
   "cell_type": "code",
   "execution_count": 28,
   "metadata": {},
   "outputs": [],
   "source": [
    "def analNu0(x,v0,gp):\n",
    "    ''' analytical solution of vv'= gp equation, when\n",
    "    :param v0: initial value of v\n",
    "    '''\n",
    "    out = math.sqrt(gp * x + v0**2)\n",
    "    return out"
   ]
  },
  {
   "cell_type": "code",
   "execution_count": 29,
   "metadata": {},
   "outputs": [
    {
     "name": "stdout",
     "output_type": "stream",
     "text": [
      " gp parameter 200.0 kin viscosity 2.0000000000000002e-07\n"
     ]
    }
   ],
   "source": [
    "L = 0.1 #meter\n",
    "xs = np.linspace(0,L, 100) # meter\n",
    "DeltaP = 1e4 # 0.1bar\n",
    "D = 500 # kg/m^3\n",
    "gp = DeltaP /  L / D\n",
    "mu = 100e-6 # Pa sec\n",
    "#mu = 50 # fake value\n",
    "nu = mu /D\n",
    "print(' gp parameter {} kin viscosity {}'.format(gp, nu))\n",
    "v0 = 5.0\n",
    "# dvdx0 = 1.0 / (2. * gp * v0)\n",
    "dvdx0 = gp/v0\n",
    "initvals = np.array([v0 , dvdx0]) # [v0, v'0]  [m/s , 1/s]"
   ]
  },
  {
   "cell_type": "code",
   "execution_count": 30,
   "metadata": {},
   "outputs": [],
   "source": [
    "funcrev = lambda t, v: diffModelP4B(v, t, gp, nu)\n",
    "nu2 = 0.01\n",
    "funcrevB = lambda t, v: diffModelP4B(v, t, gp , nu2 )"
   ]
  },
  {
   "cell_type": "markdown",
   "metadata": {},
   "source": [
    "using variable stepsize implicit Backward Differentials method, that is suggested for stiff problems:"
   ]
  },
  {
   "cell_type": "code",
   "execution_count": 31,
   "metadata": {},
   "outputs": [],
   "source": [
    "y_scipyBDF = scipy.integrate.solve_ivp(funcrev, [0.0, L], initvals,\n",
    "                                        method='BDF')\n"
   ]
  },
  {
   "cell_type": "markdown",
   "metadata": {},
   "source": [
    "with nu= 0, the above dvdx0 is too high, that would lead to a divergence"
   ]
  },
  {
   "cell_type": "code",
   "execution_count": 45,
   "metadata": {},
   "outputs": [],
   "source": [
    "y_scipyBDF_B = scipy.integrate.solve_ivp(funcrevB, [0.0, L], [v0, 0.0],\n",
    "                                        method='BDF')"
   ]
  },
  {
   "cell_type": "code",
   "execution_count": 46,
   "metadata": {},
   "outputs": [],
   "source": [
    "vBDF = np.hstack( ( y_scipyBDF.t.reshape((-1,1)) , y_scipyBDF.y.transpose()  ) )\n",
    "vBDF2 = np.hstack( ( y_scipyBDF_B.t.reshape((-1,1)) , y_scipyBDF_B.y.transpose()  ) )"
   ]
  },
  {
   "cell_type": "code",
   "execution_count": 47,
   "metadata": {},
   "outputs": [],
   "source": [
    "analsolNu0 = np.array( [analNu0(x, initvals[0], gp) for x in xs ] )"
   ]
  },
  {
   "cell_type": "code",
   "execution_count": 50,
   "metadata": {},
   "outputs": [
    {
     "data": {
      "text/plain": [
       "<matplotlib.legend.Legend at 0x27b16acfb08>"
      ]
     },
     "execution_count": 50,
     "metadata": {},
     "output_type": "execute_result"
    },
    {
     "data": {
      "image/png": "[encoded data removed]",
      "text/plain": [
       "<Figure size 792x576 with 1 Axes>"
      ]
     },
     "metadata": {
      "needs_background": "light"
     },
     "output_type": "display_data"
    }
   ],
   "source": [
    "plt.figure(figsize= [11,8])\n",
    "#plt.subplot(211)\n",
    "plt.plot(y_scipyBDF.t, y_scipyBDF.y[0,:])\n",
    "plt.plot(y_scipyBDF_B.t, y_scipyBDF_B.y[0,:])\n",
    "\n",
    "# plt.plot(xsnew, y_numAdam[:,1])\n",
    "# plt.plot(y_scipyRK.t, y_scipyRK.y[0,:])\n",
    "plt.plot(xs, analsolNu0)\n",
    "plt.plot(xs, - analsolNu0 )\n",
    "plt.legend(['scipy_library BDF nu {}'.format(round(nu,10) ),\n",
    "            'BDF  nu = {}'.format(nu2),\n",
    "          #  'Adam BDF2 fixpoints',\n",
    "            'analytical solution 1. for nu= 0', 'analytical solution 2. for nu= 0'])\n",
    "#plt.subplot(212)\n",
    "\n",
    "plt.legend(['BDF  nu = {}'.format(nu2)])\n"
   ]
  },
  {
   "cell_type": "code",
   "execution_count": 52,
   "metadata": {},
   "outputs": [
    {
     "data": {
      "text/plain": [
       "array([[0.00000000e+00, 5.00000000e+00, 4.00000000e+01],\n",
       "       [2.65918119e-07, 5.00001064e+00, 3.99998964e+01],\n",
       "       [5.31836238e-07, 5.00002127e+00, 3.99998189e+01],\n",
       "       [3.19101743e-06, 5.00012764e+00, 3.99989659e+01],\n",
       "       [5.85019861e-06, 5.00023400e+00, 3.99981153e+01],\n",
       "       [3.24420105e-05, 5.00129743e+00, 3.99896104e+01],\n",
       "       [5.90338224e-05, 5.00236064e+00, 3.99811110e+01],\n",
       "       [3.24951941e-04, 5.01297342e+00, 3.98964686e+01],\n",
       "       [5.90870060e-04, 5.02356429e+00, 3.98123573e+01],\n",
       "       [3.25005125e-03, 5.12762573e+00, 3.90043649e+01],\n",
       "       [5.90923244e-03, 5.22969032e+00, 3.82430443e+01],\n",
       "       [1.21108980e-02, 5.46132619e+00, 3.66214338e+01],\n",
       "       [1.83125635e-02, 5.68396325e+00, 3.51874639e+01],\n",
       "       [2.45142291e-02, 5.89828959e+00, 3.39079344e+01],\n",
       "       [3.83851852e-02, 6.35134565e+00, 3.14902175e+01],\n",
       "       [5.22561413e-02, 6.77383214e+00, 2.95253809e+01],\n",
       "       [6.61270973e-02, 7.17144707e+00, 2.78880803e+01],\n",
       "       [7.99980534e-02, 7.54825806e+00, 2.64955711e+01],\n",
       "       [9.93470599e-02, 8.04435413e+00, 2.48625214e+01],\n",
       "       [1.00000000e-01, 8.06057760e+00, 2.48121079e+01]])"
      ]
     },
     "execution_count": 52,
     "metadata": {},
     "output_type": "execute_result"
    }
   ],
   "source": [
    "vBDF"
   ]
  },
  {
   "cell_type": "code",
   "execution_count": null,
   "metadata": {},
   "outputs": [],
   "source": []
  }
 ],
 "metadata": {
  "kernelspec": {
   "display_name": "Python 3",
   "language": "python",
   "name": "python3"
  },
  "language_info": {
   "codemirror_mode": {
    "name": "ipython",
    "version": 3
   },
   "file_extension": ".py",
   "mimetype": "text/x-python",
   "name": "python",
   "nbconvert_exporter": "python",
   "pygments_lexer": "ipython3",
   "version": "3.7.6"
  }
 },
 "nbformat": 4,
 "nbformat_minor": 4
}
