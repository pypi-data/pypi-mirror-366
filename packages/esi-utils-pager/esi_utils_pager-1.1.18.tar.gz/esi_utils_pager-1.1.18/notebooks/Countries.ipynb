{
 "cells": [
  {
   "cell_type": "code",
   "execution_count": 1,
   "metadata": {},
   "outputs": [],
   "source": [
    "from esi_utils_pager.country import Country"
   ]
  },
  {
   "cell_type": "markdown",
   "metadata": {},
   "source": [
    "The Country() object contains everything we know about ISO country codes, which are described here:\n",
    "\n",
    "https://en.wikipedia.org/wiki/ISO_3166-1\n",
    "\n",
    "This object allows the user to obtain a dictionary for a country containing:\n",
    "\n",
    " * Name - Country name\n",
    " * LongName - Country long name (may be identical to country name)\n",
    " * ISO2 - Two letter country code.\n",
    " * ISO3 - Three letter country code.\n",
    " * ISON - Numeric country code\n",
    " \n",
    "All of the country codes embedded in this object come from the ISO 3166 standard, with three PAGER specific exceptions:\n",
    "\n",
    "<table>\n",
    "  <tr>\n",
    "    <th>Name</th>\n",
    "    <th>ISO2</th>\n",
    "    <th>ISO3</th>\n",
    "    <th>ISON</th>\n",
    "    <th>LongName</th>\n",
    "  </tr>\n",
    "  <tr>\n",
    "    <td>California</td>\n",
    "    <td>XF</td>\n",
    "    <td>XFA</td>\n",
    "    <td>902</td>\n",
    "    <td>U.S. Earthquake Region California</td>\n",
    "  </tr>\n",
    "  <tr>\n",
    "    <td>Eastern U.S.</td>\n",
    "    <td>EU</td>\n",
    "    <td>EUS</td>\n",
    "    <td>903</td>\n",
    "    <td>U.S. Earthquake Region Central/Eastern United States</td>\n",
    "  </tr>\n",
    "  <tr>\n",
    "    <td>Western U.S.</td>\n",
    "    <td>WU</td>\n",
    "    <td>WUS</td>\n",
    "    <td>904</td>\n",
    "    <td>U.S. Earthquake Region Western United States</td>\n",
    "  </tr>\n",
    "</table>"
   ]
  },
  {
   "cell_type": "markdown",
   "metadata": {},
   "source": [
    "You can get country information by using two letter ISO codes..."
   ]
  },
  {
   "cell_type": "code",
   "execution_count": 2,
   "metadata": {},
   "outputs": [
    {
     "name": "stdout",
     "output_type": "stream",
     "text": [
      "{'LongName': 'United States', 'ISO2': 'US', 'ISO3': 'USA', 'ISON': 840, 'Name': 'United States', 'Population': 324515000.0}\n"
     ]
    }
   ],
   "source": [
    "country = Country()\n",
    "print(country.getCountry('US'))"
   ]
  },
  {
   "cell_type": "markdown",
   "metadata": {},
   "source": [
    "... three letter ISO codes ..."
   ]
  },
  {
   "cell_type": "code",
   "execution_count": 3,
   "metadata": {},
   "outputs": [
    {
     "name": "stdout",
     "output_type": "stream",
     "text": [
      "{'LongName': 'United Kingdom', 'ISO2': 'GB', 'ISO3': 'GBR', 'ISON': 826, 'Name': 'United Kingdom', 'Population': 65110000.0}\n"
     ]
    }
   ],
   "source": [
    "print(country.getCountry('GBR'))"
   ]
  },
  {
   "cell_type": "markdown",
   "metadata": {},
   "source": [
    "... numeric country codes ... "
   ]
  },
  {
   "cell_type": "code",
   "execution_count": 4,
   "metadata": {},
   "outputs": [
    {
     "name": "stdout",
     "output_type": "stream",
     "text": [
      "{'LongName': 'India', 'ISO2': 'IN', 'ISO3': 'IND', 'ISON': 356, 'Name': 'India', 'Population': 1298120000.0}\n"
     ]
    }
   ],
   "source": [
    "print(country.getCountry(356))"
   ]
  },
  {
   "cell_type": "markdown",
   "metadata": {},
   "source": [
    "... or the country name, with a big *caveat*."
   ]
  },
  {
   "cell_type": "code",
   "execution_count": 5,
   "metadata": {},
   "outputs": [
    {
     "name": "stdout",
     "output_type": "stream",
     "text": [
      "{'LongName': 'Indonesia', 'ISO2': 'ID', 'ISO3': 'IDN', 'ISON': 360, 'Name': 'Indonesia', 'Population': 260581000.0}\n"
     ]
    }
   ],
   "source": [
    "print(country.getCountry('indonesia'))"
   ]
  },
  {
   "cell_type": "markdown",
   "metadata": {},
   "source": [
    "Searching by country name uses a regular expression search, so it may not always return what you expect.  For example, there are four countries with \"guinea\" in the name: Equatorial Guinea, Guinea, Guinea-Bissau, and Papua New Guinea."
   ]
  },
  {
   "cell_type": "code",
   "execution_count": 6,
   "metadata": {},
   "outputs": [
    {
     "name": "stdout",
     "output_type": "stream",
     "text": [
      "{'LongName': 'Equatorial Guinea', 'ISO2': 'GQ', 'ISO3': 'GNQ', 'ISON': 226, 'Name': 'Equatorial Guinea', 'Population': 1222442.0}\n"
     ]
    }
   ],
   "source": [
    "print(country.getCountry('guinea'))"
   ]
  },
  {
   "cell_type": "code",
   "execution_count": 7,
   "metadata": {},
   "outputs": [
    {
     "name": "stdout",
     "output_type": "stream",
     "text": [
      "{'LongName': 'Papua New Guinea', 'ISO2': 'PG', 'ISO3': 'PNG', 'ISON': 598, 'Name': 'Papua New Guinea', 'Population': 8083700.0}\n"
     ]
    }
   ],
   "source": [
    "print(country.getCountry('papua new guinea'))"
   ]
  },
  {
   "cell_type": "markdown",
   "metadata": {
    "collapsed": true
   },
   "source": [
    "For modeling purposes, we have split the United States into three \"countries\": California, Western U.S, and Eastern U.S."
   ]
  },
  {
   "cell_type": "code",
   "execution_count": 8,
   "metadata": {},
   "outputs": [
    {
     "name": "stdout",
     "output_type": "stream",
     "text": [
      "{'LongName': 'U.S. Earthquake Region California', 'ISO2': 'XF', 'ISO3': 'XFA', 'ISON': 902, 'Name': 'California', 'Population': nan}\n"
     ]
    }
   ],
   "source": [
    "print(country.getCountry('XF'))"
   ]
  },
  {
   "cell_type": "code",
   "execution_count": 9,
   "metadata": {},
   "outputs": [
    {
     "name": "stdout",
     "output_type": "stream",
     "text": [
      "{'LongName': 'U.S. Earthquake Region Western United States', 'ISO2': 'WU', 'ISO3': 'WUS', 'ISON': 904, 'Name': 'Western U.S.', 'Population': nan}\n"
     ]
    }
   ],
   "source": [
    "print(country.getCountry('WU'))"
   ]
  },
  {
   "cell_type": "code",
   "execution_count": 10,
   "metadata": {},
   "outputs": [
    {
     "name": "stdout",
     "output_type": "stream",
     "text": [
      "{'LongName': 'U.S. Earthquake Region Central/Eastern United States', 'ISO2': 'EU', 'ISO3': 'EUS', 'ISON': 903, 'Name': 'Eastern U.S.', 'Population': nan}\n"
     ]
    }
   ],
   "source": [
    "print(country.getCountry('EU'))"
   ]
  },
  {
   "cell_type": "code",
   "execution_count": null,
   "metadata": {},
   "outputs": [],
   "source": []
  }
 ],
 "metadata": {
  "kernelspec": {
   "display_name": "Python 3 (ipykernel)",
   "language": "python",
   "name": "python3"
  },
  "language_info": {
   "codemirror_mode": {
    "name": "ipython",
    "version": 3
   },
   "file_extension": ".py",
   "mimetype": "text/x-python",
   "name": "python",
   "nbconvert_exporter": "python",
   "pygments_lexer": "ipython3",
   "version": "3.9.15"
  }
 },
 "nbformat": 4,
 "nbformat_minor": 1
}
